{
 "cells": [
  {
   "attachments": {
    "90f7a73e-9d87-4140-81fa-8b14c8522a5a.png": {
     "image/png": "[encoded data removed]"
    }
   },
   "cell_type": "markdown",
   "id": "66f9f2b8",
   "metadata": {
    "papermill": {
     "duration": 0.010821,
     "end_time": "2024-03-28T10:56:18.995419",
     "exception": false,
     "start_time": "2024-03-28T10:56:18.984598",
     "status": "completed"
    },
    "tags": []
   },
   "source": [
    "## The Chi-Square Test for Independence\n",
    "The chi-square test for independence is a **statistical** method employed to investigate the presence of a **relationship** between **two categorical variables**. This test assesses whether the **observed distribution** of data significantly deviates from what would be **expected** if the variables were **independent**. By comparing the observed and expected frequencies in a **contingency table**, the chi-square test helps researchers determine if there is a statistically significant association between the two categorical variables. The null hypothesis assumes independence, while a rejection of the null suggests that a relationship exists. This test is widely utilized in various fields, such as **medicine**, **sociology**, and **market research**, providing a valuable tool for understanding the interdependence of categorical variables and guiding further analyses or targeted interventions.  \n",
    "  \n",
    "  ![image.png](attachment:90f7a73e-9d87-4140-81fa-8b14c8522a5a.png)"
   ]
  },
  {
   "cell_type": "markdown",
   "id": "e87e3090",
   "metadata": {
    "papermill": {
     "duration": 0.008094,
     "end_time": "2024-03-28T10:56:19.013136",
     "exception": false,
     "start_time": "2024-03-28T10:56:19.005042",
     "status": "completed"
    },
    "tags": []
   },
   "source": [
    "### Read data \n",
    "The \"BCSprep.csv\" file is a preprocessed dataset derived from the \"Breast Cancer Survival.sav\" dataset. This CSV file contains processed data related to breast cancer survival."
   ]
  },
  {
   "cell_type": "code",
   "execution_count": 1,
   "id": "e1665d0f",
   "metadata": {
    "execution": {
     "iopub.execute_input": "2024-03-28T10:56:19.033429Z",
     "iopub.status.busy": "2024-03-28T10:56:19.032441Z",
     "iopub.status.idle": "2024-03-28T10:56:20.149547Z",
     "shell.execute_reply": "2024-03-28T10:56:20.148267Z"
    },
    "papermill": {
     "duration": 1.131123,
     "end_time": "2024-03-28T10:56:20.152610",
     "exception": false,
     "start_time": "2024-03-28T10:56:19.021487",
     "status": "completed"
    },
    "tags": []
   },
   "outputs": [],
   "source": [
    "import pandas as pd\n",
    "\n",
    "# Assuming your CSV file is named 'your_dataset.csv'\n",
    "df = pd.read_csv('/kaggle/input/breast-cancer-survival-preprocessed/BCSprep.csv')"
   ]
  },
  {
   "cell_type": "markdown",
   "id": "2b74f6a7",
   "metadata": {
    "papermill": {
     "duration": 0.007774,
     "end_time": "2024-03-28T10:56:20.168473",
     "exception": false,
     "start_time": "2024-03-28T10:56:20.160699",
     "status": "completed"
    },
    "tags": []
   },
   "source": [
    "## Apply Chi-Square Test \n",
    "\n",
    "The following Python code utilizes the pandas and scipy.stats libraries to perform a chi-square test for independence, examining the relationship between two categorical variables. The initial step involves creating a **contingency table** using the `pd.crosstab` function, which showcases the frequency distribution of the variables 'lnpos_YN' and 'status'. The contingency table is then displayed, providing an overview of the observed frequencies. Following this, **row percentages** are calculated to offer insights into the relative proportions of each category within the rows. The chi-square test is conducted using `chi2_contingency`, providing the **chi-squared value**, **p-value**, and **degrees of freedom**. These statistical outputs help assess whether there is a significant association between the two categorical variables, aiding in the exploration and interpretation of their relationship.\n"
   ]
  },
  {
   "cell_type": "code",
   "execution_count": 2,
   "id": "a2b2ca12",
   "metadata": {
    "execution": {
     "iopub.execute_input": "2024-03-28T10:56:20.186577Z",
     "iopub.status.busy": "2024-03-28T10:56:20.186097Z",
     "iopub.status.idle": "2024-03-28T10:56:21.407974Z",
     "shell.execute_reply": "2024-03-28T10:56:21.406683Z"
    },
    "papermill": {
     "duration": 1.234534,
     "end_time": "2024-03-28T10:56:21.410941",
     "exception": false,
     "start_time": "2024-03-28T10:56:20.176407",
     "status": "completed"
    },
    "tags": []
   },
   "outputs": [
    {
     "name": "stdout",
     "output_type": "stream",
     "text": [
      "Contingency Table with Frequencies:\n",
      "status    0.0  1.0\n",
      "lnpos_YN          \n",
      "No        887   42\n",
      "Yes       248   30\n",
      "############################################################\n",
      "\n",
      "Row Percentages:\n",
      "status          0.0        1.0\n",
      "lnpos_YN                      \n",
      "No        95.479010   4.520990\n",
      "Yes       89.208633  10.791367\n",
      "############################################################\n",
      "\n",
      "Chi-squared value: 13.900758213995182\n",
      "P-value: 0.00019272070767964805\n",
      "Degrees of freedom: 1\n"
     ]
    }
   ],
   "source": [
    "import pandas as pd\n",
    "from scipy.stats import chi2_contingency\n",
    "\n",
    "# Create a contingency table\n",
    "contingency_table = pd.crosstab(df['lnpos_YN'], df['status'])\n",
    "\n",
    "print(\"Contingency Table with Frequencies:\")\n",
    "print(contingency_table)\n",
    "print(\"#\"*60)\n",
    "\n",
    "# Calculate row percentages\n",
    "row_percentages = contingency_table.div(contingency_table.sum(axis=1), axis=0) * 100\n",
    "\n",
    "print(\"\\nRow Percentages:\")\n",
    "print(row_percentages)\n",
    "print(\"#\"*60) \n",
    "\n",
    "# Perform chi-square test\n",
    "chi2, p, dof, expected = chi2_contingency(contingency_table)\n",
    "\n",
    "print(f\"\\nChi-squared value: {chi2}\")\n",
    "print(f\"P-value: {p}\")\n",
    "print(f\"Degrees of freedom: {dof}\")\n"
   ]
  },
  {
   "cell_type": "markdown",
   "id": "81ce56ef",
   "metadata": {
    "papermill": {
     "duration": 0.007903,
     "end_time": "2024-03-28T10:56:21.427268",
     "exception": false,
     "start_time": "2024-03-28T10:56:21.419365",
     "status": "completed"
    },
    "tags": []
   },
   "source": [
    "### Evaluate the Reliability of Chi-Square Independence Test\n",
    "In the context of the chi-square independence test, assessing the \"**Percentage of cells with expected counts less than 5**\" serves as a critical gauge for the test's **reliability**. The chi-square test relies on the assumption that expected counts in each cell of the contingency table are sufficiently large. Specifically, when **no more than 20%** of the expected counts fall below 5, and all **individual expected** counts are **1 or greater**, it is deemed safe to use the chi-square test with critical values from the chi-square distribution. This criterion acts as a safeguard, ensuring that the test's approximation remains accurate and **trustworthy**. However, vigilance is advised when a substantial proportion of cells falls below these thresholds, prompting researchers to consider **alternative statistical methods**, such as **Fisher's Exact Test**, to uphold the integrity of the analysis."
   ]
  },
  {
   "cell_type": "code",
   "execution_count": 3,
   "id": "fc9e8f9c",
   "metadata": {
    "execution": {
     "iopub.execute_input": "2024-03-28T10:56:21.446315Z",
     "iopub.status.busy": "2024-03-28T10:56:21.445251Z",
     "iopub.status.idle": "2024-03-28T10:56:21.452459Z",
     "shell.execute_reply": "2024-03-28T10:56:21.451390Z"
    },
    "papermill": {
     "duration": 0.019329,
     "end_time": "2024-03-28T10:56:21.454760",
     "exception": false,
     "start_time": "2024-03-28T10:56:21.435431",
     "status": "completed"
    },
    "tags": []
   },
   "outputs": [
    {
     "name": "stdout",
     "output_type": "stream",
     "text": [
      "Percentage of cells with expected counts less than 5: 0.00%\n"
     ]
    }
   ],
   "source": [
    "# Calculate the percentage of cells with expected counts less than 5\n",
    "percentage_low_expected = (expected < 5).sum().sum() / (expected.shape[0] * expected.shape[1]) * 100\n",
    "\n",
    "print(f\"Percentage of cells with expected counts less than 5: {percentage_low_expected:.2f}%\")"
   ]
  },
  {
   "cell_type": "markdown",
   "id": "076ac782",
   "metadata": {
    "papermill": {
     "duration": 0.00804,
     "end_time": "2024-03-28T10:56:21.471183",
     "exception": false,
     "start_time": "2024-03-28T10:56:21.463143",
     "status": "completed"
    },
    "tags": []
   },
   "source": [
    "### Check Residuals \n",
    "In the analysis of contingency tables, residuals play a crucial role in investigating the **direction** and **magnitude** of **relationships** between two categorical variables. Residuals in this context refer to the **differences** between the **observed** and **expected** frequencies in each cell of the contingency table. These differences provide insights into whether the observed counts are **higher** or **lower** than what would be expected under the assumption of independence. **Positive residuals** suggest an overrepresentation of observations in a particular cell, indicating a potential **positive association**, while **negative residuals** signify an **underrepresentation**. By examining the pattern of residuals across the table, researchers can discern which cells contribute most to the observed association, helping to unveil the direction and strength of the relationship between the variables. This nuanced exploration enhances the **interpretability** of the chi-square test results and guides a **more detailed understanding** of the underlying categorical data dynamics."
   ]
  },
  {
   "cell_type": "code",
   "execution_count": 4,
   "id": "2db182cd",
   "metadata": {
    "execution": {
     "iopub.execute_input": "2024-03-28T10:56:21.491418Z",
     "iopub.status.busy": "2024-03-28T10:56:21.490940Z",
     "iopub.status.idle": "2024-03-28T10:56:21.500819Z",
     "shell.execute_reply": "2024-03-28T10:56:21.499539Z"
    },
    "papermill": {
     "duration": 0.022783,
     "end_time": "2024-03-28T10:56:21.503516",
     "exception": false,
     "start_time": "2024-03-28T10:56:21.480733",
     "status": "completed"
    },
    "tags": []
   },
   "outputs": [
    {
     "name": "stdout",
     "output_type": "stream",
     "text": [
      "\n",
      "Residuals (Observed - Expected):\n",
      "status          0.0        1.0\n",
      "lnpos_YN                      \n",
      "No        13.416736 -13.416736\n",
      "Yes      -13.416736  13.416736\n"
     ]
    }
   ],
   "source": [
    "# Calculate residuals (observed minus expected values)\n",
    "residuals = contingency_table - expected\n",
    "\n",
    "print(\"\\nResiduals (Observed - Expected):\")\n",
    "print(residuals)"
   ]
  },
  {
   "cell_type": "markdown",
   "id": "54a154e1",
   "metadata": {
    "papermill": {
     "duration": 0.008233,
     "end_time": "2024-03-28T10:56:21.520306",
     "exception": false,
     "start_time": "2024-03-28T10:56:21.512073",
     "status": "completed"
    },
    "tags": []
   },
   "source": [
    "### Calculate the Odds Ratio \n",
    "The **odds ratio** is a valuable measure in the context of **dependence tests**, providing a quantitative assessment of the **strength** and **direction** of the **relationship** between two categorical variables. Specifically, in the chi-square independence test, the odds ratio helps to explain how the **odds of an event occurring in one category compare to the odds in another category**. An odds ratio **greater than 1** indicates an association between the variables, with higher values signifying a stronger relationship. Conversely, an odds ratio **less than 1** suggests a negative association. The odds ratio adds a layer of granularity to dependence analyses, allowing researchers to not only discern the presence of an association but also gauge its **magnitude**. This measure is particularly valuable in fields like **epidemiology** and **social sciences**, where understanding the strength of relationships between categorical variables is crucial for drawing meaningful conclusions from observational data."
   ]
  },
  {
   "cell_type": "code",
   "execution_count": 5,
   "id": "0f1ec438",
   "metadata": {
    "execution": {
     "iopub.execute_input": "2024-03-28T10:56:21.540253Z",
     "iopub.status.busy": "2024-03-28T10:56:21.539834Z",
     "iopub.status.idle": "2024-03-28T10:56:21.549401Z",
     "shell.execute_reply": "2024-03-28T10:56:21.548373Z"
    },
    "papermill": {
     "duration": 0.023165,
     "end_time": "2024-03-28T10:56:21.551963",
     "exception": false,
     "start_time": "2024-03-28T10:56:21.528798",
     "status": "completed"
    },
    "tags": []
   },
   "outputs": [
    {
     "name": "stdout",
     "output_type": "stream",
     "text": [
      "status    0.0  1.0\n",
      "lnpos_YN          \n",
      "No        887   42\n",
      "Yes       248   30\n",
      "Odds ratio: 2.55\n"
     ]
    }
   ],
   "source": [
    "# Calculate odds ratio\n",
    "odds_ratio = (contingency_table.iloc[0, 0] / contingency_table.iloc[0, 1]) / (contingency_table.iloc[1, 0] / contingency_table.iloc[1, 1])\n",
    "\n",
    "print(contingency_table)\n",
    "print(f\"Odds ratio: {odds_ratio:.2f}\")"
   ]
  },
  {
   "attachments": {
    "ea9d6613-22aa-4f01-9f34-4c1099e3df16.png": {
     "image/png": "[encoded data removed]"
    }
   },
   "cell_type": "markdown",
   "id": "34dbb9e5",
   "metadata": {
    "papermill": {
     "duration": 0.008234,
     "end_time": "2024-03-28T10:56:21.568826",
     "exception": false,
     "start_time": "2024-03-28T10:56:21.560592",
     "status": "completed"
    },
    "tags": []
   },
   "source": [
    "### The Odds Ratio Confidence Interval\n",
    "The odds ratio confidence interval provides a range of **plausible values** for the **true odds ratio**, allowing for a more nuanced **interpretation** of the association between variables. When the 95% confidence interval **includes the null value of 1**, it implies that the odds of the outcome **are not significantly** different between the exposed and unexposed groups. In contrast, if the interval does not encompass 1, it suggests a statistically significant association. This comparison to the null value serves as a basis for hypothesis testing, with values crossing the null point indicating the absence of a meaningful effect, while values outside this range signify a potential impact, informing researchers about the significance and direction of the observed relationship.  \n",
    "  ![image.png](attachment:ea9d6613-22aa-4f01-9f34-4c1099e3df16.png)"
   ]
  },
  {
   "cell_type": "code",
   "execution_count": 6,
   "id": "52c043ad",
   "metadata": {
    "execution": {
     "iopub.execute_input": "2024-03-28T10:56:21.589160Z",
     "iopub.status.busy": "2024-03-28T10:56:21.588324Z",
     "iopub.status.idle": "2024-03-28T10:56:21.598184Z",
     "shell.execute_reply": "2024-03-28T10:56:21.597217Z"
    },
    "papermill": {
     "duration": 0.023111,
     "end_time": "2024-03-28T10:56:21.600965",
     "exception": false,
     "start_time": "2024-03-28T10:56:21.577854",
     "status": "completed"
    },
    "tags": []
   },
   "outputs": [],
   "source": [
    "import numpy as np\n",
    "import pandas as pd\n",
    "from scipy.stats import norm\n",
    "\n",
    "def OR_CIs(contingency_table):\n",
    "    \n",
    "    # Calculate odds ratio\n",
    "    odds_ratio = (contingency_table.iloc[0, 0] / contingency_table.iloc[0, 1]) / (contingency_table.iloc[1, 0] / contingency_table.iloc[1, 1])\n",
    "\n",
    "    # Calculate standard error of log(odds ratio)\n",
    "    log_odds_std_error = np.sqrt(contingency_table.applymap(lambda x: 1/x).sum().sum())\n",
    "\n",
    "    # Set confidence level\n",
    "    confidence_level = 0.95\n",
    "\n",
    "    # Calculate z-score for the confidence interval\n",
    "    z_score = norm.ppf(1-(1 - confidence_level) / 2)\n",
    "\n",
    "    # Calculate confidence intervals\n",
    "    ci_low = np.exp(np.log(odds_ratio) - z_score * log_odds_std_error)\n",
    "    ci_high = np.exp(np.log(odds_ratio) + z_score * log_odds_std_error)\n",
    "\n",
    "    # Print the results\n",
    "    print(f\"Odds Ratio: {odds_ratio:.2f}\")\n",
    "    print(f\"95% Confidence Interval: {ci_low:.2f}, {ci_high:.2f}\")\n",
    "    \n",
    "    return"
   ]
  },
  {
   "cell_type": "markdown",
   "id": "be759efb",
   "metadata": {
    "papermill": {
     "duration": 0.00831,
     "end_time": "2024-03-28T10:56:21.618608",
     "exception": false,
     "start_time": "2024-03-28T10:56:21.610298",
     "status": "completed"
    },
    "tags": []
   },
   "source": [
    "### The Fisher's Exact Test  \n",
    "The Fisher's Exact Test is a statistical method employed when analyzing contingency tables, particularly in cases where **sample sizes are small** or when the **assumptions of the chi-square test are not met**. This test is particularly **robust** for **2x2 tables** but can be **extended to larger tables** as well. Unlike the chi-square test, which relies on approximations based on large sample theory, the Fisher's Exact Test calculates the exact probability of observing the given table, making it highly **suitable** for situations with **limited data**. By determining the probability of obtaining the observed distribution or more extreme distributions under the assumption of independence, the Fisher's Exact Test offers a precise assessment of the association between categorical variables. This makes it particularly valuable in research areas such as **clinical trials**, **genetics**, and **rare event** studies, where sample sizes may be small, and accurate inference is paramount."
   ]
  },
  {
   "cell_type": "code",
   "execution_count": 7,
   "id": "d16c678c",
   "metadata": {
    "execution": {
     "iopub.execute_input": "2024-03-28T10:56:21.639249Z",
     "iopub.status.busy": "2024-03-28T10:56:21.637967Z",
     "iopub.status.idle": "2024-03-28T10:56:21.659018Z",
     "shell.execute_reply": "2024-03-28T10:56:21.657528Z"
    },
    "papermill": {
     "duration": 0.034247,
     "end_time": "2024-03-28T10:56:21.661933",
     "exception": false,
     "start_time": "2024-03-28T10:56:21.627686",
     "status": "completed"
    },
    "tags": []
   },
   "outputs": [
    {
     "name": "stdout",
     "output_type": "stream",
     "text": [
      "Odds ratio: 2.5547235023041477\n",
      "P-value: 0.000260301037684315\n"
     ]
    }
   ],
   "source": [
    "import pandas as pd\n",
    "from scipy.stats import fisher_exact\n",
    "\n",
    "# Create a 2x2 contingency table without margins\n",
    "contingency_table = pd.crosstab(df['lnpos_YN'], df['status'])\n",
    "\n",
    "# Perform Fisher's Exact Test\n",
    "odds_ratio, p_value = fisher_exact(contingency_table)\n",
    "\n",
    "# Print the result\n",
    "print(f\"Odds ratio: {odds_ratio}\")\n",
    "print(f\"P-value: {p_value}\")\n"
   ]
  },
  {
   "cell_type": "markdown",
   "id": "ac38f7c5",
   "metadata": {
    "papermill": {
     "duration": 0.009327,
     "end_time": "2024-03-28T10:56:21.681076",
     "exception": false,
     "start_time": "2024-03-28T10:56:21.671749",
     "status": "completed"
    },
    "tags": []
   },
   "source": [
    "### Another Example\n",
    "Now, explore the association between **'pathsize_Cat'** and **'status'** by applying the chi-square test. This analysis will generate a **3x2** contingency table, allowing for the examination of potential dependencies or independencies between the different categories within these two variables."
   ]
  },
  {
   "cell_type": "code",
   "execution_count": 8,
   "id": "6a8f4871",
   "metadata": {
    "execution": {
     "iopub.execute_input": "2024-03-28T10:56:21.700920Z",
     "iopub.status.busy": "2024-03-28T10:56:21.700369Z",
     "iopub.status.idle": "2024-03-28T10:56:21.736773Z",
     "shell.execute_reply": "2024-03-28T10:56:21.735127Z"
    },
    "papermill": {
     "duration": 0.049588,
     "end_time": "2024-03-28T10:56:21.739574",
     "exception": false,
     "start_time": "2024-03-28T10:56:21.689986",
     "status": "completed"
    },
    "tags": []
   },
   "outputs": [
    {
     "name": "stdout",
     "output_type": "stream",
     "text": [
      "Contingency Table with Frequencies:\n",
      "status        0.0  1.0\n",
      "pathsize_Cat          \n",
      "<= 2          795   31\n",
      "2 <  <= 5     250   33\n",
      "> 5            10    2\n",
      "############################################################\n",
      "\n",
      "Row Percentages:\n",
      "status              0.0        1.0\n",
      "pathsize_Cat                      \n",
      "<= 2          96.246973   3.753027\n",
      "2 <  <= 5     88.339223  11.660777\n",
      "> 5           83.333333  16.666667\n",
      "############################################################\n",
      "\n",
      "Chi-squared value: 26.331382485423475\n",
      "P-value: 1.9151947512693743e-06\n",
      "Degrees of freedom: 2\n",
      "############################################################\n",
      "Percentage of cells with expected counts less than 5: 16.67%\n",
      "############################################################\n",
      "\n",
      "Residuals (Observed - Expected):\n",
      "status              0.0        1.0\n",
      "pathsize_Cat                      \n",
      "<= 2          17.631579 -17.631579\n",
      "2 <  <= 5    -16.338091  16.338091\n",
      "> 5           -1.293488   1.293488\n",
      "############################################################\n"
     ]
    }
   ],
   "source": [
    "import pandas as pd\n",
    "from scipy.stats import chi2_contingency\n",
    "\n",
    "# Create a contingency table\n",
    "category_order = ['<= 2', '2 <  <= 5', '> 5']\n",
    "\n",
    "# Convert 'pathsize_Cat' to a categorical variable with the specified order\n",
    "df['pathsize_Cat'] = pd.Categorical(df['pathsize_Cat'], categories=category_order, ordered=True)\n",
    "\n",
    "# Create the contingency table\n",
    "contingency_table = pd.crosstab(df['pathsize_Cat'], df['status'])\n",
    "\n",
    "print(\"Contingency Table with Frequencies:\")\n",
    "print(contingency_table)\n",
    "print(\"#\"*60)\n",
    "\n",
    "# Calculate row percentages\n",
    "row_percentages = contingency_table.div(contingency_table.sum(axis=1), axis=0) * 100\n",
    "\n",
    "print(\"\\nRow Percentages:\")\n",
    "print(row_percentages)\n",
    "print(\"#\"*60) \n",
    "\n",
    "# Perform chi-square test\n",
    "chi2, p, dof, expected = chi2_contingency(contingency_table)\n",
    "\n",
    "print(f\"\\nChi-squared value: {chi2}\")\n",
    "print(f\"P-value: {p}\")\n",
    "print(f\"Degrees of freedom: {dof}\")\n",
    "print(\"#\"*60)\n",
    "\n",
    "# Calculate the percentage of cells with expected counts less than 5\n",
    "percentage_low_expected = (expected < 5).sum().sum() / (expected.shape[0] * expected.shape[1]) * 100\n",
    "\n",
    "print(f\"Percentage of cells with expected counts less than 5: {percentage_low_expected:.2f}%\")\n",
    "print(\"#\"*60)\n",
    "\n",
    "# Calculate residuals (observed minus expected values)\n",
    "residuals = contingency_table - expected\n",
    "\n",
    "print(\"\\nResiduals (Observed - Expected):\")\n",
    "print(residuals)\n",
    "print(\"#\"*60)\n"
   ]
  },
  {
   "cell_type": "markdown",
   "id": "9b3d2a05",
   "metadata": {
    "papermill": {
     "duration": 0.008564,
     "end_time": "2024-03-28T10:56:21.757374",
     "exception": false,
     "start_time": "2024-03-28T10:56:21.748810",
     "status": "completed"
    },
    "tags": []
   },
   "source": [
    "Due to **expected values** in the third row of the contingency table being **less than 5** and the **consistent sign** of residuals in the **\"2 < =<5\"** and **\">5\"** categories, indicative of a coherent direction in the relationship between 'pathsize_Cat' and 'status', a decision is made to **merge** these two categories. Consequently, a new variable is introduced to the dataset, simplifying the 'pathsize_Cat' variable into two categories: **\"<2\"** and **\">2\"**. This consolidation aids in preserving the statistical integrity of the analysis and enhances the interpretability of the relationship between the variables."
   ]
  },
  {
   "cell_type": "code",
   "execution_count": 9,
   "id": "9fc016b4",
   "metadata": {
    "execution": {
     "iopub.execute_input": "2024-03-28T10:56:21.777519Z",
     "iopub.status.busy": "2024-03-28T10:56:21.777052Z",
     "iopub.status.idle": "2024-03-28T10:56:21.792409Z",
     "shell.execute_reply": "2024-03-28T10:56:21.791053Z"
    },
    "papermill": {
     "duration": 0.028752,
     "end_time": "2024-03-28T10:56:21.795077",
     "exception": false,
     "start_time": "2024-03-28T10:56:21.766325",
     "status": "completed"
    },
    "tags": []
   },
   "outputs": [
    {
     "data": {
      "text/plain": [
       "pathsize_Cat2\n",
       "<= 2    826\n",
       "> 2     295\n",
       "Name: count, dtype: int64"
      ]
     },
     "execution_count": 9,
     "metadata": {},
     "output_type": "execute_result"
    }
   ],
   "source": [
    "# Merge two classes (e.g., merging 'Class2' and 'Class3' into a new class 'MergedClass')\n",
    "df['pathsize_Cat2'] = df['pathsize_Cat'].replace({'> 5': '> 2', '2 <  <= 5': '> 2'})\n",
    "df['pathsize_Cat2'].value_counts()"
   ]
  },
  {
   "cell_type": "markdown",
   "id": "1b33288a",
   "metadata": {
    "papermill": {
     "duration": 0.011153,
     "end_time": "2024-03-28T10:56:21.815411",
     "exception": false,
     "start_time": "2024-03-28T10:56:21.804258",
     "status": "completed"
    },
    "tags": []
   },
   "source": [
    "\n",
    "Now, with the merged variable, we can **implement the chi-square test** to assess the relationship between the new variable and 'status'. This analysis provides insights into the potential association between the simplified 'pathsize_Cat' and the outcome variable."
   ]
  },
  {
   "cell_type": "code",
   "execution_count": 10,
   "id": "a1de3bd2",
   "metadata": {
    "execution": {
     "iopub.execute_input": "2024-03-28T10:56:21.836462Z",
     "iopub.status.busy": "2024-03-28T10:56:21.836057Z",
     "iopub.status.idle": "2024-03-28T10:56:21.871874Z",
     "shell.execute_reply": "2024-03-28T10:56:21.869513Z"
    },
    "papermill": {
     "duration": 0.049837,
     "end_time": "2024-03-28T10:56:21.874924",
     "exception": false,
     "start_time": "2024-03-28T10:56:21.825087",
     "status": "completed"
    },
    "tags": []
   },
   "outputs": [
    {
     "name": "stdout",
     "output_type": "stream",
     "text": [
      "Contingency Table with Frequencies:\n",
      "status         0.0  1.0\n",
      "pathsize_Cat2          \n",
      "<= 2           795   31\n",
      "> 2            260   35\n",
      "############################################################\n",
      "\n",
      "Row Percentages:\n",
      "status               0.0        1.0\n",
      "pathsize_Cat2                      \n",
      "<= 2           96.246973   3.753027\n",
      "> 2            88.135593  11.864407\n",
      "############################################################\n",
      "\n",
      "Chi-squared value: 24.367622791900047\n",
      "P-value: 7.959525236464673e-07\n",
      "Degrees of freedom: 1\n",
      "############################################################\n",
      "Percentage of cells with expected counts less than 5: 0.00%\n",
      "############################################################\n",
      "\n",
      "Residuals (Observed - Expected):\n",
      "status               0.0        1.0\n",
      "pathsize_Cat2                      \n",
      "<= 2           17.631579 -17.631579\n",
      "> 2           -17.631579  17.631579\n",
      "############################################################\n",
      "Odds Ratio: 3.45\n",
      "95% Confidence Interval: 2.09, 5.71\n"
     ]
    }
   ],
   "source": [
    "import pandas as pd\n",
    "from scipy.stats import chi2_contingency\n",
    "\n",
    "# Create a contingency table\n",
    "contingency_table = pd.crosstab(df['pathsize_Cat2'], df['status'])\n",
    "\n",
    "print(\"Contingency Table with Frequencies:\")\n",
    "print(contingency_table)\n",
    "print(\"#\"*60)\n",
    "\n",
    "# Calculate row percentages\n",
    "row_percentages = contingency_table.div(contingency_table.sum(axis=1), axis=0) * 100\n",
    "\n",
    "print(\"\\nRow Percentages:\")\n",
    "print(row_percentages)\n",
    "print(\"#\"*60) \n",
    "\n",
    "# Perform chi-square test\n",
    "chi2, p, dof, expected = chi2_contingency(contingency_table)\n",
    "\n",
    "print(f\"\\nChi-squared value: {chi2}\")\n",
    "print(f\"P-value: {p}\")\n",
    "print(f\"Degrees of freedom: {dof}\")\n",
    "print(\"#\"*60)\n",
    "\n",
    "# Calculate the percentage of cells with expected counts less than 5\n",
    "percentage_low_expected = (expected < 5).sum().sum() / (expected.shape[0] * expected.shape[1]) * 100\n",
    "\n",
    "print(f\"Percentage of cells with expected counts less than 5: {percentage_low_expected:.2f}%\")\n",
    "print(\"#\"*60)\n",
    "\n",
    "# Calculate residuals (observed minus expected values)\n",
    "residuals = contingency_table - expected\n",
    "\n",
    "print(\"\\nResiduals (Observed - Expected):\")\n",
    "print(residuals)\n",
    "print(\"#\"*60)\n",
    "\n",
    "# Calculate odds ratio\n",
    "OR_CIs(contingency_table)"
   ]
  },
  {
   "cell_type": "markdown",
   "id": "d4bdd02e",
   "metadata": {
    "papermill": {
     "duration": 0.009574,
     "end_time": "2024-03-28T10:56:21.894484",
     "exception": false,
     "start_time": "2024-03-28T10:56:21.884910",
     "status": "completed"
    },
    "tags": []
   },
   "source": [
    "### The Chi-Square Independence Test for Reports\n",
    "The chi-square independence test is applicable to scenarios where data is presented in the form of a **contingency table**, showcasing frequencies across different categories. This test is particularly useful when analyzing categorical data that doesn't fit the typical **two-column format**, allowing for the examination of associations and dependencies between variables presented in tabular form."
   ]
  },
  {
   "cell_type": "code",
   "execution_count": 11,
   "id": "99c3a9a8",
   "metadata": {
    "execution": {
     "iopub.execute_input": "2024-03-28T10:56:21.915431Z",
     "iopub.status.busy": "2024-03-28T10:56:21.914994Z",
     "iopub.status.idle": "2024-03-28T10:56:21.931428Z",
     "shell.execute_reply": "2024-03-28T10:56:21.930225Z"
    },
    "papermill": {
     "duration": 0.029862,
     "end_time": "2024-03-28T10:56:21.933892",
     "exception": false,
     "start_time": "2024-03-28T10:56:21.904030",
     "status": "completed"
    },
    "tags": []
   },
   "outputs": [
    {
     "name": "stdout",
     "output_type": "stream",
     "text": [
      "Chi-squared value: 13.900758213995182\n",
      "P-value: 0.00019272070767964805\n",
      "Degrees of freedom: 1\n",
      "############################################################\n",
      "Percentage of cells with expected counts less than 5: 0.00%\n",
      "############################################################\n",
      "\n",
      "Residuals (Observed - Expected):\n",
      "    Status=0   Status=1\n",
      "0  13.416736 -13.416736\n",
      "1 -13.416736  13.416736\n",
      "############################################################\n",
      "Odds Ratio: 2.55\n",
      "95% Confidence Interval: 1.57, 4.17\n"
     ]
    }
   ],
   "source": [
    "import pandas as pd\n",
    "from scipy.stats import chi2_contingency\n",
    "\n",
    "# Example DataFrame with a contingency table\n",
    "data = {\n",
    "    'Status=0': [887, 42],\n",
    "    'Status=1': [248, 30]\n",
    "}\n",
    "\n",
    "df_contingency = pd.DataFrame(data)\n",
    "\n",
    "# Perform chi-square test\n",
    "chi2, p, dof, expected = chi2_contingency(df_contingency)\n",
    "\n",
    "# Print the results\n",
    "print(f\"Chi-squared value: {chi2}\")\n",
    "print(f\"P-value: {p}\")\n",
    "print(f\"Degrees of freedom: {dof}\")\n",
    "print(\"#\"*60)\n",
    "\n",
    "# Calculate the percentage of cells with expected counts less than 5\n",
    "percentage_low_expected = (expected < 5).sum().sum() / (expected.shape[0] * expected.shape[1]) * 100\n",
    "\n",
    "print(f\"Percentage of cells with expected counts less than 5: {percentage_low_expected:.2f}%\")\n",
    "print(\"#\"*60)\n",
    "\n",
    "# Calculate residuals (observed minus expected values)\n",
    "residuals = df_contingency - expected\n",
    "\n",
    "print(\"\\nResiduals (Observed - Expected):\")\n",
    "print(residuals)\n",
    "print(\"#\"*60)\n",
    "\n",
    "# Calculate odds ratio\n",
    "OR_CIs(df_contingency)"
   ]
  }
 ],
 "metadata": {
  "kaggle": {
   "accelerator": "none",
   "dataSources": [
    {
     "datasetId": 4068095,
     "sourceId": 7065276,
     "sourceType": "datasetVersion"
    }
   ],
   "dockerImageVersionId": 30587,
   "isGpuEnabled": false,
   "isInternetEnabled": true,
   "language": "python",
   "sourceType": "notebook"
  },
  "kernelspec": {
   "display_name": "Python 3",
   "language": "python",
   "name": "python3"
  },
  "language_info": {
   "codemirror_mode": {
    "name": "ipython",
    "version": 3
   },
   "file_extension": ".py",
   "mimetype": "text/x-python",
   "name": "python",
   "nbconvert_exporter": "python",
   "pygments_lexer": "ipython3",
   "version": "3.10.12"
  },
  "papermill": {
   "default_parameters": {},
   "duration": 8.366926,
   "end_time": "2024-03-28T10:56:22.567278",
   "environment_variables": {},
   "exception": null,
   "input_path": "__notebook__.ipynb",
   "output_path": "__notebook__.ipynb",
   "parameters": {},
   "start_time": "2024-03-28T10:56:14.200352",
   "version": "2.4.0"
  }
 },
 "nbformat": 4,
 "nbformat_minor": 5
}
