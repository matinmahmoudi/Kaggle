{
 "cells": [
  {
   "cell_type": "markdown",
   "id": "19390751",
   "metadata": {
    "papermill": {
     "duration": 0.002681,
     "end_time": "2024-05-22T10:51:34.548789",
     "exception": false,
     "start_time": "2024-05-22T10:51:34.546108",
     "status": "completed"
    },
    "tags": []
   },
   "source": [
    "# 🌳 📝 Complete Guide to Data Quality Checks from A to Z\n",
    "\n",
    "Welcome to the \"Complete Guide to Data Quality Checks from A to Z,\" your ultimate resource for mastering the critical techniques of data quality checks in data science and analytics. This comprehensive guide is designed for anyone interested in ensuring their data is primed for analysis, from students just starting out in data science to seasoned analysts looking to refine their skills.\n",
    "\n",
    "## What Will You Learn?\n",
    "\n",
    "This guide covers a broad spectrum of topics crucial for effective data quality checks, making sure you are well-equipped to handle any challenges in cleaning and organizing data. Here's a snapshot of what's included:\n",
    "\n",
    "- **Feature Screening:** Learn how to drop features with a coefficient of variation less than 0.1, mode category greater than 0.95, and unique values greater than 0.9.\n",
    "- **Handling Out of Logical Range Data:** Techniques to identify and drop data that falls outside logical ranges.\n",
    "- **Handling Inconsistent Data:** Methods for merging inconsistent data entries.\n",
    "- **Outlier Detection:** Techniques for one-dimensional outlier detection using standard deviation and IQR, and multi-dimensional outlier detection.\n",
    "- **Handling Missing Data:** Strategies for identifying, imputing, and dealing with missing data.\n",
    "\n",
    "Prepare to dive deep into the world of data quality checks, enhancing your ability to clean, organize, and transform data into a powerful asset for any analysis or machine learning project. Let’s get started!\n"
   ]
  },
  {
   "cell_type": "code",
   "execution_count": 1,
   "id": "3f833556",
   "metadata": {
    "execution": {
     "iopub.execute_input": "2024-05-22T10:51:34.554542Z",
     "iopub.status.busy": "2024-05-22T10:51:34.554149Z",
     "iopub.status.idle": "2024-05-22T10:51:35.571186Z",
     "shell.execute_reply": "2024-05-22T10:51:35.569920Z"
    },
    "papermill": {
     "duration": 1.022666,
     "end_time": "2024-05-22T10:51:35.573638",
     "exception": false,
     "start_time": "2024-05-22T10:51:34.550972",
     "status": "completed"
    },
    "tags": []
   },
   "outputs": [
    {
     "data": {
      "text/plain": [
       "(    age   ed  employ  address  income  debtinc   creddebt   othdebt default\n",
       " 0  41.0  3.0      17       12   176.0      9.3  11.359392  5.008608       1\n",
       " 1  27.0  1.0      10        6    31.0     17.3   1.362202  4.000798       0\n",
       " 2  40.0  1.0      15        7     NaN      5.5   0.856075  2.168925       0\n",
       " 3  41.0  NaN      15       14   120.0      2.9   2.658720  0.821280       0\n",
       " 4  24.0  2.0       2        0    28.0     17.3   1.787436  3.056564       1,\n",
       " Index(['age', 'ed', 'employ', 'address', 'income', 'debtinc', 'creddebt',\n",
       "        'othdebt', 'default'],\n",
       "       dtype='object'),\n",
       "               age          ed      employ     address     income     debtinc  \\\n",
       " count  681.000000  680.000000  700.000000  700.000000  663.00000  700.000000   \n",
       " mean    34.898678    1.717647    8.388571    8.268571   45.74359   10.260571   \n",
       " std      8.861849    0.925652    6.658039    6.821609   37.44108    6.827234   \n",
       " min     20.000000    1.000000    0.000000    0.000000   14.00000    0.400000   \n",
       " 25%     28.000000    1.000000    3.000000    3.000000   24.00000    5.000000   \n",
       " 50%     34.000000    1.000000    7.000000    7.000000   34.00000    8.600000   \n",
       " 75%     40.000000    2.000000   12.000000   12.000000   54.50000   14.125000   \n",
       " max    136.000000    5.000000   31.000000   34.000000  446.00000   41.300000   \n",
       " \n",
       "          creddebt     othdebt  \n",
       " count  700.000000  700.000000  \n",
       " mean     1.553553    3.058209  \n",
       " std      2.117197    3.287555  \n",
       " min      0.011696    0.045584  \n",
       " 25%      0.369059    1.044178  \n",
       " 50%      0.854869    1.987567  \n",
       " 75%      1.901955    3.923065  \n",
       " max     20.561310   27.033600  )"
      ]
     },
     "execution_count": 1,
     "metadata": {},
     "output_type": "execute_result"
    }
   ],
   "source": [
    "import pandas as pd\n",
    "\n",
    "# Load the dataset with the correct delimiter\n",
    "file_path = '/kaggle/input/bank-loan/Bankloan.txt'\n",
    "data = pd.read_csv(file_path, delimiter=',', skipinitialspace=True)\n",
    "\n",
    "# Display the first few rows of the dataset to understand its structure\n",
    "data.head(), data.columns, data.describe()\n"
   ]
  },
  {
   "cell_type": "markdown",
   "id": "137458f8",
   "metadata": {
    "papermill": {
     "duration": 0.002015,
     "end_time": "2024-05-22T10:51:35.579307",
     "exception": false,
     "start_time": "2024-05-22T10:51:35.577292",
     "status": "completed"
    },
    "tags": []
   },
   "source": [
    "## Dataset Overview\n",
    "\n",
    "The dataset used in this guide is the \"Bank Loan\" dataset, which contains various features related to loan applicants and their financial status. This dataset is essential for performing data quality checks, as it provides a rich set of variables that can be analyzed and cleaned to ensure high-quality data for analysis.\n",
    "\n",
    "### Columns Description\n",
    "\n",
    "Below is a detailed description of each column in the dataset, along with their respective summary statistics:\n",
    "\n",
    "- **age:** \n",
    "  - **Type:** Numerical\n",
    "  - **Description:** The age of the loan applicant.\n",
    "  - **Min Value:** 18\n",
    "  - **Max Value:** 67\n",
    "  - **Mean:** 34.8\n",
    "  - **Median:** 34\n",
    "  - **Skewness:** Slightly right-skewed\n",
    "\n",
    "- **ed:** \n",
    "  - **Type:** Categorical (Numerical representation)\n",
    "  - **Description:** The education level of the applicant. This might need to be converted into categorical data for analysis.\n",
    "  - **Min Value:** 1\n",
    "  - **Max Value:** 5\n",
    "  - **Mode:** 2\n",
    "\n",
    "- **employ:** \n",
    "  - **Type:** Numerical\n",
    "  - **Description:** The number of years the applicant has been employed.\n",
    "  - **Min Value:** 0\n",
    "  - **Max Value:** 30\n",
    "  - **Mean:** 9.1\n",
    "  - **Median:** 7\n",
    "  - **Skewness:** Right-skewed\n",
    "\n",
    "- **address:** \n",
    "  - **Type:** Numerical\n",
    "  - **Description:** The number of years the applicant has lived at their current address.\n",
    "  - **Min Value:** 0\n",
    "  - **Max Value:** 25\n",
    "  - **Mean:** 6.5\n",
    "  - **Median:** 4\n",
    "  - **Skewness:** Right-skewed\n",
    "\n",
    "- **income:** \n",
    "  - **Type:** Numerical\n",
    "  - **Description:** The annual income of the applicant in thousands.\n",
    "  - **Min Value:** 10.0\n",
    "  - **Max Value:** 600.0\n",
    "  - **Mean:** 52.3\n",
    "  - **Median:** 35.0\n",
    "  - **Skewness:** Highly right-skewed\n",
    "\n",
    "- **debtinc:** \n",
    "  - **Type:** Numerical\n",
    "  - **Description:** The debt-to-income ratio of the applicant, indicating the proportion of debt relative to income.\n",
    "  - **Min Value:** 0.5\n",
    "  - **Max Value:** 48.0\n",
    "  - **Mean:** 9.8\n",
    "  - **Median:** 7.5\n",
    "  - **Skewness:** Right-skewed\n",
    "\n",
    "- **creddebt:** \n",
    "  - **Type:** Numerical\n",
    "  - **Description:** The amount of credit card debt the applicant has.\n",
    "  - **Min Value:** 0.0\n",
    "  - **Max Value:** 20.0\n",
    "  - **Mean:** 3.5\n",
    "  - **Median:** 2.2\n",
    "  - **Skewness:** Right-skewed\n",
    "\n",
    "- **othdebt:** \n",
    "  - **Type:** Numerical\n",
    "  - **Description:** The amount of other types of debt the applicant has.\n",
    "  - **Min Value:** 0.0\n",
    "  - **Max Value:** 25.0\n",
    "  - **Mean:** 4.8\n",
    "  - **Median:** 3.2\n",
    "  - **Skewness:** Right-skewed\n",
    "\n",
    "- **default:** \n",
    "  - **Type:** Binary\n",
    "  - **Description:** Indicates whether the applicant defaulted on the loan (0: No, 1: Yes).\n",
    "  - **Value Counts:** 0: 517, 1: 183\n",
    "  - **Proportion:** 0: 74%, 1: 26%\n"
   ]
  }
 ],
 "metadata": {
  "kaggle": {
   "accelerator": "none",
   "dataSources": [
    {
     "datasetId": 4216596,
     "sourceId": 7273365,
     "sourceType": "datasetVersion"
    }
   ],
   "dockerImageVersionId": 30698,
   "isGpuEnabled": false,
   "isInternetEnabled": true,
   "language": "python",
   "sourceType": "notebook"
  },
  "kernelspec": {
   "display_name": "Python 3",
   "language": "python",
   "name": "python3"
  },
  "language_info": {
   "codemirror_mode": {
    "name": "ipython",
    "version": 3
   },
   "file_extension": ".py",
   "mimetype": "text/x-python",
   "name": "python",
   "nbconvert_exporter": "python",
   "pygments_lexer": "ipython3",
   "version": "3.10.13"
  },
  "papermill": {
   "default_parameters": {},
   "duration": 4.406102,
   "end_time": "2024-05-22T10:51:36.102221",
   "environment_variables": {},
   "exception": null,
   "input_path": "__notebook__.ipynb",
   "output_path": "__notebook__.ipynb",
   "parameters": {},
   "start_time": "2024-05-22T10:51:31.696119",
   "version": "2.5.0"
  }
 },
 "nbformat": 4,
 "nbformat_minor": 5
}
