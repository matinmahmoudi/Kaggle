{
 "cells": [
  {
   "cell_type": "markdown",
   "id": "082131d5",
   "metadata": {
    "papermill": {
     "duration": 0.004606,
     "end_time": "2024-05-27T16:48:22.631358",
     "exception": false,
     "start_time": "2024-05-27T16:48:22.626752",
     "status": "completed"
    },
    "tags": []
   },
   "source": [
    "# 🌿 🧠 Understanding Convolutional Neural Networks - Simplified\n",
    "\n",
    "Welcome to this beginner-friendly guide on Convolutional Neural Networks (CNNs)! In this notebook, we'll break down the concepts of CNNs in a simple and clear manner. By the end, you'll have a solid understanding of how CNNs work and how to create one using Python.\n",
    "\n",
    "## Introduction to CNNs\n",
    "\n",
    "A Convolutional Neural Network (CNN) is a type of deep learning model designed to process structured grid data, such as images. CNNs are particularly effective for image recognition and classification tasks because they can automatically detect important features in images.\n",
    "\n",
    "### Key Components of CNNs\n",
    "- **Convolutional Layer:** The core building block of a CNN that performs convolution operations. It applies a set of filters to the input image to extract features like edges, textures, and patterns.\n",
    "\n",
    "- **Pooling Layer:** A layer that reduces the spatial dimensions of the feature maps, typically using max pooling or average pooling. This helps in reducing the computational load and preventing overfitting.\n",
    "\n",
    "- **Fully Connected Layer:** A layer where each neuron is connected to all neurons in the previous layer. This layer is used to make final predictions based on the extracted features.\n",
    "\n",
    "- **Activation Function:** A function applied to the output of a layer to introduce non-linearity. Common activation functions include ReLU, Sigmoid, and Tanh.\n",
    "\n",
    "## Building a CNN with TensorFlow and Keras\n",
    "\n",
    "Let's build a simple CNN to classify images from the CIFAR-10 dataset using TensorFlow and Keras.\n"
   ]
  },
  {
   "cell_type": "code",
   "execution_count": 1,
   "id": "f908fbd9",
   "metadata": {
    "execution": {
     "iopub.execute_input": "2024-05-27T16:48:22.641275Z",
     "iopub.status.busy": "2024-05-27T16:48:22.640902Z",
     "iopub.status.idle": "2024-05-27T16:48:34.545871Z",
     "shell.execute_reply": "2024-05-27T16:48:34.544798Z"
    },
    "papermill": {
     "duration": 11.912263,
     "end_time": "2024-05-27T16:48:34.547976",
     "exception": false,
     "start_time": "2024-05-27T16:48:22.635713",
     "status": "completed"
    },
    "tags": []
   },
   "outputs": [
    {
     "name": "stdout",
     "output_type": "stream",
     "text": [
      "Num GPUs Available:  2\n"
     ]
    }
   ],
   "source": [
    "# Importing Libraries and Suppressing Duplicate Registration Warnings\n",
    "import os\n",
    "os.environ['TF_CPP_MIN_LOG_LEVEL'] = '3'  # Suppress TensorFlow logging\n",
    "import tensorflow as tf\n",
    "from tensorflow.keras.models import Sequential\n",
    "from tensorflow.keras.layers import Conv2D, MaxPooling2D, Flatten, Dense, Dropout\n",
    "from tensorflow.keras.datasets import cifar10\n",
    "import matplotlib.pyplot as plt\n",
    "\n",
    "# Checking GPU availability\n",
    "print(\"Num GPUs Available: \", len(tf.config.list_physical_devices('GPU')))\n"
   ]
  },
  {
   "cell_type": "markdown",
   "id": "5e76850e",
   "metadata": {
    "papermill": {
     "duration": 0.004189,
     "end_time": "2024-05-27T16:48:34.556635",
     "exception": false,
     "start_time": "2024-05-27T16:48:34.552446",
     "status": "completed"
    },
    "tags": []
   },
   "source": [
    "### Loading and Preprocessing Data\n",
    "\n",
    "First, we need to load the CIFAR-10 dataset and preprocess it. The CIFAR-10 dataset consists of 60,000 32x32 color images in 10 classes, with 6,000 images per class.\n"
   ]
  },
  {
   "cell_type": "code",
   "execution_count": 2,
   "id": "e923bffe",
   "metadata": {
    "execution": {
     "iopub.execute_input": "2024-05-27T16:48:34.566243Z",
     "iopub.status.busy": "2024-05-27T16:48:34.565715Z",
     "iopub.status.idle": "2024-05-27T16:48:39.203606Z",
     "shell.execute_reply": "2024-05-27T16:48:39.202771Z"
    },
    "papermill": {
     "duration": 4.645202,
     "end_time": "2024-05-27T16:48:39.205973",
     "exception": false,
     "start_time": "2024-05-27T16:48:34.560771",
     "status": "completed"
    },
    "tags": []
   },
   "outputs": [
    {
     "name": "stdout",
     "output_type": "stream",
     "text": [
      "Downloading data from https://www.cs.toronto.edu/~kriz/cifar-10-python.tar.gz\n",
      "\u001b[1m170498071/170498071\u001b[0m \u001b[32m━━━━━━━━━━━━━━━━━━━━\u001b[0m\u001b[37m\u001b[0m \u001b[1m2s\u001b[0m 0us/step\n"
     ]
    }
   ],
   "source": [
    "# Loading and Preprocessing Data\n",
    "(x_train, y_train), (x_test, y_test) = cifar10.load_data()\n",
    "x_train, x_test = x_train / 255.0, x_test / 255.0\n",
    "\n",
    "# Converting class vectors to binary class matrices\n",
    "y_train = tf.keras.utils.to_categorical(y_train, 10)\n",
    "y_test = tf.keras.utils.to_categorical(y_test, 10)\n"
   ]
  },
  {
   "cell_type": "markdown",
   "id": "7628ba13",
   "metadata": {
    "papermill": {
     "duration": 0.006871,
     "end_time": "2024-05-27T16:48:39.220089",
     "exception": false,
     "start_time": "2024-05-27T16:48:39.213218",
     "status": "completed"
    },
    "tags": []
   },
   "source": [
    "### Building the CNN\n",
    "\n",
    "Next, we'll build a simple CNN with the following architecture:\n",
    "1. **Conv2D Layer:** 32 filters, kernel size 3x3, ReLU activation\n",
    "2. **MaxPooling2D Layer:** Pool size 2x2\n",
    "3. **Conv2D Layer:** 64 filters, kernel size 3x3, ReLU activation\n",
    "4. **MaxPooling2D Layer:** Pool size 2x2\n",
    "5. **Flatten Layer:** Flatten the 3D feature maps to 1D feature vectors\n",
    "6. **Dense Layer:** 512 neurons, ReLU activation\n",
    "7. **Dropout Layer:** Dropout rate 0.5\n",
    "8. **Dense Layer:** 10 neurons (one for each class), Softmax activation\n"
   ]
  },
  {
   "cell_type": "code",
   "execution_count": 3,
   "id": "6ff96c81",
   "metadata": {
    "execution": {
     "iopub.execute_input": "2024-05-27T16:48:39.235055Z",
     "iopub.status.busy": "2024-05-27T16:48:39.234762Z",
     "iopub.status.idle": "2024-05-27T16:48:39.833168Z",
     "shell.execute_reply": "2024-05-27T16:48:39.832435Z"
    },
    "papermill": {
     "duration": 0.608466,
     "end_time": "2024-05-27T16:48:39.835405",
     "exception": false,
     "start_time": "2024-05-27T16:48:39.226939",
     "status": "completed"
    },
    "tags": []
   },
   "outputs": [
    {
     "name": "stderr",
     "output_type": "stream",
     "text": [
      "/opt/conda/lib/python3.10/site-packages/keras/src/layers/convolutional/base_conv.py:99: UserWarning: Do not pass an `input_shape`/`input_dim` argument to a layer. When using Sequential models, prefer using an `Input(shape)` object as the first layer in the model instead.\n",
      "  super().__init__(\n"
     ]
    }
   ],
   "source": [
    "# Building the CNN\n",
    "model = Sequential([\n",
    "    Conv2D(32, (3, 3), activation='relu', input_shape=(32, 32, 3)),\n",
    "    MaxPooling2D(pool_size=(2, 2)),\n",
    "    Conv2D(64, (3, 3), activation='relu'),\n",
    "    MaxPooling2D(pool_size=(2, 2)),\n",
    "    Flatten(),\n",
    "    Dense(512, activation='relu'),\n",
    "    Dropout(0.5),\n",
    "    Dense(10, activation='softmax')\n",
    "])\n"
   ]
  },
  {
   "cell_type": "markdown",
   "id": "eb6cb289",
   "metadata": {
    "papermill": {
     "duration": 0.007461,
     "end_time": "2024-05-27T16:48:39.850347",
     "exception": false,
     "start_time": "2024-05-27T16:48:39.842886",
     "status": "completed"
    },
    "tags": []
   },
   "source": [
    "### Compiling the Model\n",
    "\n",
    "We need to compile the model by specifying the optimizer, loss function, and metrics. We'll use the Adam optimizer, categorical crossentropy loss function, and accuracy as the evaluation metric.\n"
   ]
  },
  {
   "cell_type": "code",
   "execution_count": 4,
   "id": "97c8c3ae",
   "metadata": {
    "execution": {
     "iopub.execute_input": "2024-05-27T16:48:39.866180Z",
     "iopub.status.busy": "2024-05-27T16:48:39.865905Z",
     "iopub.status.idle": "2024-05-27T16:48:39.878057Z",
     "shell.execute_reply": "2024-05-27T16:48:39.877390Z"
    },
    "papermill": {
     "duration": 0.022462,
     "end_time": "2024-05-27T16:48:39.880169",
     "exception": false,
     "start_time": "2024-05-27T16:48:39.857707",
     "status": "completed"
    },
    "tags": []
   },
   "outputs": [],
   "source": [
    "# Compiling the Model\n",
    "model.compile(optimizer='adam',\n",
    "              loss='categorical_crossentropy',\n",
    "              metrics=['accuracy'])\n"
   ]
  },
  {
   "cell_type": "markdown",
   "id": "dd16e654",
   "metadata": {
    "papermill": {
     "duration": 0.007057,
     "end_time": "2024-05-27T16:48:39.896194",
     "exception": false,
     "start_time": "2024-05-27T16:48:39.889137",
     "status": "completed"
    },
    "tags": []
   },
   "source": [
    "### Training the Model\n",
    "\n",
    "Now, we'll train the model using the training data. We'll set the number of epochs to 10 and use 20% of the training data for validation.\n"
   ]
  },
  {
   "cell_type": "code",
   "execution_count": 5,
   "id": "a2779d83",
   "metadata": {
    "execution": {
     "iopub.execute_input": "2024-05-27T16:48:39.911284Z",
     "iopub.status.busy": "2024-05-27T16:48:39.910987Z",
     "iopub.status.idle": "2024-05-27T16:49:08.699857Z",
     "shell.execute_reply": "2024-05-27T16:49:08.698788Z"
    },
    "papermill": {
     "duration": 28.799263,
     "end_time": "2024-05-27T16:49:08.702548",
     "exception": false,
     "start_time": "2024-05-27T16:48:39.903285",
     "status": "completed"
    },
    "tags": []
   },
   "outputs": [
    {
     "name": "stdout",
     "output_type": "stream",
     "text": [
      "Epoch 1/10\n",
      "\u001b[1m 52/625\u001b[0m \u001b[32m━\u001b[0m\u001b[37m━━━━━━━━━━━━━━━━━━━\u001b[0m \u001b[1m1s\u001b[0m 3ms/step - accuracy: 0.1941 - loss: 2.2224"
     ]
    },
    {
     "name": "stderr",
     "output_type": "stream",
     "text": [
      "WARNING: All log messages before absl::InitializeLog() is called are written to STDERR\n",
      "I0000 00:00:1716828526.837804      70 device_compiler.h:186] Compiled cluster using XLA!  This line is logged at most once for the lifetime of the process.\n",
      "W0000 00:00:1716828526.855884      70 graph_launch.cc:671] Fallback to op-by-op mode because memset node breaks graph update\n"
     ]
    },
    {
     "name": "stdout",
     "output_type": "stream",
     "text": [
      "\u001b[1m615/625\u001b[0m \u001b[32m━━━━━━━━━━━━━━━━━━━\u001b[0m\u001b[37m━\u001b[0m \u001b[1m0s\u001b[0m 3ms/step - accuracy: 0.3617 - loss: 1.7708"
     ]
    },
    {
     "name": "stderr",
     "output_type": "stream",
     "text": [
      "W0000 00:00:1716828529.671737      69 graph_launch.cc:671] Fallback to op-by-op mode because memset node breaks graph update\n"
     ]
    },
    {
     "name": "stdout",
     "output_type": "stream",
     "text": [
      "\u001b[1m625/625\u001b[0m \u001b[32m━━━━━━━━━━━━━━━━━━━━\u001b[0m\u001b[37m\u001b[0m \u001b[1m9s\u001b[0m 6ms/step - accuracy: 0.3632 - loss: 1.7669 - val_accuracy: 0.5689 - val_loss: 1.2329\n",
      "Epoch 2/10\n",
      "\u001b[1m 56/625\u001b[0m \u001b[32m━\u001b[0m\u001b[37m━━━━━━━━━━━━━━━━━━━\u001b[0m \u001b[1m1s\u001b[0m 3ms/step - accuracy: 0.5300 - loss: 1.2896"
     ]
    },
    {
     "name": "stderr",
     "output_type": "stream",
     "text": [
      "W0000 00:00:1716828530.535894      69 graph_launch.cc:671] Fallback to op-by-op mode because memset node breaks graph update\n"
     ]
    },
    {
     "name": "stdout",
     "output_type": "stream",
     "text": [
      "\u001b[1m625/625\u001b[0m \u001b[32m━━━━━━━━━━━━━━━━━━━━\u001b[0m\u001b[37m\u001b[0m \u001b[1m2s\u001b[0m 3ms/step - accuracy: 0.5637 - loss: 1.2232 - val_accuracy: 0.6209 - val_loss: 1.0804\n",
      "Epoch 3/10\n",
      "\u001b[1m625/625\u001b[0m \u001b[32m━━━━━━━━━━━━━━━━━━━━\u001b[0m\u001b[37m\u001b[0m \u001b[1m2s\u001b[0m 3ms/step - accuracy: 0.6339 - loss: 1.0421 - val_accuracy: 0.6419 - val_loss: 1.0077\n",
      "Epoch 4/10\n",
      "\u001b[1m625/625\u001b[0m \u001b[32m━━━━━━━━━━━━━━━━━━━━\u001b[0m\u001b[37m\u001b[0m \u001b[1m2s\u001b[0m 3ms/step - accuracy: 0.6697 - loss: 0.9479 - val_accuracy: 0.6882 - val_loss: 0.9080\n",
      "Epoch 5/10\n",
      "\u001b[1m625/625\u001b[0m \u001b[32m━━━━━━━━━━━━━━━━━━━━\u001b[0m\u001b[37m\u001b[0m \u001b[1m2s\u001b[0m 3ms/step - accuracy: 0.6982 - loss: 0.8538 - val_accuracy: 0.6984 - val_loss: 0.8701\n",
      "Epoch 6/10\n",
      "\u001b[1m625/625\u001b[0m \u001b[32m━━━━━━━━━━━━━━━━━━━━\u001b[0m\u001b[37m\u001b[0m \u001b[1m2s\u001b[0m 3ms/step - accuracy: 0.7279 - loss: 0.7745 - val_accuracy: 0.7089 - val_loss: 0.8583\n",
      "Epoch 7/10\n",
      "\u001b[1m625/625\u001b[0m \u001b[32m━━━━━━━━━━━━━━━━━━━━\u001b[0m\u001b[37m\u001b[0m \u001b[1m2s\u001b[0m 3ms/step - accuracy: 0.7460 - loss: 0.7249 - val_accuracy: 0.6915 - val_loss: 0.8898\n",
      "Epoch 8/10\n",
      "\u001b[1m625/625\u001b[0m \u001b[32m━━━━━━━━━━━━━━━━━━━━\u001b[0m\u001b[37m\u001b[0m \u001b[1m2s\u001b[0m 3ms/step - accuracy: 0.7685 - loss: 0.6610 - val_accuracy: 0.7156 - val_loss: 0.8159\n",
      "Epoch 9/10\n",
      "\u001b[1m625/625\u001b[0m \u001b[32m━━━━━━━━━━━━━━━━━━━━\u001b[0m\u001b[37m\u001b[0m \u001b[1m2s\u001b[0m 3ms/step - accuracy: 0.7893 - loss: 0.6076 - val_accuracy: 0.7243 - val_loss: 0.8166\n",
      "Epoch 10/10\n",
      "\u001b[1m625/625\u001b[0m \u001b[32m━━━━━━━━━━━━━━━━━━━━\u001b[0m\u001b[37m\u001b[0m \u001b[1m2s\u001b[0m 3ms/step - accuracy: 0.8025 - loss: 0.5616 - val_accuracy: 0.7218 - val_loss: 0.8403\n"
     ]
    }
   ],
   "source": [
    "# Training the Model\n",
    "history = model.fit(x_train, y_train, epochs=10, validation_split=0.2, batch_size=64)\n"
   ]
  },
  {
   "cell_type": "markdown",
   "id": "b48b46f8",
   "metadata": {
    "papermill": {
     "duration": 0.036857,
     "end_time": "2024-05-27T16:49:08.783408",
     "exception": false,
     "start_time": "2024-05-27T16:49:08.746551",
     "status": "completed"
    },
    "tags": []
   },
   "source": [
    "### Evaluating the Model\n",
    "\n",
    "After training, we'll evaluate the model using the test data to determine its accuracy.\n"
   ]
  },
  {
   "cell_type": "code",
   "execution_count": 6,
   "id": "bee93d90",
   "metadata": {
    "execution": {
     "iopub.execute_input": "2024-05-27T16:49:08.858234Z",
     "iopub.status.busy": "2024-05-27T16:49:08.857875Z",
     "iopub.status.idle": "2024-05-27T16:49:10.491906Z",
     "shell.execute_reply": "2024-05-27T16:49:10.490944Z"
    },
    "papermill": {
     "duration": 1.672766,
     "end_time": "2024-05-27T16:49:10.493965",
     "exception": false,
     "start_time": "2024-05-27T16:49:08.821199",
     "status": "completed"
    },
    "tags": []
   },
   "outputs": [
    {
     "name": "stdout",
     "output_type": "stream",
     "text": [
      "\u001b[1m101/313\u001b[0m \u001b[32m━━━━━━\u001b[0m\u001b[37m━━━━━━━━━━━━━━\u001b[0m \u001b[1m0s\u001b[0m 2ms/step - accuracy: 0.7021 - loss: 0.8622"
     ]
    },
    {
     "name": "stderr",
     "output_type": "stream",
     "text": [
      "W0000 00:00:1716828550.000012      71 graph_launch.cc:671] Fallback to op-by-op mode because memset node breaks graph update\n"
     ]
    },
    {
     "name": "stdout",
     "output_type": "stream",
     "text": [
      "\u001b[1m313/313\u001b[0m \u001b[32m━━━━━━━━━━━━━━━━━━━━\u001b[0m\u001b[37m\u001b[0m \u001b[1m1s\u001b[0m 2ms/step - accuracy: 0.7087 - loss: 0.8601\n",
      "\n",
      "Test accuracy: 0.7138000130653381\n"
     ]
    }
   ],
   "source": [
    "# Evaluating the Model\n",
    "test_loss, test_acc = model.evaluate(x_test, y_test)\n",
    "print('\\nTest accuracy:', test_acc)\n"
   ]
  },
  {
   "cell_type": "markdown",
   "id": "5710a881",
   "metadata": {
    "papermill": {
     "duration": 0.036645,
     "end_time": "2024-05-27T16:49:10.567398",
     "exception": false,
     "start_time": "2024-05-27T16:49:10.530753",
     "status": "completed"
    },
    "tags": []
   },
   "source": [
    "### Plotting Training and Validation Metrics\n",
    "\n",
    "Finally, we'll visualize the training and validation accuracy and loss over epochs to understand the model's performance.\n"
   ]
  },
  {
   "cell_type": "code",
   "execution_count": 7,
   "id": "b0a4f15a",
   "metadata": {
    "execution": {
     "iopub.execute_input": "2024-05-27T16:49:10.641931Z",
     "iopub.status.busy": "2024-05-27T16:49:10.641581Z",
     "iopub.status.idle": "2024-05-27T16:49:11.265407Z",
     "shell.execute_reply": "2024-05-27T16:49:11.264324Z"
    },
    "papermill": {
     "duration": 0.664684,
     "end_time": "2024-05-27T16:49:11.268634",
     "exception": false,
     "start_time": "2024-05-27T16:49:10.603950",
     "status": "completed"
    },
    "tags": []
   },
   "outputs": [
    {
     "data": {
      "image/png": "[encoded data removed]",
      "text/plain": [
       "<Figure size 1400x500 with 2 Axes>"
      ]
     },
     "metadata": {},
     "output_type": "display_data"
    }
   ],
   "source": [
    "# Plotting Training and Validation Metrics\n",
    "plt.figure(figsize=(14, 5))\n",
    "\n",
    "# Plotting Accuracy\n",
    "plt.subplot(1, 2, 1)\n",
    "plt.plot(history.history['accuracy'], label='Training Accuracy', marker='o')\n",
    "plt.plot(history.history['val_accuracy'], label='Validation Accuracy', marker='o')\n",
    "plt.xlabel('Epoch')\n",
    "plt.ylabel('Accuracy')\n",
    "plt.ylim([0, 1])\n",
    "plt.title('Training and Validation Accuracy')\n",
    "plt.legend(loc='lower right')\n",
    "\n",
    "# Plotting Loss\n",
    "plt.subplot(1, 2, 2)\n",
    "plt.plot(history.history['loss'], label='Training Loss', marker='o')\n",
    "plt.plot(history.history['val_loss'], label='Validation Loss', marker='o')\n",
    "plt.xlabel('Epoch')\n",
    "plt.ylabel('Loss')\n",
    "plt.ylim([0, 2])\n",
    "plt.title('Training and Validation Loss')\n",
    "plt.legend(loc='upper right')\n",
    "\n",
    "plt.tight_layout()\n",
    "plt.show()\n"
   ]
  },
  {
   "cell_type": "markdown",
   "id": "97bd5213",
   "metadata": {
    "papermill": {
     "duration": 0.040708,
     "end_time": "2024-05-27T16:49:11.362294",
     "exception": false,
     "start_time": "2024-05-27T16:49:11.321586",
     "status": "completed"
    },
    "tags": []
   },
   "source": [
    "## Conclusion\n",
    "\n",
    "In this notebook, we covered the basics of Convolutional Neural Networks (CNNs), built a simple CNN to classify images from the CIFAR-10 dataset, and visualized the training process. CNNs are powerful tools for image classification, and with this foundation, you're ready to explore more advanced topics and architectures.\n",
    "\n",
    "Happy learning!\n"
   ]
  }
 ],
 "metadata": {
  "kaggle": {
   "accelerator": "nvidiaTeslaT4",
   "dataSources": [],
   "dockerImageVersionId": 30699,
   "isGpuEnabled": true,
   "isInternetEnabled": true,
   "language": "python",
   "sourceType": "notebook"
  },
  "kernelspec": {
   "display_name": "Python 3",
   "language": "python",
   "name": "python3"
  },
  "language_info": {
   "codemirror_mode": {
    "name": "ipython",
    "version": 3
   },
   "file_extension": ".py",
   "mimetype": "text/x-python",
   "name": "python",
   "nbconvert_exporter": "python",
   "pygments_lexer": "ipython3",
   "version": "3.10.13"
  },
  "papermill": {
   "default_parameters": {},
   "duration": 54.05555,
   "end_time": "2024-05-27T16:49:14.152560",
   "environment_variables": {},
   "exception": null,
   "input_path": "__notebook__.ipynb",
   "output_path": "__notebook__.ipynb",
   "parameters": {},
   "start_time": "2024-05-27T16:48:20.097010",
   "version": "2.5.0"
  }
 },
 "nbformat": 4,
 "nbformat_minor": 5
}
