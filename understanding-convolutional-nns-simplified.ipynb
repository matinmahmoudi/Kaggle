{
 "cells": [
  {
   "cell_type": "markdown",
   "id": "09f0d392",
   "metadata": {
    "papermill": {
     "duration": 0.006381,
     "end_time": "2024-06-06T14:36:58.767275",
     "exception": false,
     "start_time": "2024-06-06T14:36:58.760894",
     "status": "completed"
    },
    "tags": []
   },
   "source": [
    "# 🌿 🧠 Understanding Convolutional Neural Networks - Simplified\n",
    "\n",
    "Welcome to this Simplified guide on convolutional neural networks (CNNs)! In this notebook, we'll break down the concepts of CNNs in a simple and clear manner. By the end, you'll have a solid understanding of how CNNs work and how to create one using Python.\n",
    "\n",
    "Convolutional neural networks have practical applications in various fields, including image recognition, object detection, and more.\n",
    "\n",
    "## Table of Contents\n",
    "1. [What is a Convolutional Neural Network?](#What-is-a-Convolutional-Neural-Network?)\n",
    "2. [Building Blocks of Convolutional Neural Networks](#Building-Blocks-of-Convolutional-Neural-Networks)\n",
    "3. [Loading and Preprocessing Data](#Loading-and-Preprocessing-Data)\n",
    "4. [Building the CNN Model](#Building-the-CNN-Model)\n",
    "5. [Compiling the Model](#Compiling-the-Model)\n",
    "6. [Training the Model](#Training-the-Model)\n",
    "7. [Evaluating the Model](#Evaluating-the-Model)\n",
    "8. [Making Predictions](#Making-Predictions)\n",
    "9. [Plotting Test Images and Predictions](#Plotting-Test-Images-and-Predictions)\n",
    "10. [Visualizing Training Results](#Visualizing-Training-Results)\n",
    "11. [Common Challenges and Solutions](#Common-Challenges-and-Solutions)\n",
    "12. [Resources for Further Learning](#Resources-for-Further-Learning)\n",
    "13. [Conclusion](#Conclusion)\n"
   ]
  },
  {
   "cell_type": "markdown",
   "id": "7813f613",
   "metadata": {
    "papermill": {
     "duration": 0.005352,
     "end_time": "2024-06-06T14:36:58.778509",
     "exception": false,
     "start_time": "2024-06-06T14:36:58.773157",
     "status": "completed"
    },
    "tags": []
   },
   "source": [
    "## What is a Convolutional Neural Network?\n",
    "\n",
    "A convolutional neural network (CNN) is a specialized type of neural network designed to process and recognize patterns in visual data. CNNs are particularly effective for image recognition tasks because they can capture spatial hierarchies in images through the use of convolutional layers.\n",
    "\n",
    "### Key Concepts\n",
    "- **Convolutional Layer:** Applies a convolution operation to the input, passing the result to the next layer. It uses filters (kernels) to detect features such as edges, textures, and patterns.\n",
    "- **Pooling Layer:** Reduces the spatial dimensions of the input, helping to decrease the computational load and control overfitting. Common types include max pooling and average pooling.\n",
    "- **Fully Connected Layer:** Connects every neuron in one layer to every neuron in the next layer, similar to a traditional neural network. Typically used in the final layers of a CNN.\n",
    "- **Receptive Field:** The region of the input image that a particular CNN layer neuron is responsible for processing.\n",
    "\n"
   ]
  },
  {
   "cell_type": "markdown",
   "id": "92ec97cd",
   "metadata": {
    "papermill": {
     "duration": 0.005403,
     "end_time": "2024-06-06T14:36:58.789410",
     "exception": false,
     "start_time": "2024-06-06T14:36:58.784007",
     "status": "completed"
    },
    "tags": []
   },
   "source": [
    "## Building Blocks of Convolutional Neural Networks\n",
    "\n",
    "### Convolutional Layers\n",
    "Convolutional layers are the core building blocks of a CNN. They apply a set of filters to the input image, each producing a feature map that highlights different aspects of the image, such as edges or textures.\n",
    "\n",
    "### Pooling Layers\n",
    "Pooling layers reduce the dimensions of the feature maps, retaining the most important information while discarding less important details. This helps in reducing the computational complexity and the risk of overfitting.\n",
    "\n",
    "### Fully Connected Layers\n",
    "Fully connected layers are used towards the end of the network, where the high-level reasoning in the network is done. They take the feature maps from the convolutional and pooling layers and output the final prediction.\n",
    "\n",
    "### Activation Functions\n",
    "Activation functions introduce non-linearity into the model, allowing it to learn complex patterns. Common activation functions used in CNNs include ReLU and Softmax.\n"
   ]
  },
  {
   "cell_type": "markdown",
   "id": "448821ce",
   "metadata": {
    "papermill": {
     "duration": 0.005363,
     "end_time": "2024-06-06T14:36:58.800310",
     "exception": false,
     "start_time": "2024-06-06T14:36:58.794947",
     "status": "completed"
    },
    "tags": []
   },
   "source": [
    "## Loading and Preprocessing Data\n",
    "\n",
    "First, we need to load a dataset and preprocess it. We'll use the CIFAR-10 dataset, which consists of 60,000 32x32 color images in 10 classes, with 6,000 images per class.\n",
    "\n",
    "Normalization, which scales the pixel values to the range 0-1, is important because it helps in faster convergence during training.\n"
   ]
  },
  {
   "cell_type": "code",
   "execution_count": 1,
   "id": "ffd9e9e7",
   "metadata": {
    "execution": {
     "iopub.execute_input": "2024-06-06T14:36:58.813334Z",
     "iopub.status.busy": "2024-06-06T14:36:58.812936Z",
     "iopub.status.idle": "2024-06-06T14:37:16.627902Z",
     "shell.execute_reply": "2024-06-06T14:37:16.627006Z"
    },
    "papermill": {
     "duration": 17.824329,
     "end_time": "2024-06-06T14:37:16.630248",
     "exception": false,
     "start_time": "2024-06-06T14:36:58.805919",
     "status": "completed"
    },
    "tags": []
   },
   "outputs": [
    {
     "name": "stderr",
     "output_type": "stream",
     "text": [
      "2024-06-06 14:37:00.635888: E external/local_xla/xla/stream_executor/cuda/cuda_dnn.cc:9261] Unable to register cuDNN factory: Attempting to register factory for plugin cuDNN when one has already been registered\n",
      "2024-06-06 14:37:00.636004: E external/local_xla/xla/stream_executor/cuda/cuda_fft.cc:607] Unable to register cuFFT factory: Attempting to register factory for plugin cuFFT when one has already been registered\n",
      "2024-06-06 14:37:00.774806: E external/local_xla/xla/stream_executor/cuda/cuda_blas.cc:1515] Unable to register cuBLAS factory: Attempting to register factory for plugin cuBLAS when one has already been registered\n"
     ]
    },
    {
     "name": "stdout",
     "output_type": "stream",
     "text": [
      "Downloading data from https://www.cs.toronto.edu/~kriz/cifar-10-python.tar.gz\n",
      "\u001b[1m170498071/170498071\u001b[0m \u001b[32m━━━━━━━━━━━━━━━━━━━━\u001b[0m\u001b[37m\u001b[0m \u001b[1m2s\u001b[0m 0us/step\n"
     ]
    }
   ],
   "source": [
    "# Loading and Preprocessing Data\n",
    "\n",
    "from tensorflow.keras.datasets import cifar10\n",
    "from tensorflow.keras.utils import to_categorical\n",
    "\n",
    "# Load the CIFAR-10 dataset, which contains 60,000 32x32 color images in 10 classes\n",
    "(x_train, y_train), (x_test, y_test) = cifar10.load_data()\n",
    "\n",
    "# Normalize the images to have values between 0 and 1 by dividing by 255\n",
    "# This helps in faster convergence during training\n",
    "x_train, x_test = x_train / 255.0, x_test / 255.0\n",
    "\n",
    "# Convert class labels to one-hot encoded vectors\n",
    "# This is necessary for the categorical crossentropy loss function\n",
    "y_train, y_test = to_categorical(y_train), to_categorical(y_test)\n"
   ]
  },
  {
   "cell_type": "markdown",
   "id": "48adce91",
   "metadata": {
    "papermill": {
     "duration": 0.00905,
     "end_time": "2024-06-06T14:37:16.648991",
     "exception": false,
     "start_time": "2024-06-06T14:37:16.639941",
     "status": "completed"
    },
    "tags": []
   },
   "source": [
    "## Building the CNN Model\n",
    "\n",
    "Next, we'll build a simple CNN model using TensorFlow and Keras. The model consists of:\n",
    "1. **Convolutional Layer:** 32 filters, kernel size 3x3, ReLU activation\n",
    "2. **Pooling Layer:** Max pooling, pool size 2x2\n",
    "3. **Convolutional Layer:** 64 filters, kernel size 3x3, ReLU activation\n",
    "4. **Pooling Layer:** Max pooling, pool size 2x2\n",
    "5. **Flatten Layer:** Flattens the 2D feature maps to a 1D vector\n",
    "6. **Dense Layer:** 64 neurons, ReLU activation\n",
    "7. **Output Layer:** 10 neurons (one for each class), Softmax activation\n"
   ]
  },
  {
   "cell_type": "code",
   "execution_count": 2,
   "id": "ea8cae6f",
   "metadata": {
    "execution": {
     "iopub.execute_input": "2024-06-06T14:37:16.669275Z",
     "iopub.status.busy": "2024-06-06T14:37:16.668663Z",
     "iopub.status.idle": "2024-06-06T14:37:17.548400Z",
     "shell.execute_reply": "2024-06-06T14:37:17.547585Z"
    },
    "papermill": {
     "duration": 0.89246,
     "end_time": "2024-06-06T14:37:17.550636",
     "exception": false,
     "start_time": "2024-06-06T14:37:16.658176",
     "status": "completed"
    },
    "tags": []
   },
   "outputs": [
    {
     "name": "stderr",
     "output_type": "stream",
     "text": [
      "/opt/conda/lib/python3.10/site-packages/keras/src/layers/convolutional/base_conv.py:99: UserWarning: Do not pass an `input_shape`/`input_dim` argument to a layer. When using Sequential models, prefer using an `Input(shape)` object as the first layer in the model instead.\n",
      "  super().__init__(\n"
     ]
    }
   ],
   "source": [
    "# Building the CNN Model\n",
    "\n",
    "from tensorflow.keras.models import Sequential\n",
    "from tensorflow.keras.layers import Conv2D, MaxPooling2D, Flatten, Dense\n",
    "\n",
    "# Initialize a Sequential model\n",
    "model = Sequential()\n",
    "\n",
    "# Add the first convolutional layer with 32 filters, kernel size 3x3, ReLU activation function\n",
    "# input_shape parameter specifies the shape of input data (32x32 pixels, 3 color channels)\n",
    "model.add(Conv2D(32, (3, 3), activation='relu', input_shape=(32, 32, 3)))\n",
    "\n",
    "# Add a max pooling layer with pool size 2x2 to reduce the spatial dimensions\n",
    "model.add(MaxPooling2D((2, 2)))\n",
    "\n",
    "# Add the second convolutional layer with 64 filters, kernel size 3x3, ReLU activation function\n",
    "model.add(Conv2D(64, (3, 3), activation='relu'))\n",
    "\n",
    "# Add another max pooling layer with pool size 2x2\n",
    "model.add(MaxPooling2D((2, 2)))\n",
    "\n",
    "# Flatten the 2D feature maps to a 1D vector to prepare for the fully connected layer\n",
    "model.add(Flatten())\n",
    "\n",
    "# Add a fully connected layer with 64 neurons and ReLU activation function\n",
    "model.add(Dense(64, activation='relu'))\n",
    "\n",
    "# Add the output layer with 10 neurons (one for each class) and softmax activation function\n",
    "model.add(Dense(10, activation='softmax'))\n"
   ]
  },
  {
   "cell_type": "markdown",
   "id": "02ada0e2",
   "metadata": {
    "papermill": {
     "duration": 0.009182,
     "end_time": "2024-06-06T14:37:17.569399",
     "exception": false,
     "start_time": "2024-06-06T14:37:17.560217",
     "status": "completed"
    },
    "tags": []
   },
   "source": [
    "## Compiling the Model\n",
    "\n",
    "We need to compile the model by specifying the optimizer, loss function, and metrics. We'll use the Adam optimizer, categorical crossentropy loss function, and accuracy as the evaluation metric.\n",
    "\n",
    "- **Optimizer (Adam):** Efficient for training deep learning models.\n",
    "- **Loss Function (Categorical Crossentropy):** Suitable for multi-class classification.\n",
    "- **Metrics (Accuracy):** Evaluates the model's performance by calculating the percentage of correctly predicted instances.\n"
   ]
  },
  {
   "cell_type": "code",
   "execution_count": 3,
   "id": "1b18e84f",
   "metadata": {
    "execution": {
     "iopub.execute_input": "2024-06-06T14:37:17.590218Z",
     "iopub.status.busy": "2024-06-06T14:37:17.589564Z",
     "iopub.status.idle": "2024-06-06T14:37:17.604273Z",
     "shell.execute_reply": "2024-06-06T14:37:17.603653Z"
    },
    "papermill": {
     "duration": 0.027067,
     "end_time": "2024-06-06T14:37:17.606325",
     "exception": false,
     "start_time": "2024-06-06T14:37:17.579258",
     "status": "completed"
    },
    "tags": []
   },
   "outputs": [],
   "source": [
    "# Compiling the Model\n",
    "\n",
    "# Compile the model by specifying the optimizer, loss function, and metrics\n",
    "model.compile(optimizer='adam',                        # Adam optimizer\n",
    "              loss='categorical_crossentropy',         # Categorical crossentropy loss function for multi-class classification\n",
    "              metrics=['accuracy'])                    # Evaluation metric: accuracy\n"
   ]
  },
  {
   "cell_type": "markdown",
   "id": "8085f554",
   "metadata": {
    "papermill": {
     "duration": 0.008913,
     "end_time": "2024-06-06T14:37:17.625489",
     "exception": false,
     "start_time": "2024-06-06T14:37:17.616576",
     "status": "completed"
    },
    "tags": []
   },
   "source": [
    "## Training the Model\n",
    "\n",
    "Now, we'll train the model using the training data. We'll set the number of epochs to 10 and use 20% of the training data for validation.\n",
    "\n",
    "An epoch is one complete iteration over the entire training data. Validation data is used to evaluate the model's performance on data it hasn't seen during training, helping to detect overfitting.\n"
   ]
  },
  {
   "cell_type": "code",
   "execution_count": 4,
   "id": "82a496eb",
   "metadata": {
    "execution": {
     "iopub.execute_input": "2024-06-06T14:37:17.645442Z",
     "iopub.status.busy": "2024-06-06T14:37:17.645087Z",
     "iopub.status.idle": "2024-06-06T14:37:59.955578Z",
     "shell.execute_reply": "2024-06-06T14:37:59.954758Z"
    },
    "papermill": {
     "duration": 42.32312,
     "end_time": "2024-06-06T14:37:59.957695",
     "exception": false,
     "start_time": "2024-06-06T14:37:17.634575",
     "status": "completed"
    },
    "tags": []
   },
   "outputs": [
    {
     "name": "stdout",
     "output_type": "stream",
     "text": [
      "Epoch 1/10\n",
      "\u001b[1m  70/1250\u001b[0m \u001b[32m━\u001b[0m\u001b[37m━━━━━━━━━━━━━━━━━━━\u001b[0m \u001b[1m2s\u001b[0m 2ms/step - accuracy: 0.1607 - loss: 2.2560"
     ]
    },
    {
     "name": "stderr",
     "output_type": "stream",
     "text": [
      "WARNING: All log messages before absl::InitializeLog() is called are written to STDERR\n",
      "I0000 00:00:1717684643.895045      73 device_compiler.h:186] Compiled cluster using XLA!  This line is logged at most once for the lifetime of the process.\n",
      "W0000 00:00:1717684643.912676      73 graph_launch.cc:671] Fallback to op-by-op mode because memset node breaks graph update\n"
     ]
    },
    {
     "name": "stdout",
     "output_type": "stream",
     "text": [
      "\u001b[1m1234/1250\u001b[0m \u001b[32m━━━━━━━━━━━━━━━━━━━\u001b[0m\u001b[37m━\u001b[0m \u001b[1m0s\u001b[0m 2ms/step - accuracy: 0.3711 - loss: 1.7218"
     ]
    },
    {
     "name": "stderr",
     "output_type": "stream",
     "text": [
      "W0000 00:00:1717684647.633135      71 graph_launch.cc:671] Fallback to op-by-op mode because memset node breaks graph update\n"
     ]
    },
    {
     "name": "stdout",
     "output_type": "stream",
     "text": [
      "\u001b[1m1250/1250\u001b[0m \u001b[32m━━━━━━━━━━━━━━━━━━━━\u001b[0m\u001b[37m\u001b[0m \u001b[1m10s\u001b[0m 4ms/step - accuracy: 0.3724 - loss: 1.7186 - val_accuracy: 0.5452 - val_loss: 1.3051\n",
      "Epoch 2/10\n",
      "\u001b[1m  75/1250\u001b[0m \u001b[32m━\u001b[0m\u001b[37m━━━━━━━━━━━━━━━━━━━\u001b[0m \u001b[1m2s\u001b[0m 2ms/step - accuracy: 0.5571 - loss: 1.2532"
     ]
    },
    {
     "name": "stderr",
     "output_type": "stream",
     "text": [
      "W0000 00:00:1717684648.873378      72 graph_launch.cc:671] Fallback to op-by-op mode because memset node breaks graph update\n"
     ]
    },
    {
     "name": "stdout",
     "output_type": "stream",
     "text": [
      "\u001b[1m1250/1250\u001b[0m \u001b[32m━━━━━━━━━━━━━━━━━━━━\u001b[0m\u001b[37m\u001b[0m \u001b[1m3s\u001b[0m 3ms/step - accuracy: 0.5822 - loss: 1.1834 - val_accuracy: 0.6257 - val_loss: 1.0733\n",
      "Epoch 3/10\n",
      "\u001b[1m1250/1250\u001b[0m \u001b[32m━━━━━━━━━━━━━━━━━━━━\u001b[0m\u001b[37m\u001b[0m \u001b[1m3s\u001b[0m 3ms/step - accuracy: 0.6395 - loss: 1.0208 - val_accuracy: 0.6202 - val_loss: 1.0951\n",
      "Epoch 4/10\n",
      "\u001b[1m1250/1250\u001b[0m \u001b[32m━━━━━━━━━━━━━━━━━━━━\u001b[0m\u001b[37m\u001b[0m \u001b[1m3s\u001b[0m 3ms/step - accuracy: 0.6817 - loss: 0.9110 - val_accuracy: 0.6512 - val_loss: 1.0112\n",
      "Epoch 5/10\n",
      "\u001b[1m1250/1250\u001b[0m \u001b[32m━━━━━━━━━━━━━━━━━━━━\u001b[0m\u001b[37m\u001b[0m \u001b[1m3s\u001b[0m 3ms/step - accuracy: 0.7119 - loss: 0.8387 - val_accuracy: 0.6663 - val_loss: 0.9718\n",
      "Epoch 6/10\n",
      "\u001b[1m1250/1250\u001b[0m \u001b[32m━━━━━━━━━━━━━━━━━━━━\u001b[0m\u001b[37m\u001b[0m \u001b[1m4s\u001b[0m 3ms/step - accuracy: 0.7324 - loss: 0.7702 - val_accuracy: 0.6856 - val_loss: 0.9363\n",
      "Epoch 7/10\n",
      "\u001b[1m1250/1250\u001b[0m \u001b[32m━━━━━━━━━━━━━━━━━━━━\u001b[0m\u001b[37m\u001b[0m \u001b[1m4s\u001b[0m 3ms/step - accuracy: 0.7558 - loss: 0.7086 - val_accuracy: 0.6760 - val_loss: 0.9491\n",
      "Epoch 8/10\n",
      "\u001b[1m1250/1250\u001b[0m \u001b[32m━━━━━━━━━━━━━━━━━━━━\u001b[0m\u001b[37m\u001b[0m \u001b[1m3s\u001b[0m 3ms/step - accuracy: 0.7699 - loss: 0.6637 - val_accuracy: 0.6880 - val_loss: 0.9429\n",
      "Epoch 9/10\n",
      "\u001b[1m1250/1250\u001b[0m \u001b[32m━━━━━━━━━━━━━━━━━━━━\u001b[0m\u001b[37m\u001b[0m \u001b[1m4s\u001b[0m 3ms/step - accuracy: 0.7856 - loss: 0.6150 - val_accuracy: 0.6836 - val_loss: 0.9939\n",
      "Epoch 10/10\n",
      "\u001b[1m1250/1250\u001b[0m \u001b[32m━━━━━━━━━━━━━━━━━━━━\u001b[0m\u001b[37m\u001b[0m \u001b[1m3s\u001b[0m 3ms/step - accuracy: 0.7995 - loss: 0.5685 - val_accuracy: 0.6847 - val_loss: 0.9797\n"
     ]
    }
   ],
   "source": [
    "# Training the Model\n",
    "\n",
    "# Train the model with the training data\n",
    "history = model.fit(x_train,                           # Training data\n",
    "                    y_train,                           # Training labels\n",
    "                    epochs=10,                         # Number of epochs\n",
    "                    validation_split=0.2)              # Use 20% of training data for validation\n"
   ]
  },
  {
   "cell_type": "markdown",
   "id": "b0ecede5",
   "metadata": {
    "papermill": {
     "duration": 0.055179,
     "end_time": "2024-06-06T14:38:00.069314",
     "exception": false,
     "start_time": "2024-06-06T14:38:00.014135",
     "status": "completed"
    },
    "tags": []
   },
   "source": [
    "## Evaluating the Model\n",
    "\n",
    "After training, we can evaluate the model's performance using the test data. We'll measure the test accuracy to see how well the model generalizes to new data.\n"
   ]
  },
  {
   "cell_type": "code",
   "execution_count": 5,
   "id": "b618d8a5",
   "metadata": {
    "execution": {
     "iopub.execute_input": "2024-06-06T14:38:00.182627Z",
     "iopub.status.busy": "2024-06-06T14:38:00.181831Z",
     "iopub.status.idle": "2024-06-06T14:38:01.084192Z",
     "shell.execute_reply": "2024-06-06T14:38:01.083192Z"
    },
    "papermill": {
     "duration": 0.96151,
     "end_time": "2024-06-06T14:38:01.086263",
     "exception": false,
     "start_time": "2024-06-06T14:38:00.124753",
     "status": "completed"
    },
    "tags": []
   },
   "outputs": [
    {
     "name": "stdout",
     "output_type": "stream",
     "text": [
      "313/313 - 0s - 1ms/step - accuracy: 0.6751 - loss: 1.0069\n",
      "\n",
      "Test accuracy: 0.6751000285148621\n"
     ]
    }
   ],
   "source": [
    "# Evaluating the Model\n",
    "\n",
    "# Evaluate the model's performance using the test data\n",
    "test_loss, test_acc = model.evaluate(x_test,           # Test data\n",
    "                                     y_test,           # Test labels\n",
    "                                     verbose=2)        # Verbose output for evaluation\n",
    "print('\\nTest accuracy:', test_acc)                    # Print the test accuracy\n"
   ]
  },
  {
   "cell_type": "markdown",
   "id": "5774ccb6",
   "metadata": {
    "papermill": {
     "duration": 0.057278,
     "end_time": "2024-06-06T14:38:01.200780",
     "exception": false,
     "start_time": "2024-06-06T14:38:01.143502",
     "status": "completed"
    },
    "tags": []
   },
   "source": [
    "## Making Predictions\n",
    "\n",
    "After evaluating the model, we can use it to make predictions on new data. The model outputs probabilities for each class, and we use `argmax` to get the index of the highest probability, which corresponds to the predicted class.\n"
   ]
  },
  {
   "cell_type": "code",
   "execution_count": 6,
   "id": "3c215560",
   "metadata": {
    "execution": {
     "iopub.execute_input": "2024-06-06T14:38:01.316621Z",
     "iopub.status.busy": "2024-06-06T14:38:01.316259Z",
     "iopub.status.idle": "2024-06-06T14:38:02.965177Z",
     "shell.execute_reply": "2024-06-06T14:38:02.963777Z"
    },
    "papermill": {
     "duration": 1.709517,
     "end_time": "2024-06-06T14:38:02.967314",
     "exception": false,
     "start_time": "2024-06-06T14:38:01.257797",
     "status": "completed"
    },
    "tags": []
   },
   "outputs": [
    {
     "name": "stdout",
     "output_type": "stream",
     "text": [
      "\u001b[1m109/313\u001b[0m \u001b[32m━━━━━━\u001b[0m\u001b[37m━━━━━━━━━━━━━━\u001b[0m \u001b[1m0s\u001b[0m 1ms/step"
     ]
    },
    {
     "name": "stderr",
     "output_type": "stream",
     "text": [
      "W0000 00:00:1717684682.052088      73 graph_launch.cc:671] Fallback to op-by-op mode because memset node breaks graph update\n"
     ]
    },
    {
     "name": "stdout",
     "output_type": "stream",
     "text": [
      "\u001b[1m313/313\u001b[0m \u001b[32m━━━━━━━━━━━━━━━━━━━━\u001b[0m\u001b[37m\u001b[0m \u001b[1m1s\u001b[0m 2ms/step\n",
      "[1.0706789e-02 1.7501980e-04 5.4845456e-02 7.0166636e-01 4.2984877e-03\n",
      " 6.8117239e-02 1.4731845e-01 4.1448915e-05 1.2828355e-02 2.3783605e-06]\n"
     ]
    },
    {
     "name": "stderr",
     "output_type": "stream",
     "text": [
      "W0000 00:00:1717684682.771159      70 graph_launch.cc:671] Fallback to op-by-op mode because memset node breaks graph update\n"
     ]
    }
   ],
   "source": [
    "# Making Predictions\n",
    "\n",
    "# Make predictions on the test data\n",
    "predictions = model.predict(x_test) # Predictions will be in the form of probability distributions\n",
    "\n",
    "# Display the prediction for the first test image\n",
    "print(predictions[0])  # Print the prediction for the first test image\n"
   ]
  },
  {
   "cell_type": "markdown",
   "id": "8fe76af4",
   "metadata": {
    "papermill": {
     "duration": 0.057715,
     "end_time": "2024-06-06T14:38:03.083300",
     "exception": false,
     "start_time": "2024-06-06T14:38:03.025585",
     "status": "completed"
    },
    "tags": []
   },
   "source": [
    "## Plotting Test Images and Predictions\n",
    "\n",
    "We'll plot a few test images along with their predicted labels to visually inspect the model's predictions.\n",
    "\n",
    "The images are displayed in color, and the titles of the plots show the predicted labels.\n"
   ]
  },
  {
   "cell_type": "code",
   "execution_count": 7,
   "id": "cbb4d11e",
   "metadata": {
    "execution": {
     "iopub.execute_input": "2024-06-06T14:38:03.262380Z",
     "iopub.status.busy": "2024-06-06T14:38:03.261659Z",
     "iopub.status.idle": "2024-06-06T14:38:04.291039Z",
     "shell.execute_reply": "2024-06-06T14:38:04.290078Z"
    },
    "papermill": {
     "duration": 1.093441,
     "end_time": "2024-06-06T14:38:04.293187",
     "exception": false,
     "start_time": "2024-06-06T14:38:03.199746",
     "status": "completed"
    },
    "tags": []
   },
   "outputs": [
    {
     "data": {
      "image/png": "[encoded data removed]",
      "text/plain": [
       "<Figure size 1000x1000 with 9 Axes>"
      ]
     },
     "metadata": {},
     "output_type": "display_data"
    }
   ],
   "source": [
    "# Plotting Test Images and Predictions\n",
    "\n",
    "import matplotlib.pyplot as plt\n",
    "\n",
    "# Plot some test images with their predicted labels\n",
    "plt.figure(figsize=(10, 10))\n",
    "for i in range(9):                                     # Plot the first 9 test images\n",
    "    plt.subplot(3, 3, i + 1)                           # Create a 3x3 grid of subplots\n",
    "    plt.imshow(x_test[i])                              # Display the image\n",
    "    plt.title(f\"Predicted: {predictions[i].argmax()}\\nActual: {y_test[i].argmax()}\")  # Show predicted and actual labels\n",
    "    plt.axis('off')                                    # Hide the axis\n",
    "plt.show()                                             # Display the plot\n"
   ]
  },
  {
   "cell_type": "markdown",
   "id": "47bd0934",
   "metadata": {
    "papermill": {
     "duration": 0.059456,
     "end_time": "2024-06-06T14:38:04.412082",
     "exception": false,
     "start_time": "2024-06-06T14:38:04.352626",
     "status": "completed"
    },
    "tags": []
   },
   "source": [
    "## Visualizing Training Results\n",
    "\n",
    "Let's plot the training and validation accuracy and loss over the epochs to see how the model's performance improved during training.\n",
    "\n",
    "These plots help in understanding the model's learning process and identifying potential issues like overfitting.\n"
   ]
  },
  {
   "cell_type": "code",
   "execution_count": 8,
   "id": "5fe45017",
   "metadata": {
    "execution": {
     "iopub.execute_input": "2024-06-06T14:38:04.532507Z",
     "iopub.status.busy": "2024-06-06T14:38:04.531862Z",
     "iopub.status.idle": "2024-06-06T14:38:05.008257Z",
     "shell.execute_reply": "2024-06-06T14:38:05.007362Z"
    },
    "papermill": {
     "duration": 0.53989,
     "end_time": "2024-06-06T14:38:05.010753",
     "exception": false,
     "start_time": "2024-06-06T14:38:04.470863",
     "status": "completed"
    },
    "tags": []
   },
   "outputs": [
    {
     "data": {
      "image/png": "[encoded data removed]",
      "text/plain": [
       "<Figure size 1200x400 with 2 Axes>"
      ]
     },
     "metadata": {},
     "output_type": "display_data"
    }
   ],
   "source": [
    "# Visualizing Training Results\n",
    "\n",
    "# Plot training & validation accuracy values\n",
    "plt.figure(figsize=(12, 4))\n",
    "plt.subplot(1, 2, 1)                                   # Create subplot for accuracy\n",
    "plt.plot(history.history['accuracy'])                  # Plot training accuracy\n",
    "plt.plot(history.history['val_accuracy'])              # Plot validation accuracy\n",
    "plt.title('Model Accuracy')                            # Title of the plot\n",
    "plt.ylabel('Accuracy')                                 # Y-axis label\n",
    "plt.xlabel('Epoch')                                    # X-axis label\n",
    "plt.legend(['Train', 'Validation'], loc='upper left')  # Legend\n",
    "\n",
    "# Plot training & validation loss values\n",
    "plt.subplot(1, 2, 2)                                   # Create subplot for loss\n",
    "plt.plot(history.history['loss'])                      # Plot training loss\n",
    "plt.plot(history.history['val_loss'])                  # Plot validation loss\n",
    "plt.title('Model Loss')                                # Title of the plot\n",
    "plt.ylabel('Loss')                                     # Y-axis label\n",
    "plt.xlabel('Epoch')                                    # X-axis label\n",
    "plt.legend(['Train', 'Validation'], loc='upper left')  # Legend\n",
    "\n",
    "plt.show()                                             # Display the plots\n"
   ]
  },
  {
   "cell_type": "markdown",
   "id": "71ead5c1",
   "metadata": {
    "papermill": {
     "duration": 0.061174,
     "end_time": "2024-06-06T14:38:05.134036",
     "exception": false,
     "start_time": "2024-06-06T14:38:05.072862",
     "status": "completed"
    },
    "tags": []
   },
   "source": [
    "## Common Challenges and Solutions\n",
    "\n",
    "**1. Overfitting:**\n",
    "- **Problem:** The model performs well on training data but poorly on unseen test data.\n",
    "- **Solutions:**\n",
    "  - **Dropout:** Randomly sets a fraction of the input units to 0 at each update during training to prevent over-reliance on specific neurons.\n",
    "  - **Regularization:** Adds a penalty to the loss function to limit model complexity. Common techniques include L1 (Lasso) and L2 (Ridge) regularization.\n",
    "  - **Increase Training Data:** Collect more data or use data augmentation techniques to create variations of existing data, which helps the model generalize better.\n",
    "\n",
    "**2. Underfitting:**\n",
    "- **Problem:** The model is too simple to capture the underlying patterns in the data, leading to poor performance on both training and test data.\n",
    "- **Solutions:**\n",
    "  - **Increase Model Complexity:** Add more layers or neurons to the network.\n",
    "  - **Use More Features:** Incorporate additional relevant features into the model.\n",
    "  - **Train Longer:** Increase the number of epochs or reduce the learning rate to allow the model to learn more effectively.\n",
    "\n",
    "**3. Vanishing/Exploding Gradients:**\n",
    "- **Problem:** Gradients become too small (vanishing) or too large (exploding) during backpropagation, causing training to stall or become unstable.\n",
    "- **Solutions:**\n",
    "  - **Appropriate Activation Functions:** Use activation functions like ReLU, which mitigate the vanishing gradient problem by allowing gradients to flow through the network.\n",
    "  - **Proper Initialization:** Use techniques like He initialization for ReLU activations or Xavier initialization for sigmoid/tanh activations to maintain gradient flow.\n",
    "  - **Gradient Clipping:** Clip gradients during backpropagation to prevent them from becoming too large.\n",
    "\n",
    "**4. Slow Training:**\n",
    "- **Problem:** Training a neural network can be time-consuming, especially with large datasets and complex models.\n",
    "- **Solutions:**\n",
    "  - **Use GPUs:** Leverage the parallel processing power of GPUs to speed up computations.\n",
    "  - **Batch Normalization:** Normalize the inputs of each layer to stabilize learning and improve convergence speed.\n",
    "  - **Efficient Algorithms:** Use optimized algorithms and libraries designed for high-performance deep learning, such as TensorFlow and PyTorch.\n",
    "\n",
    "**5. Data Imbalance:**\n",
    "- **Problem:** The training data has an unequal distribution of classes, leading to biased predictions towards the majority class.\n",
    "- **Solutions:**\n",
    "  - **Resampling:** Use techniques like oversampling the minority class or undersampling the majority class to balance the dataset.\n",
    "  - **Class Weights:** Assign higher weights to the minority class in the loss function to give it more importance during training.\n",
    "  - **Synthetic Data:** Generate synthetic data for the minority class using techniques like SMOTE (Synthetic Minority Over-sampling Technique).\n",
    "\n",
    "**6. Hyperparameter Tuning:**\n",
    "- **Problem:** Finding the optimal set of hyperparameters (e.g., learning rate, batch size, number of layers) can be challenging and time-consuming.\n",
    "- **Solutions:**\n",
    "  - **Grid Search:** Explore a predefined set of hyperparameter values systematically.\n",
    "  - **Random Search:** Sample hyperparameter values randomly within specified ranges.\n",
    "  - **Bayesian Optimization:** Use probabilistic models to find the optimal hyperparameters more efficiently.\n",
    "\n",
    "**7. Interpretability:**\n",
    "- **Problem:** Neural networks are often considered \"black boxes\" due to their complexity, making it difficult to interpret their decisions.\n",
    "- **Solutions:**\n",
    "  - **Visualization Tools:** Use tools like TensorBoard to visualize the model’s performance and understand its behavior.\n",
    "  - **Model-Agnostic Methods:** Apply techniques like SHAP (SHapley Additive exPlanations) and LIME (Local Interpretable Model-agnostic Explanations) to interpret the model’s predictions.\n",
    "  - **Simpler Models:** When possible, use simpler models like decision trees or linear models, which are inherently more interpretable.\n",
    "\n",
    "By addressing these common challenges, you can build more robust and effective convolutional neural network models.\n"
   ]
  },
  {
   "cell_type": "markdown",
   "id": "8c13d7b5",
   "metadata": {
    "papermill": {
     "duration": 0.062116,
     "end_time": "2024-06-06T14:38:05.257474",
     "exception": false,
     "start_time": "2024-06-06T14:38:05.195358",
     "status": "completed"
    },
    "tags": []
   },
   "source": [
    "## Resources for Further Learning\n",
    "\n",
    "- [Deep Learning by Ian Goodfellow](https://www.deeplearningbook.org/)\n",
    "- [Neural Networks and Deep Learning by Michael Nielsen](http://neuralnetworksanddeeplearning.com/)\n",
    "- [TensorFlow Documentation](https://www.tensorflow.org/tutorials)\n",
    "- [Keras Documentation](https://keras.io/)\n",
    "- [Stanford CS231n: Convolutional Neural Networks for Visual Recognition](http://cs231n.stanford.edu/)\n"
   ]
  },
  {
   "cell_type": "markdown",
   "id": "aa60ca56",
   "metadata": {
    "papermill": {
     "duration": 0.06028,
     "end_time": "2024-06-06T14:38:05.378997",
     "exception": false,
     "start_time": "2024-06-06T14:38:05.318717",
     "status": "completed"
    },
    "tags": []
   },
   "source": [
    "## Conclusion\n",
    "\n",
    "In this notebook, we covered the basics of convolutional neural networks, including what they are, their key components, and how they work. We built a simple CNN model to classify images from the CIFAR-10 dataset, and we discussed common challenges and solutions in CNN training. This notebook serves as an introduction, providing a foundation for further exploration into more advanced topics such as advanced CNN architectures, transfer learning, and state-of-the-art models.\n",
    "\n",
    "While this guide covers essential concepts and practical steps, convolutional neural networks are a vast field with continuous advancements and complexities. To truly master CNNs, you'll need to dive deeper into specific areas, experiment with different architectures, and stay updated with the latest research.\n",
    "\n",
    "With this foundation, you're ready to explore more advanced topics and applications. Keep learning, experimenting, and pushing the boundaries of what you can achieve with convolutional neural networks.\n",
    "\n",
    "Happy learning!\n"
   ]
  }
 ],
 "metadata": {
  "kaggle": {
   "accelerator": "nvidiaTeslaT4",
   "dataSources": [],
   "dockerImageVersionId": 30699,
   "isGpuEnabled": true,
   "isInternetEnabled": true,
   "language": "python",
   "sourceType": "notebook"
  },
  "kernelspec": {
   "display_name": "Python 3",
   "language": "python",
   "name": "python3"
  },
  "language_info": {
   "codemirror_mode": {
    "name": "ipython",
    "version": 3
   },
   "file_extension": ".py",
   "mimetype": "text/x-python",
   "name": "python",
   "nbconvert_exporter": "python",
   "pygments_lexer": "ipython3",
   "version": "3.10.13"
  },
  "papermill": {
   "default_parameters": {},
   "duration": 72.316388,
   "end_time": "2024-06-06T14:38:08.195374",
   "environment_variables": {},
   "exception": null,
   "input_path": "__notebook__.ipynb",
   "output_path": "__notebook__.ipynb",
   "parameters": {},
   "start_time": "2024-06-06T14:36:55.878986",
   "version": "2.5.0"
  }
 },
 "nbformat": 4,
 "nbformat_minor": 5
}
