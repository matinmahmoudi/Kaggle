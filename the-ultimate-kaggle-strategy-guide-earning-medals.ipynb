{
 "cells": [
  {
   "cell_type": "code",
   "execution_count": 1,
   "id": "f38a6ba9",
   "metadata": {
    "_cell_guid": "b1076dfc-b9ad-4769-8c92-a6c4dae69d19",
    "_uuid": "8f2839f25d086af736a60e9eeb907d3b93b6e0e5",
    "execution": {
     "iopub.execute_input": "2024-04-17T07:25:26.126412Z",
     "iopub.status.busy": "2024-04-17T07:25:26.125986Z",
     "iopub.status.idle": "2024-04-17T07:25:29.107144Z",
     "shell.execute_reply": "2024-04-17T07:25:29.105952Z"
    },
    "papermill": {
     "duration": 2.989279,
     "end_time": "2024-04-17T07:25:29.109960",
     "exception": false,
     "start_time": "2024-04-17T07:25:26.120681",
     "status": "completed"
    },
    "tags": []
   },
   "outputs": [],
   "source": [
    "#import linear algebra and data manipulation libraries\n",
    "import numpy as np\n",
    "import pandas as pd\n",
    "\n",
    "#import date manipulation\n",
    "import datetime as dt\n",
    "from datetime import date, timedelta\n",
    "\n",
    "#import standard visualization\n",
    "import matplotlib.pyplot as plt\n",
    "import seaborn as sns\n",
    "\n",
    "#import machine learning\n",
    "from sklearn.linear_model import LinearRegression\n",
    "import xgboost\n",
    "\n",
    "from sklearn.model_selection import train_test_split #split\n",
    "from sklearn.metrics import r2_score, mean_squared_error #metrics\n",
    "\n",
    "# import helpers\n",
    "import re\n"
   ]
  },
  {
   "cell_type": "code",
   "execution_count": 2,
   "id": "6f767e6c",
   "metadata": {
    "execution": {
     "iopub.execute_input": "2024-04-17T07:25:29.117295Z",
     "iopub.status.busy": "2024-04-17T07:25:29.116676Z",
     "iopub.status.idle": "2024-04-17T07:28:41.541605Z",
     "shell.execute_reply": "2024-04-17T07:28:41.540486Z"
    },
    "papermill": {
     "duration": 192.432045,
     "end_time": "2024-04-17T07:28:41.544642",
     "exception": false,
     "start_time": "2024-04-17T07:25:29.112597",
     "status": "completed"
    },
    "tags": []
   },
   "outputs": [],
   "source": [
    "kernels = pd.read_csv('/kaggle/input/meta-kaggle/Kernels.csv')\n",
    "kernel_lang = pd.read_csv('/kaggle/input/meta-kaggle/KernelLanguages.csv')\n",
    "kernel_tags = pd.read_csv('/kaggle/input/meta-kaggle/KernelTags.csv')\n",
    "kernel_votes = pd.read_csv('/kaggle/input/meta-kaggle/KernelVotes.csv')\n",
    "kernel_versions = pd.read_csv('/kaggle/input/meta-kaggle/KernelVersions.csv')\n",
    "kernel_competitions = pd.read_csv('/kaggle/input/meta-kaggle/KernelVersionCompetitionSources.csv')\n",
    "kernel_users = pd.read_csv('/kaggle/input/meta-kaggle/Users.csv')\n",
    "datasets = pd.read_csv('/kaggle/input/meta-kaggle/Datasets.csv')\n",
    "kernel_datasets = pd.read_csv('/kaggle/input/meta-kaggle/KernelVersionDatasetSources.csv')\n",
    "dataset_versions = pd.read_csv('/kaggle/input/meta-kaggle/DatasetVersions.csv')\n",
    "tags = pd.read_csv('/kaggle/input/meta-kaggle/KernelTags.csv')\n",
    "competitions = pd.read_csv('/kaggle/input/meta-kaggle/Competitions.csv')\n",
    "messages = pd.read_csv('/kaggle/input/meta-kaggle/ForumMessages.csv')"
   ]
  },
  {
   "cell_type": "code",
   "execution_count": null,
   "id": "b1ea8aba",
   "metadata": {
    "papermill": {
     "duration": 0.002159,
     "end_time": "2024-04-17T07:28:41.549474",
     "exception": false,
     "start_time": "2024-04-17T07:28:41.547315",
     "status": "completed"
    },
    "tags": []
   },
   "outputs": [],
   "source": []
  }
 ],
 "metadata": {
  "kaggle": {
   "accelerator": "none",
   "dataSources": [
    {
     "datasetId": 9,
     "sourceId": 8129222,
     "sourceType": "datasetVersion"
    }
   ],
   "dockerImageVersionId": 30684,
   "isGpuEnabled": false,
   "isInternetEnabled": true,
   "language": "python",
   "sourceType": "notebook"
  },
  "kernelspec": {
   "display_name": "Python 3",
   "language": "python",
   "name": "python3"
  },
  "language_info": {
   "codemirror_mode": {
    "name": "ipython",
    "version": 3
   },
   "file_extension": ".py",
   "mimetype": "text/x-python",
   "name": "python",
   "nbconvert_exporter": "python",
   "pygments_lexer": "ipython3",
   "version": "3.10.13"
  },
  "papermill": {
   "default_parameters": {},
   "duration": 201.226267,
   "end_time": "2024-04-17T07:28:44.273487",
   "environment_variables": {},
   "exception": null,
   "input_path": "__notebook__.ipynb",
   "output_path": "__notebook__.ipynb",
   "parameters": {},
   "start_time": "2024-04-17T07:25:23.047220",
   "version": "2.5.0"
  }
 },
 "nbformat": 4,
 "nbformat_minor": 5
}
