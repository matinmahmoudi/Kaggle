{
 "cells": [
  {
   "cell_type": "markdown",
   "id": "7b361dd3",
   "metadata": {
    "papermill": {
     "duration": 0.007882,
     "end_time": "2024-05-28T15:52:36.775917",
     "exception": false,
     "start_time": "2024-05-28T15:52:36.768035",
     "status": "completed"
    },
    "tags": []
   },
   "source": [
    "# 🌳 Pandas Mastery Series - Advanced\n",
    "\n",
    "Welcome to the Pandas Mastery Series - Advanced! In this notebook, we will explore advanced pandas topics to enhance your data manipulation and analysis skills. This series will cover complex operations and provide practical examples to deepen your understanding of pandas. Let's dive into the advanced techniques!\n",
    "\n",
    "## Table of Contents\n",
    "\n",
    "### 1. **MultiIndex**\n",
    "- Creating MultiIndex\n",
    "- Accessing MultiIndex\n",
    "- Advanced Indexing with MultiIndex\n",
    "\n",
    "### 2. **Advanced GroupBy**\n",
    "- Grouping by Multiple Columns\n",
    "- Custom Aggregations\n",
    "- Grouping with Functions\n",
    "\n",
    "### 3. **Reshaping**\n",
    "- Pivot and Pivot Tables\n",
    "- Stack and Unstack\n",
    "- Melting DataFrames\n",
    "\n",
    "### 4. **Time Series**\n",
    "- Date Range Generation\n",
    "- Time Zone Handling\n",
    "- Time Series Resampling\n",
    "\n",
    "### 5. **Merging, Joining, and Concatenating**\n",
    "- Concatenating DataFrames\n",
    "- Merging on Index\n",
    "- Advanced Joining Techniques\n",
    "\n",
    "### 6. **Window Functions**\n",
    "- Rolling Windows\n",
    "- Expanding Windows\n",
    "- Applying Custom Functions\n",
    "\n",
    "### 7. **Text Data**\n",
    "- String Methods\n",
    "- Regular Expressions\n",
    "- Extracting Information from Text\n",
    "\n",
    "### 8. **Performance and Optimization**\n",
    "- Efficient Data Loading\n",
    "- Memory Usage Reduction\n",
    "- Parallel Processing\n",
    "\n",
    "### 9. **Fun Challenges**\n",
    "- Challenge 1: The MultiIndex Mystery\n",
    "- Challenge 2: The GroupBy Gauntlet\n",
    "- Challenge 3: The Reshaping Riddle\n",
    "- Challenge 4: The Time Series Trial\n",
    "- Challenge 5: The Optimization Obstacle\n",
    "\n",
    "### Ready for the Ultimate Challenge?\n",
    "\n",
    "Once you've completed all the notebooks in the Pandas Mastery Series, you'll be ready to tackle the final challenge: [Pandas Mastery Series - Ultimate Challenge](https://www.kaggle.com/code/matinmahmoudi/pandas-mastery-series-ultimate-challenge). This ultimate challenge will put your pandas skills to the test and ensure you're truly a pandas master.\n",
    "\n",
    "Let's get started and become pandas advanced masters!\n"
   ]
  },
  {
   "cell_type": "markdown",
   "id": "cc4303ec",
   "metadata": {
    "papermill": {
     "duration": 0.007169,
     "end_time": "2024-05-28T15:52:36.790992",
     "exception": false,
     "start_time": "2024-05-28T15:52:36.783823",
     "status": "completed"
    },
    "tags": []
   },
   "source": [
    "# 1. MultiIndex\n",
    "\n",
    "MultiIndex (also known as hierarchical indexing) is an advanced indexing technique that allows for multiple levels of indexing within a pandas DataFrame or Series. This feature enables more complex data analysis and manipulation.\n",
    "\n",
    "### Creating MultiIndex\n",
    "MultiIndex can be created from arrays, lists, or tuples. You can also set an existing DataFrame's index to be a MultiIndex.\n",
    "\n",
    "### Accessing MultiIndex\n",
    "Accessing data in a MultiIndex DataFrame or Series involves using a combination of levels and labels.\n",
    "\n",
    "### Advanced Indexing with MultiIndex\n",
    "Advanced indexing techniques, such as slicing and indexing with multiple levels, can be performed on MultiIndex objects.\n"
   ]
  },
  {
   "cell_type": "code",
   "execution_count": 1,
   "id": "27b7aa70",
   "metadata": {
    "execution": {
     "iopub.execute_input": "2024-05-28T15:52:36.808177Z",
     "iopub.status.busy": "2024-05-28T15:52:36.807791Z",
     "iopub.status.idle": "2024-05-28T15:52:37.830344Z",
     "shell.execute_reply": "2024-05-28T15:52:37.828773Z"
    },
    "papermill": {
     "duration": 1.034534,
     "end_time": "2024-05-28T15:52:37.833484",
     "exception": false,
     "start_time": "2024-05-28T15:52:36.798950",
     "status": "completed"
    },
    "tags": []
   },
   "outputs": [
    {
     "name": "stdout",
     "output_type": "stream",
     "text": [
      "MultiIndex from arrays:\n",
      " MultiIndex([('Hobbit',   'Frodo'),\n",
      "            ('Hobbit',     'Sam'),\n",
      "            ('Wizard', 'Gandalf'),\n",
      "            ( 'Human', 'Aragorn'),\n",
      "            (   'Elf', 'Legolas')],\n",
      "           names=['Race', 'Character'])\n",
      "\n",
      "DataFrame with MultiIndex:\n",
      "                    Age         Role\n",
      "Race   Character                   \n",
      "Hobbit Frodo        50  Ring-bearer\n",
      "       Sam          38     Gardener\n",
      "Wizard Gandalf    2019       Wizard\n",
      "Human  Aragorn      87         King\n",
      "Elf    Legolas    2931       Archer\n",
      "\n",
      "Data for 'Hobbit' race:\n",
      "            Age         Role\n",
      "Character                  \n",
      "Frodo       50  Ring-bearer\n",
      "Sam         38     Gardener\n",
      "\n",
      "Data for 'Gandalf' in 'Wizard' race:\n",
      " Age       2019\n",
      "Role    Wizard\n",
      "Name: (Wizard, Gandalf), dtype: object\n",
      "\n",
      "Data for 'Hobbit' and 'Wizard' races:\n",
      "                    Age         Role\n",
      "Race   Character                   \n",
      "Hobbit Frodo        50  Ring-bearer\n",
      "       Sam          38     Gardener\n",
      "Wizard Gandalf    2019       Wizard\n"
     ]
    }
   ],
   "source": [
    "# Import pandas library\n",
    "import pandas as pd\n",
    "\n",
    "arrays = [\n",
    "    ['Hobbit', 'Hobbit', 'Wizard', 'Human', 'Elf'],\n",
    "    ['Frodo', 'Sam', 'Gandalf', 'Aragorn', 'Legolas']\n",
    "]\n",
    "multi_index = pd.MultiIndex.from_arrays(arrays, names=('Race', 'Character'))\n",
    "print(\"MultiIndex from arrays:\\n\", multi_index)\n",
    "\n",
    "# Creating a DataFrame with MultiIndex\n",
    "data = {\n",
    "    'Age': [50, 38, 2019, 87, 2931],\n",
    "    'Role': ['Ring-bearer', 'Gardener', 'Wizard', 'King', 'Archer']\n",
    "}\n",
    "df_multi = pd.DataFrame(data, index=multi_index)\n",
    "print(\"\\nDataFrame with MultiIndex:\\n\", df_multi)\n",
    "\n",
    "# Accessing MultiIndex\n",
    "# Accessing data for 'Hobbit' race\n",
    "hobbit_data = df_multi.loc['Hobbit']\n",
    "print(\"\\nData for 'Hobbit' race:\\n\", hobbit_data)\n",
    "\n",
    "# Accessing data for 'Gandalf' in 'Wizard' race\n",
    "gandalf_data = df_multi.loc[('Wizard', 'Gandalf')]\n",
    "print(\"\\nData for 'Gandalf' in 'Wizard' race:\\n\", gandalf_data)\n",
    "\n",
    "# Advanced Indexing with MultiIndex\n",
    "# Slicing data for 'Hobbit' and 'Wizard' races\n",
    "hobbit_wizard_data = df_multi.loc[['Hobbit', 'Wizard']]\n",
    "print(\"\\nData for 'Hobbit' and 'Wizard' races:\\n\", hobbit_wizard_data)\n"
   ]
  },
  {
   "cell_type": "markdown",
   "id": "8ec52597",
   "metadata": {
    "papermill": {
     "duration": 0.00816,
     "end_time": "2024-05-28T15:52:37.849455",
     "exception": false,
     "start_time": "2024-05-28T15:52:37.841295",
     "status": "completed"
    },
    "tags": []
   },
   "source": [
    "# 2. Advanced GroupBy\n",
    "\n",
    "The GroupBy operation in pandas is powerful for aggregating data. Advanced GroupBy techniques include grouping by multiple columns, custom aggregations, and grouping with functions.\n",
    "\n",
    "### Grouping by Multiple Columns\n",
    "You can group data by more than one column, allowing for more granular analysis.\n",
    "\n",
    "### Custom Aggregations\n",
    "Custom aggregation functions can be applied to grouped data for specific calculations.\n",
    "\n",
    "### Grouping with Functions\n",
    "You can group data using custom functions to define the grouping criteria.\n"
   ]
  },
  {
   "cell_type": "code",
   "execution_count": 2,
   "id": "fc2e0875",
   "metadata": {
    "execution": {
     "iopub.execute_input": "2024-05-28T15:52:37.870178Z",
     "iopub.status.busy": "2024-05-28T15:52:37.868622Z",
     "iopub.status.idle": "2024-05-28T15:52:37.910584Z",
     "shell.execute_reply": "2024-05-28T15:52:37.908912Z"
    },
    "papermill": {
     "duration": 0.055162,
     "end_time": "2024-05-28T15:52:37.913909",
     "exception": false,
     "start_time": "2024-05-28T15:52:37.858747",
     "status": "completed"
    },
    "tags": []
   },
   "outputs": [
    {
     "name": "stdout",
     "output_type": "stream",
     "text": [
      "Grouped by Race and Character:\n",
      " Race    Character\n",
      "Dwarf   Gimli         139.0\n",
      "Elf     Legolas      2931.0\n",
      "Hobbit  Frodo          50.0\n",
      "        Merry          37.0\n",
      "        Pippin         29.0\n",
      "        Sam            38.0\n",
      "Human   Aragorn        87.0\n",
      "        Boromir        41.0\n",
      "Wizard  Gandalf      2019.0\n",
      "Name: Age, dtype: float64\n",
      "\n",
      "Custom Aggregations:\n",
      "         count  mean_age  age_range\n",
      "Race                              \n",
      "Dwarf       1     139.0          0\n",
      "Elf         1    2931.0          0\n",
      "Hobbit      4      38.5         21\n",
      "Human       2      64.0         46\n",
      "Wizard      1    2019.0          0\n",
      "\n",
      "Grouped by Age Group:\n",
      "                   Age\n",
      "AgeGroup             \n",
      "Old       1696.333333\n",
      "Young       47.000000\n"
     ]
    }
   ],
   "source": [
    "# Import pandas library\n",
    "import pandas as pd\n",
    "\n",
    "# Creating a DataFrame for GroupBy operations\n",
    "data = {\n",
    "    'Character': ['Frodo', 'Sam', 'Gandalf', 'Aragorn', 'Legolas', 'Boromir', 'Gimli', 'Pippin', 'Merry'],\n",
    "    'Race': ['Hobbit', 'Hobbit', 'Wizard', 'Human', 'Elf', 'Human', 'Dwarf', 'Hobbit', 'Hobbit'],\n",
    "    'Age': [50, 38, 2019, 87, 2931, 41, 139, 29, 37]\n",
    "}\n",
    "df = pd.DataFrame(data)\n",
    "\n",
    "# Grouping by multiple columns\n",
    "grouped_multi = df.groupby(['Race', 'Character'])['Age'].mean()\n",
    "print(\"Grouped by Race and Character:\\n\", grouped_multi)\n",
    "\n",
    "# Custom Aggregations\n",
    "# Define custom aggregation functions\n",
    "def range_agg(series):\n",
    "    return series.max() - series.min()\n",
    "\n",
    "custom_agg = df.groupby('Race').agg(\n",
    "    count=('Age', 'size'),\n",
    "    mean_age=('Age', 'mean'),\n",
    "    age_range=('Age', range_agg)\n",
    ")\n",
    "print(\"\\nCustom Aggregations:\\n\", custom_agg)\n",
    "\n",
    "# Grouping with Functions\n",
    "# Define a function to group characters into 'Young' and 'Old'\n",
    "def age_group(age):\n",
    "    return 'Young' if age < 100 else 'Old'\n",
    "\n",
    "# Apply the function to the 'Age' column to create a new column 'AgeGroup'\n",
    "df['AgeGroup'] = df['Age'].apply(age_group)\n",
    "\n",
    "# Group by 'AgeGroup' and calculate the mean for numeric columns\n",
    "grouped_func = df.groupby('AgeGroup').mean(numeric_only=True)\n",
    "print(\"\\nGrouped by Age Group:\\n\", grouped_func)\n",
    "\n"
   ]
  },
  {
   "cell_type": "markdown",
   "id": "d96ffa30",
   "metadata": {
    "papermill": {
     "duration": 0.007422,
     "end_time": "2024-05-28T15:52:37.929075",
     "exception": false,
     "start_time": "2024-05-28T15:52:37.921653",
     "status": "completed"
    },
    "tags": []
   },
   "source": [
    "# 3. Reshaping\n",
    "\n",
    "Reshaping data in pandas involves changing the layout of a DataFrame or Series. This can include pivoting, stacking, unstacking, and melting data.\n",
    "\n",
    "### Pivot and Pivot Tables\n",
    "Pivoting involves reshaping data to form a different DataFrame, typically for summary statistics.\n",
    "\n",
    "### Stack and Unstack\n",
    "Stacking involves compressing a level in a MultiIndex to columns, while unstacking involves expanding a level in a MultiIndex to rows.\n",
    "\n",
    "### Melting DataFrames\n",
    "Melting converts a DataFrame from a wide format to a long format.\n"
   ]
  },
  {
   "cell_type": "code",
   "execution_count": 3,
   "id": "9d273171",
   "metadata": {
    "execution": {
     "iopub.execute_input": "2024-05-28T15:52:37.946893Z",
     "iopub.status.busy": "2024-05-28T15:52:37.946333Z",
     "iopub.status.idle": "2024-05-28T15:52:37.987172Z",
     "shell.execute_reply": "2024-05-28T15:52:37.985745Z"
    },
    "papermill": {
     "duration": 0.052569,
     "end_time": "2024-05-28T15:52:37.989887",
     "exception": false,
     "start_time": "2024-05-28T15:52:37.937318",
     "status": "completed"
    },
    "tags": []
   },
   "outputs": [
    {
     "name": "stdout",
     "output_type": "stream",
     "text": [
      "Pivot Table:\n",
      " Role    Archer  Gardener  King  Ring-bearer  Wizard\n",
      "Race                                               \n",
      "Elf     2931.0       NaN   NaN          NaN     NaN\n",
      "Hobbit     NaN      38.0   NaN         50.0     NaN\n",
      "Human      NaN       NaN  87.0          NaN     NaN\n",
      "Wizard     NaN       NaN   NaN          NaN  2019.0\n",
      "\n",
      "Stacked DataFrame:\n",
      " Race    Character      \n",
      "Hobbit  Frodo      Age              50\n",
      "                   Role    Ring-bearer\n",
      "        Sam        Age              38\n",
      "                   Role       Gardener\n",
      "Wizard  Gandalf    Age            2019\n",
      "                   Role         Wizard\n",
      "Human   Aragorn    Age              87\n",
      "                   Role           King\n",
      "Elf     Legolas    Age            2931\n",
      "                   Role         Archer\n",
      "dtype: object\n",
      "\n",
      "Unstacked DataFrame:\n",
      "                    Age         Role\n",
      "Race   Character                   \n",
      "Elf    Legolas    2931       Archer\n",
      "Hobbit Frodo        50  Ring-bearer\n",
      "       Sam          38     Gardener\n",
      "Human  Aragorn      87         King\n",
      "Wizard Gandalf    2019       Wizard\n",
      "\n",
      "Melted DataFrame:\n",
      "    Character Attribute        Value\n",
      "0      Frodo      Race       Hobbit\n",
      "1        Sam      Race       Hobbit\n",
      "2    Gandalf      Race       Wizard\n",
      "3    Aragorn      Race        Human\n",
      "4    Legolas      Race          Elf\n",
      "5      Frodo       Age           50\n",
      "6        Sam       Age           38\n",
      "7    Gandalf       Age         2019\n",
      "8    Aragorn       Age           87\n",
      "9    Legolas       Age         2931\n",
      "10     Frodo      Role  Ring-bearer\n",
      "11       Sam      Role     Gardener\n",
      "12   Gandalf      Role       Wizard\n",
      "13   Aragorn      Role         King\n",
      "14   Legolas      Role       Archer\n"
     ]
    }
   ],
   "source": [
    "# Import pandas library\n",
    "import pandas as pd\n",
    "\n",
    "data = {\n",
    "    'Character': ['Frodo', 'Sam', 'Gandalf', 'Aragorn', 'Legolas'],\n",
    "    'Race': ['Hobbit', 'Hobbit', 'Wizard', 'Human', 'Elf'],\n",
    "    'Age': [50, 38, 2019, 87, 2931],\n",
    "    'Role': ['Ring-bearer', 'Gardener', 'Wizard', 'King', 'Archer']\n",
    "}\n",
    "df = pd.DataFrame(data)\n",
    "\n",
    "# Pivot Table\n",
    "pivot_table = df.pivot_table(values='Age', index='Race', columns='Role', aggfunc='mean')\n",
    "print(\"Pivot Table:\\n\", pivot_table)\n",
    "\n",
    "# Stack\n",
    "stacked = df.set_index(['Race', 'Character']).stack()\n",
    "print(\"\\nStacked DataFrame:\\n\", stacked)\n",
    "\n",
    "# Unstack\n",
    "unstacked = stacked.unstack()\n",
    "print(\"\\nUnstacked DataFrame:\\n\", unstacked)\n",
    "\n",
    "# Melting\n",
    "melted = pd.melt(df, id_vars=['Character'], value_vars=['Race', 'Age', 'Role'], var_name='Attribute', value_name='Value')\n",
    "print(\"\\nMelted DataFrame:\\n\", melted)\n"
   ]
  },
  {
   "cell_type": "markdown",
   "id": "2101439d",
   "metadata": {
    "papermill": {
     "duration": 0.008298,
     "end_time": "2024-05-28T15:52:38.006596",
     "exception": false,
     "start_time": "2024-05-28T15:52:37.998298",
     "status": "completed"
    },
    "tags": []
   },
   "source": [
    "# 4. Time Series\n",
    "\n",
    "Time series data is a sequence of data points recorded over time. pandas provides robust functionality for working with time series data, including creating time series, resampling, shifting, and applying rolling windows.\n",
    "\n",
    "### Date Range Generation\n",
    "Creating sequences of dates using `pd.date_range()` for generating time series indices.\n",
    "\n",
    "### Time Zone Handling\n",
    "Converting time series data to different time zones.\n",
    "\n",
    "### Time Series Resampling\n",
    "Changing the frequency of your time series data using resampling methods.\n"
   ]
  },
  {
   "cell_type": "code",
   "execution_count": 4,
   "id": "88c723fa",
   "metadata": {
    "execution": {
     "iopub.execute_input": "2024-05-28T15:52:38.025473Z",
     "iopub.status.busy": "2024-05-28T15:52:38.025040Z",
     "iopub.status.idle": "2024-05-28T15:52:38.099879Z",
     "shell.execute_reply": "2024-05-28T15:52:38.098322Z"
    },
    "papermill": {
     "duration": 0.087264,
     "end_time": "2024-05-28T15:52:38.102506",
     "exception": false,
     "start_time": "2024-05-28T15:52:38.015242",
     "status": "completed"
    },
    "tags": []
   },
   "outputs": [
    {
     "name": "stdout",
     "output_type": "stream",
     "text": [
      "Date Range:\n",
      " DatetimeIndex(['2023-01-01', '2023-01-02', '2023-01-03', '2023-01-04',\n",
      "               '2023-01-05', '2023-01-06', '2023-01-07', '2023-01-08',\n",
      "               '2023-01-09', '2023-01-10'],\n",
      "              dtype='datetime64[ns]', freq='D')\n",
      "\n",
      "Time Series:\n",
      " 2023-01-01    0.310751\n",
      "2023-01-02    0.206046\n",
      "2023-01-03    0.410209\n",
      "2023-01-04    0.369894\n",
      "2023-01-05   -0.088035\n",
      "2023-01-06    0.003775\n",
      "2023-01-07   -0.390728\n",
      "2023-01-08    0.794522\n",
      "2023-01-09   -0.945014\n",
      "2023-01-10    1.115299\n",
      "Freq: D, dtype: float64\n",
      "\n",
      "Localized Time Series (UTC):\n",
      " 2023-01-01 00:00:00+00:00    0.310751\n",
      "2023-01-02 00:00:00+00:00    0.206046\n",
      "2023-01-03 00:00:00+00:00    0.410209\n",
      "2023-01-04 00:00:00+00:00    0.369894\n",
      "2023-01-05 00:00:00+00:00   -0.088035\n",
      "2023-01-06 00:00:00+00:00    0.003775\n",
      "2023-01-07 00:00:00+00:00   -0.390728\n",
      "2023-01-08 00:00:00+00:00    0.794522\n",
      "2023-01-09 00:00:00+00:00   -0.945014\n",
      "2023-01-10 00:00:00+00:00    1.115299\n",
      "Freq: D, dtype: float64\n",
      "\n",
      "Converted Time Series (US/Eastern):\n",
      " 2022-12-31 19:00:00-05:00    0.310751\n",
      "2023-01-01 19:00:00-05:00    0.206046\n",
      "2023-01-02 19:00:00-05:00    0.410209\n",
      "2023-01-03 19:00:00-05:00    0.369894\n",
      "2023-01-04 19:00:00-05:00   -0.088035\n",
      "2023-01-05 19:00:00-05:00    0.003775\n",
      "2023-01-06 19:00:00-05:00   -0.390728\n",
      "2023-01-07 19:00:00-05:00    0.794522\n",
      "2023-01-08 19:00:00-05:00   -0.945014\n",
      "2023-01-09 19:00:00-05:00    1.115299\n",
      "Freq: D, dtype: float64\n",
      "\n",
      "Weekly Resampled Series:\n",
      " 2023-01-01    0.310751\n",
      "2023-01-08    0.186526\n",
      "2023-01-15    0.085143\n",
      "Freq: W-SUN, dtype: float64\n"
     ]
    }
   ],
   "source": [
    "# Import pandas library\n",
    "import pandas as pd\n",
    "import numpy as np\n",
    "\n",
    "# Date Range Generation\n",
    "date_range = pd.date_range(start='2023-01-01', periods=10, freq='D')\n",
    "print(\"Date Range:\\n\", date_range)\n",
    "\n",
    "# Creating a time series with random data\n",
    "time_series = pd.Series(np.random.randn(10), index=date_range)\n",
    "print(\"\\nTime Series:\\n\", time_series)\n",
    "\n",
    "# Time Zone Handling\n",
    "# Localize the time series to a specific time zone\n",
    "localized_series = time_series.tz_localize('UTC')\n",
    "print(\"\\nLocalized Time Series (UTC):\\n\", localized_series)\n",
    "\n",
    "# Convert the time series to a different time zone\n",
    "converted_series = localized_series.tz_convert('US/Eastern')\n",
    "print(\"\\nConverted Time Series (US/Eastern):\\n\", converted_series)\n",
    "\n",
    "# Time Series Resampling\n",
    "# Resampling to a different frequency (e.g., weekly)\n",
    "weekly_series = time_series.resample('W').mean()\n",
    "print(\"\\nWeekly Resampled Series:\\n\", weekly_series)\n"
   ]
  },
  {
   "cell_type": "markdown",
   "id": "f55fbf47",
   "metadata": {
    "papermill": {
     "duration": 0.007408,
     "end_time": "2024-05-28T15:52:38.117968",
     "exception": false,
     "start_time": "2024-05-28T15:52:38.110560",
     "status": "completed"
    },
    "tags": []
   },
   "source": [
    "# 5. Merging, Joining, and Concatenating\n",
    "\n",
    "Combining multiple DataFrames is a common task in data analysis. pandas provides several methods to accomplish this, including concatenation, merging, and joining.\n",
    "\n",
    "### Concatenating DataFrames\n",
    "Concatenation combines multiple DataFrames along a particular axis.\n",
    "\n",
    "### Merging on Index\n",
    "Merging allows you to combine DataFrames based on their index or a common column.\n",
    "\n",
    "### Advanced Joining Techniques\n",
    "Advanced joining techniques involve performing SQL-like joins with DataFrames.\n"
   ]
  },
  {
   "cell_type": "code",
   "execution_count": 5,
   "id": "753a44bd",
   "metadata": {
    "execution": {
     "iopub.execute_input": "2024-05-28T15:52:38.135191Z",
     "iopub.status.busy": "2024-05-28T15:52:38.134797Z",
     "iopub.status.idle": "2024-05-28T15:52:38.165400Z",
     "shell.execute_reply": "2024-05-28T15:52:38.164092Z"
    },
    "papermill": {
     "duration": 0.041829,
     "end_time": "2024-05-28T15:52:38.167617",
     "exception": false,
     "start_time": "2024-05-28T15:52:38.125788",
     "status": "completed"
    },
    "tags": []
   },
   "outputs": [
    {
     "name": "stdout",
     "output_type": "stream",
     "text": [
      "Concatenated DataFrame:\n",
      "       Name    Race\n",
      "0    Frodo  Hobbit\n",
      "1      Sam  Hobbit\n",
      "2  Gandalf  Wizard\n",
      "0  Aragorn   Human\n",
      "1  Legolas     Elf\n",
      "2    Gimli   Dwarf\n",
      "\n",
      "Merged DataFrame (inner join):\n",
      "       Name    Race Weapon\n",
      "0    Frodo  Hobbit  Sting\n",
      "1      Sam  Hobbit  Sword\n",
      "2  Gandalf  Wizard  Staff\n",
      "\n",
      "Left Join DataFrame:\n",
      "       Name    Race Weapon\n",
      "0    Frodo  Hobbit  Sting\n",
      "1      Sam  Hobbit  Sword\n",
      "2  Gandalf  Wizard  Staff\n",
      "\n",
      "Right Join DataFrame:\n",
      "         Name Race   Weapon\n",
      "NaN  Aragorn  NaN  Anduril\n",
      "NaN  Legolas  NaN      Bow\n",
      "NaN    Gimli  NaN      Axe\n"
     ]
    }
   ],
   "source": [
    "# Import pandas library\n",
    "import pandas as pd\n",
    "\n",
    "\n",
    "df1 = pd.DataFrame({\n",
    "    'Name': ['Frodo', 'Sam', 'Gandalf'],\n",
    "    'Race': ['Hobbit', 'Hobbit', 'Wizard']\n",
    "})\n",
    "df2 = pd.DataFrame({\n",
    "    'Name': ['Aragorn', 'Legolas', 'Gimli'],\n",
    "    'Race': ['Human', 'Elf', 'Dwarf']\n",
    "})\n",
    "\n",
    "# Concatenating DataFrames\n",
    "concat_df = pd.concat([df1, df2])\n",
    "print(\"Concatenated DataFrame:\\n\", concat_df)\n",
    "\n",
    "# Creating DataFrames for merging\n",
    "df3 = pd.DataFrame({\n",
    "    'Name': ['Frodo', 'Sam', 'Gandalf'],\n",
    "    'Weapon': ['Sting', 'Sword', 'Staff']\n",
    "})\n",
    "df4 = pd.DataFrame({\n",
    "    'Name': ['Aragorn', 'Legolas', 'Gimli'],\n",
    "    'Weapon': ['Anduril', 'Bow', 'Axe']\n",
    "})\n",
    "\n",
    "# Merging DataFrames on a common column\n",
    "merged_df = pd.merge(df1, df3, on='Name', how='inner')\n",
    "print(\"\\nMerged DataFrame (inner join):\\n\", merged_df)\n",
    "\n",
    "# Advanced Joining Techniques\n",
    "# Left join\n",
    "left_join_df = df1.join(df3.set_index('Name'), on='Name', how='left')\n",
    "print(\"\\nLeft Join DataFrame:\\n\", left_join_df)\n",
    "\n",
    "# Right join\n",
    "right_join_df = df1.join(df4.set_index('Name'), on='Name', how='right')\n",
    "print(\"\\nRight Join DataFrame:\\n\", right_join_df)\n"
   ]
  },
  {
   "cell_type": "markdown",
   "id": "1e6c830d",
   "metadata": {
    "papermill": {
     "duration": 0.007581,
     "end_time": "2024-05-28T15:52:38.183156",
     "exception": false,
     "start_time": "2024-05-28T15:52:38.175575",
     "status": "completed"
    },
    "tags": []
   },
   "source": [
    "# 6. Window Functions\n",
    "\n",
    "Window functions in pandas allow you to perform operations over a specified window or rolling time frame. These functions are useful for smoothing, trend analysis, and other time series operations.\n",
    "\n",
    "### Rolling Windows\n",
    "Applying operations over a rolling window of specified size.\n",
    "\n",
    "### Expanding Windows\n",
    "Applying cumulative operations over an expanding window.\n",
    "\n",
    "### Applying Custom Functions\n",
    "Using custom functions with rolling and expanding windows for more complex calculations.\n"
   ]
  },
  {
   "cell_type": "code",
   "execution_count": 6,
   "id": "3368178f",
   "metadata": {
    "execution": {
     "iopub.execute_input": "2024-05-28T15:52:38.200258Z",
     "iopub.status.busy": "2024-05-28T15:52:38.199879Z",
     "iopub.status.idle": "2024-05-28T15:52:38.216664Z",
     "shell.execute_reply": "2024-05-28T15:52:38.215579Z"
    },
    "papermill": {
     "duration": 0.028864,
     "end_time": "2024-05-28T15:52:38.219806",
     "exception": false,
     "start_time": "2024-05-28T15:52:38.190942",
     "status": "completed"
    },
    "tags": []
   },
   "outputs": [
    {
     "name": "stdout",
     "output_type": "stream",
     "text": [
      "Original Time Series:\n",
      " 2023-01-01    1.017457\n",
      "2023-01-02    0.321418\n",
      "2023-01-03    1.416424\n",
      "2023-01-04   -0.067304\n",
      "2023-01-05   -0.703227\n",
      "2023-01-06    0.752170\n",
      "2023-01-07   -0.262818\n",
      "2023-01-08   -0.647338\n",
      "2023-01-09    0.292799\n",
      "2023-01-10   -0.835175\n",
      "Freq: D, dtype: float64\n",
      "\n",
      "Rolling Mean (3-day window):\n",
      " 2023-01-01         NaN\n",
      "2023-01-02         NaN\n",
      "2023-01-03    0.918433\n",
      "2023-01-04    0.556846\n",
      "2023-01-05    0.215298\n",
      "2023-01-06   -0.006120\n",
      "2023-01-07   -0.071291\n",
      "2023-01-08   -0.052662\n",
      "2023-01-09   -0.205786\n",
      "2023-01-10   -0.396571\n",
      "Freq: D, dtype: float64\n",
      "\n",
      "Expanding Sum:\n",
      " 2023-01-01    1.017457\n",
      "2023-01-02    1.338875\n",
      "2023-01-03    2.755298\n",
      "2023-01-04    2.687994\n",
      "2023-01-05    1.984768\n",
      "2023-01-06    2.736938\n",
      "2023-01-07    2.474120\n",
      "2023-01-08    1.826782\n",
      "2023-01-09    2.119581\n",
      "2023-01-10    1.284406\n",
      "Freq: D, dtype: float64\n",
      "\n",
      "Rolling Range (3-day window):\n",
      " 2023-01-01         NaN\n",
      "2023-01-02         NaN\n",
      "2023-01-03    1.095006\n",
      "2023-01-04    1.483727\n",
      "2023-01-05    2.119650\n",
      "2023-01-06    1.455397\n",
      "2023-01-07    1.455397\n",
      "2023-01-08    1.399508\n",
      "2023-01-09    0.940137\n",
      "2023-01-10    1.127974\n",
      "Freq: D, dtype: float64\n"
     ]
    }
   ],
   "source": [
    "# Import pandas library\n",
    "import pandas as pd\n",
    "import numpy as np\n",
    "\n",
    "# Creating a time series with random data\n",
    "date_range = pd.date_range(start='2023-01-01', periods=10, freq='D')\n",
    "time_series = pd.Series(np.random.randn(10), index=date_range)\n",
    "print(\"Original Time Series:\\n\", time_series)\n",
    "\n",
    "# Rolling Windows\n",
    "# Applying a rolling window of 3 days and calculating the mean\n",
    "rolling_mean = time_series.rolling(window=3).mean()\n",
    "print(\"\\nRolling Mean (3-day window):\\n\", rolling_mean)\n",
    "\n",
    "# Expanding Windows\n",
    "# Applying an expanding window and calculating the cumulative sum\n",
    "expanding_sum = time_series.expanding().sum()\n",
    "print(\"\\nExpanding Sum:\\n\", expanding_sum)\n",
    "\n",
    "# Applying Custom Functions\n",
    "# Custom function to calculate the range (max - min) over a rolling window\n",
    "def range_func(x):\n",
    "    return x.max() - x.min()\n",
    "\n",
    "rolling_range = time_series.rolling(window=3).apply(range_func)\n",
    "print(\"\\nRolling Range (3-day window):\\n\", rolling_range)\n"
   ]
  },
  {
   "cell_type": "markdown",
   "id": "bc98026f",
   "metadata": {
    "papermill": {
     "duration": 0.011159,
     "end_time": "2024-05-28T15:52:38.239408",
     "exception": false,
     "start_time": "2024-05-28T15:52:38.228249",
     "status": "completed"
    },
    "tags": []
   },
   "source": [
    "# 7. Text Data\n",
    "\n",
    "Working with text data in pandas involves various string operations, including manipulation, regular expressions, and extracting information from text. These operations are essential for cleaning and transforming text data.\n",
    "\n",
    "### String Methods\n",
    "pandas provides numerous built-in string methods for common text operations.\n",
    "\n",
    "### Regular Expressions\n",
    "Regular expressions (regex) are powerful tools for pattern matching and text extraction.\n",
    "\n",
    "### Extracting Information from Text\n",
    "You can extract specific information from text data using pandas' string methods and regex.\n"
   ]
  },
  {
   "cell_type": "code",
   "execution_count": 7,
   "id": "7a547e9e",
   "metadata": {
    "execution": {
     "iopub.execute_input": "2024-05-28T15:52:38.261006Z",
     "iopub.status.busy": "2024-05-28T15:52:38.259843Z",
     "iopub.status.idle": "2024-05-28T15:52:38.277344Z",
     "shell.execute_reply": "2024-05-28T15:52:38.276127Z"
    },
    "papermill": {
     "duration": 0.030865,
     "end_time": "2024-05-28T15:52:38.280250",
     "exception": false,
     "start_time": "2024-05-28T15:52:38.249385",
     "status": "completed"
    },
    "tags": []
   },
   "outputs": [
    {
     "name": "stdout",
     "output_type": "stream",
     "text": [
      "Original Series:\n",
      " 0              Frodo Baggins\n",
      "1             Samwise Gamgee\n",
      "2           Gandalf the Grey\n",
      "3    Aragorn son of Arathorn\n",
      "4        Legolas of Mirkwood\n",
      "dtype: object\n",
      "\n",
      "Lowercase Series:\n",
      " 0              frodo baggins\n",
      "1             samwise gamgee\n",
      "2           gandalf the grey\n",
      "3    aragorn son of arathorn\n",
      "4        legolas of mirkwood\n",
      "dtype: object\n",
      "\n",
      "Length of each character name:\n",
      " 0    13\n",
      "1    14\n",
      "2    16\n",
      "3    23\n",
      "4    19\n",
      "dtype: int64\n",
      "\n",
      "Extracted First Names:\n",
      " 0      Frodo\n",
      "1    Samwise\n",
      "2    Gandalf\n",
      "3    Aragorn\n",
      "4    Legolas\n",
      "dtype: object\n",
      "\n",
      "Extracted Titles:\n",
      " 0                NaN\n",
      "1                NaN\n",
      "2           the Grey\n",
      "3    son of Arathorn\n",
      "4        of Mirkwood\n",
      "dtype: object\n",
      "\n",
      "Character names containing 'of':\n",
      " 0    False\n",
      "1    False\n",
      "2    False\n",
      "3     True\n",
      "4     True\n",
      "dtype: bool\n"
     ]
    }
   ],
   "source": [
    "# Import pandas library\n",
    "import pandas as pd\n",
    "\n",
    "# Creating a Series with text data\n",
    "characters = pd.Series(['Frodo Baggins', 'Samwise Gamgee', 'Gandalf the Grey', 'Aragorn son of Arathorn', 'Legolas of Mirkwood'])\n",
    "print(\"Original Series:\\n\", characters)\n",
    "\n",
    "# String Methods\n",
    "# Converting to lowercase\n",
    "lowercase_characters = characters.str.lower()\n",
    "print(\"\\nLowercase Series:\\n\", lowercase_characters)\n",
    "\n",
    "# Extracting length of each string\n",
    "length_characters = characters.str.len()\n",
    "print(\"\\nLength of each character name:\\n\", length_characters)\n",
    "\n",
    "# Regular Expressions\n",
    "# Extracting first names using regex\n",
    "first_names = characters.str.extract(r'(\\w+)', expand=False)\n",
    "print(\"\\nExtracted First Names:\\n\", first_names)\n",
    "\n",
    "# Extracting titles (e.g., \"the Grey\", \"son of Arathorn\")\n",
    "titles = characters.str.extract(r'(the \\w+|son of \\w+|of \\w+)', expand=False)\n",
    "print(\"\\nExtracted Titles:\\n\", titles)\n",
    "\n",
    "# Extracting Information from Text\n",
    "# Checking if the character name contains \"of\"\n",
    "contains_of = characters.str.contains('of')\n",
    "print(\"\\nCharacter names containing 'of':\\n\", contains_of)\n"
   ]
  },
  {
   "cell_type": "markdown",
   "id": "83d780f6",
   "metadata": {
    "papermill": {
     "duration": 0.008424,
     "end_time": "2024-05-28T15:52:38.301194",
     "exception": false,
     "start_time": "2024-05-28T15:52:38.292770",
     "status": "completed"
    },
    "tags": []
   },
   "source": [
    "# 8. Performance and Optimization\n",
    "\n",
    "Optimizing the performance of your pandas code is crucial for handling large datasets efficiently. This section covers techniques for efficient data loading, reducing memory usage, and parallel processing.\n",
    "\n",
    "### Efficient Data Loading\n",
    "Loading data efficiently using various methods provided by pandas.\n",
    "\n",
    "### Memory Usage Reduction\n",
    "Techniques to reduce memory usage by optimizing data types and other strategies.\n",
    "\n",
    "### Parallel Processing\n",
    "Leveraging parallel processing to speed up computations on large datasets.\n"
   ]
  },
  {
   "cell_type": "code",
   "execution_count": 8,
   "id": "5679c08e",
   "metadata": {
    "execution": {
     "iopub.execute_input": "2024-05-28T15:52:38.320154Z",
     "iopub.status.busy": "2024-05-28T15:52:38.319639Z",
     "iopub.status.idle": "2024-05-28T15:52:39.852851Z",
     "shell.execute_reply": "2024-05-28T15:52:39.851520Z"
    },
    "papermill": {
     "duration": 1.546095,
     "end_time": "2024-05-28T15:52:39.855698",
     "exception": false,
     "start_time": "2024-05-28T15:52:38.309603",
     "status": "completed"
    },
    "tags": []
   },
   "outputs": [
    {
     "name": "stdout",
     "output_type": "stream",
     "text": [
      "Original DataFrame memory usage:\n",
      " Index        128\n",
      "A        8000000\n",
      "B        8000000\n",
      "dtype: int64\n",
      "\n",
      "Optimized DataFrame memory usage:\n",
      " Index        128\n",
      "A        2000000\n",
      "B        2000000\n",
      "dtype: int64\n",
      "\n",
      "Original mixed DataFrame memory usage:\n",
      " Index        128\n",
      "integers    8000\n",
      "floats      8000\n",
      "strings     8000\n",
      "dtype: int64\n",
      "\n",
      "Optimized mixed DataFrame memory usage:\n",
      " Index         128\n",
      "integers     8000\n",
      "floats       8000\n",
      "strings     43064\n",
      "dtype: int64\n",
      "\n",
      "Parallel computation with Dask:\n",
      "             B\n",
      "A            \n",
      "0   49.482500\n",
      "1   49.162673\n",
      "2   49.466586\n",
      "3   49.363081\n",
      "4   49.147914\n",
      "..        ...\n",
      "95  49.324122\n",
      "96  49.632757\n",
      "97  50.058159\n",
      "98  49.286805\n",
      "99  49.554934\n",
      "\n",
      "[100 rows x 1 columns]\n"
     ]
    }
   ],
   "source": [
    "# Import pandas library\n",
    "import pandas as pd\n",
    "import numpy as np\n",
    "\n",
    "# Efficient Data Loading\n",
    "# Using a smaller data type for integers\n",
    "data = pd.DataFrame({\n",
    "    'A': np.random.randint(0, 100, size=1000000),\n",
    "    'B': np.random.randint(0, 100, size=1000000)\n",
    "})\n",
    "print(\"Original DataFrame memory usage:\\n\", data.memory_usage(deep=True))\n",
    "\n",
    "# Convert integer columns to smaller data types\n",
    "data['A'] = data['A'].astype(np.int16)\n",
    "data['B'] = data['B'].astype(np.int16)\n",
    "print(\"\\nOptimized DataFrame memory usage:\\n\", data.memory_usage(deep=True))\n",
    "\n",
    "# Memory Usage Reduction\n",
    "# Creating a DataFrame with mixed data types\n",
    "data_mixed = pd.DataFrame({\n",
    "    'integers': np.random.randint(0, 100, size=1000),\n",
    "    'floats': np.random.rand(1000),\n",
    "    'strings': pd.Series(pd.util.hash_pandas_object(pd.Series(np.random.rand(1000).astype(str))))\n",
    "})\n",
    "print(\"\\nOriginal mixed DataFrame memory usage:\\n\", data_mixed.memory_usage(deep=True))\n",
    "\n",
    "# Convert strings to category type\n",
    "data_mixed['strings'] = data_mixed['strings'].astype('category')\n",
    "print(\"\\nOptimized mixed DataFrame memory usage:\\n\", data_mixed.memory_usage(deep=True))\n",
    "\n",
    "# Parallel Processing\n",
    "# Using Dask to handle large datasets with parallel processing\n",
    "import dask.dataframe as dd\n",
    "\n",
    "# Convert pandas DataFrame to Dask DataFrame\n",
    "dask_df = dd.from_pandas(data, npartitions=4)\n",
    "\n",
    "# Perform parallel computation with Dask\n",
    "result = dask_df.groupby('A').mean().compute()\n",
    "print(\"\\nParallel computation with Dask:\\n\", result)\n"
   ]
  },
  {
   "cell_type": "markdown",
   "id": "2698ecdf",
   "metadata": {
    "papermill": {
     "duration": 0.009294,
     "end_time": "2024-05-28T15:52:39.874099",
     "exception": false,
     "start_time": "2024-05-28T15:52:39.864805",
     "status": "completed"
    },
    "tags": []
   },
   "source": [
    "# Challenge 1: The MultiIndex Mystery\n",
    "\n",
    "You are given a DataFrame with a MultiIndex. Your task is to perform the following operations:\n",
    "\n",
    "1. Access the data for a specific level of the MultiIndex.\n",
    "2. Slice the data for a range of values in one of the levels.\n",
    "3. Perform an aggregation on one of the levels.\n",
    "\n",
    "**Dataset:**\n",
    "- Characters and their attributes from \"The Lord of the Rings\"\n",
    "\n",
    "Perform these operations and display the results.\n"
   ]
  },
  {
   "cell_type": "code",
   "execution_count": 9,
   "id": "f0a51188",
   "metadata": {
    "execution": {
     "iopub.execute_input": "2024-05-28T15:52:39.894211Z",
     "iopub.status.busy": "2024-05-28T15:52:39.893643Z",
     "iopub.status.idle": "2024-05-28T15:52:39.903613Z",
     "shell.execute_reply": "2024-05-28T15:52:39.902147Z"
    },
    "papermill": {
     "duration": 0.023421,
     "end_time": "2024-05-28T15:52:39.906619",
     "exception": false,
     "start_time": "2024-05-28T15:52:39.883198",
     "status": "completed"
    },
    "tags": []
   },
   "outputs": [],
   "source": [
    "# Import pandas library\n",
    "import pandas as pd\n",
    "\n",
    "arrays = [\n",
    "    ['Hobbit', 'Hobbit', 'Wizard', 'Human', 'Elf'],\n",
    "    ['Frodo', 'Sam', 'Gandalf', 'Aragorn', 'Legolas']\n",
    "]\n",
    "multi_index = pd.MultiIndex.from_arrays(arrays, names=('Race', 'Character'))\n",
    "data = {\n",
    "    'Age': [50, 38, 2019, 87, 2931],\n",
    "    'Role': ['Ring-bearer', 'Gardener', 'Wizard', 'King', 'Archer']\n",
    "}\n",
    "df_multi = pd.DataFrame(data, index=multi_index)\n"
   ]
  },
  {
   "cell_type": "code",
   "execution_count": 10,
   "id": "757749f4",
   "metadata": {
    "execution": {
     "iopub.execute_input": "2024-05-28T15:52:39.927178Z",
     "iopub.status.busy": "2024-05-28T15:52:39.926805Z",
     "iopub.status.idle": "2024-05-28T15:52:39.943288Z",
     "shell.execute_reply": "2024-05-28T15:52:39.941534Z"
    },
    "papermill": {
     "duration": 0.030105,
     "end_time": "2024-05-28T15:52:39.946361",
     "exception": false,
     "start_time": "2024-05-28T15:52:39.916256",
     "status": "completed"
    },
    "tags": []
   },
   "outputs": [
    {
     "name": "stdout",
     "output_type": "stream",
     "text": [
      "\n",
      "Data for 'Hobbit' race:\n",
      "            Age         Role\n",
      "Character                  \n",
      "Frodo       50  Ring-bearer\n",
      "Sam         38     Gardener\n",
      "\n",
      "Data for 'Hobbit' and 'Wizard' races:\n",
      "                    Age         Role\n",
      "Race   Character                   \n",
      "Hobbit Frodo        50  Ring-bearer\n",
      "       Sam          38     Gardener\n",
      "Wizard Gandalf    2019       Wizard\n",
      "\n",
      "Mean age by race:\n",
      " Race\n",
      "Elf       2931.0\n",
      "Hobbit      44.0\n",
      "Human       87.0\n",
      "Wizard    2019.0\n",
      "Name: Age, dtype: float64\n"
     ]
    }
   ],
   "source": [
    "# Step 1: Access the data for 'Hobbit' race\n",
    "hobbit_data = df_multi.loc['Hobbit']\n",
    "print(\"\\nData for 'Hobbit' race:\\n\", hobbit_data)\n",
    "\n",
    "# Step 2: Slice the data for 'Hobbit' and 'Wizard' races\n",
    "hobbit_wizard_data = df_multi.loc[['Hobbit', 'Wizard']]\n",
    "print(\"\\nData for 'Hobbit' and 'Wizard' races:\\n\", hobbit_wizard_data)\n",
    "\n",
    "# Step 3: Perform an aggregation on the 'Race' level (mean age)\n",
    "mean_age_by_race = df_multi.groupby('Race')['Age'].mean()\n",
    "print(\"\\nMean age by race:\\n\", mean_age_by_race)\n"
   ]
  },
  {
   "cell_type": "markdown",
   "id": "cb37b63f",
   "metadata": {
    "papermill": {
     "duration": 0.00894,
     "end_time": "2024-05-28T15:52:39.965515",
     "exception": false,
     "start_time": "2024-05-28T15:52:39.956575",
     "status": "completed"
    },
    "tags": []
   },
   "source": [
    "# Challenge 2: The GroupBy Gauntlet\n",
    "\n",
    "You are given a DataFrame of characters and their attributes from \"The Lord of the Rings.\" Your task is to perform the following operations:\n",
    "\n",
    "1. Group the data by 'Race' and calculate the mean 'Age'.\n",
    "2. Apply a custom aggregation to calculate the range of 'Age' within each 'Race'.\n",
    "3. Group the data using a custom function to classify characters as 'Young' or 'Old' based on their age.\n",
    "\n",
    "Perform these operations and display the results.\n"
   ]
  },
  {
   "cell_type": "code",
   "execution_count": 11,
   "id": "9d51960a",
   "metadata": {
    "execution": {
     "iopub.execute_input": "2024-05-28T15:52:39.984776Z",
     "iopub.status.busy": "2024-05-28T15:52:39.984370Z",
     "iopub.status.idle": "2024-05-28T15:52:39.991634Z",
     "shell.execute_reply": "2024-05-28T15:52:39.990339Z"
    },
    "papermill": {
     "duration": 0.019608,
     "end_time": "2024-05-28T15:52:39.994257",
     "exception": false,
     "start_time": "2024-05-28T15:52:39.974649",
     "status": "completed"
    },
    "tags": []
   },
   "outputs": [],
   "source": [
    "# Import pandas library\n",
    "import pandas as pd\n",
    "\n",
    "data = {\n",
    "    'Character': ['Frodo', 'Sam', 'Gandalf', 'Aragorn', 'Legolas', 'Boromir', 'Gimli', 'Pippin', 'Merry'],\n",
    "    'Race': ['Hobbit', 'Hobbit', 'Wizard', 'Human', 'Elf', 'Human', 'Dwarf', 'Hobbit', 'Hobbit'],\n",
    "    'Age': [50, 38, 2019, 87, 2931, 41, 139, 29, 37]\n",
    "}\n",
    "df = pd.DataFrame(data)"
   ]
  },
  {
   "cell_type": "code",
   "execution_count": 12,
   "id": "251caed5",
   "metadata": {
    "execution": {
     "iopub.execute_input": "2024-05-28T15:52:40.013194Z",
     "iopub.status.busy": "2024-05-28T15:52:40.012820Z",
     "iopub.status.idle": "2024-05-28T15:52:40.035586Z",
     "shell.execute_reply": "2024-05-28T15:52:40.034133Z"
    },
    "papermill": {
     "duration": 0.035561,
     "end_time": "2024-05-28T15:52:40.038393",
     "exception": false,
     "start_time": "2024-05-28T15:52:40.002832",
     "status": "completed"
    },
    "tags": []
   },
   "outputs": [
    {
     "name": "stdout",
     "output_type": "stream",
     "text": [
      "Mean age by race:\n",
      " Race\n",
      "Dwarf      139.0\n",
      "Elf       2931.0\n",
      "Hobbit      38.5\n",
      "Human       64.0\n",
      "Wizard    2019.0\n",
      "Name: Age, dtype: float64\n",
      "\n",
      "Age range by race:\n",
      "         age_range\n",
      "Race             \n",
      "Dwarf           0\n",
      "Elf             0\n",
      "Hobbit         21\n",
      "Human          46\n",
      "Wizard          0\n",
      "\n",
      "Grouped by Age Group:\n",
      " AgeGroup\n",
      "Old      1696.333333\n",
      "Young      47.000000\n",
      "Name: Age, dtype: float64\n"
     ]
    }
   ],
   "source": [
    "# Step 1: Group by 'Race' and calculate the mean 'Age'\n",
    "mean_age_by_race = df.groupby('Race')['Age'].mean()\n",
    "print(\"Mean age by race:\\n\", mean_age_by_race)\n",
    "\n",
    "# Step 2: Custom aggregation to calculate the range of 'Age' within each 'Race'\n",
    "def range_agg(series):\n",
    "    return series.max() - series.min()\n",
    "\n",
    "# Ensure that only numeric data is used for the custom aggregation\n",
    "age_range_by_race = df.groupby('Race').agg(\n",
    "    age_range=pd.NamedAgg(column='Age', aggfunc=range_agg)\n",
    ")\n",
    "print(\"\\nAge range by race:\\n\", age_range_by_race)\n",
    "\n",
    "# Step 3: Group data using a custom function to classify characters as 'Young' or 'Old'\n",
    "def age_group(age):\n",
    "    return 'Young' if age < 100 else 'Old'\n",
    "\n",
    "df['AgeGroup'] = df['Age'].apply(age_group)\n",
    "grouped_by_age_group = df.groupby('AgeGroup')['Age'].mean()\n",
    "print(\"\\nGrouped by Age Group:\\n\", grouped_by_age_group)\n"
   ]
  },
  {
   "cell_type": "markdown",
   "id": "c665ec30",
   "metadata": {
    "papermill": {
     "duration": 0.008327,
     "end_time": "2024-05-28T15:52:40.055407",
     "exception": false,
     "start_time": "2024-05-28T15:52:40.047080",
     "status": "completed"
    },
    "tags": []
   },
   "source": [
    "# Challenge 3: The Reshaping Riddle\n",
    "\n",
    "You are given a DataFrame of characters and their attributes from \"The Lord of the Rings.\" Your task is to perform the following operations:\n",
    "\n",
    "1. Pivot the data to create a summary table of ages by race and role.\n",
    "2. Stack the data to convert columns into rows.\n",
    "3. Unstack the data to convert rows into columns.\n",
    "4. Melt the data to convert it from wide to long format.\n",
    "\n",
    "Perform these operations and display the results.\n"
   ]
  },
  {
   "cell_type": "code",
   "execution_count": 13,
   "id": "2f606174",
   "metadata": {
    "execution": {
     "iopub.execute_input": "2024-05-28T15:52:40.074600Z",
     "iopub.status.busy": "2024-05-28T15:52:40.074159Z",
     "iopub.status.idle": "2024-05-28T15:52:40.081378Z",
     "shell.execute_reply": "2024-05-28T15:52:40.080065Z"
    },
    "papermill": {
     "duration": 0.0198,
     "end_time": "2024-05-28T15:52:40.083867",
     "exception": false,
     "start_time": "2024-05-28T15:52:40.064067",
     "status": "completed"
    },
    "tags": []
   },
   "outputs": [],
   "source": [
    "# Import pandas library\n",
    "import pandas as pd\n",
    "\n",
    "data = {\n",
    "    'Character': ['Frodo', 'Sam', 'Gandalf', 'Aragorn', 'Legolas'],\n",
    "    'Race': ['Hobbit', 'Hobbit', 'Wizard', 'Human', 'Elf'],\n",
    "    'Age': [50, 38, 2019, 87, 2931],\n",
    "    'Role': ['Ring-bearer', 'Gardener', 'Wizard', 'King', 'Archer']\n",
    "}\n",
    "df = pd.DataFrame(data)"
   ]
  },
  {
   "cell_type": "code",
   "execution_count": 14,
   "id": "46c554dc",
   "metadata": {
    "execution": {
     "iopub.execute_input": "2024-05-28T15:52:40.102670Z",
     "iopub.status.busy": "2024-05-28T15:52:40.102182Z",
     "iopub.status.idle": "2024-05-28T15:52:40.133074Z",
     "shell.execute_reply": "2024-05-28T15:52:40.131871Z"
    },
    "papermill": {
     "duration": 0.043331,
     "end_time": "2024-05-28T15:52:40.135759",
     "exception": false,
     "start_time": "2024-05-28T15:52:40.092428",
     "status": "completed"
    },
    "tags": []
   },
   "outputs": [
    {
     "name": "stdout",
     "output_type": "stream",
     "text": [
      "Pivot Table:\n",
      " Role    Archer  Gardener  King  Ring-bearer  Wizard\n",
      "Race                                               \n",
      "Elf     2931.0       NaN   NaN          NaN     NaN\n",
      "Hobbit     NaN      38.0   NaN         50.0     NaN\n",
      "Human      NaN       NaN  87.0          NaN     NaN\n",
      "Wizard     NaN       NaN   NaN          NaN  2019.0\n",
      "\n",
      "Stacked DataFrame:\n",
      " Race    Character      \n",
      "Hobbit  Frodo      Age              50\n",
      "                   Role    Ring-bearer\n",
      "        Sam        Age              38\n",
      "                   Role       Gardener\n",
      "Wizard  Gandalf    Age            2019\n",
      "                   Role         Wizard\n",
      "Human   Aragorn    Age              87\n",
      "                   Role           King\n",
      "Elf     Legolas    Age            2931\n",
      "                   Role         Archer\n",
      "dtype: object\n",
      "\n",
      "Unstacked DataFrame:\n",
      "                    Age         Role\n",
      "Race   Character                   \n",
      "Elf    Legolas    2931       Archer\n",
      "Hobbit Frodo        50  Ring-bearer\n",
      "       Sam          38     Gardener\n",
      "Human  Aragorn      87         King\n",
      "Wizard Gandalf    2019       Wizard\n",
      "\n",
      "Melted DataFrame:\n",
      "    Character Attribute        Value\n",
      "0      Frodo      Race       Hobbit\n",
      "1        Sam      Race       Hobbit\n",
      "2    Gandalf      Race       Wizard\n",
      "3    Aragorn      Race        Human\n",
      "4    Legolas      Race          Elf\n",
      "5      Frodo       Age           50\n",
      "6        Sam       Age           38\n",
      "7    Gandalf       Age         2019\n",
      "8    Aragorn       Age           87\n",
      "9    Legolas       Age         2931\n",
      "10     Frodo      Role  Ring-bearer\n",
      "11       Sam      Role     Gardener\n",
      "12   Gandalf      Role       Wizard\n",
      "13   Aragorn      Role         King\n",
      "14   Legolas      Role       Archer\n"
     ]
    }
   ],
   "source": [
    "# Step 1: Pivot the data to create a summary table of ages by race and role\n",
    "pivot_table = df.pivot_table(values='Age', index='Race', columns='Role', aggfunc='mean')\n",
    "print(\"Pivot Table:\\n\", pivot_table)\n",
    "\n",
    "# Step 2: Stack the data to convert columns into rows\n",
    "stacked = df.set_index(['Race', 'Character']).stack()\n",
    "print(\"\\nStacked DataFrame:\\n\", stacked)\n",
    "\n",
    "# Step 3: Unstack the data to convert rows into columns\n",
    "unstacked = stacked.unstack()\n",
    "print(\"\\nUnstacked DataFrame:\\n\", unstacked)\n",
    "\n",
    "# Step 4: Melt the data to convert it from wide to long format\n",
    "melted = pd.melt(df, id_vars=['Character'], value_vars=['Race', 'Age', 'Role'], var_name='Attribute', value_name='Value')\n",
    "print(\"\\nMelted DataFrame:\\n\", melted)\n"
   ]
  },
  {
   "cell_type": "markdown",
   "id": "6bd87e57",
   "metadata": {
    "papermill": {
     "duration": 0.008781,
     "end_time": "2024-05-28T15:52:40.153873",
     "exception": false,
     "start_time": "2024-05-28T15:52:40.145092",
     "status": "completed"
    },
    "tags": []
   },
   "source": [
    "# Challenge 4: The Time Series Trial\n",
    "\n",
    "You are given a time series dataset with daily observations. Your task is to perform the following operations:\n",
    "\n",
    "1. Generate a date range and create a time series with random data.\n",
    "2. Resample the data to a weekly frequency and calculate the mean.\n",
    "3. Shift the data forward by 2 days.\n",
    "4. Calculate the rolling mean with a window of 3 days.\n",
    "\n",
    "Perform these operations and display the results.\n"
   ]
  },
  {
   "cell_type": "code",
   "execution_count": 15,
   "id": "63dbc32c",
   "metadata": {
    "execution": {
     "iopub.execute_input": "2024-05-28T15:52:40.172693Z",
     "iopub.status.busy": "2024-05-28T15:52:40.172311Z",
     "iopub.status.idle": "2024-05-28T15:52:40.185778Z",
     "shell.execute_reply": "2024-05-28T15:52:40.184672Z"
    },
    "papermill": {
     "duration": 0.025455,
     "end_time": "2024-05-28T15:52:40.188003",
     "exception": false,
     "start_time": "2024-05-28T15:52:40.162548",
     "status": "completed"
    },
    "tags": []
   },
   "outputs": [
    {
     "name": "stdout",
     "output_type": "stream",
     "text": [
      "Original Time Series:\n",
      " 2023-01-01    1.278169\n",
      "2023-01-02    0.569392\n",
      "2023-01-03   -0.646945\n",
      "2023-01-04    2.135282\n",
      "2023-01-05    1.684352\n",
      "2023-01-06   -1.015057\n",
      "2023-01-07    0.558734\n",
      "2023-01-08    0.165812\n",
      "2023-01-09   -0.375580\n",
      "2023-01-10   -0.957822\n",
      "Freq: D, dtype: float64\n",
      "\n",
      "Weekly Resampled Series (Mean):\n",
      " 2023-01-01    1.278169\n",
      "2023-01-08    0.493081\n",
      "2023-01-15   -0.666701\n",
      "Freq: W-SUN, dtype: float64\n",
      "\n",
      "Shifted Series (Forward by 2 days):\n",
      " 2023-01-01         NaN\n",
      "2023-01-02         NaN\n",
      "2023-01-03    1.278169\n",
      "2023-01-04    0.569392\n",
      "2023-01-05   -0.646945\n",
      "2023-01-06    2.135282\n",
      "2023-01-07    1.684352\n",
      "2023-01-08   -1.015057\n",
      "2023-01-09    0.558734\n",
      "2023-01-10    0.165812\n",
      "Freq: D, dtype: float64\n",
      "\n",
      "Rolling Mean Series (3-day window):\n",
      " 2023-01-01         NaN\n",
      "2023-01-02         NaN\n",
      "2023-01-03    0.400205\n",
      "2023-01-04    0.685910\n",
      "2023-01-05    1.057563\n",
      "2023-01-06    0.934859\n",
      "2023-01-07    0.409343\n",
      "2023-01-08   -0.096837\n",
      "2023-01-09    0.116322\n",
      "2023-01-10   -0.389197\n",
      "Freq: D, dtype: float64\n"
     ]
    }
   ],
   "source": [
    "# Import pandas library\n",
    "import pandas as pd\n",
    "import numpy as np\n",
    "\n",
    "# Step 1: Generate a date range and create a time series with random data\n",
    "date_range = pd.date_range(start='2023-01-01', periods=10, freq='D')\n",
    "time_series = pd.Series(np.random.randn(10), index=date_range)\n",
    "print(\"Original Time Series:\\n\", time_series)\n",
    "\n",
    "# Step 2: Resample the data to a weekly frequency and calculate the mean\n",
    "weekly_series = time_series.resample('W').mean()\n",
    "print(\"\\nWeekly Resampled Series (Mean):\\n\", weekly_series)\n",
    "\n",
    "# Step 3: Shift the data forward by 2 days\n",
    "shifted_series = time_series.shift(2)\n",
    "print(\"\\nShifted Series (Forward by 2 days):\\n\", shifted_series)\n",
    "\n",
    "# Step 4: Calculate the rolling mean with a window of 3 days\n",
    "rolling_mean_series = time_series.rolling(window=3).mean()\n",
    "print(\"\\nRolling Mean Series (3-day window):\\n\", rolling_mean_series)\n"
   ]
  },
  {
   "cell_type": "markdown",
   "id": "a8570cc0",
   "metadata": {
    "papermill": {
     "duration": 0.00838,
     "end_time": "2024-05-28T15:52:40.205101",
     "exception": false,
     "start_time": "2024-05-28T15:52:40.196721",
     "status": "completed"
    },
    "tags": []
   },
   "source": [
    "# Challenge 5: The Optimization Obstacle\n",
    "\n",
    "You are given a DataFrame with mixed data types. Your task is to perform the following operations:\n",
    "\n",
    "1. Optimize the DataFrame by converting data types to more efficient ones.\n",
    "2. Measure the memory usage before and after optimization.\n",
    "3. Perform a parallel computation using Dask to handle large datasets.\n",
    "\n",
    "Perform these operations and display the results.\n"
   ]
  },
  {
   "cell_type": "code",
   "execution_count": 16,
   "id": "75b63c71",
   "metadata": {
    "execution": {
     "iopub.execute_input": "2024-05-28T15:52:40.224321Z",
     "iopub.status.busy": "2024-05-28T15:52:40.223927Z",
     "iopub.status.idle": "2024-05-28T15:52:40.291733Z",
     "shell.execute_reply": "2024-05-28T15:52:40.290428Z"
    },
    "papermill": {
     "duration": 0.080309,
     "end_time": "2024-05-28T15:52:40.294170",
     "exception": false,
     "start_time": "2024-05-28T15:52:40.213861",
     "status": "completed"
    },
    "tags": []
   },
   "outputs": [
    {
     "name": "stdout",
     "output_type": "stream",
     "text": [
      "Original DataFrame memory usage:\n",
      " Index           128\n",
      "integers     800000\n",
      "floats       800000\n",
      "strings     6788890\n",
      "dtype: int64\n"
     ]
    }
   ],
   "source": [
    "# Import necessary libraries\n",
    "import pandas as pd\n",
    "import numpy as np\n",
    "import dask.dataframe as dd\n",
    "\n",
    "# Given DataFrame with mixed data types\n",
    "data = pd.DataFrame({\n",
    "    'integers': np.random.randint(0, 100, size=100000),\n",
    "    'floats': np.random.rand(100000),\n",
    "    'strings': pd.Series(['string' + str(i) for i in range(100000)])\n",
    "})\n",
    "print(\"Original DataFrame memory usage:\\n\", data.memory_usage(deep=True))"
   ]
  },
  {
   "cell_type": "code",
   "execution_count": 17,
   "id": "d28f320d",
   "metadata": {
    "execution": {
     "iopub.execute_input": "2024-05-28T15:52:40.314069Z",
     "iopub.status.busy": "2024-05-28T15:52:40.313683Z",
     "iopub.status.idle": "2024-05-28T15:52:40.645121Z",
     "shell.execute_reply": "2024-05-28T15:52:40.643338Z"
    },
    "papermill": {
     "duration": 0.345254,
     "end_time": "2024-05-28T15:52:40.648320",
     "exception": false,
     "start_time": "2024-05-28T15:52:40.303066",
     "status": "completed"
    },
    "tags": []
   },
   "outputs": [
    {
     "name": "stdout",
     "output_type": "stream",
     "text": [
      "\n",
      "Optimized DataFrame memory usage:\n",
      " Index           128\n",
      "integers     200000\n",
      "floats       400000\n",
      "strings     9302466\n",
      "dtype: int64\n",
      "\n",
      "Memory usage before optimization: 9902594 bytes\n",
      "Memory usage after optimization: 9902594 bytes\n",
      "\n",
      "Parallel computation result using Dask:\n",
      " integers\n",
      "0     0.499402\n",
      "1     0.507739\n",
      "2     0.488857\n",
      "3     0.494840\n",
      "4     0.501113\n",
      "        ...   \n",
      "95    0.505670\n",
      "96    0.513040\n",
      "97    0.496371\n",
      "98    0.497574\n",
      "99    0.495850\n",
      "Name: floats, Length: 100, dtype: float64\n"
     ]
    }
   ],
   "source": [
    "# Step 1: Optimize the DataFrame by converting data types\n",
    "data['integers'] = data['integers'].astype(np.int16)\n",
    "data['floats'] = data['floats'].astype(np.float32)\n",
    "data['strings'] = data['strings'].astype('category')\n",
    "print(\"\\nOptimized DataFrame memory usage:\\n\", data.memory_usage(deep=True))\n",
    "\n",
    "# Step 2: Measure memory usage before and after optimization\n",
    "memory_before = data.memory_usage(deep=True).sum()\n",
    "data['integers'] = data['integers'].astype(np.int16)\n",
    "data['floats'] = data['floats'].astype(np.float32)\n",
    "data['strings'] = data['strings'].astype('category')\n",
    "memory_after = data.memory_usage(deep=True).sum()\n",
    "print(\"\\nMemory usage before optimization: {} bytes\".format(memory_before))\n",
    "print(\"Memory usage after optimization: {} bytes\".format(memory_after))\n",
    "\n",
    "# Step 3: Perform a parallel computation using Dask\n",
    "# Convert pandas DataFrame to Dask DataFrame\n",
    "dask_df = dd.from_pandas(data[['integers', 'floats']], npartitions=4)\n",
    "\n",
    "# Perform a parallel computation (mean of each group of 'integers')\n",
    "result = dask_df.groupby('integers').floats.mean().compute()\n",
    "print(\"\\nParallel computation result using Dask:\\n\", result)\n"
   ]
  },
  {
   "cell_type": "markdown",
   "id": "9479c151",
   "metadata": {
    "papermill": {
     "duration": 0.009544,
     "end_time": "2024-05-28T15:52:40.667562",
     "exception": false,
     "start_time": "2024-05-28T15:52:40.658018",
     "status": "completed"
    },
    "tags": []
   },
   "source": [
    "---\n",
    "\n",
    "## Thanks for Checking Out My Notebook!\n",
    "\n",
    "I hope you enjoyed the **🌳 Pandas Mastery Series - Advanced** and found it helpful in improving your data manipulation skills. If you have any questions, suggestions, or feedback, feel free to reach out. Your input is greatly appreciated!\n",
    "\n",
    "#### Show Your Support\n",
    "If you found this notebook useful, please consider giving it an upvote. Your support helps me create more high-quality content!\n",
    "\n",
    "#### Connect with Me\n",
    "- [Kaggle Profile](https://www.kaggle.com/matinmahmoudi)\n",
    "- [LinkedIn](https://www.linkedin.com/in/matinmahmoudicom/)\n",
    "- [GitHub](https://github.com/matinmahmoudi/)\n",
    "- [Medium](https://matinmahmoudi.com)\n",
    "\n",
    "## Ask Questions\n",
    "If you have any questions or need further clarification, don't hesitate to ask. I'm here to help!\n",
    "\n",
    "Happy Coding! 🚀\n",
    "\n",
    "---\n"
   ]
  }
 ],
 "metadata": {
  "kaggle": {
   "accelerator": "none",
   "dataSources": [],
   "dockerImageVersionId": 30673,
   "isGpuEnabled": false,
   "isInternetEnabled": true,
   "language": "python",
   "sourceType": "notebook"
  },
  "kernelspec": {
   "display_name": "Python 3",
   "language": "python",
   "name": "python3"
  },
  "language_info": {
   "codemirror_mode": {
    "name": "ipython",
    "version": 3
   },
   "file_extension": ".py",
   "mimetype": "text/x-python",
   "name": "python",
   "nbconvert_exporter": "python",
   "pygments_lexer": "ipython3",
   "version": "3.10.13"
  },
  "papermill": {
   "default_parameters": {},
   "duration": 7.540954,
   "end_time": "2024-05-28T15:52:41.299169",
   "environment_variables": {},
   "exception": null,
   "input_path": "__notebook__.ipynb",
   "output_path": "__notebook__.ipynb",
   "parameters": {},
   "start_time": "2024-05-28T15:52:33.758215",
   "version": "2.5.0"
  }
 },
 "nbformat": 4,
 "nbformat_minor": 5
}
