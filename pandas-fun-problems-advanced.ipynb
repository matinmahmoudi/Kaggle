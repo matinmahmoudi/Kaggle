{
 "cells": [
  {
   "cell_type": "markdown",
   "id": "cd9c8b7f",
   "metadata": {
    "papermill": {
     "duration": 0.008464,
     "end_time": "2024-03-28T14:15:33.962215",
     "exception": false,
     "start_time": "2024-03-28T14:15:33.953751",
     "status": "completed"
    },
    "tags": []
   },
   "source": [
    "# Pandas Fun Problems - Advanced\n",
    "\n",
    "Dive even deeper, focusing on sophisticated Pandas techniques and operations. This notebook is designed to push your data manipulation skills further, leveraging the full power of Pandas for complex data analysis tasks.\n",
    "\n",
    "- **Practice Problems Source:** [Explore Problems](https://www.practiceprobs.com/problemsets/python-pandas/advanced/)\n",
    "- **YouTube Tutorial:** [Video Guide](https://www.youtube.com/watch?v=8xUgesdShE8)\n",
    "\n",
    "Building on the foundational knowledge of DataFrames, this advanced problem set challenges you to solve more complex scenarios, offering a path to mastering data analysis with Pandas.\n",
    "\n",
    "Feel free to share your thoughts, solutions, and any questions in the comments. Your contributions help make this learning journey richer for everyone.\n",
    "\n",
    "### **Found this notebook helpful? Don't forget to give it an upvote!**\n"
   ]
  },
  {
   "cell_type": "markdown",
   "id": "e7de7558",
   "metadata": {
    "papermill": {
     "duration": 0.007682,
     "end_time": "2024-03-28T14:15:33.977987",
     "exception": false,
     "start_time": "2024-03-28T14:15:33.970305",
     "status": "completed"
    },
    "tags": []
   },
   "source": [
    "# Q1 - Class Transitions Problem"
   ]
  },
  {
   "cell_type": "markdown",
   "id": "edf34bf8",
   "metadata": {
    "papermill": {
     "duration": 0.007629,
     "end_time": "2024-03-28T14:15:33.993481",
     "exception": false,
     "start_time": "2024-03-28T14:15:33.985852",
     "status": "completed"
    },
    "tags": []
   },
   "source": [
    "https://www.practiceprobs.com/problemsets/python-pandas/advanced/class-transitions/"
   ]
  },
  {
   "cell_type": "markdown",
   "id": "ce7a344c",
   "metadata": {
    "papermill": {
     "duration": 0.007591,
     "end_time": "2024-03-28T14:15:34.009089",
     "exception": false,
     "start_time": "2024-03-28T14:15:34.001498",
     "status": "completed"
    },
    "tags": []
   },
   "source": [
    "You have a DataFrame called schedules that represents the daily schedule of each student in a school. For example, If Ryan attends four classes - math, english, history, and chemistry, your schedules DataFrame will have four rows for Ryan in the order he attends each class.\n",
    "\n"
   ]
  },
  {
   "cell_type": "code",
   "execution_count": 1,
   "id": "a6bb4938",
   "metadata": {
    "execution": {
     "iopub.execute_input": "2024-03-28T14:15:34.027188Z",
     "iopub.status.busy": "2024-03-28T14:15:34.026480Z",
     "iopub.status.idle": "2024-03-28T14:15:34.885610Z",
     "shell.execute_reply": "2024-03-28T14:15:34.884073Z"
    },
    "papermill": {
     "duration": 0.871472,
     "end_time": "2024-03-28T14:15:34.888483",
     "exception": false,
     "start_time": "2024-03-28T14:15:34.017011",
     "status": "completed"
    },
    "tags": []
   },
   "outputs": [
    {
     "name": "stdout",
     "output_type": "stream",
     "text": [
      "     student_id        class  grade\n",
      "0             0  engineering     86\n",
      "3             0    chemistry     75\n",
      "4             1         math     85\n",
      "5             1  engineering      0\n",
      "6             1      english     73\n",
      "..          ...          ...    ...\n",
      "394          98      writing     16\n",
      "395          98       civics     89\n",
      "396          99  engineering     90\n",
      "398          99         math     55\n",
      "399          99      history     31\n",
      "\n",
      "[339 rows x 3 columns]\n"
     ]
    }
   ],
   "source": [
    "import numpy as np\n",
    "import pandas as pd\n",
    "\n",
    "generator = np.random.default_rng(seed=1234)\n",
    "classes = ['english', 'math', 'history', 'chemistry', 'gym', 'civics', 'writing', 'engineering']\n",
    "\n",
    "schedules = pd.DataFrame({\n",
    "    'student_id':np.repeat(np.arange(100), 4),\n",
    "    'class':generator.choice(classes, size=400, replace=True)\n",
    "}).drop_duplicates()\n",
    "schedules['grade'] = generator.integers(101, size=schedules.shape[0])\n",
    "\n",
    "print(schedules)\n",
    "#      student_id        class  grade\n",
    "# 0             0  engineering     86\n",
    "# 3             0    chemistry     75\n",
    "# 4             1         math     85\n",
    "# 5             1  engineering      0\n",
    "# 6             1      english     73\n",
    "# ..          ...          ...    ...\n",
    "# 394          98      writing     16\n",
    "# 395          98       civics     89\n",
    "# 396          99  engineering     90\n",
    "# 398          99         math     55\n",
    "# 399          99      history     31\n",
    "# \n",
    "# [339 rows x 3 columns]"
   ]
  },
  {
   "cell_type": "markdown",
   "id": "48795875",
   "metadata": {
    "papermill": {
     "duration": 0.008442,
     "end_time": "2024-03-28T14:15:34.905294",
     "exception": false,
     "start_time": "2024-03-28T14:15:34.896852",
     "status": "completed"
    },
    "tags": []
   },
   "source": [
    "You have this theory that the sequence of class-to-class transitions affects students' grades. For instance, you suspect Ryan would do better in his Chemistry class if it immediately followed his Math class instead of his History class.\n",
    "\n",
    "Determine the average and median Chemistry grade for groups of students based on the class they have immediately prior to Chemistry. Also report how many students fall into each group."
   ]
  },
  {
   "cell_type": "markdown",
   "id": "7d8022e6",
   "metadata": {
    "papermill": {
     "duration": 0.007875,
     "end_time": "2024-03-28T14:15:34.921446",
     "exception": false,
     "start_time": "2024-03-28T14:15:34.913571",
     "status": "completed"
    },
    "tags": []
   },
   "source": [
    "## Solution"
   ]
  },
  {
   "cell_type": "code",
   "execution_count": 2,
   "id": "307edcdf",
   "metadata": {
    "execution": {
     "iopub.execute_input": "2024-03-28T14:15:34.940106Z",
     "iopub.status.busy": "2024-03-28T14:15:34.939017Z",
     "iopub.status.idle": "2024-03-28T14:15:34.953791Z",
     "shell.execute_reply": "2024-03-28T14:15:34.952425Z"
    },
    "papermill": {
     "duration": 0.026494,
     "end_time": "2024-03-28T14:15:34.956159",
     "exception": false,
     "start_time": "2024-03-28T14:15:34.929665",
     "status": "completed"
    },
    "tags": []
   },
   "outputs": [
    {
     "data": {
      "text/plain": [
       "0              NaN\n",
       "3      engineering\n",
       "4              NaN\n",
       "5             math\n",
       "6      engineering\n",
       "          ...     \n",
       "394           math\n",
       "395        writing\n",
       "396            NaN\n",
       "398    engineering\n",
       "399           math\n",
       "Name: prev_class, Length: 339, dtype: object"
      ]
     },
     "execution_count": 2,
     "metadata": {},
     "output_type": "execute_result"
    }
   ],
   "source": [
    "# Create a new column 'prev_class' that represents the class that each student had immediately prior to their current class\n",
    "schedules['prev_class'] = schedules.groupby('student_id')['class'].shift()\n",
    "schedules['prev_class']"
   ]
  },
  {
   "cell_type": "code",
   "execution_count": 3,
   "id": "7d46da2c",
   "metadata": {
    "execution": {
     "iopub.execute_input": "2024-03-28T14:15:34.974828Z",
     "iopub.status.busy": "2024-03-28T14:15:34.974422Z",
     "iopub.status.idle": "2024-03-28T14:15:35.020461Z",
     "shell.execute_reply": "2024-03-28T14:15:35.019335Z"
    },
    "papermill": {
     "duration": 0.058337,
     "end_time": "2024-03-28T14:15:35.022948",
     "exception": false,
     "start_time": "2024-03-28T14:15:34.964611",
     "status": "completed"
    },
    "tags": []
   },
   "outputs": [
    {
     "data": {
      "text/html": [
       "<div>\n",
       "<style scoped>\n",
       "    .dataframe tbody tr th:only-of-type {\n",
       "        vertical-align: middle;\n",
       "    }\n",
       "\n",
       "    .dataframe tbody tr th {\n",
       "        vertical-align: top;\n",
       "    }\n",
       "\n",
       "    .dataframe thead th {\n",
       "        text-align: right;\n",
       "    }\n",
       "</style>\n",
       "<table border=\"1\" class=\"dataframe\">\n",
       "  <thead>\n",
       "    <tr style=\"text-align: right;\">\n",
       "      <th></th>\n",
       "      <th></th>\n",
       "      <th>students</th>\n",
       "      <th>avg_grade</th>\n",
       "      <th>med_grade</th>\n",
       "    </tr>\n",
       "    <tr>\n",
       "      <th>prev_class</th>\n",
       "      <th>class</th>\n",
       "      <th></th>\n",
       "      <th></th>\n",
       "      <th></th>\n",
       "    </tr>\n",
       "  </thead>\n",
       "  <tbody>\n",
       "    <tr>\n",
       "      <th rowspan=\"7\" valign=\"top\">chemistry</th>\n",
       "      <th>civics</th>\n",
       "      <td>1</td>\n",
       "      <td>19.000000</td>\n",
       "      <td>19.0</td>\n",
       "    </tr>\n",
       "    <tr>\n",
       "      <th>engineering</th>\n",
       "      <td>2</td>\n",
       "      <td>50.000000</td>\n",
       "      <td>50.0</td>\n",
       "    </tr>\n",
       "    <tr>\n",
       "      <th>english</th>\n",
       "      <td>5</td>\n",
       "      <td>55.200000</td>\n",
       "      <td>50.0</td>\n",
       "    </tr>\n",
       "    <tr>\n",
       "      <th>gym</th>\n",
       "      <td>5</td>\n",
       "      <td>36.600000</td>\n",
       "      <td>25.0</td>\n",
       "    </tr>\n",
       "    <tr>\n",
       "      <th>history</th>\n",
       "      <td>6</td>\n",
       "      <td>53.166667</td>\n",
       "      <td>55.0</td>\n",
       "    </tr>\n",
       "    <tr>\n",
       "      <th>math</th>\n",
       "      <td>3</td>\n",
       "      <td>38.000000</td>\n",
       "      <td>10.0</td>\n",
       "    </tr>\n",
       "    <tr>\n",
       "      <th>writing</th>\n",
       "      <td>5</td>\n",
       "      <td>70.200000</td>\n",
       "      <td>85.0</td>\n",
       "    </tr>\n",
       "    <tr>\n",
       "      <th rowspan=\"7\" valign=\"top\">civics</th>\n",
       "      <th>chemistry</th>\n",
       "      <td>2</td>\n",
       "      <td>55.000000</td>\n",
       "      <td>55.0</td>\n",
       "    </tr>\n",
       "    <tr>\n",
       "      <th>engineering</th>\n",
       "      <td>3</td>\n",
       "      <td>76.666667</td>\n",
       "      <td>78.0</td>\n",
       "    </tr>\n",
       "    <tr>\n",
       "      <th>english</th>\n",
       "      <td>2</td>\n",
       "      <td>93.000000</td>\n",
       "      <td>93.0</td>\n",
       "    </tr>\n",
       "    <tr>\n",
       "      <th>gym</th>\n",
       "      <td>2</td>\n",
       "      <td>41.500000</td>\n",
       "      <td>41.5</td>\n",
       "    </tr>\n",
       "    <tr>\n",
       "      <th>history</th>\n",
       "      <td>7</td>\n",
       "      <td>52.571429</td>\n",
       "      <td>54.0</td>\n",
       "    </tr>\n",
       "    <tr>\n",
       "      <th>math</th>\n",
       "      <td>6</td>\n",
       "      <td>48.166667</td>\n",
       "      <td>49.0</td>\n",
       "    </tr>\n",
       "    <tr>\n",
       "      <th>writing</th>\n",
       "      <td>4</td>\n",
       "      <td>29.750000</td>\n",
       "      <td>33.5</td>\n",
       "    </tr>\n",
       "    <tr>\n",
       "      <th rowspan=\"7\" valign=\"top\">engineering</th>\n",
       "      <th>chemistry</th>\n",
       "      <td>6</td>\n",
       "      <td>43.333333</td>\n",
       "      <td>43.5</td>\n",
       "    </tr>\n",
       "    <tr>\n",
       "      <th>civics</th>\n",
       "      <td>5</td>\n",
       "      <td>43.600000</td>\n",
       "      <td>46.0</td>\n",
       "    </tr>\n",
       "    <tr>\n",
       "      <th>english</th>\n",
       "      <td>7</td>\n",
       "      <td>43.000000</td>\n",
       "      <td>29.0</td>\n",
       "    </tr>\n",
       "    <tr>\n",
       "      <th>gym</th>\n",
       "      <td>5</td>\n",
       "      <td>42.800000</td>\n",
       "      <td>36.0</td>\n",
       "    </tr>\n",
       "    <tr>\n",
       "      <th>history</th>\n",
       "      <td>6</td>\n",
       "      <td>45.666667</td>\n",
       "      <td>41.0</td>\n",
       "    </tr>\n",
       "    <tr>\n",
       "      <th>math</th>\n",
       "      <td>3</td>\n",
       "      <td>37.666667</td>\n",
       "      <td>50.0</td>\n",
       "    </tr>\n",
       "    <tr>\n",
       "      <th>writing</th>\n",
       "      <td>6</td>\n",
       "      <td>69.333333</td>\n",
       "      <td>80.0</td>\n",
       "    </tr>\n",
       "    <tr>\n",
       "      <th rowspan=\"7\" valign=\"top\">english</th>\n",
       "      <th>chemistry</th>\n",
       "      <td>6</td>\n",
       "      <td>32.666667</td>\n",
       "      <td>31.5</td>\n",
       "    </tr>\n",
       "    <tr>\n",
       "      <th>civics</th>\n",
       "      <td>8</td>\n",
       "      <td>44.000000</td>\n",
       "      <td>44.5</td>\n",
       "    </tr>\n",
       "    <tr>\n",
       "      <th>engineering</th>\n",
       "      <td>5</td>\n",
       "      <td>36.000000</td>\n",
       "      <td>33.0</td>\n",
       "    </tr>\n",
       "    <tr>\n",
       "      <th>gym</th>\n",
       "      <td>3</td>\n",
       "      <td>62.666667</td>\n",
       "      <td>58.0</td>\n",
       "    </tr>\n",
       "    <tr>\n",
       "      <th>history</th>\n",
       "      <td>3</td>\n",
       "      <td>47.000000</td>\n",
       "      <td>50.0</td>\n",
       "    </tr>\n",
       "    <tr>\n",
       "      <th>math</th>\n",
       "      <td>7</td>\n",
       "      <td>42.428571</td>\n",
       "      <td>42.0</td>\n",
       "    </tr>\n",
       "    <tr>\n",
       "      <th>writing</th>\n",
       "      <td>3</td>\n",
       "      <td>52.333333</td>\n",
       "      <td>59.0</td>\n",
       "    </tr>\n",
       "    <tr>\n",
       "      <th rowspan=\"7\" valign=\"top\">gym</th>\n",
       "      <th>chemistry</th>\n",
       "      <td>2</td>\n",
       "      <td>68.500000</td>\n",
       "      <td>68.5</td>\n",
       "    </tr>\n",
       "    <tr>\n",
       "      <th>civics</th>\n",
       "      <td>6</td>\n",
       "      <td>59.000000</td>\n",
       "      <td>58.5</td>\n",
       "    </tr>\n",
       "    <tr>\n",
       "      <th>engineering</th>\n",
       "      <td>1</td>\n",
       "      <td>65.000000</td>\n",
       "      <td>65.0</td>\n",
       "    </tr>\n",
       "    <tr>\n",
       "      <th>english</th>\n",
       "      <td>4</td>\n",
       "      <td>49.750000</td>\n",
       "      <td>52.0</td>\n",
       "    </tr>\n",
       "    <tr>\n",
       "      <th>history</th>\n",
       "      <td>7</td>\n",
       "      <td>38.857143</td>\n",
       "      <td>32.0</td>\n",
       "    </tr>\n",
       "    <tr>\n",
       "      <th>math</th>\n",
       "      <td>5</td>\n",
       "      <td>67.600000</td>\n",
       "      <td>72.0</td>\n",
       "    </tr>\n",
       "    <tr>\n",
       "      <th>writing</th>\n",
       "      <td>1</td>\n",
       "      <td>38.000000</td>\n",
       "      <td>38.0</td>\n",
       "    </tr>\n",
       "    <tr>\n",
       "      <th rowspan=\"7\" valign=\"top\">history</th>\n",
       "      <th>chemistry</th>\n",
       "      <td>3</td>\n",
       "      <td>35.333333</td>\n",
       "      <td>27.0</td>\n",
       "    </tr>\n",
       "    <tr>\n",
       "      <th>civics</th>\n",
       "      <td>5</td>\n",
       "      <td>46.200000</td>\n",
       "      <td>30.0</td>\n",
       "    </tr>\n",
       "    <tr>\n",
       "      <th>engineering</th>\n",
       "      <td>3</td>\n",
       "      <td>81.000000</td>\n",
       "      <td>85.0</td>\n",
       "    </tr>\n",
       "    <tr>\n",
       "      <th>english</th>\n",
       "      <td>3</td>\n",
       "      <td>84.333333</td>\n",
       "      <td>79.0</td>\n",
       "    </tr>\n",
       "    <tr>\n",
       "      <th>gym</th>\n",
       "      <td>4</td>\n",
       "      <td>52.750000</td>\n",
       "      <td>55.5</td>\n",
       "    </tr>\n",
       "    <tr>\n",
       "      <th>math</th>\n",
       "      <td>5</td>\n",
       "      <td>55.600000</td>\n",
       "      <td>46.0</td>\n",
       "    </tr>\n",
       "    <tr>\n",
       "      <th>writing</th>\n",
       "      <td>5</td>\n",
       "      <td>29.400000</td>\n",
       "      <td>32.0</td>\n",
       "    </tr>\n",
       "    <tr>\n",
       "      <th rowspan=\"7\" valign=\"top\">math</th>\n",
       "      <th>chemistry</th>\n",
       "      <td>3</td>\n",
       "      <td>26.000000</td>\n",
       "      <td>23.0</td>\n",
       "    </tr>\n",
       "    <tr>\n",
       "      <th>civics</th>\n",
       "      <td>4</td>\n",
       "      <td>49.250000</td>\n",
       "      <td>54.0</td>\n",
       "    </tr>\n",
       "    <tr>\n",
       "      <th>engineering</th>\n",
       "      <td>7</td>\n",
       "      <td>52.714286</td>\n",
       "      <td>58.0</td>\n",
       "    </tr>\n",
       "    <tr>\n",
       "      <th>english</th>\n",
       "      <td>5</td>\n",
       "      <td>51.400000</td>\n",
       "      <td>53.0</td>\n",
       "    </tr>\n",
       "    <tr>\n",
       "      <th>gym</th>\n",
       "      <td>3</td>\n",
       "      <td>56.333333</td>\n",
       "      <td>70.0</td>\n",
       "    </tr>\n",
       "    <tr>\n",
       "      <th>history</th>\n",
       "      <td>3</td>\n",
       "      <td>56.000000</td>\n",
       "      <td>56.0</td>\n",
       "    </tr>\n",
       "    <tr>\n",
       "      <th>writing</th>\n",
       "      <td>5</td>\n",
       "      <td>44.400000</td>\n",
       "      <td>31.0</td>\n",
       "    </tr>\n",
       "    <tr>\n",
       "      <th rowspan=\"7\" valign=\"top\">writing</th>\n",
       "      <th>chemistry</th>\n",
       "      <td>3</td>\n",
       "      <td>45.333333</td>\n",
       "      <td>46.0</td>\n",
       "    </tr>\n",
       "    <tr>\n",
       "      <th>civics</th>\n",
       "      <td>2</td>\n",
       "      <td>83.000000</td>\n",
       "      <td>83.0</td>\n",
       "    </tr>\n",
       "    <tr>\n",
       "      <th>engineering</th>\n",
       "      <td>8</td>\n",
       "      <td>57.750000</td>\n",
       "      <td>74.0</td>\n",
       "    </tr>\n",
       "    <tr>\n",
       "      <th>english</th>\n",
       "      <td>5</td>\n",
       "      <td>45.800000</td>\n",
       "      <td>45.0</td>\n",
       "    </tr>\n",
       "    <tr>\n",
       "      <th>gym</th>\n",
       "      <td>4</td>\n",
       "      <td>61.250000</td>\n",
       "      <td>69.0</td>\n",
       "    </tr>\n",
       "    <tr>\n",
       "      <th>history</th>\n",
       "      <td>2</td>\n",
       "      <td>31.000000</td>\n",
       "      <td>31.0</td>\n",
       "    </tr>\n",
       "    <tr>\n",
       "      <th>math</th>\n",
       "      <td>5</td>\n",
       "      <td>62.800000</td>\n",
       "      <td>68.0</td>\n",
       "    </tr>\n",
       "  </tbody>\n",
       "</table>\n",
       "</div>"
      ],
      "text/plain": [
       "                         students  avg_grade  med_grade\n",
       "prev_class  class                                      \n",
       "chemistry   civics              1  19.000000       19.0\n",
       "            engineering         2  50.000000       50.0\n",
       "            english             5  55.200000       50.0\n",
       "            gym                 5  36.600000       25.0\n",
       "            history             6  53.166667       55.0\n",
       "            math                3  38.000000       10.0\n",
       "            writing             5  70.200000       85.0\n",
       "civics      chemistry           2  55.000000       55.0\n",
       "            engineering         3  76.666667       78.0\n",
       "            english             2  93.000000       93.0\n",
       "            gym                 2  41.500000       41.5\n",
       "            history             7  52.571429       54.0\n",
       "            math                6  48.166667       49.0\n",
       "            writing             4  29.750000       33.5\n",
       "engineering chemistry           6  43.333333       43.5\n",
       "            civics              5  43.600000       46.0\n",
       "            english             7  43.000000       29.0\n",
       "            gym                 5  42.800000       36.0\n",
       "            history             6  45.666667       41.0\n",
       "            math                3  37.666667       50.0\n",
       "            writing             6  69.333333       80.0\n",
       "english     chemistry           6  32.666667       31.5\n",
       "            civics              8  44.000000       44.5\n",
       "            engineering         5  36.000000       33.0\n",
       "            gym                 3  62.666667       58.0\n",
       "            history             3  47.000000       50.0\n",
       "            math                7  42.428571       42.0\n",
       "            writing             3  52.333333       59.0\n",
       "gym         chemistry           2  68.500000       68.5\n",
       "            civics              6  59.000000       58.5\n",
       "            engineering         1  65.000000       65.0\n",
       "            english             4  49.750000       52.0\n",
       "            history             7  38.857143       32.0\n",
       "            math                5  67.600000       72.0\n",
       "            writing             1  38.000000       38.0\n",
       "history     chemistry           3  35.333333       27.0\n",
       "            civics              5  46.200000       30.0\n",
       "            engineering         3  81.000000       85.0\n",
       "            english             3  84.333333       79.0\n",
       "            gym                 4  52.750000       55.5\n",
       "            math                5  55.600000       46.0\n",
       "            writing             5  29.400000       32.0\n",
       "math        chemistry           3  26.000000       23.0\n",
       "            civics              4  49.250000       54.0\n",
       "            engineering         7  52.714286       58.0\n",
       "            english             5  51.400000       53.0\n",
       "            gym                 3  56.333333       70.0\n",
       "            history             3  56.000000       56.0\n",
       "            writing             5  44.400000       31.0\n",
       "writing     chemistry           3  45.333333       46.0\n",
       "            civics              2  83.000000       83.0\n",
       "            engineering         8  57.750000       74.0\n",
       "            english             5  45.800000       45.0\n",
       "            gym                 4  61.250000       69.0\n",
       "            history             2  31.000000       31.0\n",
       "            math                5  62.800000       68.0"
      ]
     },
     "execution_count": 3,
     "metadata": {},
     "output_type": "execute_result"
    }
   ],
   "source": [
    "# Calculate the average and median Chemistry grade for groups of students based on the class they have immediately prior to Chemistry\n",
    "class_pairs = schedules.groupby(['prev_class', 'class']).agg(\n",
    "    students=('student_id', 'count'),\n",
    "    avg_grade=('grade', 'mean'),\n",
    "    med_grade=('grade', 'median')\n",
    ")\n",
    "class_pairs"
   ]
  },
  {
   "cell_type": "code",
   "execution_count": 4,
   "id": "f982cbc0",
   "metadata": {
    "execution": {
     "iopub.execute_input": "2024-03-28T14:15:35.042889Z",
     "iopub.status.busy": "2024-03-28T14:15:35.042434Z",
     "iopub.status.idle": "2024-03-28T14:15:35.057360Z",
     "shell.execute_reply": "2024-03-28T14:15:35.056208Z"
    },
    "papermill": {
     "duration": 0.027744,
     "end_time": "2024-03-28T14:15:35.059742",
     "exception": false,
     "start_time": "2024-03-28T14:15:35.031998",
     "status": "completed"
    },
    "tags": []
   },
   "outputs": [
    {
     "data": {
      "text/html": [
       "<div>\n",
       "<style scoped>\n",
       "    .dataframe tbody tr th:only-of-type {\n",
       "        vertical-align: middle;\n",
       "    }\n",
       "\n",
       "    .dataframe tbody tr th {\n",
       "        vertical-align: top;\n",
       "    }\n",
       "\n",
       "    .dataframe thead th {\n",
       "        text-align: right;\n",
       "    }\n",
       "</style>\n",
       "<table border=\"1\" class=\"dataframe\">\n",
       "  <thead>\n",
       "    <tr style=\"text-align: right;\">\n",
       "      <th></th>\n",
       "      <th></th>\n",
       "      <th>students</th>\n",
       "      <th>avg_grade</th>\n",
       "      <th>med_grade</th>\n",
       "    </tr>\n",
       "    <tr>\n",
       "      <th>prev_class</th>\n",
       "      <th>class</th>\n",
       "      <th></th>\n",
       "      <th></th>\n",
       "      <th></th>\n",
       "    </tr>\n",
       "  </thead>\n",
       "  <tbody>\n",
       "    <tr>\n",
       "      <th>civics</th>\n",
       "      <th>chemistry</th>\n",
       "      <td>2</td>\n",
       "      <td>55.000000</td>\n",
       "      <td>55.0</td>\n",
       "    </tr>\n",
       "    <tr>\n",
       "      <th>engineering</th>\n",
       "      <th>chemistry</th>\n",
       "      <td>6</td>\n",
       "      <td>43.333333</td>\n",
       "      <td>43.5</td>\n",
       "    </tr>\n",
       "    <tr>\n",
       "      <th>english</th>\n",
       "      <th>chemistry</th>\n",
       "      <td>6</td>\n",
       "      <td>32.666667</td>\n",
       "      <td>31.5</td>\n",
       "    </tr>\n",
       "    <tr>\n",
       "      <th>gym</th>\n",
       "      <th>chemistry</th>\n",
       "      <td>2</td>\n",
       "      <td>68.500000</td>\n",
       "      <td>68.5</td>\n",
       "    </tr>\n",
       "    <tr>\n",
       "      <th>history</th>\n",
       "      <th>chemistry</th>\n",
       "      <td>3</td>\n",
       "      <td>35.333333</td>\n",
       "      <td>27.0</td>\n",
       "    </tr>\n",
       "    <tr>\n",
       "      <th>math</th>\n",
       "      <th>chemistry</th>\n",
       "      <td>3</td>\n",
       "      <td>26.000000</td>\n",
       "      <td>23.0</td>\n",
       "    </tr>\n",
       "    <tr>\n",
       "      <th>writing</th>\n",
       "      <th>chemistry</th>\n",
       "      <td>3</td>\n",
       "      <td>45.333333</td>\n",
       "      <td>46.0</td>\n",
       "    </tr>\n",
       "  </tbody>\n",
       "</table>\n",
       "</div>"
      ],
      "text/plain": [
       "                       students  avg_grade  med_grade\n",
       "prev_class  class                                    \n",
       "civics      chemistry         2  55.000000       55.0\n",
       "engineering chemistry         6  43.333333       43.5\n",
       "english     chemistry         6  32.666667       31.5\n",
       "gym         chemistry         2  68.500000       68.5\n",
       "history     chemistry         3  35.333333       27.0\n",
       "math        chemistry         3  26.000000       23.0\n",
       "writing     chemistry         3  45.333333       46.0"
      ]
     },
     "execution_count": 4,
     "metadata": {},
     "output_type": "execute_result"
    }
   ],
   "source": [
    "# Filter the class_pairs DataFrame for chemistry grades\n",
    "filtered_class_pairs = class_pairs.xs(key='chemistry', axis=0, level=1, drop_level=False)\n",
    "filtered_class_pairs"
   ]
  },
  {
   "cell_type": "code",
   "execution_count": 5,
   "id": "c2d4053d",
   "metadata": {
    "execution": {
     "iopub.execute_input": "2024-03-28T14:15:35.080989Z",
     "iopub.status.busy": "2024-03-28T14:15:35.080614Z",
     "iopub.status.idle": "2024-03-28T14:15:35.095275Z",
     "shell.execute_reply": "2024-03-28T14:15:35.094201Z"
    },
    "papermill": {
     "duration": 0.028201,
     "end_time": "2024-03-28T14:15:35.098227",
     "exception": false,
     "start_time": "2024-03-28T14:15:35.070026",
     "status": "completed"
    },
    "tags": []
   },
   "outputs": [
    {
     "data": {
      "text/html": [
       "<div>\n",
       "<style scoped>\n",
       "    .dataframe tbody tr th:only-of-type {\n",
       "        vertical-align: middle;\n",
       "    }\n",
       "\n",
       "    .dataframe tbody tr th {\n",
       "        vertical-align: top;\n",
       "    }\n",
       "\n",
       "    .dataframe thead th {\n",
       "        text-align: right;\n",
       "    }\n",
       "</style>\n",
       "<table border=\"1\" class=\"dataframe\">\n",
       "  <thead>\n",
       "    <tr style=\"text-align: right;\">\n",
       "      <th></th>\n",
       "      <th></th>\n",
       "      <th>students</th>\n",
       "      <th>avg_grade</th>\n",
       "      <th>med_grade</th>\n",
       "    </tr>\n",
       "    <tr>\n",
       "      <th>prev_class</th>\n",
       "      <th>class</th>\n",
       "      <th></th>\n",
       "      <th></th>\n",
       "      <th></th>\n",
       "    </tr>\n",
       "  </thead>\n",
       "  <tbody>\n",
       "    <tr>\n",
       "      <th>math</th>\n",
       "      <th>chemistry</th>\n",
       "      <td>3</td>\n",
       "      <td>26.000000</td>\n",
       "      <td>23.0</td>\n",
       "    </tr>\n",
       "    <tr>\n",
       "      <th>history</th>\n",
       "      <th>chemistry</th>\n",
       "      <td>3</td>\n",
       "      <td>35.333333</td>\n",
       "      <td>27.0</td>\n",
       "    </tr>\n",
       "    <tr>\n",
       "      <th>english</th>\n",
       "      <th>chemistry</th>\n",
       "      <td>6</td>\n",
       "      <td>32.666667</td>\n",
       "      <td>31.5</td>\n",
       "    </tr>\n",
       "    <tr>\n",
       "      <th>engineering</th>\n",
       "      <th>chemistry</th>\n",
       "      <td>6</td>\n",
       "      <td>43.333333</td>\n",
       "      <td>43.5</td>\n",
       "    </tr>\n",
       "    <tr>\n",
       "      <th>writing</th>\n",
       "      <th>chemistry</th>\n",
       "      <td>3</td>\n",
       "      <td>45.333333</td>\n",
       "      <td>46.0</td>\n",
       "    </tr>\n",
       "    <tr>\n",
       "      <th>civics</th>\n",
       "      <th>chemistry</th>\n",
       "      <td>2</td>\n",
       "      <td>55.000000</td>\n",
       "      <td>55.0</td>\n",
       "    </tr>\n",
       "    <tr>\n",
       "      <th>gym</th>\n",
       "      <th>chemistry</th>\n",
       "      <td>2</td>\n",
       "      <td>68.500000</td>\n",
       "      <td>68.5</td>\n",
       "    </tr>\n",
       "  </tbody>\n",
       "</table>\n",
       "</div>"
      ],
      "text/plain": [
       "                       students  avg_grade  med_grade\n",
       "prev_class  class                                    \n",
       "math        chemistry         3  26.000000       23.0\n",
       "history     chemistry         3  35.333333       27.0\n",
       "english     chemistry         6  32.666667       31.5\n",
       "engineering chemistry         6  43.333333       43.5\n",
       "writing     chemistry         3  45.333333       46.0\n",
       "civics      chemistry         2  55.000000       55.0\n",
       "gym         chemistry         2  68.500000       68.5"
      ]
     },
     "execution_count": 5,
     "metadata": {},
     "output_type": "execute_result"
    }
   ],
   "source": [
    "# Sort the filtered_class_pairs DataFrame by median grade\n",
    "sorted_class_pairs = filtered_class_pairs.sort_values('med_grade')\n",
    "sorted_class_pairs"
   ]
  },
  {
   "cell_type": "markdown",
   "id": "79b77b4f",
   "metadata": {
    "papermill": {
     "duration": 0.009327,
     "end_time": "2024-03-28T14:15:35.117223",
     "exception": false,
     "start_time": "2024-03-28T14:15:35.107896",
     "status": "completed"
    },
    "tags": []
   },
   "source": [
    "# Q2 - Rose Thorn Problem"
   ]
  },
  {
   "cell_type": "markdown",
   "id": "7ddd391b",
   "metadata": {
    "papermill": {
     "duration": 0.00927,
     "end_time": "2024-03-28T14:15:35.136261",
     "exception": false,
     "start_time": "2024-03-28T14:15:35.126991",
     "status": "completed"
    },
    "tags": []
   },
   "source": [
    "https://www.practiceprobs.com/problemsets/python-pandas/advanced/rose-thorn/"
   ]
  },
  {
   "cell_type": "markdown",
   "id": "89ca34d7",
   "metadata": {
    "papermill": {
     "duration": 0.009257,
     "end_time": "2024-03-28T14:15:35.155161",
     "exception": false,
     "start_time": "2024-03-28T14:15:35.145904",
     "status": "completed"
    },
    "tags": []
   },
   "source": [
    "You developed a multiplayer indie game called 🌹 Rose Thorn. Players compete in one of two venues - the ocean or the desert. You track the outcome of five games between three players in a DataFrame called games.\n",
    "\n"
   ]
  },
  {
   "cell_type": "code",
   "execution_count": 6,
   "id": "6d3de8c1",
   "metadata": {
    "execution": {
     "iopub.execute_input": "2024-03-28T14:15:35.176656Z",
     "iopub.status.busy": "2024-03-28T14:15:35.175869Z",
     "iopub.status.idle": "2024-03-28T14:15:35.186565Z",
     "shell.execute_reply": "2024-03-28T14:15:35.185266Z"
    },
    "papermill": {
     "duration": 0.024048,
     "end_time": "2024-03-28T14:15:35.188885",
     "exception": false,
     "start_time": "2024-03-28T14:15:35.164837",
     "status": "completed"
    },
    "tags": []
   },
   "outputs": [
    {
     "name": "stdout",
     "output_type": "stream",
     "text": [
      "  bella1 billybob nosoup4u   venue\n",
      "0    2nd      1st      3rd  desert\n",
      "1    3rd      2nd      1st   ocean\n",
      "2    1st      2nd      3rd  desert\n",
      "3    2nd      1st      3rd   ocean\n",
      "4    3rd      2nd      3rd  desert\n"
     ]
    }
   ],
   "source": [
    "import numpy as np\n",
    "import pandas as pd\n",
    "\n",
    "games = pd.DataFrame({\n",
    "    'bella1':   ['2nd', '3rd', '1st', '2nd', '3rd'],\n",
    "    'billybob': ['1st', '2nd', '2nd', '1st', '2nd'],\n",
    "    'nosoup4u': ['3rd', '1st', '3rd', '3rd', '3rd'],\n",
    "    'venue': ['desert', 'ocean', 'desert', 'ocean', 'desert']\n",
    "})\n",
    "\n",
    "print(games)\n",
    "#   bella1 billybob nosoup4u   venue\n",
    "# 0    2nd      1st      3rd  desert\n",
    "# 1    3rd      2nd      1st   ocean\n",
    "# 2    1st      2nd      3rd  desert\n",
    "# 3    2nd      1st      3rd   ocean\n",
    "# 4    3rd      2nd      3rd  desert"
   ]
  },
  {
   "cell_type": "markdown",
   "id": "abcc2ceb",
   "metadata": {
    "papermill": {
     "duration": 0.009522,
     "end_time": "2024-03-28T14:15:35.208360",
     "exception": false,
     "start_time": "2024-03-28T14:15:35.198838",
     "status": "completed"
    },
    "tags": []
   },
   "source": [
    "Now you want to analyze the data. Convert the games DataFrame into a new DataFrame that identifies how many times each (player, placement) occurs per venue, specifically with venue as the row index and (player, placed) as the column MultiIndex."
   ]
  },
  {
   "cell_type": "markdown",
   "id": "2153cec8",
   "metadata": {
    "papermill": {
     "duration": 0.009438,
     "end_time": "2024-03-28T14:15:35.227728",
     "exception": false,
     "start_time": "2024-03-28T14:15:35.218290",
     "status": "completed"
    },
    "tags": []
   },
   "source": [
    "## Solution"
   ]
  },
  {
   "cell_type": "code",
   "execution_count": 7,
   "id": "093f9b9f",
   "metadata": {
    "execution": {
     "iopub.execute_input": "2024-03-28T14:15:35.249452Z",
     "iopub.status.busy": "2024-03-28T14:15:35.248675Z",
     "iopub.status.idle": "2024-03-28T14:15:35.267498Z",
     "shell.execute_reply": "2024-03-28T14:15:35.266415Z"
    },
    "papermill": {
     "duration": 0.032417,
     "end_time": "2024-03-28T14:15:35.269882",
     "exception": false,
     "start_time": "2024-03-28T14:15:35.237465",
     "status": "completed"
    },
    "tags": []
   },
   "outputs": [
    {
     "data": {
      "text/html": [
       "<div>\n",
       "<style scoped>\n",
       "    .dataframe tbody tr th:only-of-type {\n",
       "        vertical-align: middle;\n",
       "    }\n",
       "\n",
       "    .dataframe tbody tr th {\n",
       "        vertical-align: top;\n",
       "    }\n",
       "\n",
       "    .dataframe thead th {\n",
       "        text-align: right;\n",
       "    }\n",
       "</style>\n",
       "<table border=\"1\" class=\"dataframe\">\n",
       "  <thead>\n",
       "    <tr style=\"text-align: right;\">\n",
       "      <th></th>\n",
       "      <th>venue</th>\n",
       "      <th>player</th>\n",
       "      <th>placed</th>\n",
       "    </tr>\n",
       "  </thead>\n",
       "  <tbody>\n",
       "    <tr>\n",
       "      <th>0</th>\n",
       "      <td>desert</td>\n",
       "      <td>bella1</td>\n",
       "      <td>2nd</td>\n",
       "    </tr>\n",
       "    <tr>\n",
       "      <th>1</th>\n",
       "      <td>ocean</td>\n",
       "      <td>bella1</td>\n",
       "      <td>3rd</td>\n",
       "    </tr>\n",
       "    <tr>\n",
       "      <th>2</th>\n",
       "      <td>desert</td>\n",
       "      <td>bella1</td>\n",
       "      <td>1st</td>\n",
       "    </tr>\n",
       "    <tr>\n",
       "      <th>3</th>\n",
       "      <td>ocean</td>\n",
       "      <td>bella1</td>\n",
       "      <td>2nd</td>\n",
       "    </tr>\n",
       "    <tr>\n",
       "      <th>4</th>\n",
       "      <td>desert</td>\n",
       "      <td>bella1</td>\n",
       "      <td>3rd</td>\n",
       "    </tr>\n",
       "    <tr>\n",
       "      <th>5</th>\n",
       "      <td>desert</td>\n",
       "      <td>billybob</td>\n",
       "      <td>1st</td>\n",
       "    </tr>\n",
       "    <tr>\n",
       "      <th>6</th>\n",
       "      <td>ocean</td>\n",
       "      <td>billybob</td>\n",
       "      <td>2nd</td>\n",
       "    </tr>\n",
       "    <tr>\n",
       "      <th>7</th>\n",
       "      <td>desert</td>\n",
       "      <td>billybob</td>\n",
       "      <td>2nd</td>\n",
       "    </tr>\n",
       "    <tr>\n",
       "      <th>8</th>\n",
       "      <td>ocean</td>\n",
       "      <td>billybob</td>\n",
       "      <td>1st</td>\n",
       "    </tr>\n",
       "    <tr>\n",
       "      <th>9</th>\n",
       "      <td>desert</td>\n",
       "      <td>billybob</td>\n",
       "      <td>2nd</td>\n",
       "    </tr>\n",
       "    <tr>\n",
       "      <th>10</th>\n",
       "      <td>desert</td>\n",
       "      <td>nosoup4u</td>\n",
       "      <td>3rd</td>\n",
       "    </tr>\n",
       "    <tr>\n",
       "      <th>11</th>\n",
       "      <td>ocean</td>\n",
       "      <td>nosoup4u</td>\n",
       "      <td>1st</td>\n",
       "    </tr>\n",
       "    <tr>\n",
       "      <th>12</th>\n",
       "      <td>desert</td>\n",
       "      <td>nosoup4u</td>\n",
       "      <td>3rd</td>\n",
       "    </tr>\n",
       "    <tr>\n",
       "      <th>13</th>\n",
       "      <td>ocean</td>\n",
       "      <td>nosoup4u</td>\n",
       "      <td>3rd</td>\n",
       "    </tr>\n",
       "    <tr>\n",
       "      <th>14</th>\n",
       "      <td>desert</td>\n",
       "      <td>nosoup4u</td>\n",
       "      <td>3rd</td>\n",
       "    </tr>\n",
       "  </tbody>\n",
       "</table>\n",
       "</div>"
      ],
      "text/plain": [
       "     venue    player placed\n",
       "0   desert    bella1    2nd\n",
       "1    ocean    bella1    3rd\n",
       "2   desert    bella1    1st\n",
       "3    ocean    bella1    2nd\n",
       "4   desert    bella1    3rd\n",
       "5   desert  billybob    1st\n",
       "6    ocean  billybob    2nd\n",
       "7   desert  billybob    2nd\n",
       "8    ocean  billybob    1st\n",
       "9   desert  billybob    2nd\n",
       "10  desert  nosoup4u    3rd\n",
       "11   ocean  nosoup4u    1st\n",
       "12  desert  nosoup4u    3rd\n",
       "13   ocean  nosoup4u    3rd\n",
       "14  desert  nosoup4u    3rd"
      ]
     },
     "execution_count": 7,
     "metadata": {},
     "output_type": "execute_result"
    }
   ],
   "source": [
    "step1 = games.melt(id_vars='venue', var_name='player', value_name='placed')\n",
    "step1['venue'] = pd.Categorical(step1.venue)\n",
    "step1['player'] = pd.Categorical(step1.player)\n",
    "step1['placed'] = pd.Categorical(step1.placed)\n",
    "step1"
   ]
  },
  {
   "cell_type": "code",
   "execution_count": 8,
   "id": "37947569",
   "metadata": {
    "execution": {
     "iopub.execute_input": "2024-03-28T14:15:35.292267Z",
     "iopub.status.busy": "2024-03-28T14:15:35.291535Z",
     "iopub.status.idle": "2024-03-28T14:15:35.309883Z",
     "shell.execute_reply": "2024-03-28T14:15:35.308793Z"
    },
    "papermill": {
     "duration": 0.032403,
     "end_time": "2024-03-28T14:15:35.312411",
     "exception": false,
     "start_time": "2024-03-28T14:15:35.280008",
     "status": "completed"
    },
    "tags": []
   },
   "outputs": [
    {
     "name": "stderr",
     "output_type": "stream",
     "text": [
      "/tmp/ipykernel_18/4146095726.py:1: FutureWarning: The default of observed=False is deprecated and will be changed to True in a future version of pandas. Pass observed=False to retain current behavior or observed=True to adopt the future default and silence this warning.\n",
      "  step2 = step1.groupby(['venue', 'player', 'placed']).size()\n"
     ]
    },
    {
     "data": {
      "text/plain": [
       "venue   player    placed\n",
       "desert  bella1    1st       1\n",
       "                  2nd       1\n",
       "                  3rd       1\n",
       "        billybob  1st       1\n",
       "                  2nd       2\n",
       "                  3rd       0\n",
       "        nosoup4u  1st       0\n",
       "                  2nd       0\n",
       "                  3rd       3\n",
       "ocean   bella1    1st       0\n",
       "                  2nd       1\n",
       "                  3rd       1\n",
       "        billybob  1st       1\n",
       "                  2nd       1\n",
       "                  3rd       0\n",
       "        nosoup4u  1st       1\n",
       "                  2nd       0\n",
       "                  3rd       1\n",
       "dtype: int64"
      ]
     },
     "execution_count": 8,
     "metadata": {},
     "output_type": "execute_result"
    }
   ],
   "source": [
    "step2 = step1.groupby(['venue', 'player', 'placed']).size()\n",
    "step2"
   ]
  },
  {
   "cell_type": "code",
   "execution_count": 9,
   "id": "3ae909c1",
   "metadata": {
    "execution": {
     "iopub.execute_input": "2024-03-28T14:15:35.336523Z",
     "iopub.status.busy": "2024-03-28T14:15:35.336126Z",
     "iopub.status.idle": "2024-03-28T14:15:35.358563Z",
     "shell.execute_reply": "2024-03-28T14:15:35.357270Z"
    },
    "papermill": {
     "duration": 0.037454,
     "end_time": "2024-03-28T14:15:35.361081",
     "exception": false,
     "start_time": "2024-03-28T14:15:35.323627",
     "status": "completed"
    },
    "tags": []
   },
   "outputs": [
    {
     "data": {
      "text/html": [
       "<div>\n",
       "<style scoped>\n",
       "    .dataframe tbody tr th:only-of-type {\n",
       "        vertical-align: middle;\n",
       "    }\n",
       "\n",
       "    .dataframe tbody tr th {\n",
       "        vertical-align: top;\n",
       "    }\n",
       "\n",
       "    .dataframe thead tr th {\n",
       "        text-align: left;\n",
       "    }\n",
       "\n",
       "    .dataframe thead tr:last-of-type th {\n",
       "        text-align: right;\n",
       "    }\n",
       "</style>\n",
       "<table border=\"1\" class=\"dataframe\">\n",
       "  <thead>\n",
       "    <tr>\n",
       "      <th>player</th>\n",
       "      <th colspan=\"3\" halign=\"left\">bella1</th>\n",
       "      <th colspan=\"3\" halign=\"left\">billybob</th>\n",
       "      <th colspan=\"3\" halign=\"left\">nosoup4u</th>\n",
       "    </tr>\n",
       "    <tr>\n",
       "      <th>placed</th>\n",
       "      <th>1st</th>\n",
       "      <th>2nd</th>\n",
       "      <th>3rd</th>\n",
       "      <th>1st</th>\n",
       "      <th>2nd</th>\n",
       "      <th>3rd</th>\n",
       "      <th>1st</th>\n",
       "      <th>2nd</th>\n",
       "      <th>3rd</th>\n",
       "    </tr>\n",
       "    <tr>\n",
       "      <th>venue</th>\n",
       "      <th></th>\n",
       "      <th></th>\n",
       "      <th></th>\n",
       "      <th></th>\n",
       "      <th></th>\n",
       "      <th></th>\n",
       "      <th></th>\n",
       "      <th></th>\n",
       "      <th></th>\n",
       "    </tr>\n",
       "  </thead>\n",
       "  <tbody>\n",
       "    <tr>\n",
       "      <th>desert</th>\n",
       "      <td>1</td>\n",
       "      <td>1</td>\n",
       "      <td>1</td>\n",
       "      <td>1</td>\n",
       "      <td>2</td>\n",
       "      <td>0</td>\n",
       "      <td>0</td>\n",
       "      <td>0</td>\n",
       "      <td>3</td>\n",
       "    </tr>\n",
       "    <tr>\n",
       "      <th>ocean</th>\n",
       "      <td>0</td>\n",
       "      <td>1</td>\n",
       "      <td>1</td>\n",
       "      <td>1</td>\n",
       "      <td>1</td>\n",
       "      <td>0</td>\n",
       "      <td>1</td>\n",
       "      <td>0</td>\n",
       "      <td>1</td>\n",
       "    </tr>\n",
       "  </tbody>\n",
       "</table>\n",
       "</div>"
      ],
      "text/plain": [
       "player bella1         billybob         nosoup4u        \n",
       "placed    1st 2nd 3rd      1st 2nd 3rd      1st 2nd 3rd\n",
       "venue                                                  \n",
       "desert      1   1   1        1   2   0        0   0   3\n",
       "ocean       0   1   1        1   1   0        1   0   1"
      ]
     },
     "execution_count": 9,
     "metadata": {},
     "output_type": "execute_result"
    }
   ],
   "source": [
    "step3 = step2.unstack(level=['player', 'placed'])\n",
    "step3"
   ]
  },
  {
   "cell_type": "markdown",
   "id": "89d91683",
   "metadata": {
    "papermill": {
     "duration": 0.010204,
     "end_time": "2024-03-28T14:15:35.382113",
     "exception": false,
     "start_time": "2024-03-28T14:15:35.371909",
     "status": "completed"
    },
    "tags": []
   },
   "source": [
    "# Q3- Product Volumes Problem"
   ]
  },
  {
   "cell_type": "markdown",
   "id": "5572d318",
   "metadata": {
    "papermill": {
     "duration": 0.010649,
     "end_time": "2024-03-28T14:15:35.403381",
     "exception": false,
     "start_time": "2024-03-28T14:15:35.392732",
     "status": "completed"
    },
    "tags": []
   },
   "source": [
    "https://www.practiceprobs.com/problemsets/python-pandas/advanced/product-volumes/"
   ]
  },
  {
   "cell_type": "markdown",
   "id": "6380f92d",
   "metadata": {
    "papermill": {
     "duration": 0.010271,
     "end_time": "2024-03-28T14:15:35.424954",
     "exception": false,
     "start_time": "2024-03-28T14:15:35.414683",
     "status": "completed"
    },
    "tags": []
   },
   "source": [
    "Given a Series of product descriptions like “birch table measures 3’x6’x2'”, estimate the volume of each product. (Note: 3' means 3 \"feet\" in the imperial system of units.)\n",
    "\n"
   ]
  },
  {
   "cell_type": "code",
   "execution_count": 10,
   "id": "6a019ca9",
   "metadata": {
    "execution": {
     "iopub.execute_input": "2024-03-28T14:15:35.448002Z",
     "iopub.status.busy": "2024-03-28T14:15:35.447599Z",
     "iopub.status.idle": "2024-03-28T14:15:35.453738Z",
     "shell.execute_reply": "2024-03-28T14:15:35.452736Z"
    },
    "papermill": {
     "duration": 0.020421,
     "end_time": "2024-03-28T14:15:35.455942",
     "exception": false,
     "start_time": "2024-03-28T14:15:35.435521",
     "status": "completed"
    },
    "tags": []
   },
   "outputs": [],
   "source": [
    "import numpy as np\n",
    "import pandas as pd\n",
    "\n",
    "descriptions = pd.Series([\n",
    "    \"soft and fuzzy teddy bear, product dims: 1'x2'x1', shipping not included\",\n",
    "    \"birch table measures 3'x6'x2'\",\n",
    "    \"tortilla blanket ~ sleep like a fajita ~ 6'x8'x1'\",\n",
    "    \"inflatable arm tube man | 12'x1'x1' when inflated\",\n",
    "    \"dinosaur costume -- 6'x4'x2' -- for kids and small adults\"\n",
    "], dtype='string')\n"
   ]
  },
  {
   "cell_type": "markdown",
   "id": "3a988221",
   "metadata": {
    "papermill": {
     "duration": 0.010264,
     "end_time": "2024-03-28T14:15:35.477052",
     "exception": false,
     "start_time": "2024-03-28T14:15:35.466788",
     "status": "completed"
    },
    "tags": []
   },
   "source": [
    "## Solution 1"
   ]
  },
  {
   "cell_type": "code",
   "execution_count": 11,
   "id": "fc8379ed",
   "metadata": {
    "execution": {
     "iopub.execute_input": "2024-03-28T14:15:35.499939Z",
     "iopub.status.busy": "2024-03-28T14:15:35.499535Z",
     "iopub.status.idle": "2024-03-28T14:15:35.509717Z",
     "shell.execute_reply": "2024-03-28T14:15:35.508665Z"
    },
    "papermill": {
     "duration": 0.025179,
     "end_time": "2024-03-28T14:15:35.512812",
     "exception": false,
     "start_time": "2024-03-28T14:15:35.487633",
     "status": "completed"
    },
    "tags": []
   },
   "outputs": [
    {
     "data": {
      "text/plain": [
       "0     2\n",
       "1    36\n",
       "2    48\n",
       "3    12\n",
       "4    48\n",
       "dtype: int64"
      ]
     },
     "execution_count": 11,
     "metadata": {},
     "output_type": "execute_result"
    }
   ],
   "source": [
    "dims = descriptions.str.extract(r\"(\\d+)'x(\\d+)'x(\\d+)'\").astype('int64')\n",
    "dims.product(axis=1)"
   ]
  },
  {
   "cell_type": "markdown",
   "id": "a424ae5e",
   "metadata": {
    "papermill": {
     "duration": 0.010946,
     "end_time": "2024-03-28T14:15:35.534798",
     "exception": false,
     "start_time": "2024-03-28T14:15:35.523852",
     "status": "completed"
    },
    "tags": []
   },
   "source": [
    "## Solution 2"
   ]
  },
  {
   "cell_type": "code",
   "execution_count": 12,
   "id": "32c1f340",
   "metadata": {
    "execution": {
     "iopub.execute_input": "2024-03-28T14:15:35.558098Z",
     "iopub.status.busy": "2024-03-28T14:15:35.557696Z",
     "iopub.status.idle": "2024-03-28T14:15:35.574273Z",
     "shell.execute_reply": "2024-03-28T14:15:35.573156Z"
    },
    "papermill": {
     "duration": 0.030956,
     "end_time": "2024-03-28T14:15:35.576574",
     "exception": false,
     "start_time": "2024-03-28T14:15:35.545618",
     "status": "completed"
    },
    "tags": []
   },
   "outputs": [
    {
     "data": {
      "text/html": [
       "<div>\n",
       "<style scoped>\n",
       "    .dataframe tbody tr th:only-of-type {\n",
       "        vertical-align: middle;\n",
       "    }\n",
       "\n",
       "    .dataframe tbody tr th {\n",
       "        vertical-align: top;\n",
       "    }\n",
       "\n",
       "    .dataframe thead th {\n",
       "        text-align: right;\n",
       "    }\n",
       "</style>\n",
       "<table border=\"1\" class=\"dataframe\">\n",
       "  <thead>\n",
       "    <tr style=\"text-align: right;\">\n",
       "      <th></th>\n",
       "      <th>0</th>\n",
       "    </tr>\n",
       "  </thead>\n",
       "  <tbody>\n",
       "    <tr>\n",
       "      <th>0</th>\n",
       "      <td>2</td>\n",
       "    </tr>\n",
       "    <tr>\n",
       "      <th>1</th>\n",
       "      <td>36</td>\n",
       "    </tr>\n",
       "    <tr>\n",
       "      <th>2</th>\n",
       "      <td>48</td>\n",
       "    </tr>\n",
       "    <tr>\n",
       "      <th>3</th>\n",
       "      <td>12</td>\n",
       "    </tr>\n",
       "    <tr>\n",
       "      <th>4</th>\n",
       "      <td>48</td>\n",
       "    </tr>\n",
       "  </tbody>\n",
       "</table>\n",
       "</div>"
      ],
      "text/plain": [
       "    0\n",
       "0   2\n",
       "1  36\n",
       "2  48\n",
       "3  12\n",
       "4  48"
      ]
     },
     "execution_count": 12,
     "metadata": {},
     "output_type": "execute_result"
    }
   ],
   "source": [
    "dims = descriptions.str.extractall(r\"(\\d+)'\").astype('int64')\n",
    "dims.groupby(dims.index.get_level_values(0)).agg(pd.Series.product)"
   ]
  }
 ],
 "metadata": {
  "kaggle": {
   "accelerator": "none",
   "dataSources": [],
   "dockerImageVersionId": 30673,
   "isGpuEnabled": false,
   "isInternetEnabled": true,
   "language": "python",
   "sourceType": "notebook"
  },
  "kernelspec": {
   "display_name": "Python 3",
   "language": "python",
   "name": "python3"
  },
  "language_info": {
   "codemirror_mode": {
    "name": "ipython",
    "version": 3
   },
   "file_extension": ".py",
   "mimetype": "text/x-python",
   "name": "python",
   "nbconvert_exporter": "python",
   "pygments_lexer": "ipython3",
   "version": "3.10.13"
  },
  "papermill": {
   "default_parameters": {},
   "duration": 4.96884,
   "end_time": "2024-03-28T14:15:36.007196",
   "environment_variables": {},
   "exception": null,
   "input_path": "__notebook__.ipynb",
   "output_path": "__notebook__.ipynb",
   "parameters": {},
   "start_time": "2024-03-28T14:15:31.038356",
   "version": "2.5.0"
  }
 },
 "nbformat": 4,
 "nbformat_minor": 5
}
