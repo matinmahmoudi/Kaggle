{
 "cells": [
  {
   "cell_type": "markdown",
   "id": "0e8d24c8",
   "metadata": {
    "papermill": {
     "duration": 0.015871,
     "end_time": "2024-09-02T14:02:01.523458",
     "exception": false,
     "start_time": "2024-09-02T14:02:01.507587",
     "status": "completed"
    },
    "tags": []
   },
   "source": [
    "🌿 🧩 In Depth: Understanding Python Functions\n",
    "\n",
    "## Table of Contents\n",
    "1. **Introduction to Python Functions**\n",
    "2. **Function Definition and Calling**\n",
    "3. **Return Statements**\n",
    "4. **Function Arguments**\n",
    "    - Positional Arguments\n",
    "    - Keyword Arguments\n",
    "    - Default Arguments\n",
    "5. **Advanced Function Arguments**\n",
    "    - `*args`: Handling Variable Positional Arguments\n",
    "    - `**kwargs`: Handling Variable Keyword Arguments\n",
    "    - Combining `*args` and `**kwargs`\n",
    "6. **Understanding Scope in Functions**\n",
    "    - Local vs. Global Scope\n",
    "    - The `global` and `nonlocal` Keywords\n",
    "7. **Anonymous Functions: Lambda Expressions**\n",
    "8. **Closures and the `nonlocal` Keyword**\n",
    "9. **Decorators: Enhancing Functions**\n",
    "    - Writing Simple Decorators\n",
    "    - Decorators with Arguments\n",
    "    - Chaining Decorators\n",
    "10. **Recursive Functions**\n",
    "11. **Higher-Order Functions**\n",
    "    - Functions as First-Class Citizens\n",
    "    - Passing Functions as Arguments\n",
    "    - Returning Functions from Functions\n",
    "12. **Exercises**\n",
    "    - Exercise 1: Easy\n",
    "    - Exercise 2: Intermediate\n",
    "    - Exercise 3: Advanced\n",
    "    - Exercise 4: Very Advanced\n",
    "    - Exercise 5: Expert\n"
   ]
  },
  {
   "cell_type": "markdown",
   "id": "e2e39ebd",
   "metadata": {
    "papermill": {
     "duration": 0.013507,
     "end_time": "2024-09-02T14:02:01.551545",
     "exception": false,
     "start_time": "2024-09-02T14:02:01.538038",
     "status": "completed"
    },
    "tags": []
   },
   "source": [
    "## **Section 1: Introduction to Python Functions**\n",
    "\n",
    "Functions are the building blocks of any Python program. They allow you to encapsulate code into reusable blocks, making your code more organized, modular, and easier to maintain. In this section, we'll cover the basics of defining and calling functions in Python.\n"
   ]
  },
  {
   "cell_type": "markdown",
   "id": "78498eea",
   "metadata": {
    "papermill": {
     "duration": 0.013391,
     "end_time": "2024-09-02T14:02:01.579536",
     "exception": false,
     "start_time": "2024-09-02T14:02:01.566145",
     "status": "completed"
    },
    "tags": []
   },
   "source": [
    "## **Section 2: Function Definition and Calling**\n",
    "\n",
    "### Defining a Function\n",
    "\n",
    "A function in Python is defined using the `def` keyword, followed by the function name, parentheses `()`, and a colon `:`. The function's body is indented, and it contains the statements that will be executed when the function is called.\n"
   ]
  },
  {
   "cell_type": "code",
   "execution_count": 1,
   "id": "1129f1b2",
   "metadata": {
    "execution": {
     "iopub.execute_input": "2024-09-02T14:02:01.609463Z",
     "iopub.status.busy": "2024-09-02T14:02:01.608986Z",
     "iopub.status.idle": "2024-09-02T14:02:01.622344Z",
     "shell.execute_reply": "2024-09-02T14:02:01.621112Z"
    },
    "papermill": {
     "duration": 0.03199,
     "end_time": "2024-09-02T14:02:01.625647",
     "exception": false,
     "start_time": "2024-09-02T14:02:01.593657",
     "status": "completed"
    },
    "tags": []
   },
   "outputs": [],
   "source": [
    "def my_function():\n",
    "    print(\"Hello, World!\")\n"
   ]
  },
  {
   "cell_type": "markdown",
   "id": "8d8c647a",
   "metadata": {
    "papermill": {
     "duration": 0.013515,
     "end_time": "2024-09-02T14:02:01.652981",
     "exception": false,
     "start_time": "2024-09-02T14:02:01.639466",
     "status": "completed"
    },
    "tags": []
   },
   "source": [
    "### Calling a Function\n",
    "\n",
    "Once defined, you can call a function by using its name followed by parentheses.\n"
   ]
  },
  {
   "cell_type": "code",
   "execution_count": 2,
   "id": "a47d2f14",
   "metadata": {
    "execution": {
     "iopub.execute_input": "2024-09-02T14:02:01.685865Z",
     "iopub.status.busy": "2024-09-02T14:02:01.684230Z",
     "iopub.status.idle": "2024-09-02T14:02:01.693751Z",
     "shell.execute_reply": "2024-09-02T14:02:01.692065Z"
    },
    "papermill": {
     "duration": 0.029132,
     "end_time": "2024-09-02T14:02:01.696985",
     "exception": false,
     "start_time": "2024-09-02T14:02:01.667853",
     "status": "completed"
    },
    "tags": []
   },
   "outputs": [
    {
     "name": "stdout",
     "output_type": "stream",
     "text": [
      "Hello, World!\n"
     ]
    }
   ],
   "source": [
    "my_function()\n"
   ]
  },
  {
   "cell_type": "markdown",
   "id": "5ce25b36",
   "metadata": {
    "papermill": {
     "duration": 0.013772,
     "end_time": "2024-09-02T14:02:01.725166",
     "exception": false,
     "start_time": "2024-09-02T14:02:01.711394",
     "status": "completed"
    },
    "tags": []
   },
   "source": [
    "## **Section 3: Return Statements**\n",
    "\n",
    "The `return` statement is used to exit a function and return a value. If no `return` statement is used, the function returns `None` by default.\n"
   ]
  },
  {
   "cell_type": "code",
   "execution_count": 3,
   "id": "64689a72",
   "metadata": {
    "execution": {
     "iopub.execute_input": "2024-09-02T14:02:01.757342Z",
     "iopub.status.busy": "2024-09-02T14:02:01.756800Z",
     "iopub.status.idle": "2024-09-02T14:02:01.766120Z",
     "shell.execute_reply": "2024-09-02T14:02:01.764319Z"
    },
    "papermill": {
     "duration": 0.030057,
     "end_time": "2024-09-02T14:02:01.769445",
     "exception": false,
     "start_time": "2024-09-02T14:02:01.739388",
     "status": "completed"
    },
    "tags": []
   },
   "outputs": [
    {
     "name": "stdout",
     "output_type": "stream",
     "text": [
      "8\n"
     ]
    }
   ],
   "source": [
    "def add(a, b):\n",
    "    return a + b\n",
    "\n",
    "result = add(5, 3)\n",
    "print(result)  # Output: 8\n"
   ]
  },
  {
   "cell_type": "markdown",
   "id": "a23a7861",
   "metadata": {
    "papermill": {
     "duration": 0.016429,
     "end_time": "2024-09-02T14:02:01.801932",
     "exception": false,
     "start_time": "2024-09-02T14:02:01.785503",
     "status": "completed"
    },
    "tags": []
   },
   "source": [
    "## **Section 4: Function Arguments**\n",
    "\n",
    "### Positional Arguments\n",
    "\n",
    "Positional arguments are the most common type of arguments, where the order in which you pass the arguments to the function matters.\n"
   ]
  },
  {
   "cell_type": "code",
   "execution_count": 4,
   "id": "ee9006cf",
   "metadata": {
    "execution": {
     "iopub.execute_input": "2024-09-02T14:02:01.832768Z",
     "iopub.status.busy": "2024-09-02T14:02:01.832176Z",
     "iopub.status.idle": "2024-09-02T14:02:01.840183Z",
     "shell.execute_reply": "2024-09-02T14:02:01.838557Z"
    },
    "papermill": {
     "duration": 0.026369,
     "end_time": "2024-09-02T14:02:01.843042",
     "exception": false,
     "start_time": "2024-09-02T14:02:01.816673",
     "status": "completed"
    },
    "tags": []
   },
   "outputs": [
    {
     "name": "stdout",
     "output_type": "stream",
     "text": [
      "Hello, Alice!\n"
     ]
    }
   ],
   "source": [
    "def greet(name, message):\n",
    "    print(f\"{message}, {name}!\")\n",
    "\n",
    "greet(\"Alice\", \"Hello\")\n"
   ]
  },
  {
   "cell_type": "markdown",
   "id": "47ccbe52",
   "metadata": {
    "papermill": {
     "duration": 0.014747,
     "end_time": "2024-09-02T14:02:01.872107",
     "exception": false,
     "start_time": "2024-09-02T14:02:01.857360",
     "status": "completed"
    },
    "tags": []
   },
   "source": [
    "### Keyword Arguments\n",
    "\n",
    "Keyword arguments allow you to specify the values of arguments by their names, making the function calls more readable.\n"
   ]
  },
  {
   "cell_type": "code",
   "execution_count": 5,
   "id": "ea577c68",
   "metadata": {
    "execution": {
     "iopub.execute_input": "2024-09-02T14:02:01.903668Z",
     "iopub.status.busy": "2024-09-02T14:02:01.903114Z",
     "iopub.status.idle": "2024-09-02T14:02:01.911157Z",
     "shell.execute_reply": "2024-09-02T14:02:01.909792Z"
    },
    "papermill": {
     "duration": 0.027902,
     "end_time": "2024-09-02T14:02:01.914435",
     "exception": false,
     "start_time": "2024-09-02T14:02:01.886533",
     "status": "completed"
    },
    "tags": []
   },
   "outputs": [
    {
     "name": "stdout",
     "output_type": "stream",
     "text": [
      "Good morning, Bob!\n"
     ]
    }
   ],
   "source": [
    "greet(name=\"Bob\", message=\"Good morning\")\n"
   ]
  },
  {
   "cell_type": "markdown",
   "id": "97b506ed",
   "metadata": {
    "papermill": {
     "duration": 0.014926,
     "end_time": "2024-09-02T14:02:01.944810",
     "exception": false,
     "start_time": "2024-09-02T14:02:01.929884",
     "status": "completed"
    },
    "tags": []
   },
   "source": [
    "### Default Arguments\n",
    "\n",
    "Default arguments allow you to define default values for arguments. If the function is called without a corresponding argument, the default value is used.\n"
   ]
  },
  {
   "cell_type": "code",
   "execution_count": 6,
   "id": "f72ffcad",
   "metadata": {
    "execution": {
     "iopub.execute_input": "2024-09-02T14:02:01.977833Z",
     "iopub.status.busy": "2024-09-02T14:02:01.977353Z",
     "iopub.status.idle": "2024-09-02T14:02:01.984655Z",
     "shell.execute_reply": "2024-09-02T14:02:01.983203Z"
    },
    "papermill": {
     "duration": 0.029139,
     "end_time": "2024-09-02T14:02:01.989147",
     "exception": false,
     "start_time": "2024-09-02T14:02:01.960008",
     "status": "completed"
    },
    "tags": []
   },
   "outputs": [
    {
     "name": "stdout",
     "output_type": "stream",
     "text": [
      "Hello, Charlie!\n"
     ]
    }
   ],
   "source": [
    "def greet(name, message=\"Hello\"):\n",
    "    print(f\"{message}, {name}!\")\n",
    "\n",
    "greet(\"Charlie\")  # Output: Hello, Charlie!\n"
   ]
  },
  {
   "cell_type": "markdown",
   "id": "6c5afa07",
   "metadata": {
    "papermill": {
     "duration": 0.01473,
     "end_time": "2024-09-02T14:02:02.018524",
     "exception": false,
     "start_time": "2024-09-02T14:02:02.003794",
     "status": "completed"
    },
    "tags": []
   },
   "source": [
    "## **Section 5: Advanced Function Arguments**\n",
    "\n",
    "### `*args`: Handling Variable Positional Arguments\n",
    "\n",
    "The `*args` parameter allows you to pass a variable number of positional arguments to a function. The arguments are packed into a tuple.\n"
   ]
  },
  {
   "cell_type": "code",
   "execution_count": 7,
   "id": "d97642a2",
   "metadata": {
    "execution": {
     "iopub.execute_input": "2024-09-02T14:02:02.049883Z",
     "iopub.status.busy": "2024-09-02T14:02:02.049324Z",
     "iopub.status.idle": "2024-09-02T14:02:02.057377Z",
     "shell.execute_reply": "2024-09-02T14:02:02.055809Z"
    },
    "papermill": {
     "duration": 0.030022,
     "end_time": "2024-09-02T14:02:02.062726",
     "exception": false,
     "start_time": "2024-09-02T14:02:02.032704",
     "status": "completed"
    },
    "tags": []
   },
   "outputs": [
    {
     "name": "stdout",
     "output_type": "stream",
     "text": [
      "10\n"
     ]
    }
   ],
   "source": [
    "def add_numbers(*args):\n",
    "    return sum(args)\n",
    "\n",
    "print(add_numbers(1, 2, 3, 4))  # Output: 10\n"
   ]
  },
  {
   "cell_type": "markdown",
   "id": "4d973209",
   "metadata": {
    "papermill": {
     "duration": 0.015447,
     "end_time": "2024-09-02T14:02:02.093041",
     "exception": false,
     "start_time": "2024-09-02T14:02:02.077594",
     "status": "completed"
    },
    "tags": []
   },
   "source": [
    "### `**kwargs`: Handling Variable Keyword Arguments\n",
    "\n",
    "The `**kwargs` parameter allows you to pass a variable number of keyword arguments to a function. The arguments are packed into a dictionary.\n"
   ]
  },
  {
   "cell_type": "code",
   "execution_count": 8,
   "id": "30482240",
   "metadata": {
    "execution": {
     "iopub.execute_input": "2024-09-02T14:02:02.126427Z",
     "iopub.status.busy": "2024-09-02T14:02:02.125955Z",
     "iopub.status.idle": "2024-09-02T14:02:02.133375Z",
     "shell.execute_reply": "2024-09-02T14:02:02.131924Z"
    },
    "papermill": {
     "duration": 0.026979,
     "end_time": "2024-09-02T14:02:02.136447",
     "exception": false,
     "start_time": "2024-09-02T14:02:02.109468",
     "status": "completed"
    },
    "tags": []
   },
   "outputs": [
    {
     "name": "stdout",
     "output_type": "stream",
     "text": [
      "name: Alice\n",
      "age: 30\n",
      "city: New York\n"
     ]
    }
   ],
   "source": [
    "def print_info(**kwargs):\n",
    "    for key, value in kwargs.items():\n",
    "        print(f\"{key}: {value}\")\n",
    "\n",
    "print_info(name=\"Alice\", age=30, city=\"New York\")\n"
   ]
  },
  {
   "cell_type": "markdown",
   "id": "3c076868",
   "metadata": {
    "papermill": {
     "duration": 0.014501,
     "end_time": "2024-09-02T14:02:02.166245",
     "exception": false,
     "start_time": "2024-09-02T14:02:02.151744",
     "status": "completed"
    },
    "tags": []
   },
   "source": [
    "### Combining `*args` and `**kwargs`\n",
    "\n",
    "You can combine `*args` and `**kwargs` in a function to accept both variable positional and keyword arguments.\n"
   ]
  },
  {
   "cell_type": "code",
   "execution_count": 9,
   "id": "74b20901",
   "metadata": {
    "execution": {
     "iopub.execute_input": "2024-09-02T14:02:02.197296Z",
     "iopub.status.busy": "2024-09-02T14:02:02.196773Z",
     "iopub.status.idle": "2024-09-02T14:02:02.205471Z",
     "shell.execute_reply": "2024-09-02T14:02:02.203733Z"
    },
    "papermill": {
     "duration": 0.02914,
     "end_time": "2024-09-02T14:02:02.209484",
     "exception": false,
     "start_time": "2024-09-02T14:02:02.180344",
     "status": "completed"
    },
    "tags": []
   },
   "outputs": [
    {
     "name": "stdout",
     "output_type": "stream",
     "text": [
      "Positional arguments: (1, 2, 3)\n",
      "Keyword arguments: {'name': 'Alice', 'age': 30}\n"
     ]
    }
   ],
   "source": [
    "def display_info(*args, **kwargs):\n",
    "    print(\"Positional arguments:\", args)\n",
    "    print(\"Keyword arguments:\", kwargs)\n",
    "\n",
    "display_info(1, 2, 3, name=\"Alice\", age=30)\n"
   ]
  },
  {
   "cell_type": "markdown",
   "id": "1445fbc4",
   "metadata": {
    "papermill": {
     "duration": 0.0184,
     "end_time": "2024-09-02T14:02:02.244051",
     "exception": false,
     "start_time": "2024-09-02T14:02:02.225651",
     "status": "completed"
    },
    "tags": []
   },
   "source": [
    "## **Section 6: Understanding Scope in Functions**\n",
    "\n",
    "### Local vs. Global Scope\n",
    "\n",
    "Variables defined inside a function are local to that function, while variables defined outside are global.\n"
   ]
  },
  {
   "cell_type": "code",
   "execution_count": 10,
   "id": "39a657ea",
   "metadata": {
    "execution": {
     "iopub.execute_input": "2024-09-02T14:02:02.275901Z",
     "iopub.status.busy": "2024-09-02T14:02:02.275407Z",
     "iopub.status.idle": "2024-09-02T14:02:02.283293Z",
     "shell.execute_reply": "2024-09-02T14:02:02.281923Z"
    },
    "papermill": {
     "duration": 0.027277,
     "end_time": "2024-09-02T14:02:02.286908",
     "exception": false,
     "start_time": "2024-09-02T14:02:02.259631",
     "status": "completed"
    },
    "tags": []
   },
   "outputs": [
    {
     "name": "stdout",
     "output_type": "stream",
     "text": [
      "local\n",
      "global\n"
     ]
    }
   ],
   "source": [
    "x = \"global\"\n",
    "\n",
    "def my_func():\n",
    "    x = \"local\"\n",
    "    print(x)\n",
    "\n",
    "my_func()  # Output: local\n",
    "print(x)   # Output: global\n"
   ]
  },
  {
   "cell_type": "markdown",
   "id": "6b4ac078",
   "metadata": {
    "papermill": {
     "duration": 0.014337,
     "end_time": "2024-09-02T14:02:02.316855",
     "exception": false,
     "start_time": "2024-09-02T14:02:02.302518",
     "status": "completed"
    },
    "tags": []
   },
   "source": [
    "### The `global` and `nonlocal` Keywords\n",
    "\n",
    "The `global` keyword allows you to modify a global variable inside a function, while `nonlocal` allows you to modify a variable in the nearest enclosing scope.\n"
   ]
  },
  {
   "cell_type": "code",
   "execution_count": 11,
   "id": "a1034f55",
   "metadata": {
    "execution": {
     "iopub.execute_input": "2024-09-02T14:02:02.350492Z",
     "iopub.status.busy": "2024-09-02T14:02:02.349957Z",
     "iopub.status.idle": "2024-09-02T14:02:02.358164Z",
     "shell.execute_reply": "2024-09-02T14:02:02.356568Z"
    },
    "papermill": {
     "duration": 0.029426,
     "end_time": "2024-09-02T14:02:02.361460",
     "exception": false,
     "start_time": "2024-09-02T14:02:02.332034",
     "status": "completed"
    },
    "tags": []
   },
   "outputs": [
    {
     "name": "stdout",
     "output_type": "stream",
     "text": [
      "inner\n",
      "inner\n"
     ]
    }
   ],
   "source": [
    "def outer():\n",
    "    x = \"outer\"\n",
    "\n",
    "    def inner():\n",
    "        nonlocal x\n",
    "        x = \"inner\"\n",
    "        print(x)\n",
    "\n",
    "    inner()\n",
    "    print(x)\n",
    "\n",
    "outer()  # Output: inner, inner\n"
   ]
  },
  {
   "cell_type": "markdown",
   "id": "ba3552be",
   "metadata": {
    "papermill": {
     "duration": 0.015289,
     "end_time": "2024-09-02T14:02:02.392994",
     "exception": false,
     "start_time": "2024-09-02T14:02:02.377705",
     "status": "completed"
    },
    "tags": []
   },
   "source": [
    "## **Section 7: Anonymous Functions: Lambda Expressions**\n",
    "\n",
    "Lambda functions are small, anonymous functions defined using the `lambda` keyword. They are often used as a quick way to define simple functions.\n"
   ]
  },
  {
   "cell_type": "code",
   "execution_count": 12,
   "id": "d1a6878f",
   "metadata": {
    "execution": {
     "iopub.execute_input": "2024-09-02T14:02:02.424147Z",
     "iopub.status.busy": "2024-09-02T14:02:02.423630Z",
     "iopub.status.idle": "2024-09-02T14:02:02.431257Z",
     "shell.execute_reply": "2024-09-02T14:02:02.429733Z"
    },
    "papermill": {
     "duration": 0.026796,
     "end_time": "2024-09-02T14:02:02.434289",
     "exception": false,
     "start_time": "2024-09-02T14:02:02.407493",
     "status": "completed"
    },
    "tags": []
   },
   "outputs": [
    {
     "name": "stdout",
     "output_type": "stream",
     "text": [
      "25\n"
     ]
    }
   ],
   "source": [
    "square = lambda x: x ** 2\n",
    "print(square(5))  # Output: 25\n"
   ]
  },
  {
   "cell_type": "markdown",
   "id": "d9c07dd5",
   "metadata": {
    "papermill": {
     "duration": 0.014372,
     "end_time": "2024-09-02T14:02:02.464487",
     "exception": false,
     "start_time": "2024-09-02T14:02:02.450115",
     "status": "completed"
    },
    "tags": []
   },
   "source": [
    "## **Section 8: Closures and the `nonlocal` Keyword**\n",
    "\n",
    "A closure is a function object that remembers values in enclosing scopes even if those scopes are no longer active. Closures are used in more advanced scenarios, such as creating factory functions.\n"
   ]
  },
  {
   "cell_type": "code",
   "execution_count": 13,
   "id": "6251a27c",
   "metadata": {
    "execution": {
     "iopub.execute_input": "2024-09-02T14:02:02.496784Z",
     "iopub.status.busy": "2024-09-02T14:02:02.496234Z",
     "iopub.status.idle": "2024-09-02T14:02:02.504456Z",
     "shell.execute_reply": "2024-09-02T14:02:02.503115Z"
    },
    "papermill": {
     "duration": 0.028967,
     "end_time": "2024-09-02T14:02:02.508106",
     "exception": false,
     "start_time": "2024-09-02T14:02:02.479139",
     "status": "completed"
    },
    "tags": []
   },
   "outputs": [
    {
     "name": "stdout",
     "output_type": "stream",
     "text": [
      "10\n"
     ]
    }
   ],
   "source": [
    "def make_multiplier(x):\n",
    "    def multiplier(n):\n",
    "        return x * n\n",
    "    return multiplier\n",
    "\n",
    "times_two = make_multiplier(2)\n",
    "print(times_two(5))  # Output: 10\n"
   ]
  },
  {
   "cell_type": "markdown",
   "id": "6905a01a",
   "metadata": {
    "papermill": {
     "duration": 0.015871,
     "end_time": "2024-09-02T14:02:02.539177",
     "exception": false,
     "start_time": "2024-09-02T14:02:02.523306",
     "status": "completed"
    },
    "tags": []
   },
   "source": [
    "## **Section 9: Decorators: Enhancing Functions**\n",
    "\n",
    "Decorators are functions that modify the behavior of other functions. They are commonly used in scenarios like logging, access control, and memoization.\n",
    "\n",
    "#### Writing Simple Decorators\n"
   ]
  },
  {
   "cell_type": "code",
   "execution_count": 14,
   "id": "f319451f",
   "metadata": {
    "execution": {
     "iopub.execute_input": "2024-09-02T14:02:02.572076Z",
     "iopub.status.busy": "2024-09-02T14:02:02.571539Z",
     "iopub.status.idle": "2024-09-02T14:02:02.580492Z",
     "shell.execute_reply": "2024-09-02T14:02:02.578726Z"
    },
    "papermill": {
     "duration": 0.029597,
     "end_time": "2024-09-02T14:02:02.583910",
     "exception": false,
     "start_time": "2024-09-02T14:02:02.554313",
     "status": "completed"
    },
    "tags": []
   },
   "outputs": [
    {
     "name": "stdout",
     "output_type": "stream",
     "text": [
      "Something is happening before the function is called.\n",
      "Hello!\n",
      "Something is happening after the function is called.\n"
     ]
    }
   ],
   "source": [
    "def my_decorator(func):\n",
    "    def wrapper():\n",
    "        print(\"Something is happening before the function is called.\")\n",
    "        func()\n",
    "        print(\"Something is happening after the function is called.\")\n",
    "    return wrapper\n",
    "\n",
    "@my_decorator\n",
    "def say_hello():\n",
    "    print(\"Hello!\")\n",
    "\n",
    "say_hello()\n"
   ]
  },
  {
   "cell_type": "markdown",
   "id": "311fb753",
   "metadata": {
    "papermill": {
     "duration": 0.014527,
     "end_time": "2024-09-02T14:02:02.613594",
     "exception": false,
     "start_time": "2024-09-02T14:02:02.599067",
     "status": "completed"
    },
    "tags": []
   },
   "source": [
    "### Decorators with Arguments\n"
   ]
  },
  {
   "cell_type": "code",
   "execution_count": 15,
   "id": "bde0f009",
   "metadata": {
    "execution": {
     "iopub.execute_input": "2024-09-02T14:02:02.646148Z",
     "iopub.status.busy": "2024-09-02T14:02:02.645660Z",
     "iopub.status.idle": "2024-09-02T14:02:02.656380Z",
     "shell.execute_reply": "2024-09-02T14:02:02.654500Z"
    },
    "papermill": {
     "duration": 0.03119,
     "end_time": "2024-09-02T14:02:02.659891",
     "exception": false,
     "start_time": "2024-09-02T14:02:02.628701",
     "status": "completed"
    },
    "tags": []
   },
   "outputs": [
    {
     "name": "stdout",
     "output_type": "stream",
     "text": [
      "Hello, Alice!\n",
      "Hello, Alice!\n",
      "Hello, Alice!\n"
     ]
    }
   ],
   "source": [
    "def repeat(n):\n",
    "    def decorator(func):\n",
    "        def wrapper(*args, **kwargs):\n",
    "            for _ in range(n):\n",
    "                func(*args, **kwargs)\n",
    "        return wrapper\n",
    "    return decorator\n",
    "\n",
    "@repeat(3)\n",
    "def greet(name):\n",
    "    print(f\"Hello, {name}!\")\n",
    "\n",
    "greet(\"Alice\")\n"
   ]
  },
  {
   "cell_type": "markdown",
   "id": "75285340",
   "metadata": {
    "papermill": {
     "duration": 0.014913,
     "end_time": "2024-09-02T14:02:02.691085",
     "exception": false,
     "start_time": "2024-09-02T14:02:02.676172",
     "status": "completed"
    },
    "tags": []
   },
   "source": [
    "## **Section 10: Recursive Functions**\n",
    "\n",
    "Recursion is a technique where a function calls itself. It's commonly used for tasks that can be divided into similar subtasks, such as calculating factorials or performing a binary search.\n"
   ]
  },
  {
   "cell_type": "code",
   "execution_count": 16,
   "id": "97d8aaf6",
   "metadata": {
    "execution": {
     "iopub.execute_input": "2024-09-02T14:02:02.724001Z",
     "iopub.status.busy": "2024-09-02T14:02:02.723466Z",
     "iopub.status.idle": "2024-09-02T14:02:02.732169Z",
     "shell.execute_reply": "2024-09-02T14:02:02.730416Z"
    },
    "papermill": {
     "duration": 0.029156,
     "end_time": "2024-09-02T14:02:02.735813",
     "exception": false,
     "start_time": "2024-09-02T14:02:02.706657",
     "status": "completed"
    },
    "tags": []
   },
   "outputs": [
    {
     "name": "stdout",
     "output_type": "stream",
     "text": [
      "120\n"
     ]
    }
   ],
   "source": [
    "def factorial(n):\n",
    "    if n == 1:\n",
    "        return 1\n",
    "    else:\n",
    "        return n * factorial(n-1)\n",
    "\n",
    "print(factorial(5))  # Output: 120\n"
   ]
  },
  {
   "cell_type": "markdown",
   "id": "c9210bd2",
   "metadata": {
    "papermill": {
     "duration": 0.014747,
     "end_time": "2024-09-02T14:02:02.766994",
     "exception": false,
     "start_time": "2024-09-02T14:02:02.752247",
     "status": "completed"
    },
    "tags": []
   },
   "source": [
    "## **Section 11: Higher-Order Functions**\n",
    "\n",
    "### Functions as First-Class Citizens\n",
    "\n",
    "In Python, functions are first-class citizens, meaning they can be passed as arguments, returned from other functions, and assigned to variables.\n"
   ]
  },
  {
   "cell_type": "code",
   "execution_count": 17,
   "id": "508059fd",
   "metadata": {
    "execution": {
     "iopub.execute_input": "2024-09-02T14:02:02.799813Z",
     "iopub.status.busy": "2024-09-02T14:02:02.799341Z",
     "iopub.status.idle": "2024-09-02T14:02:02.809391Z",
     "shell.execute_reply": "2024-09-02T14:02:02.807718Z"
    },
    "papermill": {
     "duration": 0.029592,
     "end_time": "2024-09-02T14:02:02.812433",
     "exception": false,
     "start_time": "2024-09-02T14:02:02.782841",
     "status": "completed"
    },
    "tags": []
   },
   "outputs": [
    {
     "name": "stdout",
     "output_type": "stream",
     "text": [
      "8\n"
     ]
    }
   ],
   "source": [
    "def add(x, y):\n",
    "    return x + y\n",
    "\n",
    "def subtract(x, y):\n",
    "    return x - y\n",
    "\n",
    "def apply_operation(func, x, y):\n",
    "    return func(x, y)\n",
    "\n",
    "result = apply_operation(add, 5, 3)\n",
    "print(result)  # Output: 8\n"
   ]
  },
  {
   "cell_type": "markdown",
   "id": "cd8f56ad",
   "metadata": {
    "papermill": {
     "duration": 0.015065,
     "end_time": "2024-09-02T14:02:02.842955",
     "exception": false,
     "start_time": "2024-09-02T14:02:02.827890",
     "status": "completed"
    },
    "tags": []
   },
   "source": [
    "### Returning Functions from Functions\n"
   ]
  },
  {
   "cell_type": "code",
   "execution_count": 18,
   "id": "97a1bf07",
   "metadata": {
    "execution": {
     "iopub.execute_input": "2024-09-02T14:02:02.876386Z",
     "iopub.status.busy": "2024-09-02T14:02:02.875858Z",
     "iopub.status.idle": "2024-09-02T14:02:02.883892Z",
     "shell.execute_reply": "2024-09-02T14:02:02.882493Z"
    },
    "papermill": {
     "duration": 0.029766,
     "end_time": "2024-09-02T14:02:02.888278",
     "exception": false,
     "start_time": "2024-09-02T14:02:02.858512",
     "status": "completed"
    },
    "tags": []
   },
   "outputs": [
    {
     "name": "stdout",
     "output_type": "stream",
     "text": [
      "Hello from the inner function!\n"
     ]
    }
   ],
   "source": [
    "def outer_function():\n",
    "    def inner_function():\n",
    "        print(\"Hello from the inner function!\")\n",
    "    return inner_function\n",
    "\n",
    "my_func = outer_function()\n",
    "my_func()\n"
   ]
  },
  {
   "cell_type": "markdown",
   "id": "59cc9589",
   "metadata": {
    "papermill": {
     "duration": 0.015204,
     "end_time": "2024-09-02T14:02:02.918583",
     "exception": false,
     "start_time": "2024-09-02T14:02:02.903379",
     "status": "completed"
    },
    "tags": []
   },
   "source": [
    "## **Section 12: Exercises**\n",
    "\n",
    "### Exercise 1: Easy\n",
    "\n",
    "Write a function that accepts any number of positional arguments and returns their sum.\n"
   ]
  },
  {
   "cell_type": "code",
   "execution_count": 19,
   "id": "9396db83",
   "metadata": {
    "execution": {
     "iopub.execute_input": "2024-09-02T14:02:02.955540Z",
     "iopub.status.busy": "2024-09-02T14:02:02.955004Z",
     "iopub.status.idle": "2024-09-02T14:02:02.963183Z",
     "shell.execute_reply": "2024-09-02T14:02:02.961242Z"
    },
    "papermill": {
     "duration": 0.031068,
     "end_time": "2024-09-02T14:02:02.966651",
     "exception": false,
     "start_time": "2024-09-02T14:02:02.935583",
     "status": "completed"
    },
    "tags": []
   },
   "outputs": [
    {
     "name": "stdout",
     "output_type": "stream",
     "text": [
      "10\n"
     ]
    }
   ],
   "source": [
    "def sum_all(*args):\n",
    "    return sum(args)\n",
    "\n",
    "print(sum_all(1, 2, 3, 4))  # Output: 10\n"
   ]
  },
  {
   "cell_type": "markdown",
   "id": "d835f4ce",
   "metadata": {
    "papermill": {
     "duration": 0.015367,
     "end_time": "2024-09-02T14:02:02.997734",
     "exception": false,
     "start_time": "2024-09-02T14:02:02.982367",
     "status": "completed"
    },
    "tags": []
   },
   "source": [
    "### Exercise 2: Intermediate\n",
    "\n",
    "Create a decorator that prints the execution time of a function.\n"
   ]
  },
  {
   "cell_type": "code",
   "execution_count": 20,
   "id": "44526b8e",
   "metadata": {
    "execution": {
     "iopub.execute_input": "2024-09-02T14:02:03.033029Z",
     "iopub.status.busy": "2024-09-02T14:02:03.031269Z",
     "iopub.status.idle": "2024-09-02T14:02:05.044126Z",
     "shell.execute_reply": "2024-09-02T14:02:05.042475Z"
    },
    "papermill": {
     "duration": 2.034631,
     "end_time": "2024-09-02T14:02:05.048050",
     "exception": false,
     "start_time": "2024-09-02T14:02:03.013419",
     "status": "completed"
    },
    "tags": []
   },
   "outputs": [
    {
     "name": "stdout",
     "output_type": "stream",
     "text": [
      "Function complete.\n",
      "Execution time: 2.002383232116699 seconds\n"
     ]
    }
   ],
   "source": [
    "import time\n",
    "\n",
    "def timer_decorator(func):\n",
    "    def wrapper(*args, **kwargs):\n",
    "        start_time = time.time()\n",
    "        result = func(*args, **kwargs)\n",
    "        end_time = time.time()\n",
    "        print(f\"Execution time: {end_time - start_time} seconds\")\n",
    "        return result\n",
    "    return wrapper\n",
    "\n",
    "@timer_decorator\n",
    "def some_function():\n",
    "    time.sleep(2)\n",
    "    print(\"Function complete.\")\n",
    "\n",
    "some_function()\n"
   ]
  },
  {
   "cell_type": "markdown",
   "id": "1261fd59",
   "metadata": {
    "papermill": {
     "duration": 0.015833,
     "end_time": "2024-09-02T14:02:05.080680",
     "exception": false,
     "start_time": "2024-09-02T14:02:05.064847",
     "status": "completed"
    },
    "tags": []
   },
   "source": [
    "### Exercise 3: Advanced\n",
    "\n",
    "Implement a recursive function that calculates the nth Fibonacci number.\n"
   ]
  },
  {
   "cell_type": "code",
   "execution_count": 21,
   "id": "342a8e4e",
   "metadata": {
    "execution": {
     "iopub.execute_input": "2024-09-02T14:02:05.115487Z",
     "iopub.status.busy": "2024-09-02T14:02:05.113925Z",
     "iopub.status.idle": "2024-09-02T14:02:05.122398Z",
     "shell.execute_reply": "2024-09-02T14:02:05.120980Z"
    },
    "papermill": {
     "duration": 0.029702,
     "end_time": "2024-09-02T14:02:05.126070",
     "exception": false,
     "start_time": "2024-09-02T14:02:05.096368",
     "status": "completed"
    },
    "tags": []
   },
   "outputs": [
    {
     "name": "stdout",
     "output_type": "stream",
     "text": [
      "55\n"
     ]
    }
   ],
   "source": [
    "def fibonacci(n):\n",
    "    if n <= 0:\n",
    "        return 0\n",
    "    elif n == 1:\n",
    "        return 1\n",
    "    else:\n",
    "        return fibonacci(n-1) + fibonacci(n-2)\n",
    "\n",
    "print(fibonacci(10))  # Output: 55\n"
   ]
  },
  {
   "cell_type": "markdown",
   "id": "a47ccd1d",
   "metadata": {
    "papermill": {
     "duration": 0.015637,
     "end_time": "2024-09-02T14:02:05.158142",
     "exception": false,
     "start_time": "2024-09-02T14:02:05.142505",
     "status": "completed"
    },
    "tags": []
   },
   "source": [
    "### Exercise 4: Very Advanced\n",
    "\n",
    "Write a function that uses both `*args` and `**kwargs` to handle any number of positional and keyword arguments. The function should print the type and value of each argument.\n"
   ]
  },
  {
   "cell_type": "code",
   "execution_count": 22,
   "id": "5d2a72cd",
   "metadata": {
    "execution": {
     "iopub.execute_input": "2024-09-02T14:02:05.198369Z",
     "iopub.status.busy": "2024-09-02T14:02:05.197122Z",
     "iopub.status.idle": "2024-09-02T14:02:05.206472Z",
     "shell.execute_reply": "2024-09-02T14:02:05.204922Z"
    },
    "papermill": {
     "duration": 0.032853,
     "end_time": "2024-09-02T14:02:05.209750",
     "exception": false,
     "start_time": "2024-09-02T14:02:05.176897",
     "status": "completed"
    },
    "tags": []
   },
   "outputs": [
    {
     "name": "stdout",
     "output_type": "stream",
     "text": [
      "Positional argument: 1 (type: <class 'int'>)\n",
      "Positional argument: 2.0 (type: <class 'float'>)\n",
      "Positional argument: three (type: <class 'str'>)\n",
      "Keyword argument: name = Alice (type: <class 'str'>)\n",
      "Keyword argument: age = 30 (type: <class 'int'>)\n"
     ]
    }
   ],
   "source": [
    "def print_all_types(*args, **kwargs):\n",
    "    for arg in args:\n",
    "        print(f\"Positional argument: {arg} (type: {type(arg)})\")\n",
    "    for key, value in kwargs.items():\n",
    "        print(f\"Keyword argument: {key} = {value} (type: {type(value)})\")\n",
    "\n",
    "print_all_types(1, 2.0, 'three', name='Alice', age=30)\n"
   ]
  },
  {
   "cell_type": "markdown",
   "id": "c6ec9e6a",
   "metadata": {
    "papermill": {
     "duration": 0.018242,
     "end_time": "2024-09-02T14:02:05.244833",
     "exception": false,
     "start_time": "2024-09-02T14:02:05.226591",
     "status": "completed"
    },
    "tags": []
   },
   "source": [
    "### Exercise 5: Expert\n",
    "\n",
    "Create a closure that generates a sequence of powers of a given number. For example, a closure that generates powers of 2 should return 1, 2, 4, 8, 16, etc., on each call.\n"
   ]
  },
  {
   "cell_type": "code",
   "execution_count": 23,
   "id": "ee22c02c",
   "metadata": {
    "execution": {
     "iopub.execute_input": "2024-09-02T14:02:05.282569Z",
     "iopub.status.busy": "2024-09-02T14:02:05.282134Z",
     "iopub.status.idle": "2024-09-02T14:02:05.291015Z",
     "shell.execute_reply": "2024-09-02T14:02:05.289353Z"
    },
    "papermill": {
     "duration": 0.03182,
     "end_time": "2024-09-02T14:02:05.295097",
     "exception": false,
     "start_time": "2024-09-02T14:02:05.263277",
     "status": "completed"
    },
    "tags": []
   },
   "outputs": [
    {
     "name": "stdout",
     "output_type": "stream",
     "text": [
      "1\n",
      "2\n",
      "4\n",
      "8\n",
      "16\n"
     ]
    }
   ],
   "source": [
    "def power_generator(base):\n",
    "    def generate_power(exponent):\n",
    "        return base ** exponent\n",
    "    return generate_power\n",
    "\n",
    "gen = power_generator(2)\n",
    "print(gen(0))  # Output: 1\n",
    "print(gen(1))  # Output: 2\n",
    "print(gen(2))  # Output: 4\n",
    "print(gen(3))  # Output: 8\n",
    "print(gen(4))  # Output: 16\n"
   ]
  },
  {
   "cell_type": "markdown",
   "id": "1a80a896",
   "metadata": {
    "papermill": {
     "duration": 0.015344,
     "end_time": "2024-09-02T14:02:05.327561",
     "exception": false,
     "start_time": "2024-09-02T14:02:05.312217",
     "status": "completed"
    },
    "tags": []
   },
   "source": [
    "## 🎉 **Conclusion**\n",
    "\n",
    "Congratulations on completing this in-depth exploration of Python functions! You've covered everything from the basics of defining and calling functions to advanced topics like `*args`, `**kwargs`, decorators, and closures.\n",
    "\n",
    "Happy coding, and keep pushing the boundaries of what's possible with Python!\n"
   ]
  }
 ],
 "metadata": {
  "kaggle": {
   "accelerator": "none",
   "dataSources": [],
   "dockerImageVersionId": 30761,
   "isGpuEnabled": false,
   "isInternetEnabled": true,
   "language": "python",
   "sourceType": "notebook"
  },
  "kernelspec": {
   "display_name": "Python 3",
   "language": "python",
   "name": "python3"
  },
  "language_info": {
   "codemirror_mode": {
    "name": "ipython",
    "version": 3
   },
   "file_extension": ".py",
   "mimetype": "text/x-python",
   "name": "python",
   "nbconvert_exporter": "python",
   "pygments_lexer": "ipython3",
   "version": "3.10.14"
  },
  "papermill": {
   "default_parameters": {},
   "duration": 8.050948,
   "end_time": "2024-09-02T14:02:05.968319",
   "environment_variables": {},
   "exception": null,
   "input_path": "__notebook__.ipynb",
   "output_path": "__notebook__.ipynb",
   "parameters": {},
   "start_time": "2024-09-02T14:01:57.917371",
   "version": "2.6.0"
  }
 },
 "nbformat": 4,
 "nbformat_minor": 5
}
