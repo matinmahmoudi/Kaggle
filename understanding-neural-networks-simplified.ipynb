{
 "cells": [
  {
   "cell_type": "markdown",
   "id": "e63b8ad3",
   "metadata": {
    "papermill": {
     "duration": 0.005116,
     "end_time": "2024-05-24T15:41:34.094190",
     "exception": false,
     "start_time": "2024-05-24T15:41:34.089074",
     "status": "completed"
    },
    "tags": []
   },
   "source": [
    "# 🌿 🧠 Understanding Neural Networks - Simplified\n",
    "\n",
    "Welcome to this Simplified guide on neural networks! In this notebook, we'll break down the concepts of neural networks in a simple and clear manner. By the end, you'll have a solid understanding of how neural networks work and how to create one using Python.\n",
    "\n",
    "## What is a Neural Network?\n",
    "\n",
    "A neural network is a series of algorithms designed to recognize patterns in data. Inspired by the human brain, it consists of layers of interconnected nodes (neurons) that work together to process inputs and produce outputs.\n",
    "\n",
    "### Key Terms\n",
    "- **Neuron:** The basic unit of a neural network, similar to a brain cell. A neuron takes input, processes it with weights and biases, and applies an activation function to produce an output.\n",
    "- **Layer:** A group of neurons. Layers are typically organized into an input layer, one or more hidden layers, and an output layer. Each neuron in one layer connects to neurons in the next layer.\n",
    "- **Weights and Biases:** Parameters that the network learns during training. Weights adjust the importance of inputs, and biases allow the activation threshold to be shifted, facilitating the learning process.\n",
    "- **Activation Function:** A function that helps the network learn complex patterns. It introduces non-linearity, enabling the network to model complex relationships.\n",
    "\n",
    "## Building Blocks of Neural Networks\n",
    "\n",
    "### Neurons\n",
    "Neurons are the basic units of a neural network that receive input, process it using weights and biases, and pass the result through an activation function to produce an output.\n",
    "\n",
    "### Layers\n",
    "1. **Input Layer:** The layer that receives the initial data. It is the first layer of a neural network that directly takes the raw input features.\n",
    "2. **Hidden Layers:** Intermediate layers where the network learns to detect features. These layers are between the input and output layers where neurons perform computations and feature extraction.\n",
    "3. **Output Layer:** The final layer that produces the network's prediction. It provides the final prediction or classification.\n",
    "\n",
    "### Activation Functions\n",
    "Activation functions introduce non-linearity, enabling the network to learn complex patterns. Common activation functions include:\n",
    "- **ReLU (Rectified Linear Unit):** Outputs the input directly if it is positive; otherwise, it outputs zero. This piecewise linear function activates the neuron only if the input is above a certain threshold (zero), allowing for efficient computation and mitigating the vanishing gradient problem.\n",
    "- **Sigmoid:** Maps the input to a value between 0 and 1. This smooth, S-shaped function converts any input value to a probability-like value between 0 and 1, commonly used in binary classification.\n",
    "- **Tanh:** Similar to sigmoid but maps the input to a value between -1 and 1. This hyperbolic tangent function scales input values to the range of -1 to 1, often used in hidden layers to center the data.\n",
    "\n",
    "## How Neural Networks Learn\n",
    "\n",
    "### Forward Propagation\n",
    "Data moves through the network, layer by layer, getting processed. During forward propagation, input data passes through the network layer by layer. Each neuron processes the input by applying weights and biases, and the result is transformed by an activation function.\n",
    "\n",
    "### Loss Function\n",
    "The loss function tells us how good or bad the network's predictions are. It measures the difference between the network's predictions and the actual results. It provides a way to quantify how well the network is performing. For classification tasks, a common loss function is categorical crossentropy.\n",
    "\n",
    "### Backpropagation\n",
    "The network learns by adjusting weights to reduce errors. Backpropagation is the process of updating the weights and biases to minimize the loss. It involves computing the gradient of the loss function with respect to each weight and adjusting the weights in the direction that reduces the loss.\n",
    "\n",
    "### Gradient Descent\n",
    "An algorithm that helps the network find the best weights to minimize errors. Gradient descent is an optimization algorithm used to minimize the loss function by iteratively adjusting the weights. The objective is to find the set of weights that result in the lowest possible loss.\n",
    "\n",
    "## Creating a Simple Neural Network with Python\n",
    "\n",
    "Let's build a simple neural network to classify handwritten digits using the MNIST dataset. We'll use TensorFlow and Keras.\n"
   ]
  },
  {
   "cell_type": "code",
   "execution_count": 1,
   "id": "86416ea5",
   "metadata": {
    "execution": {
     "iopub.execute_input": "2024-05-24T15:41:34.105714Z",
     "iopub.status.busy": "2024-05-24T15:41:34.104917Z",
     "iopub.status.idle": "2024-05-24T15:41:46.294316Z",
     "shell.execute_reply": "2024-05-24T15:41:46.293248Z"
    },
    "papermill": {
     "duration": 12.197139,
     "end_time": "2024-05-24T15:41:46.296335",
     "exception": false,
     "start_time": "2024-05-24T15:41:34.099196",
     "status": "completed"
    },
    "tags": []
   },
   "outputs": [
    {
     "name": "stderr",
     "output_type": "stream",
     "text": [
      "2024-05-24 15:41:35.837043: E external/local_xla/xla/stream_executor/cuda/cuda_dnn.cc:9261] Unable to register cuDNN factory: Attempting to register factory for plugin cuDNN when one has already been registered\n",
      "2024-05-24 15:41:35.837148: E external/local_xla/xla/stream_executor/cuda/cuda_fft.cc:607] Unable to register cuFFT factory: Attempting to register factory for plugin cuFFT when one has already been registered\n",
      "2024-05-24 15:41:35.966569: E external/local_xla/xla/stream_executor/cuda/cuda_blas.cc:1515] Unable to register cuBLAS factory: Attempting to register factory for plugin cuBLAS when one has already been registered\n"
     ]
    },
    {
     "name": "stdout",
     "output_type": "stream",
     "text": [
      "Num GPUs Available:  2\n"
     ]
    }
   ],
   "source": [
    "# Importing Libraries\n",
    "import tensorflow as tf\n",
    "from tensorflow.keras.models import Sequential\n",
    "from tensorflow.keras.layers import Dense, Flatten, Input\n",
    "from tensorflow.keras.datasets import mnist\n",
    "import matplotlib.pyplot as plt\n",
    "\n",
    "# Checking GPU availability\n",
    "print(\"Num GPUs Available: \", len(tf.config.list_physical_devices('GPU')))\n"
   ]
  },
  {
   "cell_type": "markdown",
   "id": "4b0a4945",
   "metadata": {
    "papermill": {
     "duration": 0.004553,
     "end_time": "2024-05-24T15:41:46.305848",
     "exception": false,
     "start_time": "2024-05-24T15:41:46.301295",
     "status": "completed"
    },
    "tags": []
   },
   "source": [
    "### Loading and Preprocessing Data\n",
    "\n",
    "First, we need to load the MNIST dataset and preprocess it. The MNIST dataset consists of 28x28 grayscale images of handwritten digits (0-9).\n"
   ]
  },
  {
   "cell_type": "code",
   "execution_count": 2,
   "id": "b80cb971",
   "metadata": {
    "execution": {
     "iopub.execute_input": "2024-05-24T15:41:46.316249Z",
     "iopub.status.busy": "2024-05-24T15:41:46.315739Z",
     "iopub.status.idle": "2024-05-24T15:41:46.860580Z",
     "shell.execute_reply": "2024-05-24T15:41:46.859593Z"
    },
    "papermill": {
     "duration": 0.552598,
     "end_time": "2024-05-24T15:41:46.862911",
     "exception": false,
     "start_time": "2024-05-24T15:41:46.310313",
     "status": "completed"
    },
    "tags": []
   },
   "outputs": [
    {
     "name": "stdout",
     "output_type": "stream",
     "text": [
      "Downloading data from https://storage.googleapis.com/tensorflow/tf-keras-datasets/mnist.npz\n",
      "\u001b[1m11490434/11490434\u001b[0m \u001b[32m━━━━━━━━━━━━━━━━━━━━\u001b[0m\u001b[37m\u001b[0m \u001b[1m0s\u001b[0m 0us/step\n"
     ]
    }
   ],
   "source": [
    "# Loading and Preprocessing Data\n",
    "(x_train, y_train), (x_test, y_test) = mnist.load_data()\n",
    "x_train, x_test = x_train / 255.0, x_test / 255.0\n"
   ]
  },
  {
   "cell_type": "markdown",
   "id": "b52832e6",
   "metadata": {
    "papermill": {
     "duration": 0.004936,
     "end_time": "2024-05-24T15:41:46.873042",
     "exception": false,
     "start_time": "2024-05-24T15:41:46.868106",
     "status": "completed"
    },
    "tags": []
   },
   "source": [
    "### Building the Model\n",
    "\n",
    "Next, we'll build a simple neural network with one hidden layer using TensorFlow and Keras. The model consists of:\n",
    "1. **Input Layer:** Converts the 28x28 images into a 1D array of 784 values.\n",
    "2. **Dense Layer (Hidden Layer):** A fully connected layer with 128 neurons and ReLU activation.\n",
    "3. **Dense Layer (Output Layer):** A fully connected layer with 10 neurons (one for each digit) and softmax activation.\n"
   ]
  },
  {
   "cell_type": "code",
   "execution_count": 3,
   "id": "9cf31197",
   "metadata": {
    "execution": {
     "iopub.execute_input": "2024-05-24T15:41:46.884107Z",
     "iopub.status.busy": "2024-05-24T15:41:46.883813Z",
     "iopub.status.idle": "2024-05-24T15:41:47.457369Z",
     "shell.execute_reply": "2024-05-24T15:41:47.456606Z"
    },
    "papermill": {
     "duration": 0.581805,
     "end_time": "2024-05-24T15:41:47.459697",
     "exception": false,
     "start_time": "2024-05-24T15:41:46.877892",
     "status": "completed"
    },
    "tags": []
   },
   "outputs": [],
   "source": [
    "# Building the Model\n",
    "model = Sequential([\n",
    "    Input(shape=(28, 28)),         # Adding an input layer\n",
    "    Flatten(),                     # Flattening the 28x28 images into a 1D array\n",
    "    Dense(128, activation='relu'), # Adding a dense hidden layer with 128 neurons and ReLU activation\n",
    "    Dense(10, activation='softmax')# Adding the output layer with 10 neurons (one for each class) and softmax activation\n",
    "])\n"
   ]
  },
  {
   "cell_type": "markdown",
   "id": "39082297",
   "metadata": {
    "papermill": {
     "duration": 0.004802,
     "end_time": "2024-05-24T15:41:47.469777",
     "exception": false,
     "start_time": "2024-05-24T15:41:47.464975",
     "status": "completed"
    },
    "tags": []
   },
   "source": [
    "### Compiling the Model\n",
    "\n",
    "We need to compile the model by specifying the optimizer, loss function, and metrics. We'll use the Adam optimizer, sparse categorical crossentropy loss function, and accuracy as the evaluation metric.\n"
   ]
  },
  {
   "cell_type": "code",
   "execution_count": 4,
   "id": "41b4b1c5",
   "metadata": {
    "execution": {
     "iopub.execute_input": "2024-05-24T15:41:47.480789Z",
     "iopub.status.busy": "2024-05-24T15:41:47.480479Z",
     "iopub.status.idle": "2024-05-24T15:41:47.492867Z",
     "shell.execute_reply": "2024-05-24T15:41:47.491993Z"
    },
    "papermill": {
     "duration": 0.019829,
     "end_time": "2024-05-24T15:41:47.494605",
     "exception": false,
     "start_time": "2024-05-24T15:41:47.474776",
     "status": "completed"
    },
    "tags": []
   },
   "outputs": [],
   "source": [
    "# Compiling the Model\n",
    "model.compile(optimizer='adam',\n",
    "              loss='sparse_categorical_crossentropy',\n",
    "              metrics=['accuracy'])\n"
   ]
  },
  {
   "cell_type": "markdown",
   "id": "e8814bc2",
   "metadata": {
    "papermill": {
     "duration": 0.004649,
     "end_time": "2024-05-24T15:41:47.504152",
     "exception": false,
     "start_time": "2024-05-24T15:41:47.499503",
     "status": "completed"
    },
    "tags": []
   },
   "source": [
    "### Training the Model\n",
    "\n",
    "Now, we'll train the model using the training data. We'll set the number of epochs to 5 and use 20% of the training data for validation.\n"
   ]
  },
  {
   "cell_type": "code",
   "execution_count": 5,
   "id": "162d4094",
   "metadata": {
    "execution": {
     "iopub.execute_input": "2024-05-24T15:41:47.514897Z",
     "iopub.status.busy": "2024-05-24T15:41:47.514623Z",
     "iopub.status.idle": "2024-05-24T15:42:04.437617Z",
     "shell.execute_reply": "2024-05-24T15:42:04.436613Z"
    },
    "papermill": {
     "duration": 16.930778,
     "end_time": "2024-05-24T15:42:04.439750",
     "exception": false,
     "start_time": "2024-05-24T15:41:47.508972",
     "status": "completed"
    },
    "tags": []
   },
   "outputs": [
    {
     "name": "stdout",
     "output_type": "stream",
     "text": [
      "Epoch 1/5\n",
      "\u001b[1m 102/1500\u001b[0m \u001b[32m━\u001b[0m\u001b[37m━━━━━━━━━━━━━━━━━━━\u001b[0m \u001b[1m2s\u001b[0m 2ms/step - accuracy: 0.6082 - loss: 1.3538"
     ]
    },
    {
     "name": "stderr",
     "output_type": "stream",
     "text": [
      "WARNING: All log messages before absl::InitializeLog() is called are written to STDERR\n",
      "I0000 00:00:1716565310.046097      72 device_compiler.h:186] Compiled cluster using XLA!  This line is logged at most once for the lifetime of the process.\n",
      "W0000 00:00:1716565310.060286      72 graph_launch.cc:671] Fallback to op-by-op mode because memset node breaks graph update\n"
     ]
    },
    {
     "name": "stdout",
     "output_type": "stream",
     "text": [
      "\u001b[1m1483/1500\u001b[0m \u001b[32m━━━━━━━━━━━━━━━━━━━\u001b[0m\u001b[37m━\u001b[0m \u001b[1m0s\u001b[0m 2ms/step - accuracy: 0.8640 - loss: 0.4836"
     ]
    },
    {
     "name": "stderr",
     "output_type": "stream",
     "text": [
      "W0000 00:00:1716565312.980440      71 graph_launch.cc:671] Fallback to op-by-op mode because memset node breaks graph update\n"
     ]
    },
    {
     "name": "stdout",
     "output_type": "stream",
     "text": [
      "\u001b[1m1500/1500\u001b[0m \u001b[32m━━━━━━━━━━━━━━━━━━━━\u001b[0m\u001b[37m\u001b[0m \u001b[1m5s\u001b[0m 2ms/step - accuracy: 0.8646 - loss: 0.4813 - val_accuracy: 0.9546 - val_loss: 0.1583\n",
      "Epoch 2/5\n",
      "\u001b[1m1500/1500\u001b[0m \u001b[32m━━━━━━━━━━━━━━━━━━━━\u001b[0m\u001b[37m\u001b[0m \u001b[1m3s\u001b[0m 2ms/step - accuracy: 0.9609 - loss: 0.1365 - val_accuracy: 0.9649 - val_loss: 0.1144\n",
      "Epoch 3/5\n",
      "\u001b[1m1500/1500\u001b[0m \u001b[32m━━━━━━━━━━━━━━━━━━━━\u001b[0m\u001b[37m\u001b[0m \u001b[1m3s\u001b[0m 2ms/step - accuracy: 0.9736 - loss: 0.0884 - val_accuracy: 0.9697 - val_loss: 0.0978\n",
      "Epoch 4/5\n",
      "\u001b[1m1500/1500\u001b[0m \u001b[32m━━━━━━━━━━━━━━━━━━━━\u001b[0m\u001b[37m\u001b[0m \u001b[1m3s\u001b[0m 2ms/step - accuracy: 0.9808 - loss: 0.0627 - val_accuracy: 0.9722 - val_loss: 0.0898\n",
      "Epoch 5/5\n",
      "\u001b[1m1500/1500\u001b[0m \u001b[32m━━━━━━━━━━━━━━━━━━━━\u001b[0m\u001b[37m\u001b[0m \u001b[1m3s\u001b[0m 2ms/step - accuracy: 0.9856 - loss: 0.0473 - val_accuracy: 0.9742 - val_loss: 0.0841\n"
     ]
    }
   ],
   "source": [
    "# Training the Model\n",
    "history = model.fit(x_train, y_train, epochs=5, validation_split=0.2)\n"
   ]
  },
  {
   "cell_type": "markdown",
   "id": "f584878f",
   "metadata": {
    "papermill": {
     "duration": 0.024163,
     "end_time": "2024-05-24T15:42:04.488079",
     "exception": false,
     "start_time": "2024-05-24T15:42:04.463916",
     "status": "completed"
    },
    "tags": []
   },
   "source": [
    "### Evaluating the Model\n",
    "\n",
    "After training, we'll evaluate the model using the test data to determine its accuracy.\n"
   ]
  },
  {
   "cell_type": "code",
   "execution_count": 6,
   "id": "cca6741d",
   "metadata": {
    "execution": {
     "iopub.execute_input": "2024-05-24T15:42:04.536882Z",
     "iopub.status.busy": "2024-05-24T15:42:04.536147Z",
     "iopub.status.idle": "2024-05-24T15:42:05.969669Z",
     "shell.execute_reply": "2024-05-24T15:42:05.968737Z"
    },
    "papermill": {
     "duration": 1.459906,
     "end_time": "2024-05-24T15:42:05.971594",
     "exception": false,
     "start_time": "2024-05-24T15:42:04.511688",
     "status": "completed"
    },
    "tags": []
   },
   "outputs": [
    {
     "name": "stdout",
     "output_type": "stream",
     "text": [
      "\u001b[1m116/313\u001b[0m \u001b[32m━━━━━━━\u001b[0m\u001b[37m━━━━━━━━━━━━━\u001b[0m \u001b[1m0s\u001b[0m 1ms/step - accuracy: 0.9712 - loss: 0.0906"
     ]
    },
    {
     "name": "stderr",
     "output_type": "stream",
     "text": [
      "W0000 00:00:1716565325.165422      71 graph_launch.cc:671] Fallback to op-by-op mode because memset node breaks graph update\n"
     ]
    },
    {
     "name": "stdout",
     "output_type": "stream",
     "text": [
      "\u001b[1m313/313\u001b[0m \u001b[32m━━━━━━━━━━━━━━━━━━━━\u001b[0m\u001b[37m\u001b[0m \u001b[1m1s\u001b[0m 3ms/step - accuracy: 0.9709 - loss: 0.0920\n",
      "\n",
      "Test accuracy: 0.974399983882904\n"
     ]
    }
   ],
   "source": [
    "# Evaluating the Model\n",
    "test_loss, test_acc = model.evaluate(x_test, y_test)\n",
    "print('\\nTest accuracy:', test_acc)\n"
   ]
  },
  {
   "cell_type": "markdown",
   "id": "050b9d54",
   "metadata": {
    "papermill": {
     "duration": 0.024931,
     "end_time": "2024-05-24T15:42:06.021342",
     "exception": false,
     "start_time": "2024-05-24T15:42:05.996411",
     "status": "completed"
    },
    "tags": []
   },
   "source": [
    "### Plotting Training and Validation Metrics\n",
    "\n",
    "Finally, we'll visualize the training and validation accuracy and loss over epochs to understand the model's performance.\n"
   ]
  },
  {
   "cell_type": "code",
   "execution_count": 7,
   "id": "b6590710",
   "metadata": {
    "execution": {
     "iopub.execute_input": "2024-05-24T15:42:06.072748Z",
     "iopub.status.busy": "2024-05-24T15:42:06.071700Z",
     "iopub.status.idle": "2024-05-24T15:42:06.725074Z",
     "shell.execute_reply": "2024-05-24T15:42:06.724166Z"
    },
    "papermill": {
     "duration": 0.681401,
     "end_time": "2024-05-24T15:42:06.727527",
     "exception": false,
     "start_time": "2024-05-24T15:42:06.046126",
     "status": "completed"
    },
    "tags": []
   },
   "outputs": [
    {
     "data": {
      "image/png": "[encoded data removed]",
      "text/plain": [
       "<Figure size 1400x500 with 2 Axes>"
      ]
     },
     "metadata": {},
     "output_type": "display_data"
    }
   ],
   "source": [
    "# Plotting Training and Validation Metrics\n",
    "plt.figure(figsize=(14, 5))\n",
    "\n",
    "# Plotting Accuracy\n",
    "plt.subplot(1, 2, 1)\n",
    "plt.plot(history.history['accuracy'], label='Training Accuracy', marker='o')\n",
    "plt.plot(history.history['val_accuracy'], label='Validation Accuracy', marker='o')\n",
    "plt.xlabel('Epoch')\n",
    "plt.ylabel('Accuracy')\n",
    "plt.ylim([0, 1])\n",
    "plt.title('Training and Validation Accuracy')\n",
    "plt.legend(loc='lower right')\n",
    "\n",
    "# Plotting Loss\n",
    "plt.subplot(1, 2, 2)\n",
    "plt.plot(history.history['loss'], label='Training Loss', marker='o')\n",
    "plt.plot(history.history['val_loss'], label='Validation Loss', marker='o')\n",
    "plt.xlabel('Epoch')\n",
    "plt.ylabel('Loss')\n",
    "plt.ylim([0, 1])\n",
    "plt.title('Training and Validation Loss')\n",
    "plt.legend(loc='upper right')\n",
    "\n",
    "plt.tight_layout()\n",
    "plt.show()\n"
   ]
  },
  {
   "cell_type": "code",
   "execution_count": 8,
   "id": "9737bd15",
   "metadata": {
    "execution": {
     "iopub.execute_input": "2024-05-24T15:42:06.779804Z",
     "iopub.status.busy": "2024-05-24T15:42:06.779483Z",
     "iopub.status.idle": "2024-05-24T15:42:06.798088Z",
     "shell.execute_reply": "2024-05-24T15:42:06.797293Z"
    },
    "papermill": {
     "duration": 0.046535,
     "end_time": "2024-05-24T15:42:06.800070",
     "exception": false,
     "start_time": "2024-05-24T15:42:06.753535",
     "status": "completed"
    },
    "tags": []
   },
   "outputs": [
    {
     "data": {
      "text/html": [
       "<pre style=\"white-space:pre;overflow-x:auto;line-height:normal;font-family:Menlo,'DejaVu Sans Mono',consolas,'Courier New',monospace\"><span style=\"font-weight: bold\">Model: \"sequential\"</span>\n",
       "</pre>\n"
      ],
      "text/plain": [
       "\u001b[1mModel: \"sequential\"\u001b[0m\n"
      ]
     },
     "metadata": {},
     "output_type": "display_data"
    },
    {
     "data": {
      "text/html": [
       "<pre style=\"white-space:pre;overflow-x:auto;line-height:normal;font-family:Menlo,'DejaVu Sans Mono',consolas,'Courier New',monospace\">┏━━━━━━━━━━━━━━━━━━━━━━━━━━━━━━━━━┳━━━━━━━━━━━━━━━━━━━━━━━━┳━━━━━━━━━━━━━━━┓\n",
       "┃<span style=\"font-weight: bold\"> Layer (type)                    </span>┃<span style=\"font-weight: bold\"> Output Shape           </span>┃<span style=\"font-weight: bold\">       Param # </span>┃\n",
       "┡━━━━━━━━━━━━━━━━━━━━━━━━━━━━━━━━━╇━━━━━━━━━━━━━━━━━━━━━━━━╇━━━━━━━━━━━━━━━┩\n",
       "│ flatten (<span style=\"color: #0087ff; text-decoration-color: #0087ff\">Flatten</span>)               │ (<span style=\"color: #00d7ff; text-decoration-color: #00d7ff\">None</span>, <span style=\"color: #00af00; text-decoration-color: #00af00\">784</span>)            │             <span style=\"color: #00af00; text-decoration-color: #00af00\">0</span> │\n",
       "├─────────────────────────────────┼────────────────────────┼───────────────┤\n",
       "│ dense (<span style=\"color: #0087ff; text-decoration-color: #0087ff\">Dense</span>)                   │ (<span style=\"color: #00d7ff; text-decoration-color: #00d7ff\">None</span>, <span style=\"color: #00af00; text-decoration-color: #00af00\">128</span>)            │       <span style=\"color: #00af00; text-decoration-color: #00af00\">100,480</span> │\n",
       "├─────────────────────────────────┼────────────────────────┼───────────────┤\n",
       "│ dense_1 (<span style=\"color: #0087ff; text-decoration-color: #0087ff\">Dense</span>)                 │ (<span style=\"color: #00d7ff; text-decoration-color: #00d7ff\">None</span>, <span style=\"color: #00af00; text-decoration-color: #00af00\">10</span>)             │         <span style=\"color: #00af00; text-decoration-color: #00af00\">1,290</span> │\n",
       "└─────────────────────────────────┴────────────────────────┴───────────────┘\n",
       "</pre>\n"
      ],
      "text/plain": [
       "┏━━━━━━━━━━━━━━━━━━━━━━━━━━━━━━━━━┳━━━━━━━━━━━━━━━━━━━━━━━━┳━━━━━━━━━━━━━━━┓\n",
       "┃\u001b[1m \u001b[0m\u001b[1mLayer (type)                   \u001b[0m\u001b[1m \u001b[0m┃\u001b[1m \u001b[0m\u001b[1mOutput Shape          \u001b[0m\u001b[1m \u001b[0m┃\u001b[1m \u001b[0m\u001b[1m      Param #\u001b[0m\u001b[1m \u001b[0m┃\n",
       "┡━━━━━━━━━━━━━━━━━━━━━━━━━━━━━━━━━╇━━━━━━━━━━━━━━━━━━━━━━━━╇━━━━━━━━━━━━━━━┩\n",
       "│ flatten (\u001b[38;5;33mFlatten\u001b[0m)               │ (\u001b[38;5;45mNone\u001b[0m, \u001b[38;5;34m784\u001b[0m)            │             \u001b[38;5;34m0\u001b[0m │\n",
       "├─────────────────────────────────┼────────────────────────┼───────────────┤\n",
       "│ dense (\u001b[38;5;33mDense\u001b[0m)                   │ (\u001b[38;5;45mNone\u001b[0m, \u001b[38;5;34m128\u001b[0m)            │       \u001b[38;5;34m100,480\u001b[0m │\n",
       "├─────────────────────────────────┼────────────────────────┼───────────────┤\n",
       "│ dense_1 (\u001b[38;5;33mDense\u001b[0m)                 │ (\u001b[38;5;45mNone\u001b[0m, \u001b[38;5;34m10\u001b[0m)             │         \u001b[38;5;34m1,290\u001b[0m │\n",
       "└─────────────────────────────────┴────────────────────────┴───────────────┘\n"
      ]
     },
     "metadata": {},
     "output_type": "display_data"
    },
    {
     "data": {
      "text/html": [
       "<pre style=\"white-space:pre;overflow-x:auto;line-height:normal;font-family:Menlo,'DejaVu Sans Mono',consolas,'Courier New',monospace\"><span style=\"font-weight: bold\"> Total params: </span><span style=\"color: #00af00; text-decoration-color: #00af00\">305,312</span> (1.16 MB)\n",
       "</pre>\n"
      ],
      "text/plain": [
       "\u001b[1m Total params: \u001b[0m\u001b[38;5;34m305,312\u001b[0m (1.16 MB)\n"
      ]
     },
     "metadata": {},
     "output_type": "display_data"
    },
    {
     "data": {
      "text/html": [
       "<pre style=\"white-space:pre;overflow-x:auto;line-height:normal;font-family:Menlo,'DejaVu Sans Mono',consolas,'Courier New',monospace\"><span style=\"font-weight: bold\"> Trainable params: </span><span style=\"color: #00af00; text-decoration-color: #00af00\">101,770</span> (397.54 KB)\n",
       "</pre>\n"
      ],
      "text/plain": [
       "\u001b[1m Trainable params: \u001b[0m\u001b[38;5;34m101,770\u001b[0m (397.54 KB)\n"
      ]
     },
     "metadata": {},
     "output_type": "display_data"
    },
    {
     "data": {
      "text/html": [
       "<pre style=\"white-space:pre;overflow-x:auto;line-height:normal;font-family:Menlo,'DejaVu Sans Mono',consolas,'Courier New',monospace\"><span style=\"font-weight: bold\"> Non-trainable params: </span><span style=\"color: #00af00; text-decoration-color: #00af00\">0</span> (0.00 B)\n",
       "</pre>\n"
      ],
      "text/plain": [
       "\u001b[1m Non-trainable params: \u001b[0m\u001b[38;5;34m0\u001b[0m (0.00 B)\n"
      ]
     },
     "metadata": {},
     "output_type": "display_data"
    },
    {
     "data": {
      "text/html": [
       "<pre style=\"white-space:pre;overflow-x:auto;line-height:normal;font-family:Menlo,'DejaVu Sans Mono',consolas,'Courier New',monospace\"><span style=\"font-weight: bold\"> Optimizer params: </span><span style=\"color: #00af00; text-decoration-color: #00af00\">203,542</span> (795.09 KB)\n",
       "</pre>\n"
      ],
      "text/plain": [
       "\u001b[1m Optimizer params: \u001b[0m\u001b[38;5;34m203,542\u001b[0m (795.09 KB)\n"
      ]
     },
     "metadata": {},
     "output_type": "display_data"
    }
   ],
   "source": [
    "# Printing the Model Summary\n",
    "model.summary()\n"
   ]
  },
  {
   "cell_type": "markdown",
   "id": "4961bda7",
   "metadata": {
    "papermill": {
     "duration": 0.026051,
     "end_time": "2024-05-24T15:42:06.852390",
     "exception": false,
     "start_time": "2024-05-24T15:42:06.826339",
     "status": "completed"
    },
    "tags": []
   },
   "source": [
    "## Common Challenges and Solutions\n",
    "\n",
    "### Overfitting and Underfitting\n",
    "- **Overfitting:** When the model performs well on training data but poorly on new data. Overfitting occurs when the model learns the training data too well, including its noise and outliers, leading to poor generalization to unseen data. Solutions include using more data, simplifying the model, or adding regularization techniques such as dropout.\n",
    "- **Underfitting:** When the model performs poorly on both training and new data. Underfitting happens when the model is too simple to capture the underlying patterns in the data, resulting in high error rates on both training and test datasets. Solutions include using a more complex model or better features.\n",
    "\n",
    "### Hyperparameter Tuning\n",
    "Hyperparameters are parameters that are set before training begins and can significantly affect model performance. Common hyperparameters include learning rate, number of layers, and number of neurons per layer. Techniques such as grid search or random search can help find the optimal hyperparameters.\n",
    "\n",
    "### Debugging Tips\n",
    "Common issues and their solutions include:\n",
    "- **Model not learning:** Ensure that the data is correctly preprocessed and that the model architecture is appropriate for the task.\n",
    "- **High loss:** Experiment with different model architectures and hyperparameters.\n",
    "- **Overfitting:** Use regularization techniques such as dropout or L2 regularization.\n",
    "\n",
    "## Resources for Further Learning\n",
    "\n",
    "- [Coursera's Deep Learning Specialization by Andrew Ng](https://www.coursera.org/specializations/deep-learning)\n",
    "- [TensorFlow Documentation](https://www.tensorflow.org/tutorials)\n",
    "\n",
    "## Conclusion\n",
    "\n",
    "In this notebook, we covered the basics of neural networks, built a simple model to classify handwritten digits, and discussed common challenges and solutions. Neural networks are powerful tools, and with this foundation, you're ready to explore more advanced topics.\n",
    "\n",
    "### Happy learning!\n"
   ]
  }
 ],
 "metadata": {
  "kaggle": {
   "accelerator": "nvidiaTeslaT4",
   "dataSources": [],
   "dockerImageVersionId": 30699,
   "isGpuEnabled": true,
   "isInternetEnabled": true,
   "language": "python",
   "sourceType": "notebook"
  },
  "kernelspec": {
   "display_name": "Python 3",
   "language": "python",
   "name": "python3"
  },
  "language_info": {
   "codemirror_mode": {
    "name": "ipython",
    "version": 3
   },
   "file_extension": ".py",
   "mimetype": "text/x-python",
   "name": "python",
   "nbconvert_exporter": "python",
   "pygments_lexer": "ipython3",
   "version": "3.10.13"
  },
  "papermill": {
   "default_parameters": {},
   "duration": 37.097168,
   "end_time": "2024-05-24T15:42:08.499707",
   "environment_variables": {},
   "exception": null,
   "input_path": "__notebook__.ipynb",
   "output_path": "__notebook__.ipynb",
   "parameters": {},
   "start_time": "2024-05-24T15:41:31.402539",
   "version": "2.5.0"
  }
 },
 "nbformat": 4,
 "nbformat_minor": 5
}
