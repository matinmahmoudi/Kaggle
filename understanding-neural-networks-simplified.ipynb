{
 "cells": [
  {
   "cell_type": "markdown",
   "id": "f69a7fff",
   "metadata": {
    "papermill": {
     "duration": 0.006813,
     "end_time": "2024-06-06T12:23:30.983308",
     "exception": false,
     "start_time": "2024-06-06T12:23:30.976495",
     "status": "completed"
    },
    "tags": []
   },
   "source": [
    "# 🌿 🧠 Understanding Neural Networks - Simplified\n",
    "\n",
    "Welcome to this Simplified guide on neural networks! In this notebook, we'll break down the concepts of neural networks in a simple and clear manner. By the end, you'll have a solid understanding of how neural networks work and how to create one using Python.\n",
    "\n",
    "Neural networks have practical applications in various fields, including image recognition, natural language processing, and more.\n",
    "\n",
    "## Table of Contents\n",
    "1. [What is a Neural Network?](#What-is-a-Neural-Network?)\n",
    "2. [Building Blocks of Neural Networks](#Building-Blocks-of-Neural-Networks)\n",
    "3. [Activation Functions](#Activation-Functions)\n",
    "4. [Loading and Preprocessing Data](#Loading-and-Preprocessing-Data)\n",
    "5. [Building the Model](#Building-the-Model)\n",
    "6. [Compiling the Model](#Compiling-the-Model)\n",
    "7. [Training the Model](#Training-the-Model)\n",
    "8. [Evaluating the Model](#Evaluating-the-Model)\n",
    "9. [Making Predictions](#Making-Predictions)\n",
    "10. [Plotting a Test Image and Prediction](#Plotting-a-Test-Image-and-Prediction)\n",
    "11. [Visualizing Training Results](#Visualizing-Training-Results)\n",
    "12. [Preventing Overfitting](#Preventing-Overfitting)\n",
    "13. [Common Challenges and Solutions](#Common-Challenges-and-Solutions)\n",
    "14. [Resources for Further Learning](#Resources-for-Further-Learning)\n",
    "15. [Conclusion](#Conclusion)\n"
   ]
  },
  {
   "cell_type": "code",
   "execution_count": 1,
   "id": "8777d0d0",
   "metadata": {
    "execution": {
     "iopub.execute_input": "2024-06-06T12:23:30.997546Z",
     "iopub.status.busy": "2024-06-06T12:23:30.996959Z",
     "iopub.status.idle": "2024-06-06T12:23:43.355988Z",
     "shell.execute_reply": "2024-06-06T12:23:43.354857Z"
    },
    "papermill": {
     "duration": 12.368507,
     "end_time": "2024-06-06T12:23:43.358193",
     "exception": false,
     "start_time": "2024-06-06T12:23:30.989686",
     "status": "completed"
    },
    "tags": []
   },
   "outputs": [
    {
     "name": "stderr",
     "output_type": "stream",
     "text": [
      "2024-06-06 12:23:32.684413: E external/local_xla/xla/stream_executor/cuda/cuda_dnn.cc:9261] Unable to register cuDNN factory: Attempting to register factory for plugin cuDNN when one has already been registered\n",
      "2024-06-06 12:23:32.684533: E external/local_xla/xla/stream_executor/cuda/cuda_fft.cc:607] Unable to register cuFFT factory: Attempting to register factory for plugin cuFFT when one has already been registered\n",
      "2024-06-06 12:23:32.809837: E external/local_xla/xla/stream_executor/cuda/cuda_blas.cc:1515] Unable to register cuBLAS factory: Attempting to register factory for plugin cuBLAS when one has already been registered\n"
     ]
    },
    {
     "name": "stdout",
     "output_type": "stream",
     "text": [
      "TensorFlow Version: 2.15.0\n",
      "Num GPUs Available:  2\n"
     ]
    }
   ],
   "source": [
    "# Imports and Setup\n",
    "import tensorflow as tf\n",
    "from tensorflow.keras.models import Sequential\n",
    "from tensorflow.keras.layers import Dense, Flatten, Input, Dropout\n",
    "from tensorflow.keras.datasets import mnist\n",
    "import matplotlib.pyplot as plt\n",
    "\n",
    "# Check TensorFlow version and GPU availability\n",
    "print(\"TensorFlow Version:\", tf.__version__)\n",
    "print(\"Num GPUs Available: \", len(tf.config.list_physical_devices('GPU')))\n"
   ]
  },
  {
   "cell_type": "markdown",
   "id": "9d855f18",
   "metadata": {
    "papermill": {
     "duration": 0.006347,
     "end_time": "2024-06-06T12:23:43.371340",
     "exception": false,
     "start_time": "2024-06-06T12:23:43.364993",
     "status": "completed"
    },
    "tags": []
   },
   "source": [
    "## What is a Neural Network?\n",
    "\n",
    "A neural network is a series of algorithms designed to recognize patterns in data. Inspired by the human brain, it consists of layers of interconnected nodes (neurons) that work together to process inputs and produce outputs.\n",
    "\n",
    "### Key Terms\n",
    "- **Neuron:** The basic unit of a neural network, similar to a brain cell. A neuron takes input, processes it with weights and biases, and applies an activation function to produce an output.\n",
    "\n",
    "- **Layer:** A group of neurons. Layers are typically organized into an input layer, one or more hidden layers, and an output layer. Each neuron in one layer connects to neurons in the next layer.\n",
    "\n",
    "- **Weights and Biases:** Parameters that the network learns during training. Weights adjust the importance of inputs, and biases allow the activation threshold to be shifted, facilitating the learning process.\n",
    "- **Activation Function:** A function that helps the network learn complex patterns. It introduces non-linearity, enabling the network to model complex relationships.\n",
    "\n",
    "### Types of Neural Networks\n",
    "- **Convolutional Neural Networks (CNNs):** Commonly used for image recognition tasks.\n",
    "- **Recurrent Neural Networks (RNNs):** Useful for sequential data, such as time series or text.\n"
   ]
  },
  {
   "cell_type": "markdown",
   "id": "6f091043",
   "metadata": {
    "papermill": {
     "duration": 0.006596,
     "end_time": "2024-06-06T12:23:43.384475",
     "exception": false,
     "start_time": "2024-06-06T12:23:43.377879",
     "status": "completed"
    },
    "tags": []
   },
   "source": [
    "## Building Blocks of Neural Networks\n",
    "\n",
    "### Neurons\n",
    "Neurons are the basic units of a neural network that receive input, process it using weights and biases, and pass the result through an activation function to produce an output.\n",
    "\n",
    "### Layers\n",
    "1. **Input Layer:** The layer that receives the initial data. It is the first layer of a neural network that directly takes the raw input features.\n",
    "2. **Hidden Layers:** Intermediate layers where the network learns to detect features. These layers are between the input and output layers where neurons perform computations and feature extraction.\n",
    "3. **Output Layer:** The final layer that produces the network's output.\n"
   ]
  },
  {
   "cell_type": "markdown",
   "id": "db6b9b1f",
   "metadata": {
    "papermill": {
     "duration": 0.006348,
     "end_time": "2024-06-06T12:23:43.397415",
     "exception": false,
     "start_time": "2024-06-06T12:23:43.391067",
     "status": "completed"
    },
    "tags": []
   },
   "source": [
    "### Activation Functions\n",
    "\n",
    "Activation functions play a crucial role in neural networks by introducing non-linearity into the model, allowing it to learn and represent complex patterns in the data. Without activation functions, the neural network would simply perform linear transformations, making it unable to handle more complex tasks. Here are some commonly used activation functions and their characteristics:\n",
    "\n",
    "**1. Sigmoid Activation Function:**\n",
    "- **Formula:** $ \\sigma(x) = \\frac{1}{1 + e^{-x}} $\n",
    "- **Range:** (0, 1)\n",
    "- **Properties:** \n",
    "  - Squashes input values to a range between 0 and 1.\n",
    "  - Often used in the output layer of binary classification problems.\n",
    "  - Can cause the vanishing gradient problem during backpropagation due to its derivative being very small for large positive or negative inputs.\n",
    "\n",
    "**2. Tanh Activation Function:**\n",
    "- **Formula:** $ \\text{tanh}(x) = \\frac{e^{x} - e^{-x}}{e^{x} + e^{-x}} $\n",
    "- **Range:** (-1, 1)\n",
    "- **Properties:**\n",
    "  - Squashes input values to a range between -1 and 1.\n",
    "  - Zero-centered, which helps in centering the data and making optimization easier.\n",
    "  - Also suffers from the vanishing gradient problem, but to a lesser extent than the sigmoid function.\n",
    "\n",
    "**3. ReLU (Rectified Linear Unit) Activation Function:**\n",
    "- **Formula:** $ \\text{ReLU}(x) = \\max(0, x) $\n",
    "- **Range:** [0, ∞)\n",
    "- **Properties:**\n",
    "  - Introduces non-linearity while allowing for faster training and avoiding the vanishing gradient problem.\n",
    "  - Computationally efficient as it involves simple thresholding at zero.\n",
    "  - Can suffer from the \"dying ReLU\" problem, where neurons get stuck at zero and stop learning. Variants like Leaky ReLU and Parametric ReLU address this issue.\n",
    "\n",
    "**4. Leaky ReLU Activation Function:**\n",
    "- **Formula:** $ \\text{Leaky ReLU}(x) = \\max(0.01x, x) $\n",
    "- **Range:** (-∞, ∞)\n",
    "- **Properties:**\n",
    "  - Allows a small, non-zero gradient when the input is negative.\n",
    "  - Helps mitigate the dying ReLU problem by ensuring that neurons continue to learn even when they receive negative inputs.\n",
    "\n",
    "**5. Softmax Activation Function:**\n",
    "- **Formula:** $ \\text{Softmax}(x_i) = \\frac{e^{x_i}}{\\sum_{j} e^{x_j}} $\n",
    "- **Range:** (0, 1) (for each output neuron, the sum of outputs is 1)\n",
    "- **Properties:**\n",
    "  - Converts logits (raw prediction values) into probabilities, making it useful for multi-class classification problems.\n",
    "  - Ensures that the output probabilities sum up to 1, allowing for interpretation as a probability distribution.\n",
    "\n",
    "**6. Swish Activation Function:**\n",
    "- **Formula:** $ \\text{Swish}(x) = x \\cdot \\sigma(x) $\n",
    "- **Range:** (-∞, ∞)\n",
    "- **Properties:**\n",
    "  - Smooth, non-monotonic function that tends to perform better than ReLU on deeper networks.\n",
    "  - Self-gated, meaning the function can adjust its own behavior based on the input.\n",
    "\n",
    "### Choosing Activation Functions\n",
    "\n",
    "The choice of activation function depends on the specific problem and the architecture of the neural network. Here are some guidelines:\n",
    "\n",
    "- **Hidden Layers:** ReLU and its variants (Leaky ReLU, Parametric ReLU) are popular choices due to their computational efficiency and effectiveness in avoiding the vanishing gradient problem.\n",
    "- **Output Layer:**\n",
    "  - **Binary Classification:** Sigmoid function is commonly used to output probabilities between 0 and 1.\n",
    "  - **Multi-Class Classification:** Softmax function is used to produce a probability distribution over multiple classes.\n",
    "  - **Regression Tasks:** Linear activation (no activation function) is typically used in the output layer.\n",
    "\n",
    "Understanding and experimenting with different activation functions can significantly impact the performance of your neural network. It's essential to consider the properties and potential issues of each activation function when designing and training your models.\n"
   ]
  },
  {
   "cell_type": "markdown",
   "id": "e461acf1",
   "metadata": {
    "papermill": {
     "duration": 0.006254,
     "end_time": "2024-06-06T12:23:43.410219",
     "exception": false,
     "start_time": "2024-06-06T12:23:43.403965",
     "status": "completed"
    },
    "tags": []
   },
   "source": [
    "### Loading and Preprocessing Data\n",
    "\n",
    "First, we need to load the MNIST dataset and preprocess it. The MNIST dataset consists of 28x28 grayscale images of handwritten digits (0-9).\n",
    "\n",
    "Normalization, which scales the pixel values to the range 0-1, is important because it helps in faster convergence during training.\n"
   ]
  },
  {
   "cell_type": "code",
   "execution_count": 2,
   "id": "770412a2",
   "metadata": {
    "execution": {
     "iopub.execute_input": "2024-06-06T12:23:43.424923Z",
     "iopub.status.busy": "2024-06-06T12:23:43.424332Z",
     "iopub.status.idle": "2024-06-06T12:23:43.959772Z",
     "shell.execute_reply": "2024-06-06T12:23:43.958986Z"
    },
    "papermill": {
     "duration": 0.545366,
     "end_time": "2024-06-06T12:23:43.962137",
     "exception": false,
     "start_time": "2024-06-06T12:23:43.416771",
     "status": "completed"
    },
    "tags": []
   },
   "outputs": [
    {
     "name": "stdout",
     "output_type": "stream",
     "text": [
      "Downloading data from https://storage.googleapis.com/tensorflow/tf-keras-datasets/mnist.npz\n",
      "\u001b[1m11490434/11490434\u001b[0m \u001b[32m━━━━━━━━━━━━━━━━━━━━\u001b[0m\u001b[37m\u001b[0m \u001b[1m0s\u001b[0m 0us/step\n"
     ]
    }
   ],
   "source": [
    "# Loading and Preprocessing Data\n",
    "\n",
    "# Load the MNIST dataset, which contains 28x28 grayscale images of handwritten digits\n",
    "(x_train, y_train), (x_test, y_test) = mnist.load_data()\n",
    "\n",
    "# Normalize the images to have values between 0 and 1 by dividing by 255\n",
    "# This helps in faster convergence during training\n",
    "x_train, x_test = x_train / 255.0, x_test / 255.0\n"
   ]
  },
  {
   "cell_type": "markdown",
   "id": "35cc37db",
   "metadata": {
    "papermill": {
     "duration": 0.007095,
     "end_time": "2024-06-06T12:23:43.976466",
     "exception": false,
     "start_time": "2024-06-06T12:23:43.969371",
     "status": "completed"
    },
    "tags": []
   },
   "source": [
    "### Building the Model\n",
    "\n",
    "Next, we'll build a simple neural network with one hidden layer using TensorFlow and Keras. The model consists of:\n",
    "1. **Input Layer:** Converts the 28x28 images into a 1D array of 784 values.\n",
    "2. **Dense Layer (Hidden Layer):** A fully connected layer with 128 neurons and ReLU activation.\n",
    "3. **Dense Layer (Output Layer):** A fully connected layer with 10 neurons (one for each digit) and softmax activation.\n",
    "\n",
    "**Note:** The ReLU activation function is chosen for its ability to introduce non-linearity, while softmax is used in the output layer to produce a probability distribution over the classes.\n"
   ]
  },
  {
   "cell_type": "code",
   "execution_count": 3,
   "id": "1f726716",
   "metadata": {
    "execution": {
     "iopub.execute_input": "2024-06-06T12:23:43.991476Z",
     "iopub.status.busy": "2024-06-06T12:23:43.991163Z",
     "iopub.status.idle": "2024-06-06T12:23:44.582484Z",
     "shell.execute_reply": "2024-06-06T12:23:44.581723Z"
    },
    "papermill": {
     "duration": 0.60143,
     "end_time": "2024-06-06T12:23:44.584720",
     "exception": false,
     "start_time": "2024-06-06T12:23:43.983290",
     "status": "completed"
    },
    "tags": []
   },
   "outputs": [],
   "source": [
    "# Building the Model\n",
    "\n",
    "# Initialize a Sequential model, which is a linear stack of layers\n",
    "model = Sequential([\n",
    "    Input(shape=(28, 28)),         # Input layer, specifying the shape of input data (28x28 pixels)\n",
    "    Flatten(),                     # Flatten the 28x28 images into a 1D array of 784 values\n",
    "    Dense(128, activation='relu'), # Hidden layer with 128 neurons and ReLU activation function\n",
    "    Dropout(0.2),                  # Dropout layer to prevent overfitting, with 20% dropout rate\n",
    "    Dense(10, activation='softmax')# Output layer with 10 neurons (one for each class) and softmax activation function\n",
    "])\n"
   ]
  },
  {
   "cell_type": "markdown",
   "id": "eec679e2",
   "metadata": {
    "papermill": {
     "duration": 0.00669,
     "end_time": "2024-06-06T12:23:44.598703",
     "exception": false,
     "start_time": "2024-06-06T12:23:44.592013",
     "status": "completed"
    },
    "tags": []
   },
   "source": [
    "### Compiling the Model\n",
    "\n",
    "We need to compile the model by specifying the optimizer, loss function, and metrics. We'll use the Adam optimizer, sparse categorical crossentropy loss function, and accuracy as the evaluation metric.\n",
    "\n",
    "- **Optimizer (Adam):** Efficient for training deep learning models.\n",
    "- **Loss Function (Sparse Categorical Crossentropy):** Suitable for multi-class classification.\n",
    "- **Metrics (Accuracy):** Evaluates the model's performance by calculating the percentage of correctly predicted instances.\n"
   ]
  },
  {
   "cell_type": "code",
   "execution_count": 4,
   "id": "baa33157",
   "metadata": {
    "execution": {
     "iopub.execute_input": "2024-06-06T12:23:44.614296Z",
     "iopub.status.busy": "2024-06-06T12:23:44.613991Z",
     "iopub.status.idle": "2024-06-06T12:23:44.627051Z",
     "shell.execute_reply": "2024-06-06T12:23:44.626365Z"
    },
    "papermill": {
     "duration": 0.023401,
     "end_time": "2024-06-06T12:23:44.628971",
     "exception": false,
     "start_time": "2024-06-06T12:23:44.605570",
     "status": "completed"
    },
    "tags": []
   },
   "outputs": [],
   "source": [
    "# Compiling the Model\n",
    "\n",
    "# Compile the model by specifying the optimizer, loss function, and metrics\n",
    "# - optimizer: 'adam' (adaptive moment estimation) for efficient training\n",
    "# - loss: 'sparse_categorical_crossentropy' for multi-class classification\n",
    "# - metrics: ['accuracy'] to evaluate the model's performance\n",
    "model.compile(optimizer='adam',\n",
    "              loss='sparse_categorical_crossentropy',\n",
    "              metrics=['accuracy'])\n"
   ]
  },
  {
   "cell_type": "markdown",
   "id": "d918f790",
   "metadata": {
    "papermill": {
     "duration": 0.006586,
     "end_time": "2024-06-06T12:23:44.642462",
     "exception": false,
     "start_time": "2024-06-06T12:23:44.635876",
     "status": "completed"
    },
    "tags": []
   },
   "source": [
    "### Training the Model\n",
    "\n",
    "Now, we'll train the model using the training data. We'll set the number of epochs to 5 and use 20% of the training data for validation.\n",
    "\n",
    "An epoch is one complete iteration over the entire training data. Validation data is used to evaluate the model's performance on data it hasn't seen during training, helping to detect overfitting.\n"
   ]
  },
  {
   "cell_type": "code",
   "execution_count": 5,
   "id": "141b344f",
   "metadata": {
    "execution": {
     "iopub.execute_input": "2024-06-06T12:23:44.657325Z",
     "iopub.status.busy": "2024-06-06T12:23:44.657036Z",
     "iopub.status.idle": "2024-06-06T12:24:06.925251Z",
     "shell.execute_reply": "2024-06-06T12:24:06.924461Z"
    },
    "papermill": {
     "duration": 22.277968,
     "end_time": "2024-06-06T12:24:06.927258",
     "exception": false,
     "start_time": "2024-06-06T12:23:44.649290",
     "status": "completed"
    },
    "tags": []
   },
   "outputs": [
    {
     "name": "stdout",
     "output_type": "stream",
     "text": [
      "Epoch 1/5\n",
      "\u001b[1m 100/1500\u001b[0m \u001b[32m━\u001b[0m\u001b[37m━━━━━━━━━━━━━━━━━━━\u001b[0m \u001b[1m2s\u001b[0m 2ms/step - accuracy: 0.5724 - loss: 1.4017"
     ]
    },
    {
     "name": "stderr",
     "output_type": "stream",
     "text": [
      "WARNING: All log messages before absl::InitializeLog() is called are written to STDERR\n",
      "I0000 00:00:1717676628.202519      72 device_compiler.h:186] Compiled cluster using XLA!  This line is logged at most once for the lifetime of the process.\n",
      "W0000 00:00:1717676628.217012      72 graph_launch.cc:671] Fallback to op-by-op mode because memset node breaks graph update\n"
     ]
    },
    {
     "name": "stdout",
     "output_type": "stream",
     "text": [
      "\u001b[1m1467/1500\u001b[0m \u001b[32m━━━━━━━━━━━━━━━━━━━\u001b[0m\u001b[37m━\u001b[0m \u001b[1m0s\u001b[0m 1ms/step - accuracy: 0.8469 - loss: 0.5231"
     ]
    },
    {
     "name": "stderr",
     "output_type": "stream",
     "text": [
      "W0000 00:00:1717676631.082633      71 graph_launch.cc:671] Fallback to op-by-op mode because memset node breaks graph update\n"
     ]
    },
    {
     "name": "stdout",
     "output_type": "stream",
     "text": [
      "\u001b[1m1500/1500\u001b[0m \u001b[32m━━━━━━━━━━━━━━━━━━━━\u001b[0m\u001b[37m\u001b[0m \u001b[1m6s\u001b[0m 2ms/step - accuracy: 0.8483 - loss: 0.5186 - val_accuracy: 0.9550 - val_loss: 0.1545\n",
      "Epoch 2/5\n",
      "\u001b[1m1500/1500\u001b[0m \u001b[32m━━━━━━━━━━━━━━━━━━━━\u001b[0m\u001b[37m\u001b[0m \u001b[1m7s\u001b[0m 2ms/step - accuracy: 0.9526 - loss: 0.1658 - val_accuracy: 0.9661 - val_loss: 0.1158\n",
      "Epoch 3/5\n",
      "\u001b[1m1500/1500\u001b[0m \u001b[32m━━━━━━━━━━━━━━━━━━━━\u001b[0m\u001b[37m\u001b[0m \u001b[1m3s\u001b[0m 2ms/step - accuracy: 0.9664 - loss: 0.1148 - val_accuracy: 0.9701 - val_loss: 0.0989\n",
      "Epoch 4/5\n",
      "\u001b[1m1500/1500\u001b[0m \u001b[32m━━━━━━━━━━━━━━━━━━━━\u001b[0m\u001b[37m\u001b[0m \u001b[1m3s\u001b[0m 2ms/step - accuracy: 0.9725 - loss: 0.0943 - val_accuracy: 0.9715 - val_loss: 0.0909\n",
      "Epoch 5/5\n",
      "\u001b[1m1500/1500\u001b[0m \u001b[32m━━━━━━━━━━━━━━━━━━━━\u001b[0m\u001b[37m\u001b[0m \u001b[1m3s\u001b[0m 2ms/step - accuracy: 0.9757 - loss: 0.0765 - val_accuracy: 0.9736 - val_loss: 0.0948\n"
     ]
    }
   ],
   "source": [
    "# Training the Model\n",
    "\n",
    "# Train the model with the training data\n",
    "# - epochs: Number of times the model will iterate over the entire training data\n",
    "# - validation_split: Fraction of training data to be used as validation data (0.2 means 20%)\n",
    "history = model.fit(x_train, y_train, epochs=5, validation_split=0.2)\n"
   ]
  },
  {
   "cell_type": "markdown",
   "id": "ba7e884d",
   "metadata": {
    "papermill": {
     "duration": 0.025023,
     "end_time": "2024-06-06T12:24:06.978370",
     "exception": false,
     "start_time": "2024-06-06T12:24:06.953347",
     "status": "completed"
    },
    "tags": []
   },
   "source": [
    "### Evaluating the Model\n",
    "\n",
    "After training, we can evaluate the model's performance using the test data. We'll measure the test accuracy to see how well the model generalizes to new data.\n"
   ]
  },
  {
   "cell_type": "code",
   "execution_count": 6,
   "id": "8e089254",
   "metadata": {
    "execution": {
     "iopub.execute_input": "2024-06-06T12:24:07.030492Z",
     "iopub.status.busy": "2024-06-06T12:24:07.030178Z",
     "iopub.status.idle": "2024-06-06T12:24:08.419711Z",
     "shell.execute_reply": "2024-06-06T12:24:08.418679Z"
    },
    "papermill": {
     "duration": 1.418367,
     "end_time": "2024-06-06T12:24:08.422023",
     "exception": false,
     "start_time": "2024-06-06T12:24:07.003656",
     "status": "completed"
    },
    "tags": []
   },
   "outputs": [
    {
     "name": "stderr",
     "output_type": "stream",
     "text": [
      "W0000 00:00:1717676647.653663      71 graph_launch.cc:671] Fallback to op-by-op mode because memset node breaks graph update\n"
     ]
    },
    {
     "name": "stdout",
     "output_type": "stream",
     "text": [
      "313/313 - 1s - 4ms/step - accuracy: 0.9744 - loss: 0.0857\n",
      "\n",
      "Test accuracy: 0.974399983882904\n"
     ]
    }
   ],
   "source": [
    "# Evaluating the Model\n",
    "\n",
    "# Evaluate the model's performance using the test data\n",
    "# - verbose=2: Print a summary of the evaluation\n",
    "test_loss, test_acc = model.evaluate(x_test, y_test, verbose=2)\n",
    "print('\\nTest accuracy:', test_acc)\n"
   ]
  },
  {
   "cell_type": "markdown",
   "id": "2abe17bc",
   "metadata": {
    "papermill": {
     "duration": 0.026505,
     "end_time": "2024-06-06T12:24:08.475335",
     "exception": false,
     "start_time": "2024-06-06T12:24:08.448830",
     "status": "completed"
    },
    "tags": []
   },
   "source": [
    "### Making Predictions\n",
    "\n",
    "After evaluating the model, we can use it to make predictions on new data. The model outputs probabilities for each class (0-9), and we use `argmax` to get the index of the highest probability, which corresponds to the predicted class.\n"
   ]
  },
  {
   "cell_type": "code",
   "execution_count": 7,
   "id": "61e4fe9b",
   "metadata": {
    "execution": {
     "iopub.execute_input": "2024-06-06T12:24:08.527151Z",
     "iopub.status.busy": "2024-06-06T12:24:08.526560Z",
     "iopub.status.idle": "2024-06-06T12:24:09.520122Z",
     "shell.execute_reply": "2024-06-06T12:24:09.518975Z"
    },
    "papermill": {
     "duration": 1.021741,
     "end_time": "2024-06-06T12:24:09.522166",
     "exception": false,
     "start_time": "2024-06-06T12:24:08.500425",
     "status": "completed"
    },
    "tags": []
   },
   "outputs": [
    {
     "name": "stdout",
     "output_type": "stream",
     "text": [
      "\u001b[1m130/313\u001b[0m \u001b[32m━━━━━━━━\u001b[0m\u001b[37m━━━━━━━━━━━━\u001b[0m \u001b[1m0s\u001b[0m 1ms/step"
     ]
    },
    {
     "name": "stderr",
     "output_type": "stream",
     "text": [
      "W0000 00:00:1717676648.803258      70 graph_launch.cc:671] Fallback to op-by-op mode because memset node breaks graph update\n"
     ]
    },
    {
     "name": "stdout",
     "output_type": "stream",
     "text": [
      "\u001b[1m313/313\u001b[0m \u001b[32m━━━━━━━━━━━━━━━━━━━━\u001b[0m\u001b[37m\u001b[0m \u001b[1m1s\u001b[0m 2ms/step\n",
      "[1.4785668e-08 5.0001240e-08 3.6436190e-06 2.4200004e-05 1.6403085e-12\n",
      " 7.9840783e-09 3.1207276e-14 9.9997163e-01 1.2122287e-09 4.6690698e-07]\n"
     ]
    }
   ],
   "source": [
    "# Making Predictions\n",
    "\n",
    "# Make predictions on the test data\n",
    "# The model outputs probabilities for each class (0-9)\n",
    "predictions = model.predict(x_test)\n",
    "\n",
    "# Display the prediction for the first test image\n",
    "# - argmax: Get the index of the highest probability, which is the predicted class\n",
    "print(predictions[0])\n"
   ]
  },
  {
   "cell_type": "markdown",
   "id": "a762445e",
   "metadata": {
    "papermill": {
     "duration": 0.026281,
     "end_time": "2024-06-06T12:24:09.575931",
     "exception": false,
     "start_time": "2024-06-06T12:24:09.549650",
     "status": "completed"
    },
    "tags": []
   },
   "source": [
    "### Plotting a Test Image and Prediction\n",
    "\n",
    "We'll plot a test image along with its predicted label to visually inspect the model's prediction.\n",
    "\n",
    "The image is displayed in grayscale, and the title of the plot shows the predicted label.\n"
   ]
  },
  {
   "cell_type": "code",
   "execution_count": 8,
   "id": "2d91f1df",
   "metadata": {
    "execution": {
     "iopub.execute_input": "2024-06-06T12:24:09.629786Z",
     "iopub.status.busy": "2024-06-06T12:24:09.629455Z",
     "iopub.status.idle": "2024-06-06T12:24:09.913546Z",
     "shell.execute_reply": "2024-06-06T12:24:09.912632Z"
    },
    "papermill": {
     "duration": 0.313178,
     "end_time": "2024-06-06T12:24:09.915530",
     "exception": false,
     "start_time": "2024-06-06T12:24:09.602352",
     "status": "completed"
    },
    "tags": []
   },
   "outputs": [
    {
     "data": {
      "image/png": "[encoded data removed]",
      "text/plain": [
       "<Figure size 640x480 with 1 Axes>"
      ]
     },
     "metadata": {},
     "output_type": "display_data"
    }
   ],
   "source": [
    "# Plotting a Test Image and Prediction\n",
    "\n",
    "# Plot the first test image\n",
    "plt.figure()\n",
    "plt.imshow(x_test[0], cmap=plt.cm.binary)\n",
    "\n",
    "# Title the plot with the predicted label\n",
    "plt.title(f\"Predicted Label: {predictions[0].argmax()}\")\n",
    "plt.show()\n"
   ]
  },
  {
   "cell_type": "markdown",
   "id": "1385e023",
   "metadata": {
    "papermill": {
     "duration": 0.027118,
     "end_time": "2024-06-06T12:24:09.970898",
     "exception": false,
     "start_time": "2024-06-06T12:24:09.943780",
     "status": "completed"
    },
    "tags": []
   },
   "source": [
    "### Visualizing Training Results\n",
    "\n",
    "Let's plot the training and validation accuracy and loss over the epochs to see how the model's performance improved during training.\n",
    "\n",
    "These plots help in understanding the model's learning process and identifying potential issues like overfitting.\n"
   ]
  },
  {
   "cell_type": "code",
   "execution_count": 9,
   "id": "a71add62",
   "metadata": {
    "execution": {
     "iopub.execute_input": "2024-06-06T12:24:10.024955Z",
     "iopub.status.busy": "2024-06-06T12:24:10.024591Z",
     "iopub.status.idle": "2024-06-06T12:24:10.527131Z",
     "shell.execute_reply": "2024-06-06T12:24:10.526192Z"
    },
    "papermill": {
     "duration": 0.53215,
     "end_time": "2024-06-06T12:24:10.529291",
     "exception": false,
     "start_time": "2024-06-06T12:24:09.997141",
     "status": "completed"
    },
    "tags": []
   },
   "outputs": [
    {
     "data": {
      "image/png": "[encoded data removed]",
      "text/plain": [
       "<Figure size 1200x400 with 2 Axes>"
      ]
     },
     "metadata": {},
     "output_type": "display_data"
    }
   ],
   "source": [
    "# Visualizing Training Results\n",
    "\n",
    "# Plot training & validation accuracy values\n",
    "plt.figure(figsize=(12, 4))\n",
    "plt.subplot(1, 2, 1)\n",
    "plt.plot(history.history['accuracy'])\n",
    "plt.plot(history.history['val_accuracy'])\n",
    "plt.title('Model Accuracy')\n",
    "plt.ylabel('Accuracy')\n",
    "plt.xlabel('Epoch')\n",
    "plt.legend(['Train', 'Validation'], loc='upper left')\n",
    "\n",
    "# Plot training & validation loss values\n",
    "plt.subplot(1, 2, 2)\n",
    "plt.plot(history.history['loss'])\n",
    "plt.plot(history.history['val_loss'])\n",
    "plt.title('Model Loss')\n",
    "plt.ylabel('Loss')\n",
    "plt.xlabel('Epoch')\n",
    "plt.legend(['Train', 'Validation'], loc='upper left')\n",
    "\n",
    "plt.show()\n"
   ]
  },
  {
   "cell_type": "markdown",
   "id": "2c3eeb97",
   "metadata": {
    "papermill": {
     "duration": 0.027727,
     "end_time": "2024-06-06T12:24:10.585078",
     "exception": false,
     "start_time": "2024-06-06T12:24:10.557351",
     "status": "completed"
    },
    "tags": []
   },
   "source": [
    "### Preventing Overfitting\n",
    "\n",
    "To demonstrate a technique for preventing overfitting, we will add dropout layers to the model. Dropout randomly sets a fraction of input units to 0 at each update during training time, which helps prevent overfitting.\n",
    "\n",
    "We will rebuild the model with dropout layers and retrain it.\n"
   ]
  },
  {
   "cell_type": "code",
   "execution_count": 10,
   "id": "5d700dc4",
   "metadata": {
    "execution": {
     "iopub.execute_input": "2024-06-06T12:24:10.641689Z",
     "iopub.status.busy": "2024-06-06T12:24:10.641310Z",
     "iopub.status.idle": "2024-06-06T12:24:29.156859Z",
     "shell.execute_reply": "2024-06-06T12:24:29.155814Z"
    },
    "papermill": {
     "duration": 18.546295,
     "end_time": "2024-06-06T12:24:29.158965",
     "exception": false,
     "start_time": "2024-06-06T12:24:10.612670",
     "status": "completed"
    },
    "tags": []
   },
   "outputs": [
    {
     "name": "stdout",
     "output_type": "stream",
     "text": [
      "Epoch 1/5\n",
      "\u001b[1m 102/1500\u001b[0m \u001b[32m━\u001b[0m\u001b[37m━━━━━━━━━━━━━━━━━━━\u001b[0m \u001b[1m2s\u001b[0m 2ms/step - accuracy: 0.4987 - loss: 1.5830"
     ]
    },
    {
     "name": "stderr",
     "output_type": "stream",
     "text": [
      "W0000 00:00:1717676653.508067      70 graph_launch.cc:671] Fallback to op-by-op mode because memset node breaks graph update\n"
     ]
    },
    {
     "name": "stdout",
     "output_type": "stream",
     "text": [
      "\u001b[1m1490/1500\u001b[0m \u001b[32m━━━━━━━━━━━━━━━━━━━\u001b[0m\u001b[37m━\u001b[0m \u001b[1m0s\u001b[0m 1ms/step - accuracy: 0.7977 - loss: 0.6667"
     ]
    },
    {
     "name": "stderr",
     "output_type": "stream",
     "text": [
      "W0000 00:00:1717676656.167247      70 graph_launch.cc:671] Fallback to op-by-op mode because memset node breaks graph update\n"
     ]
    },
    {
     "name": "stdout",
     "output_type": "stream",
     "text": [
      "\u001b[1m1500/1500\u001b[0m \u001b[32m━━━━━━━━━━━━━━━━━━━━\u001b[0m\u001b[37m\u001b[0m \u001b[1m5s\u001b[0m 2ms/step - accuracy: 0.7983 - loss: 0.6650 - val_accuracy: 0.9498 - val_loss: 0.1872\n",
      "Epoch 2/5\n",
      "\u001b[1m1500/1500\u001b[0m \u001b[32m━━━━━━━━━━━━━━━━━━━━\u001b[0m\u001b[37m\u001b[0m \u001b[1m3s\u001b[0m 2ms/step - accuracy: 0.9246 - loss: 0.2551 - val_accuracy: 0.9597 - val_loss: 0.1428\n",
      "Epoch 3/5\n",
      "\u001b[1m1500/1500\u001b[0m \u001b[32m━━━━━━━━━━━━━━━━━━━━\u001b[0m\u001b[37m\u001b[0m \u001b[1m3s\u001b[0m 2ms/step - accuracy: 0.9383 - loss: 0.2053 - val_accuracy: 0.9630 - val_loss: 0.1245\n",
      "Epoch 4/5\n",
      "\u001b[1m1500/1500\u001b[0m \u001b[32m━━━━━━━━━━━━━━━━━━━━\u001b[0m\u001b[37m\u001b[0m \u001b[1m3s\u001b[0m 2ms/step - accuracy: 0.9453 - loss: 0.1809 - val_accuracy: 0.9657 - val_loss: 0.1149\n",
      "Epoch 5/5\n",
      "\u001b[1m1500/1500\u001b[0m \u001b[32m━━━━━━━━━━━━━━━━━━━━\u001b[0m\u001b[37m\u001b[0m \u001b[1m3s\u001b[0m 2ms/step - accuracy: 0.9503 - loss: 0.1626 - val_accuracy: 0.9670 - val_loss: 0.1100\n"
     ]
    },
    {
     "name": "stderr",
     "output_type": "stream",
     "text": [
      "W0000 00:00:1717676668.098144      70 graph_launch.cc:671] Fallback to op-by-op mode because memset node breaks graph update\n"
     ]
    },
    {
     "name": "stdout",
     "output_type": "stream",
     "text": [
      "313/313 - 1s - 3ms/step - accuracy: 0.9674 - loss: 0.1035\n",
      "\n",
      "Test accuracy with dropout: 0.9674000144004822\n"
     ]
    }
   ],
   "source": [
    "# Rebuilding the Model with Dropout to Prevent Overfitting\n",
    "\n",
    "# Initialize a Sequential model with dropout layers\n",
    "model_dropout = Sequential([\n",
    "    Input(shape=(28, 28)),         # Input layer, specifying the shape of input data (28x28 pixels)\n",
    "    Flatten(),                     # Flatten the 28x28 images into a 1D array of 784 values\n",
    "    Dense(128, activation='relu'), # Hidden layer with 128 neurons and ReLU activation function\n",
    "    Dropout(0.5),                  # Dropout layer to prevent overfitting, with 50% dropout rate\n",
    "    Dense(10, activation='softmax')# Output layer with 10 neurons (one for each class) and softmax activation function\n",
    "])\n",
    "\n",
    "# Compile the model with dropout layers\n",
    "model_dropout.compile(optimizer='adam',\n",
    "                      loss='sparse_categorical_crossentropy',\n",
    "                      metrics=['accuracy'])\n",
    "\n",
    "# Train the model with dropout layers\n",
    "history_dropout = model_dropout.fit(x_train, y_train, epochs=5, validation_split=0.2)\n",
    "\n",
    "# Evaluate the model with dropout layers\n",
    "test_loss_dropout, test_acc_dropout = model_dropout.evaluate(x_test, y_test, verbose=2)\n",
    "print('\\nTest accuracy with dropout:', test_acc_dropout)\n"
   ]
  },
  {
   "cell_type": "markdown",
   "id": "46b4d58e",
   "metadata": {
    "papermill": {
     "duration": 0.045124,
     "end_time": "2024-06-06T12:24:29.250378",
     "exception": false,
     "start_time": "2024-06-06T12:24:29.205254",
     "status": "completed"
    },
    "tags": []
   },
   "source": [
    "### Common Challenges and Solutions\n",
    "\n",
    "**1. Overfitting:**\n",
    "- **Problem:** The model performs well on training data but poorly on unseen test data.\n",
    "- **Solutions:**\n",
    "  - **Dropout:** Randomly sets a fraction of the input units to 0 at each update during training to prevent over-reliance on specific neurons.\n",
    "  - **Regularization:** Adds a penalty to the loss function to limit model complexity. Common techniques include L1 (Lasso) and L2 (Ridge) regularization.\n",
    "  - **Increase Training Data:** Collect more data or use data augmentation techniques to create variations of existing data, which helps the model generalize better.\n",
    "\n",
    "**2. Underfitting:**\n",
    "- **Problem:** The model is too simple to capture the underlying patterns in the data, leading to poor performance on both training and test data.\n",
    "- **Solutions:**\n",
    "  - **Increase Model Complexity:** Add more layers or neurons to the network.\n",
    "  - **Use More Features:** Incorporate additional relevant features into the model.\n",
    "  - **Train Longer:** Increase the number of epochs or reduce the learning rate to allow the model to learn more effectively.\n",
    "\n",
    "**3. Vanishing/Exploding Gradients:**\n",
    "- **Problem:** Gradients become too small (vanishing) or too large (exploding) during backpropagation, causing training to stall or become unstable.\n",
    "- **Solutions:**\n",
    "  - **Appropriate Activation Functions:** Use activation functions like ReLU, which mitigate the vanishing gradient problem by allowing gradients to flow through the network.\n",
    "  - **Proper Initialization:** Use techniques like He initialization for ReLU activations or Xavier initialization for sigmoid/tanh activations to maintain gradient flow.\n",
    "  - **Gradient Clipping:** Clip gradients during backpropagation to prevent them from becoming too large.\n",
    "\n",
    "**4. Slow Training:**\n",
    "- **Problem:** Training a neural network can be time-consuming, especially with large datasets and complex models.\n",
    "- **Solutions:**\n",
    "  - **Use GPUs:** Leverage the parallel processing power of GPUs to speed up computations.\n",
    "  - **Batch Normalization:** Normalize the inputs of each layer to stabilize learning and improve convergence speed.\n",
    "  - **Efficient Algorithms:** Use optimized algorithms and libraries designed for high-performance deep learning, such as TensorFlow and PyTorch.\n",
    "\n",
    "**5. Data Imbalance:**\n",
    "- **Problem:** The training data has an unequal distribution of classes, leading to biased predictions towards the majority class.\n",
    "- **Solutions:**\n",
    "  - **Resampling:** Use techniques like oversampling the minority class or undersampling the majority class to balance the dataset.\n",
    "  - **Class Weights:** Assign higher weights to the minority class in the loss function to give it more importance during training.\n",
    "  - **Synthetic Data:** Generate synthetic data for the minority class using techniques like SMOTE (Synthetic Minority Over-sampling Technique).\n",
    "\n",
    "**6. Hyperparameter Tuning:**\n",
    "- **Problem:** Finding the optimal set of hyperparameters (e.g., learning rate, batch size, number of layers) can be challenging and time-consuming.\n",
    "- **Solutions:**\n",
    "  - **Grid Search:** Explore a predefined set of hyperparameter values systematically.\n",
    "  - **Random Search:** Sample hyperparameter values randomly within specified ranges.\n",
    "  - **Bayesian Optimization:** Use probabilistic models to find the optimal hyperparameters more efficiently.\n",
    "\n",
    "**7. Interpretability:**\n",
    "- **Problem:** Neural networks are often considered \"black boxes\" due to their complexity, making it difficult to interpret their decisions.\n",
    "- **Solutions:**\n",
    "  - **Visualization Tools:** Use tools like TensorBoard to visualize the model’s performance and understand its behavior.\n",
    "  - **Model-Agnostic Methods:** Apply techniques like SHAP (SHapley Additive exPlanations) and LIME (Local Interpretable Model-agnostic Explanations) to interpret the model’s predictions.\n",
    "  - **Simpler Models:** When possible, use simpler models like decision trees or linear models, which are inherently more interpretable.\n",
    "\n",
    "By addressing these common challenges, you can build more robust and effective neural network models.\n"
   ]
  },
  {
   "cell_type": "markdown",
   "id": "318b62ba",
   "metadata": {
    "papermill": {
     "duration": 0.045522,
     "end_time": "2024-06-06T12:24:29.341336",
     "exception": false,
     "start_time": "2024-06-06T12:24:29.295814",
     "status": "completed"
    },
    "tags": []
   },
   "source": [
    "### Resources for Further Learning\n",
    "\n",
    "- [Deep Learning by Ian Goodfellow](https://www.deeplearningbook.org/)\n",
    "- [Neural Networks and Deep Learning by Michael Nielsen](http://neuralnetworksanddeeplearning.com/)\n",
    "- [TensorFlow Documentation](https://www.tensorflow.org/tutorials)\n",
    "- [Keras Documentation](https://keras.io/)\n"
   ]
  },
  {
   "cell_type": "markdown",
   "id": "b09beb29",
   "metadata": {
    "papermill": {
     "duration": 0.045628,
     "end_time": "2024-06-06T12:24:29.432516",
     "exception": false,
     "start_time": "2024-06-06T12:24:29.386888",
     "status": "completed"
    },
    "tags": []
   },
   "source": [
    "### Conclusion\n",
    "\n",
    "In this notebook, we covered the basics of neural networks, including what they are, their key components, and how they work. We built a simple model to classify handwritten digits from the MNIST dataset, and we discussed common challenges and solutions in neural network training. This notebook serves as an introduction, providing a foundation for further exploration into more advanced topics such as convolutional neural networks (CNNs), recurrent neural networks (RNNs), and deep learning frameworks like TensorFlow and PyTorch.\n",
    "\n",
    "While this guide covers essential concepts and practical steps, neural networks are a vast field with continuous advancements and complexities. To truly master neural networks, you'll need to dive deeper into specific areas, experiment with different architectures, and stay updated with the latest research.\n",
    "\n",
    "With this foundation, you're ready to explore more advanced topics and applications. Keep learning, experimenting, and pushing the boundaries of what you can achieve with neural networks.\n",
    "\n",
    "Happy learning!\n"
   ]
  }
 ],
 "metadata": {
  "kaggle": {
   "accelerator": "nvidiaTeslaT4",
   "dataSources": [],
   "dockerImageVersionId": 30699,
   "isGpuEnabled": true,
   "isInternetEnabled": true,
   "language": "python",
   "sourceType": "notebook"
  },
  "kernelspec": {
   "display_name": "Python 3",
   "language": "python",
   "name": "python3"
  },
  "language_info": {
   "codemirror_mode": {
    "name": "ipython",
    "version": 3
   },
   "file_extension": ".py",
   "mimetype": "text/x-python",
   "name": "python",
   "nbconvert_exporter": "python",
   "pygments_lexer": "ipython3",
   "version": "3.10.13"
  },
  "papermill": {
   "default_parameters": {},
   "duration": 62.78453,
   "end_time": "2024-06-06T12:24:31.141099",
   "environment_variables": {},
   "exception": null,
   "input_path": "__notebook__.ipynb",
   "output_path": "__notebook__.ipynb",
   "parameters": {},
   "start_time": "2024-06-06T12:23:28.356569",
   "version": "2.5.0"
  }
 },
 "nbformat": 4,
 "nbformat_minor": 5
}
