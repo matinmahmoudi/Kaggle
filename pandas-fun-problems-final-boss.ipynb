{
 "cells": [
  {
   "cell_type": "markdown",
   "id": "b7950a7d",
   "metadata": {
    "papermill": {
     "duration": 0.008112,
     "end_time": "2024-05-01T06:26:09.175055",
     "exception": false,
     "start_time": "2024-05-01T06:26:09.166943",
     "status": "completed"
    },
    "tags": []
   },
   "source": [
    "# Pandas Fun Problems - Final Boss\n",
    "\n",
    "Welcome to the ultimate challenge in our Pandas series! This notebook is the pinnacle of our journey through data manipulation with Pandas, where you'll face the most demanding problems yet. Designed for those who seek to test their limits, this set of problems is dubbed the \"Final Boss\" for good reason.\n",
    "\n",
    "Before attempting these challenges, make sure you have worked through the previous notebooks in this series. It is particularly crucial that you've completed the **[Pandas Fun Problems - Advanced](https://www.kaggle.com/code/matinmahmoudi/pandas-fun-problems-advanced/)** notebook. The advanced notebook covers sophisticated techniques and operations that will be essential for conquering the challenges ahead.\n",
    "\n",
    "- **Practice Problems Source:** [Final Boss Problems](https://www.practiceprobs.com/problemsets/python-pandas/final-boss/)\n",
    "- **YouTube Tutorial:** [Video Guide](https://www.youtube.com/watch?v=8xUgesdShE8)\n",
    "\n",
    "\n",
    "As always, we encourage you to share your solutions, thoughts, and questions in the comments. Your engagement not only enriches your learning experience but also supports others on their path to mastering Pandas.\n",
    "\n",
    "### **Found this notebook challenging and rewarding? Show your support with an upvote!**\n"
   ]
  },
  {
   "cell_type": "markdown",
   "id": "e87d48b5",
   "metadata": {
    "papermill": {
     "duration": 0.007233,
     "end_time": "2024-05-01T06:26:09.190067",
     "exception": false,
     "start_time": "2024-05-01T06:26:09.182834",
     "status": "completed"
    },
    "tags": []
   },
   "source": [
    "# Q1 - COVID Tracing Problem"
   ]
  },
  {
   "cell_type": "markdown",
   "id": "3c9e96d9",
   "metadata": {
    "papermill": {
     "duration": 0.007124,
     "end_time": "2024-05-01T06:26:09.205222",
     "exception": false,
     "start_time": "2024-05-01T06:26:09.198098",
     "status": "completed"
    },
    "tags": []
   },
   "source": [
    "https://www.practiceprobs.com/problemsets/python-pandas/final-boss/covid-tracing/"
   ]
  },
  {
   "cell_type": "markdown",
   "id": "38e997d1",
   "metadata": {
    "papermill": {
     "duration": 0.007289,
     "end_time": "2024-05-01T06:26:09.220092",
     "exception": false,
     "start_time": "2024-05-01T06:26:09.212803",
     "status": "completed"
    },
    "tags": []
   },
   "source": [
    "You track the whereabouts of 100 individuals in a DataFrame called whereabouts. Each person has a corresponding list of place ids indicating the places they’ve visited in the recent week. You also track which places have been exposed to COVID-19 in a list called exposed 😷.\n"
   ]
  },
  {
   "cell_type": "code",
   "execution_count": 1,
   "id": "1c9c0dd6",
   "metadata": {
    "execution": {
     "iopub.execute_input": "2024-05-01T06:26:09.237291Z",
     "iopub.status.busy": "2024-05-01T06:26:09.236350Z",
     "iopub.status.idle": "2024-05-01T06:26:10.133445Z",
     "shell.execute_reply": "2024-05-01T06:26:10.132340Z"
    },
    "papermill": {
     "duration": 0.908289,
     "end_time": "2024-05-01T06:26:10.135922",
     "exception": false,
     "start_time": "2024-05-01T06:26:09.227633",
     "status": "completed"
    },
    "tags": []
   },
   "outputs": [
    {
     "name": "stdout",
     "output_type": "stream",
     "text": [
      "   person_id              places\n",
      "0          0        [3, 4, 5, 6]\n",
      "1          1                  []\n",
      "2          2                 [3]\n",
      "3          3           [6, 8, 9]\n",
      "4          4                 [3]\n",
      "5          5  [0, 2, 5, 6, 7, 8]\n",
      "6          6              [2, 7]\n",
      "7          7        [0, 5, 8, 9]\n",
      "8          8           [2, 7, 9]\n",
      "9          9        [0, 5, 8, 9]\n"
     ]
    }
   ],
   "source": [
    "import numpy as np\n",
    "import pandas as pd\n",
    "\n",
    "# exposed places\n",
    "exposed = [0,5,9]\n",
    "\n",
    "# whereabouts of each person\n",
    "generator = np.random.default_rng(2468)\n",
    "Nplaces = 10\n",
    "Npersons = 10\n",
    "place_ids = np.arange(Nplaces)\n",
    "visits = generator.choice(place_ids, size=3*Nplaces, replace=True)\n",
    "split_idxs = np.sort(generator.choice(len(visits), size=9, replace=True))\n",
    "whereabouts = pd.DataFrame({\n",
    "    'person_id': range(Npersons),\n",
    "    'places': [np.unique(x).tolist() for x in np.array_split(visits, split_idxs)]\n",
    "})\n",
    "\n",
    "print(whereabouts)\n",
    "#    person_id              places\n",
    "# 0          0        [3, 4, 5, 6]\n",
    "# 1          1                  []\n",
    "# 2          2                 [3]\n",
    "# 3          3           [6, 8, 9]\n",
    "# 4          4                 [3]\n",
    "# 5          5  [0, 2, 5, 6, 7, 8]\n",
    "# 6          6              [2, 7]\n",
    "# 7          7        [0, 5, 8, 9]\n",
    "# 8          8           [2, 7, 9]\n",
    "# 9          9        [0, 5, 8, 9]"
   ]
  },
  {
   "cell_type": "markdown",
   "id": "26ee54fb",
   "metadata": {
    "papermill": {
     "duration": 0.00746,
     "end_time": "2024-05-01T06:26:10.151267",
     "exception": false,
     "start_time": "2024-05-01T06:26:10.143807",
     "status": "completed"
    },
    "tags": []
   },
   "source": [
    "For each person, identify the places they visited which have been exposed. Make this a new list-column in whereabouts called exposures.\n",
    "\n"
   ]
  },
  {
   "cell_type": "markdown",
   "id": "cff282c2",
   "metadata": {
    "papermill": {
     "duration": 0.007774,
     "end_time": "2024-05-01T06:26:10.166691",
     "exception": false,
     "start_time": "2024-05-01T06:26:10.158917",
     "status": "completed"
    },
    "tags": []
   },
   "source": [
    "## Solution 1"
   ]
  },
  {
   "cell_type": "code",
   "execution_count": 2,
   "id": "89808b36",
   "metadata": {
    "execution": {
     "iopub.execute_input": "2024-05-01T06:26:10.184617Z",
     "iopub.status.busy": "2024-05-01T06:26:10.183598Z",
     "iopub.status.idle": "2024-05-01T06:26:10.208698Z",
     "shell.execute_reply": "2024-05-01T06:26:10.207627Z"
    },
    "papermill": {
     "duration": 0.036907,
     "end_time": "2024-05-01T06:26:10.211290",
     "exception": false,
     "start_time": "2024-05-01T06:26:10.174383",
     "status": "completed"
    },
    "tags": []
   },
   "outputs": [
    {
     "data": {
      "text/html": [
       "<div>\n",
       "<style scoped>\n",
       "    .dataframe tbody tr th:only-of-type {\n",
       "        vertical-align: middle;\n",
       "    }\n",
       "\n",
       "    .dataframe tbody tr th {\n",
       "        vertical-align: top;\n",
       "    }\n",
       "\n",
       "    .dataframe thead th {\n",
       "        text-align: right;\n",
       "    }\n",
       "</style>\n",
       "<table border=\"1\" class=\"dataframe\">\n",
       "  <thead>\n",
       "    <tr style=\"text-align: right;\">\n",
       "      <th></th>\n",
       "      <th>person_id</th>\n",
       "      <th>places</th>\n",
       "      <th>exposures</th>\n",
       "    </tr>\n",
       "  </thead>\n",
       "  <tbody>\n",
       "    <tr>\n",
       "      <th>0</th>\n",
       "      <td>0</td>\n",
       "      <td>[3, 4, 5, 6]</td>\n",
       "      <td>[5]</td>\n",
       "    </tr>\n",
       "    <tr>\n",
       "      <th>1</th>\n",
       "      <td>1</td>\n",
       "      <td>[]</td>\n",
       "      <td>[]</td>\n",
       "    </tr>\n",
       "    <tr>\n",
       "      <th>2</th>\n",
       "      <td>2</td>\n",
       "      <td>[3]</td>\n",
       "      <td>[]</td>\n",
       "    </tr>\n",
       "    <tr>\n",
       "      <th>3</th>\n",
       "      <td>3</td>\n",
       "      <td>[6, 8, 9]</td>\n",
       "      <td>[9]</td>\n",
       "    </tr>\n",
       "    <tr>\n",
       "      <th>4</th>\n",
       "      <td>4</td>\n",
       "      <td>[3]</td>\n",
       "      <td>[]</td>\n",
       "    </tr>\n",
       "    <tr>\n",
       "      <th>5</th>\n",
       "      <td>5</td>\n",
       "      <td>[0, 2, 5, 6, 7, 8]</td>\n",
       "      <td>[0, 5]</td>\n",
       "    </tr>\n",
       "    <tr>\n",
       "      <th>6</th>\n",
       "      <td>6</td>\n",
       "      <td>[2, 7]</td>\n",
       "      <td>[]</td>\n",
       "    </tr>\n",
       "    <tr>\n",
       "      <th>7</th>\n",
       "      <td>7</td>\n",
       "      <td>[0, 5, 8, 9]</td>\n",
       "      <td>[0, 9, 5]</td>\n",
       "    </tr>\n",
       "    <tr>\n",
       "      <th>8</th>\n",
       "      <td>8</td>\n",
       "      <td>[2, 7, 9]</td>\n",
       "      <td>[9]</td>\n",
       "    </tr>\n",
       "    <tr>\n",
       "      <th>9</th>\n",
       "      <td>9</td>\n",
       "      <td>[0, 5, 8, 9]</td>\n",
       "      <td>[0, 9, 5]</td>\n",
       "    </tr>\n",
       "  </tbody>\n",
       "</table>\n",
       "</div>"
      ],
      "text/plain": [
       "   person_id              places  exposures\n",
       "0          0        [3, 4, 5, 6]        [5]\n",
       "1          1                  []         []\n",
       "2          2                 [3]         []\n",
       "3          3           [6, 8, 9]        [9]\n",
       "4          4                 [3]         []\n",
       "5          5  [0, 2, 5, 6, 7, 8]     [0, 5]\n",
       "6          6              [2, 7]         []\n",
       "7          7        [0, 5, 8, 9]  [0, 9, 5]\n",
       "8          8           [2, 7, 9]        [9]\n",
       "9          9        [0, 5, 8, 9]  [0, 9, 5]"
      ]
     },
     "execution_count": 2,
     "metadata": {},
     "output_type": "execute_result"
    }
   ],
   "source": [
    "whereabouts['exposures'] = whereabouts['places'].apply(lambda x: list(set(x) & set(exposed)))\n",
    "whereabouts"
   ]
  },
  {
   "cell_type": "markdown",
   "id": "f61ca604",
   "metadata": {
    "papermill": {
     "duration": 0.007782,
     "end_time": "2024-05-01T06:26:10.227294",
     "exception": false,
     "start_time": "2024-05-01T06:26:10.219512",
     "status": "completed"
    },
    "tags": []
   },
   "source": [
    "## Solution 2"
   ]
  },
  {
   "cell_type": "code",
   "execution_count": 3,
   "id": "03e4d958",
   "metadata": {
    "execution": {
     "iopub.execute_input": "2024-05-01T06:26:10.244756Z",
     "iopub.status.busy": "2024-05-01T06:26:10.244353Z",
     "iopub.status.idle": "2024-05-01T06:26:10.264632Z",
     "shell.execute_reply": "2024-05-01T06:26:10.263577Z"
    },
    "papermill": {
     "duration": 0.031794,
     "end_time": "2024-05-01T06:26:10.266928",
     "exception": false,
     "start_time": "2024-05-01T06:26:10.235134",
     "status": "completed"
    },
    "tags": []
   },
   "outputs": [
    {
     "data": {
      "text/html": [
       "<div>\n",
       "<style scoped>\n",
       "    .dataframe tbody tr th:only-of-type {\n",
       "        vertical-align: middle;\n",
       "    }\n",
       "\n",
       "    .dataframe tbody tr th {\n",
       "        vertical-align: top;\n",
       "    }\n",
       "\n",
       "    .dataframe thead th {\n",
       "        text-align: right;\n",
       "    }\n",
       "</style>\n",
       "<table border=\"1\" class=\"dataframe\">\n",
       "  <thead>\n",
       "    <tr style=\"text-align: right;\">\n",
       "      <th></th>\n",
       "      <th>person_id</th>\n",
       "      <th>places</th>\n",
       "      <th>exposures</th>\n",
       "    </tr>\n",
       "  </thead>\n",
       "  <tbody>\n",
       "    <tr>\n",
       "      <th>0</th>\n",
       "      <td>0</td>\n",
       "      <td>[3, 4, 5, 6]</td>\n",
       "      <td>[5]</td>\n",
       "    </tr>\n",
       "    <tr>\n",
       "      <th>1</th>\n",
       "      <td>1</td>\n",
       "      <td>[]</td>\n",
       "      <td>[]</td>\n",
       "    </tr>\n",
       "    <tr>\n",
       "      <th>2</th>\n",
       "      <td>2</td>\n",
       "      <td>[3]</td>\n",
       "      <td>[]</td>\n",
       "    </tr>\n",
       "    <tr>\n",
       "      <th>3</th>\n",
       "      <td>3</td>\n",
       "      <td>[6, 8, 9]</td>\n",
       "      <td>[9]</td>\n",
       "    </tr>\n",
       "    <tr>\n",
       "      <th>4</th>\n",
       "      <td>4</td>\n",
       "      <td>[3]</td>\n",
       "      <td>[]</td>\n",
       "    </tr>\n",
       "    <tr>\n",
       "      <th>5</th>\n",
       "      <td>5</td>\n",
       "      <td>[0, 2, 5, 6, 7, 8]</td>\n",
       "      <td>[0, 5]</td>\n",
       "    </tr>\n",
       "    <tr>\n",
       "      <th>6</th>\n",
       "      <td>6</td>\n",
       "      <td>[2, 7]</td>\n",
       "      <td>[]</td>\n",
       "    </tr>\n",
       "    <tr>\n",
       "      <th>7</th>\n",
       "      <td>7</td>\n",
       "      <td>[0, 5, 8, 9]</td>\n",
       "      <td>[0, 9, 5]</td>\n",
       "    </tr>\n",
       "    <tr>\n",
       "      <th>8</th>\n",
       "      <td>8</td>\n",
       "      <td>[2, 7, 9]</td>\n",
       "      <td>[9]</td>\n",
       "    </tr>\n",
       "    <tr>\n",
       "      <th>9</th>\n",
       "      <td>9</td>\n",
       "      <td>[0, 5, 8, 9]</td>\n",
       "      <td>[0, 9, 5]</td>\n",
       "    </tr>\n",
       "  </tbody>\n",
       "</table>\n",
       "</div>"
      ],
      "text/plain": [
       "   person_id              places  exposures\n",
       "0          0        [3, 4, 5, 6]        [5]\n",
       "1          1                  []         []\n",
       "2          2                 [3]         []\n",
       "3          3           [6, 8, 9]        [9]\n",
       "4          4                 [3]         []\n",
       "5          5  [0, 2, 5, 6, 7, 8]     [0, 5]\n",
       "6          6              [2, 7]         []\n",
       "7          7        [0, 5, 8, 9]  [0, 9, 5]\n",
       "8          8           [2, 7, 9]        [9]\n",
       "9          9        [0, 5, 8, 9]  [0, 9, 5]"
      ]
     },
     "execution_count": 3,
     "metadata": {},
     "output_type": "execute_result"
    }
   ],
   "source": [
    "whereabouts['exposures'] = [list(set(x) & set(exposed)) for x in whereabouts['places']]\n",
    "whereabouts"
   ]
  },
  {
   "cell_type": "markdown",
   "id": "14c31895",
   "metadata": {
    "papermill": {
     "duration": 0.008444,
     "end_time": "2024-05-01T06:26:10.283692",
     "exception": false,
     "start_time": "2024-05-01T06:26:10.275248",
     "status": "completed"
    },
    "tags": []
   },
   "source": [
    "# Q2 - Pickle Problem"
   ]
  },
  {
   "cell_type": "markdown",
   "id": "c8967651",
   "metadata": {
    "papermill": {
     "duration": 0.008809,
     "end_time": "2024-05-01T06:26:10.301217",
     "exception": false,
     "start_time": "2024-05-01T06:26:10.292408",
     "status": "completed"
    },
    "tags": []
   },
   "source": [
    "Given a Series called pickle, replace NaNs using the following algorithm.\n"
   ]
  },
  {
   "cell_type": "markdown",
   "id": "ccf72ab3",
   "metadata": {
    "papermill": {
     "duration": 0.007849,
     "end_time": "2024-05-01T06:26:10.317256",
     "exception": false,
     "start_time": "2024-05-01T06:26:10.309407",
     "status": "completed"
    },
    "tags": []
   },
   "source": [
    "https://www.practiceprobs.com/problemsets/python-pandas/final-boss/pickle/"
   ]
  },
  {
   "cell_type": "code",
   "execution_count": 4,
   "id": "65ecbb62",
   "metadata": {
    "execution": {
     "iopub.execute_input": "2024-05-01T06:26:10.335352Z",
     "iopub.status.busy": "2024-05-01T06:26:10.334976Z",
     "iopub.status.idle": "2024-05-01T06:26:10.341789Z",
     "shell.execute_reply": "2024-05-01T06:26:10.340751Z"
    },
    "papermill": {
     "duration": 0.018809,
     "end_time": "2024-05-01T06:26:10.344209",
     "exception": false,
     "start_time": "2024-05-01T06:26:10.325400",
     "status": "completed"
    },
    "tags": []
   },
   "outputs": [
    {
     "data": {
      "text/plain": [
       "'\\nfor each NaN:\\n  get the nearest non NaN value before and after it\\n  if both of those values exist:\\n    replace NaN with the minimum of those two non NaN values\\n  else:\\n    replace NaN with the nearest non NaN value\\n'"
      ]
     },
     "execution_count": 4,
     "metadata": {},
     "output_type": "execute_result"
    }
   ],
   "source": [
    "'''\n",
    "for each NaN:\n",
    "  get the nearest non NaN value before and after it\n",
    "  if both of those values exist:\n",
    "    replace NaN with the minimum of those two non NaN values\n",
    "  else:\n",
    "    replace NaN with the nearest non NaN value\n",
    "'''"
   ]
  },
  {
   "cell_type": "code",
   "execution_count": 5,
   "id": "c3228f15",
   "metadata": {
    "execution": {
     "iopub.execute_input": "2024-05-01T06:26:10.363123Z",
     "iopub.status.busy": "2024-05-01T06:26:10.362418Z",
     "iopub.status.idle": "2024-05-01T06:26:10.373335Z",
     "shell.execute_reply": "2024-05-01T06:26:10.372215Z"
    },
    "papermill": {
     "duration": 0.023299,
     "end_time": "2024-05-01T06:26:10.375965",
     "exception": false,
     "start_time": "2024-05-01T06:26:10.352666",
     "status": "completed"
    },
    "tags": []
   },
   "outputs": [
    {
     "name": "stdout",
     "output_type": "stream",
     "text": [
      "0     1.5\n",
      "1     NaN\n",
      "2     2.3\n",
      "3     NaN\n",
      "4     NaN\n",
      "5    -3.9\n",
      "6     NaN\n",
      "7     4.5\n",
      "8     NaN\n",
      "9     NaN\n",
      "10    NaN\n",
      "11    1.9\n",
      "12    NaN\n",
      "dtype: float64\n"
     ]
    }
   ],
   "source": [
    "import numpy as np\n",
    "import pandas as pd\n",
    "\n",
    "pickle = pd.Series([1.5, np.nan, 2.3, np.nan, np.nan, -3.9, np.nan, 4.5, np.nan, np.nan, np.nan, 1.9, np.nan])\n",
    "\n",
    "print(pickle)\n",
    "# 0     1.5\n",
    "# 1     NaN\n",
    "# 2     2.3\n",
    "# 3     NaN\n",
    "# 4     NaN\n",
    "# 5    -3.9\n",
    "# 6     NaN\n",
    "# 7     4.5\n",
    "# 8     NaN\n",
    "# 9     NaN\n",
    "# 10    NaN\n",
    "# 11    1.9\n",
    "# 12    NaN\n",
    "# dtype: float64"
   ]
  },
  {
   "cell_type": "markdown",
   "id": "209831b2",
   "metadata": {
    "papermill": {
     "duration": 0.008516,
     "end_time": "2024-05-01T06:26:10.393090",
     "exception": false,
     "start_time": "2024-05-01T06:26:10.384574",
     "status": "completed"
    },
    "tags": []
   },
   "source": [
    "## Solution "
   ]
  },
  {
   "cell_type": "code",
   "execution_count": 6,
   "id": "c6266d09",
   "metadata": {
    "execution": {
     "iopub.execute_input": "2024-05-01T06:26:10.412063Z",
     "iopub.status.busy": "2024-05-01T06:26:10.411698Z",
     "iopub.status.idle": "2024-05-01T06:26:10.427558Z",
     "shell.execute_reply": "2024-05-01T06:26:10.426459Z"
    },
    "papermill": {
     "duration": 0.030188,
     "end_time": "2024-05-01T06:26:10.431948",
     "exception": false,
     "start_time": "2024-05-01T06:26:10.401760",
     "status": "completed"
    },
    "tags": []
   },
   "outputs": [
    {
     "name": "stdout",
     "output_type": "stream",
     "text": [
      "0     1.5\n",
      "1     1.5\n",
      "2     2.3\n",
      "3    -3.9\n",
      "4    -3.9\n",
      "5    -3.9\n",
      "6    -3.9\n",
      "7     4.5\n",
      "8     1.9\n",
      "9     1.9\n",
      "10    1.9\n",
      "11    1.9\n",
      "12    1.9\n",
      "dtype: float64\n"
     ]
    },
    {
     "name": "stderr",
     "output_type": "stream",
     "text": [
      "/tmp/ipykernel_18/3132165669.py:2: FutureWarning: Series.fillna with 'method' is deprecated and will raise in a future version. Use obj.ffill() or obj.bfill() instead.\n",
      "  forward_filled = series.fillna(method='ffill')\n",
      "/tmp/ipykernel_18/3132165669.py:3: FutureWarning: Series.fillna with 'method' is deprecated and will raise in a future version. Use obj.ffill() or obj.bfill() instead.\n",
      "  backward_filled = series.fillna(method='bfill')\n"
     ]
    }
   ],
   "source": [
    "def fillna_custom(series):\n",
    "    forward_filled = series.fillna(method='ffill')\n",
    "    backward_filled = series.fillna(method='bfill')\n",
    "    min_filled = pd.concat([forward_filled, backward_filled], axis=1).min(axis=1)\n",
    "    return min_filled\n",
    "\n",
    "pickle_filled = fillna_custom(pickle)\n",
    "print(pickle_filled)"
   ]
  },
  {
   "cell_type": "markdown",
   "id": "6df8cbe8",
   "metadata": {
    "papermill": {
     "duration": 0.00866,
     "end_time": "2024-05-01T06:26:10.449465",
     "exception": false,
     "start_time": "2024-05-01T06:26:10.440805",
     "status": "completed"
    },
    "tags": []
   },
   "source": [
    "# Q3 - TV Commercials Problem"
   ]
  },
  {
   "cell_type": "markdown",
   "id": "24bb00f5",
   "metadata": {
    "papermill": {
     "duration": 0.008562,
     "end_time": "2024-05-01T06:26:10.466747",
     "exception": false,
     "start_time": "2024-05-01T06:26:10.458185",
     "status": "completed"
    },
    "tags": []
   },
   "source": [
    "https://www.practiceprobs.com/problemsets/python-pandas/final-boss/tv-commercials/"
   ]
  },
  {
   "cell_type": "markdown",
   "id": "17ffbe10",
   "metadata": {
    "papermill": {
     "duration": 0.008596,
     "end_time": "2024-05-01T06:26:10.484128",
     "exception": false,
     "start_time": "2024-05-01T06:26:10.475532",
     "status": "completed"
    },
    "tags": []
   },
   "source": [
    "You own a national restaurant chain called Applewasps. To increase sales, you decide to launch a multi-regional television marketing campaign.\n",
    "\n",
    "At the end of the campaign you have a table of commercials indicating when and where each commercial aired, and a table of sales indicating when and where customers generated sales.\n",
    "\n"
   ]
  },
  {
   "cell_type": "code",
   "execution_count": 7,
   "id": "d101a6c2",
   "metadata": {
    "execution": {
     "iopub.execute_input": "2024-05-01T06:26:10.503517Z",
     "iopub.status.busy": "2024-05-01T06:26:10.503142Z",
     "iopub.status.idle": "2024-05-01T06:26:10.525336Z",
     "shell.execute_reply": "2024-05-01T06:26:10.524223Z"
    },
    "papermill": {
     "duration": 0.035208,
     "end_time": "2024-05-01T06:26:10.528191",
     "exception": false,
     "start_time": "2024-05-01T06:26:10.492983",
     "status": "completed"
    },
    "tags": []
   },
   "outputs": [
    {
     "name": "stdout",
     "output_type": "stream",
     "text": [
      "   commercial_id region           date_time\n",
      "0              0   west 2020-01-10 12:00:00\n",
      "1              1  north 2020-01-10 16:00:00\n",
      "2              2  south 2020-01-09 01:00:00\n",
      "3              3   east 2020-01-10 19:00:00\n",
      "4              4  south 2020-01-08 22:00:00\n",
      "5              5   east 2020-01-03 02:00:00\n",
      "6              6  south 2020-01-07 15:00:00\n",
      "7              7   west 2020-01-05 22:00:00\n",
      "8              8   east 2020-01-03 04:00:00\n",
      "9              9   west 2020-01-05 04:00:00\n",
      "   sale_id region           date_time  revenue\n",
      "0        0   west 2020-01-05 08:00:00    20.14\n",
      "1        1   east 2020-01-08 22:00:00    22.98\n",
      "2        2  south 2020-01-07 21:00:00    22.98\n",
      "3        3   west 2020-01-05 17:00:00    16.82\n",
      "4        4   west 2020-01-02 12:00:00    20.47\n",
      "5        5   east 2020-01-10 09:00:00    26.93\n",
      "6        6  north 2020-01-08 19:00:00    20.25\n",
      "7        7  south 2020-01-01 08:00:00    23.38\n",
      "8        8  south 2020-01-01 17:00:00    25.74\n",
      "9        9  south 2020-01-10 22:00:00    22.28\n"
     ]
    }
   ],
   "source": [
    "import numpy as np\n",
    "import pandas as pd\n",
    "\n",
    "generator = np.random.default_rng(5555)\n",
    "regions = ['north', 'south', 'east', 'west']\n",
    "\n",
    "commercials = pd.DataFrame({\n",
    "    'commercial_id': range(10),\n",
    "    'region': generator.choice(regions, size=10),\n",
    "    'date_time': pd.to_datetime('2020-01-01') + pd.to_timedelta(generator.integers(240, size=10), unit='h')\n",
    "})\n",
    "\n",
    "sales = pd.DataFrame({\n",
    "    'sale_id': range(10),\n",
    "    'region': generator.choice(regions, size=10),\n",
    "    'date_time': pd.to_datetime('2020-01-01') + pd.to_timedelta(generator.integers(240, size=10), unit='h'),\n",
    "    'revenue': np.round(generator.normal(loc=20, scale=5, size=10), 2)\n",
    "})\n",
    "\n",
    "print(commercials)\n",
    "#    commercial_id region           date_time\n",
    "# 0              0   west 2020-01-10 12:00:00\n",
    "# 1              1  north 2020-01-10 16:00:00\n",
    "# 2              2  south 2020-01-09 01:00:00\n",
    "# 3              3   east 2020-01-10 19:00:00\n",
    "# 4              4  south 2020-01-08 22:00:00\n",
    "# 5              5   east 2020-01-03 02:00:00\n",
    "# 6              6  south 2020-01-07 15:00:00\n",
    "# 7              7   west 2020-01-05 22:00:00\n",
    "# 8              8   east 2020-01-03 04:00:00\n",
    "# 9              9   west 2020-01-05 04:00:00\n",
    "\n",
    "print(sales)\n",
    "#    sale_id region           date_time  revenue\n",
    "# 0        0   west 2020-01-05 08:00:00    20.14\n",
    "# 1        1   east 2020-01-08 22:00:00    22.98\n",
    "# 2        2  south 2020-01-07 21:00:00    22.98\n",
    "# 3        3   west 2020-01-05 17:00:00    16.82\n",
    "# 4        4   west 2020-01-02 12:00:00    20.47\n",
    "# 5        5   east 2020-01-10 09:00:00    26.93\n",
    "# 6        6  north 2020-01-08 19:00:00    20.25\n",
    "# 7        7  south 2020-01-01 08:00:00    23.38\n",
    "# 8        8  south 2020-01-01 17:00:00    25.74\n",
    "# 9        9  south 2020-01-10 22:00:00    22.28"
   ]
  },
  {
   "cell_type": "markdown",
   "id": "0ab0fd00",
   "metadata": {
    "papermill": {
     "duration": 0.008857,
     "end_time": "2024-05-01T06:26:10.546008",
     "exception": false,
     "start_time": "2024-05-01T06:26:10.537151",
     "status": "completed"
    },
    "tags": []
   },
   "source": [
    "In order to analyze the performance of each commercial, map each sale to the commercial that aired prior to the sale, in the same region.\n",
    "\n"
   ]
  },
  {
   "cell_type": "markdown",
   "id": "8422b7f1",
   "metadata": {
    "papermill": {
     "duration": 0.008652,
     "end_time": "2024-05-01T06:26:10.563637",
     "exception": false,
     "start_time": "2024-05-01T06:26:10.554985",
     "status": "completed"
    },
    "tags": []
   },
   "source": [
    "## Solution"
   ]
  },
  {
   "cell_type": "code",
   "execution_count": 8,
   "id": "92385c08",
   "metadata": {
    "execution": {
     "iopub.execute_input": "2024-05-01T06:26:10.583526Z",
     "iopub.status.busy": "2024-05-01T06:26:10.583154Z",
     "iopub.status.idle": "2024-05-01T06:26:10.596297Z",
     "shell.execute_reply": "2024-05-01T06:26:10.595070Z"
    },
    "papermill": {
     "duration": 0.026028,
     "end_time": "2024-05-01T06:26:10.598666",
     "exception": false,
     "start_time": "2024-05-01T06:26:10.572638",
     "status": "completed"
    },
    "tags": []
   },
   "outputs": [
    {
     "data": {
      "text/html": [
       "<div>\n",
       "<style scoped>\n",
       "    .dataframe tbody tr th:only-of-type {\n",
       "        vertical-align: middle;\n",
       "    }\n",
       "\n",
       "    .dataframe tbody tr th {\n",
       "        vertical-align: top;\n",
       "    }\n",
       "\n",
       "    .dataframe thead th {\n",
       "        text-align: right;\n",
       "    }\n",
       "</style>\n",
       "<table border=\"1\" class=\"dataframe\">\n",
       "  <thead>\n",
       "    <tr style=\"text-align: right;\">\n",
       "      <th></th>\n",
       "      <th>commercial_id</th>\n",
       "      <th>region</th>\n",
       "      <th>date_time</th>\n",
       "    </tr>\n",
       "  </thead>\n",
       "  <tbody>\n",
       "    <tr>\n",
       "      <th>5</th>\n",
       "      <td>5</td>\n",
       "      <td>east</td>\n",
       "      <td>2020-01-03 02:00:00</td>\n",
       "    </tr>\n",
       "    <tr>\n",
       "      <th>8</th>\n",
       "      <td>8</td>\n",
       "      <td>east</td>\n",
       "      <td>2020-01-03 04:00:00</td>\n",
       "    </tr>\n",
       "    <tr>\n",
       "      <th>9</th>\n",
       "      <td>9</td>\n",
       "      <td>west</td>\n",
       "      <td>2020-01-05 04:00:00</td>\n",
       "    </tr>\n",
       "    <tr>\n",
       "      <th>7</th>\n",
       "      <td>7</td>\n",
       "      <td>west</td>\n",
       "      <td>2020-01-05 22:00:00</td>\n",
       "    </tr>\n",
       "    <tr>\n",
       "      <th>6</th>\n",
       "      <td>6</td>\n",
       "      <td>south</td>\n",
       "      <td>2020-01-07 15:00:00</td>\n",
       "    </tr>\n",
       "    <tr>\n",
       "      <th>4</th>\n",
       "      <td>4</td>\n",
       "      <td>south</td>\n",
       "      <td>2020-01-08 22:00:00</td>\n",
       "    </tr>\n",
       "    <tr>\n",
       "      <th>2</th>\n",
       "      <td>2</td>\n",
       "      <td>south</td>\n",
       "      <td>2020-01-09 01:00:00</td>\n",
       "    </tr>\n",
       "    <tr>\n",
       "      <th>0</th>\n",
       "      <td>0</td>\n",
       "      <td>west</td>\n",
       "      <td>2020-01-10 12:00:00</td>\n",
       "    </tr>\n",
       "    <tr>\n",
       "      <th>1</th>\n",
       "      <td>1</td>\n",
       "      <td>north</td>\n",
       "      <td>2020-01-10 16:00:00</td>\n",
       "    </tr>\n",
       "    <tr>\n",
       "      <th>3</th>\n",
       "      <td>3</td>\n",
       "      <td>east</td>\n",
       "      <td>2020-01-10 19:00:00</td>\n",
       "    </tr>\n",
       "  </tbody>\n",
       "</table>\n",
       "</div>"
      ],
      "text/plain": [
       "   commercial_id region           date_time\n",
       "5              5   east 2020-01-03 02:00:00\n",
       "8              8   east 2020-01-03 04:00:00\n",
       "9              9   west 2020-01-05 04:00:00\n",
       "7              7   west 2020-01-05 22:00:00\n",
       "6              6  south 2020-01-07 15:00:00\n",
       "4              4  south 2020-01-08 22:00:00\n",
       "2              2  south 2020-01-09 01:00:00\n",
       "0              0   west 2020-01-10 12:00:00\n",
       "1              1  north 2020-01-10 16:00:00\n",
       "3              3   east 2020-01-10 19:00:00"
      ]
     },
     "execution_count": 8,
     "metadata": {},
     "output_type": "execute_result"
    }
   ],
   "source": [
    "commercials.sort_values('date_time', inplace=True)\n",
    "commercials"
   ]
  },
  {
   "cell_type": "code",
   "execution_count": 9,
   "id": "b41b189f",
   "metadata": {
    "execution": {
     "iopub.execute_input": "2024-05-01T06:26:10.619023Z",
     "iopub.status.busy": "2024-05-01T06:26:10.618652Z",
     "iopub.status.idle": "2024-05-01T06:26:10.635613Z",
     "shell.execute_reply": "2024-05-01T06:26:10.634479Z"
    },
    "papermill": {
     "duration": 0.029913,
     "end_time": "2024-05-01T06:26:10.637901",
     "exception": false,
     "start_time": "2024-05-01T06:26:10.607988",
     "status": "completed"
    },
    "tags": []
   },
   "outputs": [
    {
     "data": {
      "text/html": [
       "<div>\n",
       "<style scoped>\n",
       "    .dataframe tbody tr th:only-of-type {\n",
       "        vertical-align: middle;\n",
       "    }\n",
       "\n",
       "    .dataframe tbody tr th {\n",
       "        vertical-align: top;\n",
       "    }\n",
       "\n",
       "    .dataframe thead th {\n",
       "        text-align: right;\n",
       "    }\n",
       "</style>\n",
       "<table border=\"1\" class=\"dataframe\">\n",
       "  <thead>\n",
       "    <tr style=\"text-align: right;\">\n",
       "      <th></th>\n",
       "      <th>sale_id</th>\n",
       "      <th>region</th>\n",
       "      <th>date_time</th>\n",
       "      <th>revenue</th>\n",
       "    </tr>\n",
       "  </thead>\n",
       "  <tbody>\n",
       "    <tr>\n",
       "      <th>7</th>\n",
       "      <td>7</td>\n",
       "      <td>south</td>\n",
       "      <td>2020-01-01 08:00:00</td>\n",
       "      <td>23.38</td>\n",
       "    </tr>\n",
       "    <tr>\n",
       "      <th>8</th>\n",
       "      <td>8</td>\n",
       "      <td>south</td>\n",
       "      <td>2020-01-01 17:00:00</td>\n",
       "      <td>25.74</td>\n",
       "    </tr>\n",
       "    <tr>\n",
       "      <th>4</th>\n",
       "      <td>4</td>\n",
       "      <td>west</td>\n",
       "      <td>2020-01-02 12:00:00</td>\n",
       "      <td>20.47</td>\n",
       "    </tr>\n",
       "    <tr>\n",
       "      <th>0</th>\n",
       "      <td>0</td>\n",
       "      <td>west</td>\n",
       "      <td>2020-01-05 08:00:00</td>\n",
       "      <td>20.14</td>\n",
       "    </tr>\n",
       "    <tr>\n",
       "      <th>3</th>\n",
       "      <td>3</td>\n",
       "      <td>west</td>\n",
       "      <td>2020-01-05 17:00:00</td>\n",
       "      <td>16.82</td>\n",
       "    </tr>\n",
       "    <tr>\n",
       "      <th>2</th>\n",
       "      <td>2</td>\n",
       "      <td>south</td>\n",
       "      <td>2020-01-07 21:00:00</td>\n",
       "      <td>22.98</td>\n",
       "    </tr>\n",
       "    <tr>\n",
       "      <th>6</th>\n",
       "      <td>6</td>\n",
       "      <td>north</td>\n",
       "      <td>2020-01-08 19:00:00</td>\n",
       "      <td>20.25</td>\n",
       "    </tr>\n",
       "    <tr>\n",
       "      <th>1</th>\n",
       "      <td>1</td>\n",
       "      <td>east</td>\n",
       "      <td>2020-01-08 22:00:00</td>\n",
       "      <td>22.98</td>\n",
       "    </tr>\n",
       "    <tr>\n",
       "      <th>5</th>\n",
       "      <td>5</td>\n",
       "      <td>east</td>\n",
       "      <td>2020-01-10 09:00:00</td>\n",
       "      <td>26.93</td>\n",
       "    </tr>\n",
       "    <tr>\n",
       "      <th>9</th>\n",
       "      <td>9</td>\n",
       "      <td>south</td>\n",
       "      <td>2020-01-10 22:00:00</td>\n",
       "      <td>22.28</td>\n",
       "    </tr>\n",
       "  </tbody>\n",
       "</table>\n",
       "</div>"
      ],
      "text/plain": [
       "   sale_id region           date_time  revenue\n",
       "7        7  south 2020-01-01 08:00:00    23.38\n",
       "8        8  south 2020-01-01 17:00:00    25.74\n",
       "4        4   west 2020-01-02 12:00:00    20.47\n",
       "0        0   west 2020-01-05 08:00:00    20.14\n",
       "3        3   west 2020-01-05 17:00:00    16.82\n",
       "2        2  south 2020-01-07 21:00:00    22.98\n",
       "6        6  north 2020-01-08 19:00:00    20.25\n",
       "1        1   east 2020-01-08 22:00:00    22.98\n",
       "5        5   east 2020-01-10 09:00:00    26.93\n",
       "9        9  south 2020-01-10 22:00:00    22.28"
      ]
     },
     "execution_count": 9,
     "metadata": {},
     "output_type": "execute_result"
    }
   ],
   "source": [
    "sales.sort_values('date_time', inplace=True)\n",
    "sales"
   ]
  },
  {
   "cell_type": "code",
   "execution_count": 10,
   "id": "163ed33e",
   "metadata": {
    "execution": {
     "iopub.execute_input": "2024-05-01T06:26:10.658788Z",
     "iopub.status.busy": "2024-05-01T06:26:10.658403Z",
     "iopub.status.idle": "2024-05-01T06:26:10.682290Z",
     "shell.execute_reply": "2024-05-01T06:26:10.681190Z"
    },
    "papermill": {
     "duration": 0.037213,
     "end_time": "2024-05-01T06:26:10.684610",
     "exception": false,
     "start_time": "2024-05-01T06:26:10.647397",
     "status": "completed"
    },
    "tags": []
   },
   "outputs": [
    {
     "data": {
      "text/html": [
       "<div>\n",
       "<style scoped>\n",
       "    .dataframe tbody tr th:only-of-type {\n",
       "        vertical-align: middle;\n",
       "    }\n",
       "\n",
       "    .dataframe tbody tr th {\n",
       "        vertical-align: top;\n",
       "    }\n",
       "\n",
       "    .dataframe thead th {\n",
       "        text-align: right;\n",
       "    }\n",
       "</style>\n",
       "<table border=\"1\" class=\"dataframe\">\n",
       "  <thead>\n",
       "    <tr style=\"text-align: right;\">\n",
       "      <th></th>\n",
       "      <th>sale_id</th>\n",
       "      <th>region</th>\n",
       "      <th>date_time</th>\n",
       "      <th>revenue</th>\n",
       "      <th>commercial_id</th>\n",
       "    </tr>\n",
       "  </thead>\n",
       "  <tbody>\n",
       "    <tr>\n",
       "      <th>0</th>\n",
       "      <td>7</td>\n",
       "      <td>south</td>\n",
       "      <td>2020-01-01 08:00:00</td>\n",
       "      <td>23.38</td>\n",
       "      <td>NaN</td>\n",
       "    </tr>\n",
       "    <tr>\n",
       "      <th>1</th>\n",
       "      <td>8</td>\n",
       "      <td>south</td>\n",
       "      <td>2020-01-01 17:00:00</td>\n",
       "      <td>25.74</td>\n",
       "      <td>NaN</td>\n",
       "    </tr>\n",
       "    <tr>\n",
       "      <th>2</th>\n",
       "      <td>4</td>\n",
       "      <td>west</td>\n",
       "      <td>2020-01-02 12:00:00</td>\n",
       "      <td>20.47</td>\n",
       "      <td>NaN</td>\n",
       "    </tr>\n",
       "    <tr>\n",
       "      <th>3</th>\n",
       "      <td>0</td>\n",
       "      <td>west</td>\n",
       "      <td>2020-01-05 08:00:00</td>\n",
       "      <td>20.14</td>\n",
       "      <td>9.0</td>\n",
       "    </tr>\n",
       "    <tr>\n",
       "      <th>4</th>\n",
       "      <td>3</td>\n",
       "      <td>west</td>\n",
       "      <td>2020-01-05 17:00:00</td>\n",
       "      <td>16.82</td>\n",
       "      <td>9.0</td>\n",
       "    </tr>\n",
       "    <tr>\n",
       "      <th>5</th>\n",
       "      <td>2</td>\n",
       "      <td>south</td>\n",
       "      <td>2020-01-07 21:00:00</td>\n",
       "      <td>22.98</td>\n",
       "      <td>6.0</td>\n",
       "    </tr>\n",
       "    <tr>\n",
       "      <th>6</th>\n",
       "      <td>6</td>\n",
       "      <td>north</td>\n",
       "      <td>2020-01-08 19:00:00</td>\n",
       "      <td>20.25</td>\n",
       "      <td>NaN</td>\n",
       "    </tr>\n",
       "    <tr>\n",
       "      <th>7</th>\n",
       "      <td>1</td>\n",
       "      <td>east</td>\n",
       "      <td>2020-01-08 22:00:00</td>\n",
       "      <td>22.98</td>\n",
       "      <td>8.0</td>\n",
       "    </tr>\n",
       "    <tr>\n",
       "      <th>8</th>\n",
       "      <td>5</td>\n",
       "      <td>east</td>\n",
       "      <td>2020-01-10 09:00:00</td>\n",
       "      <td>26.93</td>\n",
       "      <td>8.0</td>\n",
       "    </tr>\n",
       "    <tr>\n",
       "      <th>9</th>\n",
       "      <td>9</td>\n",
       "      <td>south</td>\n",
       "      <td>2020-01-10 22:00:00</td>\n",
       "      <td>22.28</td>\n",
       "      <td>2.0</td>\n",
       "    </tr>\n",
       "  </tbody>\n",
       "</table>\n",
       "</div>"
      ],
      "text/plain": [
       "   sale_id region           date_time  revenue  commercial_id\n",
       "0        7  south 2020-01-01 08:00:00    23.38            NaN\n",
       "1        8  south 2020-01-01 17:00:00    25.74            NaN\n",
       "2        4   west 2020-01-02 12:00:00    20.47            NaN\n",
       "3        0   west 2020-01-05 08:00:00    20.14            9.0\n",
       "4        3   west 2020-01-05 17:00:00    16.82            9.0\n",
       "5        2  south 2020-01-07 21:00:00    22.98            6.0\n",
       "6        6  north 2020-01-08 19:00:00    20.25            NaN\n",
       "7        1   east 2020-01-08 22:00:00    22.98            8.0\n",
       "8        5   east 2020-01-10 09:00:00    26.93            8.0\n",
       "9        9  south 2020-01-10 22:00:00    22.28            2.0"
      ]
     },
     "execution_count": 10,
     "metadata": {},
     "output_type": "execute_result"
    }
   ],
   "source": [
    "pd.merge_asof(left=sales, right=commercials, on='date_time', by='region', direction='backward')"
   ]
  },
  {
   "cell_type": "code",
   "execution_count": null,
   "id": "115c7eba",
   "metadata": {
    "papermill": {
     "duration": 0.009563,
     "end_time": "2024-05-01T06:26:10.703924",
     "exception": false,
     "start_time": "2024-05-01T06:26:10.694361",
     "status": "completed"
    },
    "tags": []
   },
   "outputs": [],
   "source": []
  }
 ],
 "metadata": {
  "kaggle": {
   "accelerator": "none",
   "dataSources": [],
   "dockerImageVersionId": 30673,
   "isGpuEnabled": false,
   "isInternetEnabled": true,
   "language": "python",
   "sourceType": "notebook"
  },
  "kernelspec": {
   "display_name": "Python 3",
   "language": "python",
   "name": "python3"
  },
  "language_info": {
   "codemirror_mode": {
    "name": "ipython",
    "version": 3
   },
   "file_extension": ".py",
   "mimetype": "text/x-python",
   "name": "python",
   "nbconvert_exporter": "python",
   "pygments_lexer": "ipython3",
   "version": "3.10.13"
  },
  "papermill": {
   "default_parameters": {},
   "duration": 8.082731,
   "end_time": "2024-05-01T06:26:14.294593",
   "environment_variables": {},
   "exception": null,
   "input_path": "__notebook__.ipynb",
   "output_path": "__notebook__.ipynb",
   "parameters": {},
   "start_time": "2024-05-01T06:26:06.211862",
   "version": "2.5.0"
  }
 },
 "nbformat": 4,
 "nbformat_minor": 5
}
