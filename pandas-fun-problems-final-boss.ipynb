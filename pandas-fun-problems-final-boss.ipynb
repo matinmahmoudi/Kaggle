{
 "cells": [
  {
   "cell_type": "markdown",
   "id": "ff3b96fa",
   "metadata": {
    "papermill": {
     "duration": 0.009084,
     "end_time": "2024-04-14T19:06:10.677974",
     "exception": false,
     "start_time": "2024-04-14T19:06:10.668890",
     "status": "completed"
    },
    "tags": []
   },
   "source": [
    "# Pandas Fun Problems - Final Boss\n",
    "\n",
    "Welcome to the ultimate challenge in our Pandas series! This notebook is the pinnacle of our journey through data manipulation with Pandas, where you'll face the most demanding problems yet. Designed for those who seek to test their limits, this set of problems is dubbed the \"Final Boss\" for good reason.\n",
    "\n",
    "Before attempting these challenges, make sure you have worked through the previous notebooks in this series. It is particularly crucial that you've completed the **[Pandas Fun Problems - Advanced](https://www.kaggle.com/code/matinmahmoudi/pandas-fun-problems-advanced/)** notebook. The advanced notebook covers sophisticated techniques and operations that will be essential for conquering the challenges ahead.\n",
    "\n",
    "- **Practice Problems Source:** [Final Boss Problems](https://www.practiceprobs.com/problemsets/python-pandas/final-boss/)\n",
    "- **YouTube Tutorial:** [Video Guide](https://www.youtube.com/watch?v=8xUgesdShE8)\n",
    "\n",
    "\n",
    "As always, we encourage you to share your solutions, thoughts, and questions in the comments. Your engagement not only enriches your learning experience but also supports others on their path to mastering Pandas.\n",
    "\n",
    "### **Found this notebook challenging and rewarding? Show your support with an upvote!**\n"
   ]
  },
  {
   "cell_type": "markdown",
   "id": "3642f91c",
   "metadata": {
    "papermill": {
     "duration": 0.008199,
     "end_time": "2024-04-14T19:06:10.694890",
     "exception": false,
     "start_time": "2024-04-14T19:06:10.686691",
     "status": "completed"
    },
    "tags": []
   },
   "source": [
    "# Q1 - COVID Tracing Problem"
   ]
  },
  {
   "cell_type": "markdown",
   "id": "536ca5b5",
   "metadata": {
    "papermill": {
     "duration": 0.00773,
     "end_time": "2024-04-14T19:06:10.710830",
     "exception": false,
     "start_time": "2024-04-14T19:06:10.703100",
     "status": "completed"
    },
    "tags": []
   },
   "source": [
    "https://www.practiceprobs.com/problemsets/python-pandas/final-boss/covid-tracing/"
   ]
  },
  {
   "cell_type": "markdown",
   "id": "f18b170b",
   "metadata": {
    "papermill": {
     "duration": 0.007935,
     "end_time": "2024-04-14T19:06:10.727100",
     "exception": false,
     "start_time": "2024-04-14T19:06:10.719165",
     "status": "completed"
    },
    "tags": []
   },
   "source": [
    "You track the whereabouts of 100 individuals in a DataFrame called whereabouts. Each person has a corresponding list of place ids indicating the places they’ve visited in the recent week. You also track which places have been exposed to COVID-19 in a list called exposed 😷.\n"
   ]
  },
  {
   "cell_type": "code",
   "execution_count": 1,
   "id": "b88a6ad4",
   "metadata": {
    "execution": {
     "iopub.execute_input": "2024-04-14T19:06:10.745287Z",
     "iopub.status.busy": "2024-04-14T19:06:10.744810Z",
     "iopub.status.idle": "2024-04-14T19:06:11.767626Z",
     "shell.execute_reply": "2024-04-14T19:06:11.766009Z"
    },
    "papermill": {
     "duration": 1.035327,
     "end_time": "2024-04-14T19:06:11.770415",
     "exception": false,
     "start_time": "2024-04-14T19:06:10.735088",
     "status": "completed"
    },
    "tags": []
   },
   "outputs": [
    {
     "name": "stdout",
     "output_type": "stream",
     "text": [
      "   person_id              places\n",
      "0          0        [3, 4, 5, 6]\n",
      "1          1                  []\n",
      "2          2                 [3]\n",
      "3          3           [6, 8, 9]\n",
      "4          4                 [3]\n",
      "5          5  [0, 2, 5, 6, 7, 8]\n",
      "6          6              [2, 7]\n",
      "7          7        [0, 5, 8, 9]\n",
      "8          8           [2, 7, 9]\n",
      "9          9        [0, 5, 8, 9]\n"
     ]
    }
   ],
   "source": [
    "import numpy as np\n",
    "import pandas as pd\n",
    "\n",
    "# exposed places\n",
    "exposed = [0,5,9]\n",
    "\n",
    "# whereabouts of each person\n",
    "generator = np.random.default_rng(2468)\n",
    "Nplaces = 10\n",
    "Npersons = 10\n",
    "place_ids = np.arange(Nplaces)\n",
    "visits = generator.choice(place_ids, size=3*Nplaces, replace=True)\n",
    "split_idxs = np.sort(generator.choice(len(visits), size=9, replace=True))\n",
    "whereabouts = pd.DataFrame({\n",
    "    'person_id': range(Npersons),\n",
    "    'places': [np.unique(x).tolist() for x in np.array_split(visits, split_idxs)]\n",
    "})\n",
    "\n",
    "print(whereabouts)\n",
    "#    person_id              places\n",
    "# 0          0        [3, 4, 5, 6]\n",
    "# 1          1                  []\n",
    "# 2          2                 [3]\n",
    "# 3          3           [6, 8, 9]\n",
    "# 4          4                 [3]\n",
    "# 5          5  [0, 2, 5, 6, 7, 8]\n",
    "# 6          6              [2, 7]\n",
    "# 7          7        [0, 5, 8, 9]\n",
    "# 8          8           [2, 7, 9]\n",
    "# 9          9        [0, 5, 8, 9]"
   ]
  },
  {
   "cell_type": "markdown",
   "id": "c8cb9898",
   "metadata": {
    "papermill": {
     "duration": 0.008424,
     "end_time": "2024-04-14T19:06:11.787078",
     "exception": false,
     "start_time": "2024-04-14T19:06:11.778654",
     "status": "completed"
    },
    "tags": []
   },
   "source": [
    "For each person, identify the places they visited which have been exposed. Make this a new list-column in whereabouts called exposures.\n",
    "\n"
   ]
  },
  {
   "cell_type": "markdown",
   "id": "1557872d",
   "metadata": {
    "papermill": {
     "duration": 0.00818,
     "end_time": "2024-04-14T19:06:11.803713",
     "exception": false,
     "start_time": "2024-04-14T19:06:11.795533",
     "status": "completed"
    },
    "tags": []
   },
   "source": [
    "## Solution 1"
   ]
  },
  {
   "cell_type": "code",
   "execution_count": 2,
   "id": "f19fcb5e",
   "metadata": {
    "execution": {
     "iopub.execute_input": "2024-04-14T19:06:11.823664Z",
     "iopub.status.busy": "2024-04-14T19:06:11.822889Z",
     "iopub.status.idle": "2024-04-14T19:06:11.851555Z",
     "shell.execute_reply": "2024-04-14T19:06:11.850259Z"
    },
    "papermill": {
     "duration": 0.042478,
     "end_time": "2024-04-14T19:06:11.854768",
     "exception": false,
     "start_time": "2024-04-14T19:06:11.812290",
     "status": "completed"
    },
    "tags": []
   },
   "outputs": [
    {
     "data": {
      "text/html": [
       "<div>\n",
       "<style scoped>\n",
       "    .dataframe tbody tr th:only-of-type {\n",
       "        vertical-align: middle;\n",
       "    }\n",
       "\n",
       "    .dataframe tbody tr th {\n",
       "        vertical-align: top;\n",
       "    }\n",
       "\n",
       "    .dataframe thead th {\n",
       "        text-align: right;\n",
       "    }\n",
       "</style>\n",
       "<table border=\"1\" class=\"dataframe\">\n",
       "  <thead>\n",
       "    <tr style=\"text-align: right;\">\n",
       "      <th></th>\n",
       "      <th>person_id</th>\n",
       "      <th>places</th>\n",
       "      <th>exposures</th>\n",
       "    </tr>\n",
       "  </thead>\n",
       "  <tbody>\n",
       "    <tr>\n",
       "      <th>0</th>\n",
       "      <td>0</td>\n",
       "      <td>[3, 4, 5, 6]</td>\n",
       "      <td>[5]</td>\n",
       "    </tr>\n",
       "    <tr>\n",
       "      <th>1</th>\n",
       "      <td>1</td>\n",
       "      <td>[]</td>\n",
       "      <td>[]</td>\n",
       "    </tr>\n",
       "    <tr>\n",
       "      <th>2</th>\n",
       "      <td>2</td>\n",
       "      <td>[3]</td>\n",
       "      <td>[]</td>\n",
       "    </tr>\n",
       "    <tr>\n",
       "      <th>3</th>\n",
       "      <td>3</td>\n",
       "      <td>[6, 8, 9]</td>\n",
       "      <td>[9]</td>\n",
       "    </tr>\n",
       "    <tr>\n",
       "      <th>4</th>\n",
       "      <td>4</td>\n",
       "      <td>[3]</td>\n",
       "      <td>[]</td>\n",
       "    </tr>\n",
       "    <tr>\n",
       "      <th>5</th>\n",
       "      <td>5</td>\n",
       "      <td>[0, 2, 5, 6, 7, 8]</td>\n",
       "      <td>[0, 5]</td>\n",
       "    </tr>\n",
       "    <tr>\n",
       "      <th>6</th>\n",
       "      <td>6</td>\n",
       "      <td>[2, 7]</td>\n",
       "      <td>[]</td>\n",
       "    </tr>\n",
       "    <tr>\n",
       "      <th>7</th>\n",
       "      <td>7</td>\n",
       "      <td>[0, 5, 8, 9]</td>\n",
       "      <td>[0, 9, 5]</td>\n",
       "    </tr>\n",
       "    <tr>\n",
       "      <th>8</th>\n",
       "      <td>8</td>\n",
       "      <td>[2, 7, 9]</td>\n",
       "      <td>[9]</td>\n",
       "    </tr>\n",
       "    <tr>\n",
       "      <th>9</th>\n",
       "      <td>9</td>\n",
       "      <td>[0, 5, 8, 9]</td>\n",
       "      <td>[0, 9, 5]</td>\n",
       "    </tr>\n",
       "  </tbody>\n",
       "</table>\n",
       "</div>"
      ],
      "text/plain": [
       "   person_id              places  exposures\n",
       "0          0        [3, 4, 5, 6]        [5]\n",
       "1          1                  []         []\n",
       "2          2                 [3]         []\n",
       "3          3           [6, 8, 9]        [9]\n",
       "4          4                 [3]         []\n",
       "5          5  [0, 2, 5, 6, 7, 8]     [0, 5]\n",
       "6          6              [2, 7]         []\n",
       "7          7        [0, 5, 8, 9]  [0, 9, 5]\n",
       "8          8           [2, 7, 9]        [9]\n",
       "9          9        [0, 5, 8, 9]  [0, 9, 5]"
      ]
     },
     "execution_count": 2,
     "metadata": {},
     "output_type": "execute_result"
    }
   ],
   "source": [
    "whereabouts['exposures'] = whereabouts['places'].apply(lambda x: list(set(x) & set(exposed)))\n",
    "whereabouts"
   ]
  },
  {
   "cell_type": "markdown",
   "id": "faa67bff",
   "metadata": {
    "papermill": {
     "duration": 0.007977,
     "end_time": "2024-04-14T19:06:11.871202",
     "exception": false,
     "start_time": "2024-04-14T19:06:11.863225",
     "status": "completed"
    },
    "tags": []
   },
   "source": [
    "## Solution 2"
   ]
  },
  {
   "cell_type": "code",
   "execution_count": 3,
   "id": "30186008",
   "metadata": {
    "execution": {
     "iopub.execute_input": "2024-04-14T19:06:11.890709Z",
     "iopub.status.busy": "2024-04-14T19:06:11.890272Z",
     "iopub.status.idle": "2024-04-14T19:06:11.912679Z",
     "shell.execute_reply": "2024-04-14T19:06:11.911084Z"
    },
    "papermill": {
     "duration": 0.035667,
     "end_time": "2024-04-14T19:06:11.915080",
     "exception": false,
     "start_time": "2024-04-14T19:06:11.879413",
     "status": "completed"
    },
    "tags": []
   },
   "outputs": [
    {
     "data": {
      "text/html": [
       "<div>\n",
       "<style scoped>\n",
       "    .dataframe tbody tr th:only-of-type {\n",
       "        vertical-align: middle;\n",
       "    }\n",
       "\n",
       "    .dataframe tbody tr th {\n",
       "        vertical-align: top;\n",
       "    }\n",
       "\n",
       "    .dataframe thead th {\n",
       "        text-align: right;\n",
       "    }\n",
       "</style>\n",
       "<table border=\"1\" class=\"dataframe\">\n",
       "  <thead>\n",
       "    <tr style=\"text-align: right;\">\n",
       "      <th></th>\n",
       "      <th>person_id</th>\n",
       "      <th>places</th>\n",
       "      <th>exposures</th>\n",
       "    </tr>\n",
       "  </thead>\n",
       "  <tbody>\n",
       "    <tr>\n",
       "      <th>0</th>\n",
       "      <td>0</td>\n",
       "      <td>[3, 4, 5, 6]</td>\n",
       "      <td>[5]</td>\n",
       "    </tr>\n",
       "    <tr>\n",
       "      <th>1</th>\n",
       "      <td>1</td>\n",
       "      <td>[]</td>\n",
       "      <td>[]</td>\n",
       "    </tr>\n",
       "    <tr>\n",
       "      <th>2</th>\n",
       "      <td>2</td>\n",
       "      <td>[3]</td>\n",
       "      <td>[]</td>\n",
       "    </tr>\n",
       "    <tr>\n",
       "      <th>3</th>\n",
       "      <td>3</td>\n",
       "      <td>[6, 8, 9]</td>\n",
       "      <td>[9]</td>\n",
       "    </tr>\n",
       "    <tr>\n",
       "      <th>4</th>\n",
       "      <td>4</td>\n",
       "      <td>[3]</td>\n",
       "      <td>[]</td>\n",
       "    </tr>\n",
       "    <tr>\n",
       "      <th>5</th>\n",
       "      <td>5</td>\n",
       "      <td>[0, 2, 5, 6, 7, 8]</td>\n",
       "      <td>[0, 5]</td>\n",
       "    </tr>\n",
       "    <tr>\n",
       "      <th>6</th>\n",
       "      <td>6</td>\n",
       "      <td>[2, 7]</td>\n",
       "      <td>[]</td>\n",
       "    </tr>\n",
       "    <tr>\n",
       "      <th>7</th>\n",
       "      <td>7</td>\n",
       "      <td>[0, 5, 8, 9]</td>\n",
       "      <td>[0, 9, 5]</td>\n",
       "    </tr>\n",
       "    <tr>\n",
       "      <th>8</th>\n",
       "      <td>8</td>\n",
       "      <td>[2, 7, 9]</td>\n",
       "      <td>[9]</td>\n",
       "    </tr>\n",
       "    <tr>\n",
       "      <th>9</th>\n",
       "      <td>9</td>\n",
       "      <td>[0, 5, 8, 9]</td>\n",
       "      <td>[0, 9, 5]</td>\n",
       "    </tr>\n",
       "  </tbody>\n",
       "</table>\n",
       "</div>"
      ],
      "text/plain": [
       "   person_id              places  exposures\n",
       "0          0        [3, 4, 5, 6]        [5]\n",
       "1          1                  []         []\n",
       "2          2                 [3]         []\n",
       "3          3           [6, 8, 9]        [9]\n",
       "4          4                 [3]         []\n",
       "5          5  [0, 2, 5, 6, 7, 8]     [0, 5]\n",
       "6          6              [2, 7]         []\n",
       "7          7        [0, 5, 8, 9]  [0, 9, 5]\n",
       "8          8           [2, 7, 9]        [9]\n",
       "9          9        [0, 5, 8, 9]  [0, 9, 5]"
      ]
     },
     "execution_count": 3,
     "metadata": {},
     "output_type": "execute_result"
    }
   ],
   "source": [
    "whereabouts['exposures'] = [list(set(x) & set(exposed)) for x in whereabouts['places']]\n",
    "whereabouts"
   ]
  },
  {
   "cell_type": "markdown",
   "id": "4065f0db",
   "metadata": {
    "papermill": {
     "duration": 0.008737,
     "end_time": "2024-04-14T19:06:11.932965",
     "exception": false,
     "start_time": "2024-04-14T19:06:11.924228",
     "status": "completed"
    },
    "tags": []
   },
   "source": [
    "# Q2 - Pickle Problem"
   ]
  },
  {
   "cell_type": "markdown",
   "id": "ef032122",
   "metadata": {
    "papermill": {
     "duration": 0.009153,
     "end_time": "2024-04-14T19:06:11.950653",
     "exception": false,
     "start_time": "2024-04-14T19:06:11.941500",
     "status": "completed"
    },
    "tags": []
   },
   "source": [
    "Given a Series called pickle, replace NaNs using the following algorithm.\n"
   ]
  },
  {
   "cell_type": "markdown",
   "id": "31e7f5b2",
   "metadata": {
    "papermill": {
     "duration": 0.008269,
     "end_time": "2024-04-14T19:06:11.967531",
     "exception": false,
     "start_time": "2024-04-14T19:06:11.959262",
     "status": "completed"
    },
    "tags": []
   },
   "source": [
    "https://www.practiceprobs.com/problemsets/python-pandas/final-boss/pickle/"
   ]
  },
  {
   "cell_type": "code",
   "execution_count": 4,
   "id": "88d4b442",
   "metadata": {
    "execution": {
     "iopub.execute_input": "2024-04-14T19:06:11.987144Z",
     "iopub.status.busy": "2024-04-14T19:06:11.986676Z",
     "iopub.status.idle": "2024-04-14T19:06:11.994751Z",
     "shell.execute_reply": "2024-04-14T19:06:11.993526Z"
    },
    "papermill": {
     "duration": 0.02081,
     "end_time": "2024-04-14T19:06:11.997027",
     "exception": false,
     "start_time": "2024-04-14T19:06:11.976217",
     "status": "completed"
    },
    "tags": []
   },
   "outputs": [
    {
     "data": {
      "text/plain": [
       "'\\nfor each NaN:\\n  get the nearest non NaN value before and after it\\n  if both of those values exist:\\n    replace NaN with the minimum of those two non NaN values\\n  else:\\n    replace NaN with the nearest non NaN value\\n'"
      ]
     },
     "execution_count": 4,
     "metadata": {},
     "output_type": "execute_result"
    }
   ],
   "source": [
    "'''\n",
    "for each NaN:\n",
    "  get the nearest non NaN value before and after it\n",
    "  if both of those values exist:\n",
    "    replace NaN with the minimum of those two non NaN values\n",
    "  else:\n",
    "    replace NaN with the nearest non NaN value\n",
    "'''"
   ]
  },
  {
   "cell_type": "code",
   "execution_count": 5,
   "id": "15364306",
   "metadata": {
    "execution": {
     "iopub.execute_input": "2024-04-14T19:06:12.016480Z",
     "iopub.status.busy": "2024-04-14T19:06:12.016013Z",
     "iopub.status.idle": "2024-04-14T19:06:12.027205Z",
     "shell.execute_reply": "2024-04-14T19:06:12.025787Z"
    },
    "papermill": {
     "duration": 0.024174,
     "end_time": "2024-04-14T19:06:12.029936",
     "exception": false,
     "start_time": "2024-04-14T19:06:12.005762",
     "status": "completed"
    },
    "tags": []
   },
   "outputs": [
    {
     "name": "stdout",
     "output_type": "stream",
     "text": [
      "0     1.5\n",
      "1     NaN\n",
      "2     2.3\n",
      "3     NaN\n",
      "4     NaN\n",
      "5    -3.9\n",
      "6     NaN\n",
      "7     4.5\n",
      "8     NaN\n",
      "9     NaN\n",
      "10    NaN\n",
      "11    1.9\n",
      "12    NaN\n",
      "dtype: float64\n"
     ]
    }
   ],
   "source": [
    "import numpy as np\n",
    "import pandas as pd\n",
    "\n",
    "pickle = pd.Series([1.5, np.nan, 2.3, np.nan, np.nan, -3.9, np.nan, 4.5, np.nan, np.nan, np.nan, 1.9, np.nan])\n",
    "\n",
    "print(pickle)\n",
    "# 0     1.5\n",
    "# 1     NaN\n",
    "# 2     2.3\n",
    "# 3     NaN\n",
    "# 4     NaN\n",
    "# 5    -3.9\n",
    "# 6     NaN\n",
    "# 7     4.5\n",
    "# 8     NaN\n",
    "# 9     NaN\n",
    "# 10    NaN\n",
    "# 11    1.9\n",
    "# 12    NaN\n",
    "# dtype: float64"
   ]
  },
  {
   "cell_type": "markdown",
   "id": "781200d1",
   "metadata": {
    "papermill": {
     "duration": 0.008592,
     "end_time": "2024-04-14T19:06:12.047337",
     "exception": false,
     "start_time": "2024-04-14T19:06:12.038745",
     "status": "completed"
    },
    "tags": []
   },
   "source": [
    "## Solution "
   ]
  },
  {
   "cell_type": "code",
   "execution_count": 6,
   "id": "a3a0c99d",
   "metadata": {
    "execution": {
     "iopub.execute_input": "2024-04-14T19:06:12.066796Z",
     "iopub.status.busy": "2024-04-14T19:06:12.066426Z",
     "iopub.status.idle": "2024-04-14T19:06:12.084415Z",
     "shell.execute_reply": "2024-04-14T19:06:12.083176Z"
    },
    "papermill": {
     "duration": 0.03276,
     "end_time": "2024-04-14T19:06:12.089076",
     "exception": false,
     "start_time": "2024-04-14T19:06:12.056316",
     "status": "completed"
    },
    "tags": []
   },
   "outputs": [
    {
     "name": "stdout",
     "output_type": "stream",
     "text": [
      "0     1.5\n",
      "1     1.5\n",
      "2     2.3\n",
      "3    -3.9\n",
      "4    -3.9\n",
      "5    -3.9\n",
      "6    -3.9\n",
      "7     4.5\n",
      "8     1.9\n",
      "9     1.9\n",
      "10    1.9\n",
      "11    1.9\n",
      "12    1.9\n",
      "dtype: float64\n"
     ]
    },
    {
     "name": "stderr",
     "output_type": "stream",
     "text": [
      "/tmp/ipykernel_18/3132165669.py:2: FutureWarning: Series.fillna with 'method' is deprecated and will raise in a future version. Use obj.ffill() or obj.bfill() instead.\n",
      "  forward_filled = series.fillna(method='ffill')\n",
      "/tmp/ipykernel_18/3132165669.py:3: FutureWarning: Series.fillna with 'method' is deprecated and will raise in a future version. Use obj.ffill() or obj.bfill() instead.\n",
      "  backward_filled = series.fillna(method='bfill')\n"
     ]
    }
   ],
   "source": [
    "def fillna_custom(series):\n",
    "    forward_filled = series.fillna(method='ffill')\n",
    "    backward_filled = series.fillna(method='bfill')\n",
    "    min_filled = pd.concat([forward_filled, backward_filled], axis=1).min(axis=1)\n",
    "    return min_filled\n",
    "\n",
    "pickle_filled = fillna_custom(pickle)\n",
    "print(pickle_filled)"
   ]
  },
  {
   "cell_type": "markdown",
   "id": "3fdfbf89",
   "metadata": {
    "papermill": {
     "duration": 0.008979,
     "end_time": "2024-04-14T19:06:12.107739",
     "exception": false,
     "start_time": "2024-04-14T19:06:12.098760",
     "status": "completed"
    },
    "tags": []
   },
   "source": [
    "# Q3 - TV Commercials Problem"
   ]
  },
  {
   "cell_type": "markdown",
   "id": "4676db01",
   "metadata": {
    "papermill": {
     "duration": 0.008697,
     "end_time": "2024-04-14T19:06:12.126179",
     "exception": false,
     "start_time": "2024-04-14T19:06:12.117482",
     "status": "completed"
    },
    "tags": []
   },
   "source": [
    "https://www.practiceprobs.com/problemsets/python-pandas/final-boss/tv-commercials/"
   ]
  },
  {
   "cell_type": "markdown",
   "id": "2fa3f18c",
   "metadata": {
    "papermill": {
     "duration": 0.009904,
     "end_time": "2024-04-14T19:06:12.145109",
     "exception": false,
     "start_time": "2024-04-14T19:06:12.135205",
     "status": "completed"
    },
    "tags": []
   },
   "source": [
    "You own a national restaurant chain called Applewasps. To increase sales, you decide to launch a multi-regional television marketing campaign.\n",
    "\n",
    "At the end of the campaign you have a table of commercials indicating when and where each commercial aired, and a table of sales indicating when and where customers generated sales.\n",
    "\n"
   ]
  },
  {
   "cell_type": "code",
   "execution_count": 7,
   "id": "b14a26f1",
   "metadata": {
    "execution": {
     "iopub.execute_input": "2024-04-14T19:06:12.166477Z",
     "iopub.status.busy": "2024-04-14T19:06:12.166007Z",
     "iopub.status.idle": "2024-04-14T19:06:12.191104Z",
     "shell.execute_reply": "2024-04-14T19:06:12.189951Z"
    },
    "papermill": {
     "duration": 0.039052,
     "end_time": "2024-04-14T19:06:12.193685",
     "exception": false,
     "start_time": "2024-04-14T19:06:12.154633",
     "status": "completed"
    },
    "tags": []
   },
   "outputs": [
    {
     "name": "stdout",
     "output_type": "stream",
     "text": [
      "   commercial_id region           date_time\n",
      "0              0   west 2020-01-10 12:00:00\n",
      "1              1  north 2020-01-10 16:00:00\n",
      "2              2  south 2020-01-09 01:00:00\n",
      "3              3   east 2020-01-10 19:00:00\n",
      "4              4  south 2020-01-08 22:00:00\n",
      "5              5   east 2020-01-03 02:00:00\n",
      "6              6  south 2020-01-07 15:00:00\n",
      "7              7   west 2020-01-05 22:00:00\n",
      "8              8   east 2020-01-03 04:00:00\n",
      "9              9   west 2020-01-05 04:00:00\n",
      "   sale_id region           date_time  revenue\n",
      "0        0   west 2020-01-05 08:00:00    20.14\n",
      "1        1   east 2020-01-08 22:00:00    22.98\n",
      "2        2  south 2020-01-07 21:00:00    22.98\n",
      "3        3   west 2020-01-05 17:00:00    16.82\n",
      "4        4   west 2020-01-02 12:00:00    20.47\n",
      "5        5   east 2020-01-10 09:00:00    26.93\n",
      "6        6  north 2020-01-08 19:00:00    20.25\n",
      "7        7  south 2020-01-01 08:00:00    23.38\n",
      "8        8  south 2020-01-01 17:00:00    25.74\n",
      "9        9  south 2020-01-10 22:00:00    22.28\n"
     ]
    }
   ],
   "source": [
    "import numpy as np\n",
    "import pandas as pd\n",
    "\n",
    "generator = np.random.default_rng(5555)\n",
    "regions = ['north', 'south', 'east', 'west']\n",
    "\n",
    "commercials = pd.DataFrame({\n",
    "    'commercial_id': range(10),\n",
    "    'region': generator.choice(regions, size=10),\n",
    "    'date_time': pd.to_datetime('2020-01-01') + pd.to_timedelta(generator.integers(240, size=10), unit='h')\n",
    "})\n",
    "\n",
    "sales = pd.DataFrame({\n",
    "    'sale_id': range(10),\n",
    "    'region': generator.choice(regions, size=10),\n",
    "    'date_time': pd.to_datetime('2020-01-01') + pd.to_timedelta(generator.integers(240, size=10), unit='h'),\n",
    "    'revenue': np.round(generator.normal(loc=20, scale=5, size=10), 2)\n",
    "})\n",
    "\n",
    "print(commercials)\n",
    "#    commercial_id region           date_time\n",
    "# 0              0   west 2020-01-10 12:00:00\n",
    "# 1              1  north 2020-01-10 16:00:00\n",
    "# 2              2  south 2020-01-09 01:00:00\n",
    "# 3              3   east 2020-01-10 19:00:00\n",
    "# 4              4  south 2020-01-08 22:00:00\n",
    "# 5              5   east 2020-01-03 02:00:00\n",
    "# 6              6  south 2020-01-07 15:00:00\n",
    "# 7              7   west 2020-01-05 22:00:00\n",
    "# 8              8   east 2020-01-03 04:00:00\n",
    "# 9              9   west 2020-01-05 04:00:00\n",
    "\n",
    "print(sales)\n",
    "#    sale_id region           date_time  revenue\n",
    "# 0        0   west 2020-01-05 08:00:00    20.14\n",
    "# 1        1   east 2020-01-08 22:00:00    22.98\n",
    "# 2        2  south 2020-01-07 21:00:00    22.98\n",
    "# 3        3   west 2020-01-05 17:00:00    16.82\n",
    "# 4        4   west 2020-01-02 12:00:00    20.47\n",
    "# 5        5   east 2020-01-10 09:00:00    26.93\n",
    "# 6        6  north 2020-01-08 19:00:00    20.25\n",
    "# 7        7  south 2020-01-01 08:00:00    23.38\n",
    "# 8        8  south 2020-01-01 17:00:00    25.74\n",
    "# 9        9  south 2020-01-10 22:00:00    22.28"
   ]
  },
  {
   "cell_type": "markdown",
   "id": "8431e288",
   "metadata": {
    "papermill": {
     "duration": 0.009349,
     "end_time": "2024-04-14T19:06:12.212910",
     "exception": false,
     "start_time": "2024-04-14T19:06:12.203561",
     "status": "completed"
    },
    "tags": []
   },
   "source": [
    "In order to analyze the performance of each commercial, map each sale to the commercial that aired prior to the sale, in the same region.\n",
    "\n"
   ]
  },
  {
   "cell_type": "markdown",
   "id": "5aa97da2",
   "metadata": {
    "papermill": {
     "duration": 0.008848,
     "end_time": "2024-04-14T19:06:12.231301",
     "exception": false,
     "start_time": "2024-04-14T19:06:12.222453",
     "status": "completed"
    },
    "tags": []
   },
   "source": [
    "## Solution"
   ]
  },
  {
   "cell_type": "code",
   "execution_count": 8,
   "id": "575309cb",
   "metadata": {
    "execution": {
     "iopub.execute_input": "2024-04-14T19:06:12.251528Z",
     "iopub.status.busy": "2024-04-14T19:06:12.251087Z",
     "iopub.status.idle": "2024-04-14T19:06:12.264742Z",
     "shell.execute_reply": "2024-04-14T19:06:12.263443Z"
    },
    "papermill": {
     "duration": 0.026932,
     "end_time": "2024-04-14T19:06:12.267480",
     "exception": false,
     "start_time": "2024-04-14T19:06:12.240548",
     "status": "completed"
    },
    "tags": []
   },
   "outputs": [
    {
     "data": {
      "text/html": [
       "<div>\n",
       "<style scoped>\n",
       "    .dataframe tbody tr th:only-of-type {\n",
       "        vertical-align: middle;\n",
       "    }\n",
       "\n",
       "    .dataframe tbody tr th {\n",
       "        vertical-align: top;\n",
       "    }\n",
       "\n",
       "    .dataframe thead th {\n",
       "        text-align: right;\n",
       "    }\n",
       "</style>\n",
       "<table border=\"1\" class=\"dataframe\">\n",
       "  <thead>\n",
       "    <tr style=\"text-align: right;\">\n",
       "      <th></th>\n",
       "      <th>commercial_id</th>\n",
       "      <th>region</th>\n",
       "      <th>date_time</th>\n",
       "    </tr>\n",
       "  </thead>\n",
       "  <tbody>\n",
       "    <tr>\n",
       "      <th>5</th>\n",
       "      <td>5</td>\n",
       "      <td>east</td>\n",
       "      <td>2020-01-03 02:00:00</td>\n",
       "    </tr>\n",
       "    <tr>\n",
       "      <th>8</th>\n",
       "      <td>8</td>\n",
       "      <td>east</td>\n",
       "      <td>2020-01-03 04:00:00</td>\n",
       "    </tr>\n",
       "    <tr>\n",
       "      <th>9</th>\n",
       "      <td>9</td>\n",
       "      <td>west</td>\n",
       "      <td>2020-01-05 04:00:00</td>\n",
       "    </tr>\n",
       "    <tr>\n",
       "      <th>7</th>\n",
       "      <td>7</td>\n",
       "      <td>west</td>\n",
       "      <td>2020-01-05 22:00:00</td>\n",
       "    </tr>\n",
       "    <tr>\n",
       "      <th>6</th>\n",
       "      <td>6</td>\n",
       "      <td>south</td>\n",
       "      <td>2020-01-07 15:00:00</td>\n",
       "    </tr>\n",
       "    <tr>\n",
       "      <th>4</th>\n",
       "      <td>4</td>\n",
       "      <td>south</td>\n",
       "      <td>2020-01-08 22:00:00</td>\n",
       "    </tr>\n",
       "    <tr>\n",
       "      <th>2</th>\n",
       "      <td>2</td>\n",
       "      <td>south</td>\n",
       "      <td>2020-01-09 01:00:00</td>\n",
       "    </tr>\n",
       "    <tr>\n",
       "      <th>0</th>\n",
       "      <td>0</td>\n",
       "      <td>west</td>\n",
       "      <td>2020-01-10 12:00:00</td>\n",
       "    </tr>\n",
       "    <tr>\n",
       "      <th>1</th>\n",
       "      <td>1</td>\n",
       "      <td>north</td>\n",
       "      <td>2020-01-10 16:00:00</td>\n",
       "    </tr>\n",
       "    <tr>\n",
       "      <th>3</th>\n",
       "      <td>3</td>\n",
       "      <td>east</td>\n",
       "      <td>2020-01-10 19:00:00</td>\n",
       "    </tr>\n",
       "  </tbody>\n",
       "</table>\n",
       "</div>"
      ],
      "text/plain": [
       "   commercial_id region           date_time\n",
       "5              5   east 2020-01-03 02:00:00\n",
       "8              8   east 2020-01-03 04:00:00\n",
       "9              9   west 2020-01-05 04:00:00\n",
       "7              7   west 2020-01-05 22:00:00\n",
       "6              6  south 2020-01-07 15:00:00\n",
       "4              4  south 2020-01-08 22:00:00\n",
       "2              2  south 2020-01-09 01:00:00\n",
       "0              0   west 2020-01-10 12:00:00\n",
       "1              1  north 2020-01-10 16:00:00\n",
       "3              3   east 2020-01-10 19:00:00"
      ]
     },
     "execution_count": 8,
     "metadata": {},
     "output_type": "execute_result"
    }
   ],
   "source": [
    "commercials.sort_values('date_time', inplace=True)\n",
    "commercials"
   ]
  },
  {
   "cell_type": "code",
   "execution_count": 9,
   "id": "283e3d96",
   "metadata": {
    "execution": {
     "iopub.execute_input": "2024-04-14T19:06:12.288353Z",
     "iopub.status.busy": "2024-04-14T19:06:12.287890Z",
     "iopub.status.idle": "2024-04-14T19:06:12.305614Z",
     "shell.execute_reply": "2024-04-14T19:06:12.304389Z"
    },
    "papermill": {
     "duration": 0.030945,
     "end_time": "2024-04-14T19:06:12.308002",
     "exception": false,
     "start_time": "2024-04-14T19:06:12.277057",
     "status": "completed"
    },
    "tags": []
   },
   "outputs": [
    {
     "data": {
      "text/html": [
       "<div>\n",
       "<style scoped>\n",
       "    .dataframe tbody tr th:only-of-type {\n",
       "        vertical-align: middle;\n",
       "    }\n",
       "\n",
       "    .dataframe tbody tr th {\n",
       "        vertical-align: top;\n",
       "    }\n",
       "\n",
       "    .dataframe thead th {\n",
       "        text-align: right;\n",
       "    }\n",
       "</style>\n",
       "<table border=\"1\" class=\"dataframe\">\n",
       "  <thead>\n",
       "    <tr style=\"text-align: right;\">\n",
       "      <th></th>\n",
       "      <th>sale_id</th>\n",
       "      <th>region</th>\n",
       "      <th>date_time</th>\n",
       "      <th>revenue</th>\n",
       "    </tr>\n",
       "  </thead>\n",
       "  <tbody>\n",
       "    <tr>\n",
       "      <th>7</th>\n",
       "      <td>7</td>\n",
       "      <td>south</td>\n",
       "      <td>2020-01-01 08:00:00</td>\n",
       "      <td>23.38</td>\n",
       "    </tr>\n",
       "    <tr>\n",
       "      <th>8</th>\n",
       "      <td>8</td>\n",
       "      <td>south</td>\n",
       "      <td>2020-01-01 17:00:00</td>\n",
       "      <td>25.74</td>\n",
       "    </tr>\n",
       "    <tr>\n",
       "      <th>4</th>\n",
       "      <td>4</td>\n",
       "      <td>west</td>\n",
       "      <td>2020-01-02 12:00:00</td>\n",
       "      <td>20.47</td>\n",
       "    </tr>\n",
       "    <tr>\n",
       "      <th>0</th>\n",
       "      <td>0</td>\n",
       "      <td>west</td>\n",
       "      <td>2020-01-05 08:00:00</td>\n",
       "      <td>20.14</td>\n",
       "    </tr>\n",
       "    <tr>\n",
       "      <th>3</th>\n",
       "      <td>3</td>\n",
       "      <td>west</td>\n",
       "      <td>2020-01-05 17:00:00</td>\n",
       "      <td>16.82</td>\n",
       "    </tr>\n",
       "    <tr>\n",
       "      <th>2</th>\n",
       "      <td>2</td>\n",
       "      <td>south</td>\n",
       "      <td>2020-01-07 21:00:00</td>\n",
       "      <td>22.98</td>\n",
       "    </tr>\n",
       "    <tr>\n",
       "      <th>6</th>\n",
       "      <td>6</td>\n",
       "      <td>north</td>\n",
       "      <td>2020-01-08 19:00:00</td>\n",
       "      <td>20.25</td>\n",
       "    </tr>\n",
       "    <tr>\n",
       "      <th>1</th>\n",
       "      <td>1</td>\n",
       "      <td>east</td>\n",
       "      <td>2020-01-08 22:00:00</td>\n",
       "      <td>22.98</td>\n",
       "    </tr>\n",
       "    <tr>\n",
       "      <th>5</th>\n",
       "      <td>5</td>\n",
       "      <td>east</td>\n",
       "      <td>2020-01-10 09:00:00</td>\n",
       "      <td>26.93</td>\n",
       "    </tr>\n",
       "    <tr>\n",
       "      <th>9</th>\n",
       "      <td>9</td>\n",
       "      <td>south</td>\n",
       "      <td>2020-01-10 22:00:00</td>\n",
       "      <td>22.28</td>\n",
       "    </tr>\n",
       "  </tbody>\n",
       "</table>\n",
       "</div>"
      ],
      "text/plain": [
       "   sale_id region           date_time  revenue\n",
       "7        7  south 2020-01-01 08:00:00    23.38\n",
       "8        8  south 2020-01-01 17:00:00    25.74\n",
       "4        4   west 2020-01-02 12:00:00    20.47\n",
       "0        0   west 2020-01-05 08:00:00    20.14\n",
       "3        3   west 2020-01-05 17:00:00    16.82\n",
       "2        2  south 2020-01-07 21:00:00    22.98\n",
       "6        6  north 2020-01-08 19:00:00    20.25\n",
       "1        1   east 2020-01-08 22:00:00    22.98\n",
       "5        5   east 2020-01-10 09:00:00    26.93\n",
       "9        9  south 2020-01-10 22:00:00    22.28"
      ]
     },
     "execution_count": 9,
     "metadata": {},
     "output_type": "execute_result"
    }
   ],
   "source": [
    "sales.sort_values('date_time', inplace=True)\n",
    "sales"
   ]
  },
  {
   "cell_type": "code",
   "execution_count": 10,
   "id": "da8c2cfd",
   "metadata": {
    "execution": {
     "iopub.execute_input": "2024-04-14T19:06:12.329460Z",
     "iopub.status.busy": "2024-04-14T19:06:12.329038Z",
     "iopub.status.idle": "2024-04-14T19:06:12.355466Z",
     "shell.execute_reply": "2024-04-14T19:06:12.354545Z"
    },
    "papermill": {
     "duration": 0.040059,
     "end_time": "2024-04-14T19:06:12.357888",
     "exception": false,
     "start_time": "2024-04-14T19:06:12.317829",
     "status": "completed"
    },
    "tags": []
   },
   "outputs": [
    {
     "data": {
      "text/html": [
       "<div>\n",
       "<style scoped>\n",
       "    .dataframe tbody tr th:only-of-type {\n",
       "        vertical-align: middle;\n",
       "    }\n",
       "\n",
       "    .dataframe tbody tr th {\n",
       "        vertical-align: top;\n",
       "    }\n",
       "\n",
       "    .dataframe thead th {\n",
       "        text-align: right;\n",
       "    }\n",
       "</style>\n",
       "<table border=\"1\" class=\"dataframe\">\n",
       "  <thead>\n",
       "    <tr style=\"text-align: right;\">\n",
       "      <th></th>\n",
       "      <th>sale_id</th>\n",
       "      <th>region</th>\n",
       "      <th>date_time</th>\n",
       "      <th>revenue</th>\n",
       "      <th>commercial_id</th>\n",
       "    </tr>\n",
       "  </thead>\n",
       "  <tbody>\n",
       "    <tr>\n",
       "      <th>0</th>\n",
       "      <td>7</td>\n",
       "      <td>south</td>\n",
       "      <td>2020-01-01 08:00:00</td>\n",
       "      <td>23.38</td>\n",
       "      <td>NaN</td>\n",
       "    </tr>\n",
       "    <tr>\n",
       "      <th>1</th>\n",
       "      <td>8</td>\n",
       "      <td>south</td>\n",
       "      <td>2020-01-01 17:00:00</td>\n",
       "      <td>25.74</td>\n",
       "      <td>NaN</td>\n",
       "    </tr>\n",
       "    <tr>\n",
       "      <th>2</th>\n",
       "      <td>4</td>\n",
       "      <td>west</td>\n",
       "      <td>2020-01-02 12:00:00</td>\n",
       "      <td>20.47</td>\n",
       "      <td>NaN</td>\n",
       "    </tr>\n",
       "    <tr>\n",
       "      <th>3</th>\n",
       "      <td>0</td>\n",
       "      <td>west</td>\n",
       "      <td>2020-01-05 08:00:00</td>\n",
       "      <td>20.14</td>\n",
       "      <td>9.0</td>\n",
       "    </tr>\n",
       "    <tr>\n",
       "      <th>4</th>\n",
       "      <td>3</td>\n",
       "      <td>west</td>\n",
       "      <td>2020-01-05 17:00:00</td>\n",
       "      <td>16.82</td>\n",
       "      <td>9.0</td>\n",
       "    </tr>\n",
       "    <tr>\n",
       "      <th>5</th>\n",
       "      <td>2</td>\n",
       "      <td>south</td>\n",
       "      <td>2020-01-07 21:00:00</td>\n",
       "      <td>22.98</td>\n",
       "      <td>6.0</td>\n",
       "    </tr>\n",
       "    <tr>\n",
       "      <th>6</th>\n",
       "      <td>6</td>\n",
       "      <td>north</td>\n",
       "      <td>2020-01-08 19:00:00</td>\n",
       "      <td>20.25</td>\n",
       "      <td>NaN</td>\n",
       "    </tr>\n",
       "    <tr>\n",
       "      <th>7</th>\n",
       "      <td>1</td>\n",
       "      <td>east</td>\n",
       "      <td>2020-01-08 22:00:00</td>\n",
       "      <td>22.98</td>\n",
       "      <td>8.0</td>\n",
       "    </tr>\n",
       "    <tr>\n",
       "      <th>8</th>\n",
       "      <td>5</td>\n",
       "      <td>east</td>\n",
       "      <td>2020-01-10 09:00:00</td>\n",
       "      <td>26.93</td>\n",
       "      <td>8.0</td>\n",
       "    </tr>\n",
       "    <tr>\n",
       "      <th>9</th>\n",
       "      <td>9</td>\n",
       "      <td>south</td>\n",
       "      <td>2020-01-10 22:00:00</td>\n",
       "      <td>22.28</td>\n",
       "      <td>2.0</td>\n",
       "    </tr>\n",
       "  </tbody>\n",
       "</table>\n",
       "</div>"
      ],
      "text/plain": [
       "   sale_id region           date_time  revenue  commercial_id\n",
       "0        7  south 2020-01-01 08:00:00    23.38            NaN\n",
       "1        8  south 2020-01-01 17:00:00    25.74            NaN\n",
       "2        4   west 2020-01-02 12:00:00    20.47            NaN\n",
       "3        0   west 2020-01-05 08:00:00    20.14            9.0\n",
       "4        3   west 2020-01-05 17:00:00    16.82            9.0\n",
       "5        2  south 2020-01-07 21:00:00    22.98            6.0\n",
       "6        6  north 2020-01-08 19:00:00    20.25            NaN\n",
       "7        1   east 2020-01-08 22:00:00    22.98            8.0\n",
       "8        5   east 2020-01-10 09:00:00    26.93            8.0\n",
       "9        9  south 2020-01-10 22:00:00    22.28            2.0"
      ]
     },
     "execution_count": 10,
     "metadata": {},
     "output_type": "execute_result"
    }
   ],
   "source": [
    "pd.merge_asof(left=sales, right=commercials, on='date_time', by='region', direction='backward')"
   ]
  },
  {
   "cell_type": "code",
   "execution_count": null,
   "id": "1e98c521",
   "metadata": {
    "papermill": {
     "duration": 0.010281,
     "end_time": "2024-04-14T19:06:12.378761",
     "exception": false,
     "start_time": "2024-04-14T19:06:12.368480",
     "status": "completed"
    },
    "tags": []
   },
   "outputs": [],
   "source": []
  }
 ],
 "metadata": {
  "kaggle": {
   "accelerator": "none",
   "dataSources": [],
   "dockerImageVersionId": 30673,
   "isGpuEnabled": false,
   "isInternetEnabled": true,
   "language": "python",
   "sourceType": "notebook"
  },
  "kernelspec": {
   "display_name": "Python 3",
   "language": "python",
   "name": "python3"
  },
  "language_info": {
   "codemirror_mode": {
    "name": "ipython",
    "version": 3
   },
   "file_extension": ".py",
   "mimetype": "text/x-python",
   "name": "python",
   "nbconvert_exporter": "python",
   "pygments_lexer": "ipython3",
   "version": "3.10.13"
  },
  "papermill": {
   "default_parameters": {},
   "duration": 5.36774,
   "end_time": "2024-04-14T19:06:12.910758",
   "environment_variables": {},
   "exception": null,
   "input_path": "__notebook__.ipynb",
   "output_path": "__notebook__.ipynb",
   "parameters": {},
   "start_time": "2024-04-14T19:06:07.543018",
   "version": "2.5.0"
  }
 },
 "nbformat": 4,
 "nbformat_minor": 5
}
