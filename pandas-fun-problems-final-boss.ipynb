{
 "cells": [
  {
   "cell_type": "markdown",
   "id": "248909e9",
   "metadata": {
    "papermill": {
     "duration": 0.004088,
     "end_time": "2024-03-29T12:24:14.330797",
     "exception": false,
     "start_time": "2024-03-29T12:24:14.326709",
     "status": "completed"
    },
    "tags": []
   },
   "source": [
    "# Pandas Fun Problems - Final Boss\n",
    "\n",
    "Welcome to the ultimate challenge in our Pandas series! This notebook is the pinnacle of our journey through data manipulation with Pandas, where you'll face the most demanding problems yet. Designed for those who seek to test their limits, this set of problems is dubbed the \"Final Boss\" for good reason.\n",
    "\n",
    "Before attempting these challenges, make sure you have worked through the previous notebooks in this series. It is particularly crucial that you've completed the **[Pandas Fun Problems - Advanced](https://www.kaggle.com/code/matinmahmoudi/pandas-fun-problems-advanced/)** notebook. The advanced notebook covers sophisticated techniques and operations that will be essential for conquering the challenges ahead.\n",
    "\n",
    "- **Practice Problems Source:** [Final Boss Problems](https://www.practiceprobs.com/problemsets/python-pandas/final-boss/)\n",
    "- **YouTube Tutorial:** [Video Guide](https://www.youtube.com/watch?v=8xUgesdShE8)\n",
    "\n",
    "\n",
    "As always, we encourage you to share your solutions, thoughts, and questions in the comments. Your engagement not only enriches your learning experience but also supports others on their path to mastering Pandas.\n",
    "\n",
    "### **Found this notebook challenging and rewarding? Show your support with an upvote!**\n"
   ]
  },
  {
   "cell_type": "markdown",
   "id": "8ce33b78",
   "metadata": {
    "papermill": {
     "duration": 0.003237,
     "end_time": "2024-03-29T12:24:14.337836",
     "exception": false,
     "start_time": "2024-03-29T12:24:14.334599",
     "status": "completed"
    },
    "tags": []
   },
   "source": [
    "# Q1 - COVID Tracing Problem"
   ]
  },
  {
   "cell_type": "markdown",
   "id": "f862c956",
   "metadata": {
    "papermill": {
     "duration": 0.003157,
     "end_time": "2024-03-29T12:24:14.344483",
     "exception": false,
     "start_time": "2024-03-29T12:24:14.341326",
     "status": "completed"
    },
    "tags": []
   },
   "source": [
    "https://www.practiceprobs.com/problemsets/python-pandas/final-boss/covid-tracing/"
   ]
  },
  {
   "cell_type": "markdown",
   "id": "8ea8a471",
   "metadata": {
    "papermill": {
     "duration": 0.003673,
     "end_time": "2024-03-29T12:24:14.352197",
     "exception": false,
     "start_time": "2024-03-29T12:24:14.348524",
     "status": "completed"
    },
    "tags": []
   },
   "source": [
    "You track the whereabouts of 100 individuals in a DataFrame called whereabouts. Each person has a corresponding list of place ids indicating the places they’ve visited in the recent week. You also track which places have been exposed to COVID-19 in a list called exposed 😷.\n"
   ]
  },
  {
   "cell_type": "code",
   "execution_count": 1,
   "id": "729a2af4",
   "metadata": {
    "execution": {
     "iopub.execute_input": "2024-03-29T12:24:14.361580Z",
     "iopub.status.busy": "2024-03-29T12:24:14.360696Z",
     "iopub.status.idle": "2024-03-29T12:24:15.436623Z",
     "shell.execute_reply": "2024-03-29T12:24:15.435235Z"
    },
    "papermill": {
     "duration": 1.08419,
     "end_time": "2024-03-29T12:24:15.439972",
     "exception": false,
     "start_time": "2024-03-29T12:24:14.355782",
     "status": "completed"
    },
    "tags": []
   },
   "outputs": [
    {
     "name": "stdout",
     "output_type": "stream",
     "text": [
      "   person_id              places\n",
      "0          0        [3, 4, 5, 6]\n",
      "1          1                  []\n",
      "2          2                 [3]\n",
      "3          3           [6, 8, 9]\n",
      "4          4                 [3]\n",
      "5          5  [0, 2, 5, 6, 7, 8]\n",
      "6          6              [2, 7]\n",
      "7          7        [0, 5, 8, 9]\n",
      "8          8           [2, 7, 9]\n",
      "9          9        [0, 5, 8, 9]\n"
     ]
    }
   ],
   "source": [
    "import numpy as np\n",
    "import pandas as pd\n",
    "\n",
    "# exposed places\n",
    "exposed = [0,5,9]\n",
    "\n",
    "# whereabouts of each person\n",
    "generator = np.random.default_rng(2468)\n",
    "Nplaces = 10\n",
    "Npersons = 10\n",
    "place_ids = np.arange(Nplaces)\n",
    "visits = generator.choice(place_ids, size=3*Nplaces, replace=True)\n",
    "split_idxs = np.sort(generator.choice(len(visits), size=9, replace=True))\n",
    "whereabouts = pd.DataFrame({\n",
    "    'person_id': range(Npersons),\n",
    "    'places': [np.unique(x).tolist() for x in np.array_split(visits, split_idxs)]\n",
    "})\n",
    "\n",
    "print(whereabouts)\n",
    "#    person_id              places\n",
    "# 0          0        [3, 4, 5, 6]\n",
    "# 1          1                  []\n",
    "# 2          2                 [3]\n",
    "# 3          3           [6, 8, 9]\n",
    "# 4          4                 [3]\n",
    "# 5          5  [0, 2, 5, 6, 7, 8]\n",
    "# 6          6              [2, 7]\n",
    "# 7          7        [0, 5, 8, 9]\n",
    "# 8          8           [2, 7, 9]\n",
    "# 9          9        [0, 5, 8, 9]"
   ]
  },
  {
   "cell_type": "markdown",
   "id": "59500f2d",
   "metadata": {
    "papermill": {
     "duration": 0.003484,
     "end_time": "2024-03-29T12:24:15.447722",
     "exception": false,
     "start_time": "2024-03-29T12:24:15.444238",
     "status": "completed"
    },
    "tags": []
   },
   "source": [
    "For each person, identify the places they visited which have been exposed. Make this a new list-column in whereabouts called exposures.\n",
    "\n"
   ]
  },
  {
   "cell_type": "markdown",
   "id": "a236420f",
   "metadata": {
    "papermill": {
     "duration": 0.003354,
     "end_time": "2024-03-29T12:24:15.454687",
     "exception": false,
     "start_time": "2024-03-29T12:24:15.451333",
     "status": "completed"
    },
    "tags": []
   },
   "source": [
    "## Solution 1"
   ]
  },
  {
   "cell_type": "code",
   "execution_count": 2,
   "id": "03db8b53",
   "metadata": {
    "execution": {
     "iopub.execute_input": "2024-03-29T12:24:15.464130Z",
     "iopub.status.busy": "2024-03-29T12:24:15.463566Z",
     "iopub.status.idle": "2024-03-29T12:24:15.490552Z",
     "shell.execute_reply": "2024-03-29T12:24:15.489159Z"
    },
    "papermill": {
     "duration": 0.034436,
     "end_time": "2024-03-29T12:24:15.492773",
     "exception": false,
     "start_time": "2024-03-29T12:24:15.458337",
     "status": "completed"
    },
    "tags": []
   },
   "outputs": [
    {
     "data": {
      "text/html": [
       "<div>\n",
       "<style scoped>\n",
       "    .dataframe tbody tr th:only-of-type {\n",
       "        vertical-align: middle;\n",
       "    }\n",
       "\n",
       "    .dataframe tbody tr th {\n",
       "        vertical-align: top;\n",
       "    }\n",
       "\n",
       "    .dataframe thead th {\n",
       "        text-align: right;\n",
       "    }\n",
       "</style>\n",
       "<table border=\"1\" class=\"dataframe\">\n",
       "  <thead>\n",
       "    <tr style=\"text-align: right;\">\n",
       "      <th></th>\n",
       "      <th>person_id</th>\n",
       "      <th>places</th>\n",
       "      <th>exposures</th>\n",
       "    </tr>\n",
       "  </thead>\n",
       "  <tbody>\n",
       "    <tr>\n",
       "      <th>0</th>\n",
       "      <td>0</td>\n",
       "      <td>[3, 4, 5, 6]</td>\n",
       "      <td>[5]</td>\n",
       "    </tr>\n",
       "    <tr>\n",
       "      <th>1</th>\n",
       "      <td>1</td>\n",
       "      <td>[]</td>\n",
       "      <td>[]</td>\n",
       "    </tr>\n",
       "    <tr>\n",
       "      <th>2</th>\n",
       "      <td>2</td>\n",
       "      <td>[3]</td>\n",
       "      <td>[]</td>\n",
       "    </tr>\n",
       "    <tr>\n",
       "      <th>3</th>\n",
       "      <td>3</td>\n",
       "      <td>[6, 8, 9]</td>\n",
       "      <td>[9]</td>\n",
       "    </tr>\n",
       "    <tr>\n",
       "      <th>4</th>\n",
       "      <td>4</td>\n",
       "      <td>[3]</td>\n",
       "      <td>[]</td>\n",
       "    </tr>\n",
       "    <tr>\n",
       "      <th>5</th>\n",
       "      <td>5</td>\n",
       "      <td>[0, 2, 5, 6, 7, 8]</td>\n",
       "      <td>[0, 5]</td>\n",
       "    </tr>\n",
       "    <tr>\n",
       "      <th>6</th>\n",
       "      <td>6</td>\n",
       "      <td>[2, 7]</td>\n",
       "      <td>[]</td>\n",
       "    </tr>\n",
       "    <tr>\n",
       "      <th>7</th>\n",
       "      <td>7</td>\n",
       "      <td>[0, 5, 8, 9]</td>\n",
       "      <td>[0, 9, 5]</td>\n",
       "    </tr>\n",
       "    <tr>\n",
       "      <th>8</th>\n",
       "      <td>8</td>\n",
       "      <td>[2, 7, 9]</td>\n",
       "      <td>[9]</td>\n",
       "    </tr>\n",
       "    <tr>\n",
       "      <th>9</th>\n",
       "      <td>9</td>\n",
       "      <td>[0, 5, 8, 9]</td>\n",
       "      <td>[0, 9, 5]</td>\n",
       "    </tr>\n",
       "  </tbody>\n",
       "</table>\n",
       "</div>"
      ],
      "text/plain": [
       "   person_id              places  exposures\n",
       "0          0        [3, 4, 5, 6]        [5]\n",
       "1          1                  []         []\n",
       "2          2                 [3]         []\n",
       "3          3           [6, 8, 9]        [9]\n",
       "4          4                 [3]         []\n",
       "5          5  [0, 2, 5, 6, 7, 8]     [0, 5]\n",
       "6          6              [2, 7]         []\n",
       "7          7        [0, 5, 8, 9]  [0, 9, 5]\n",
       "8          8           [2, 7, 9]        [9]\n",
       "9          9        [0, 5, 8, 9]  [0, 9, 5]"
      ]
     },
     "execution_count": 2,
     "metadata": {},
     "output_type": "execute_result"
    }
   ],
   "source": [
    "whereabouts['exposures'] = whereabouts['places'].apply(lambda x: list(set(x) & set(exposed)))\n",
    "whereabouts"
   ]
  },
  {
   "cell_type": "markdown",
   "id": "86e61481",
   "metadata": {
    "papermill": {
     "duration": 0.003645,
     "end_time": "2024-03-29T12:24:15.500700",
     "exception": false,
     "start_time": "2024-03-29T12:24:15.497055",
     "status": "completed"
    },
    "tags": []
   },
   "source": [
    "## Solution 2"
   ]
  },
  {
   "cell_type": "code",
   "execution_count": 3,
   "id": "c4ed6dff",
   "metadata": {
    "execution": {
     "iopub.execute_input": "2024-03-29T12:24:15.510793Z",
     "iopub.status.busy": "2024-03-29T12:24:15.510426Z",
     "iopub.status.idle": "2024-03-29T12:24:15.527136Z",
     "shell.execute_reply": "2024-03-29T12:24:15.525598Z"
    },
    "papermill": {
     "duration": 0.025182,
     "end_time": "2024-03-29T12:24:15.529878",
     "exception": false,
     "start_time": "2024-03-29T12:24:15.504696",
     "status": "completed"
    },
    "tags": []
   },
   "outputs": [
    {
     "data": {
      "text/html": [
       "<div>\n",
       "<style scoped>\n",
       "    .dataframe tbody tr th:only-of-type {\n",
       "        vertical-align: middle;\n",
       "    }\n",
       "\n",
       "    .dataframe tbody tr th {\n",
       "        vertical-align: top;\n",
       "    }\n",
       "\n",
       "    .dataframe thead th {\n",
       "        text-align: right;\n",
       "    }\n",
       "</style>\n",
       "<table border=\"1\" class=\"dataframe\">\n",
       "  <thead>\n",
       "    <tr style=\"text-align: right;\">\n",
       "      <th></th>\n",
       "      <th>person_id</th>\n",
       "      <th>places</th>\n",
       "      <th>exposures</th>\n",
       "    </tr>\n",
       "  </thead>\n",
       "  <tbody>\n",
       "    <tr>\n",
       "      <th>0</th>\n",
       "      <td>0</td>\n",
       "      <td>[3, 4, 5, 6]</td>\n",
       "      <td>[5]</td>\n",
       "    </tr>\n",
       "    <tr>\n",
       "      <th>1</th>\n",
       "      <td>1</td>\n",
       "      <td>[]</td>\n",
       "      <td>[]</td>\n",
       "    </tr>\n",
       "    <tr>\n",
       "      <th>2</th>\n",
       "      <td>2</td>\n",
       "      <td>[3]</td>\n",
       "      <td>[]</td>\n",
       "    </tr>\n",
       "    <tr>\n",
       "      <th>3</th>\n",
       "      <td>3</td>\n",
       "      <td>[6, 8, 9]</td>\n",
       "      <td>[9]</td>\n",
       "    </tr>\n",
       "    <tr>\n",
       "      <th>4</th>\n",
       "      <td>4</td>\n",
       "      <td>[3]</td>\n",
       "      <td>[]</td>\n",
       "    </tr>\n",
       "    <tr>\n",
       "      <th>5</th>\n",
       "      <td>5</td>\n",
       "      <td>[0, 2, 5, 6, 7, 8]</td>\n",
       "      <td>[0, 5]</td>\n",
       "    </tr>\n",
       "    <tr>\n",
       "      <th>6</th>\n",
       "      <td>6</td>\n",
       "      <td>[2, 7]</td>\n",
       "      <td>[]</td>\n",
       "    </tr>\n",
       "    <tr>\n",
       "      <th>7</th>\n",
       "      <td>7</td>\n",
       "      <td>[0, 5, 8, 9]</td>\n",
       "      <td>[0, 9, 5]</td>\n",
       "    </tr>\n",
       "    <tr>\n",
       "      <th>8</th>\n",
       "      <td>8</td>\n",
       "      <td>[2, 7, 9]</td>\n",
       "      <td>[9]</td>\n",
       "    </tr>\n",
       "    <tr>\n",
       "      <th>9</th>\n",
       "      <td>9</td>\n",
       "      <td>[0, 5, 8, 9]</td>\n",
       "      <td>[0, 9, 5]</td>\n",
       "    </tr>\n",
       "  </tbody>\n",
       "</table>\n",
       "</div>"
      ],
      "text/plain": [
       "   person_id              places  exposures\n",
       "0          0        [3, 4, 5, 6]        [5]\n",
       "1          1                  []         []\n",
       "2          2                 [3]         []\n",
       "3          3           [6, 8, 9]        [9]\n",
       "4          4                 [3]         []\n",
       "5          5  [0, 2, 5, 6, 7, 8]     [0, 5]\n",
       "6          6              [2, 7]         []\n",
       "7          7        [0, 5, 8, 9]  [0, 9, 5]\n",
       "8          8           [2, 7, 9]        [9]\n",
       "9          9        [0, 5, 8, 9]  [0, 9, 5]"
      ]
     },
     "execution_count": 3,
     "metadata": {},
     "output_type": "execute_result"
    }
   ],
   "source": [
    "whereabouts['exposures'] = [list(set(x) & set(exposed)) for x in whereabouts['places']]\n",
    "whereabouts"
   ]
  },
  {
   "cell_type": "markdown",
   "id": "59a54258",
   "metadata": {
    "papermill": {
     "duration": 0.003624,
     "end_time": "2024-03-29T12:24:15.537846",
     "exception": false,
     "start_time": "2024-03-29T12:24:15.534222",
     "status": "completed"
    },
    "tags": []
   },
   "source": [
    "# Q2 - Pickle Problem"
   ]
  },
  {
   "cell_type": "markdown",
   "id": "56d3d281",
   "metadata": {
    "papermill": {
     "duration": 0.003547,
     "end_time": "2024-03-29T12:24:15.545211",
     "exception": false,
     "start_time": "2024-03-29T12:24:15.541664",
     "status": "completed"
    },
    "tags": []
   },
   "source": [
    "Given a Series called pickle, replace NaNs using the following algorithm.\n"
   ]
  },
  {
   "cell_type": "code",
   "execution_count": 4,
   "id": "918554eb",
   "metadata": {
    "execution": {
     "iopub.execute_input": "2024-03-29T12:24:15.554918Z",
     "iopub.status.busy": "2024-03-29T12:24:15.554586Z",
     "iopub.status.idle": "2024-03-29T12:24:15.561924Z",
     "shell.execute_reply": "2024-03-29T12:24:15.560616Z"
    },
    "papermill": {
     "duration": 0.015292,
     "end_time": "2024-03-29T12:24:15.564558",
     "exception": false,
     "start_time": "2024-03-29T12:24:15.549266",
     "status": "completed"
    },
    "tags": []
   },
   "outputs": [
    {
     "data": {
      "text/plain": [
       "'\\nfor each NaN:\\n  get the nearest non NaN value before and after it\\n  if both of those values exist:\\n    replace NaN with the minimum of those two non NaN values\\n  else:\\n    replace NaN with the nearest non NaN value\\n'"
      ]
     },
     "execution_count": 4,
     "metadata": {},
     "output_type": "execute_result"
    }
   ],
   "source": [
    "'''\n",
    "for each NaN:\n",
    "  get the nearest non NaN value before and after it\n",
    "  if both of those values exist:\n",
    "    replace NaN with the minimum of those two non NaN values\n",
    "  else:\n",
    "    replace NaN with the nearest non NaN value\n",
    "'''"
   ]
  },
  {
   "cell_type": "code",
   "execution_count": 5,
   "id": "dac7c89e",
   "metadata": {
    "execution": {
     "iopub.execute_input": "2024-03-29T12:24:15.575728Z",
     "iopub.status.busy": "2024-03-29T12:24:15.575271Z",
     "iopub.status.idle": "2024-03-29T12:24:15.586210Z",
     "shell.execute_reply": "2024-03-29T12:24:15.584042Z"
    },
    "papermill": {
     "duration": 0.019463,
     "end_time": "2024-03-29T12:24:15.588587",
     "exception": false,
     "start_time": "2024-03-29T12:24:15.569124",
     "status": "completed"
    },
    "tags": []
   },
   "outputs": [
    {
     "name": "stdout",
     "output_type": "stream",
     "text": [
      "0     1.5\n",
      "1     NaN\n",
      "2     2.3\n",
      "3     NaN\n",
      "4     NaN\n",
      "5    -3.9\n",
      "6     NaN\n",
      "7     4.5\n",
      "8     NaN\n",
      "9     NaN\n",
      "10    NaN\n",
      "11    1.9\n",
      "12    NaN\n",
      "dtype: float64\n"
     ]
    }
   ],
   "source": [
    "import numpy as np\n",
    "import pandas as pd\n",
    "\n",
    "pickle = pd.Series([1.5, np.nan, 2.3, np.nan, np.nan, -3.9, np.nan, 4.5, np.nan, np.nan, np.nan, 1.9, np.nan])\n",
    "\n",
    "print(pickle)\n",
    "# 0     1.5\n",
    "# 1     NaN\n",
    "# 2     2.3\n",
    "# 3     NaN\n",
    "# 4     NaN\n",
    "# 5    -3.9\n",
    "# 6     NaN\n",
    "# 7     4.5\n",
    "# 8     NaN\n",
    "# 9     NaN\n",
    "# 10    NaN\n",
    "# 11    1.9\n",
    "# 12    NaN\n",
    "# dtype: float64"
   ]
  },
  {
   "cell_type": "markdown",
   "id": "2a674057",
   "metadata": {
    "papermill": {
     "duration": 0.003926,
     "end_time": "2024-03-29T12:24:15.596952",
     "exception": false,
     "start_time": "2024-03-29T12:24:15.593026",
     "status": "completed"
    },
    "tags": []
   },
   "source": [
    "## Solution "
   ]
  },
  {
   "cell_type": "code",
   "execution_count": 6,
   "id": "70147718",
   "metadata": {
    "execution": {
     "iopub.execute_input": "2024-03-29T12:24:15.607702Z",
     "iopub.status.busy": "2024-03-29T12:24:15.606712Z",
     "iopub.status.idle": "2024-03-29T12:24:15.625882Z",
     "shell.execute_reply": "2024-03-29T12:24:15.624924Z"
    },
    "papermill": {
     "duration": 0.027698,
     "end_time": "2024-03-29T12:24:15.628841",
     "exception": false,
     "start_time": "2024-03-29T12:24:15.601143",
     "status": "completed"
    },
    "tags": []
   },
   "outputs": [
    {
     "name": "stdout",
     "output_type": "stream",
     "text": [
      "0     1.5\n",
      "1     1.5\n",
      "2     2.3\n",
      "3    -3.9\n",
      "4    -3.9\n",
      "5    -3.9\n",
      "6    -3.9\n",
      "7     4.5\n",
      "8     1.9\n",
      "9     1.9\n",
      "10    1.9\n",
      "11    1.9\n",
      "12    1.9\n",
      "dtype: float64\n"
     ]
    },
    {
     "name": "stderr",
     "output_type": "stream",
     "text": [
      "/tmp/ipykernel_18/3132165669.py:2: FutureWarning: Series.fillna with 'method' is deprecated and will raise in a future version. Use obj.ffill() or obj.bfill() instead.\n",
      "  forward_filled = series.fillna(method='ffill')\n",
      "/tmp/ipykernel_18/3132165669.py:3: FutureWarning: Series.fillna with 'method' is deprecated and will raise in a future version. Use obj.ffill() or obj.bfill() instead.\n",
      "  backward_filled = series.fillna(method='bfill')\n"
     ]
    }
   ],
   "source": [
    "def fillna_custom(series):\n",
    "    forward_filled = series.fillna(method='ffill')\n",
    "    backward_filled = series.fillna(method='bfill')\n",
    "    min_filled = pd.concat([forward_filled, backward_filled], axis=1).min(axis=1)\n",
    "    return min_filled\n",
    "\n",
    "pickle_filled = fillna_custom(pickle)\n",
    "print(pickle_filled)"
   ]
  },
  {
   "cell_type": "code",
   "execution_count": null,
   "id": "4448ca5e",
   "metadata": {
    "papermill": {
     "duration": 0.004167,
     "end_time": "2024-03-29T12:24:15.637594",
     "exception": false,
     "start_time": "2024-03-29T12:24:15.633427",
     "status": "completed"
    },
    "tags": []
   },
   "outputs": [],
   "source": []
  }
 ],
 "metadata": {
  "kaggle": {
   "accelerator": "none",
   "dataSources": [],
   "dockerImageVersionId": 30673,
   "isGpuEnabled": false,
   "isInternetEnabled": true,
   "language": "python",
   "sourceType": "notebook"
  },
  "kernelspec": {
   "display_name": "Python 3",
   "language": "python",
   "name": "python3"
  },
  "language_info": {
   "codemirror_mode": {
    "name": "ipython",
    "version": 3
   },
   "file_extension": ".py",
   "mimetype": "text/x-python",
   "name": "python",
   "nbconvert_exporter": "python",
   "pygments_lexer": "ipython3",
   "version": "3.10.13"
  },
  "papermill": {
   "default_parameters": {},
   "duration": 5.011505,
   "end_time": "2024-03-29T12:24:16.162730",
   "environment_variables": {},
   "exception": null,
   "input_path": "__notebook__.ipynb",
   "output_path": "__notebook__.ipynb",
   "parameters": {},
   "start_time": "2024-03-29T12:24:11.151225",
   "version": "2.5.0"
  }
 },
 "nbformat": 4,
 "nbformat_minor": 5
}
