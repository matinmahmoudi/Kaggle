{
 "cells": [
  {
   "cell_type": "markdown",
   "id": "5722289d",
   "metadata": {
    "papermill": {
     "duration": 0.017823,
     "end_time": "2024-12-21T16:23:09.817034",
     "exception": false,
     "start_time": "2024-12-21T16:23:09.799211",
     "status": "completed"
    },
    "tags": []
   },
   "source": [
    "# 🌋 Pandas Mastery Series - Ultimate Challenge\n",
    "\n",
    "Welcome to the ultimate challenge in our Pandas series! This notebook is designed to test your data manipulation skills to the fullest. Each problem is carefully crafted to cover various aspects of Pandas and provide you with an enriching learning experience.\n",
    "\n",
    "Before attempting this challenge, you should master all the learning topics from the [Kaggle Pandas course](https://www.kaggle.com/learn/pandas) and check out my Python Mastery Series on my page. Do not try to solve all the questions in one day. If you can handle all the questions, you are truly a master of Pandas.\n",
    "\n",
    "### **Enjoy the challenges? Show your support with an upvote!**\n",
    "\n",
    "## Table of Contents\n",
    "1. [Q1 - The Great Data Merge Maze](#q1)\n",
    "2. [Q2 - Time Travel with Multi-Index](#q2)\n",
    "3. [Q3 - The GroupBy Gauntlet](#q3)\n",
    "4. [Q4 - Regex Riddles in Data Cleaning](#q4)\n",
    "5. [Q5 - Speed Demon Data Manipulation](#q5)\n",
    "6. [Q6 - Recursive Riddle](#q6)\n",
    "7. [Q7 - Statistician's Nightmare](#q7)\n",
    "8. [Q8 - Pivot Table Puzzles](#q8)\n",
    "9. [Q9 - Aggregation Aggravation](#q9)\n",
    "10. [Q10 - Visual Magic with Pandas](#q10)\n",
    "11. [Q11 - Nested Data Labyrinth](#q11)\n",
    "12. [Q12 - Async Adventures in Data](#q12)\n",
    "13. [Q13 - Geo Pandas Adventure](#q13)\n",
    "14. [Q14 - Network Nexus Analysis](#q14)\n",
    "15. [Q15 - High Dimensional Hide and Seek](#q15)\n",
    "16. [Q16 - Real-time Data Rush](#q16)\n",
    "17. [Q17 - Machine Learning Preprocess Pandemonium](#q17)\n",
    "18. [Q18 - Text Tango with Pandas](#q18)\n",
    "19. [Q19 - Anomaly Detection Drama](#q19)\n",
    "20. [Q20 - Imputation Imbroglio](#q20)\n"
   ]
  },
  {
   "cell_type": "markdown",
   "id": "bcf87acd",
   "metadata": {
    "papermill": {
     "duration": 0.017716,
     "end_time": "2024-12-21T16:23:09.852411",
     "exception": false,
     "start_time": "2024-12-21T16:23:09.834695",
     "status": "completed"
    },
    "tags": []
   },
   "source": [
    "# Q1 - The Great Data Merge Maze\n",
    "<a id=\"q1\"></a>\n",
    "\n",
    "\n",
    "**Question:**\n",
    "Welcome to the Great Data Merge Maze! You are given three datasets: `customers`, `orders`, and `products`. Your task is to merge these datasets to answer the following questions:\n",
    "1. Which customers ordered which products and at what price?\n",
    "2. Calculate the total amount spent by each customer.\n",
    "3. Identify the top 2 customers who spent the most.\n",
    "4. Determine which products were never ordered.\n",
    "5. Find the customer who ordered the highest quantity of a single product.\n",
    "\n",
    "**Datasets:**\n",
    "- `customers`: Contains customer IDs and names.\n",
    "- `orders`: Contains order IDs, customer IDs, product IDs, and order quantities.\n",
    "- `products`: Contains product IDs, names, and prices.\n",
    "\n",
    "Generate synthetic data for the datasets and merge them to find the answers.\n"
   ]
  },
  {
   "cell_type": "code",
   "execution_count": 1,
   "id": "aba8e734",
   "metadata": {
    "execution": {
     "iopub.execute_input": "2024-12-21T16:23:09.887156Z",
     "iopub.status.busy": "2024-12-21T16:23:09.886794Z",
     "iopub.status.idle": "2024-12-21T16:23:11.021545Z",
     "shell.execute_reply": "2024-12-21T16:23:11.020321Z"
    },
    "papermill": {
     "duration": 1.155184,
     "end_time": "2024-12-21T16:23:11.024764",
     "exception": false,
     "start_time": "2024-12-21T16:23:09.869580",
     "status": "completed"
    },
    "tags": []
   },
   "outputs": [
    {
     "name": "stdout",
     "output_type": "stream",
     "text": [
      "Customers DataFrame:\n",
      "   customer_id     customer_name\n",
      "0            1      Alice Apples\n",
      "1            2       Bob Bananas\n",
      "2            3  Charlie Cherries\n",
      "3            4       David Dates\n",
      "4            5  Eve Elderberries\n",
      "5            6        Frank Figs\n",
      "6            7      Grace Grapes\n",
      "7            8   Hannah Honeydew\n",
      "8            9       Ivy Iceberg\n",
      "9           10       Jack Jicama \n",
      "\n",
      "Products DataFrame:\n",
      "   product_id            product_name  product_price\n",
      "0           1           Widget Wonder          59.39\n",
      "1           2             Gizmo Glitz          74.37\n",
      "2           3          Doodad Delight          64.25\n",
      "3           4      Thingamajig Thrill          59.04\n",
      "4           5       Contraption Charm          48.13\n",
      "5           6             Gadget Glow          68.13\n",
      "6           7  Whatchamacallit Whimsy          49.38\n",
      "7           8        Doohickey Dazzle          90.26\n",
      "8           9            Whatsit Whiz          96.73\n",
      "9          10          Gubbins Galore          44.51 \n",
      "\n",
      "Orders DataFrame:\n",
      "    order_id  customer_id  product_id  order_quantity\n",
      "0          1            7           4               9\n",
      "1          2            8           4               5\n",
      "2          3            8           8               2\n",
      "3          4            9           1               5\n",
      "4          5            2           2               9\n",
      "5          6            6          10               2\n",
      "6          7           10          10               2\n",
      "7          8            9           1               8\n",
      "8          9           10           5               4\n",
      "9         10            5           8               7\n",
      "10        11            4           4               8\n",
      "11        12            1           3               3\n",
      "12        13            4           8               1\n",
      "13        14            6           3               4\n",
      "14        15            1           1               6\n",
      "15        16            3           1               5\n",
      "16        17            4           5               5\n",
      "17        18            9           6               7\n",
      "18        19            2           6               5\n",
      "19        20            4           7               5\n"
     ]
    }
   ],
   "source": [
    "import pandas as pd\n",
    "import numpy as np\n",
    "\n",
    "# Seed for reproducibility\n",
    "np.random.seed(0)\n",
    "\n",
    "# Customers DataFrame\n",
    "customers = pd.DataFrame({\n",
    "    'customer_id': range(1, 11),\n",
    "    'customer_name': ['Alice Apples', 'Bob Bananas', 'Charlie Cherries', 'David Dates', 'Eve Elderberries', 'Frank Figs', 'Grace Grapes', 'Hannah Honeydew', 'Ivy Iceberg', 'Jack Jicama']\n",
    "})\n",
    "\n",
    "# Products DataFrame\n",
    "products = pd.DataFrame({\n",
    "    'product_id': range(1, 11),\n",
    "    'product_name': ['Widget Wonder', 'Gizmo Glitz', 'Doodad Delight', 'Thingamajig Thrill', 'Contraption Charm', 'Gadget Glow', 'Whatchamacallit Whimsy', 'Doohickey Dazzle', 'Whatsit Whiz', 'Gubbins Galore'],\n",
    "    'product_price': np.random.uniform(10, 100, size=10).round(2)\n",
    "})\n",
    "\n",
    "# Orders DataFrame\n",
    "orders = pd.DataFrame({\n",
    "    'order_id': range(1, 21),\n",
    "    'customer_id': np.random.choice(customers['customer_id'], size=20),\n",
    "    'product_id': np.random.choice(products['product_id'], size=20),\n",
    "    'order_quantity': np.random.randint(1, 10, size=20)\n",
    "})\n",
    "\n",
    "# Display the datasets\n",
    "print(\"Customers DataFrame:\")\n",
    "print(customers, \"\\n\")\n",
    "print(\"Products DataFrame:\")\n",
    "print(products, \"\\n\")\n",
    "print(\"Orders DataFrame:\")\n",
    "print(orders)\n"
   ]
  },
  {
   "cell_type": "markdown",
   "id": "f0bbb6f9",
   "metadata": {
    "papermill": {
     "duration": 0.017118,
     "end_time": "2024-12-21T16:23:11.061089",
     "exception": false,
     "start_time": "2024-12-21T16:23:11.043971",
     "status": "completed"
    },
    "tags": []
   },
   "source": [
    "## Solution Explanation\n",
    "\n",
    "The steps to solve this problem are:\n",
    "1. Merge the `orders` and `customers` DataFrames on `customer_id` to get customer information with their orders.\n",
    "2. Merge the resulting DataFrame with the `products` DataFrame on `product_id` to get the product prices along with the customer orders.\n",
    "3. Calculate the total amount spent by each customer.\n",
    "4. Identify the top 2 customers who spent the most.\n",
    "5. Determine which products were never ordered.\n",
    "6. Find the customer who ordered the highest quantity of a single product.\n",
    "\n",
    "Let's implement these steps in the following code.\n"
   ]
  },
  {
   "cell_type": "code",
   "execution_count": 2,
   "id": "9b7bc961",
   "metadata": {
    "execution": {
     "iopub.execute_input": "2024-12-21T16:23:11.095525Z",
     "iopub.status.busy": "2024-12-21T16:23:11.094994Z",
     "iopub.status.idle": "2024-12-21T16:23:11.119529Z",
     "shell.execute_reply": "2024-12-21T16:23:11.118325Z"
    },
    "papermill": {
     "duration": 0.044311,
     "end_time": "2024-12-21T16:23:11.121847",
     "exception": false,
     "start_time": "2024-12-21T16:23:11.077536",
     "status": "completed"
    },
    "tags": []
   },
   "outputs": [
    {
     "name": "stdout",
     "output_type": "stream",
     "text": [
      "Step 1: Orders merged with Customers\n",
      "    order_id  customer_id  product_id  order_quantity     customer_name\n",
      "0          1            7           4               9      Grace Grapes\n",
      "1          2            8           4               5   Hannah Honeydew\n",
      "2          3            8           8               2   Hannah Honeydew\n",
      "3          4            9           1               5       Ivy Iceberg\n",
      "4          5            2           2               9       Bob Bananas\n",
      "5          6            6          10               2        Frank Figs\n",
      "6          7           10          10               2       Jack Jicama\n",
      "7          8            9           1               8       Ivy Iceberg\n",
      "8          9           10           5               4       Jack Jicama\n",
      "9         10            5           8               7  Eve Elderberries\n",
      "10        11            4           4               8       David Dates\n",
      "11        12            1           3               3      Alice Apples\n",
      "12        13            4           8               1       David Dates\n",
      "13        14            6           3               4        Frank Figs\n",
      "14        15            1           1               6      Alice Apples\n",
      "15        16            3           1               5  Charlie Cherries\n",
      "16        17            4           5               5       David Dates\n",
      "17        18            9           6               7       Ivy Iceberg\n",
      "18        19            2           6               5       Bob Bananas\n",
      "19        20            4           7               5       David Dates \n",
      "\n"
     ]
    }
   ],
   "source": [
    "# Step 1: Merge orders with customers to get customer information in orders\n",
    "# This merge operation will give us a DataFrame that includes each order with the corresponding customer information.\n",
    "orders_customers = pd.merge(orders, customers, on='customer_id', how='inner')\n",
    "print(\"Step 1: Orders merged with Customers\")\n",
    "print(orders_customers, \"\\n\")"
   ]
  },
  {
   "cell_type": "code",
   "execution_count": 3,
   "id": "26c1d6cf",
   "metadata": {
    "execution": {
     "iopub.execute_input": "2024-12-21T16:23:11.156078Z",
     "iopub.status.busy": "2024-12-21T16:23:11.155704Z",
     "iopub.status.idle": "2024-12-21T16:23:11.168168Z",
     "shell.execute_reply": "2024-12-21T16:23:11.167110Z"
    },
    "papermill": {
     "duration": 0.032164,
     "end_time": "2024-12-21T16:23:11.170447",
     "exception": false,
     "start_time": "2024-12-21T16:23:11.138283",
     "status": "completed"
    },
    "tags": []
   },
   "outputs": [
    {
     "name": "stdout",
     "output_type": "stream",
     "text": [
      "Step 2: Orders merged with Customers and Products\n",
      "    order_id  customer_id  product_id  order_quantity     customer_name  \\\n",
      "0          1            7           4               9      Grace Grapes   \n",
      "1          2            8           4               5   Hannah Honeydew   \n",
      "2          3            8           8               2   Hannah Honeydew   \n",
      "3          4            9           1               5       Ivy Iceberg   \n",
      "4          5            2           2               9       Bob Bananas   \n",
      "5          6            6          10               2        Frank Figs   \n",
      "6          7           10          10               2       Jack Jicama   \n",
      "7          8            9           1               8       Ivy Iceberg   \n",
      "8          9           10           5               4       Jack Jicama   \n",
      "9         10            5           8               7  Eve Elderberries   \n",
      "10        11            4           4               8       David Dates   \n",
      "11        12            1           3               3      Alice Apples   \n",
      "12        13            4           8               1       David Dates   \n",
      "13        14            6           3               4        Frank Figs   \n",
      "14        15            1           1               6      Alice Apples   \n",
      "15        16            3           1               5  Charlie Cherries   \n",
      "16        17            4           5               5       David Dates   \n",
      "17        18            9           6               7       Ivy Iceberg   \n",
      "18        19            2           6               5       Bob Bananas   \n",
      "19        20            4           7               5       David Dates   \n",
      "\n",
      "              product_name  product_price  \n",
      "0       Thingamajig Thrill          59.04  \n",
      "1       Thingamajig Thrill          59.04  \n",
      "2         Doohickey Dazzle          90.26  \n",
      "3            Widget Wonder          59.39  \n",
      "4              Gizmo Glitz          74.37  \n",
      "5           Gubbins Galore          44.51  \n",
      "6           Gubbins Galore          44.51  \n",
      "7            Widget Wonder          59.39  \n",
      "8        Contraption Charm          48.13  \n",
      "9         Doohickey Dazzle          90.26  \n",
      "10      Thingamajig Thrill          59.04  \n",
      "11          Doodad Delight          64.25  \n",
      "12        Doohickey Dazzle          90.26  \n",
      "13          Doodad Delight          64.25  \n",
      "14           Widget Wonder          59.39  \n",
      "15           Widget Wonder          59.39  \n",
      "16       Contraption Charm          48.13  \n",
      "17             Gadget Glow          68.13  \n",
      "18             Gadget Glow          68.13  \n",
      "19  Whatchamacallit Whimsy          49.38   \n",
      "\n"
     ]
    }
   ],
   "source": [
    "# Step 2: Merge the resulting DataFrame with products to get product prices\n",
    "# This merge operation will add the product details (name and price) to each order.\n",
    "orders_customers_products = pd.merge(orders_customers, products, on='product_id', how='inner')\n",
    "print(\"Step 2: Orders merged with Customers and Products\")\n",
    "print(orders_customers_products, \"\\n\")"
   ]
  },
  {
   "cell_type": "code",
   "execution_count": 4,
   "id": "df660b63",
   "metadata": {
    "execution": {
     "iopub.execute_input": "2024-12-21T16:23:11.204724Z",
     "iopub.status.busy": "2024-12-21T16:23:11.204361Z",
     "iopub.status.idle": "2024-12-21T16:23:11.214476Z",
     "shell.execute_reply": "2024-12-21T16:23:11.213304Z"
    },
    "papermill": {
     "duration": 0.029681,
     "end_time": "2024-12-21T16:23:11.216711",
     "exception": false,
     "start_time": "2024-12-21T16:23:11.187030",
     "status": "completed"
    },
    "tags": []
   },
   "outputs": [
    {
     "name": "stdout",
     "output_type": "stream",
     "text": [
      "Step 3: Final Merged DataFrame\n",
      "       customer_name            product_name  product_price  order_quantity\n",
      "0       Grace Grapes      Thingamajig Thrill          59.04               9\n",
      "1    Hannah Honeydew      Thingamajig Thrill          59.04               5\n",
      "2    Hannah Honeydew        Doohickey Dazzle          90.26               2\n",
      "3        Ivy Iceberg           Widget Wonder          59.39               5\n",
      "4        Bob Bananas             Gizmo Glitz          74.37               9\n",
      "5         Frank Figs          Gubbins Galore          44.51               2\n",
      "6        Jack Jicama          Gubbins Galore          44.51               2\n",
      "7        Ivy Iceberg           Widget Wonder          59.39               8\n",
      "8        Jack Jicama       Contraption Charm          48.13               4\n",
      "9   Eve Elderberries        Doohickey Dazzle          90.26               7\n",
      "10       David Dates      Thingamajig Thrill          59.04               8\n",
      "11      Alice Apples          Doodad Delight          64.25               3\n",
      "12       David Dates        Doohickey Dazzle          90.26               1\n",
      "13        Frank Figs          Doodad Delight          64.25               4\n",
      "14      Alice Apples           Widget Wonder          59.39               6\n",
      "15  Charlie Cherries           Widget Wonder          59.39               5\n",
      "16       David Dates       Contraption Charm          48.13               5\n",
      "17       Ivy Iceberg             Gadget Glow          68.13               7\n",
      "18       Bob Bananas             Gadget Glow          68.13               5\n",
      "19       David Dates  Whatchamacallit Whimsy          49.38               5 \n",
      "\n"
     ]
    }
   ],
   "source": [
    "# Step 3: Select relevant columns and display the final merged DataFrame\n",
    "# We are interested in customer names, product names, product prices, and order quantities.\n",
    "final_result = orders_customers_products[['customer_name', 'product_name', 'product_price', 'order_quantity']]\n",
    "print(\"Step 3: Final Merged DataFrame\")\n",
    "print(final_result, \"\\n\")"
   ]
  },
  {
   "cell_type": "code",
   "execution_count": 5,
   "id": "994daa68",
   "metadata": {
    "execution": {
     "iopub.execute_input": "2024-12-21T16:23:11.251746Z",
     "iopub.status.busy": "2024-12-21T16:23:11.251333Z",
     "iopub.status.idle": "2024-12-21T16:23:11.268442Z",
     "shell.execute_reply": "2024-12-21T16:23:11.267223Z"
    },
    "papermill": {
     "duration": 0.037689,
     "end_time": "2024-12-21T16:23:11.270874",
     "exception": false,
     "start_time": "2024-12-21T16:23:11.233185",
     "status": "completed"
    },
    "tags": []
   },
   "outputs": [
    {
     "name": "stdout",
     "output_type": "stream",
     "text": [
      "Step 4: Total Amount Spent by Each Customer\n",
      "      customer_name  total_spent\n",
      "0      Alice Apples       549.09\n",
      "1       Bob Bananas      1009.98\n",
      "2  Charlie Cherries       296.95\n",
      "3       David Dates      1050.13\n",
      "4  Eve Elderberries       631.82\n",
      "5        Frank Figs       346.02\n",
      "6      Grace Grapes       531.36\n",
      "7   Hannah Honeydew       475.72\n",
      "8       Ivy Iceberg      1248.98\n",
      "9       Jack Jicama       281.54 \n",
      "\n"
     ]
    }
   ],
   "source": [
    "# Step 4: Calculate the total amount spent by each customer\n",
    "# We need to multiply the product price by the order quantity for each row and then sum it up per customer.\n",
    "orders_customers_products['total_price'] = orders_customers_products['product_price'] * orders_customers_products['order_quantity']\n",
    "customer_spending = orders_customers_products.groupby('customer_name')['total_price'].sum().reset_index()\n",
    "customer_spending = customer_spending.rename(columns={'total_price': 'total_spent'})\n",
    "print(\"Step 4: Total Amount Spent by Each Customer\")\n",
    "print(customer_spending, \"\\n\")"
   ]
  },
  {
   "cell_type": "code",
   "execution_count": 6,
   "id": "ab4067bc",
   "metadata": {
    "execution": {
     "iopub.execute_input": "2024-12-21T16:23:11.306422Z",
     "iopub.status.busy": "2024-12-21T16:23:11.306048Z",
     "iopub.status.idle": "2024-12-21T16:23:11.316567Z",
     "shell.execute_reply": "2024-12-21T16:23:11.315345Z"
    },
    "papermill": {
     "duration": 0.031524,
     "end_time": "2024-12-21T16:23:11.319127",
     "exception": false,
     "start_time": "2024-12-21T16:23:11.287603",
     "status": "completed"
    },
    "tags": []
   },
   "outputs": [
    {
     "name": "stdout",
     "output_type": "stream",
     "text": [
      "Step 5: Top 2 Customers Who Spent the Most\n",
      "  customer_name  total_spent\n",
      "8   Ivy Iceberg      1248.98\n",
      "3   David Dates      1050.13 \n",
      "\n"
     ]
    }
   ],
   "source": [
    "# Step 5: Identify the top 2 customers who spent the most\n",
    "# Sort the customers by the total amount spent in descending order and take the top 2.\n",
    "top_customers = customer_spending.sort_values(by='total_spent', ascending=False).head(2)\n",
    "print(\"Step 5: Top 2 Customers Who Spent the Most\")\n",
    "print(top_customers, \"\\n\")"
   ]
  },
  {
   "cell_type": "code",
   "execution_count": 7,
   "id": "f025ff94",
   "metadata": {
    "execution": {
     "iopub.execute_input": "2024-12-21T16:23:11.354702Z",
     "iopub.status.busy": "2024-12-21T16:23:11.354365Z",
     "iopub.status.idle": "2024-12-21T16:23:11.366328Z",
     "shell.execute_reply": "2024-12-21T16:23:11.364916Z"
    },
    "papermill": {
     "duration": 0.032771,
     "end_time": "2024-12-21T16:23:11.368583",
     "exception": false,
     "start_time": "2024-12-21T16:23:11.335812",
     "status": "completed"
    },
    "tags": []
   },
   "outputs": [
    {
     "name": "stdout",
     "output_type": "stream",
     "text": [
      "Step 6: Products Never Ordered\n",
      "   product_id  product_name  product_price\n",
      "8           9  Whatsit Whiz          96.73 \n",
      "\n"
     ]
    }
   ],
   "source": [
    "# Step 6: Determine which products were never ordered\n",
    "# Find the products that are not present in the orders DataFrame.\n",
    "ordered_products = orders['product_id'].unique()\n",
    "all_products = products['product_id'].unique()\n",
    "never_ordered_products = products[~products['product_id'].isin(ordered_products)]\n",
    "print(\"Step 6: Products Never Ordered\")\n",
    "print(never_ordered_products, \"\\n\")"
   ]
  },
  {
   "cell_type": "code",
   "execution_count": 8,
   "id": "96160815",
   "metadata": {
    "execution": {
     "iopub.execute_input": "2024-12-21T16:23:11.405124Z",
     "iopub.status.busy": "2024-12-21T16:23:11.404739Z",
     "iopub.status.idle": "2024-12-21T16:23:11.413030Z",
     "shell.execute_reply": "2024-12-21T16:23:11.411638Z"
    },
    "papermill": {
     "duration": 0.029773,
     "end_time": "2024-12-21T16:23:11.415570",
     "exception": false,
     "start_time": "2024-12-21T16:23:11.385797",
     "status": "completed"
    },
    "tags": []
   },
   "outputs": [
    {
     "name": "stdout",
     "output_type": "stream",
     "text": [
      "Step 7: Customer Who Ordered the Highest Quantity of a Single Product\n",
      "customer_name           Grace Grapes\n",
      "product_name      Thingamajig Thrill\n",
      "order_quantity                     9\n",
      "Name: 0, dtype: object\n"
     ]
    }
   ],
   "source": [
    "# Step 7: Find the customer who ordered the highest quantity of a single product\n",
    "# Identify the maximum order quantity and the corresponding customer and product.\n",
    "max_order = orders_customers_products.loc[orders_customers_products['order_quantity'].idxmax()]\n",
    "print(\"Step 7: Customer Who Ordered the Highest Quantity of a Single Product\")\n",
    "print(max_order[['customer_name', 'product_name', 'order_quantity']])"
   ]
  },
  {
   "cell_type": "markdown",
   "id": "3b7caa02",
   "metadata": {
    "papermill": {
     "duration": 0.016433,
     "end_time": "2024-12-21T16:23:11.450003",
     "exception": false,
     "start_time": "2024-12-21T16:23:11.433570",
     "status": "completed"
    },
    "tags": []
   },
   "source": [
    "# Q2 - Time Travel with Multi-Index\n",
    "<a id=\"q2\"></a>\n",
    "\n",
    "**Question:**\n",
    "Welcome to Time Travel with Multi-Index! You are given a multi-index time series dataset of sales data for different regions and product categories. Your task is to perform advanced time series analysis and manipulation to answer the following questions:\n",
    "1. What is the total sales for each region and product category over time?\n",
    "2. Calculate the moving average of sales for each region and product category.\n",
    "3. Identify the region with the highest sales growth rate.\n",
    "4. Determine the top-selling product category for each region.\n",
    "5. Find the month with the highest overall sales.\n",
    "\n",
    "**Datasets:**\n",
    "- `sales_data`: Contains multi-index (region, product_category) and columns (date, sales).\n",
    "\n"
   ]
  },
  {
   "cell_type": "code",
   "execution_count": 9,
   "id": "14996240",
   "metadata": {
    "execution": {
     "iopub.execute_input": "2024-12-21T16:23:11.486897Z",
     "iopub.status.busy": "2024-12-21T16:23:11.486559Z",
     "iopub.status.idle": "2024-12-21T16:23:11.513127Z",
     "shell.execute_reply": "2024-12-21T16:23:11.511905Z"
    },
    "papermill": {
     "duration": 0.049019,
     "end_time": "2024-12-21T16:23:11.515853",
     "exception": false,
     "start_time": "2024-12-21T16:23:11.466834",
     "status": "completed"
    },
    "tags": []
   },
   "outputs": [
    {
     "name": "stdout",
     "output_type": "stream",
     "text": [
      "Sales Data DataFrame:\n",
      "                                        Sales\n",
      "Region     Product_Category Date             \n",
      "North Pole Gizmos           2023-01-31   2061\n",
      "                            2023-02-28   1235\n",
      "                            2023-03-31   4980\n",
      "                            2023-04-30   2096\n",
      "                            2023-05-31   4839\n",
      "...                                       ...\n",
      "Westworld  Thingamajigs     2023-08-31   3224\n",
      "                            2023-09-30   2590\n",
      "                            2023-10-31   4087\n",
      "                            2023-11-30   3949\n",
      "                            2023-12-31   2425\n",
      "\n",
      "[192 rows x 1 columns]\n"
     ]
    }
   ],
   "source": [
    "import pandas as pd\n",
    "import numpy as np\n",
    "\n",
    "# Seed for reproducibility\n",
    "np.random.seed(1)\n",
    "\n",
    "# Generate date range\n",
    "date_range = pd.date_range(start='2023-01-01', end='2023-12-31', freq='ME')\n",
    "\n",
    "# Regions and product categories\n",
    "regions = ['North Pole', 'South Pole', 'East Egg', 'Westworld']\n",
    "product_categories = ['Gizmos', 'Widgets', 'Doodads', 'Thingamajigs']\n",
    "\n",
    "# Generate synthetic sales data\n",
    "data = []\n",
    "for region in regions:\n",
    "    for category in product_categories:\n",
    "        sales = np.random.randint(1000, 5000, size=len(date_range))\n",
    "        for date, sale in zip(date_range, sales):\n",
    "            data.append([region, category, date, sale])\n",
    "\n",
    "# Create DataFrame\n",
    "sales_data = pd.DataFrame(data, columns=['Region', 'Product_Category', 'Date', 'Sales'])\n",
    "\n",
    "# Set multi-index\n",
    "sales_data.set_index(['Region', 'Product_Category', 'Date'], inplace=True)\n",
    "\n",
    "# Display the dataset\n",
    "print(\"Sales Data DataFrame:\")\n",
    "print(sales_data)\n"
   ]
  },
  {
   "cell_type": "markdown",
   "id": "86c23789",
   "metadata": {
    "papermill": {
     "duration": 0.016518,
     "end_time": "2024-12-21T16:23:11.549666",
     "exception": false,
     "start_time": "2024-12-21T16:23:11.533148",
     "status": "completed"
    },
    "tags": []
   },
   "source": [
    "## Solution Explanation\n",
    "\n",
    "The steps to solve this problem are:\n",
    "1. Calculate the total sales for each region and product category over time.\n",
    "2. Calculate the moving average of sales for each region and product category.\n",
    "3. Identify the region with the highest sales growth rate.\n",
    "4. Determine the top-selling product category for each region.\n",
    "5. Find the month with the highest overall sales.\n",
    "\n",
    "Let's implement these steps in the following code.\n"
   ]
  },
  {
   "cell_type": "code",
   "execution_count": 10,
   "id": "665db928",
   "metadata": {
    "execution": {
     "iopub.execute_input": "2024-12-21T16:23:11.585559Z",
     "iopub.status.busy": "2024-12-21T16:23:11.585172Z",
     "iopub.status.idle": "2024-12-21T16:23:11.637604Z",
     "shell.execute_reply": "2024-12-21T16:23:11.636310Z"
    },
    "papermill": {
     "duration": 0.072744,
     "end_time": "2024-12-21T16:23:11.640042",
     "exception": false,
     "start_time": "2024-12-21T16:23:11.567298",
     "status": "completed"
    },
    "tags": []
   },
   "outputs": [
    {
     "name": "stdout",
     "output_type": "stream",
     "text": [
      "Step 1: Total Sales for Each Region and Product Category Over Time\n",
      "                                       Sales\n",
      "Region    Product_Category Date             \n",
      "East Egg  Doodads          2023-01-31   2393\n",
      "                           2023-02-28   2869\n",
      "                           2023-03-31   2795\n",
      "                           2023-04-30   3944\n",
      "                           2023-05-31   2277\n",
      "...                                      ...\n",
      "Westworld Widgets          2023-08-31   3464\n",
      "                           2023-09-30   4212\n",
      "                           2023-10-31   4265\n",
      "                           2023-11-30   1606\n",
      "                           2023-12-31   4644\n",
      "\n",
      "[192 rows x 1 columns] \n",
      "\n"
     ]
    }
   ],
   "source": [
    "# Step 1: Calculate the total sales for each region and product category over time\n",
    "# First, we'll group the data by Region and Product Category, then resample it to monthly frequency and sum the sales.\n",
    "total_sales = sales_data.groupby(['Region', 'Product_Category']).resample('ME', level='Date').sum()\n",
    "print(\"Step 1: Total Sales for Each Region and Product Category Over Time\")\n",
    "print(total_sales, \"\\n\")"
   ]
  },
  {
   "cell_type": "code",
   "execution_count": 11,
   "id": "13ee6f94",
   "metadata": {
    "execution": {
     "iopub.execute_input": "2024-12-21T16:23:11.676788Z",
     "iopub.status.busy": "2024-12-21T16:23:11.675909Z",
     "iopub.status.idle": "2024-12-21T16:23:11.692734Z",
     "shell.execute_reply": "2024-12-21T16:23:11.691327Z"
    },
    "papermill": {
     "duration": 0.038133,
     "end_time": "2024-12-21T16:23:11.695206",
     "exception": false,
     "start_time": "2024-12-21T16:23:11.657073",
     "status": "completed"
    },
    "tags": []
   },
   "outputs": [
    {
     "name": "stdout",
     "output_type": "stream",
     "text": [
      "Step 2: Moving Average of Sales for Each Region and Product Category\n",
      "                                          Region Product_Category        Sales\n",
      "Region    Product_Category Date                                               \n",
      "East Egg  Doodads          2023-01-31   East Egg          Doodads          NaN\n",
      "                           2023-02-28   East Egg          Doodads          NaN\n",
      "                           2023-03-31   East Egg          Doodads  2685.666667\n",
      "                           2023-04-30   East Egg          Doodads  3202.666667\n",
      "                           2023-05-31   East Egg          Doodads  3005.333333\n",
      "...                                          ...              ...          ...\n",
      "Westworld Widgets          2023-08-31  Westworld          Widgets  4248.000000\n",
      "                           2023-09-30  Westworld          Widgets  4136.000000\n",
      "                           2023-10-31  Westworld          Widgets  3980.333333\n",
      "                           2023-11-30  Westworld          Widgets  3361.000000\n",
      "                           2023-12-31  Westworld          Widgets  3505.000000\n",
      "\n",
      "[192 rows x 3 columns] \n",
      "\n"
     ]
    }
   ],
   "source": [
    "# Step 2: Calculate the moving average of sales for each region and product category\n",
    "# We'll calculate a rolling window average with a window size of 3 months.\n",
    "moving_avg_sales = total_sales.groupby(level=['Region', 'Product_Category']).rolling(window=3).mean()\n",
    "print(\"Step 2: Moving Average of Sales for Each Region and Product Category\")\n",
    "print(moving_avg_sales.reset_index(level=[0, 1]), \"\\n\")"
   ]
  },
  {
   "cell_type": "code",
   "execution_count": 12,
   "id": "95d3c1b5",
   "metadata": {
    "execution": {
     "iopub.execute_input": "2024-12-21T16:23:11.731162Z",
     "iopub.status.busy": "2024-12-21T16:23:11.730768Z",
     "iopub.status.idle": "2024-12-21T16:23:11.742368Z",
     "shell.execute_reply": "2024-12-21T16:23:11.741227Z"
    },
    "papermill": {
     "duration": 0.032128,
     "end_time": "2024-12-21T16:23:11.744556",
     "exception": false,
     "start_time": "2024-12-21T16:23:11.712428",
     "status": "completed"
    },
    "tags": []
   },
   "outputs": [
    {
     "name": "stdout",
     "output_type": "stream",
     "text": [
      "Step 3: Region with the Highest Sales Growth Rate\n",
      "Region: North Pole\n",
      "\n"
     ]
    }
   ],
   "source": [
    "# Step 3: Identify the region with the highest sales growth rate\n",
    "# We'll calculate the percentage change in total sales for each region and identify the one with the highest growth.\n",
    "sales_growth = total_sales.groupby(level='Region').sum().pct_change().fillna(0)\n",
    "highest_growth_region = sales_growth['Sales'].idxmax()\n",
    "print(\"Step 3: Region with the Highest Sales Growth Rate\")\n",
    "print(f\"Region: {highest_growth_region}\\n\")\n"
   ]
  },
  {
   "cell_type": "code",
   "execution_count": 13,
   "id": "b19cc2aa",
   "metadata": {
    "execution": {
     "iopub.execute_input": "2024-12-21T16:23:11.780916Z",
     "iopub.status.busy": "2024-12-21T16:23:11.780167Z",
     "iopub.status.idle": "2024-12-21T16:23:11.793405Z",
     "shell.execute_reply": "2024-12-21T16:23:11.792231Z"
    },
    "papermill": {
     "duration": 0.033894,
     "end_time": "2024-12-21T16:23:11.795586",
     "exception": false,
     "start_time": "2024-12-21T16:23:11.761692",
     "status": "completed"
    },
    "tags": []
   },
   "outputs": [
    {
     "name": "stdout",
     "output_type": "stream",
     "text": [
      "Step 4: Top-Selling Product Category for Each Region\n",
      "                                 Sales\n",
      "Region                                \n",
      "East Egg            (East Egg, Gizmos)\n",
      "North Pole       (North Pole, Widgets)\n",
      "South Pole  (South Pole, Thingamajigs)\n",
      "Westworld          (Westworld, Gizmos) \n",
      "\n"
     ]
    }
   ],
   "source": [
    "# Step 4: Determine the top-selling product category for each region\n",
    "# We will group by Region and Product Category, sum the sales, and find the product category with the highest sales for each region.\n",
    "top_selling_category = total_sales.groupby(['Region', 'Product_Category']).sum().groupby(level='Region').idxmax()\n",
    "print(\"Step 4: Top-Selling Product Category for Each Region\")\n",
    "print(top_selling_category, \"\\n\")"
   ]
  },
  {
   "cell_type": "code",
   "execution_count": 14,
   "id": "dd44cae7",
   "metadata": {
    "execution": {
     "iopub.execute_input": "2024-12-21T16:23:11.889219Z",
     "iopub.status.busy": "2024-12-21T16:23:11.888861Z",
     "iopub.status.idle": "2024-12-21T16:23:11.896951Z",
     "shell.execute_reply": "2024-12-21T16:23:11.895847Z"
    },
    "papermill": {
     "duration": 0.086737,
     "end_time": "2024-12-21T16:23:11.899656",
     "exception": false,
     "start_time": "2024-12-21T16:23:11.812919",
     "status": "completed"
    },
    "tags": []
   },
   "outputs": [
    {
     "name": "stdout",
     "output_type": "stream",
     "text": [
      "Step 5: Month with the Highest Overall Sales\n",
      "Month: 2023-05\n",
      "\n"
     ]
    }
   ],
   "source": [
    "# Step 5: Find the month with the highest overall sales\n",
    "# We will sum the sales for each month across all regions and product categories to find the month with the highest total sales.\n",
    "total_monthly_sales = total_sales.groupby('Date').sum()\n",
    "highest_sales_month = total_monthly_sales['Sales'].idxmax()\n",
    "print(\"Step 5: Month with the Highest Overall Sales\")\n",
    "print(f\"Month: {highest_sales_month.strftime('%Y-%m')}\\n\")"
   ]
  },
  {
   "cell_type": "markdown",
   "id": "8b6f4453",
   "metadata": {
    "papermill": {
     "duration": 0.017385,
     "end_time": "2024-12-21T16:23:11.934839",
     "exception": false,
     "start_time": "2024-12-21T16:23:11.917454",
     "status": "completed"
    },
    "tags": []
   },
   "source": [
    "# Q3 - The GroupBy Gauntlet\n",
    "<a id=\"q3\"></a>\n",
    "\n",
    "**Question:**\n",
    "Welcome to the GroupBy Gauntlet! You are given a dataset of wacky wizard tournaments. Each tournament has multiple rounds, and wizards earn points in each round. Your task is to perform complex groupby operations to answer the following questions:\n",
    "1. Calculate the total points for each wizard across all tournaments.\n",
    "2. Identify the wizard with the highest average points per round.\n",
    "3. Determine the tournament with the highest total points.\n",
    "4. Find the wizard who won the most rounds (i.e., highest points in each round).\n",
    "5. Calculate the average points per round for each tournament.\n",
    "6. Determine the standard deviation of points for each wizard across all tournaments.\n",
    "7. Identify the top 3 wizards with the most consistent performance (lowest standard deviation in points).\n",
    "8. Calculate the cumulative points for each wizard across all tournaments over time.\n",
    "9. Find the round in each tournament with the highest average points scored.\n",
    "10. Determine the correlation between the number of rounds and total points scored for each wizard.\n",
    "\n",
    "**Datasets:**\n",
    "- `wizard_tournaments`: Contains columns (tournament_id, round_id, wizard_name, points).\n",
    "\n"
   ]
  },
  {
   "cell_type": "code",
   "execution_count": 15,
   "id": "d8358d8b",
   "metadata": {
    "execution": {
     "iopub.execute_input": "2024-12-21T16:23:11.973432Z",
     "iopub.status.busy": "2024-12-21T16:23:11.972973Z",
     "iopub.status.idle": "2024-12-21T16:23:11.988844Z",
     "shell.execute_reply": "2024-12-21T16:23:11.987716Z"
    },
    "papermill": {
     "duration": 0.038117,
     "end_time": "2024-12-21T16:23:11.991446",
     "exception": false,
     "start_time": "2024-12-21T16:23:11.953329",
     "status": "completed"
    },
    "tags": []
   },
   "outputs": [
    {
     "name": "stdout",
     "output_type": "stream",
     "text": [
      "Wizard Tournaments DataFrame:\n",
      "   tournament_id  round_id wizard_name  points\n",
      "0              1         1      Merlin      51\n",
      "1              1         1     Gandalf      92\n",
      "2              1         1       Harry      14\n",
      "3              1         1   Voldemort      71\n",
      "4              1         1     Saruman      60\n"
     ]
    }
   ],
   "source": [
    "import pandas as pd\n",
    "import numpy as np\n",
    "\n",
    "# Seed for reproducibility\n",
    "np.random.seed(42)\n",
    "\n",
    "# Generate synthetic data\n",
    "tournament_ids = np.arange(1, 6)\n",
    "round_ids = np.arange(1, 11)\n",
    "wizard_names = ['Merlin', 'Gandalf', 'Harry', 'Voldemort', 'Saruman', 'Dumbledore', 'Hermione', 'Ron']\n",
    "\n",
    "data = []\n",
    "for tournament in tournament_ids:\n",
    "    for round_id in round_ids:\n",
    "        for wizard in wizard_names:\n",
    "            points = np.random.randint(0, 101)\n",
    "            data.append([tournament, round_id, wizard, points])\n",
    "\n",
    "# Create DataFrame\n",
    "wizard_tournaments = pd.DataFrame(data, columns=['tournament_id', 'round_id', 'wizard_name', 'points'])\n",
    "\n",
    "# Display the dataset\n",
    "print(\"Wizard Tournaments DataFrame:\")\n",
    "print(wizard_tournaments.head())\n"
   ]
  },
  {
   "cell_type": "markdown",
   "id": "b443e7f3",
   "metadata": {
    "papermill": {
     "duration": 0.01751,
     "end_time": "2024-12-21T16:23:12.026646",
     "exception": false,
     "start_time": "2024-12-21T16:23:12.009136",
     "status": "completed"
    },
    "tags": []
   },
   "source": [
    "## Solution Explanation\n",
    "\n",
    "The steps to solve this problem are:\n",
    "1. Calculate the total points for each wizard across all tournaments.\n",
    "2. Identify the wizard with the highest average points per round.\n",
    "3. Determine the tournament with the highest total points.\n",
    "4. Find the wizard who won the most rounds (i.e., highest points in each round).\n",
    "5. Calculate the average points per round for each tournament.\n",
    "6. Determine the standard deviation of points for each wizard across all tournaments.\n",
    "7. Identify the top 3 wizards with the most consistent performance (lowest standard deviation in points).\n",
    "8. Calculate the cumulative points for each wizard across all tournaments over time.\n",
    "9. Find the round in each tournament with the highest average points scored.\n",
    "Let's implement these steps in the following code.\n"
   ]
  },
  {
   "cell_type": "code",
   "execution_count": 16,
   "id": "a8cf618c",
   "metadata": {
    "execution": {
     "iopub.execute_input": "2024-12-21T16:23:12.065439Z",
     "iopub.status.busy": "2024-12-21T16:23:12.065062Z",
     "iopub.status.idle": "2024-12-21T16:23:12.121513Z",
     "shell.execute_reply": "2024-12-21T16:23:12.120121Z"
    },
    "papermill": {
     "duration": 0.079827,
     "end_time": "2024-12-21T16:23:12.124058",
     "exception": false,
     "start_time": "2024-12-21T16:23:12.044231",
     "status": "completed"
    },
    "tags": []
   },
   "outputs": [
    {
     "name": "stdout",
     "output_type": "stream",
     "text": [
      "Step 1: Total Points for Each Wizard\n",
      "  wizard_name  points\n",
      "0  Dumbledore    2428\n",
      "1     Gandalf    2851\n",
      "2       Harry    2346\n",
      "3    Hermione    3091\n",
      "4      Merlin    2488\n",
      "5         Ron    2210\n",
      "6     Saruman    2432\n",
      "7   Voldemort    2152 \n",
      "\n",
      "Step 2: Wizard with the Highest Average Points per Round\n",
      "wizard_name    Hermione\n",
      "points            61.82\n",
      "Name: 3, dtype: object \n",
      "\n",
      "Step 3: Tournament with the Highest Total Points\n",
      "tournament_id       3\n",
      "points           4074\n",
      "Name: 2, dtype: int64 \n",
      "\n",
      "Step 4: Wizard Who Won the Most Rounds\n",
      "Wizard: Gandalf\n",
      "\n",
      "Step 5: Average Points per Round for Each Tournament\n",
      "   tournament_id   points\n",
      "0              1  48.9750\n",
      "1              2  49.7250\n",
      "2              3  50.9250\n",
      "3              4  50.1625\n",
      "4              5  50.1875 \n",
      "\n",
      "Step 6: Standard Deviation of Points for Each Wizard\n",
      "  wizard_name     points\n",
      "0  Dumbledore  28.790701\n",
      "1     Gandalf  31.099242\n",
      "2       Harry  27.568719\n",
      "3    Hermione  28.769095\n",
      "4      Merlin  29.651417\n",
      "5         Ron  30.809487\n",
      "6     Saruman  30.693854\n",
      "7   Voldemort  30.334839 \n",
      "\n",
      "Step 7: Top 3 Most Consistent Wizards\n",
      "  wizard_name     points\n",
      "2       Harry  27.568719\n",
      "3    Hermione  28.769095\n",
      "0  Dumbledore  28.790701 \n",
      "\n",
      "Step 8: Cumulative Points for Each Wizard Over Time\n",
      "   wizard_name  tournament_id  round_id  cumulative_points\n",
      "5   Dumbledore              1         1                 20\n",
      "13  Dumbledore              1         2                 22\n",
      "21  Dumbledore              1         3                 85\n",
      "29  Dumbledore              1         4                133\n",
      "37  Dumbledore              1         5                194 \n",
      "\n",
      "Step 9: Round with the Highest Average Points Scored in Each Tournament\n",
      "    tournament_id  round_id  points\n",
      "0               1         1  59.500\n",
      "17              2         8  68.500\n",
      "20              3         1  65.125\n",
      "39              4        10  73.000\n",
      "48              5         9  68.500 \n",
      "\n"
     ]
    }
   ],
   "source": [
    "# Step 1: Calculate the total points for each wizard across all tournaments\n",
    "total_points_per_wizard = wizard_tournaments.groupby('wizard_name')['points'].sum().reset_index()\n",
    "print(\"Step 1: Total Points for Each Wizard\")\n",
    "print(total_points_per_wizard, \"\\n\")\n",
    "\n",
    "# Step 2: Identify the wizard with the highest average points per round\n",
    "average_points_per_round = wizard_tournaments.groupby('wizard_name')['points'].mean().reset_index()\n",
    "highest_avg_points_wizard = average_points_per_round.loc[average_points_per_round['points'].idxmax()]\n",
    "print(\"Step 2: Wizard with the Highest Average Points per Round\")\n",
    "print(highest_avg_points_wizard, \"\\n\")\n",
    "\n",
    "# Step 3: Determine the tournament with the highest total points\n",
    "total_points_per_tournament = wizard_tournaments.groupby('tournament_id')['points'].sum().reset_index()\n",
    "highest_total_points_tournament = total_points_per_tournament.loc[total_points_per_tournament['points'].idxmax()]\n",
    "print(\"Step 3: Tournament with the Highest Total Points\")\n",
    "print(highest_total_points_tournament, \"\\n\")\n",
    "\n",
    "# Step 4: Find the wizard who won the most rounds (i.e., highest points in each round)\n",
    "round_winners = wizard_tournaments.loc[wizard_tournaments.groupby(['tournament_id', 'round_id'])['points'].idxmax()]\n",
    "most_round_wins = round_winners['wizard_name'].value_counts().idxmax()\n",
    "print(\"Step 4: Wizard Who Won the Most Rounds\")\n",
    "print(f\"Wizard: {most_round_wins}\\n\")\n",
    "\n",
    "# Step 5: Calculate the average points per round for each tournament\n",
    "average_points_per_tournament = wizard_tournaments.groupby('tournament_id')['points'].mean().reset_index()\n",
    "print(\"Step 5: Average Points per Round for Each Tournament\")\n",
    "print(average_points_per_tournament, \"\\n\")\n",
    "\n",
    "# Step 6: Determine the standard deviation of points for each wizard across all tournaments\n",
    "std_dev_points_per_wizard = wizard_tournaments.groupby('wizard_name')['points'].std().reset_index()\n",
    "std_dev_points_per_wizard['points'] = std_dev_points_per_wizard['points'].fillna(0)  # Handle NaN values\n",
    "print(\"Step 6: Standard Deviation of Points for Each Wizard\")\n",
    "print(std_dev_points_per_wizard, \"\\n\")\n",
    "\n",
    "# Step 7: Identify the top 3 wizards with the most consistent performance (lowest standard deviation in points)\n",
    "most_consistent_wizards = std_dev_points_per_wizard.nsmallest(3, 'points')\n",
    "print(\"Step 7: Top 3 Most Consistent Wizards\")\n",
    "print(most_consistent_wizards, \"\\n\")\n",
    "\n",
    "# Step 8: Calculate the cumulative points for each wizard across all tournaments over time\n",
    "wizard_tournaments_sorted = wizard_tournaments.sort_values(by=['wizard_name', 'tournament_id', 'round_id'])\n",
    "wizard_tournaments_sorted['cumulative_points'] = wizard_tournaments_sorted.groupby('wizard_name')['points'].cumsum()\n",
    "print(\"Step 8: Cumulative Points for Each Wizard Over Time\")\n",
    "print(wizard_tournaments_sorted[['wizard_name', 'tournament_id', 'round_id', 'cumulative_points']].head(), \"\\n\")\n",
    "\n",
    "# Step 9: Find the round in each tournament with the highest average points scored\n",
    "highest_avg_points_per_round = wizard_tournaments.groupby(['tournament_id', 'round_id'])['points'].mean().reset_index()\n",
    "round_with_highest_avg_points = highest_avg_points_per_round.loc[highest_avg_points_per_round.groupby('tournament_id')['points'].idxmax()]\n",
    "print(\"Step 9: Round with the Highest Average Points Scored in Each Tournament\")\n",
    "print(round_with_highest_avg_points, \"\\n\")"
   ]
  },
  {
   "cell_type": "markdown",
   "id": "35f19824",
   "metadata": {
    "papermill": {
     "duration": 0.018372,
     "end_time": "2024-12-21T16:23:12.162432",
     "exception": false,
     "start_time": "2024-12-21T16:23:12.144060",
     "status": "completed"
    },
    "tags": []
   },
   "source": [
    "# Q4 - Regex Riddles in Data Cleaning\n",
    "<a id=\"q4\"></a>\n",
    "\n",
    "**Question:**\n",
    "Welcome to Regex Riddles in Data Cleaning! You are given a dataset containing customer reviews for various fantastical products. However, the data is quite messy with inconsistent formats, typos, and random special characters. Your task is to use regular expressions and other data cleaning techniques to answer the following questions:\n",
    "1. Standardize the format of email addresses.\n",
    "2. Correct common typos in product names.\n",
    "3. Remove any special characters from the reviews.\n",
    "4. Extract and count the number of reviews mentioning the word \"magic\".\n",
    "5. Identify the top 3 most frequently mentioned products in the reviews.\n",
    "\n",
    "**Datasets:**\n",
    "- `customer_reviews`: Contains columns (review_id, email, product_name, review_text).\n"
   ]
  },
  {
   "cell_type": "code",
   "execution_count": 17,
   "id": "483c9c76",
   "metadata": {
    "execution": {
     "iopub.execute_input": "2024-12-21T16:23:12.201559Z",
     "iopub.status.busy": "2024-12-21T16:23:12.201165Z",
     "iopub.status.idle": "2024-12-21T16:23:12.217604Z",
     "shell.execute_reply": "2024-12-21T16:23:12.216272Z"
    },
    "papermill": {
     "duration": 0.038766,
     "end_time": "2024-12-21T16:23:12.220051",
     "exception": false,
     "start_time": "2024-12-21T16:23:12.181285",
     "status": "completed"
    },
    "tags": []
   },
   "outputs": [
    {
     "name": "stdout",
     "output_type": "stream",
     "text": [
      "Customer Reviews DataFrame:\n",
      "    review_id                email  product_name  \\\n",
      "0           1   UsEr-1@example.com  Flying Broom   \n",
      "1           2    user2@example.com  Flying Broom   \n",
      "2           3   UsEr-3@example.com    Spell Book   \n",
      "3           4    user4@example.com    Spell Book   \n",
      "4           5   UsEr-5@example.com  Crystal Ball   \n",
      "5           6    user6@example.com    Magic Wand   \n",
      "6           7   UsEr-7@example.com     Spell Bok   \n",
      "7           8    user8@example.com         Potin   \n",
      "8           9   UsEr-9@example.com    Magic Wand   \n",
      "9          10   user10@example.com    Spell Book   \n",
      "10         11  UsEr-11@example.com   Flyng Broom   \n",
      "11         12   user12@example.com   Crystal Bll   \n",
      "12         13  UsEr-13@example.com     Magic Wnd   \n",
      "13         14   user14@example.com    Magic Wand   \n",
      "14         15  UsEr-15@example.com     Magic Wnd   \n",
      "15         16   user16@example.com  Flying Broom   \n",
      "16         17  UsEr-17@example.com  Flying Broom   \n",
      "17         18   user18@example.com         Potin   \n",
      "18         19  UsEr-19@example.com     Magic Wnd   \n",
      "19         20   user20@example.com  Crystal Ball   \n",
      "\n",
      "                                          review_text  \n",
      "0    This Spell Book is awesome! It's pure magic! !@@  \n",
      "1   This Crystal Ball is awesome! It's pure magic!...  \n",
      "2    This Magic Wand is awesome! It's pure magic! @&@  \n",
      "3     This Spell Bok is awesome! It's pure magic! &)$  \n",
      "4        This Potion is awesome! It's pure magic! !@@  \n",
      "5        This Potion is awesome! It's pure magic! $%@  \n",
      "6        This Potion is awesome! It's pure magic! )(*  \n",
      "7   This Flying Broom is awesome! It's pure magic!...  \n",
      "8   This Flying Broom is awesome! It's pure magic!...  \n",
      "9   This Crystal Ball is awesome! It's pure magic!...  \n",
      "10   This Spell Book is awesome! It's pure magic! !(&  \n",
      "11  This Crystal Ball is awesome! It's pure magic!...  \n",
      "12  This Crystal Ball is awesome! It's pure magic!...  \n",
      "13    This Spell Bok is awesome! It's pure magic! ($&  \n",
      "14  This Flyng Broom is awesome! It's pure magic! )**  \n",
      "15   This Spell Book is awesome! It's pure magic! )!@  \n",
      "16    This Spell Bok is awesome! It's pure magic! &!!  \n",
      "17    This Spell Bok is awesome! It's pure magic! #!(  \n",
      "18  This Flyng Broom is awesome! It's pure magic! &^$  \n",
      "19  This Crystal Ball is awesome! It's pure magic!...  \n"
     ]
    }
   ],
   "source": [
    "import pandas as pd\n",
    "import numpy as np\n",
    "\n",
    "# Seed for reproducibility\n",
    "np.random.seed(24)\n",
    "\n",
    "# Generate synthetic data\n",
    "review_ids = np.arange(1, 21)\n",
    "emails = ['user{}@example.com'.format(i) for i in range(1, 21)]\n",
    "emails = [email.replace('user', 'UsEr-') if i % 2 == 0 else email for i, email in enumerate(emails)]\n",
    "product_names = ['Magic Wand', 'Potion', 'Spell Book', 'Crystal Ball', 'Flying Broom']\n",
    "typos = ['Magic Wnd', 'Potin', 'Spell Bok', 'Crystal Bll', 'Flyng Broom']\n",
    "\n",
    "reviews = [\n",
    "    \"This {} is awesome! It's pure magic!\".format(np.random.choice(product_names + typos))\n",
    "    for _ in review_ids\n",
    "]\n",
    "special_characters = ['!', '@', '#', '$', '%', '^', '&', '*', '(', ')']\n",
    "reviews = [\n",
    "    review + ' ' + ''.join(np.random.choice(special_characters, 3))\n",
    "    for review in reviews\n",
    "]\n",
    "\n",
    "# Create DataFrame\n",
    "customer_reviews = pd.DataFrame({\n",
    "    'review_id': review_ids,\n",
    "    'email': emails,\n",
    "    'product_name': [np.random.choice(product_names + typos) for _ in review_ids],\n",
    "    'review_text': reviews\n",
    "})\n",
    "\n",
    "# Display the dataset\n",
    "print(\"Customer Reviews DataFrame:\")\n",
    "print(customer_reviews)\n"
   ]
  },
  {
   "cell_type": "markdown",
   "id": "6ba29be4",
   "metadata": {
    "papermill": {
     "duration": 0.019558,
     "end_time": "2024-12-21T16:23:12.258928",
     "exception": false,
     "start_time": "2024-12-21T16:23:12.239370",
     "status": "completed"
    },
    "tags": []
   },
   "source": [
    "## Solution Explanation\n",
    "\n",
    "The steps to solve this problem are:\n",
    "1. Standardize the format of email addresses.\n",
    "2. Correct common typos in product names.\n",
    "3. Remove any special characters from the reviews.\n",
    "4. Extract and count the number of reviews mentioning the word \"magic\".\n",
    "5. Identify the top 3 most frequently mentioned products in the reviews.\n",
    "\n",
    "Let's implement these steps in the following code.\n"
   ]
  },
  {
   "cell_type": "code",
   "execution_count": 18,
   "id": "5b1dff2c",
   "metadata": {
    "execution": {
     "iopub.execute_input": "2024-12-21T16:23:12.298402Z",
     "iopub.status.busy": "2024-12-21T16:23:12.297968Z",
     "iopub.status.idle": "2024-12-21T16:23:12.324439Z",
     "shell.execute_reply": "2024-12-21T16:23:12.322852Z"
    },
    "papermill": {
     "duration": 0.048923,
     "end_time": "2024-12-21T16:23:12.327497",
     "exception": false,
     "start_time": "2024-12-21T16:23:12.278574",
     "status": "completed"
    },
    "tags": []
   },
   "outputs": [
    {
     "name": "stdout",
     "output_type": "stream",
     "text": [
      "Step 1: Standardized Email Addresses\n",
      "    review_id                email\n",
      "0           1   user-1@example.com\n",
      "1           2    user2@example.com\n",
      "2           3   user-3@example.com\n",
      "3           4    user4@example.com\n",
      "4           5   user-5@example.com\n",
      "5           6    user6@example.com\n",
      "6           7   user-7@example.com\n",
      "7           8    user8@example.com\n",
      "8           9   user-9@example.com\n",
      "9          10   user10@example.com\n",
      "10         11  user-11@example.com\n",
      "11         12   user12@example.com\n",
      "12         13  user-13@example.com\n",
      "13         14   user14@example.com\n",
      "14         15  user-15@example.com\n",
      "15         16   user16@example.com\n",
      "16         17  user-17@example.com\n",
      "17         18   user18@example.com\n",
      "18         19  user-19@example.com\n",
      "19         20   user20@example.com \n",
      "\n",
      "Step 2: Corrected Product Names\n",
      "    review_id  product_name\n",
      "0           1  Flying Broom\n",
      "1           2  Flying Broom\n",
      "2           3    Spell Book\n",
      "3           4    Spell Book\n",
      "4           5  Crystal Ball\n",
      "5           6    Magic Wand\n",
      "6           7    Spell Book\n",
      "7           8        Potion\n",
      "8           9    Magic Wand\n",
      "9          10    Spell Book\n",
      "10         11  Flying Broom\n",
      "11         12  Crystal Ball\n",
      "12         13    Magic Wand\n",
      "13         14    Magic Wand\n",
      "14         15    Magic Wand\n",
      "15         16  Flying Broom\n",
      "16         17  Flying Broom\n",
      "17         18        Potion\n",
      "18         19    Magic Wand\n",
      "19         20  Crystal Ball \n",
      "\n",
      "Step 3: Cleaned Review Texts\n",
      "    review_id                                   review_text\n",
      "0           1    This Spell Book is awesome Its pure magic \n",
      "1           2  This Crystal Ball is awesome Its pure magic \n",
      "2           3    This Magic Wand is awesome Its pure magic \n",
      "3           4     This Spell Bok is awesome Its pure magic \n",
      "4           5        This Potion is awesome Its pure magic \n",
      "5           6        This Potion is awesome Its pure magic \n",
      "6           7        This Potion is awesome Its pure magic \n",
      "7           8  This Flying Broom is awesome Its pure magic \n",
      "8           9  This Flying Broom is awesome Its pure magic \n",
      "9          10  This Crystal Ball is awesome Its pure magic \n",
      "10         11    This Spell Book is awesome Its pure magic \n",
      "11         12  This Crystal Ball is awesome Its pure magic \n",
      "12         13  This Crystal Ball is awesome Its pure magic \n",
      "13         14     This Spell Bok is awesome Its pure magic \n",
      "14         15   This Flyng Broom is awesome Its pure magic \n",
      "15         16    This Spell Book is awesome Its pure magic \n",
      "16         17     This Spell Bok is awesome Its pure magic \n",
      "17         18     This Spell Bok is awesome Its pure magic \n",
      "18         19   This Flyng Broom is awesome Its pure magic \n",
      "19         20  This Crystal Ball is awesome Its pure magic  \n",
      "\n",
      "Step 4: Reviews Mentioning 'Magic'\n",
      "Number of reviews mentioning 'magic': 20\n",
      "\n",
      "Step 5: Top 3 Most Frequently Mentioned Products in Reviews\n",
      "0\n",
      "Crystal Ball    5\n",
      "Spell Book      3\n",
      "Potion          3\n",
      "Name: count, dtype: int64\n"
     ]
    }
   ],
   "source": [
    "import re\n",
    "\n",
    "# Step 1: Standardize the format of email addresses\n",
    "customer_reviews['email'] = customer_reviews['email'].str.lower()\n",
    "print(\"Step 1: Standardized Email Addresses\")\n",
    "print(customer_reviews[['review_id', 'email']], \"\\n\")\n",
    "\n",
    "# Step 2: Correct common typos in product names\n",
    "typo_corrections = {\n",
    "    'Magic Wnd': 'Magic Wand',\n",
    "    'Potin': 'Potion',\n",
    "    'Spell Bok': 'Spell Book',\n",
    "    'Crystal Bll': 'Crystal Ball',\n",
    "    'Flyng Broom': 'Flying Broom'\n",
    "}\n",
    "customer_reviews['product_name'] = customer_reviews['product_name'].replace(typo_corrections)\n",
    "print(\"Step 2: Corrected Product Names\")\n",
    "print(customer_reviews[['review_id', 'product_name']], \"\\n\")\n",
    "\n",
    "# Step 3: Remove any special characters from the reviews\n",
    "customer_reviews['review_text'] = customer_reviews['review_text'].apply(lambda x: re.sub(r'[^\\w\\s]', '', x))\n",
    "print(\"Step 3: Cleaned Review Texts\")\n",
    "print(customer_reviews[['review_id', 'review_text']], \"\\n\")\n",
    "\n",
    "# Step 4: Extract and count the number of reviews mentioning the word \"magic\"\n",
    "magic_reviews = customer_reviews[customer_reviews['review_text'].str.contains(r'\\bmagic\\b', case=False)]\n",
    "magic_reviews_count = magic_reviews.shape[0]\n",
    "print(\"Step 4: Reviews Mentioning 'Magic'\")\n",
    "print(f\"Number of reviews mentioning 'magic': {magic_reviews_count}\\n\")\n",
    "\n",
    "# Step 5: Identify the top 3 most frequently mentioned products in the reviews\n",
    "product_mentions = customer_reviews['review_text'].str.extractall(r'({})'.format('|'.join(product_names)))\n",
    "top_products = product_mentions[0].value_counts().head(3)\n",
    "print(\"Step 5: Top 3 Most Frequently Mentioned Products in Reviews\")\n",
    "print(top_products)\n"
   ]
  },
  {
   "cell_type": "markdown",
   "id": "78159097",
   "metadata": {
    "papermill": {
     "duration": 0.017959,
     "end_time": "2024-12-21T16:23:12.363857",
     "exception": false,
     "start_time": "2024-12-21T16:23:12.345898",
     "status": "completed"
    },
    "tags": []
   },
   "source": [
    "# Q5 - Speed Demon Data Manipulation\n",
    "<a id=\"q5\"></a>\n",
    "\n",
    "**Question:**\n",
    "Welcome to Speed Demon Data Manipulation! You are given a dataset of various fantastical creatures and their race times in different races. The data is enormous, and you need to optimize your data manipulation techniques to answer the following questions:\n",
    "1. Calculate the average race time for each creature.\n",
    "2. Identify the top 3 fastest creatures based on their average race time.\n",
    "3. Determine the race with the highest average race time.\n",
    "4. Find the creature with the most race wins (i.e., shortest time in each race).\n",
    "5. Calculate the total number of races each creature has participated in.\n",
    "\n",
    "**Datasets:**\n",
    "- `race_times`: Contains columns (race_id, creature_name, race_time).\n",
    "\n"
   ]
  },
  {
   "cell_type": "code",
   "execution_count": 19,
   "id": "0f939a0a",
   "metadata": {
    "execution": {
     "iopub.execute_input": "2024-12-21T16:23:12.401493Z",
     "iopub.status.busy": "2024-12-21T16:23:12.401122Z",
     "iopub.status.idle": "2024-12-21T16:23:12.416637Z",
     "shell.execute_reply": "2024-12-21T16:23:12.415346Z"
    },
    "papermill": {
     "duration": 0.037333,
     "end_time": "2024-12-21T16:23:12.419215",
     "exception": false,
     "start_time": "2024-12-21T16:23:12.381882",
     "status": "completed"
    },
    "tags": []
   },
   "outputs": [
    {
     "name": "stdout",
     "output_type": "stream",
     "text": [
      "Race Times DataFrame:\n",
      "   race_id       creature_name  race_time\n",
      "0        1        Speedy Snail  66.803849\n",
      "1        1        Dashy Dragon  72.773435\n",
      "2        1        Rapid Rabbit  13.132165\n",
      "3        1  Fleet-Footed Fairy  28.867382\n",
      "4        1        Quick Quokka  85.380468\n"
     ]
    }
   ],
   "source": [
    "import pandas as pd\n",
    "import numpy as np\n",
    "\n",
    "# Seed for reproducibility\n",
    "np.random.seed(101)\n",
    "\n",
    "# Generate synthetic data\n",
    "race_ids = np.arange(1, 101)\n",
    "creature_names = ['Speedy Snail', 'Dashy Dragon', 'Rapid Rabbit', 'Fleet-Footed Fairy', 'Quick Quokka', 'Swift Sphinx', 'Nimble Niffler', 'Brisk Banshee']\n",
    "\n",
    "data = []\n",
    "for race in race_ids:\n",
    "    for creature in creature_names:\n",
    "        race_time = np.random.uniform(10, 120)  # Race times in seconds\n",
    "        data.append([race, creature, race_time])\n",
    "\n",
    "# Create DataFrame\n",
    "race_times = pd.DataFrame(data, columns=['race_id', 'creature_name', 'race_time'])\n",
    "\n",
    "# Display the dataset\n",
    "print(\"Race Times DataFrame:\")\n",
    "print(race_times.head())\n"
   ]
  },
  {
   "cell_type": "markdown",
   "id": "7a86ac58",
   "metadata": {
    "papermill": {
     "duration": 0.018459,
     "end_time": "2024-12-21T16:23:12.456856",
     "exception": false,
     "start_time": "2024-12-21T16:23:12.438397",
     "status": "completed"
    },
    "tags": []
   },
   "source": [
    "## Solution Explanation\n",
    "\n",
    "The steps to solve this problem are:\n",
    "1. Calculate the average race time for each creature.\n",
    "2. Identify the top 3 fastest creatures based on their average race time.\n",
    "3. Determine the race with the highest average race time.\n",
    "4. Find the creature with the most race wins (i.e., shortest time in each race).\n",
    "5. Calculate the total number of races each creature has participated in.\n",
    "\n",
    "Let's implement these steps in the following code.\n"
   ]
  },
  {
   "cell_type": "code",
   "execution_count": 20,
   "id": "5daae9c2",
   "metadata": {
    "execution": {
     "iopub.execute_input": "2024-12-21T16:23:12.495679Z",
     "iopub.status.busy": "2024-12-21T16:23:12.495334Z",
     "iopub.status.idle": "2024-12-21T16:23:12.519461Z",
     "shell.execute_reply": "2024-12-21T16:23:12.518304Z"
    },
    "papermill": {
     "duration": 0.046159,
     "end_time": "2024-12-21T16:23:12.521896",
     "exception": false,
     "start_time": "2024-12-21T16:23:12.475737",
     "status": "completed"
    },
    "tags": []
   },
   "outputs": [
    {
     "name": "stdout",
     "output_type": "stream",
     "text": [
      "Step 1: Average Race Time for Each Creature\n",
      "        creature_name  race_time\n",
      "0       Brisk Banshee  66.305692\n",
      "1        Dashy Dragon  65.141639\n",
      "2  Fleet-Footed Fairy  67.195204\n",
      "3      Nimble Niffler  63.375094\n",
      "4        Quick Quokka  66.981233\n",
      "5        Rapid Rabbit  68.910263\n",
      "6        Speedy Snail  64.065256\n",
      "7        Swift Sphinx  62.625939 \n",
      "\n",
      "Step 2: Top 3 Fastest Creatures\n",
      "    creature_name  race_time\n",
      "7    Swift Sphinx  62.625939\n",
      "3  Nimble Niffler  63.375094\n",
      "6    Speedy Snail  64.065256 \n",
      "\n",
      "Step 3: Race with the Highest Average Race Time\n",
      "race_id      55.000000\n",
      "race_time    86.088825\n",
      "Name: 54, dtype: float64 \n",
      "\n",
      "Step 4: Creature with the Most Race Wins\n",
      "Creature: Fleet-Footed Fairy\n",
      "\n",
      "Step 5: Total Number of Races Each Creature Has Participated In\n",
      "        creature_name  num_races\n",
      "0        Speedy Snail        100\n",
      "1        Dashy Dragon        100\n",
      "2        Rapid Rabbit        100\n",
      "3  Fleet-Footed Fairy        100\n",
      "4        Quick Quokka        100\n",
      "5        Swift Sphinx        100\n",
      "6      Nimble Niffler        100\n",
      "7       Brisk Banshee        100 \n",
      "\n"
     ]
    }
   ],
   "source": [
    "# Step 1: Calculate the average race time for each creature\n",
    "average_race_time = race_times.groupby('creature_name')['race_time'].mean().reset_index()\n",
    "print(\"Step 1: Average Race Time for Each Creature\")\n",
    "print(average_race_time, \"\\n\")\n",
    "\n",
    "# Step 2: Identify the top 3 fastest creatures based on their average race time\n",
    "top_3_fastest = average_race_time.nsmallest(3, 'race_time')\n",
    "print(\"Step 2: Top 3 Fastest Creatures\")\n",
    "print(top_3_fastest, \"\\n\")\n",
    "\n",
    "# Step 3: Determine the race with the highest average race time\n",
    "average_time_per_race = race_times.groupby('race_id')['race_time'].mean().reset_index()\n",
    "race_with_highest_avg_time = average_time_per_race.loc[average_time_per_race['race_time'].idxmax()]\n",
    "print(\"Step 3: Race with the Highest Average Race Time\")\n",
    "print(race_with_highest_avg_time, \"\\n\")\n",
    "\n",
    "# Step 4: Find the creature with the most race wins (i.e., shortest time in each race)\n",
    "race_winners = race_times.loc[race_times.groupby('race_id')['race_time'].idxmin()]\n",
    "most_wins = race_winners['creature_name'].value_counts().idxmax()\n",
    "print(\"Step 4: Creature with the Most Race Wins\")\n",
    "print(f\"Creature: {most_wins}\\n\")\n",
    "\n",
    "# Step 5: Calculate the total number of races each creature has participated in\n",
    "races_per_creature = race_times['creature_name'].value_counts().reset_index()\n",
    "races_per_creature.columns = ['creature_name', 'num_races']\n",
    "print(\"Step 5: Total Number of Races Each Creature Has Participated In\")\n",
    "print(races_per_creature, \"\\n\")\n"
   ]
  },
  {
   "cell_type": "markdown",
   "id": "3740bfd3",
   "metadata": {
    "papermill": {
     "duration": 0.018529,
     "end_time": "2024-12-21T16:23:12.558897",
     "exception": false,
     "start_time": "2024-12-21T16:23:12.540368",
     "status": "completed"
    },
    "tags": []
   },
   "source": [
    "# Q6 - Recursive Riddle\n",
    "<a id=\"q6\"></a>\n",
    "\n",
    "**Question:**\n",
    "Welcome to the Recursive Riddle! You are given a dataset containing information about a series of magical quests and the hierarchical structure of tasks within each quest. Each task may depend on the completion of other tasks. Your task is to use recursive techniques to answer the following questions:\n",
    "1. Determine the total number of tasks in each quest.\n",
    "2. Identify the task that has the most dependencies in each quest.\n",
    "3. Calculate the total time required to complete each quest.\n",
    "4. Find the deepest level of task dependency in each quest.\n",
    "5. List the tasks in each quest in the order they should be completed.\n",
    "\n",
    "**Datasets:**\n",
    "- `magical_quests`: Contains columns (quest_id, task_id, task_name, depends_on, time_required).\n"
   ]
  },
  {
   "cell_type": "code",
   "execution_count": 21,
   "id": "da509ec3",
   "metadata": {
    "execution": {
     "iopub.execute_input": "2024-12-21T16:23:12.597375Z",
     "iopub.status.busy": "2024-12-21T16:23:12.596944Z",
     "iopub.status.idle": "2024-12-21T16:23:12.615474Z",
     "shell.execute_reply": "2024-12-21T16:23:12.614344Z"
    },
    "papermill": {
     "duration": 0.040189,
     "end_time": "2024-12-21T16:23:12.617808",
     "exception": false,
     "start_time": "2024-12-21T16:23:12.577619",
     "status": "completed"
    },
    "tags": []
   },
   "outputs": [
    {
     "name": "stdout",
     "output_type": "stream",
     "text": [
      "Magical Quests DataFrame:\n",
      "   quest_id  task_id         task_name depends_on  time_required\n",
      "0         1       11    Enchant Object       None             40\n",
      "1         1       14  Find Hidden Path       [20]             10\n",
      "2         1        3        Tame Beast       None             10\n",
      "3         1       12        Tame Beast       None             10\n",
      "4         1       15        Tame Beast    [5, 16]             10\n"
     ]
    }
   ],
   "source": [
    "import pandas as pd\n",
    "import numpy as np\n",
    "\n",
    "# Seed for reproducibility\n",
    "np.random.seed(202)\n",
    "\n",
    "# Generate synthetic data\n",
    "quest_ids = np.arange(1, 6)\n",
    "task_ids = np.arange(1, 21)\n",
    "task_names = ['Gather Ingredients', 'Cast Spell', 'Brew Potion', 'Enchant Object', 'Defeat Monster', 'Rescue Ally', 'Find Hidden Path', 'Solve Puzzle', 'Forge Weapon', 'Tame Beast']\n",
    "depends_on_options = [None] + list(task_ids)\n",
    "\n",
    "data = []\n",
    "for quest in quest_ids:\n",
    "    num_tasks = np.random.randint(5, 10)\n",
    "    tasks = np.random.choice(task_ids, num_tasks, replace=False)\n",
    "    for task in tasks:\n",
    "        depends_on = np.random.choice(depends_on_options, np.random.randint(0, 3)).tolist() if np.random.rand() > 0.3 else None\n",
    "        time_required = np.random.randint(1, 5) * 10  # Time required in minutes\n",
    "        data.append([quest, task, np.random.choice(task_names), depends_on, time_required])\n",
    "\n",
    "# Create DataFrame\n",
    "magical_quests = pd.DataFrame(data, columns=['quest_id', 'task_id', 'task_name', 'depends_on', 'time_required'])\n",
    "\n",
    "# Convert lists of single elements to integers and empty lists to None\n",
    "magical_quests['depends_on'] = magical_quests['depends_on'].apply(lambda x: x if isinstance(x, list) and x else None)\n",
    "\n",
    "# Display the dataset\n",
    "print(\"Magical Quests DataFrame:\")\n",
    "print(magical_quests.head())\n"
   ]
  },
  {
   "cell_type": "markdown",
   "id": "ef553488",
   "metadata": {
    "papermill": {
     "duration": 0.019062,
     "end_time": "2024-12-21T16:23:12.656383",
     "exception": false,
     "start_time": "2024-12-21T16:23:12.637321",
     "status": "completed"
    },
    "tags": []
   },
   "source": [
    "## Solution Explanation\n",
    "\n",
    "The steps to solve this problem are:\n",
    "1. Determine the total number of tasks in each quest.\n",
    "2. Identify the task that has the most dependencies in each quest.\n",
    "3. Calculate the total time required to complete each quest.\n",
    "4. Find the deepest level of task dependency in each quest.\n",
    "5. List the tasks in each quest in the order they should be completed.\n",
    "\n",
    "Let's implement these steps in the following code.\n"
   ]
  },
  {
   "cell_type": "code",
   "execution_count": 22,
   "id": "f41e6042",
   "metadata": {
    "execution": {
     "iopub.execute_input": "2024-12-21T16:23:12.696700Z",
     "iopub.status.busy": "2024-12-21T16:23:12.696321Z",
     "iopub.status.idle": "2024-12-21T16:23:12.753954Z",
     "shell.execute_reply": "2024-12-21T16:23:12.752757Z"
    },
    "papermill": {
     "duration": 0.081448,
     "end_time": "2024-12-21T16:23:12.756586",
     "exception": false,
     "start_time": "2024-12-21T16:23:12.675138",
     "status": "completed"
    },
    "tags": []
   },
   "outputs": [
    {
     "name": "stdout",
     "output_type": "stream",
     "text": [
      "Step 1: Total Number of Tasks in Each Quest\n",
      "   quest_id  total_tasks\n",
      "0         1            8\n",
      "1         2            8\n",
      "2         3            9\n",
      "3         4            8\n",
      "4         5            8 \n",
      "\n",
      "Step 2: Task with the Most Dependencies in Each Quest\n",
      "    quest_id  task_id  dependency_count\n",
      "1          1       14                 2\n",
      "8          2       12                 1\n",
      "16         3        8                 3\n",
      "30         4        2                 2\n",
      "33         5        7                 1 \n",
      "\n",
      "Step 3: Total Time Required to Complete Each Quest\n",
      "   quest_id  total_time\n",
      "0         1         170\n",
      "1         2         250\n",
      "2         3         330\n",
      "3         4         320\n",
      "4         5         210 \n",
      "\n",
      "Step 4: Deepest Level of Task Dependency in Each Quest\n",
      "   quest_id  max_depth\n",
      "0         1          2\n",
      "1         2          2\n",
      "2         3          3\n",
      "3         4          2\n",
      "4         5          2 \n",
      "\n",
      "Step 5: Tasks in Each Quest in the Order They Should Be Completed\n",
      "    quest_id           task_name  order\n",
      "0          1      Enchant Object      0\n",
      "1          1      Enchant Object      1\n",
      "2          1    Find Hidden Path      2\n",
      "3          1          Tame Beast      3\n",
      "4          1          Tame Beast      4\n",
      "5          1          Tame Beast      5\n",
      "6          1  Gather Ingredients      6\n",
      "7          1          Cast Spell      7\n",
      "8          2        Solve Puzzle      0\n",
      "9          2    Find Hidden Path      1\n",
      "10         2        Solve Puzzle      2\n",
      "11         2          Cast Spell      3\n",
      "12         2  Gather Ingredients      4\n",
      "13         2         Rescue Ally      5\n",
      "14         2        Solve Puzzle      6\n",
      "15         2         Rescue Ally      7\n",
      "16         3          Cast Spell      0\n",
      "17         3         Rescue Ally      1\n",
      "18         3         Rescue Ally      2\n",
      "19         3          Cast Spell      3\n",
      "20         3      Enchant Object      4\n",
      "21         3          Cast Spell      5\n",
      "22         3      Defeat Monster      6\n",
      "23         3    Find Hidden Path      7\n",
      "24         3          Tame Beast      8\n",
      "25         4      Defeat Monster      0\n",
      "26         4        Forge Weapon      1\n",
      "27         4      Defeat Monster      2\n",
      "28         4         Brew Potion      3\n",
      "29         4  Gather Ingredients      4\n",
      "30         4      Enchant Object      5\n",
      "31         4  Gather Ingredients      6\n",
      "32         4         Brew Potion      7\n",
      "33         5        Forge Weapon      0\n",
      "34         5  Gather Ingredients      1\n",
      "35         5        Solve Puzzle      2\n",
      "36         5      Enchant Object      3\n",
      "37         5          Tame Beast      4\n",
      "38         5         Brew Potion      5\n",
      "39         5         Brew Potion      6\n",
      "40         5  Gather Ingredients      7\n"
     ]
    }
   ],
   "source": [
    "from collections import defaultdict\n",
    "\n",
    "# Helper function to build dependency graph\n",
    "def build_dependency_graph(df):\n",
    "    graph = defaultdict(list)\n",
    "    time_required = {}\n",
    "    for _, row in df.iterrows():\n",
    "        graph[row['task_id']] = row['depends_on'] if row['depends_on'] is not None else []\n",
    "        time_required[row['task_id']] = row['time_required']\n",
    "    return graph, time_required\n",
    "\n",
    "# Step 1: Determine the total number of tasks in each quest\n",
    "total_tasks_per_quest = magical_quests.groupby('quest_id')['task_id'].count().reset_index()\n",
    "total_tasks_per_quest.columns = ['quest_id', 'total_tasks']\n",
    "print(\"Step 1: Total Number of Tasks in Each Quest\")\n",
    "print(total_tasks_per_quest, \"\\n\")\n",
    "\n",
    "# Step 2: Identify the task that has the most dependencies in each quest\n",
    "def count_dependencies(task_id, graph, visited=None):\n",
    "    if visited is None:\n",
    "        visited = set()\n",
    "    if task_id in visited:\n",
    "        return 0\n",
    "    visited.add(task_id)\n",
    "    if not graph[task_id]:\n",
    "        return 0\n",
    "    dependencies = [count_dependencies(dep, graph, visited) for dep in graph[task_id] if dep in graph]\n",
    "    return 1 + (max(dependencies) if dependencies else 0)\n",
    "\n",
    "dependencies_count = []\n",
    "for quest, group in magical_quests.groupby('quest_id'):\n",
    "    graph, _ = build_dependency_graph(group)\n",
    "    for task_id in group['task_id']:\n",
    "        dependencies_count.append([quest, task_id, count_dependencies(task_id, graph)])\n",
    "\n",
    "dependencies_df = pd.DataFrame(dependencies_count, columns=['quest_id', 'task_id', 'dependency_count'])\n",
    "most_dependencies_task = dependencies_df.loc[dependencies_df.groupby('quest_id')['dependency_count'].idxmax()]\n",
    "print(\"Step 2: Task with the Most Dependencies in Each Quest\")\n",
    "print(most_dependencies_task, \"\\n\")\n",
    "\n",
    "# Step 3: Calculate the total time required to complete each quest\n",
    "def calculate_total_time(task_id, graph, time_required, visited=None):\n",
    "    if visited is None:\n",
    "        visited = set()\n",
    "    if task_id in visited:\n",
    "        return 0\n",
    "    visited.add(task_id)\n",
    "    if not graph[task_id]:\n",
    "        return time_required[task_id]\n",
    "    total_time = time_required[task_id] + sum(calculate_total_time(dep, graph, time_required, visited) for dep in graph[task_id] if dep in graph)\n",
    "    return total_time\n",
    "\n",
    "total_time = []\n",
    "for quest, group in magical_quests.groupby('quest_id'):\n",
    "    graph, time_required = build_dependency_graph(group)\n",
    "    quest_total_time = sum(calculate_total_time(task_id, graph, time_required) for task_id in group['task_id'])\n",
    "    total_time.append([quest, quest_total_time])\n",
    "\n",
    "total_time_df = pd.DataFrame(total_time, columns=['quest_id', 'total_time'])\n",
    "print(\"Step 3: Total Time Required to Complete Each Quest\")\n",
    "print(total_time_df, \"\\n\")\n",
    "\n",
    "# Step 4: Find the deepest level of task dependency in each quest\n",
    "def find_depth(task_id, graph, visited=None):\n",
    "    if visited is None:\n",
    "        visited = set()\n",
    "    if task_id in visited:\n",
    "        return 0\n",
    "    visited.add(task_id)\n",
    "    if not graph[task_id]:\n",
    "        return 1\n",
    "    depths = [find_depth(dep, graph, visited) for dep in graph[task_id] if dep in graph]\n",
    "    return 1 + (max(depths) if depths else 0)\n",
    "\n",
    "depths = []\n",
    "for quest, group in magical_quests.groupby('quest_id'):\n",
    "    graph, _ = build_dependency_graph(group)\n",
    "    max_depth = max(find_depth(task_id, graph) for task_id in group['task_id'])\n",
    "    depths.append([quest, max_depth])\n",
    "\n",
    "depths_df = pd.DataFrame(depths, columns=['quest_id', 'max_depth'])\n",
    "print(\"Step 4: Deepest Level of Task Dependency in Each Quest\")\n",
    "print(depths_df, \"\\n\")\n",
    "\n",
    "# Step 5: List the tasks in each quest in the order they should be completed\n",
    "def find_order(task_id, graph, visited=None):\n",
    "    if visited is None:\n",
    "        visited = set()\n",
    "    if task_id in visited:\n",
    "        return []\n",
    "    visited.add(task_id)\n",
    "    order = []\n",
    "    for dep in graph[task_id]:\n",
    "        if dep in graph:\n",
    "            order.extend(find_order(dep, graph, visited))\n",
    "    return order + [task_id]\n",
    "\n",
    "task_orders = []\n",
    "for quest, group in magical_quests.groupby('quest_id'):\n",
    "    graph, _ = build_dependency_graph(group)\n",
    "    all_orders = []\n",
    "    for task_id in group['task_id']:\n",
    "        all_orders.extend(find_order(task_id, graph))\n",
    "    unique_orders = list(dict.fromkeys(all_orders))  # Remove duplicates while preserving order\n",
    "    for i, t in enumerate(unique_orders):\n",
    "        task_orders.append([quest, t, i])\n",
    "\n",
    "task_orders_df = pd.DataFrame(task_orders, columns=['quest_id', 'task_id', 'order']).sort_values(by=['quest_id', 'order'])\n",
    "ordered_tasks = pd.merge(task_orders_df, magical_quests[['quest_id', 'task_id', 'task_name']], on=['quest_id', 'task_id'])\n",
    "print(\"Step 5: Tasks in Each Quest in the Order They Should Be Completed\")\n",
    "print(ordered_tasks[['quest_id', 'task_name', 'order']])\n"
   ]
  },
  {
   "cell_type": "markdown",
   "id": "db3a2ad6",
   "metadata": {
    "papermill": {
     "duration": 0.01977,
     "end_time": "2024-12-21T16:23:12.796826",
     "exception": false,
     "start_time": "2024-12-21T16:23:12.777056",
     "status": "completed"
    },
    "tags": []
   },
   "source": [
    "# Q7 - Statistician's Nightmare\n",
    "<a id=\"q7\"></a>\n",
    "\n",
    "**Question:**\n",
    "Welcome to the Statistician's Nightmare! You are given a dataset of various magical creatures and their bizarre daily activities. The data is filled with quirky statistics and unusual measures. Your task is to perform statistical analysis to answer the following questions:\n",
    "1. Calculate the mean, median, and mode of the hours each creature spends on different activities.\n",
    "2. Identify the creature with the highest variance in activity hours.\n",
    "3. Determine the correlation between the number of magical spells cast and the hours spent on activities.\n",
    "4. Find outliers in the dataset based on activity hours.\n",
    "5. Perform a hypothesis test to determine if the average hours spent by creatures on \"Flying\" is different from \"Potion Making.\"\n",
    "\n",
    "**Datasets:**\n",
    "- `creature_activities`: Contains columns (creature_id, creature_name, activity, hours, spells_cast).\n"
   ]
  },
  {
   "cell_type": "code",
   "execution_count": 23,
   "id": "e8843911",
   "metadata": {
    "execution": {
     "iopub.execute_input": "2024-12-21T16:23:12.839412Z",
     "iopub.status.busy": "2024-12-21T16:23:12.838366Z",
     "iopub.status.idle": "2024-12-21T16:23:14.109103Z",
     "shell.execute_reply": "2024-12-21T16:23:14.107925Z"
    },
    "papermill": {
     "duration": 1.295301,
     "end_time": "2024-12-21T16:23:14.111508",
     "exception": false,
     "start_time": "2024-12-21T16:23:12.816207",
     "status": "completed"
    },
    "tags": []
   },
   "outputs": [
    {
     "name": "stdout",
     "output_type": "stream",
     "text": [
      "Creature Activities DataFrame:\n",
      "   creature_id creature_name          activity  hours  spells_cast\n",
      "0            1   Percy Pixie            Flying     18            1\n",
      "1            1   Percy Pixie     Potion Making      4           21\n",
      "2            1   Percy Pixie     Spell Casting     12           38\n",
      "3            1   Percy Pixie    Herb Gathering     10           72\n",
      "4            1   Percy Pixie  Treasure Hunting     18           30\n"
     ]
    }
   ],
   "source": [
    "import pandas as pd\n",
    "import numpy as np\n",
    "from scipy import stats\n",
    "\n",
    "# Seed for reproducibility\n",
    "np.random.seed(303)\n",
    "\n",
    "# Generate synthetic data\n",
    "creature_ids = np.arange(1, 21)\n",
    "creature_names = ['Frodo Frog', 'Gimli Gnome', 'Luna Leprechaun', 'Percy Pixie', 'Trevor Troll']\n",
    "activities = ['Flying', 'Potion Making', 'Spell Casting', 'Herb Gathering', 'Treasure Hunting']\n",
    "hours_options = np.arange(0, 25)\n",
    "spells_cast_options = np.arange(0, 101)\n",
    "\n",
    "data = []\n",
    "for creature in creature_ids:\n",
    "    creature_name = np.random.choice(creature_names)\n",
    "    for activity in activities:\n",
    "        hours = np.random.choice(hours_options)\n",
    "        spells_cast = np.random.choice(spells_cast_options)\n",
    "        data.append([creature, creature_name, activity, hours, spells_cast])\n",
    "\n",
    "# Create DataFrame\n",
    "creature_activities = pd.DataFrame(data, columns=['creature_id', 'creature_name', 'activity', 'hours', 'spells_cast'])\n",
    "\n",
    "# Display the dataset\n",
    "print(\"Creature Activities DataFrame:\")\n",
    "print(creature_activities.head())\n"
   ]
  },
  {
   "cell_type": "markdown",
   "id": "12b38886",
   "metadata": {
    "papermill": {
     "duration": 0.018383,
     "end_time": "2024-12-21T16:23:14.149920",
     "exception": false,
     "start_time": "2024-12-21T16:23:14.131537",
     "status": "completed"
    },
    "tags": []
   },
   "source": [
    "## Solution Explanation\n",
    "\n",
    "The steps to solve this problem are:\n",
    "1. Calculate the mean, median, and mode of the hours each creature spends on different activities.\n",
    "2. Identify the creature with the highest variance in activity hours.\n",
    "3. Determine the correlation between the number of magical spells cast and the hours spent on activities.\n",
    "4. Find outliers in the dataset based on activity hours.\n",
    "5. Perform a hypothesis test to determine if the average hours spent by creatures on \"Flying\" is different from \"Potion Making.\"\n",
    "\n",
    "Let's implement these steps in the following code.\n"
   ]
  },
  {
   "cell_type": "code",
   "execution_count": 24,
   "id": "bde1e95c",
   "metadata": {
    "execution": {
     "iopub.execute_input": "2024-12-21T16:23:14.189610Z",
     "iopub.status.busy": "2024-12-21T16:23:14.189144Z",
     "iopub.status.idle": "2024-12-21T16:23:14.227342Z",
     "shell.execute_reply": "2024-12-21T16:23:14.226202Z"
    },
    "papermill": {
     "duration": 0.061547,
     "end_time": "2024-12-21T16:23:14.230023",
     "exception": false,
     "start_time": "2024-12-21T16:23:14.168476",
     "status": "completed"
    },
    "tags": []
   },
   "outputs": [
    {
     "name": "stdout",
     "output_type": "stream",
     "text": [
      "Step 1: Mean, Median, and Mode of Hours Spent on Activities\n",
      "Mean Hours:\n",
      "     creature_name      hours\n",
      "0       Frodo Frog  11.950000\n",
      "1      Gimli Gnome  12.400000\n",
      "2  Luna Leprechaun  11.966667\n",
      "3      Percy Pixie  12.085714\n",
      "4     Trevor Troll  14.600000 \n",
      "\n",
      "Median Hours:\n",
      "     creature_name  hours\n",
      "0       Frodo Frog   13.5\n",
      "1      Gimli Gnome   10.0\n",
      "2  Luna Leprechaun   12.0\n",
      "3      Percy Pixie   12.0\n",
      "4     Trevor Troll   18.0 \n",
      "\n",
      "Mode Hours:\n",
      "     creature_name  hours\n",
      "0       Frodo Frog     14\n",
      "1      Gimli Gnome      9\n",
      "2  Luna Leprechaun     18\n",
      "3      Percy Pixie      6\n",
      "4     Trevor Troll     18 \n",
      "\n",
      "Step 2: Creature with the Highest Variance in Activity Hours\n",
      "creature_name    Luna Leprechaun\n",
      "hours                  55.826437\n",
      "Name: 2, dtype: object \n",
      "\n",
      "Step 3: Correlation Between Spells Cast and Hours Spent on Activities\n",
      "Correlation: 0.10821370480526503\n",
      "\n",
      "Step 4: Outliers Based on Activity Hours\n",
      "Empty DataFrame\n",
      "Columns: [creature_id, creature_name, activity, hours, spells_cast]\n",
      "Index: [] \n",
      "\n",
      "Step 5: Hypothesis Test for Flying vs Potion Making Hours\n",
      "T-Statistic: -1.3312628510898283, P-Value: 0.19103450767103325\n"
     ]
    }
   ],
   "source": [
    "# Step 1: Calculate the mean, median, and mode of the hours each creature spends on different activities\n",
    "mean_hours = creature_activities.groupby('creature_name')['hours'].mean().reset_index()\n",
    "median_hours = creature_activities.groupby('creature_name')['hours'].median().reset_index()\n",
    "mode_hours = creature_activities.groupby('creature_name')['hours'].agg(lambda x: stats.mode(x)[0]).reset_index()\n",
    "\n",
    "print(\"Step 1: Mean, Median, and Mode of Hours Spent on Activities\")\n",
    "print(\"Mean Hours:\")\n",
    "print(mean_hours, \"\\n\")\n",
    "print(\"Median Hours:\")\n",
    "print(median_hours, \"\\n\")\n",
    "print(\"Mode Hours:\")\n",
    "print(mode_hours, \"\\n\")\n",
    "\n",
    "# Step 2: Identify the creature with the highest variance in activity hours\n",
    "variance_hours = creature_activities.groupby('creature_name')['hours'].var().reset_index()\n",
    "highest_variance_creature = variance_hours.loc[variance_hours['hours'].idxmax()]\n",
    "\n",
    "print(\"Step 2: Creature with the Highest Variance in Activity Hours\")\n",
    "print(highest_variance_creature, \"\\n\")\n",
    "\n",
    "# Step 3: Determine the correlation between the number of magical spells cast and the hours spent on activities\n",
    "correlation = creature_activities[['hours', 'spells_cast']].corr().iloc[0, 1]\n",
    "\n",
    "print(\"Step 3: Correlation Between Spells Cast and Hours Spent on Activities\")\n",
    "print(f\"Correlation: {correlation}\\n\")\n",
    "\n",
    "# Step 4: Find outliers in the dataset based on activity hours using the IQR method\n",
    "Q1 = creature_activities['hours'].quantile(0.25)\n",
    "Q3 = creature_activities['hours'].quantile(0.75)\n",
    "IQR = Q3 - Q1\n",
    "outliers = creature_activities[(creature_activities['hours'] < (Q1 - 1.5 * IQR)) | (creature_activities['hours'] > (Q3 + 1.5 * IQR))]\n",
    "\n",
    "print(\"Step 4: Outliers Based on Activity Hours\")\n",
    "print(outliers, \"\\n\")\n",
    "\n",
    "# Step 5: Perform a hypothesis test to determine if the average hours spent by creatures on \"Flying\" is different from \"Potion Making\"\n",
    "flying_hours = creature_activities[creature_activities['activity'] == 'Flying']['hours']\n",
    "potion_hours = creature_activities[creature_activities['activity'] == 'Potion Making']['hours']\n",
    "t_stat, p_val = stats.ttest_ind(flying_hours, potion_hours)\n",
    "\n",
    "print(\"Step 5: Hypothesis Test for Flying vs Potion Making Hours\")\n",
    "print(f\"T-Statistic: {t_stat}, P-Value: {p_val}\")\n"
   ]
  },
  {
   "cell_type": "markdown",
   "id": "805e446c",
   "metadata": {
    "papermill": {
     "duration": 0.018765,
     "end_time": "2024-12-21T16:23:14.267856",
     "exception": false,
     "start_time": "2024-12-21T16:23:14.249091",
     "status": "completed"
    },
    "tags": []
   },
   "source": [
    "# Q8 - Pivot Table Puzzles\n",
    "<a id=\"q8\"></a>\n",
    "\n",
    "**Question:**\n",
    "Welcome to Pivot Table Puzzles! You are given a dataset of whimsical workshops attended by various mythical creatures. Each creature attends multiple workshops, and you need to analyze their attendance and performance. Your task is to use pivot tables to answer the following questions:\n",
    "1. Create a pivot table showing the total hours attended by each creature for each workshop.\n",
    "2. Calculate the average score of each creature for each workshop.\n",
    "3. Identify the workshop with the highest average score.\n",
    "4. Determine the total number of workshops attended by each creature.\n",
    "5. Find the creature with the highest total score across all workshops.\n",
    "\n",
    "**Datasets:**\n",
    "- `workshop_attendance`: Contains columns (creature_id, creature_name, workshop_name, hours_attended, score).\n"
   ]
  },
  {
   "cell_type": "code",
   "execution_count": 25,
   "id": "54b8cc57",
   "metadata": {
    "execution": {
     "iopub.execute_input": "2024-12-21T16:23:14.307134Z",
     "iopub.status.busy": "2024-12-21T16:23:14.306775Z",
     "iopub.status.idle": "2024-12-21T16:23:14.325196Z",
     "shell.execute_reply": "2024-12-21T16:23:14.323938Z"
    },
    "papermill": {
     "duration": 0.040936,
     "end_time": "2024-12-21T16:23:14.327640",
     "exception": false,
     "start_time": "2024-12-21T16:23:14.286704",
     "status": "completed"
    },
    "tags": []
   },
   "outputs": [
    {
     "name": "stdout",
     "output_type": "stream",
     "text": [
      "Workshop Attendance DataFrame:\n",
      "   creature_id   creature_name   workshop_name  hours_attended  score\n",
      "0            1      Elf Elrond     Wand Making               2     57\n",
      "1            1      Elf Elrond  Potion Brewing               3     54\n",
      "2            1      Elf Elrond   Spell Weaving               8     61\n",
      "3            2  Phoenix Phoebe  Potion Brewing               4     60\n",
      "4            3    Dragon Draco  Crystal Gazing               3     85\n"
     ]
    }
   ],
   "source": [
    "import pandas as pd\n",
    "import numpy as np\n",
    "\n",
    "# Seed for reproducibility\n",
    "np.random.seed(404)\n",
    "\n",
    "# Generate synthetic data\n",
    "creature_ids = np.arange(1, 21)\n",
    "creature_names = ['Unicorn Ulysses', 'Phoenix Phoebe', 'Dragon Draco', 'Goblin Greta', 'Elf Elrond']\n",
    "workshops = ['Wand Making', 'Spell Weaving', 'Potion Brewing', 'Crystal Gazing', 'Herbology']\n",
    "hours_options = np.arange(1, 11)\n",
    "score_options = np.arange(50, 101)\n",
    "\n",
    "data = []\n",
    "for creature in creature_ids:\n",
    "    creature_name = np.random.choice(creature_names)\n",
    "    num_workshops = np.random.randint(1, len(workshops) + 1)\n",
    "    attended_workshops = np.random.choice(workshops, num_workshops, replace=False)\n",
    "    for workshop in attended_workshops:\n",
    "        hours_attended = np.random.choice(hours_options)\n",
    "        score = np.random.choice(score_options)\n",
    "        data.append([creature, creature_name, workshop, hours_attended, score])\n",
    "\n",
    "# Create DataFrame\n",
    "workshop_attendance = pd.DataFrame(data, columns=['creature_id', 'creature_name', 'workshop_name', 'hours_attended', 'score'])\n",
    "\n",
    "# Display the dataset\n",
    "print(\"Workshop Attendance DataFrame:\")\n",
    "print(workshop_attendance.head())\n"
   ]
  },
  {
   "cell_type": "markdown",
   "id": "e935e6c2",
   "metadata": {
    "papermill": {
     "duration": 0.018791,
     "end_time": "2024-12-21T16:23:14.365477",
     "exception": false,
     "start_time": "2024-12-21T16:23:14.346686",
     "status": "completed"
    },
    "tags": []
   },
   "source": [
    "## Solution Explanation\n",
    "\n",
    "The steps to solve this problem are:\n",
    "1. Create a pivot table showing the total hours attended by each creature for each workshop.\n",
    "2. Calculate the average score of each creature for each workshop.\n",
    "3. Identify the workshop with the highest average score.\n",
    "4. Determine the total number of workshops attended by each creature.\n",
    "5. Find the creature with the highest total score across all workshops.\n",
    "\n",
    "Let's implement these steps in the following code.\n"
   ]
  },
  {
   "cell_type": "code",
   "execution_count": 26,
   "id": "3386d13e",
   "metadata": {
    "execution": {
     "iopub.execute_input": "2024-12-21T16:23:14.404976Z",
     "iopub.status.busy": "2024-12-21T16:23:14.404609Z",
     "iopub.status.idle": "2024-12-21T16:23:14.440361Z",
     "shell.execute_reply": "2024-12-21T16:23:14.439098Z"
    },
    "papermill": {
     "duration": 0.058473,
     "end_time": "2024-12-21T16:23:14.442986",
     "exception": false,
     "start_time": "2024-12-21T16:23:14.384513",
     "status": "completed"
    },
    "tags": []
   },
   "outputs": [
    {
     "name": "stdout",
     "output_type": "stream",
     "text": [
      "Step 1: Pivot Table - Total Hours Attended by Each Creature for Each Workshop\n",
      "workshop_name    Crystal Gazing  Herbology  Potion Brewing  Spell Weaving  \\\n",
      "creature_name                                                               \n",
      "Dragon Draco                 14         10              11             18   \n",
      "Elf Elrond                    8         14              14             18   \n",
      "Goblin Greta                 13         25               4             16   \n",
      "Phoenix Phoebe                0         16              14              9   \n",
      "Unicorn Ulysses               0         20              10              8   \n",
      "\n",
      "workshop_name    Wand Making  \n",
      "creature_name                 \n",
      "Dragon Draco              12  \n",
      "Elf Elrond                12  \n",
      "Goblin Greta              11  \n",
      "Phoenix Phoebe             0  \n",
      "Unicorn Ulysses            5   \n",
      "\n",
      "Step 2: Pivot Table - Average Score of Each Creature for Each Workshop\n",
      "workshop_name    Crystal Gazing  Herbology  Potion Brewing  Spell Weaving  \\\n",
      "creature_name                                                               \n",
      "Dragon Draco          70.333333  51.000000            85.0      77.000000   \n",
      "Elf Elrond            62.000000  91.000000            57.0      71.333333   \n",
      "Goblin Greta          67.666667  79.500000            77.0      82.000000   \n",
      "Phoenix Phoebe         0.000000  69.333333            68.5      81.000000   \n",
      "Unicorn Ulysses        0.000000  57.333333            61.0      91.500000   \n",
      "\n",
      "workshop_name    Wand Making  \n",
      "creature_name                 \n",
      "Dragon Draco       61.666667  \n",
      "Elf Elrond         70.333333  \n",
      "Goblin Greta       80.000000  \n",
      "Phoenix Phoebe      0.000000  \n",
      "Unicorn Ulysses    55.000000   \n",
      "\n",
      "Step 3: Workshop with the Highest Average Score\n",
      "workshop_name    Spell Weaving\n",
      "score                79.363636\n",
      "Name: 3, dtype: object \n",
      "\n",
      "Step 4: Total Number of Workshops Attended by Each Creature\n",
      "     creature_name  total_workshops\n",
      "0     Dragon Draco               12\n",
      "1       Elf Elrond               12\n",
      "2     Goblin Greta               13\n",
      "3   Phoenix Phoebe                6\n",
      "4  Unicorn Ulysses                7 \n",
      "\n",
      "Step 5: Creature with the Highest Total Score Across All Workshops\n",
      "creature_name    Goblin Greta\n",
      "score                     999\n",
      "Name: 2, dtype: object \n",
      "\n"
     ]
    }
   ],
   "source": [
    "# Step 1: Create a pivot table showing the total hours attended by each creature for each workshop\n",
    "pivot_hours = workshop_attendance.pivot_table(index='creature_name', columns='workshop_name', values='hours_attended', aggfunc='sum', fill_value=0)\n",
    "print(\"Step 1: Pivot Table - Total Hours Attended by Each Creature for Each Workshop\")\n",
    "print(pivot_hours, \"\\n\")\n",
    "\n",
    "# Step 2: Calculate the average score of each creature for each workshop\n",
    "pivot_scores = workshop_attendance.pivot_table(index='creature_name', columns='workshop_name', values='score', aggfunc='mean', fill_value=0)\n",
    "print(\"Step 2: Pivot Table - Average Score of Each Creature for Each Workshop\")\n",
    "print(pivot_scores, \"\\n\")\n",
    "\n",
    "# Step 3: Identify the workshop with the highest average score\n",
    "average_score_per_workshop = workshop_attendance.groupby('workshop_name')['score'].mean().reset_index()\n",
    "highest_avg_score_workshop = average_score_per_workshop.loc[average_score_per_workshop['score'].idxmax()]\n",
    "print(\"Step 3: Workshop with the Highest Average Score\")\n",
    "print(highest_avg_score_workshop, \"\\n\")\n",
    "\n",
    "# Step 4: Determine the total number of workshops attended by each creature\n",
    "total_workshops_per_creature = workshop_attendance.groupby('creature_name')['workshop_name'].count().reset_index()\n",
    "total_workshops_per_creature.columns = ['creature_name', 'total_workshops']\n",
    "print(\"Step 4: Total Number of Workshops Attended by Each Creature\")\n",
    "print(total_workshops_per_creature, \"\\n\")\n",
    "\n",
    "# Step 5: Find the creature with the highest total score across all workshops\n",
    "total_score_per_creature = workshop_attendance.groupby('creature_name')['score'].sum().reset_index()\n",
    "highest_total_score_creature = total_score_per_creature.loc[total_score_per_creature['score'].idxmax()]\n",
    "print(\"Step 5: Creature with the Highest Total Score Across All Workshops\")\n",
    "print(highest_total_score_creature, \"\\n\")\n"
   ]
  },
  {
   "cell_type": "markdown",
   "id": "0c49edcc",
   "metadata": {
    "papermill": {
     "duration": 0.018797,
     "end_time": "2024-12-21T16:23:14.480682",
     "exception": false,
     "start_time": "2024-12-21T16:23:14.461885",
     "status": "completed"
    },
    "tags": []
   },
   "source": [
    "# Q9 - Aggregation Aggravation\n",
    "<a id=\"q9\"></a>\n",
    "\n",
    "**Question:**\n",
    "Welcome to Aggregation Aggravation! You are given a dataset of enchanted items and their properties. Each item has multiple properties, and you need to perform various aggregations to answer the following questions:\n",
    "1. Calculate the total weight and total value of items for each item type.\n",
    "2. Identify the item type with the highest average value.\n",
    "3. Determine the item with the highest weight in each item type.\n",
    "4. Calculate the sum, mean, and standard deviation of the value of items for each item type.\n",
    "5. Find the top 3 most common properties across all items.\n",
    "\n",
    "**Datasets:**\n",
    "- `enchanted_items`: Contains columns (item_id, item_type, item_name, weight, value, properties).\n"
   ]
  },
  {
   "cell_type": "code",
   "execution_count": 27,
   "id": "e0aec301",
   "metadata": {
    "execution": {
     "iopub.execute_input": "2024-12-21T16:23:14.520389Z",
     "iopub.status.busy": "2024-12-21T16:23:14.520004Z",
     "iopub.status.idle": "2024-12-21T16:23:14.545228Z",
     "shell.execute_reply": "2024-12-21T16:23:14.543863Z"
    },
    "papermill": {
     "duration": 0.048587,
     "end_time": "2024-12-21T16:23:14.548035",
     "exception": false,
     "start_time": "2024-12-21T16:23:14.499448",
     "status": "completed"
    },
    "tags": []
   },
   "outputs": [
    {
     "name": "stdout",
     "output_type": "stream",
     "text": [
      "Enchanted Items DataFrame:\n",
      "   item_id           item_type             item_name  weight  value  \\\n",
      "0        1       Potion Bottle  Cloak of Concealment       6    328   \n",
      "1        2  Invisibility Cloak       Bottle of Bliss       9    761   \n",
      "2        3  Invisibility Cloak  Cloak of Concealment      10    861   \n",
      "3        4       Flying Carpet     Amulet of Agility       5    171   \n",
      "4        5          Magic Wand     Carpet of Comfort       4    543   \n",
      "\n",
      "                                        properties  \n",
      "0  Glows in the Dark, Sings Softly, Indestructible  \n",
      "1                                   Indestructible  \n",
      "2                    Sings Softly, Floats on Water  \n",
      "3  Indestructible, Glows in the Dark, Sings Softly  \n",
      "4  Sings Softly, Indestructible, Glows in the Dark  \n"
     ]
    }
   ],
   "source": [
    "import pandas as pd\n",
    "import numpy as np\n",
    "\n",
    "# Seed for reproducibility\n",
    "np.random.seed(505)\n",
    "\n",
    "# Generate synthetic data\n",
    "item_ids = np.arange(1, 101)\n",
    "item_types = ['Magic Wand', 'Potion Bottle', 'Enchanted Amulet', 'Flying Carpet', 'Invisibility Cloak']\n",
    "item_names = ['Wand of Wonders', 'Bottle of Bliss', 'Amulet of Agility', 'Carpet of Comfort', 'Cloak of Concealment']\n",
    "weight_options = np.arange(1, 11)\n",
    "value_options = np.arange(100, 1001)\n",
    "properties_options = ['Glows in the Dark', 'Indestructible', 'Floats on Water', 'Grants Invisibility', 'Sings Softly']\n",
    "\n",
    "data = []\n",
    "for item_id in item_ids:\n",
    "    item_type = np.random.choice(item_types)\n",
    "    item_name = np.random.choice(item_names)\n",
    "    weight = np.random.choice(weight_options)\n",
    "    value = np.random.choice(value_options)\n",
    "    properties = ', '.join(np.random.choice(properties_options, np.random.randint(1, 4), replace=False))\n",
    "    data.append([item_id, item_type, item_name, weight, value, properties])\n",
    "\n",
    "# Create DataFrame\n",
    "enchanted_items = pd.DataFrame(data, columns=['item_id', 'item_type', 'item_name', 'weight', 'value', 'properties'])\n",
    "\n",
    "# Display the dataset\n",
    "print(\"Enchanted Items DataFrame:\")\n",
    "print(enchanted_items.head())\n"
   ]
  },
  {
   "cell_type": "markdown",
   "id": "75431a28",
   "metadata": {
    "papermill": {
     "duration": 0.018943,
     "end_time": "2024-12-21T16:23:14.586219",
     "exception": false,
     "start_time": "2024-12-21T16:23:14.567276",
     "status": "completed"
    },
    "tags": []
   },
   "source": [
    "## Solution Explanation\n",
    "\n",
    "The steps to solve this problem are:\n",
    "1. Calculate the total weight and total value of items for each item type.\n",
    "2. Identify the item type with the highest average value.\n",
    "3. Determine the item with the highest weight in each item type.\n",
    "4. Calculate the sum, mean, and standard deviation of the value of items for each item type.\n",
    "5. Find the top 3 most common properties across all items.\n",
    "\n",
    "Let's implement these steps in the following code.\n"
   ]
  },
  {
   "cell_type": "code",
   "execution_count": 28,
   "id": "ac0c6685",
   "metadata": {
    "execution": {
     "iopub.execute_input": "2024-12-21T16:23:14.626463Z",
     "iopub.status.busy": "2024-12-21T16:23:14.626037Z",
     "iopub.status.idle": "2024-12-21T16:23:14.653618Z",
     "shell.execute_reply": "2024-12-21T16:23:14.652358Z"
    },
    "papermill": {
     "duration": 0.050913,
     "end_time": "2024-12-21T16:23:14.656095",
     "exception": false,
     "start_time": "2024-12-21T16:23:14.605182",
     "status": "completed"
    },
    "tags": []
   },
   "outputs": [
    {
     "name": "stdout",
     "output_type": "stream",
     "text": [
      "Step 1: Total Weight and Total Value of Items for Each Item Type\n",
      "            item_type  weight  value\n",
      "0    Enchanted Amulet      80   6669\n",
      "1       Flying Carpet      66   9459\n",
      "2  Invisibility Cloak     155  16046\n",
      "3          Magic Wand     121  13033\n",
      "4       Potion Bottle     111  14215 \n",
      "\n",
      "Step 2: Item Type with the Highest Average Value\n",
      "item_type    Flying Carpet\n",
      "value           727.615385\n",
      "Name: 1, dtype: object \n",
      "\n",
      "Step 3: Item with the Highest Weight in Each Item Type\n",
      "            item_type             item_name  weight\n",
      "0    Enchanted Amulet       Wand of Wonders      10\n",
      "1       Flying Carpet       Wand of Wonders      10\n",
      "2  Invisibility Cloak  Cloak of Concealment      10\n",
      "3          Magic Wand       Bottle of Bliss      10\n",
      "4       Potion Bottle       Bottle of Bliss      10 \n",
      "\n",
      "Step 4: Sum, Mean, and Standard Deviation of the Value of Items for Each Item Type\n",
      "            item_type    sum        mean         std\n",
      "0    Enchanted Amulet   6669  513.000000  278.674242\n",
      "1       Flying Carpet   9459  727.615385  251.927416\n",
      "2  Invisibility Cloak  16046  573.071429  240.990076\n",
      "3          Magic Wand  13033  566.652174  261.488851\n",
      "4       Potion Bottle  14215  618.043478  254.151973 \n",
      "\n",
      "Step 5: Top 3 Most Common Properties Across All Items\n",
      "Sings Softly         51\n",
      "Indestructible       40\n",
      "Glows in the Dark    38\n",
      "Name: count, dtype: int64\n"
     ]
    }
   ],
   "source": [
    "# Step 1: Calculate the total weight and total value of items for each item type\n",
    "total_weight_value = enchanted_items.groupby('item_type').agg({'weight': 'sum', 'value': 'sum'}).reset_index()\n",
    "print(\"Step 1: Total Weight and Total Value of Items for Each Item Type\")\n",
    "print(total_weight_value, \"\\n\")\n",
    "\n",
    "# Step 2: Identify the item type with the highest average value\n",
    "average_value_per_type = enchanted_items.groupby('item_type')['value'].mean().reset_index()\n",
    "highest_avg_value_type = average_value_per_type.loc[average_value_per_type['value'].idxmax()]\n",
    "print(\"Step 2: Item Type with the Highest Average Value\")\n",
    "print(highest_avg_value_type, \"\\n\")\n",
    "\n",
    "# Step 3: Determine the item with the highest weight in each item type\n",
    "max_weight_per_type = enchanted_items.loc[enchanted_items.groupby('item_type')['weight'].idxmax()].reset_index(drop=True)\n",
    "print(\"Step 3: Item with the Highest Weight in Each Item Type\")\n",
    "print(max_weight_per_type[['item_type', 'item_name', 'weight']], \"\\n\")\n",
    "\n",
    "# Step 4: Calculate the sum, mean, and standard deviation of the value of items for each item type\n",
    "value_stats_per_type = enchanted_items.groupby('item_type')['value'].agg(['sum', 'mean', 'std']).reset_index()\n",
    "print(\"Step 4: Sum, Mean, and Standard Deviation of the Value of Items for Each Item Type\")\n",
    "print(value_stats_per_type, \"\\n\")\n",
    "\n",
    "# Step 5: Find the top 3 most common properties across all items\n",
    "properties_split = enchanted_items['properties'].str.split(', ', expand=True).stack()\n",
    "properties_count = properties_split.value_counts().head(3)\n",
    "print(\"Step 5: Top 3 Most Common Properties Across All Items\")\n",
    "print(properties_count)\n"
   ]
  },
  {
   "cell_type": "markdown",
   "id": "80de8641",
   "metadata": {
    "papermill": {
     "duration": 0.018839,
     "end_time": "2024-12-21T16:23:14.695641",
     "exception": false,
     "start_time": "2024-12-21T16:23:14.676802",
     "status": "completed"
    },
    "tags": []
   },
   "source": [
    "# Q10 - Visual Magic with Pandas\n",
    "<a id=\"q10\"></a>\n",
    "\n",
    "**Question:**\n",
    "Welcome to Visual Magic with Pandas! You are given a dataset of mystical creatures and their magical powers. Each creature has different abilities, and you need to create visualizations to answer the following questions:\n",
    "1. Create a bar chart showing the total power levels for each creature type.\n",
    "2. Generate a pie chart representing the distribution of creatures by their habitat.\n",
    "3. Plot a scatter plot to show the relationship between power level and age of the creatures.\n",
    "4. Create a box plot to compare the power levels across different creature types.\n",
    "5. Generate a line chart to show the change in power levels over different ages for each creature type.\n",
    "\n",
    "**Datasets:**\n",
    "- `mystical_creatures`: Contains columns (creature_id, creature_type, creature_name, age, power_level, habitat).\n",
    "\n"
   ]
  },
  {
   "cell_type": "code",
   "execution_count": 29,
   "id": "cab6b6a8",
   "metadata": {
    "execution": {
     "iopub.execute_input": "2024-12-21T16:23:14.735869Z",
     "iopub.status.busy": "2024-12-21T16:23:14.735504Z",
     "iopub.status.idle": "2024-12-21T16:23:14.759463Z",
     "shell.execute_reply": "2024-12-21T16:23:14.758342Z"
    },
    "papermill": {
     "duration": 0.047007,
     "end_time": "2024-12-21T16:23:14.761770",
     "exception": false,
     "start_time": "2024-12-21T16:23:14.714763",
     "status": "completed"
    },
    "tags": []
   },
   "outputs": [
    {
     "name": "stdout",
     "output_type": "stream",
     "text": [
      "Mystical Creatures DataFrame:\n",
      "   creature_id creature_type creature_name  age  power_level   habitat\n",
      "0            1       Unicorn         Draco   29          371  Mountain\n",
      "1            2       Mermaid         Griff   44          182       Sea\n",
      "2            3       Unicorn       Sparkle    1          142       Sky\n",
      "3            4       Unicorn         Ariel   13          260       Sky\n",
      "4            5       Unicorn         Flare   67          248       Sea\n"
     ]
    }
   ],
   "source": [
    "import pandas as pd\n",
    "import numpy as np\n",
    "import matplotlib.pyplot as plt\n",
    "\n",
    "# Seed for reproducibility\n",
    "np.random.seed(606)\n",
    "\n",
    "# Generate synthetic data\n",
    "creature_ids = np.arange(1, 101)\n",
    "creature_types = ['Dragon', 'Unicorn', 'Phoenix', 'Griffin', 'Mermaid']\n",
    "creature_names = ['Draco', 'Sparkle', 'Flare', 'Griff', 'Ariel']\n",
    "habitats = ['Forest', 'Mountain', 'Sea', 'Sky', 'Cave']\n",
    "ages = np.arange(1, 101)\n",
    "power_levels = np.arange(50, 501)\n",
    "\n",
    "data = []\n",
    "for creature_id in creature_ids:\n",
    "    creature_type = np.random.choice(creature_types)\n",
    "    creature_name = np.random.choice(creature_names)\n",
    "    age = np.random.choice(ages)\n",
    "    power_level = np.random.choice(power_levels)\n",
    "    habitat = np.random.choice(habitats)\n",
    "    data.append([creature_id, creature_type, creature_name, age, power_level, habitat])\n",
    "\n",
    "# Create DataFrame\n",
    "mystical_creatures = pd.DataFrame(data, columns=['creature_id', 'creature_type', 'creature_name', 'age', 'power_level', 'habitat'])\n",
    "\n",
    "# Display the dataset\n",
    "print(\"Mystical Creatures DataFrame:\")\n",
    "print(mystical_creatures.head())\n"
   ]
  },
  {
   "cell_type": "markdown",
   "id": "61b719ed",
   "metadata": {
    "papermill": {
     "duration": 0.019331,
     "end_time": "2024-12-21T16:23:14.800174",
     "exception": false,
     "start_time": "2024-12-21T16:23:14.780843",
     "status": "completed"
    },
    "tags": []
   },
   "source": [
    "## Solution Explanation\n",
    "\n",
    "The steps to solve this problem are:\n",
    "1. Create a bar chart showing the total power levels for each creature type.\n",
    "2. Generate a pie chart representing the distribution of creatures by their habitat.\n",
    "3. Plot a scatter plot to show the relationship between power level and age of the creatures.\n",
    "4. Create a box plot to compare the power levels across different creature types.\n",
    "Let's implement these steps in the following code.\n"
   ]
  },
  {
   "cell_type": "code",
   "execution_count": 30,
   "id": "0671a1a4",
   "metadata": {
    "execution": {
     "iopub.execute_input": "2024-12-21T16:23:14.840665Z",
     "iopub.status.busy": "2024-12-21T16:23:14.840319Z",
     "iopub.status.idle": "2024-12-21T16:23:16.389960Z",
     "shell.execute_reply": "2024-12-21T16:23:16.388628Z"
    },
    "papermill": {
     "duration": 1.572978,
     "end_time": "2024-12-21T16:23:16.392532",
     "exception": false,
     "start_time": "2024-12-21T16:23:14.819554",
     "status": "completed"
    },
    "tags": []
   },
   "outputs": [
    {
     "data": {
      "image/png": "[encoded data removed]",
      "text/plain": [
       "<Figure size 1000x600 with 1 Axes>"
      ]
     },
     "metadata": {},
     "output_type": "display_data"
    },
    {
     "data": {
      "image/png": "[encoded data removed]",
      "text/plain": [
       "<Figure size 800x800 with 1 Axes>"
      ]
     },
     "metadata": {},
     "output_type": "display_data"
    },
    {
     "data": {
      "image/png": "[encoded data removed]",
      "text/plain": [
       "<Figure size 1000x600 with 1 Axes>"
      ]
     },
     "metadata": {},
     "output_type": "display_data"
    },
    {
     "data": {
      "image/png": "[encoded data removed]",
      "text/plain": [
       "<Figure size 1000x600 with 1 Axes>"
      ]
     },
     "metadata": {},
     "output_type": "display_data"
    }
   ],
   "source": [
    "import seaborn as sns\n",
    "\n",
    "# Step 1: Create a bar chart showing the total power levels for each creature type\n",
    "plt.figure(figsize=(10, 6))\n",
    "total_power_levels = mystical_creatures.groupby('creature_type')['power_level'].sum().reset_index()\n",
    "sns.barplot(x='creature_type', y='power_level', data=total_power_levels, palette='viridis')\n",
    "plt.title('Total Power Levels for Each Creature Type')\n",
    "plt.xlabel('Creature Type')\n",
    "plt.ylabel('Total Power Level')\n",
    "plt.show()\n",
    "\n",
    "# Step 2: Generate a pie chart representing the distribution of creatures by their habitat\n",
    "plt.figure(figsize=(8, 8))\n",
    "habitat_distribution = mystical_creatures['habitat'].value_counts()\n",
    "plt.pie(habitat_distribution, labels=habitat_distribution.index, autopct='%1.1f%%', colors=sns.color_palette('pastel'))\n",
    "plt.title('Distribution of Creatures by Habitat')\n",
    "plt.show()\n",
    "\n",
    "# Step 3: Plot a scatter plot to show the relationship between power level and age of the creatures\n",
    "plt.figure(figsize=(10, 6))\n",
    "sns.scatterplot(x='age', y='power_level', data=mystical_creatures, hue='creature_type', palette='viridis', alpha=0.7)\n",
    "plt.title('Relationship Between Power Level and Age of the Creatures')\n",
    "plt.xlabel('Age')\n",
    "plt.ylabel('Power Level')\n",
    "plt.show()\n",
    "\n",
    "# Step 4: Create a box plot to compare the power levels across different creature types\n",
    "plt.figure(figsize=(10, 6))\n",
    "sns.boxplot(x='creature_type', y='power_level', data=mystical_creatures, palette='viridis')\n",
    "plt.title('Power Levels Across Different Creature Types')\n",
    "plt.xlabel('Creature Type')\n",
    "plt.ylabel('Power Level')\n",
    "plt.show()\n",
    "\n"
   ]
  },
  {
   "cell_type": "markdown",
   "id": "08f7e3d7",
   "metadata": {
    "papermill": {
     "duration": 0.025523,
     "end_time": "2024-12-21T16:23:16.441058",
     "exception": false,
     "start_time": "2024-12-21T16:23:16.415535",
     "status": "completed"
    },
    "tags": []
   },
   "source": [
    "# Q11 - Nested Data Labyrinth\n",
    "<a id=\"q11\"></a>\n",
    "\n",
    "**Question:**\n",
    "Welcome to the Nested Data Labyrinth! You are given a dataset of enchanted forests and the magical creatures that inhabit them. Each forest contains multiple creatures, and each creature has various attributes. Your task is to navigate through this nested data to answer the following questions:\n",
    "1. Count the total number of creatures in each forest.\n",
    "2. Calculate the average power level of creatures in each forest.\n",
    "3. Identify the forest with the highest average age of creatures.\n",
    "4. Determine the most common creature type in each forest.\n",
    "5. Find the top 2 creatures with the highest power levels in each forest.\n",
    "\n",
    "**Datasets:**\n",
    "- `enchanted_forests`: Contains columns (forest_id, forest_name, creatures), where `creatures` is a list of dictionaries with keys (creature_id, creature_name, creature_type, age, power_level).\n",
    "\n",
    "Generate synthetic data for the dataset and perform the required analysis to find the answers.\n"
   ]
  },
  {
   "cell_type": "code",
   "execution_count": 31,
   "id": "e453bfed",
   "metadata": {
    "execution": {
     "iopub.execute_input": "2024-12-21T16:23:16.487708Z",
     "iopub.status.busy": "2024-12-21T16:23:16.486936Z",
     "iopub.status.idle": "2024-12-21T16:23:16.501805Z",
     "shell.execute_reply": "2024-12-21T16:23:16.500544Z"
    },
    "papermill": {
     "duration": 0.041171,
     "end_time": "2024-12-21T16:23:16.504490",
     "exception": false,
     "start_time": "2024-12-21T16:23:16.463319",
     "status": "completed"
    },
    "tags": []
   },
   "outputs": [
    {
     "name": "stdout",
     "output_type": "stream",
     "text": [
      "Enchanted Forests DataFrame:\n",
      "   forest_id      forest_name  \\\n",
      "0          1     Mystic Grove   \n",
      "1          2  Enchanted Woods   \n",
      "2          3    Faerie Forest   \n",
      "3          4     Dragon’s Den   \n",
      "4          5   Unicorn Utopia   \n",
      "\n",
      "                                           creatures  \n",
      "0  [{\"creature_id\": 250, \"creature_name\": \"Sparkl...  \n",
      "1  [{\"creature_id\": 866, \"creature_name\": \"Draco\"...  \n",
      "2  [{\"creature_id\": 714, \"creature_name\": \"Draco\"...  \n",
      "3  [{\"creature_id\": 245, \"creature_name\": \"Ariel\"...  \n",
      "4  [{\"creature_id\": 173, \"creature_name\": \"Ariel\"...  \n"
     ]
    }
   ],
   "source": [
    "import pandas as pd\n",
    "import numpy as np\n",
    "import json\n",
    "\n",
    "# Seed for reproducibility\n",
    "np.random.seed(707)\n",
    "\n",
    "# Generate synthetic data\n",
    "forest_ids = np.arange(1, 6)\n",
    "forest_names = ['Mystic Grove', 'Enchanted Woods', 'Faerie Forest', 'Dragon’s Den', 'Unicorn Utopia']\n",
    "creature_types = ['Dragon', 'Unicorn', 'Phoenix', 'Griffin', 'Mermaid']\n",
    "creature_names = ['Draco', 'Sparkle', 'Flare', 'Griff', 'Ariel']\n",
    "\n",
    "data = []\n",
    "for forest_id, forest_name in zip(forest_ids, forest_names):\n",
    "    num_creatures = np.random.randint(5, 11)\n",
    "    creatures = []\n",
    "    for _ in range(num_creatures):\n",
    "        creature_id = np.random.randint(1, 1001)\n",
    "        creature_type = np.random.choice(creature_types)\n",
    "        creature_name = np.random.choice(creature_names)\n",
    "        age = np.random.randint(1, 101)\n",
    "        power_level = np.random.randint(50, 501)\n",
    "        creatures.append({\n",
    "            'creature_id': creature_id,\n",
    "            'creature_name': creature_name,\n",
    "            'creature_type': creature_type,\n",
    "            'age': age,\n",
    "            'power_level': power_level\n",
    "        })\n",
    "    data.append([forest_id, forest_name, json.dumps(creatures)])\n",
    "\n",
    "# Create DataFrame\n",
    "enchanted_forests = pd.DataFrame(data, columns=['forest_id', 'forest_name', 'creatures'])\n",
    "\n",
    "# Display the dataset\n",
    "print(\"Enchanted Forests DataFrame:\")\n",
    "print(enchanted_forests.head())\n"
   ]
  },
  {
   "cell_type": "markdown",
   "id": "a487727d",
   "metadata": {
    "papermill": {
     "duration": 0.022,
     "end_time": "2024-12-21T16:23:16.548712",
     "exception": false,
     "start_time": "2024-12-21T16:23:16.526712",
     "status": "completed"
    },
    "tags": []
   },
   "source": [
    "## Solution Explanation\n",
    "\n",
    "The steps to solve this problem are:\n",
    "1. Count the total number of creatures in each forest.\n",
    "2. Calculate the average power level of creatures in each forest.\n",
    "3. Identify the forest with the highest average age of creatures.\n",
    "4. Determine the most common creature type in each forest.\n",
    "5. Find the top 2 creatures with the highest power levels in each forest.\n",
    "\n",
    "Let's implement these steps in the following code.\n"
   ]
  },
  {
   "cell_type": "code",
   "execution_count": 32,
   "id": "51f80a62",
   "metadata": {
    "execution": {
     "iopub.execute_input": "2024-12-21T16:23:16.595031Z",
     "iopub.status.busy": "2024-12-21T16:23:16.594201Z",
     "iopub.status.idle": "2024-12-21T16:23:16.644025Z",
     "shell.execute_reply": "2024-12-21T16:23:16.642879Z"
    },
    "papermill": {
     "duration": 0.075943,
     "end_time": "2024-12-21T16:23:16.646761",
     "exception": false,
     "start_time": "2024-12-21T16:23:16.570818",
     "status": "completed"
    },
    "tags": []
   },
   "outputs": [
    {
     "name": "stdout",
     "output_type": "stream",
     "text": [
      "Step 1: Total Number of Creatures in Each Forest\n",
      "       forest_name  num_creatures\n",
      "0     Mystic Grove              8\n",
      "1  Enchanted Woods              7\n",
      "2    Faerie Forest              7\n",
      "3     Dragon’s Den              5\n",
      "4   Unicorn Utopia             10 \n",
      "\n",
      "Step 2: Average Power Level of Creatures in Each Forest\n",
      "       forest_name  avg_power_level\n",
      "0     Mystic Grove       274.250000\n",
      "1  Enchanted Woods       238.285714\n",
      "2    Faerie Forest       293.571429\n",
      "3     Dragon’s Den       226.600000\n",
      "4   Unicorn Utopia       225.900000 \n",
      "\n",
      "Step 3: Forest with the Highest Average Age of Creatures\n",
      "forest_name    Unicorn Utopia\n",
      "avg_age                  65.0\n",
      "Name: 4, dtype: object \n",
      "\n",
      "Step 4: Most Common Creature Type in Each Forest\n",
      "       forest_name most_common_creature_type\n",
      "0     Mystic Grove                   Mermaid\n",
      "1  Enchanted Woods                   Griffin\n",
      "2    Faerie Forest                   Mermaid\n",
      "3     Dragon’s Den                   Mermaid\n",
      "4   Unicorn Utopia                   Griffin \n",
      "\n",
      "Step 5: Top 2 Creatures with the Highest Power Levels in Each Forest\n",
      "Forest: Mystic Grove\n",
      "  creature_name  power_level\n",
      "5         Griff          450\n",
      "6       Sparkle          413 \n",
      "\n",
      "Forest: Enchanted Woods\n",
      "  creature_name  power_level\n",
      "4       Sparkle          470\n",
      "2         Griff          404 \n",
      "\n",
      "Forest: Faerie Forest\n",
      "  creature_name  power_level\n",
      "2         Ariel          478\n",
      "0         Draco          383 \n",
      "\n",
      "Forest: Dragon’s Den\n",
      "  creature_name  power_level\n",
      "3       Sparkle          383\n",
      "4         Flare          382 \n",
      "\n",
      "Forest: Unicorn Utopia\n",
      "  creature_name  power_level\n",
      "0         Ariel          430\n",
      "5       Sparkle          410 \n",
      "\n"
     ]
    }
   ],
   "source": [
    "import json\n",
    "\n",
    "# Helper function to extract creatures from JSON\n",
    "def extract_creatures(row):\n",
    "    return pd.DataFrame(json.loads(row['creatures']))\n",
    "\n",
    "# Step 1: Count the total number of creatures in each forest\n",
    "enchanted_forests['num_creatures'] = enchanted_forests['creatures'].apply(lambda x: len(json.loads(x)))\n",
    "print(\"Step 1: Total Number of Creatures in Each Forest\")\n",
    "print(enchanted_forests[['forest_name', 'num_creatures']], \"\\n\")\n",
    "\n",
    "# Step 2: Calculate the average power level of creatures in each forest\n",
    "enchanted_forests['avg_power_level'] = enchanted_forests['creatures'].apply(lambda x: pd.DataFrame(json.loads(x))['power_level'].mean())\n",
    "print(\"Step 2: Average Power Level of Creatures in Each Forest\")\n",
    "print(enchanted_forests[['forest_name', 'avg_power_level']], \"\\n\")\n",
    "\n",
    "# Step 3: Identify the forest with the highest average age of creatures\n",
    "enchanted_forests['avg_age'] = enchanted_forests['creatures'].apply(lambda x: pd.DataFrame(json.loads(x))['age'].mean())\n",
    "forest_highest_avg_age = enchanted_forests.loc[enchanted_forests['avg_age'].idxmax()]\n",
    "print(\"Step 3: Forest with the Highest Average Age of Creatures\")\n",
    "print(forest_highest_avg_age[['forest_name', 'avg_age']], \"\\n\")\n",
    "\n",
    "# Step 4: Determine the most common creature type in each forest\n",
    "def most_common_creature_type(creatures_json):\n",
    "    creatures_df = pd.DataFrame(json.loads(creatures_json))\n",
    "    return creatures_df['creature_type'].mode().iloc[0]\n",
    "\n",
    "enchanted_forests['most_common_creature_type'] = enchanted_forests['creatures'].apply(most_common_creature_type)\n",
    "print(\"Step 4: Most Common Creature Type in Each Forest\")\n",
    "print(enchanted_forests[['forest_name', 'most_common_creature_type']], \"\\n\")\n",
    "\n",
    "# Step 5: Find the top 2 creatures with the highest power levels in each forest\n",
    "def top_2_creatures(creatures_json):\n",
    "    creatures_df = pd.DataFrame(json.loads(creatures_json))\n",
    "    return creatures_df.nlargest(2, 'power_level')[['creature_name', 'power_level']]\n",
    "\n",
    "enchanted_forests['top_2_creatures'] = enchanted_forests['creatures'].apply(top_2_creatures)\n",
    "print(\"Step 5: Top 2 Creatures with the Highest Power Levels in Each Forest\")\n",
    "for index, row in enchanted_forests.iterrows():\n",
    "    print(f\"Forest: {row['forest_name']}\")\n",
    "    print(row['top_2_creatures'], \"\\n\")\n"
   ]
  },
  {
   "cell_type": "markdown",
   "id": "68a20446",
   "metadata": {
    "papermill": {
     "duration": 0.022265,
     "end_time": "2024-12-21T16:23:16.691316",
     "exception": false,
     "start_time": "2024-12-21T16:23:16.669051",
     "status": "completed"
    },
    "tags": []
   },
   "source": [
    "# Q12 - Async Adventures in Data\n",
    "<a id=\"q12\"></a>\n",
    "\n",
    "**Question:**\n",
    "Welcome to Async Adventures in Data! You are given a dataset of magical quests undertaken by various whimsical characters. Each character can perform multiple quests, and each quest has different stages. Your task is to perform asynchronous data manipulation to answer the following questions:\n",
    "1. Count the total number of quests each character has completed.\n",
    "2. Calculate the average number of stages per quest for each character.\n",
    "3. Identify the character with the highest average quest duration.\n",
    "4. Determine the most common quest type for each character.\n",
    "5. Find the character with the most diverse quest portfolio (i.e., highest number of unique quest types).\n",
    "\n",
    "**Datasets:**\n",
    "- `magical_quests`: Contains columns (character_id, character_name, quests), where `quests` is a list of dictionaries with keys (quest_id, quest_type, stages, duration).\n",
    "\n"
   ]
  },
  {
   "cell_type": "code",
   "execution_count": 33,
   "id": "a2718fa8",
   "metadata": {
    "execution": {
     "iopub.execute_input": "2024-12-21T16:23:16.739136Z",
     "iopub.status.busy": "2024-12-21T16:23:16.738125Z",
     "iopub.status.idle": "2024-12-21T16:23:16.756435Z",
     "shell.execute_reply": "2024-12-21T16:23:16.755294Z"
    },
    "papermill": {
     "duration": 0.044178,
     "end_time": "2024-12-21T16:23:16.758586",
     "exception": false,
     "start_time": "2024-12-21T16:23:16.714408",
     "status": "completed"
    },
    "tags": []
   },
   "outputs": [
    {
     "name": "stdout",
     "output_type": "stream",
     "text": [
      "Magical Quests DataFrame:\n",
      "   character_id character_name  \\\n",
      "0             1          Frodo   \n",
      "1             2        Gandalf   \n",
      "2             3       Hermione   \n",
      "3             4        Legolas   \n",
      "4             5          Bilbo   \n",
      "\n",
      "                                              quests  \n",
      "0  [{\"quest_id\": 295, \"quest_type\": \"Dragon Slayi...  \n",
      "1  [{\"quest_id\": 947, \"quest_type\": \"Potion Makin...  \n",
      "2  [{\"quest_id\": 951, \"quest_type\": \"Spell Castin...  \n",
      "3  [{\"quest_id\": 531, \"quest_type\": \"Treasure Hun...  \n",
      "4  [{\"quest_id\": 566, \"quest_type\": \"Potion Makin...  \n"
     ]
    }
   ],
   "source": [
    "import pandas as pd\n",
    "import numpy as np\n",
    "import json\n",
    "\n",
    "# Seed for reproducibility\n",
    "np.random.seed(808)\n",
    "\n",
    "# Generate synthetic data\n",
    "character_ids = np.arange(1, 11)\n",
    "character_names = ['Frodo', 'Gandalf', 'Hermione', 'Legolas', 'Bilbo', 'Galadriel', 'Dumbledore', 'Gimli', 'Harry', 'Aragorn']\n",
    "quest_types = ['Treasure Hunt', 'Dragon Slaying', 'Potion Making', 'Spell Casting', 'Rescue Mission']\n",
    "stage_options = np.arange(1, 6)\n",
    "duration_options = np.arange(1, 101)\n",
    "\n",
    "data = []\n",
    "for character_id, character_name in zip(character_ids, character_names):\n",
    "    num_quests = np.random.randint(5, 11)\n",
    "    quests = []\n",
    "    for _ in range(num_quests):\n",
    "        quest_id = int(np.random.randint(1, 1001))\n",
    "        quest_type = np.random.choice(quest_types)\n",
    "        stages = int(np.random.choice(stage_options))\n",
    "        duration = int(np.random.choice(duration_options))\n",
    "        quests.append({\n",
    "            'quest_id': quest_id,\n",
    "            'quest_type': quest_type,\n",
    "            'stages': stages,\n",
    "            'duration': duration\n",
    "        })\n",
    "    data.append([character_id, character_name, json.dumps(quests)])\n",
    "\n",
    "# Create DataFrame\n",
    "magical_quests = pd.DataFrame(data, columns=['character_id', 'character_name', 'quests'])\n",
    "\n",
    "# Display the dataset\n",
    "print(\"Magical Quests DataFrame:\")\n",
    "print(magical_quests.head())\n"
   ]
  },
  {
   "cell_type": "markdown",
   "id": "926263a0",
   "metadata": {
    "papermill": {
     "duration": 0.022414,
     "end_time": "2024-12-21T16:23:16.804155",
     "exception": false,
     "start_time": "2024-12-21T16:23:16.781741",
     "status": "completed"
    },
    "tags": []
   },
   "source": [
    "## Solution Explanation\n",
    "\n",
    "The steps to solve this problem are:\n",
    "1. Count the total number of quests each character has completed.\n",
    "2. Calculate the average number of stages per quest for each character.\n",
    "3. Identify the character with the highest average quest duration.\n",
    "4. Determine the most common quest type for each character.\n",
    "5. Find the character with the most diverse quest portfolio (i.e., highest number of unique quest types).\n",
    "\n",
    "Let's implement these steps in the following code.\n"
   ]
  },
  {
   "cell_type": "code",
   "execution_count": 34,
   "id": "4e7864ba",
   "metadata": {
    "execution": {
     "iopub.execute_input": "2024-12-21T16:23:16.852796Z",
     "iopub.status.busy": "2024-12-21T16:23:16.852039Z",
     "iopub.status.idle": "2024-12-21T16:23:16.902104Z",
     "shell.execute_reply": "2024-12-21T16:23:16.900940Z"
    },
    "papermill": {
     "duration": 0.076828,
     "end_time": "2024-12-21T16:23:16.904773",
     "exception": false,
     "start_time": "2024-12-21T16:23:16.827945",
     "status": "completed"
    },
    "tags": []
   },
   "outputs": [
    {
     "name": "stdout",
     "output_type": "stream",
     "text": [
      "Step 1: Total Number of Quests Each Character Has Completed\n",
      "  character_name  num_quests\n",
      "0          Frodo          10\n",
      "1        Gandalf           7\n",
      "2       Hermione           8\n",
      "3        Legolas           7\n",
      "4          Bilbo           9\n",
      "5      Galadriel           5\n",
      "6     Dumbledore           7\n",
      "7          Gimli           8\n",
      "8          Harry           5\n",
      "9        Aragorn           8 \n",
      "\n",
      "Step 2: Average Number of Stages per Quest for Each Character\n",
      "  character_name  avg_stages\n",
      "0          Frodo    3.500000\n",
      "1        Gandalf    2.714286\n",
      "2       Hermione    3.625000\n",
      "3        Legolas    3.000000\n",
      "4          Bilbo    3.000000\n",
      "5      Galadriel    2.000000\n",
      "6     Dumbledore    3.285714\n",
      "7          Gimli    2.875000\n",
      "8          Harry    3.000000\n",
      "9        Aragorn    3.500000 \n",
      "\n",
      "Step 3: Character with the Highest Average Quest Duration\n",
      "character_name    Harry\n",
      "avg_duration       69.8\n",
      "Name: 8, dtype: object \n",
      "\n",
      "Step 4: Most Common Quest Type for Each Character\n",
      "  character_name most_common_quest_type\n",
      "0          Frodo         Rescue Mission\n",
      "1        Gandalf          Potion Making\n",
      "2       Hermione         Dragon Slaying\n",
      "3        Legolas          Spell Casting\n",
      "4          Bilbo         Rescue Mission\n",
      "5      Galadriel          Treasure Hunt\n",
      "6     Dumbledore          Treasure Hunt\n",
      "7          Gimli          Potion Making\n",
      "8          Harry         Dragon Slaying\n",
      "9        Aragorn          Spell Casting \n",
      "\n",
      "Step 5: Character with the Most Diverse Quest Portfolio\n",
      "character_name            Frodo\n",
      "num_unique_quest_types        5\n",
      "Name: 0, dtype: object \n",
      "\n"
     ]
    }
   ],
   "source": [
    "import json\n",
    "\n",
    "# Helper function to extract quests from JSON\n",
    "def extract_quests(row):\n",
    "    return pd.DataFrame(json.loads(row['quests']))\n",
    "\n",
    "# Step 1: Count the total number of quests each character has completed\n",
    "magical_quests['num_quests'] = magical_quests['quests'].apply(lambda x: len(json.loads(x)))\n",
    "print(\"Step 1: Total Number of Quests Each Character Has Completed\")\n",
    "print(magical_quests[['character_name', 'num_quests']], \"\\n\")\n",
    "\n",
    "# Step 2: Calculate the average number of stages per quest for each character\n",
    "magical_quests['avg_stages'] = magical_quests['quests'].apply(lambda x: pd.DataFrame(json.loads(x))['stages'].mean())\n",
    "print(\"Step 2: Average Number of Stages per Quest for Each Character\")\n",
    "print(magical_quests[['character_name', 'avg_stages']], \"\\n\")\n",
    "\n",
    "# Step 3: Identify the character with the highest average quest duration\n",
    "magical_quests['avg_duration'] = magical_quests['quests'].apply(lambda x: pd.DataFrame(json.loads(x))['duration'].mean())\n",
    "character_highest_avg_duration = magical_quests.loc[magical_quests['avg_duration'].idxmax()]\n",
    "print(\"Step 3: Character with the Highest Average Quest Duration\")\n",
    "print(character_highest_avg_duration[['character_name', 'avg_duration']], \"\\n\")\n",
    "\n",
    "# Step 4: Determine the most common quest type for each character\n",
    "def most_common_quest_type(quests_json):\n",
    "    quests_df = pd.DataFrame(json.loads(quests_json))\n",
    "    return quests_df['quest_type'].mode().iloc[0]\n",
    "\n",
    "magical_quests['most_common_quest_type'] = magical_quests['quests'].apply(most_common_quest_type)\n",
    "print(\"Step 4: Most Common Quest Type for Each Character\")\n",
    "print(magical_quests[['character_name', 'most_common_quest_type']], \"\\n\")\n",
    "\n",
    "# Step 5: Find the character with the most diverse quest portfolio (i.e., highest number of unique quest types)\n",
    "def unique_quest_types(quests_json):\n",
    "    quests_df = pd.DataFrame(json.loads(quests_json))\n",
    "    return quests_df['quest_type'].nunique()\n",
    "\n",
    "magical_quests['num_unique_quest_types'] = magical_quests['quests'].apply(unique_quest_types)\n",
    "character_most_diverse_quest_portfolio = magical_quests.loc[magical_quests['num_unique_quest_types'].idxmax()]\n",
    "print(\"Step 5: Character with the Most Diverse Quest Portfolio\")\n",
    "print(character_most_diverse_quest_portfolio[['character_name', 'num_unique_quest_types']], \"\\n\")\n"
   ]
  },
  {
   "cell_type": "markdown",
   "id": "3230080a",
   "metadata": {
    "papermill": {
     "duration": 0.023069,
     "end_time": "2024-12-21T16:23:16.950738",
     "exception": false,
     "start_time": "2024-12-21T16:23:16.927669",
     "status": "completed"
    },
    "tags": []
   },
   "source": [
    "# Q13 - Geo Pandas Adventure\n",
    "<a id=\"q13\"></a>\n",
    "\n",
    "**Question:**\n",
    "Welcome to Geo Pandas Adventure! You are given a dataset of magical locations and the whimsical creatures that inhabit them. Each location has different environmental properties and magical attributes. Your task is to analyze this geographical data to answer the following questions:\n",
    "1. Count the total number of unique creatures in each location.\n",
    "2. Calculate the average magical energy level for each location.\n",
    "3. Identify the location with the highest diversity of creature types.\n",
    "4. Determine the most common magical attribute in each location.\n",
    "5. Find the top 3 locations with the highest average environmental scores.\n",
    "\n",
    "**Datasets:**\n",
    "- `magical_locations`: Contains columns (location_id, location_name, creatures, magical_attributes, environmental_score), where `creatures` is a list of dictionaries with keys (creature_id, creature_name, creature_type, magical_energy).\n"
   ]
  },
  {
   "cell_type": "code",
   "execution_count": 35,
   "id": "4c0face1",
   "metadata": {
    "execution": {
     "iopub.execute_input": "2024-12-21T16:23:16.999672Z",
     "iopub.status.busy": "2024-12-21T16:23:16.999307Z",
     "iopub.status.idle": "2024-12-21T16:23:17.018597Z",
     "shell.execute_reply": "2024-12-21T16:23:17.017224Z"
    },
    "papermill": {
     "duration": 0.047554,
     "end_time": "2024-12-21T16:23:17.021414",
     "exception": false,
     "start_time": "2024-12-21T16:23:16.973860",
     "status": "completed"
    },
    "tags": []
   },
   "outputs": [
    {
     "name": "stdout",
     "output_type": "stream",
     "text": [
      "Magical Locations DataFrame:\n",
      "   location_id     location_name  \\\n",
      "0            1   Mystic Mountain   \n",
      "1            2  Enchanted Forest   \n",
      "2            3       Faerie Glen   \n",
      "3            4     Dragon’s Lair   \n",
      "4            5    Unicorn Meadow   \n",
      "\n",
      "                                           creatures  \\\n",
      "0  [{\"creature_id\": 16, \"creature_name\": \"Griff\",...   \n",
      "1  [{\"creature_id\": 764, \"creature_name\": \"Griff\"...   \n",
      "2  [{\"creature_id\": 172, \"creature_name\": \"Ariel\"...   \n",
      "3  [{\"creature_id\": 514, \"creature_name\": \"Ariel\"...   \n",
      "4  [{\"creature_id\": 658, \"creature_name\": \"Griff\"...   \n",
      "\n",
      "                                  magical_attributes  environmental_score  \n",
      "0                                  [Enchanted Trees]                   78  \n",
      "1                 [Floating Islands, Glowing Stones]                   96  \n",
      "2                                    [Mystic Waters]                   82  \n",
      "3  [Whispering Winds, Enchanted Trees, Mystic Wat...                   61  \n",
      "4                                  [Enchanted Trees]                   86  \n"
     ]
    }
   ],
   "source": [
    "import pandas as pd\n",
    "import numpy as np\n",
    "import json\n",
    "\n",
    "# Seed for reproducibility\n",
    "np.random.seed(909)\n",
    "\n",
    "# Generate synthetic data\n",
    "location_ids = np.arange(1, 6)\n",
    "location_names = ['Mystic Mountain', 'Enchanted Forest', 'Faerie Glen', 'Dragon’s Lair', 'Unicorn Meadow']\n",
    "creature_types = ['Dragon', 'Unicorn', 'Phoenix', 'Griffin', 'Mermaid']\n",
    "creature_names = ['Draco', 'Sparkle', 'Flare', 'Griff', 'Ariel']\n",
    "magical_attributes_options = ['Glowing Stones', 'Whispering Winds', 'Mystic Waters', 'Enchanted Trees', 'Floating Islands']\n",
    "environmental_scores = np.random.randint(50, 101, size=len(location_ids))\n",
    "\n",
    "data = []\n",
    "for location_id, location_name in zip(location_ids, location_names):\n",
    "    num_creatures = np.random.randint(5, 11)\n",
    "    creatures = []\n",
    "    for _ in range(num_creatures):\n",
    "        creature_id = int(np.random.randint(1, 1001))\n",
    "        creature_type = np.random.choice(creature_types)\n",
    "        creature_name = np.random.choice(creature_names)\n",
    "        magical_energy = int(np.random.randint(50, 501))\n",
    "        creatures.append({\n",
    "            'creature_id': creature_id,\n",
    "            'creature_name': creature_name,\n",
    "            'creature_type': creature_type,\n",
    "            'magical_energy': magical_energy\n",
    "        })\n",
    "    magical_attributes = np.random.choice(magical_attributes_options, np.random.randint(1, 4), replace=False).tolist()\n",
    "    data.append([location_id, location_name, json.dumps(creatures), magical_attributes, environmental_scores[location_id-1]])\n",
    "\n",
    "# Create DataFrame\n",
    "magical_locations = pd.DataFrame(data, columns=['location_id', 'location_name', 'creatures', 'magical_attributes', 'environmental_score'])\n",
    "\n",
    "# Display the dataset\n",
    "print(\"Magical Locations DataFrame:\")\n",
    "print(magical_locations.head())\n"
   ]
  },
  {
   "cell_type": "markdown",
   "id": "a154fa7b",
   "metadata": {
    "papermill": {
     "duration": 0.022912,
     "end_time": "2024-12-21T16:23:17.067085",
     "exception": false,
     "start_time": "2024-12-21T16:23:17.044173",
     "status": "completed"
    },
    "tags": []
   },
   "source": [
    "## Solution Explanation\n",
    "\n",
    "The steps to solve this problem are:\n",
    "1. Count the total number of unique creatures in each location.\n",
    "2. Calculate the average magical energy level for each location.\n",
    "3. Identify the location with the highest diversity of creature types.\n",
    "4. Determine the most common magical attribute in each location.\n",
    "5. Find the top 3 locations with the highest average environmental scores.\n",
    "\n",
    "Let's implement these steps in the following code.\n"
   ]
  },
  {
   "cell_type": "code",
   "execution_count": 36,
   "id": "a042cf91",
   "metadata": {
    "execution": {
     "iopub.execute_input": "2024-12-21T16:23:17.116166Z",
     "iopub.status.busy": "2024-12-21T16:23:17.115795Z",
     "iopub.status.idle": "2024-12-21T16:23:17.148322Z",
     "shell.execute_reply": "2024-12-21T16:23:17.147099Z"
    },
    "papermill": {
     "duration": 0.059617,
     "end_time": "2024-12-21T16:23:17.150589",
     "exception": false,
     "start_time": "2024-12-21T16:23:17.090972",
     "status": "completed"
    },
    "tags": []
   },
   "outputs": [
    {
     "name": "stdout",
     "output_type": "stream",
     "text": [
      "Step 1: Total Number of Unique Creatures in Each Location\n",
      "      location_name  num_unique_creatures\n",
      "0   Mystic Mountain                     5\n",
      "1  Enchanted Forest                     8\n",
      "2       Faerie Glen                     8\n",
      "3     Dragon’s Lair                     6\n",
      "4    Unicorn Meadow                    10 \n",
      "\n",
      "Step 2: Average Magical Energy Level for Each Location\n",
      "      location_name  avg_magical_energy\n",
      "0   Mystic Mountain               284.0\n",
      "1  Enchanted Forest               239.5\n",
      "2       Faerie Glen               271.0\n",
      "3     Dragon’s Lair               135.5\n",
      "4    Unicorn Meadow               235.3 \n",
      "\n",
      "Step 3: Location with the Highest Diversity of Creature Types\n",
      "location_name         Unicorn Meadow\n",
      "creature_diversity                 5\n",
      "Name: 4, dtype: object \n",
      "\n",
      "Step 4: Most Common Magical Attribute in Each Location\n",
      "      location_name most_common_attribute\n",
      "0   Mystic Mountain       Enchanted Trees\n",
      "1  Enchanted Forest      Floating Islands\n",
      "2       Faerie Glen         Mystic Waters\n",
      "3     Dragon’s Lair       Enchanted Trees\n",
      "4    Unicorn Meadow       Enchanted Trees \n",
      "\n",
      "Step 5: Top 3 Locations with the Highest Average Environmental Scores\n",
      "      location_name  environmental_score\n",
      "1  Enchanted Forest                   96\n",
      "4    Unicorn Meadow                   86\n",
      "2       Faerie Glen                   82 \n",
      "\n"
     ]
    }
   ],
   "source": [
    "import json\n",
    "\n",
    "# Helper function to extract creatures from JSON\n",
    "def extract_creatures(row):\n",
    "    return pd.DataFrame(json.loads(row['creatures']))\n",
    "\n",
    "# Step 1: Count the total number of unique creatures in each location\n",
    "magical_locations['num_unique_creatures'] = magical_locations['creatures'].apply(lambda x: len(json.loads(x)))\n",
    "print(\"Step 1: Total Number of Unique Creatures in Each Location\")\n",
    "print(magical_locations[['location_name', 'num_unique_creatures']], \"\\n\")\n",
    "\n",
    "# Step 2: Calculate the average magical energy level for each location\n",
    "magical_locations['avg_magical_energy'] = magical_locations['creatures'].apply(lambda x: pd.DataFrame(json.loads(x))['magical_energy'].mean())\n",
    "print(\"Step 2: Average Magical Energy Level for Each Location\")\n",
    "print(magical_locations[['location_name', 'avg_magical_energy']], \"\\n\")\n",
    "\n",
    "# Step 3: Identify the location with the highest diversity of creature types\n",
    "def creature_diversity(creatures_json):\n",
    "    creatures_df = pd.DataFrame(json.loads(creatures_json))\n",
    "    return creatures_df['creature_type'].nunique()\n",
    "\n",
    "magical_locations['creature_diversity'] = magical_locations['creatures'].apply(creature_diversity)\n",
    "location_highest_diversity = magical_locations.loc[magical_locations['creature_diversity'].idxmax()]\n",
    "print(\"Step 3: Location with the Highest Diversity of Creature Types\")\n",
    "print(location_highest_diversity[['location_name', 'creature_diversity']], \"\\n\")\n",
    "\n",
    "# Step 4: Determine the most common magical attribute in each location\n",
    "def most_common_attribute(attributes_list):\n",
    "    return pd.Series(attributes_list).mode().iloc[0]\n",
    "\n",
    "magical_locations['most_common_attribute'] = magical_locations['magical_attributes'].apply(most_common_attribute)\n",
    "print(\"Step 4: Most Common Magical Attribute in Each Location\")\n",
    "print(magical_locations[['location_name', 'most_common_attribute']], \"\\n\")\n",
    "\n",
    "# Step 5: Find the top 3 locations with the highest average environmental scores\n",
    "top_3_locations = magical_locations.nlargest(3, 'environmental_score')\n",
    "print(\"Step 5: Top 3 Locations with the Highest Average Environmental Scores\")\n",
    "print(top_3_locations[['location_name', 'environmental_score']], \"\\n\")\n"
   ]
  },
  {
   "cell_type": "markdown",
   "id": "e607d208",
   "metadata": {
    "papermill": {
     "duration": 0.023312,
     "end_time": "2024-12-21T16:23:17.197037",
     "exception": false,
     "start_time": "2024-12-21T16:23:17.173725",
     "status": "completed"
    },
    "tags": []
   },
   "source": [
    "# Q14 - Network Nexus Analysis\n",
    "<a id=\"q14\"></a>\n",
    "\n",
    "**Question:**\n",
    "Welcome to the Network Nexus Analysis! You are given a dataset of magical creatures and their social networks. Each creature has connections to other creatures, and each connection has a strength value indicating the closeness of their relationship. Your task is to analyze these social networks to answer the following questions:\n",
    "1. Count the total number of connections each creature has.\n",
    "2. Calculate the average connection strength for each creature.\n",
    "3. Identify the creature with the highest average connection strength.\n",
    "4. Determine the most connected creature (i.e., the creature with the most connections).\n",
    "5. Find the top 3 creatures with the strongest total connection strength.\n",
    "\n",
    "**Datasets:**\n",
    "- `social_networks`: Contains columns (creature_id, creature_name, connections), where `connections` is a list of dictionaries with keys (connected_creature_id, connection_strength).\n"
   ]
  },
  {
   "cell_type": "code",
   "execution_count": 37,
   "id": "5a45d3a4",
   "metadata": {
    "execution": {
     "iopub.execute_input": "2024-12-21T16:23:17.244963Z",
     "iopub.status.busy": "2024-12-21T16:23:17.244608Z",
     "iopub.status.idle": "2024-12-21T16:23:17.259384Z",
     "shell.execute_reply": "2024-12-21T16:23:17.258073Z"
    },
    "papermill": {
     "duration": 0.041502,
     "end_time": "2024-12-21T16:23:17.261964",
     "exception": false,
     "start_time": "2024-12-21T16:23:17.220462",
     "status": "completed"
    },
    "tags": []
   },
   "outputs": [
    {
     "name": "stdout",
     "output_type": "stream",
     "text": [
      "Social Networks DataFrame:\n",
      "   creature_id creature_name  \\\n",
      "0            1         Frodo   \n",
      "1            2       Gandalf   \n",
      "2            3      Hermione   \n",
      "3            4       Legolas   \n",
      "4            5         Bilbo   \n",
      "\n",
      "                                         connections  \n",
      "0  [{\"connected_creature_id\": 3, \"connection_stre...  \n",
      "1  [{\"connected_creature_id\": 6, \"connection_stre...  \n",
      "2  [{\"connected_creature_id\": 7, \"connection_stre...  \n",
      "3  [{\"connected_creature_id\": 1, \"connection_stre...  \n",
      "4  [{\"connected_creature_id\": 3, \"connection_stre...  \n"
     ]
    }
   ],
   "source": [
    "import pandas as pd\n",
    "import numpy as np\n",
    "import json\n",
    "\n",
    "# Seed for reproducibility\n",
    "np.random.seed(1010)\n",
    "\n",
    "# Generate synthetic data\n",
    "creature_ids = np.arange(1, 11)\n",
    "creature_names = ['Frodo', 'Gandalf', 'Hermione', 'Legolas', 'Bilbo', 'Galadriel', 'Dumbledore', 'Gimli', 'Harry', 'Aragorn']\n",
    "connection_strengths = np.arange(1, 11)\n",
    "\n",
    "data = []\n",
    "for creature_id, creature_name in zip(creature_ids, creature_names):\n",
    "    num_connections = np.random.randint(3, 7)\n",
    "    connections = []\n",
    "    connected_creatures = np.random.choice(creature_ids[creature_ids != creature_id], num_connections, replace=False)\n",
    "    for connected_creature_id in connected_creatures:\n",
    "        connection_strength = np.random.choice(connection_strengths)\n",
    "        connections.append({\n",
    "            'connected_creature_id': int(connected_creature_id),\n",
    "            'connection_strength': int(connection_strength)\n",
    "        })\n",
    "    data.append([creature_id, creature_name, json.dumps(connections)])\n",
    "\n",
    "# Create DataFrame\n",
    "social_networks = pd.DataFrame(data, columns=['creature_id', 'creature_name', 'connections'])\n",
    "\n",
    "# Display the dataset\n",
    "print(\"Social Networks DataFrame:\")\n",
    "print(social_networks.head())\n"
   ]
  },
  {
   "cell_type": "markdown",
   "id": "5f772945",
   "metadata": {
    "papermill": {
     "duration": 0.022899,
     "end_time": "2024-12-21T16:23:17.307774",
     "exception": false,
     "start_time": "2024-12-21T16:23:17.284875",
     "status": "completed"
    },
    "tags": []
   },
   "source": [
    "## Solution Explanation\n",
    "\n",
    "The steps to solve this problem are:\n",
    "1. Count the total number of connections each creature has.\n",
    "2. Calculate the average connection strength for each creature.\n",
    "3. Identify the creature with the highest average connection strength.\n",
    "4. Determine the most connected creature (i.e., the creature with the most connections).\n",
    "5. Find the top 3 creatures with the strongest total connection strength.\n",
    "\n",
    "Let's implement these steps in the following code.\n"
   ]
  },
  {
   "cell_type": "code",
   "execution_count": 38,
   "id": "b808b6d5",
   "metadata": {
    "execution": {
     "iopub.execute_input": "2024-12-21T16:23:17.355716Z",
     "iopub.status.busy": "2024-12-21T16:23:17.355145Z",
     "iopub.status.idle": "2024-12-21T16:23:17.385441Z",
     "shell.execute_reply": "2024-12-21T16:23:17.384215Z"
    },
    "papermill": {
     "duration": 0.056923,
     "end_time": "2024-12-21T16:23:17.387869",
     "exception": false,
     "start_time": "2024-12-21T16:23:17.330946",
     "status": "completed"
    },
    "tags": []
   },
   "outputs": [
    {
     "name": "stdout",
     "output_type": "stream",
     "text": [
      "Step 1: Total Number of Connections Each Creature Has\n",
      "  creature_name  num_connections\n",
      "0         Frodo                3\n",
      "1       Gandalf                3\n",
      "2      Hermione                5\n",
      "3       Legolas                4\n",
      "4         Bilbo                6\n",
      "5     Galadriel                4\n",
      "6    Dumbledore                6\n",
      "7         Gimli                4\n",
      "8         Harry                4\n",
      "9       Aragorn                4 \n",
      "\n",
      "Step 2: Average Connection Strength for Each Creature\n",
      "  creature_name  avg_connection_strength\n",
      "0         Frodo                 3.666667\n",
      "1       Gandalf                 3.000000\n",
      "2      Hermione                 5.800000\n",
      "3       Legolas                 3.500000\n",
      "4         Bilbo                 5.000000\n",
      "5     Galadriel                 5.250000\n",
      "6    Dumbledore                 6.166667\n",
      "7         Gimli                 5.250000\n",
      "8         Harry                 4.750000\n",
      "9       Aragorn                 7.250000 \n",
      "\n",
      "Step 3: Creature with the Highest Average Connection Strength\n",
      "creature_name              Aragorn\n",
      "avg_connection_strength       7.25\n",
      "Name: 9, dtype: object \n",
      "\n",
      "Step 4: Most Connected Creature\n",
      "creature_name      Bilbo\n",
      "num_connections        6\n",
      "Name: 4, dtype: object \n",
      "\n",
      "Step 5: Top 3 Creatures with the Strongest Total Connection Strength\n",
      "  creature_name  total_connection_strength\n",
      "6    Dumbledore                         37\n",
      "4         Bilbo                         30\n",
      "2      Hermione                         29 \n",
      "\n"
     ]
    }
   ],
   "source": [
    "import json\n",
    "\n",
    "# Helper function to extract connections from JSON\n",
    "def extract_connections(row):\n",
    "    return pd.DataFrame(json.loads(row['connections']))\n",
    "\n",
    "# Step 1: Count the total number of connections each creature has\n",
    "social_networks['num_connections'] = social_networks['connections'].apply(lambda x: len(json.loads(x)))\n",
    "print(\"Step 1: Total Number of Connections Each Creature Has\")\n",
    "print(social_networks[['creature_name', 'num_connections']], \"\\n\")\n",
    "\n",
    "# Step 2: Calculate the average connection strength for each creature\n",
    "social_networks['avg_connection_strength'] = social_networks['connections'].apply(lambda x: pd.DataFrame(json.loads(x))['connection_strength'].mean())\n",
    "print(\"Step 2: Average Connection Strength for Each Creature\")\n",
    "print(social_networks[['creature_name', 'avg_connection_strength']], \"\\n\")\n",
    "\n",
    "# Step 3: Identify the creature with the highest average connection strength\n",
    "creature_highest_avg_strength = social_networks.loc[social_networks['avg_connection_strength'].idxmax()]\n",
    "print(\"Step 3: Creature with the Highest Average Connection Strength\")\n",
    "print(creature_highest_avg_strength[['creature_name', 'avg_connection_strength']], \"\\n\")\n",
    "\n",
    "# Step 4: Determine the most connected creature (i.e., the creature with the most connections)\n",
    "creature_most_connections = social_networks.loc[social_networks['num_connections'].idxmax()]\n",
    "print(\"Step 4: Most Connected Creature\")\n",
    "print(creature_most_connections[['creature_name', 'num_connections']], \"\\n\")\n",
    "\n",
    "# Step 5: Find the top 3 creatures with the strongest total connection strength\n",
    "social_networks['total_connection_strength'] = social_networks['connections'].apply(lambda x: pd.DataFrame(json.loads(x))['connection_strength'].sum())\n",
    "top_3_creatures = social_networks.nlargest(3, 'total_connection_strength')\n",
    "print(\"Step 5: Top 3 Creatures with the Strongest Total Connection Strength\")\n",
    "print(top_3_creatures[['creature_name', 'total_connection_strength']], \"\\n\")\n"
   ]
  },
  {
   "cell_type": "markdown",
   "id": "68ed0252",
   "metadata": {
    "papermill": {
     "duration": 0.022889,
     "end_time": "2024-12-21T16:23:17.433521",
     "exception": false,
     "start_time": "2024-12-21T16:23:17.410632",
     "status": "completed"
    },
    "tags": []
   },
   "source": [
    "# Q15 - High Dimensional Hide and Seek\n",
    "<a id=\"q15\"></a>\n",
    "\n",
    "**Question:**\n",
    "Welcome to High Dimensional Hide and Seek! You are given a dataset of magical artifacts and their multidimensional properties. Each artifact has several attributes across different dimensions. Your task is to analyze these high-dimensional data to answer the following questions:\n",
    "1. Count the total number of artifacts in each category.\n",
    "2. Calculate the average value of each attribute for each category.\n",
    "3. Identify the category with the highest average \"magic intensity\" attribute.\n",
    "4. Determine the artifact with the highest combined value of all attributes.\n",
    "5. Find the top 3 categories with the highest variance in \"enchantment\" attribute.\n",
    "\n",
    "**Datasets:**\n",
    "- `magical_artifacts`: Contains columns (artifact_id, category, attributes), where `attributes` is a dictionary with keys (magic_intensity, power_level, durability, enchantment, rarity).\n",
    "\n"
   ]
  },
  {
   "cell_type": "code",
   "execution_count": 39,
   "id": "e0504f2a",
   "metadata": {
    "execution": {
     "iopub.execute_input": "2024-12-21T16:23:17.480886Z",
     "iopub.status.busy": "2024-12-21T16:23:17.480519Z",
     "iopub.status.idle": "2024-12-21T16:23:17.494069Z",
     "shell.execute_reply": "2024-12-21T16:23:17.492968Z"
    },
    "papermill": {
     "duration": 0.040136,
     "end_time": "2024-12-21T16:23:17.496555",
     "exception": false,
     "start_time": "2024-12-21T16:23:17.456419",
     "status": "completed"
    },
    "tags": []
   },
   "outputs": [
    {
     "name": "stdout",
     "output_type": "stream",
     "text": [
      "Magical Artifacts DataFrame:\n",
      "   artifact_id category                                         attributes\n",
      "0            1    Rings  {\"magic_intensity\": 56, \"power_level\": 82, \"du...\n",
      "1            2    Wands  {\"magic_intensity\": 23, \"power_level\": 21, \"du...\n",
      "2            3    Rings  {\"magic_intensity\": 87, \"power_level\": 9, \"dur...\n",
      "3            4  Amulets  {\"magic_intensity\": 77, \"power_level\": 95, \"du...\n",
      "4            5    Wands  {\"magic_intensity\": 10, \"power_level\": 10, \"du...\n"
     ]
    }
   ],
   "source": [
    "import pandas as pd\n",
    "import numpy as np\n",
    "import json\n",
    "\n",
    "# Seed for reproducibility\n",
    "np.random.seed(1111)\n",
    "\n",
    "# Generate synthetic data\n",
    "artifact_ids = np.arange(1, 21)\n",
    "categories = ['Wands', 'Potions', 'Amulets', 'Scrolls', 'Rings']\n",
    "attributes_keys = ['magic_intensity', 'power_level', 'durability', 'enchantment', 'rarity']\n",
    "\n",
    "data = []\n",
    "for artifact_id in artifact_ids:\n",
    "    category = np.random.choice(categories)\n",
    "    attributes = {\n",
    "        'magic_intensity': np.random.randint(1, 101),\n",
    "        'power_level': np.random.randint(1, 101),\n",
    "        'durability': np.random.randint(1, 101),\n",
    "        'enchantment': np.random.randint(1, 101),\n",
    "        'rarity': np.random.randint(1, 101)\n",
    "    }\n",
    "    data.append([artifact_id, category, json.dumps(attributes)])\n",
    "\n",
    "# Create DataFrame\n",
    "magical_artifacts = pd.DataFrame(data, columns=['artifact_id', 'category', 'attributes'])\n",
    "\n",
    "# Display the dataset\n",
    "print(\"Magical Artifacts DataFrame:\")\n",
    "print(magical_artifacts.head())\n"
   ]
  },
  {
   "cell_type": "markdown",
   "id": "6d663564",
   "metadata": {
    "papermill": {
     "duration": 0.023558,
     "end_time": "2024-12-21T16:23:17.544342",
     "exception": false,
     "start_time": "2024-12-21T16:23:17.520784",
     "status": "completed"
    },
    "tags": []
   },
   "source": [
    "## Solution Explanation\n",
    "\n",
    "The steps to solve this problem are:\n",
    "1. Count the total number of artifacts in each category.\n",
    "2. Calculate the average value of each attribute for each category.\n",
    "3. Identify the category with the highest average \"magic intensity\" attribute.\n",
    "4. Determine the artifact with the highest combined value of all attributes.\n",
    "5. Find the top 3 categories with the highest variance in \"enchantment\" attribute.\n",
    "\n",
    "Let's implement these steps in the following code.\n"
   ]
  },
  {
   "cell_type": "code",
   "execution_count": 40,
   "id": "244cd4f6",
   "metadata": {
    "execution": {
     "iopub.execute_input": "2024-12-21T16:23:17.592482Z",
     "iopub.status.busy": "2024-12-21T16:23:17.592113Z",
     "iopub.status.idle": "2024-12-21T16:23:17.627279Z",
     "shell.execute_reply": "2024-12-21T16:23:17.626046Z"
    },
    "papermill": {
     "duration": 0.06194,
     "end_time": "2024-12-21T16:23:17.629612",
     "exception": false,
     "start_time": "2024-12-21T16:23:17.567672",
     "status": "completed"
    },
    "tags": []
   },
   "outputs": [
    {
     "name": "stdout",
     "output_type": "stream",
     "text": [
      "Step 1: Total Number of Artifacts in Each Category\n",
      "  category  artifact_count\n",
      "0    Rings               5\n",
      "1  Scrolls               5\n",
      "2  Potions               4\n",
      "3    Wands               3\n",
      "4  Amulets               3 \n",
      "\n",
      "Step 2: Average Value of Each Attribute for Each Category\n",
      "  category  magic_intensity  power_level  durability  enchantment     rarity\n",
      "0  Amulets        66.000000         72.0   33.000000    48.333333  46.333333\n",
      "1  Potions        63.000000         51.0   62.000000    33.000000  34.750000\n",
      "2    Rings        50.400000         63.0   23.600000    58.400000  59.200000\n",
      "3  Scrolls        34.400000         36.4   74.200000    51.200000  57.800000\n",
      "4    Wands        33.666667         32.0   34.333333    30.666667  33.333333 \n",
      "\n",
      "Step 3: Category with the Highest Average Magic Intensity\n",
      "category             Amulets\n",
      "magic_intensity         66.0\n",
      "power_level             72.0\n",
      "durability              33.0\n",
      "enchantment        48.333333\n",
      "rarity             46.333333\n",
      "Name: 0, dtype: object \n",
      "\n",
      "Step 4: Artifact with the Highest Combined Value of All Attributes\n",
      "artifact_id                   8\n",
      "category                  Rings\n",
      "total_attributes_value      371\n",
      "Name: 7, dtype: object \n",
      "\n",
      "Step 5: Top 3 Categories with the Highest Variance in Enchantment\n",
      "  category  enchantment\n",
      "3  Scrolls       1989.2\n",
      "1  Potions       1082.0\n",
      "2    Rings        777.3 \n",
      "\n"
     ]
    }
   ],
   "source": [
    "import json\n",
    "\n",
    "# Helper function to extract attributes from JSON\n",
    "def extract_attributes(row):\n",
    "    return pd.Series(json.loads(row['attributes']))\n",
    "\n",
    "# Step 1: Count the total number of artifacts in each category\n",
    "artifact_count_per_category = magical_artifacts['category'].value_counts().reset_index()\n",
    "artifact_count_per_category.columns = ['category', 'artifact_count']\n",
    "print(\"Step 1: Total Number of Artifacts in Each Category\")\n",
    "print(artifact_count_per_category, \"\\n\")\n",
    "\n",
    "# Extract attributes into separate columns\n",
    "attributes_df = magical_artifacts['attributes'].apply(lambda x: pd.Series(json.loads(x)))\n",
    "magical_artifacts = pd.concat([magical_artifacts.drop(columns=['attributes']), attributes_df], axis=1)\n",
    "\n",
    "# Step 2: Calculate the average value of each attribute for each category\n",
    "avg_attributes_per_category = magical_artifacts.groupby('category')[attributes_keys].mean().reset_index()\n",
    "print(\"Step 2: Average Value of Each Attribute for Each Category\")\n",
    "print(avg_attributes_per_category, \"\\n\")\n",
    "\n",
    "# Step 3: Identify the category with the highest average \"magic intensity\" attribute\n",
    "category_highest_avg_magic_intensity = avg_attributes_per_category.loc[avg_attributes_per_category['magic_intensity'].idxmax()]\n",
    "print(\"Step 3: Category with the Highest Average Magic Intensity\")\n",
    "print(category_highest_avg_magic_intensity, \"\\n\")\n",
    "\n",
    "# Step 4: Determine the artifact with the highest combined value of all attributes\n",
    "magical_artifacts['total_attributes_value'] = magical_artifacts[attributes_keys].sum(axis=1)\n",
    "artifact_highest_total_value = magical_artifacts.loc[magical_artifacts['total_attributes_value'].idxmax()]\n",
    "print(\"Step 4: Artifact with the Highest Combined Value of All Attributes\")\n",
    "print(artifact_highest_total_value[['artifact_id', 'category', 'total_attributes_value']], \"\\n\")\n",
    "\n",
    "# Step 5: Find the top 3 categories with the highest variance in \"enchantment\" attribute\n",
    "variance_enchantment_per_category = magical_artifacts.groupby('category')['enchantment'].var().reset_index()\n",
    "top_3_categories_highest_variance_enchantment = variance_enchantment_per_category.nlargest(3, 'enchantment')\n",
    "print(\"Step 5: Top 3 Categories with the Highest Variance in Enchantment\")\n",
    "print(top_3_categories_highest_variance_enchantment, \"\\n\")\n"
   ]
  },
  {
   "cell_type": "markdown",
   "id": "1ef67d9b",
   "metadata": {
    "papermill": {
     "duration": 0.023149,
     "end_time": "2024-12-21T16:23:17.676529",
     "exception": false,
     "start_time": "2024-12-21T16:23:17.653380",
     "status": "completed"
    },
    "tags": []
   },
   "source": [
    "# Q16 - Real-time Data Rush\n",
    "<a id=\"q16\"></a>\n",
    "\n",
    "**Question:**\n",
    "Welcome to Real-time Data Rush! You are given a dataset of magical creatures and their real-time activities. Each creature performs various activities with different durations throughout the day. Your task is to analyze this time-based data to answer the following questions:\n",
    "1. Calculate the total duration of activities for each creature.\n",
    "2. Determine the creature with the longest single activity duration.\n",
    "3. Identify the most common activity performed by each creature.\n",
    "4. Calculate the average activity duration for each type of activity across all creatures.\n",
    "5. Find the top 3 creatures with the highest average activity duration.\n",
    "\n",
    "**Datasets:**\n",
    "- `creature_activities`: Contains columns (creature_id, creature_name, activity, duration), where `activity` is the type of activity and `duration` is the time spent on that activity in minutes.\n",
    "\n"
   ]
  },
  {
   "cell_type": "code",
   "execution_count": 41,
   "id": "af458a85",
   "metadata": {
    "execution": {
     "iopub.execute_input": "2024-12-21T16:23:17.725739Z",
     "iopub.status.busy": "2024-12-21T16:23:17.725341Z",
     "iopub.status.idle": "2024-12-21T16:23:17.741544Z",
     "shell.execute_reply": "2024-12-21T16:23:17.740330Z"
    },
    "papermill": {
     "duration": 0.043313,
     "end_time": "2024-12-21T16:23:17.743722",
     "exception": false,
     "start_time": "2024-12-21T16:23:17.700409",
     "status": "completed"
    },
    "tags": []
   },
   "outputs": [
    {
     "name": "stdout",
     "output_type": "stream",
     "text": [
      "Creature Activities DataFrame:\n",
      "   creature_id creature_name          activity  duration\n",
      "0            1         Frodo     Spell Casting        55\n",
      "1            1         Frodo     Spell Casting        81\n",
      "2            1         Frodo     Potion Making        34\n",
      "3            1         Frodo    Herb Gathering        83\n",
      "4            1         Frodo  Treasure Hunting        40\n"
     ]
    }
   ],
   "source": [
    "import pandas as pd\n",
    "import numpy as np\n",
    "\n",
    "# Seed for reproducibility\n",
    "np.random.seed(1212)\n",
    "\n",
    "# Generate synthetic data\n",
    "creature_ids = np.arange(1, 11)\n",
    "creature_names = ['Frodo', 'Gandalf', 'Hermione', 'Legolas', 'Bilbo', 'Galadriel', 'Dumbledore', 'Gimli', 'Harry', 'Aragorn']\n",
    "activities = ['Flying', 'Potion Making', 'Spell Casting', 'Herb Gathering', 'Treasure Hunting']\n",
    "durations = np.arange(1, 121)  # Durations from 1 to 120 minutes\n",
    "\n",
    "data = []\n",
    "for creature_id, creature_name in zip(creature_ids, creature_names):\n",
    "    num_activities = np.random.randint(5, 15)\n",
    "    for _ in range(num_activities):\n",
    "        activity = np.random.choice(activities)\n",
    "        duration = np.random.choice(durations)\n",
    "        data.append([creature_id, creature_name, activity, duration])\n",
    "\n",
    "# Create DataFrame\n",
    "creature_activities = pd.DataFrame(data, columns=['creature_id', 'creature_name', 'activity', 'duration'])\n",
    "\n",
    "# Display the dataset\n",
    "print(\"Creature Activities DataFrame:\")\n",
    "print(creature_activities.head())\n"
   ]
  },
  {
   "cell_type": "markdown",
   "id": "ba80d58d",
   "metadata": {
    "papermill": {
     "duration": 0.023078,
     "end_time": "2024-12-21T16:23:17.790316",
     "exception": false,
     "start_time": "2024-12-21T16:23:17.767238",
     "status": "completed"
    },
    "tags": []
   },
   "source": [
    "## Solution Explanation\n",
    "\n",
    "The steps to solve this problem are:\n",
    "1. Calculate the total duration of activities for each creature.\n",
    "2. Determine the creature with the longest single activity duration.\n",
    "3. Identify the most common activity performed by each creature.\n",
    "4. Calculate the average activity duration for each type of activity across all creatures.\n",
    "5. Find the top 3 creatures with the highest average activity duration.\n",
    "\n",
    "Let's implement these steps in the following code.\n"
   ]
  },
  {
   "cell_type": "code",
   "execution_count": 42,
   "id": "c8c74d15",
   "metadata": {
    "execution": {
     "iopub.execute_input": "2024-12-21T16:23:17.839809Z",
     "iopub.status.busy": "2024-12-21T16:23:17.839429Z",
     "iopub.status.idle": "2024-12-21T16:23:17.866204Z",
     "shell.execute_reply": "2024-12-21T16:23:17.865120Z"
    },
    "papermill": {
     "duration": 0.055024,
     "end_time": "2024-12-21T16:23:17.868610",
     "exception": false,
     "start_time": "2024-12-21T16:23:17.813586",
     "status": "completed"
    },
    "tags": []
   },
   "outputs": [
    {
     "name": "stdout",
     "output_type": "stream",
     "text": [
      "Step 1: Total Duration of Activities for Each Creature\n",
      "  creature_name  total_duration\n",
      "0       Aragorn             324\n",
      "1         Bilbo             387\n",
      "2    Dumbledore             330\n",
      "3         Frodo             758\n",
      "4     Galadriel             535\n",
      "5       Gandalf             188\n",
      "6         Gimli             533\n",
      "7         Harry             370\n",
      "8      Hermione             611\n",
      "9       Legolas             344 \n",
      "\n",
      "Step 2: Creature with the Longest Single Activity Duration\n",
      "creature_name       Dumbledore\n",
      "activity         Potion Making\n",
      "duration                   116\n",
      "Name: 50, dtype: object \n",
      "\n",
      "Step 3: Most Common Activity Performed by Each Creature\n",
      "  creature_name most_common_activity\n",
      "0       Aragorn     Treasure Hunting\n",
      "1         Bilbo        Potion Making\n",
      "2    Dumbledore               Flying\n",
      "3         Frodo        Spell Casting\n",
      "4     Galadriel               Flying\n",
      "5       Gandalf               Flying\n",
      "6         Gimli       Herb Gathering\n",
      "7         Harry     Treasure Hunting\n",
      "8      Hermione               Flying\n",
      "9       Legolas     Treasure Hunting \n",
      "\n",
      "Step 4: Average Activity Duration for Each Type of Activity Across All Creatures\n",
      "           activity  average_duration\n",
      "0            Flying         47.388889\n",
      "1    Herb Gathering         48.000000\n",
      "2     Potion Making         61.294118\n",
      "3     Spell Casting         68.454545\n",
      "4  Treasure Hunting         55.789474 \n",
      "\n",
      "Step 5: Top 3 Creatures with the Highest Average Activity Duration\n",
      "  creature_name  average_duration\n",
      "8      Hermione         67.888889\n",
      "4     Galadriel         66.875000\n",
      "2    Dumbledore         66.000000 \n",
      "\n"
     ]
    }
   ],
   "source": [
    "# Step 1: Calculate the total duration of activities for each creature\n",
    "total_duration_per_creature = creature_activities.groupby('creature_name')['duration'].sum().reset_index()\n",
    "total_duration_per_creature.columns = ['creature_name', 'total_duration']\n",
    "print(\"Step 1: Total Duration of Activities for Each Creature\")\n",
    "print(total_duration_per_creature, \"\\n\")\n",
    "\n",
    "# Step 2: Determine the creature with the longest single activity duration\n",
    "longest_single_activity = creature_activities.loc[creature_activities['duration'].idxmax()]\n",
    "print(\"Step 2: Creature with the Longest Single Activity Duration\")\n",
    "print(longest_single_activity[['creature_name', 'activity', 'duration']], \"\\n\")\n",
    "\n",
    "# Step 3: Identify the most common activity performed by each creature\n",
    "most_common_activity_per_creature = creature_activities.groupby('creature_name')['activity'].agg(lambda x: x.mode().iloc[0]).reset_index()\n",
    "most_common_activity_per_creature.columns = ['creature_name', 'most_common_activity']\n",
    "print(\"Step 3: Most Common Activity Performed by Each Creature\")\n",
    "print(most_common_activity_per_creature, \"\\n\")\n",
    "\n",
    "# Step 4: Calculate the average activity duration for each type of activity across all creatures\n",
    "average_duration_per_activity = creature_activities.groupby('activity')['duration'].mean().reset_index()\n",
    "average_duration_per_activity.columns = ['activity', 'average_duration']\n",
    "print(\"Step 4: Average Activity Duration for Each Type of Activity Across All Creatures\")\n",
    "print(average_duration_per_activity, \"\\n\")\n",
    "\n",
    "# Step 5: Find the top 3 creatures with the highest average activity duration\n",
    "average_duration_per_creature = creature_activities.groupby('creature_name')['duration'].mean().reset_index()\n",
    "average_duration_per_creature.columns = ['creature_name', 'average_duration']\n",
    "top_3_creatures_highest_avg_duration = average_duration_per_creature.nlargest(3, 'average_duration')\n",
    "print(\"Step 5: Top 3 Creatures with the Highest Average Activity Duration\")\n",
    "print(top_3_creatures_highest_avg_duration, \"\\n\")\n"
   ]
  },
  {
   "cell_type": "markdown",
   "id": "640095d5",
   "metadata": {
    "papermill": {
     "duration": 0.02424,
     "end_time": "2024-12-21T16:23:17.918573",
     "exception": false,
     "start_time": "2024-12-21T16:23:17.894333",
     "status": "completed"
    },
    "tags": []
   },
   "source": [
    "# Q17 - Machine Learning Preprocess Pandemonium\n",
    "<a id=\"q17\"></a>\n",
    "\n",
    "**Question:**\n",
    "Welcome to Machine Learning Preprocess Pandemonium! You are given a dataset of magical creatures and their attributes. Your task is to perform various preprocessing steps commonly used in machine learning to answer the following questions:\n",
    "1. Normalize the attributes of the creatures.\n",
    "2. Encode the categorical features of the dataset.\n",
    "3. Identify and handle any missing values.\n",
    "4. Perform feature selection to identify the most important attributes.\n",
    "5. Split the dataset into training and testing sets.\n",
    "\n",
    "**Datasets:**\n",
    "- `creature_attributes`: Contains columns (creature_id, creature_name, creature_type, magic_power, agility, intelligence, strength, loyalty).\n",
    "\n"
   ]
  },
  {
   "cell_type": "code",
   "execution_count": 43,
   "id": "fdbe80c6",
   "metadata": {
    "execution": {
     "iopub.execute_input": "2024-12-21T16:23:17.968842Z",
     "iopub.status.busy": "2024-12-21T16:23:17.968463Z",
     "iopub.status.idle": "2024-12-21T16:23:18.604419Z",
     "shell.execute_reply": "2024-12-21T16:23:18.603239Z"
    },
    "papermill": {
     "duration": 0.664337,
     "end_time": "2024-12-21T16:23:18.606872",
     "exception": false,
     "start_time": "2024-12-21T16:23:17.942535",
     "status": "completed"
    },
    "tags": []
   },
   "outputs": [
    {
     "name": "stdout",
     "output_type": "stream",
     "text": [
      "Creature Attributes DataFrame:\n",
      "   creature_id creature_name creature_type  magic_power  agility  \\\n",
      "0            1    Dumbledore        Wizard         52.0       97   \n",
      "1            2         Bilbo           Elf         97.0       64   \n",
      "2            3       Legolas         Human         43.0        5   \n",
      "3            4      Hermione         Dwarf          NaN       17   \n",
      "4            5         Frodo        Hobbit         71.0       73   \n",
      "\n",
      "   intelligence  strength  loyalty  \n",
      "0          64.0        48       75  \n",
      "1          70.0        60       76  \n",
      "2          84.0         6       77  \n",
      "3          61.0        54       48  \n",
      "4          81.0        49       71  \n"
     ]
    }
   ],
   "source": [
    "import pandas as pd\n",
    "import numpy as np\n",
    "from sklearn.preprocessing import StandardScaler, OneHotEncoder\n",
    "from sklearn.impute import SimpleImputer\n",
    "from sklearn.feature_selection import SelectKBest, f_classif\n",
    "from sklearn.model_selection import train_test_split\n",
    "\n",
    "# Seed for reproducibility\n",
    "np.random.seed(1313)\n",
    "\n",
    "# Generate synthetic data\n",
    "creature_ids = np.arange(1, 21)\n",
    "creature_names = ['Frodo', 'Gandalf', 'Hermione', 'Legolas', 'Bilbo', 'Galadriel', 'Dumbledore', 'Gimli', 'Harry', 'Aragorn']\n",
    "creature_types = ['Wizard', 'Elf', 'Hobbit', 'Human', 'Dwarf']\n",
    "attributes = {\n",
    "    'magic_power': np.random.randint(1, 101, size=20),\n",
    "    'agility': np.random.randint(1, 101, size=20),\n",
    "    'intelligence': np.random.randint(1, 101, size=20),\n",
    "    'strength': np.random.randint(1, 101, size=20),\n",
    "    'loyalty': np.random.randint(1, 101, size=20)\n",
    "}\n",
    "\n",
    "data = []\n",
    "for creature_id in creature_ids:\n",
    "    creature_name = np.random.choice(creature_names)\n",
    "    creature_type = np.random.choice(creature_types)\n",
    "    magic_power = attributes['magic_power'][creature_id - 1]\n",
    "    agility = attributes['agility'][creature_id - 1]\n",
    "    intelligence = attributes['intelligence'][creature_id - 1]\n",
    "    strength = attributes['strength'][creature_id - 1]\n",
    "    loyalty = attributes['loyalty'][creature_id - 1]\n",
    "    data.append([creature_id, creature_name, creature_type, magic_power, agility, intelligence, strength, loyalty])\n",
    "\n",
    "# Introduce some missing values\n",
    "data[3][3] = np.nan\n",
    "data[7][5] = np.nan\n",
    "\n",
    "# Create DataFrame\n",
    "creature_attributes = pd.DataFrame(data, columns=['creature_id', 'creature_name', 'creature_type', 'magic_power', 'agility', 'intelligence', 'strength', 'loyalty'])\n",
    "\n",
    "# Display the dataset\n",
    "print(\"Creature Attributes DataFrame:\")\n",
    "print(creature_attributes.head())\n"
   ]
  },
  {
   "cell_type": "markdown",
   "id": "79534342",
   "metadata": {
    "papermill": {
     "duration": 0.023439,
     "end_time": "2024-12-21T16:23:18.653726",
     "exception": false,
     "start_time": "2024-12-21T16:23:18.630287",
     "status": "completed"
    },
    "tags": []
   },
   "source": [
    "## Solution Explanation\n",
    "\n",
    "The steps to solve this problem are:\n",
    "1. Normalize the attributes of the creatures.\n",
    "2. Encode the categorical features of the dataset.\n",
    "3. Identify and handle any missing values.\n",
    "4. Perform feature selection to identify the most important attributes.\n",
    "5. Split the dataset into training and testing sets.\n",
    "\n",
    "Let's implement these steps in the following code.\n"
   ]
  },
  {
   "cell_type": "code",
   "execution_count": 44,
   "id": "2b22c9fc",
   "metadata": {
    "execution": {
     "iopub.execute_input": "2024-12-21T16:23:18.702229Z",
     "iopub.status.busy": "2024-12-21T16:23:18.701839Z",
     "iopub.status.idle": "2024-12-21T16:23:18.758125Z",
     "shell.execute_reply": "2024-12-21T16:23:18.756902Z"
    },
    "papermill": {
     "duration": 0.083939,
     "end_time": "2024-12-21T16:23:18.760979",
     "exception": false,
     "start_time": "2024-12-21T16:23:18.677040",
     "status": "completed"
    },
    "tags": []
   },
   "outputs": [
    {
     "name": "stdout",
     "output_type": "stream",
     "text": [
      "Step 1: Normalized Attributes\n",
      "   creature_id creature_name creature_type  magic_power   agility  \\\n",
      "0            1    Dumbledore        Wizard     0.076227  1.546702   \n",
      "1            2         Bilbo           Elf     1.557458  0.429827   \n",
      "2            3       Legolas         Human    -0.220019 -1.567009   \n",
      "3            4      Hermione         Dwarf          NaN -1.160872   \n",
      "4            5         Frodo        Hobbit     0.701636  0.734430   \n",
      "\n",
      "   intelligence  strength   loyalty  \n",
      "0     -0.027481 -0.052329  0.337526  \n",
      "1      0.213504  0.328245  0.375450  \n",
      "2      0.775803 -1.384336  0.413374  \n",
      "3     -0.147973  0.137958 -0.686429  \n",
      "4      0.655311 -0.020614  0.185829   \n",
      "\n",
      "Step 2: Encoded Categorical Features\n",
      "   creature_id creature_name  magic_power   agility  intelligence  strength  \\\n",
      "0            1    Dumbledore     0.076227  1.546702     -0.027481 -0.052329   \n",
      "1            2         Bilbo     1.557458  0.429827      0.213504  0.328245   \n",
      "2            3       Legolas    -0.220019 -1.567009      0.775803 -1.384336   \n",
      "3            4      Hermione          NaN -1.160872     -0.147973  0.137958   \n",
      "4            5         Frodo     0.701636  0.734430      0.655311 -0.020614   \n",
      "\n",
      "    loyalty  creature_type_Dwarf  creature_type_Elf  creature_type_Hobbit  \\\n",
      "0  0.337526                  0.0                0.0                   0.0   \n",
      "1  0.375450                  0.0                1.0                   0.0   \n",
      "2  0.413374                  0.0                0.0                   0.0   \n",
      "3 -0.686429                  1.0                0.0                   0.0   \n",
      "4  0.185829                  0.0                0.0                   1.0   \n",
      "\n",
      "   creature_type_Human  creature_type_Wizard  \n",
      "0                  0.0                   1.0  \n",
      "1                  0.0                   0.0  \n",
      "2                  1.0                   0.0  \n",
      "3                  0.0                   0.0  \n",
      "4                  0.0                   0.0   \n",
      "\n",
      "Step 3: Handle Missing Values\n",
      "   creature_id creature_name   magic_power   agility  intelligence  strength  \\\n",
      "0            1    Dumbledore  7.622708e-02  1.546702     -0.027481 -0.052329   \n",
      "1            2         Bilbo  1.557458e+00  0.429827      0.213504  0.328245   \n",
      "2            3       Legolas -2.200191e-01 -1.567009      0.775803 -1.384336   \n",
      "3            4      Hermione  5.843279e-17 -1.160872     -0.147973  0.137958   \n",
      "4            5         Frodo  7.016357e-01  0.734430      0.655311 -0.020614   \n",
      "\n",
      "    loyalty  creature_type_Dwarf  creature_type_Elf  creature_type_Hobbit  \\\n",
      "0  0.337526                  0.0                0.0                   0.0   \n",
      "1  0.375450                  0.0                1.0                   0.0   \n",
      "2  0.413374                  0.0                0.0                   0.0   \n",
      "3 -0.686429                  1.0                0.0                   0.0   \n",
      "4  0.185829                  0.0                0.0                   1.0   \n",
      "\n",
      "   creature_type_Human  creature_type_Wizard  \n",
      "0                  0.0                   1.0  \n",
      "1                  0.0                   0.0  \n",
      "2                  1.0                   0.0  \n",
      "3                  0.0                   0.0  \n",
      "4                  0.0                   0.0   \n",
      "\n",
      "Step 4: Selected Features\n",
      "Index(['magic_power', 'creature_type_Elf', 'creature_type_Hobbit',\n",
      "       'creature_type_Human', 'creature_type_Wizard'],\n",
      "      dtype='object') \n",
      "\n",
      "Step 5: Split Dataset into Training and Testing Sets\n",
      "Training Set:\n",
      "     magic_power  creature_type_Elf  creature_type_Hobbit  \\\n",
      "8  -1.306255e+00                0.0                   0.0   \n",
      "5   8.991331e-01                1.0                   0.0   \n",
      "11  6.687194e-01                0.0                   0.0   \n",
      "3   5.843279e-17                0.0                   0.0   \n",
      "18 -1.602501e+00                0.0                   1.0   \n",
      "\n",
      "    creature_type_Human  creature_type_Wizard  \n",
      "8                   0.0                   0.0  \n",
      "5                   0.0                   0.0  \n",
      "11                  1.0                   0.0  \n",
      "3                   0.0                   0.0  \n",
      "18                  0.0                   0.0   \n",
      "\n",
      "Testing Set:\n",
      "    magic_power  creature_type_Elf  creature_type_Hobbit  creature_type_Human  \\\n",
      "0      0.076227                0.0                   0.0                  0.0   \n",
      "17     0.537054                0.0                   0.0                  1.0   \n",
      "15     0.405389                1.0                   0.0                  0.0   \n",
      "1      1.557458                1.0                   0.0                  0.0   \n",
      "\n",
      "    creature_type_Wizard  \n",
      "0                    1.0  \n",
      "17                   0.0  \n",
      "15                   0.0  \n",
      "1                    0.0   \n",
      "\n"
     ]
    }
   ],
   "source": [
    "# Step 1: Normalize the attributes of the creatures\n",
    "scaler = StandardScaler()\n",
    "attributes = creature_attributes[['magic_power', 'agility', 'intelligence', 'strength', 'loyalty']]\n",
    "attributes_scaled = scaler.fit_transform(attributes)\n",
    "attributes_scaled_df = pd.DataFrame(attributes_scaled, columns=attributes.columns)\n",
    "creature_attributes_scaled = pd.concat([creature_attributes[['creature_id', 'creature_name', 'creature_type']], attributes_scaled_df], axis=1)\n",
    "print(\"Step 1: Normalized Attributes\")\n",
    "print(creature_attributes_scaled.head(), \"\\n\")\n",
    "\n",
    "# Step 2: Encode the categorical features of the dataset\n",
    "encoder = OneHotEncoder(sparse_output=False)\n",
    "creature_types_encoded = encoder.fit_transform(creature_attributes[['creature_type']])\n",
    "creature_types_encoded_df = pd.DataFrame(creature_types_encoded, columns=encoder.get_feature_names_out(['creature_type']))\n",
    "creature_attributes_encoded = pd.concat([creature_attributes_scaled.drop(columns=['creature_type']), creature_types_encoded_df], axis=1)\n",
    "print(\"Step 2: Encoded Categorical Features\")\n",
    "print(creature_attributes_encoded.head(), \"\\n\")\n",
    "\n",
    "# Step 3: Identify and handle any missing values\n",
    "imputer = SimpleImputer(strategy='mean')\n",
    "attributes_imputed = imputer.fit_transform(creature_attributes_encoded.drop(columns=['creature_id', 'creature_name']))\n",
    "attributes_imputed_df = pd.DataFrame(attributes_imputed, columns=creature_attributes_encoded.drop(columns=['creature_id', 'creature_name']).columns)\n",
    "creature_attributes_imputed = pd.concat([creature_attributes_encoded[['creature_id', 'creature_name']], attributes_imputed_df], axis=1)\n",
    "print(\"Step 3: Handle Missing Values\")\n",
    "print(creature_attributes_imputed.head(), \"\\n\")\n",
    "\n",
    "# Step 4: Perform feature selection to identify the most important attributes\n",
    "X = creature_attributes_imputed.drop(columns=['creature_id', 'creature_name'])\n",
    "y = np.random.choice([0, 1], size=len(X))  # Random target variable for demonstration purposes\n",
    "selector = SelectKBest(score_func=f_classif, k=5)\n",
    "selector.fit(X, y)\n",
    "selected_features = X.columns[selector.get_support()]\n",
    "print(\"Step 4: Selected Features\")\n",
    "print(selected_features, \"\\n\")\n",
    "\n",
    "# Step 5: Split the dataset into training and testing sets\n",
    "X_selected = X[selected_features]\n",
    "X_train, X_test, y_train, y_test = train_test_split(X_selected, y, test_size=0.2, random_state=42)\n",
    "print(\"Step 5: Split Dataset into Training and Testing Sets\")\n",
    "print(\"Training Set:\")\n",
    "print(X_train.head(), \"\\n\")\n",
    "print(\"Testing Set:\")\n",
    "print(X_test.head(), \"\\n\")\n"
   ]
  },
  {
   "cell_type": "markdown",
   "id": "8a51650f",
   "metadata": {
    "papermill": {
     "duration": 0.023806,
     "end_time": "2024-12-21T16:23:18.808851",
     "exception": false,
     "start_time": "2024-12-21T16:23:18.785045",
     "status": "completed"
    },
    "tags": []
   },
   "source": [
    "# Q18 - Text Tango with Pandas\n",
    "<a id=\"q18\"></a>\n",
    "\n",
    "**Question:**\n",
    "Welcome to Text Tango with Pandas! You are given a dataset of magical creatures and their quirky catchphrases. Each creature has a unique set of catchphrases, and your task is to perform various text analysis operations to answer the following questions:\n",
    "1. Count the total number of unique words used by each creature.\n",
    "2. Identify the most common word across all catchphrases.\n",
    "3. Determine the average length of catchphrases for each creature.\n",
    "4. Find the creature with the longest single catchphrase.\n",
    "5. Create a word cloud visualization for the catchphrases of the top 3 creatures with the most unique words.\n",
    "\n",
    "**Datasets:**\n",
    "- `creature_catchphrases`: Contains columns (creature_id, creature_name, catchphrases), where `catchphrases` is a list of strings representing the catchphrases.\n"
   ]
  },
  {
   "cell_type": "code",
   "execution_count": 45,
   "id": "af66c039",
   "metadata": {
    "execution": {
     "iopub.execute_input": "2024-12-21T16:23:18.858000Z",
     "iopub.status.busy": "2024-12-21T16:23:18.857597Z",
     "iopub.status.idle": "2024-12-21T16:23:18.942699Z",
     "shell.execute_reply": "2024-12-21T16:23:18.941541Z"
    },
    "papermill": {
     "duration": 0.112612,
     "end_time": "2024-12-21T16:23:18.945193",
     "exception": false,
     "start_time": "2024-12-21T16:23:18.832581",
     "status": "completed"
    },
    "tags": []
   },
   "outputs": [
    {
     "name": "stdout",
     "output_type": "stream",
     "text": [
      "Creature Catchphrases DataFrame:\n",
      "   creature_id creature_name  \\\n",
      "0            1         Frodo   \n",
      "1            2       Gandalf   \n",
      "2            3      Hermione   \n",
      "3            4       Legolas   \n",
      "4            5         Bilbo   \n",
      "\n",
      "                                        catchphrases  \n",
      "0  [To infinity and beyond, May the force be with...  \n",
      "1  [Houston, we have a problem, Houston, we have ...  \n",
      "2  [You can't handle the truth, I feel the need, ...  \n",
      "3  [You know nothing, Jon Snow, You know nothing,...  \n",
      "4  [Fly you fools, A wizard is never late, A wiza...  \n"
     ]
    }
   ],
   "source": [
    "import pandas as pd\n",
    "import numpy as np\n",
    "from collections import Counter\n",
    "from wordcloud import WordCloud\n",
    "import matplotlib.pyplot as plt\n",
    "\n",
    "# Seed for reproducibility\n",
    "np.random.seed(1414)\n",
    "\n",
    "# Generate synthetic data\n",
    "creature_ids = np.arange(1, 11)\n",
    "creature_names = ['Frodo', 'Gandalf', 'Hermione', 'Legolas', 'Bilbo', 'Galadriel', 'Dumbledore', 'Gimli', 'Harry', 'Aragorn']\n",
    "catchphrases_list = [\n",
    "    [\"A wizard is never late\", \"Fly you fools\", \"You shall not pass\"],\n",
    "    [\"Expecto Patronum\", \"It's Leviosa, not Leviosar\", \"I solemnly swear that I am up to no good\"],\n",
    "    [\"I am not a number, I am a free man\", \"To infinity and beyond\", \"May the force be with you\"],\n",
    "    [\"Winter is coming\", \"You know nothing, Jon Snow\", \"Hold the door\"],\n",
    "    [\"Inconceivable\", \"My name is Inigo Montoya\", \"You killed my father, prepare to die\"],\n",
    "    [\"Hakuna Matata\", \"Just keep swimming\", \"To infinity and beyond\"],\n",
    "    [\"Here's looking at you, kid\", \"I'll be back\", \"Hasta la vista, baby\"],\n",
    "    [\"I see dead people\", \"You can't handle the truth\", \"I feel the need, the need for speed\"],\n",
    "    [\"Houston, we have a problem\", \"You had me at hello\", \"Show me the money\"],\n",
    "    [\"I'm king of the world\", \"Nobody puts Baby in a corner\", \"I am Groot\"]\n",
    "]\n",
    "\n",
    "data = []\n",
    "for creature_id, creature_name in zip(creature_ids, creature_names):\n",
    "    catchphrases = np.random.choice(catchphrases_list[np.random.randint(0, len(catchphrases_list))], np.random.randint(3, 6)).tolist()\n",
    "    data.append([creature_id, creature_name, catchphrases])\n",
    "\n",
    "# Create DataFrame\n",
    "creature_catchphrases = pd.DataFrame(data, columns=['creature_id', 'creature_name', 'catchphrases'])\n",
    "\n",
    "# Display the dataset\n",
    "print(\"Creature Catchphrases DataFrame:\")\n",
    "print(creature_catchphrases.head())\n"
   ]
  },
  {
   "cell_type": "markdown",
   "id": "1405238e",
   "metadata": {
    "papermill": {
     "duration": 0.024222,
     "end_time": "2024-12-21T16:23:18.993179",
     "exception": false,
     "start_time": "2024-12-21T16:23:18.968957",
     "status": "completed"
    },
    "tags": []
   },
   "source": [
    "## Solution Explanation\n",
    "\n",
    "The steps to solve this problem are:\n",
    "1. Count the total number of unique words used by each creature.\n",
    "2. Identify the most common word across all catchphrases.\n",
    "3. Determine the average length of catchphrases for each creature.\n",
    "4. Find the creature with the longest single catchphrase.\n",
    "5. Create a word cloud visualization for the catchphrases of the top 3 creatures with the most unique words.\n",
    "\n",
    "Let's implement these steps in the following code.\n"
   ]
  },
  {
   "cell_type": "code",
   "execution_count": 46,
   "id": "961d8eff",
   "metadata": {
    "execution": {
     "iopub.execute_input": "2024-12-21T16:23:19.044016Z",
     "iopub.status.busy": "2024-12-21T16:23:19.043460Z",
     "iopub.status.idle": "2024-12-21T16:23:20.218776Z",
     "shell.execute_reply": "2024-12-21T16:23:20.217538Z"
    },
    "papermill": {
     "duration": 1.204204,
     "end_time": "2024-12-21T16:23:20.221726",
     "exception": false,
     "start_time": "2024-12-21T16:23:19.017522",
     "status": "completed"
    },
    "tags": []
   },
   "outputs": [
    {
     "name": "stdout",
     "output_type": "stream",
     "text": [
      "Step 1: Total Number of Unique Words Used by Each Creature\n",
      "  creature_name  unique_word_count\n",
      "0         Frodo                 10\n",
      "1       Gandalf                 10\n",
      "2      Hermione                 14\n",
      "3       Legolas                  5\n",
      "4         Bilbo                  8\n",
      "5     Galadriel                 14\n",
      "6    Dumbledore                 14\n",
      "7         Gimli                  9\n",
      "8         Harry                  9\n",
      "9       Aragorn                 11 \n",
      "\n",
      "Step 2: Most Common Word Across All Catchphrases\n",
      "('the', 16) \n",
      "\n",
      "Step 3: Average Length of Catchphrases for Each Creature\n",
      "  creature_name  average_catchphrase_length\n",
      "0         Frodo                    4.666667\n",
      "1       Gandalf                    5.000000\n",
      "2      Hermione                    5.500000\n",
      "3       Legolas                    5.000000\n",
      "4         Bilbo                    4.500000\n",
      "5     Galadriel                    5.200000\n",
      "6    Dumbledore                    6.250000\n",
      "7         Gimli                    3.000000\n",
      "8         Harry                    4.333333\n",
      "9       Aragorn                    8.000000 \n",
      "\n",
      "Step 4: Creature with the Longest Single Catchphrase\n",
      "creature_name                                           Aragorn\n",
      "longest_catchphrase    I solemnly swear that I am up to no good\n",
      "Name: 9, dtype: object \n",
      "\n"
     ]
    },
    {
     "data": {
      "image/png": "[encoded data removed]",
      "text/plain": [
       "<Figure size 1000x500 with 1 Axes>"
      ]
     },
     "metadata": {},
     "output_type": "display_data"
    },
    {
     "data": {
      "image/png": "[encoded data removed]",
      "text/plain": [
       "<Figure size 1000x500 with 1 Axes>"
      ]
     },
     "metadata": {},
     "output_type": "display_data"
    },
    {
     "data": {
      "image/png": "[encoded data removed]",
      "text/plain": [
       "<Figure size 1000x500 with 1 Axes>"
      ]
     },
     "metadata": {},
     "output_type": "display_data"
    }
   ],
   "source": [
    "import re\n",
    "\n",
    "# Helper function to count unique words\n",
    "def count_unique_words(catchphrases):\n",
    "    words = re.findall(r'\\b\\w+\\b', ' '.join(catchphrases).lower())\n",
    "    return len(set(words))\n",
    "\n",
    "# Step 1: Count the total number of unique words used by each creature\n",
    "creature_catchphrases['unique_word_count'] = creature_catchphrases['catchphrases'].apply(count_unique_words)\n",
    "print(\"Step 1: Total Number of Unique Words Used by Each Creature\")\n",
    "print(creature_catchphrases[['creature_name', 'unique_word_count']], \"\\n\")\n",
    "\n",
    "# Step 2: Identify the most common word across all catchphrases\n",
    "all_words = re.findall(r'\\b\\w+\\b', ' '.join([' '.join(catchphrases) for catchphrases in creature_catchphrases['catchphrases']]).lower())\n",
    "most_common_word = Counter(all_words).most_common(1)[0]\n",
    "print(\"Step 2: Most Common Word Across All Catchphrases\")\n",
    "print(most_common_word, \"\\n\")\n",
    "\n",
    "# Step 3: Determine the average length of catchphrases for each creature\n",
    "creature_catchphrases['average_catchphrase_length'] = creature_catchphrases['catchphrases'].apply(lambda x: np.mean([len(phrase.split()) for phrase in x]))\n",
    "print(\"Step 3: Average Length of Catchphrases for Each Creature\")\n",
    "print(creature_catchphrases[['creature_name', 'average_catchphrase_length']], \"\\n\")\n",
    "\n",
    "# Step 4: Find the creature with the longest single catchphrase\n",
    "creature_catchphrases['longest_catchphrase'] = creature_catchphrases['catchphrases'].apply(lambda x: max(x, key=len))\n",
    "creature_with_longest_catchphrase = creature_catchphrases.loc[creature_catchphrases['longest_catchphrase'].apply(len).idxmax()]\n",
    "print(\"Step 4: Creature with the Longest Single Catchphrase\")\n",
    "print(creature_with_longest_catchphrase[['creature_name', 'longest_catchphrase']], \"\\n\")\n",
    "\n",
    "# Step 5: Create a word cloud visualization for the catchphrases of the top 3 creatures with the most unique words\n",
    "top_3_creatures = creature_catchphrases.nlargest(3, 'unique_word_count')\n",
    "\n",
    "for i, row in top_3_creatures.iterrows():\n",
    "    text = ' '.join(row['catchphrases'])\n",
    "    wordcloud = WordCloud(width=800, height=400, background_color='white').generate(text)\n",
    "    \n",
    "    plt.figure(figsize=(10, 5))\n",
    "    plt.imshow(wordcloud, interpolation='bilinear')\n",
    "    plt.title(f\"Word Cloud for {row['creature_name']}'s Catchphrases\")\n",
    "    plt.axis('off')\n",
    "    plt.show()\n"
   ]
  },
  {
   "cell_type": "markdown",
   "id": "10cd1c12",
   "metadata": {
    "papermill": {
     "duration": 0.029371,
     "end_time": "2024-12-21T16:23:20.279848",
     "exception": false,
     "start_time": "2024-12-21T16:23:20.250477",
     "status": "completed"
    },
    "tags": []
   },
   "source": [
    "# Q19 - Anomaly Detection Drama\n",
    "<a id=\"q19\"></a>\n",
    "\n",
    "**Question:**\n",
    "Welcome to Anomaly Detection Drama! You are given a dataset of enchanted items and their magical properties. Each item has various attributes, and your task is to detect anomalies in this dataset to answer the following questions:\n",
    "1. Identify the items with the highest outlier scores based on their attributes.\n",
    "2. Determine the average value of each attribute for the non-anomalous items.\n",
    "3. Calculate the number of anomalies detected for each item category.\n",
    "4. Find the item with the most extreme outlier score in each category.\n",
    "5. Visualize the distribution of outlier scores across all items using a box plot.\n",
    "\n",
    "**Datasets:**\n",
    "- `enchanted_items`: Contains columns (item_id, item_name, category, power_level, enchantment_level, durability, rarity, age).\n",
    "\n",
    "Generate synthetic data for the dataset and perform the required analysis to find the answers.\n"
   ]
  },
  {
   "cell_type": "code",
   "execution_count": 47,
   "id": "c58d9a42",
   "metadata": {
    "execution": {
     "iopub.execute_input": "2024-12-21T16:23:20.340222Z",
     "iopub.status.busy": "2024-12-21T16:23:20.339317Z",
     "iopub.status.idle": "2024-12-21T16:23:20.469527Z",
     "shell.execute_reply": "2024-12-21T16:23:20.468500Z"
    },
    "papermill": {
     "duration": 0.163347,
     "end_time": "2024-12-21T16:23:20.472108",
     "exception": false,
     "start_time": "2024-12-21T16:23:20.308761",
     "status": "completed"
    },
    "tags": []
   },
   "outputs": [
    {
     "name": "stdout",
     "output_type": "stream",
     "text": [
      "Enchanted Items DataFrame:\n",
      "   item_id item_name category  power_level  enchantment_level  durability  \\\n",
      "0        1    Item_1   Scroll           72                 29          90   \n",
      "1        2    Item_2   Amulet           41                 56           5   \n",
      "2        3    Item_3   Potion           71                 58          51   \n",
      "3        4    Item_4   Amulet           15                 27          55   \n",
      "4        5    Item_5   Amulet           96                 54          23   \n",
      "\n",
      "   rarity  age  \n",
      "0      45   91  \n",
      "1       6   67  \n",
      "2      12   29  \n",
      "3       7   24  \n",
      "4      50   54  \n"
     ]
    }
   ],
   "source": [
    "import pandas as pd\n",
    "import numpy as np\n",
    "from sklearn.ensemble import IsolationForest\n",
    "import seaborn as sns\n",
    "import matplotlib.pyplot as plt\n",
    "\n",
    "# Seed for reproducibility\n",
    "np.random.seed(1515)\n",
    "\n",
    "# Generate synthetic data\n",
    "item_ids = np.arange(1, 51)\n",
    "item_names = [f'Item_{i}' for i in item_ids]\n",
    "categories = ['Wand', 'Potion', 'Amulet', 'Scroll', 'Ring']\n",
    "attributes = {\n",
    "    'power_level': np.random.randint(1, 101, size=50),\n",
    "    'enchantment_level': np.random.randint(1, 101, size=50),\n",
    "    'durability': np.random.randint(1, 101, size=50),\n",
    "    'rarity': np.random.randint(1, 101, size=50),\n",
    "    'age': np.random.randint(1, 101, size=50)\n",
    "}\n",
    "\n",
    "data = []\n",
    "for item_id, item_name in zip(item_ids, item_names):\n",
    "    category = np.random.choice(categories)\n",
    "    power_level = attributes['power_level'][item_id - 1]\n",
    "    enchantment_level = attributes['enchantment_level'][item_id - 1]\n",
    "    durability = attributes['durability'][item_id - 1]\n",
    "    rarity = attributes['rarity'][item_id - 1]\n",
    "    age = attributes['age'][item_id - 1]\n",
    "    data.append([item_id, item_name, category, power_level, enchantment_level, durability, rarity, age])\n",
    "\n",
    "# Create DataFrame\n",
    "enchanted_items = pd.DataFrame(data, columns=['item_id', 'item_name', 'category', 'power_level', 'enchantment_level', 'durability', 'rarity', 'age'])\n",
    "\n",
    "# Display the dataset\n",
    "print(\"Enchanted Items DataFrame:\")\n",
    "print(enchanted_items.head())\n"
   ]
  },
  {
   "cell_type": "markdown",
   "id": "17e6e2d0",
   "metadata": {
    "papermill": {
     "duration": 0.029445,
     "end_time": "2024-12-21T16:23:20.530866",
     "exception": false,
     "start_time": "2024-12-21T16:23:20.501421",
     "status": "completed"
    },
    "tags": []
   },
   "source": [
    "## Solution Explanation\n",
    "\n",
    "The steps to solve this problem are:\n",
    "1. Identify the items with the highest outlier scores based on their attributes.\n",
    "2. Determine the average value of each attribute for the non-anomalous items.\n",
    "3. Calculate the number of anomalies detected for each item category.\n",
    "4. Find the item with the most extreme outlier score in each category.\n",
    "\n",
    "Let's implement these steps in the following code.\n"
   ]
  },
  {
   "cell_type": "code",
   "execution_count": 48,
   "id": "1a3183c2",
   "metadata": {
    "execution": {
     "iopub.execute_input": "2024-12-21T16:23:20.591385Z",
     "iopub.status.busy": "2024-12-21T16:23:20.590977Z",
     "iopub.status.idle": "2024-12-21T16:23:20.904974Z",
     "shell.execute_reply": "2024-12-21T16:23:20.903703Z"
    },
    "papermill": {
     "duration": 0.347509,
     "end_time": "2024-12-21T16:23:20.907386",
     "exception": false,
     "start_time": "2024-12-21T16:23:20.559877",
     "status": "completed"
    },
    "tags": []
   },
   "outputs": [
    {
     "name": "stdout",
     "output_type": "stream",
     "text": [
      "Step 1: Items with the Highest Outlier Scores\n",
      "    item_id item_name category  power_level  enchantment_level  durability  \\\n",
      "45       46   Item_46     Ring           99                 88          13   \n",
      "41       42   Item_42     Ring           86                 26          61   \n",
      "10       11   Item_11   Potion            3                 11           8   \n",
      "33       34   Item_34   Amulet           97                100          78   \n",
      "15       16   Item_16   Amulet           40                 14          51   \n",
      "\n",
      "    rarity  age  outlier_score  is_anomaly  \n",
      "45      29  100       0.026758        True  \n",
      "41       1    2       0.013026        True  \n",
      "10      24   74       0.009622        True  \n",
      "33      35   61       0.005153        True  \n",
      "15      97   25       0.002359        True   \n",
      "\n",
      "Step 2: Average Value of Each Attribute for Non-Anomalous Items\n",
      "power_level          50.511111\n",
      "enchantment_level    49.933333\n",
      "durability           55.200000\n",
      "rarity               49.177778\n",
      "age                  46.266667\n",
      "dtype: float64 \n",
      "\n",
      "Step 3: Number of Anomalies Detected for Each Item Category\n",
      "  category  num_anomalies\n",
      "0   Amulet              2\n",
      "1   Potion              1\n",
      "2     Ring              2 \n",
      "\n",
      "Step 4: Item with the Most Extreme Outlier Score in Each Category\n",
      "   category item_name  outlier_score\n",
      "33   Amulet   Item_34       0.005153\n",
      "10   Potion   Item_11       0.009622\n",
      "45     Ring   Item_46       0.026758\n",
      "21   Scroll   Item_22      -0.009054\n",
      "27     Wand   Item_28      -0.000262 \n",
      "\n"
     ]
    }
   ],
   "source": [
    "from sklearn.ensemble import IsolationForest\n",
    "\n",
    "# Step 1: Identify the items with the highest outlier scores based on their attributes\n",
    "attributes = enchanted_items[['power_level', 'enchantment_level', 'durability', 'rarity', 'age']]\n",
    "\n",
    "# Convert attributes to a numpy array for fitting the model\n",
    "attributes_array = attributes.values\n",
    "\n",
    "iso_forest = IsolationForest(contamination=0.1, random_state=1515)\n",
    "iso_forest.fit(attributes_array)\n",
    "\n",
    "# Calculate the outlier scores and predictions\n",
    "enchanted_items['outlier_score'] = -iso_forest.decision_function(attributes_array)\n",
    "enchanted_items['is_anomaly'] = iso_forest.predict(attributes_array) == -1\n",
    "\n",
    "print(\"Step 1: Items with the Highest Outlier Scores\")\n",
    "print(enchanted_items.sort_values(by='outlier_score', ascending=False).head(), \"\\n\")\n",
    "\n",
    "# Step 2: Determine the average value of each attribute for the non-anomalous items\n",
    "non_anomalous_items = enchanted_items[enchanted_items['is_anomaly'] == False]\n",
    "avg_attributes_non_anomalous = non_anomalous_items[['power_level', 'enchantment_level', 'durability', 'rarity', 'age']].mean()\n",
    "print(\"Step 2: Average Value of Each Attribute for Non-Anomalous Items\")\n",
    "print(avg_attributes_non_anomalous, \"\\n\")\n",
    "\n",
    "# Step 3: Calculate the number of anomalies detected for each item category\n",
    "anomalies_per_category = enchanted_items[enchanted_items['is_anomaly'] == True].groupby('category').size().reset_index(name='num_anomalies')\n",
    "print(\"Step 3: Number of Anomalies Detected for Each Item Category\")\n",
    "print(anomalies_per_category, \"\\n\")\n",
    "\n",
    "# Step 4: Find the item with the most extreme outlier score in each category\n",
    "extreme_outliers_per_category = enchanted_items.loc[enchanted_items.groupby('category')['outlier_score'].idxmax()]\n",
    "print(\"Step 4: Item with the Most Extreme Outlier Score in Each Category\")\n",
    "print(extreme_outliers_per_category[['category', 'item_name', 'outlier_score']], \"\\n\")\n",
    "\n",
    "\n"
   ]
  },
  {
   "cell_type": "markdown",
   "id": "76cc1541",
   "metadata": {
    "papermill": {
     "duration": 0.029547,
     "end_time": "2024-12-21T16:23:20.966019",
     "exception": false,
     "start_time": "2024-12-21T16:23:20.936472",
     "status": "completed"
    },
    "tags": []
   },
   "source": [
    "# Q20 - Imputation Imbroglio\n",
    "<a id=\"q20\"></a>\n",
    "\n",
    "**Question:**\n",
    "Welcome to Imputation Imbroglio! You are given a dataset of mystical potions and their unique attributes. Each potion has various properties, and some of these properties have missing values. Your task is to handle these missing values to answer the following questions:\n",
    "1. Impute the missing values using the mean for numeric attributes.\n",
    "2. Impute the missing values using the most frequent value for categorical attributes.\n",
    "3. Calculate the mean and median of each numeric attribute after imputation.\n",
    "4. Determine the most common value for each categorical attribute after imputation.\n",
    "5. Create visualizations to compare the distribution of attributes before and after imputation.\n",
    "\n",
    "**Datasets:**\n",
    "- `mystical_potions`: Contains columns (potion_id, potion_name, type, potency, color, viscosity, rarity).\n"
   ]
  },
  {
   "cell_type": "code",
   "execution_count": 49,
   "id": "2dd00e15",
   "metadata": {
    "execution": {
     "iopub.execute_input": "2024-12-21T16:23:21.027837Z",
     "iopub.status.busy": "2024-12-21T16:23:21.027446Z",
     "iopub.status.idle": "2024-12-21T16:23:21.046349Z",
     "shell.execute_reply": "2024-12-21T16:23:21.045271Z"
    },
    "papermill": {
     "duration": 0.053537,
     "end_time": "2024-12-21T16:23:21.048803",
     "exception": false,
     "start_time": "2024-12-21T16:23:20.995266",
     "status": "completed"
    },
    "tags": []
   },
   "outputs": [
    {
     "name": "stdout",
     "output_type": "stream",
     "text": [
      "Mystical Potions DataFrame:\n",
      "   potion_id potion_name      type  potency   color  viscosity  rarity\n",
      "0          1    Potion_1      Mana     97.0    Blue   0.762692     8.0\n",
      "1          2    Potion_2   Healing      9.0   Green   0.420097     2.0\n",
      "2          3    Potion_3     Speed     68.0     Red   0.406984     1.0\n",
      "3          4    Potion_4     Speed     68.0  Purple        NaN     3.0\n",
      "4          5    Potion_5  Strength      NaN   Green   0.295391     9.0\n"
     ]
    }
   ],
   "source": [
    "import pandas as pd\n",
    "import numpy as np\n",
    "import seaborn as sns\n",
    "import matplotlib.pyplot as plt\n",
    "from sklearn.impute import SimpleImputer\n",
    "\n",
    "# Seed for reproducibility\n",
    "np.random.seed(2020)\n",
    "\n",
    "# Generate synthetic data\n",
    "potion_ids = np.arange(1, 21)\n",
    "potion_names = [f'Potion_{i}' for i in potion_ids]\n",
    "types = ['Healing', 'Mana', 'Strength', 'Speed', 'Invisibility']\n",
    "colors = ['Red', 'Blue', 'Green', 'Yellow', 'Purple']\n",
    "attributes = {\n",
    "    'potency': np.random.randint(1, 101, size=20).astype(float),\n",
    "    'viscosity': np.random.uniform(0.1, 1.0, size=20).astype(float),\n",
    "    'rarity': np.random.randint(1, 11, size=20).astype(float)\n",
    "}\n",
    "\n",
    "data = []\n",
    "for potion_id, potion_name in zip(potion_ids, potion_names):\n",
    "    type_ = np.random.choice(types)\n",
    "    color = np.random.choice(colors)\n",
    "    potency = attributes['potency'][potion_id - 1] if np.random.rand() > 0.1 else np.nan  # Introduce some NaNs\n",
    "    viscosity = attributes['viscosity'][potion_id - 1] if np.random.rand() > 0.1 else np.nan  # Introduce some NaNs\n",
    "    rarity = attributes['rarity'][potion_id - 1] if np.random.rand() > 0.1 else np.nan  # Introduce some NaNs\n",
    "    data.append([potion_id, potion_name, type_, potency, color, viscosity, rarity])\n",
    "\n",
    "# Create DataFrame\n",
    "mystical_potions = pd.DataFrame(data, columns=['potion_id', 'potion_name', 'type', 'potency', 'color', 'viscosity', 'rarity'])\n",
    "\n",
    "# Display the dataset\n",
    "print(\"Mystical Potions DataFrame:\")\n",
    "print(mystical_potions.head())\n"
   ]
  },
  {
   "cell_type": "markdown",
   "id": "e0d389dc",
   "metadata": {
    "papermill": {
     "duration": 0.030144,
     "end_time": "2024-12-21T16:23:21.108888",
     "exception": false,
     "start_time": "2024-12-21T16:23:21.078744",
     "status": "completed"
    },
    "tags": []
   },
   "source": [
    "## Solution Explanation\n",
    "\n",
    "The steps to solve this problem are:\n",
    "1. Impute the missing values using the mean for numeric attributes.\n",
    "2. Impute the missing values using the most frequent value for categorical attributes.\n",
    "3. Calculate the mean and median of each numeric attribute after imputation.\n",
    "4. Determine the most common value for each categorical attribute after imputation.\n",
    "Let's implement these steps in the following code.\n"
   ]
  },
  {
   "cell_type": "code",
   "execution_count": 50,
   "id": "b6be9fdf",
   "metadata": {
    "execution": {
     "iopub.execute_input": "2024-12-21T16:23:21.170880Z",
     "iopub.status.busy": "2024-12-21T16:23:21.170496Z",
     "iopub.status.idle": "2024-12-21T16:23:21.196080Z",
     "shell.execute_reply": "2024-12-21T16:23:21.194763Z"
    },
    "papermill": {
     "duration": 0.059417,
     "end_time": "2024-12-21T16:23:21.198400",
     "exception": false,
     "start_time": "2024-12-21T16:23:21.138983",
     "status": "completed"
    },
    "tags": []
   },
   "outputs": [
    {
     "name": "stdout",
     "output_type": "stream",
     "text": [
      "Step 3: Mean and Median of Each Numeric Attribute After Imputation\n",
      "Mean Values:\n",
      " potency      52.937500\n",
      "viscosity     0.504048\n",
      "rarity        5.950000\n",
      "dtype: float64\n",
      "Median Values:\n",
      " potency      52.937500\n",
      "viscosity     0.504048\n",
      "rarity        6.500000\n",
      "dtype: float64 \n",
      "\n",
      "Step 4: Most Common Value for Each Categorical Attribute After Imputation\n",
      "type      Mana\n",
      "color    Green\n",
      "Name: 0, dtype: object \n",
      "\n"
     ]
    }
   ],
   "source": [
    "# Step 1: Impute the missing values using the mean for numeric attributes\n",
    "numeric_attributes = ['potency', 'viscosity', 'rarity']\n",
    "numeric_imputer = SimpleImputer(strategy='mean')\n",
    "mystical_potions[numeric_attributes] = numeric_imputer.fit_transform(mystical_potions[numeric_attributes])\n",
    "\n",
    "# Step 2: Impute the missing values using the most frequent value for categorical attributes\n",
    "categorical_attributes = ['type', 'color']\n",
    "categorical_imputer = SimpleImputer(strategy='most_frequent')\n",
    "mystical_potions[categorical_attributes] = categorical_imputer.fit_transform(mystical_potions[categorical_attributes])\n",
    "\n",
    "# Step 3: Calculate the mean and median of each numeric attribute after imputation\n",
    "mean_values = mystical_potions[numeric_attributes].mean()\n",
    "median_values = mystical_potions[numeric_attributes].median()\n",
    "print(\"Step 3: Mean and Median of Each Numeric Attribute After Imputation\")\n",
    "print(\"Mean Values:\\n\", mean_values)\n",
    "print(\"Median Values:\\n\", median_values, \"\\n\")\n",
    "\n",
    "# Step 4: Determine the most common value for each categorical attribute after imputation\n",
    "most_common_values = mystical_potions[categorical_attributes].mode().iloc[0]\n",
    "print(\"Step 4: Most Common Value for Each Categorical Attribute After Imputation\")\n",
    "print(most_common_values, \"\\n\")"
   ]
  },
  {
   "cell_type": "markdown",
   "id": "bb52d8c2",
   "metadata": {
    "papermill": {
     "duration": 0.030722,
     "end_time": "2024-12-21T16:23:21.258171",
     "exception": false,
     "start_time": "2024-12-21T16:23:21.227449",
     "status": "completed"
    },
    "tags": []
   },
   "source": [
    "---\n",
    "\n",
    "## Thanks for Checking Out My Notebook!\n",
    "\n",
    "I hope you enjoyed the **🌋 Pandas Mastery Series - Ultimate Challenge** and found it helpful in improving your data manipulation skills. If you have any questions, suggestions, or feedback, feel free to reach out. Your input is greatly appreciated!\n",
    "\n",
    "#### Show Your Support\n",
    "If you found this notebook useful, please consider giving it an upvote. Your support helps me create more high-quality content!\n",
    "\n",
    "#### Connect with Me\n",
    "- [Kaggle Profile](https://www.kaggle.com/matinmahmoudi)\n",
    "- [LinkedIn](https://www.linkedin.com/in/matinmahmoudicom/)\n",
    "- [GitHub](https://github.com/matinmahmoudi/)\n",
    "- [Medium](https://matinmahmoudi.com)\n",
    "\n",
    "## Ask Questions\n",
    "If you have any questions or need further clarification, don't hesitate to ask. I'm here to help!\n",
    "\n",
    "Happy Coding! 🚀\n",
    "\n",
    "---\n"
   ]
  },
  {
   "cell_type": "code",
   "execution_count": null,
   "id": "791b6e80",
   "metadata": {
    "papermill": {
     "duration": 0.028788,
     "end_time": "2024-12-21T16:23:21.316777",
     "exception": false,
     "start_time": "2024-12-21T16:23:21.287989",
     "status": "completed"
    },
    "tags": []
   },
   "outputs": [],
   "source": []
  }
 ],
 "metadata": {
  "kaggle": {
   "accelerator": "none",
   "dataSources": [],
   "dockerImageVersionId": 30673,
   "isGpuEnabled": false,
   "isInternetEnabled": true,
   "language": "python",
   "sourceType": "notebook"
  },
  "kernelspec": {
   "display_name": "Python 3",
   "language": "python",
   "name": "python3"
  },
  "language_info": {
   "codemirror_mode": {
    "name": "ipython",
    "version": 3
   },
   "file_extension": ".py",
   "mimetype": "text/x-python",
   "name": "python",
   "nbconvert_exporter": "python",
   "pygments_lexer": "ipython3",
   "version": "3.10.13"
  },
  "papermill": {
   "default_parameters": {},
   "duration": 15.721456,
   "end_time": "2024-12-21T16:23:22.068992",
   "environment_variables": {},
   "exception": null,
   "input_path": "__notebook__.ipynb",
   "output_path": "__notebook__.ipynb",
   "parameters": {},
   "start_time": "2024-12-21T16:23:06.347536",
   "version": "2.5.0"
  }
 },
 "nbformat": 4,
 "nbformat_minor": 5
}
