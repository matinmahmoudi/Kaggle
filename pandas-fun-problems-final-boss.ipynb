{
 "cells": [
  {
   "cell_type": "markdown",
   "id": "c6e2037e",
   "metadata": {
    "papermill": {
     "duration": 0.008222,
     "end_time": "2024-03-29T12:28:21.811750",
     "exception": false,
     "start_time": "2024-03-29T12:28:21.803528",
     "status": "completed"
    },
    "tags": []
   },
   "source": [
    "# Pandas Fun Problems - Final Boss\n",
    "\n",
    "Welcome to the ultimate challenge in our Pandas series! This notebook is the pinnacle of our journey through data manipulation with Pandas, where you'll face the most demanding problems yet. Designed for those who seek to test their limits, this set of problems is dubbed the \"Final Boss\" for good reason.\n",
    "\n",
    "Before attempting these challenges, make sure you have worked through the previous notebooks in this series. It is particularly crucial that you've completed the **[Pandas Fun Problems - Advanced](https://www.kaggle.com/code/matinmahmoudi/pandas-fun-problems-advanced/)** notebook. The advanced notebook covers sophisticated techniques and operations that will be essential for conquering the challenges ahead.\n",
    "\n",
    "- **Practice Problems Source:** [Final Boss Problems](https://www.practiceprobs.com/problemsets/python-pandas/final-boss/)\n",
    "- **YouTube Tutorial:** [Video Guide](https://www.youtube.com/watch?v=8xUgesdShE8)\n",
    "\n",
    "\n",
    "As always, we encourage you to share your solutions, thoughts, and questions in the comments. Your engagement not only enriches your learning experience but also supports others on their path to mastering Pandas.\n",
    "\n",
    "### **Found this notebook challenging and rewarding? Show your support with an upvote!**\n"
   ]
  },
  {
   "cell_type": "markdown",
   "id": "63e48d8b",
   "metadata": {
    "papermill": {
     "duration": 0.008252,
     "end_time": "2024-03-29T12:28:21.828739",
     "exception": false,
     "start_time": "2024-03-29T12:28:21.820487",
     "status": "completed"
    },
    "tags": []
   },
   "source": [
    "# Q1 - COVID Tracing Problem"
   ]
  },
  {
   "cell_type": "markdown",
   "id": "9f2ab1fd",
   "metadata": {
    "papermill": {
     "duration": 0.009676,
     "end_time": "2024-03-29T12:28:21.847478",
     "exception": false,
     "start_time": "2024-03-29T12:28:21.837802",
     "status": "completed"
    },
    "tags": []
   },
   "source": [
    "https://www.practiceprobs.com/problemsets/python-pandas/final-boss/covid-tracing/"
   ]
  },
  {
   "cell_type": "markdown",
   "id": "6c6d5b5b",
   "metadata": {
    "papermill": {
     "duration": 0.008638,
     "end_time": "2024-03-29T12:28:21.865584",
     "exception": false,
     "start_time": "2024-03-29T12:28:21.856946",
     "status": "completed"
    },
    "tags": []
   },
   "source": [
    "You track the whereabouts of 100 individuals in a DataFrame called whereabouts. Each person has a corresponding list of place ids indicating the places they’ve visited in the recent week. You also track which places have been exposed to COVID-19 in a list called exposed 😷.\n"
   ]
  },
  {
   "cell_type": "code",
   "execution_count": 1,
   "id": "0a19b787",
   "metadata": {
    "execution": {
     "iopub.execute_input": "2024-03-29T12:28:21.885727Z",
     "iopub.status.busy": "2024-03-29T12:28:21.885316Z",
     "iopub.status.idle": "2024-03-29T12:28:23.095466Z",
     "shell.execute_reply": "2024-03-29T12:28:23.094225Z"
    },
    "papermill": {
     "duration": 1.224261,
     "end_time": "2024-03-29T12:28:23.098371",
     "exception": false,
     "start_time": "2024-03-29T12:28:21.874110",
     "status": "completed"
    },
    "tags": []
   },
   "outputs": [
    {
     "name": "stdout",
     "output_type": "stream",
     "text": [
      "   person_id              places\n",
      "0          0        [3, 4, 5, 6]\n",
      "1          1                  []\n",
      "2          2                 [3]\n",
      "3          3           [6, 8, 9]\n",
      "4          4                 [3]\n",
      "5          5  [0, 2, 5, 6, 7, 8]\n",
      "6          6              [2, 7]\n",
      "7          7        [0, 5, 8, 9]\n",
      "8          8           [2, 7, 9]\n",
      "9          9        [0, 5, 8, 9]\n"
     ]
    }
   ],
   "source": [
    "import numpy as np\n",
    "import pandas as pd\n",
    "\n",
    "# exposed places\n",
    "exposed = [0,5,9]\n",
    "\n",
    "# whereabouts of each person\n",
    "generator = np.random.default_rng(2468)\n",
    "Nplaces = 10\n",
    "Npersons = 10\n",
    "place_ids = np.arange(Nplaces)\n",
    "visits = generator.choice(place_ids, size=3*Nplaces, replace=True)\n",
    "split_idxs = np.sort(generator.choice(len(visits), size=9, replace=True))\n",
    "whereabouts = pd.DataFrame({\n",
    "    'person_id': range(Npersons),\n",
    "    'places': [np.unique(x).tolist() for x in np.array_split(visits, split_idxs)]\n",
    "})\n",
    "\n",
    "print(whereabouts)\n",
    "#    person_id              places\n",
    "# 0          0        [3, 4, 5, 6]\n",
    "# 1          1                  []\n",
    "# 2          2                 [3]\n",
    "# 3          3           [6, 8, 9]\n",
    "# 4          4                 [3]\n",
    "# 5          5  [0, 2, 5, 6, 7, 8]\n",
    "# 6          6              [2, 7]\n",
    "# 7          7        [0, 5, 8, 9]\n",
    "# 8          8           [2, 7, 9]\n",
    "# 9          9        [0, 5, 8, 9]"
   ]
  },
  {
   "cell_type": "markdown",
   "id": "54d4e806",
   "metadata": {
    "papermill": {
     "duration": 0.008742,
     "end_time": "2024-03-29T12:28:23.115477",
     "exception": false,
     "start_time": "2024-03-29T12:28:23.106735",
     "status": "completed"
    },
    "tags": []
   },
   "source": [
    "For each person, identify the places they visited which have been exposed. Make this a new list-column in whereabouts called exposures.\n",
    "\n"
   ]
  },
  {
   "cell_type": "markdown",
   "id": "3cdb6b56",
   "metadata": {
    "papermill": {
     "duration": 0.007633,
     "end_time": "2024-03-29T12:28:23.131827",
     "exception": false,
     "start_time": "2024-03-29T12:28:23.124194",
     "status": "completed"
    },
    "tags": []
   },
   "source": [
    "## Solution 1"
   ]
  },
  {
   "cell_type": "code",
   "execution_count": 2,
   "id": "4cf27759",
   "metadata": {
    "execution": {
     "iopub.execute_input": "2024-03-29T12:28:23.150910Z",
     "iopub.status.busy": "2024-03-29T12:28:23.150277Z",
     "iopub.status.idle": "2024-03-29T12:28:23.179480Z",
     "shell.execute_reply": "2024-03-29T12:28:23.178154Z"
    },
    "papermill": {
     "duration": 0.041584,
     "end_time": "2024-03-29T12:28:23.182378",
     "exception": false,
     "start_time": "2024-03-29T12:28:23.140794",
     "status": "completed"
    },
    "tags": []
   },
   "outputs": [
    {
     "data": {
      "text/html": [
       "<div>\n",
       "<style scoped>\n",
       "    .dataframe tbody tr th:only-of-type {\n",
       "        vertical-align: middle;\n",
       "    }\n",
       "\n",
       "    .dataframe tbody tr th {\n",
       "        vertical-align: top;\n",
       "    }\n",
       "\n",
       "    .dataframe thead th {\n",
       "        text-align: right;\n",
       "    }\n",
       "</style>\n",
       "<table border=\"1\" class=\"dataframe\">\n",
       "  <thead>\n",
       "    <tr style=\"text-align: right;\">\n",
       "      <th></th>\n",
       "      <th>person_id</th>\n",
       "      <th>places</th>\n",
       "      <th>exposures</th>\n",
       "    </tr>\n",
       "  </thead>\n",
       "  <tbody>\n",
       "    <tr>\n",
       "      <th>0</th>\n",
       "      <td>0</td>\n",
       "      <td>[3, 4, 5, 6]</td>\n",
       "      <td>[5]</td>\n",
       "    </tr>\n",
       "    <tr>\n",
       "      <th>1</th>\n",
       "      <td>1</td>\n",
       "      <td>[]</td>\n",
       "      <td>[]</td>\n",
       "    </tr>\n",
       "    <tr>\n",
       "      <th>2</th>\n",
       "      <td>2</td>\n",
       "      <td>[3]</td>\n",
       "      <td>[]</td>\n",
       "    </tr>\n",
       "    <tr>\n",
       "      <th>3</th>\n",
       "      <td>3</td>\n",
       "      <td>[6, 8, 9]</td>\n",
       "      <td>[9]</td>\n",
       "    </tr>\n",
       "    <tr>\n",
       "      <th>4</th>\n",
       "      <td>4</td>\n",
       "      <td>[3]</td>\n",
       "      <td>[]</td>\n",
       "    </tr>\n",
       "    <tr>\n",
       "      <th>5</th>\n",
       "      <td>5</td>\n",
       "      <td>[0, 2, 5, 6, 7, 8]</td>\n",
       "      <td>[0, 5]</td>\n",
       "    </tr>\n",
       "    <tr>\n",
       "      <th>6</th>\n",
       "      <td>6</td>\n",
       "      <td>[2, 7]</td>\n",
       "      <td>[]</td>\n",
       "    </tr>\n",
       "    <tr>\n",
       "      <th>7</th>\n",
       "      <td>7</td>\n",
       "      <td>[0, 5, 8, 9]</td>\n",
       "      <td>[0, 9, 5]</td>\n",
       "    </tr>\n",
       "    <tr>\n",
       "      <th>8</th>\n",
       "      <td>8</td>\n",
       "      <td>[2, 7, 9]</td>\n",
       "      <td>[9]</td>\n",
       "    </tr>\n",
       "    <tr>\n",
       "      <th>9</th>\n",
       "      <td>9</td>\n",
       "      <td>[0, 5, 8, 9]</td>\n",
       "      <td>[0, 9, 5]</td>\n",
       "    </tr>\n",
       "  </tbody>\n",
       "</table>\n",
       "</div>"
      ],
      "text/plain": [
       "   person_id              places  exposures\n",
       "0          0        [3, 4, 5, 6]        [5]\n",
       "1          1                  []         []\n",
       "2          2                 [3]         []\n",
       "3          3           [6, 8, 9]        [9]\n",
       "4          4                 [3]         []\n",
       "5          5  [0, 2, 5, 6, 7, 8]     [0, 5]\n",
       "6          6              [2, 7]         []\n",
       "7          7        [0, 5, 8, 9]  [0, 9, 5]\n",
       "8          8           [2, 7, 9]        [9]\n",
       "9          9        [0, 5, 8, 9]  [0, 9, 5]"
      ]
     },
     "execution_count": 2,
     "metadata": {},
     "output_type": "execute_result"
    }
   ],
   "source": [
    "whereabouts['exposures'] = whereabouts['places'].apply(lambda x: list(set(x) & set(exposed)))\n",
    "whereabouts"
   ]
  },
  {
   "cell_type": "markdown",
   "id": "572b08db",
   "metadata": {
    "papermill": {
     "duration": 0.007814,
     "end_time": "2024-03-29T12:28:23.198458",
     "exception": false,
     "start_time": "2024-03-29T12:28:23.190644",
     "status": "completed"
    },
    "tags": []
   },
   "source": [
    "## Solution 2"
   ]
  },
  {
   "cell_type": "code",
   "execution_count": 3,
   "id": "e35330b3",
   "metadata": {
    "execution": {
     "iopub.execute_input": "2024-03-29T12:28:23.217181Z",
     "iopub.status.busy": "2024-03-29T12:28:23.216723Z",
     "iopub.status.idle": "2024-03-29T12:28:23.238369Z",
     "shell.execute_reply": "2024-03-29T12:28:23.237390Z"
    },
    "papermill": {
     "duration": 0.034798,
     "end_time": "2024-03-29T12:28:23.241755",
     "exception": false,
     "start_time": "2024-03-29T12:28:23.206957",
     "status": "completed"
    },
    "tags": []
   },
   "outputs": [
    {
     "data": {
      "text/html": [
       "<div>\n",
       "<style scoped>\n",
       "    .dataframe tbody tr th:only-of-type {\n",
       "        vertical-align: middle;\n",
       "    }\n",
       "\n",
       "    .dataframe tbody tr th {\n",
       "        vertical-align: top;\n",
       "    }\n",
       "\n",
       "    .dataframe thead th {\n",
       "        text-align: right;\n",
       "    }\n",
       "</style>\n",
       "<table border=\"1\" class=\"dataframe\">\n",
       "  <thead>\n",
       "    <tr style=\"text-align: right;\">\n",
       "      <th></th>\n",
       "      <th>person_id</th>\n",
       "      <th>places</th>\n",
       "      <th>exposures</th>\n",
       "    </tr>\n",
       "  </thead>\n",
       "  <tbody>\n",
       "    <tr>\n",
       "      <th>0</th>\n",
       "      <td>0</td>\n",
       "      <td>[3, 4, 5, 6]</td>\n",
       "      <td>[5]</td>\n",
       "    </tr>\n",
       "    <tr>\n",
       "      <th>1</th>\n",
       "      <td>1</td>\n",
       "      <td>[]</td>\n",
       "      <td>[]</td>\n",
       "    </tr>\n",
       "    <tr>\n",
       "      <th>2</th>\n",
       "      <td>2</td>\n",
       "      <td>[3]</td>\n",
       "      <td>[]</td>\n",
       "    </tr>\n",
       "    <tr>\n",
       "      <th>3</th>\n",
       "      <td>3</td>\n",
       "      <td>[6, 8, 9]</td>\n",
       "      <td>[9]</td>\n",
       "    </tr>\n",
       "    <tr>\n",
       "      <th>4</th>\n",
       "      <td>4</td>\n",
       "      <td>[3]</td>\n",
       "      <td>[]</td>\n",
       "    </tr>\n",
       "    <tr>\n",
       "      <th>5</th>\n",
       "      <td>5</td>\n",
       "      <td>[0, 2, 5, 6, 7, 8]</td>\n",
       "      <td>[0, 5]</td>\n",
       "    </tr>\n",
       "    <tr>\n",
       "      <th>6</th>\n",
       "      <td>6</td>\n",
       "      <td>[2, 7]</td>\n",
       "      <td>[]</td>\n",
       "    </tr>\n",
       "    <tr>\n",
       "      <th>7</th>\n",
       "      <td>7</td>\n",
       "      <td>[0, 5, 8, 9]</td>\n",
       "      <td>[0, 9, 5]</td>\n",
       "    </tr>\n",
       "    <tr>\n",
       "      <th>8</th>\n",
       "      <td>8</td>\n",
       "      <td>[2, 7, 9]</td>\n",
       "      <td>[9]</td>\n",
       "    </tr>\n",
       "    <tr>\n",
       "      <th>9</th>\n",
       "      <td>9</td>\n",
       "      <td>[0, 5, 8, 9]</td>\n",
       "      <td>[0, 9, 5]</td>\n",
       "    </tr>\n",
       "  </tbody>\n",
       "</table>\n",
       "</div>"
      ],
      "text/plain": [
       "   person_id              places  exposures\n",
       "0          0        [3, 4, 5, 6]        [5]\n",
       "1          1                  []         []\n",
       "2          2                 [3]         []\n",
       "3          3           [6, 8, 9]        [9]\n",
       "4          4                 [3]         []\n",
       "5          5  [0, 2, 5, 6, 7, 8]     [0, 5]\n",
       "6          6              [2, 7]         []\n",
       "7          7        [0, 5, 8, 9]  [0, 9, 5]\n",
       "8          8           [2, 7, 9]        [9]\n",
       "9          9        [0, 5, 8, 9]  [0, 9, 5]"
      ]
     },
     "execution_count": 3,
     "metadata": {},
     "output_type": "execute_result"
    }
   ],
   "source": [
    "whereabouts['exposures'] = [list(set(x) & set(exposed)) for x in whereabouts['places']]\n",
    "whereabouts"
   ]
  },
  {
   "cell_type": "markdown",
   "id": "fc8bd965",
   "metadata": {
    "papermill": {
     "duration": 0.009097,
     "end_time": "2024-03-29T12:28:23.260098",
     "exception": false,
     "start_time": "2024-03-29T12:28:23.251001",
     "status": "completed"
    },
    "tags": []
   },
   "source": [
    "# Q2 - Pickle Problem"
   ]
  },
  {
   "cell_type": "markdown",
   "id": "9d78a661",
   "metadata": {
    "papermill": {
     "duration": 0.012184,
     "end_time": "2024-03-29T12:28:23.281252",
     "exception": false,
     "start_time": "2024-03-29T12:28:23.269068",
     "status": "completed"
    },
    "tags": []
   },
   "source": [
    "Given a Series called pickle, replace NaNs using the following algorithm.\n"
   ]
  },
  {
   "cell_type": "markdown",
   "id": "988f8f3a",
   "metadata": {
    "papermill": {
     "duration": 0.010891,
     "end_time": "2024-03-29T12:28:23.302313",
     "exception": false,
     "start_time": "2024-03-29T12:28:23.291422",
     "status": "completed"
    },
    "tags": []
   },
   "source": [
    "https://www.practiceprobs.com/problemsets/python-pandas/final-boss/pickle/"
   ]
  },
  {
   "cell_type": "code",
   "execution_count": 4,
   "id": "03a3ae7d",
   "metadata": {
    "execution": {
     "iopub.execute_input": "2024-03-29T12:28:23.330594Z",
     "iopub.status.busy": "2024-03-29T12:28:23.328694Z",
     "iopub.status.idle": "2024-03-29T12:28:23.338600Z",
     "shell.execute_reply": "2024-03-29T12:28:23.337457Z"
    },
    "papermill": {
     "duration": 0.026979,
     "end_time": "2024-03-29T12:28:23.341070",
     "exception": false,
     "start_time": "2024-03-29T12:28:23.314091",
     "status": "completed"
    },
    "tags": []
   },
   "outputs": [
    {
     "data": {
      "text/plain": [
       "'\\nfor each NaN:\\n  get the nearest non NaN value before and after it\\n  if both of those values exist:\\n    replace NaN with the minimum of those two non NaN values\\n  else:\\n    replace NaN with the nearest non NaN value\\n'"
      ]
     },
     "execution_count": 4,
     "metadata": {},
     "output_type": "execute_result"
    }
   ],
   "source": [
    "'''\n",
    "for each NaN:\n",
    "  get the nearest non NaN value before and after it\n",
    "  if both of those values exist:\n",
    "    replace NaN with the minimum of those two non NaN values\n",
    "  else:\n",
    "    replace NaN with the nearest non NaN value\n",
    "'''"
   ]
  },
  {
   "cell_type": "code",
   "execution_count": 5,
   "id": "d9c51cd0",
   "metadata": {
    "execution": {
     "iopub.execute_input": "2024-03-29T12:28:23.361256Z",
     "iopub.status.busy": "2024-03-29T12:28:23.359765Z",
     "iopub.status.idle": "2024-03-29T12:28:23.374717Z",
     "shell.execute_reply": "2024-03-29T12:28:23.373252Z"
    },
    "papermill": {
     "duration": 0.027851,
     "end_time": "2024-03-29T12:28:23.377650",
     "exception": false,
     "start_time": "2024-03-29T12:28:23.349799",
     "status": "completed"
    },
    "tags": []
   },
   "outputs": [
    {
     "name": "stdout",
     "output_type": "stream",
     "text": [
      "0     1.5\n",
      "1     NaN\n",
      "2     2.3\n",
      "3     NaN\n",
      "4     NaN\n",
      "5    -3.9\n",
      "6     NaN\n",
      "7     4.5\n",
      "8     NaN\n",
      "9     NaN\n",
      "10    NaN\n",
      "11    1.9\n",
      "12    NaN\n",
      "dtype: float64\n"
     ]
    }
   ],
   "source": [
    "import numpy as np\n",
    "import pandas as pd\n",
    "\n",
    "pickle = pd.Series([1.5, np.nan, 2.3, np.nan, np.nan, -3.9, np.nan, 4.5, np.nan, np.nan, np.nan, 1.9, np.nan])\n",
    "\n",
    "print(pickle)\n",
    "# 0     1.5\n",
    "# 1     NaN\n",
    "# 2     2.3\n",
    "# 3     NaN\n",
    "# 4     NaN\n",
    "# 5    -3.9\n",
    "# 6     NaN\n",
    "# 7     4.5\n",
    "# 8     NaN\n",
    "# 9     NaN\n",
    "# 10    NaN\n",
    "# 11    1.9\n",
    "# 12    NaN\n",
    "# dtype: float64"
   ]
  },
  {
   "cell_type": "markdown",
   "id": "0a8393ec",
   "metadata": {
    "papermill": {
     "duration": 0.008432,
     "end_time": "2024-03-29T12:28:23.394899",
     "exception": false,
     "start_time": "2024-03-29T12:28:23.386467",
     "status": "completed"
    },
    "tags": []
   },
   "source": [
    "## Solution "
   ]
  },
  {
   "cell_type": "code",
   "execution_count": 6,
   "id": "1174e9b8",
   "metadata": {
    "execution": {
     "iopub.execute_input": "2024-03-29T12:28:23.416390Z",
     "iopub.status.busy": "2024-03-29T12:28:23.415569Z",
     "iopub.status.idle": "2024-03-29T12:28:23.438752Z",
     "shell.execute_reply": "2024-03-29T12:28:23.436873Z"
    },
    "papermill": {
     "duration": 0.03792,
     "end_time": "2024-03-29T12:28:23.442415",
     "exception": false,
     "start_time": "2024-03-29T12:28:23.404495",
     "status": "completed"
    },
    "tags": []
   },
   "outputs": [
    {
     "name": "stdout",
     "output_type": "stream",
     "text": [
      "0     1.5\n",
      "1     1.5\n",
      "2     2.3\n",
      "3    -3.9\n",
      "4    -3.9\n",
      "5    -3.9\n",
      "6    -3.9\n",
      "7     4.5\n",
      "8     1.9\n",
      "9     1.9\n",
      "10    1.9\n",
      "11    1.9\n",
      "12    1.9\n",
      "dtype: float64\n"
     ]
    },
    {
     "name": "stderr",
     "output_type": "stream",
     "text": [
      "/tmp/ipykernel_18/3132165669.py:2: FutureWarning: Series.fillna with 'method' is deprecated and will raise in a future version. Use obj.ffill() or obj.bfill() instead.\n",
      "  forward_filled = series.fillna(method='ffill')\n",
      "/tmp/ipykernel_18/3132165669.py:3: FutureWarning: Series.fillna with 'method' is deprecated and will raise in a future version. Use obj.ffill() or obj.bfill() instead.\n",
      "  backward_filled = series.fillna(method='bfill')\n"
     ]
    }
   ],
   "source": [
    "def fillna_custom(series):\n",
    "    forward_filled = series.fillna(method='ffill')\n",
    "    backward_filled = series.fillna(method='bfill')\n",
    "    min_filled = pd.concat([forward_filled, backward_filled], axis=1).min(axis=1)\n",
    "    return min_filled\n",
    "\n",
    "pickle_filled = fillna_custom(pickle)\n",
    "print(pickle_filled)"
   ]
  },
  {
   "cell_type": "markdown",
   "id": "ca5f87ee",
   "metadata": {
    "papermill": {
     "duration": 0.010479,
     "end_time": "2024-03-29T12:28:23.464797",
     "exception": false,
     "start_time": "2024-03-29T12:28:23.454318",
     "status": "completed"
    },
    "tags": []
   },
   "source": [
    "# Q3 - TV Commercials Problem"
   ]
  },
  {
   "cell_type": "markdown",
   "id": "35ca9d84",
   "metadata": {
    "papermill": {
     "duration": 0.01062,
     "end_time": "2024-03-29T12:28:23.485809",
     "exception": false,
     "start_time": "2024-03-29T12:28:23.475189",
     "status": "completed"
    },
    "tags": []
   },
   "source": [
    "https://www.practiceprobs.com/problemsets/python-pandas/final-boss/tv-commercials/"
   ]
  },
  {
   "cell_type": "markdown",
   "id": "ea9e44ad",
   "metadata": {
    "papermill": {
     "duration": 0.009758,
     "end_time": "2024-03-29T12:28:23.505606",
     "exception": false,
     "start_time": "2024-03-29T12:28:23.495848",
     "status": "completed"
    },
    "tags": []
   },
   "source": [
    "You own a national restaurant chain called Applewasps. To increase sales, you decide to launch a multi-regional television marketing campaign.\n",
    "\n",
    "At the end of the campaign you have a table of commercials indicating when and where each commercial aired, and a table of sales indicating when and where customers generated sales.\n",
    "\n"
   ]
  },
  {
   "cell_type": "code",
   "execution_count": 7,
   "id": "da885a21",
   "metadata": {
    "execution": {
     "iopub.execute_input": "2024-03-29T12:28:23.527287Z",
     "iopub.status.busy": "2024-03-29T12:28:23.526461Z",
     "iopub.status.idle": "2024-03-29T12:28:23.558642Z",
     "shell.execute_reply": "2024-03-29T12:28:23.557193Z"
    },
    "papermill": {
     "duration": 0.046635,
     "end_time": "2024-03-29T12:28:23.561907",
     "exception": false,
     "start_time": "2024-03-29T12:28:23.515272",
     "status": "completed"
    },
    "tags": []
   },
   "outputs": [
    {
     "name": "stdout",
     "output_type": "stream",
     "text": [
      "   commercial_id region           date_time\n",
      "0              0   west 2020-01-10 12:00:00\n",
      "1              1  north 2020-01-10 16:00:00\n",
      "2              2  south 2020-01-09 01:00:00\n",
      "3              3   east 2020-01-10 19:00:00\n",
      "4              4  south 2020-01-08 22:00:00\n",
      "5              5   east 2020-01-03 02:00:00\n",
      "6              6  south 2020-01-07 15:00:00\n",
      "7              7   west 2020-01-05 22:00:00\n",
      "8              8   east 2020-01-03 04:00:00\n",
      "9              9   west 2020-01-05 04:00:00\n",
      "   sale_id region           date_time  revenue\n",
      "0        0   west 2020-01-05 08:00:00    20.14\n",
      "1        1   east 2020-01-08 22:00:00    22.98\n",
      "2        2  south 2020-01-07 21:00:00    22.98\n",
      "3        3   west 2020-01-05 17:00:00    16.82\n",
      "4        4   west 2020-01-02 12:00:00    20.47\n",
      "5        5   east 2020-01-10 09:00:00    26.93\n",
      "6        6  north 2020-01-08 19:00:00    20.25\n",
      "7        7  south 2020-01-01 08:00:00    23.38\n",
      "8        8  south 2020-01-01 17:00:00    25.74\n",
      "9        9  south 2020-01-10 22:00:00    22.28\n"
     ]
    }
   ],
   "source": [
    "import numpy as np\n",
    "import pandas as pd\n",
    "\n",
    "generator = np.random.default_rng(5555)\n",
    "regions = ['north', 'south', 'east', 'west']\n",
    "\n",
    "commercials = pd.DataFrame({\n",
    "    'commercial_id': range(10),\n",
    "    'region': generator.choice(regions, size=10),\n",
    "    'date_time': pd.to_datetime('2020-01-01') + pd.to_timedelta(generator.integers(240, size=10), unit='h')\n",
    "})\n",
    "\n",
    "sales = pd.DataFrame({\n",
    "    'sale_id': range(10),\n",
    "    'region': generator.choice(regions, size=10),\n",
    "    'date_time': pd.to_datetime('2020-01-01') + pd.to_timedelta(generator.integers(240, size=10), unit='h'),\n",
    "    'revenue': np.round(generator.normal(loc=20, scale=5, size=10), 2)\n",
    "})\n",
    "\n",
    "print(commercials)\n",
    "#    commercial_id region           date_time\n",
    "# 0              0   west 2020-01-10 12:00:00\n",
    "# 1              1  north 2020-01-10 16:00:00\n",
    "# 2              2  south 2020-01-09 01:00:00\n",
    "# 3              3   east 2020-01-10 19:00:00\n",
    "# 4              4  south 2020-01-08 22:00:00\n",
    "# 5              5   east 2020-01-03 02:00:00\n",
    "# 6              6  south 2020-01-07 15:00:00\n",
    "# 7              7   west 2020-01-05 22:00:00\n",
    "# 8              8   east 2020-01-03 04:00:00\n",
    "# 9              9   west 2020-01-05 04:00:00\n",
    "\n",
    "print(sales)\n",
    "#    sale_id region           date_time  revenue\n",
    "# 0        0   west 2020-01-05 08:00:00    20.14\n",
    "# 1        1   east 2020-01-08 22:00:00    22.98\n",
    "# 2        2  south 2020-01-07 21:00:00    22.98\n",
    "# 3        3   west 2020-01-05 17:00:00    16.82\n",
    "# 4        4   west 2020-01-02 12:00:00    20.47\n",
    "# 5        5   east 2020-01-10 09:00:00    26.93\n",
    "# 6        6  north 2020-01-08 19:00:00    20.25\n",
    "# 7        7  south 2020-01-01 08:00:00    23.38\n",
    "# 8        8  south 2020-01-01 17:00:00    25.74\n",
    "# 9        9  south 2020-01-10 22:00:00    22.28"
   ]
  },
  {
   "cell_type": "markdown",
   "id": "0bca8e76",
   "metadata": {
    "papermill": {
     "duration": 0.009606,
     "end_time": "2024-03-29T12:28:23.580997",
     "exception": false,
     "start_time": "2024-03-29T12:28:23.571391",
     "status": "completed"
    },
    "tags": []
   },
   "source": [
    "In order to analyze the performance of each commercial, map each sale to the commercial that aired prior to the sale, in the same region.\n",
    "\n"
   ]
  },
  {
   "cell_type": "markdown",
   "id": "01d2afeb",
   "metadata": {
    "papermill": {
     "duration": 0.009204,
     "end_time": "2024-03-29T12:28:23.600606",
     "exception": false,
     "start_time": "2024-03-29T12:28:23.591402",
     "status": "completed"
    },
    "tags": []
   },
   "source": [
    "## Solution"
   ]
  },
  {
   "cell_type": "code",
   "execution_count": 8,
   "id": "9e801673",
   "metadata": {
    "execution": {
     "iopub.execute_input": "2024-03-29T12:28:23.630038Z",
     "iopub.status.busy": "2024-03-29T12:28:23.629484Z",
     "iopub.status.idle": "2024-03-29T12:28:23.647859Z",
     "shell.execute_reply": "2024-03-29T12:28:23.646520Z"
    },
    "papermill": {
     "duration": 0.035683,
     "end_time": "2024-03-29T12:28:23.650634",
     "exception": false,
     "start_time": "2024-03-29T12:28:23.614951",
     "status": "completed"
    },
    "tags": []
   },
   "outputs": [
    {
     "data": {
      "text/html": [
       "<div>\n",
       "<style scoped>\n",
       "    .dataframe tbody tr th:only-of-type {\n",
       "        vertical-align: middle;\n",
       "    }\n",
       "\n",
       "    .dataframe tbody tr th {\n",
       "        vertical-align: top;\n",
       "    }\n",
       "\n",
       "    .dataframe thead th {\n",
       "        text-align: right;\n",
       "    }\n",
       "</style>\n",
       "<table border=\"1\" class=\"dataframe\">\n",
       "  <thead>\n",
       "    <tr style=\"text-align: right;\">\n",
       "      <th></th>\n",
       "      <th>commercial_id</th>\n",
       "      <th>region</th>\n",
       "      <th>date_time</th>\n",
       "    </tr>\n",
       "  </thead>\n",
       "  <tbody>\n",
       "    <tr>\n",
       "      <th>5</th>\n",
       "      <td>5</td>\n",
       "      <td>east</td>\n",
       "      <td>2020-01-03 02:00:00</td>\n",
       "    </tr>\n",
       "    <tr>\n",
       "      <th>8</th>\n",
       "      <td>8</td>\n",
       "      <td>east</td>\n",
       "      <td>2020-01-03 04:00:00</td>\n",
       "    </tr>\n",
       "    <tr>\n",
       "      <th>9</th>\n",
       "      <td>9</td>\n",
       "      <td>west</td>\n",
       "      <td>2020-01-05 04:00:00</td>\n",
       "    </tr>\n",
       "    <tr>\n",
       "      <th>7</th>\n",
       "      <td>7</td>\n",
       "      <td>west</td>\n",
       "      <td>2020-01-05 22:00:00</td>\n",
       "    </tr>\n",
       "    <tr>\n",
       "      <th>6</th>\n",
       "      <td>6</td>\n",
       "      <td>south</td>\n",
       "      <td>2020-01-07 15:00:00</td>\n",
       "    </tr>\n",
       "    <tr>\n",
       "      <th>4</th>\n",
       "      <td>4</td>\n",
       "      <td>south</td>\n",
       "      <td>2020-01-08 22:00:00</td>\n",
       "    </tr>\n",
       "    <tr>\n",
       "      <th>2</th>\n",
       "      <td>2</td>\n",
       "      <td>south</td>\n",
       "      <td>2020-01-09 01:00:00</td>\n",
       "    </tr>\n",
       "    <tr>\n",
       "      <th>0</th>\n",
       "      <td>0</td>\n",
       "      <td>west</td>\n",
       "      <td>2020-01-10 12:00:00</td>\n",
       "    </tr>\n",
       "    <tr>\n",
       "      <th>1</th>\n",
       "      <td>1</td>\n",
       "      <td>north</td>\n",
       "      <td>2020-01-10 16:00:00</td>\n",
       "    </tr>\n",
       "    <tr>\n",
       "      <th>3</th>\n",
       "      <td>3</td>\n",
       "      <td>east</td>\n",
       "      <td>2020-01-10 19:00:00</td>\n",
       "    </tr>\n",
       "  </tbody>\n",
       "</table>\n",
       "</div>"
      ],
      "text/plain": [
       "   commercial_id region           date_time\n",
       "5              5   east 2020-01-03 02:00:00\n",
       "8              8   east 2020-01-03 04:00:00\n",
       "9              9   west 2020-01-05 04:00:00\n",
       "7              7   west 2020-01-05 22:00:00\n",
       "6              6  south 2020-01-07 15:00:00\n",
       "4              4  south 2020-01-08 22:00:00\n",
       "2              2  south 2020-01-09 01:00:00\n",
       "0              0   west 2020-01-10 12:00:00\n",
       "1              1  north 2020-01-10 16:00:00\n",
       "3              3   east 2020-01-10 19:00:00"
      ]
     },
     "execution_count": 8,
     "metadata": {},
     "output_type": "execute_result"
    }
   ],
   "source": [
    "commercials.sort_values('date_time', inplace=True)\n",
    "commercials"
   ]
  },
  {
   "cell_type": "code",
   "execution_count": 9,
   "id": "1a86eacc",
   "metadata": {
    "execution": {
     "iopub.execute_input": "2024-03-29T12:28:23.671157Z",
     "iopub.status.busy": "2024-03-29T12:28:23.670702Z",
     "iopub.status.idle": "2024-03-29T12:28:23.689491Z",
     "shell.execute_reply": "2024-03-29T12:28:23.688115Z"
    },
    "papermill": {
     "duration": 0.032072,
     "end_time": "2024-03-29T12:28:23.691962",
     "exception": false,
     "start_time": "2024-03-29T12:28:23.659890",
     "status": "completed"
    },
    "tags": []
   },
   "outputs": [
    {
     "data": {
      "text/html": [
       "<div>\n",
       "<style scoped>\n",
       "    .dataframe tbody tr th:only-of-type {\n",
       "        vertical-align: middle;\n",
       "    }\n",
       "\n",
       "    .dataframe tbody tr th {\n",
       "        vertical-align: top;\n",
       "    }\n",
       "\n",
       "    .dataframe thead th {\n",
       "        text-align: right;\n",
       "    }\n",
       "</style>\n",
       "<table border=\"1\" class=\"dataframe\">\n",
       "  <thead>\n",
       "    <tr style=\"text-align: right;\">\n",
       "      <th></th>\n",
       "      <th>sale_id</th>\n",
       "      <th>region</th>\n",
       "      <th>date_time</th>\n",
       "      <th>revenue</th>\n",
       "    </tr>\n",
       "  </thead>\n",
       "  <tbody>\n",
       "    <tr>\n",
       "      <th>7</th>\n",
       "      <td>7</td>\n",
       "      <td>south</td>\n",
       "      <td>2020-01-01 08:00:00</td>\n",
       "      <td>23.38</td>\n",
       "    </tr>\n",
       "    <tr>\n",
       "      <th>8</th>\n",
       "      <td>8</td>\n",
       "      <td>south</td>\n",
       "      <td>2020-01-01 17:00:00</td>\n",
       "      <td>25.74</td>\n",
       "    </tr>\n",
       "    <tr>\n",
       "      <th>4</th>\n",
       "      <td>4</td>\n",
       "      <td>west</td>\n",
       "      <td>2020-01-02 12:00:00</td>\n",
       "      <td>20.47</td>\n",
       "    </tr>\n",
       "    <tr>\n",
       "      <th>0</th>\n",
       "      <td>0</td>\n",
       "      <td>west</td>\n",
       "      <td>2020-01-05 08:00:00</td>\n",
       "      <td>20.14</td>\n",
       "    </tr>\n",
       "    <tr>\n",
       "      <th>3</th>\n",
       "      <td>3</td>\n",
       "      <td>west</td>\n",
       "      <td>2020-01-05 17:00:00</td>\n",
       "      <td>16.82</td>\n",
       "    </tr>\n",
       "    <tr>\n",
       "      <th>2</th>\n",
       "      <td>2</td>\n",
       "      <td>south</td>\n",
       "      <td>2020-01-07 21:00:00</td>\n",
       "      <td>22.98</td>\n",
       "    </tr>\n",
       "    <tr>\n",
       "      <th>6</th>\n",
       "      <td>6</td>\n",
       "      <td>north</td>\n",
       "      <td>2020-01-08 19:00:00</td>\n",
       "      <td>20.25</td>\n",
       "    </tr>\n",
       "    <tr>\n",
       "      <th>1</th>\n",
       "      <td>1</td>\n",
       "      <td>east</td>\n",
       "      <td>2020-01-08 22:00:00</td>\n",
       "      <td>22.98</td>\n",
       "    </tr>\n",
       "    <tr>\n",
       "      <th>5</th>\n",
       "      <td>5</td>\n",
       "      <td>east</td>\n",
       "      <td>2020-01-10 09:00:00</td>\n",
       "      <td>26.93</td>\n",
       "    </tr>\n",
       "    <tr>\n",
       "      <th>9</th>\n",
       "      <td>9</td>\n",
       "      <td>south</td>\n",
       "      <td>2020-01-10 22:00:00</td>\n",
       "      <td>22.28</td>\n",
       "    </tr>\n",
       "  </tbody>\n",
       "</table>\n",
       "</div>"
      ],
      "text/plain": [
       "   sale_id region           date_time  revenue\n",
       "7        7  south 2020-01-01 08:00:00    23.38\n",
       "8        8  south 2020-01-01 17:00:00    25.74\n",
       "4        4   west 2020-01-02 12:00:00    20.47\n",
       "0        0   west 2020-01-05 08:00:00    20.14\n",
       "3        3   west 2020-01-05 17:00:00    16.82\n",
       "2        2  south 2020-01-07 21:00:00    22.98\n",
       "6        6  north 2020-01-08 19:00:00    20.25\n",
       "1        1   east 2020-01-08 22:00:00    22.98\n",
       "5        5   east 2020-01-10 09:00:00    26.93\n",
       "9        9  south 2020-01-10 22:00:00    22.28"
      ]
     },
     "execution_count": 9,
     "metadata": {},
     "output_type": "execute_result"
    }
   ],
   "source": [
    "sales.sort_values('date_time', inplace=True)\n",
    "sales"
   ]
  },
  {
   "cell_type": "code",
   "execution_count": 10,
   "id": "a98c7931",
   "metadata": {
    "execution": {
     "iopub.execute_input": "2024-03-29T12:28:23.713656Z",
     "iopub.status.busy": "2024-03-29T12:28:23.713146Z",
     "iopub.status.idle": "2024-03-29T12:28:23.747109Z",
     "shell.execute_reply": "2024-03-29T12:28:23.745816Z"
    },
    "papermill": {
     "duration": 0.048371,
     "end_time": "2024-03-29T12:28:23.750149",
     "exception": false,
     "start_time": "2024-03-29T12:28:23.701778",
     "status": "completed"
    },
    "tags": []
   },
   "outputs": [
    {
     "data": {
      "text/html": [
       "<div>\n",
       "<style scoped>\n",
       "    .dataframe tbody tr th:only-of-type {\n",
       "        vertical-align: middle;\n",
       "    }\n",
       "\n",
       "    .dataframe tbody tr th {\n",
       "        vertical-align: top;\n",
       "    }\n",
       "\n",
       "    .dataframe thead th {\n",
       "        text-align: right;\n",
       "    }\n",
       "</style>\n",
       "<table border=\"1\" class=\"dataframe\">\n",
       "  <thead>\n",
       "    <tr style=\"text-align: right;\">\n",
       "      <th></th>\n",
       "      <th>sale_id</th>\n",
       "      <th>region</th>\n",
       "      <th>date_time</th>\n",
       "      <th>revenue</th>\n",
       "      <th>commercial_id</th>\n",
       "    </tr>\n",
       "  </thead>\n",
       "  <tbody>\n",
       "    <tr>\n",
       "      <th>0</th>\n",
       "      <td>7</td>\n",
       "      <td>south</td>\n",
       "      <td>2020-01-01 08:00:00</td>\n",
       "      <td>23.38</td>\n",
       "      <td>NaN</td>\n",
       "    </tr>\n",
       "    <tr>\n",
       "      <th>1</th>\n",
       "      <td>8</td>\n",
       "      <td>south</td>\n",
       "      <td>2020-01-01 17:00:00</td>\n",
       "      <td>25.74</td>\n",
       "      <td>NaN</td>\n",
       "    </tr>\n",
       "    <tr>\n",
       "      <th>2</th>\n",
       "      <td>4</td>\n",
       "      <td>west</td>\n",
       "      <td>2020-01-02 12:00:00</td>\n",
       "      <td>20.47</td>\n",
       "      <td>NaN</td>\n",
       "    </tr>\n",
       "    <tr>\n",
       "      <th>3</th>\n",
       "      <td>0</td>\n",
       "      <td>west</td>\n",
       "      <td>2020-01-05 08:00:00</td>\n",
       "      <td>20.14</td>\n",
       "      <td>9.0</td>\n",
       "    </tr>\n",
       "    <tr>\n",
       "      <th>4</th>\n",
       "      <td>3</td>\n",
       "      <td>west</td>\n",
       "      <td>2020-01-05 17:00:00</td>\n",
       "      <td>16.82</td>\n",
       "      <td>9.0</td>\n",
       "    </tr>\n",
       "    <tr>\n",
       "      <th>5</th>\n",
       "      <td>2</td>\n",
       "      <td>south</td>\n",
       "      <td>2020-01-07 21:00:00</td>\n",
       "      <td>22.98</td>\n",
       "      <td>6.0</td>\n",
       "    </tr>\n",
       "    <tr>\n",
       "      <th>6</th>\n",
       "      <td>6</td>\n",
       "      <td>north</td>\n",
       "      <td>2020-01-08 19:00:00</td>\n",
       "      <td>20.25</td>\n",
       "      <td>NaN</td>\n",
       "    </tr>\n",
       "    <tr>\n",
       "      <th>7</th>\n",
       "      <td>1</td>\n",
       "      <td>east</td>\n",
       "      <td>2020-01-08 22:00:00</td>\n",
       "      <td>22.98</td>\n",
       "      <td>8.0</td>\n",
       "    </tr>\n",
       "    <tr>\n",
       "      <th>8</th>\n",
       "      <td>5</td>\n",
       "      <td>east</td>\n",
       "      <td>2020-01-10 09:00:00</td>\n",
       "      <td>26.93</td>\n",
       "      <td>8.0</td>\n",
       "    </tr>\n",
       "    <tr>\n",
       "      <th>9</th>\n",
       "      <td>9</td>\n",
       "      <td>south</td>\n",
       "      <td>2020-01-10 22:00:00</td>\n",
       "      <td>22.28</td>\n",
       "      <td>2.0</td>\n",
       "    </tr>\n",
       "  </tbody>\n",
       "</table>\n",
       "</div>"
      ],
      "text/plain": [
       "   sale_id region           date_time  revenue  commercial_id\n",
       "0        7  south 2020-01-01 08:00:00    23.38            NaN\n",
       "1        8  south 2020-01-01 17:00:00    25.74            NaN\n",
       "2        4   west 2020-01-02 12:00:00    20.47            NaN\n",
       "3        0   west 2020-01-05 08:00:00    20.14            9.0\n",
       "4        3   west 2020-01-05 17:00:00    16.82            9.0\n",
       "5        2  south 2020-01-07 21:00:00    22.98            6.0\n",
       "6        6  north 2020-01-08 19:00:00    20.25            NaN\n",
       "7        1   east 2020-01-08 22:00:00    22.98            8.0\n",
       "8        5   east 2020-01-10 09:00:00    26.93            8.0\n",
       "9        9  south 2020-01-10 22:00:00    22.28            2.0"
      ]
     },
     "execution_count": 10,
     "metadata": {},
     "output_type": "execute_result"
    }
   ],
   "source": [
    "pd.merge_asof(left=sales, right=commercials, on='date_time', by='region', direction='backward')"
   ]
  }
 ],
 "metadata": {
  "kaggle": {
   "accelerator": "none",
   "dataSources": [],
   "dockerImageVersionId": 30673,
   "isGpuEnabled": false,
   "isInternetEnabled": true,
   "language": "python",
   "sourceType": "notebook"
  },
  "kernelspec": {
   "display_name": "Python 3",
   "language": "python",
   "name": "python3"
  },
  "language_info": {
   "codemirror_mode": {
    "name": "ipython",
    "version": 3
   },
   "file_extension": ".py",
   "mimetype": "text/x-python",
   "name": "python",
   "nbconvert_exporter": "python",
   "pygments_lexer": "ipython3",
   "version": "3.10.13"
  },
  "papermill": {
   "default_parameters": {},
   "duration": 5.939639,
   "end_time": "2024-03-29T12:28:24.285526",
   "environment_variables": {},
   "exception": null,
   "input_path": "__notebook__.ipynb",
   "output_path": "__notebook__.ipynb",
   "parameters": {},
   "start_time": "2024-03-29T12:28:18.345887",
   "version": "2.5.0"
  }
 },
 "nbformat": 4,
 "nbformat_minor": 5
}
