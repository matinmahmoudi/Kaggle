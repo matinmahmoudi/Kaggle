{
 "cells": [
  {
   "cell_type": "markdown",
   "id": "d89cdee4",
   "metadata": {
    "papermill": {
     "duration": 0.003625,
     "end_time": "2024-03-29T12:18:08.534077",
     "exception": false,
     "start_time": "2024-03-29T12:18:08.530452",
     "status": "completed"
    },
    "tags": []
   },
   "source": [
    "# Pandas Fun Problems - Final Boss\n",
    "\n",
    "Welcome to the ultimate challenge in our Pandas series! This notebook is the pinnacle of our journey through data manipulation with Pandas, where you'll face the most demanding problems yet. Designed for those who seek to test their limits, this set of problems is dubbed the \"Final Boss\" for good reason.\n",
    "\n",
    "Before attempting these challenges, make sure you have worked through the previous notebooks in this series. It is particularly crucial that you've completed the **[Pandas Fun Problems - Advanced](https://www.kaggle.com/code/matinmahmoudi/pandas-fun-problems-advanced/)** notebook. The advanced notebook covers sophisticated techniques and operations that will be essential for conquering the challenges ahead.\n",
    "\n",
    "- **Practice Problems Source:** [Final Boss Problems](https://www.practiceprobs.com/problemsets/python-pandas/final-boss/)\n",
    "- **YouTube Tutorial:** [Video Guide](https://www.youtube.com/watch?v=8xUgesdShE8)\n",
    "\n",
    "\n",
    "As always, we encourage you to share your solutions, thoughts, and questions in the comments. Your engagement not only enriches your learning experience but also supports others on their path to mastering Pandas.\n",
    "\n",
    "### **Found this notebook challenging and rewarding? Show your support with an upvote!**\n"
   ]
  },
  {
   "cell_type": "markdown",
   "id": "2c8c8cfa",
   "metadata": {
    "papermill": {
     "duration": 0.002882,
     "end_time": "2024-03-29T12:18:08.540466",
     "exception": false,
     "start_time": "2024-03-29T12:18:08.537584",
     "status": "completed"
    },
    "tags": []
   },
   "source": [
    "# Q1 - COVID Tracing Problem"
   ]
  },
  {
   "cell_type": "markdown",
   "id": "f32b18af",
   "metadata": {
    "papermill": {
     "duration": 0.002582,
     "end_time": "2024-03-29T12:18:08.545949",
     "exception": false,
     "start_time": "2024-03-29T12:18:08.543367",
     "status": "completed"
    },
    "tags": []
   },
   "source": [
    "https://www.practiceprobs.com/problemsets/python-pandas/final-boss/covid-tracing/"
   ]
  },
  {
   "cell_type": "markdown",
   "id": "57e073d3",
   "metadata": {
    "papermill": {
     "duration": 0.002505,
     "end_time": "2024-03-29T12:18:08.551249",
     "exception": false,
     "start_time": "2024-03-29T12:18:08.548744",
     "status": "completed"
    },
    "tags": []
   },
   "source": [
    "You track the whereabouts of 100 individuals in a DataFrame called whereabouts. Each person has a corresponding list of place ids indicating the places they’ve visited in the recent week. You also track which places have been exposed to COVID-19 in a list called exposed 😷.\n"
   ]
  },
  {
   "cell_type": "code",
   "execution_count": 1,
   "id": "ad2864e2",
   "metadata": {
    "execution": {
     "iopub.execute_input": "2024-03-29T12:18:08.559227Z",
     "iopub.status.busy": "2024-03-29T12:18:08.558585Z",
     "iopub.status.idle": "2024-03-29T12:18:09.418239Z",
     "shell.execute_reply": "2024-03-29T12:18:09.416732Z"
    },
    "papermill": {
     "duration": 0.86652,
     "end_time": "2024-03-29T12:18:09.420499",
     "exception": false,
     "start_time": "2024-03-29T12:18:08.553979",
     "status": "completed"
    },
    "tags": []
   },
   "outputs": [
    {
     "name": "stdout",
     "output_type": "stream",
     "text": [
      "   person_id              places\n",
      "0          0        [3, 4, 5, 6]\n",
      "1          1                  []\n",
      "2          2                 [3]\n",
      "3          3           [6, 8, 9]\n",
      "4          4                 [3]\n",
      "5          5  [0, 2, 5, 6, 7, 8]\n",
      "6          6              [2, 7]\n",
      "7          7        [0, 5, 8, 9]\n",
      "8          8           [2, 7, 9]\n",
      "9          9        [0, 5, 8, 9]\n"
     ]
    }
   ],
   "source": [
    "import numpy as np\n",
    "import pandas as pd\n",
    "\n",
    "# exposed places\n",
    "exposed = [0,5,9]\n",
    "\n",
    "# whereabouts of each person\n",
    "generator = np.random.default_rng(2468)\n",
    "Nplaces = 10\n",
    "Npersons = 10\n",
    "place_ids = np.arange(Nplaces)\n",
    "visits = generator.choice(place_ids, size=3*Nplaces, replace=True)\n",
    "split_idxs = np.sort(generator.choice(len(visits), size=9, replace=True))\n",
    "whereabouts = pd.DataFrame({\n",
    "    'person_id': range(Npersons),\n",
    "    'places': [np.unique(x).tolist() for x in np.array_split(visits, split_idxs)]\n",
    "})\n",
    "\n",
    "print(whereabouts)\n",
    "#    person_id              places\n",
    "# 0          0        [3, 4, 5, 6]\n",
    "# 1          1                  []\n",
    "# 2          2                 [3]\n",
    "# 3          3           [6, 8, 9]\n",
    "# 4          4                 [3]\n",
    "# 5          5  [0, 2, 5, 6, 7, 8]\n",
    "# 6          6              [2, 7]\n",
    "# 7          7        [0, 5, 8, 9]\n",
    "# 8          8           [2, 7, 9]\n",
    "# 9          9        [0, 5, 8, 9]"
   ]
  },
  {
   "cell_type": "markdown",
   "id": "8facd313",
   "metadata": {
    "papermill": {
     "duration": 0.002776,
     "end_time": "2024-03-29T12:18:09.426425",
     "exception": false,
     "start_time": "2024-03-29T12:18:09.423649",
     "status": "completed"
    },
    "tags": []
   },
   "source": [
    "For each person, identify the places they visited which have been exposed. Make this a new list-column in whereabouts called exposures.\n",
    "\n"
   ]
  },
  {
   "cell_type": "markdown",
   "id": "52e89cc6",
   "metadata": {
    "papermill": {
     "duration": 0.002628,
     "end_time": "2024-03-29T12:18:09.431957",
     "exception": false,
     "start_time": "2024-03-29T12:18:09.429329",
     "status": "completed"
    },
    "tags": []
   },
   "source": [
    "## Solution 1"
   ]
  },
  {
   "cell_type": "code",
   "execution_count": 2,
   "id": "18192028",
   "metadata": {
    "execution": {
     "iopub.execute_input": "2024-03-29T12:18:09.440092Z",
     "iopub.status.busy": "2024-03-29T12:18:09.439116Z",
     "iopub.status.idle": "2024-03-29T12:18:09.462961Z",
     "shell.execute_reply": "2024-03-29T12:18:09.461923Z"
    },
    "papermill": {
     "duration": 0.030541,
     "end_time": "2024-03-29T12:18:09.465407",
     "exception": false,
     "start_time": "2024-03-29T12:18:09.434866",
     "status": "completed"
    },
    "tags": []
   },
   "outputs": [
    {
     "data": {
      "text/html": [
       "<div>\n",
       "<style scoped>\n",
       "    .dataframe tbody tr th:only-of-type {\n",
       "        vertical-align: middle;\n",
       "    }\n",
       "\n",
       "    .dataframe tbody tr th {\n",
       "        vertical-align: top;\n",
       "    }\n",
       "\n",
       "    .dataframe thead th {\n",
       "        text-align: right;\n",
       "    }\n",
       "</style>\n",
       "<table border=\"1\" class=\"dataframe\">\n",
       "  <thead>\n",
       "    <tr style=\"text-align: right;\">\n",
       "      <th></th>\n",
       "      <th>person_id</th>\n",
       "      <th>places</th>\n",
       "      <th>exposures</th>\n",
       "    </tr>\n",
       "  </thead>\n",
       "  <tbody>\n",
       "    <tr>\n",
       "      <th>0</th>\n",
       "      <td>0</td>\n",
       "      <td>[3, 4, 5, 6]</td>\n",
       "      <td>[5]</td>\n",
       "    </tr>\n",
       "    <tr>\n",
       "      <th>1</th>\n",
       "      <td>1</td>\n",
       "      <td>[]</td>\n",
       "      <td>[]</td>\n",
       "    </tr>\n",
       "    <tr>\n",
       "      <th>2</th>\n",
       "      <td>2</td>\n",
       "      <td>[3]</td>\n",
       "      <td>[]</td>\n",
       "    </tr>\n",
       "    <tr>\n",
       "      <th>3</th>\n",
       "      <td>3</td>\n",
       "      <td>[6, 8, 9]</td>\n",
       "      <td>[9]</td>\n",
       "    </tr>\n",
       "    <tr>\n",
       "      <th>4</th>\n",
       "      <td>4</td>\n",
       "      <td>[3]</td>\n",
       "      <td>[]</td>\n",
       "    </tr>\n",
       "    <tr>\n",
       "      <th>5</th>\n",
       "      <td>5</td>\n",
       "      <td>[0, 2, 5, 6, 7, 8]</td>\n",
       "      <td>[0, 5]</td>\n",
       "    </tr>\n",
       "    <tr>\n",
       "      <th>6</th>\n",
       "      <td>6</td>\n",
       "      <td>[2, 7]</td>\n",
       "      <td>[]</td>\n",
       "    </tr>\n",
       "    <tr>\n",
       "      <th>7</th>\n",
       "      <td>7</td>\n",
       "      <td>[0, 5, 8, 9]</td>\n",
       "      <td>[0, 9, 5]</td>\n",
       "    </tr>\n",
       "    <tr>\n",
       "      <th>8</th>\n",
       "      <td>8</td>\n",
       "      <td>[2, 7, 9]</td>\n",
       "      <td>[9]</td>\n",
       "    </tr>\n",
       "    <tr>\n",
       "      <th>9</th>\n",
       "      <td>9</td>\n",
       "      <td>[0, 5, 8, 9]</td>\n",
       "      <td>[0, 9, 5]</td>\n",
       "    </tr>\n",
       "  </tbody>\n",
       "</table>\n",
       "</div>"
      ],
      "text/plain": [
       "   person_id              places  exposures\n",
       "0          0        [3, 4, 5, 6]        [5]\n",
       "1          1                  []         []\n",
       "2          2                 [3]         []\n",
       "3          3           [6, 8, 9]        [9]\n",
       "4          4                 [3]         []\n",
       "5          5  [0, 2, 5, 6, 7, 8]     [0, 5]\n",
       "6          6              [2, 7]         []\n",
       "7          7        [0, 5, 8, 9]  [0, 9, 5]\n",
       "8          8           [2, 7, 9]        [9]\n",
       "9          9        [0, 5, 8, 9]  [0, 9, 5]"
      ]
     },
     "execution_count": 2,
     "metadata": {},
     "output_type": "execute_result"
    }
   ],
   "source": [
    "whereabouts['exposures'] = whereabouts['places'].apply(lambda x: list(set(x) & set(exposed)))\n",
    "whereabouts"
   ]
  },
  {
   "cell_type": "markdown",
   "id": "6cbff209",
   "metadata": {
    "papermill": {
     "duration": 0.003068,
     "end_time": "2024-03-29T12:18:09.471910",
     "exception": false,
     "start_time": "2024-03-29T12:18:09.468842",
     "status": "completed"
    },
    "tags": []
   },
   "source": [
    "## Solution 2"
   ]
  },
  {
   "cell_type": "code",
   "execution_count": 3,
   "id": "b0b322a8",
   "metadata": {
    "execution": {
     "iopub.execute_input": "2024-03-29T12:18:09.480420Z",
     "iopub.status.busy": "2024-03-29T12:18:09.479766Z",
     "iopub.status.idle": "2024-03-29T12:18:09.496339Z",
     "shell.execute_reply": "2024-03-29T12:18:09.495226Z"
    },
    "papermill": {
     "duration": 0.023488,
     "end_time": "2024-03-29T12:18:09.498621",
     "exception": false,
     "start_time": "2024-03-29T12:18:09.475133",
     "status": "completed"
    },
    "tags": []
   },
   "outputs": [
    {
     "data": {
      "text/html": [
       "<div>\n",
       "<style scoped>\n",
       "    .dataframe tbody tr th:only-of-type {\n",
       "        vertical-align: middle;\n",
       "    }\n",
       "\n",
       "    .dataframe tbody tr th {\n",
       "        vertical-align: top;\n",
       "    }\n",
       "\n",
       "    .dataframe thead th {\n",
       "        text-align: right;\n",
       "    }\n",
       "</style>\n",
       "<table border=\"1\" class=\"dataframe\">\n",
       "  <thead>\n",
       "    <tr style=\"text-align: right;\">\n",
       "      <th></th>\n",
       "      <th>person_id</th>\n",
       "      <th>places</th>\n",
       "      <th>exposures</th>\n",
       "    </tr>\n",
       "  </thead>\n",
       "  <tbody>\n",
       "    <tr>\n",
       "      <th>0</th>\n",
       "      <td>0</td>\n",
       "      <td>[3, 4, 5, 6]</td>\n",
       "      <td>[5]</td>\n",
       "    </tr>\n",
       "    <tr>\n",
       "      <th>1</th>\n",
       "      <td>1</td>\n",
       "      <td>[]</td>\n",
       "      <td>[]</td>\n",
       "    </tr>\n",
       "    <tr>\n",
       "      <th>2</th>\n",
       "      <td>2</td>\n",
       "      <td>[3]</td>\n",
       "      <td>[]</td>\n",
       "    </tr>\n",
       "    <tr>\n",
       "      <th>3</th>\n",
       "      <td>3</td>\n",
       "      <td>[6, 8, 9]</td>\n",
       "      <td>[9]</td>\n",
       "    </tr>\n",
       "    <tr>\n",
       "      <th>4</th>\n",
       "      <td>4</td>\n",
       "      <td>[3]</td>\n",
       "      <td>[]</td>\n",
       "    </tr>\n",
       "    <tr>\n",
       "      <th>5</th>\n",
       "      <td>5</td>\n",
       "      <td>[0, 2, 5, 6, 7, 8]</td>\n",
       "      <td>[0, 5]</td>\n",
       "    </tr>\n",
       "    <tr>\n",
       "      <th>6</th>\n",
       "      <td>6</td>\n",
       "      <td>[2, 7]</td>\n",
       "      <td>[]</td>\n",
       "    </tr>\n",
       "    <tr>\n",
       "      <th>7</th>\n",
       "      <td>7</td>\n",
       "      <td>[0, 5, 8, 9]</td>\n",
       "      <td>[0, 9, 5]</td>\n",
       "    </tr>\n",
       "    <tr>\n",
       "      <th>8</th>\n",
       "      <td>8</td>\n",
       "      <td>[2, 7, 9]</td>\n",
       "      <td>[9]</td>\n",
       "    </tr>\n",
       "    <tr>\n",
       "      <th>9</th>\n",
       "      <td>9</td>\n",
       "      <td>[0, 5, 8, 9]</td>\n",
       "      <td>[0, 9, 5]</td>\n",
       "    </tr>\n",
       "  </tbody>\n",
       "</table>\n",
       "</div>"
      ],
      "text/plain": [
       "   person_id              places  exposures\n",
       "0          0        [3, 4, 5, 6]        [5]\n",
       "1          1                  []         []\n",
       "2          2                 [3]         []\n",
       "3          3           [6, 8, 9]        [9]\n",
       "4          4                 [3]         []\n",
       "5          5  [0, 2, 5, 6, 7, 8]     [0, 5]\n",
       "6          6              [2, 7]         []\n",
       "7          7        [0, 5, 8, 9]  [0, 9, 5]\n",
       "8          8           [2, 7, 9]        [9]\n",
       "9          9        [0, 5, 8, 9]  [0, 9, 5]"
      ]
     },
     "execution_count": 3,
     "metadata": {},
     "output_type": "execute_result"
    }
   ],
   "source": [
    "whereabouts['exposures'] = [list(set(x) & set(exposed)) for x in whereabouts['places']]\n",
    "whereabouts"
   ]
  },
  {
   "cell_type": "code",
   "execution_count": null,
   "id": "31cb9873",
   "metadata": {
    "papermill": {
     "duration": 0.003422,
     "end_time": "2024-03-29T12:18:09.505807",
     "exception": false,
     "start_time": "2024-03-29T12:18:09.502385",
     "status": "completed"
    },
    "tags": []
   },
   "outputs": [],
   "source": []
  }
 ],
 "metadata": {
  "kaggle": {
   "accelerator": "none",
   "dataSources": [],
   "dockerImageVersionId": 30673,
   "isGpuEnabled": false,
   "isInternetEnabled": true,
   "language": "python",
   "sourceType": "notebook"
  },
  "kernelspec": {
   "display_name": "Python 3",
   "language": "python",
   "name": "python3"
  },
  "language_info": {
   "codemirror_mode": {
    "name": "ipython",
    "version": 3
   },
   "file_extension": ".py",
   "mimetype": "text/x-python",
   "name": "python",
   "nbconvert_exporter": "python",
   "pygments_lexer": "ipython3",
   "version": "3.10.13"
  },
  "papermill": {
   "default_parameters": {},
   "duration": 4.028777,
   "end_time": "2024-03-29T12:18:09.928821",
   "environment_variables": {},
   "exception": null,
   "input_path": "__notebook__.ipynb",
   "output_path": "__notebook__.ipynb",
   "parameters": {},
   "start_time": "2024-03-29T12:18:05.900044",
   "version": "2.5.0"
  }
 },
 "nbformat": 4,
 "nbformat_minor": 5
}
