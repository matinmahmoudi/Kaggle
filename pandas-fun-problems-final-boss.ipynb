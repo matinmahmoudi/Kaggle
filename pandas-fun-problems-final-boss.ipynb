{
 "cells": [
  {
   "cell_type": "markdown",
   "id": "3f282e2f",
   "metadata": {
    "papermill": {
     "duration": 0.00892,
     "end_time": "2024-05-28T07:36:08.314766",
     "exception": false,
     "start_time": "2024-05-28T07:36:08.305846",
     "status": "completed"
    },
    "tags": []
   },
   "source": [
    "# Pandas Mastery Challenge - Ultimate Tutorial\n",
    "\n",
    "Welcome to the ultimate challenge in our Pandas series! This notebook is designed to test your data manipulation skills to the fullest. Each problem is carefully crafted to cover various aspects of Pandas and provide you with an enriching learning experience.\n",
    "\n",
    "### **Enjoy the challenges? Show your support with an upvote!**\n",
    "\n",
    "## Table of Contents\n",
    "1. [Q1 - The Great Data Merge Maze](#q1)\n",
    "2. [Q2 - Time Travel with Multi-Index](#q2)\n",
    "3. [Q3 - The GroupBy Gauntlet](#q3)\n",
    "4. [Q4 - Regex Riddles in Data Cleaning](#q4)\n",
    "5. [Q5 - Speed Demon Data Manipulation](#q5)\n",
    "6. [Q6 - Recursive Riddle](#q6)\n",
    "7. [Q7 - Statistician's Nightmare](#q7)\n",
    "8. [Q8 - Pivot Table Puzzles](#q8)\n",
    "9. [Q9 - Aggregation Aggravation](#q9)\n",
    "10. [Q10 - Visual Magic with Pandas](#q10)\n",
    "11. [Q11 - Nested Data Labyrinth](#q11)\n",
    "12. [Q12 - Async Adventures in Data](#q12)\n",
    "13. [Q13 - Geo Pandas Adventure](#q13)\n",
    "14. [Q14 - Network Nexus Analysis](#q14)\n",
    "15. [Q15 - High Dimensional Hide and Seek](#q15)\n",
    "16. [Q16 - Real-time Data Rush](#q16)\n",
    "17. [Q17 - Machine Learning Preprocess Pandemonium](#q17)\n",
    "18. [Q18 - Text Tango with Pandas](#q18)\n",
    "19. [Q19 - Anomaly Detection Drama](#q19)\n",
    "20. [Q20 - Imputation Imbroglio](#q20)\n"
   ]
  },
  {
   "cell_type": "markdown",
   "id": "c15787ba",
   "metadata": {
    "papermill": {
     "duration": 0.007961,
     "end_time": "2024-05-28T07:36:08.331157",
     "exception": false,
     "start_time": "2024-05-28T07:36:08.323196",
     "status": "completed"
    },
    "tags": []
   },
   "source": [
    "# Q1 - The Great Data Merge Maze\n",
    "<a id=\"q1\"></a>\n",
    "\n",
    "\n",
    "**Question:**\n",
    "Welcome to the Great Data Merge Maze! You are given three datasets: `customers`, `orders`, and `products`. Your task is to merge these datasets to answer the following questions:\n",
    "1. Which customers ordered which products and at what price?\n",
    "2. Calculate the total amount spent by each customer.\n",
    "3. Identify the top 2 customers who spent the most.\n",
    "4. Determine which products were never ordered.\n",
    "5. Find the customer who ordered the highest quantity of a single product.\n",
    "\n",
    "**Datasets:**\n",
    "- `customers`: Contains customer IDs and names.\n",
    "- `orders`: Contains order IDs, customer IDs, product IDs, and order quantities.\n",
    "- `products`: Contains product IDs, names, and prices.\n",
    "\n",
    "Generate synthetic data for the datasets and merge them to find the answers.\n"
   ]
  },
  {
   "cell_type": "code",
   "execution_count": 1,
   "id": "58ddeaa9",
   "metadata": {
    "execution": {
     "iopub.execute_input": "2024-05-28T07:36:08.350660Z",
     "iopub.status.busy": "2024-05-28T07:36:08.349791Z",
     "iopub.status.idle": "2024-05-28T07:36:09.456125Z",
     "shell.execute_reply": "2024-05-28T07:36:09.454843Z"
    },
    "papermill": {
     "duration": 1.120303,
     "end_time": "2024-05-28T07:36:09.459836",
     "exception": false,
     "start_time": "2024-05-28T07:36:08.339533",
     "status": "completed"
    },
    "tags": []
   },
   "outputs": [
    {
     "name": "stdout",
     "output_type": "stream",
     "text": [
      "Customers DataFrame:\n",
      "   customer_id     customer_name\n",
      "0            1      Alice Apples\n",
      "1            2       Bob Bananas\n",
      "2            3  Charlie Cherries\n",
      "3            4       David Dates\n",
      "4            5  Eve Elderberries\n",
      "5            6        Frank Figs\n",
      "6            7      Grace Grapes\n",
      "7            8   Hannah Honeydew\n",
      "8            9       Ivy Iceberg\n",
      "9           10       Jack Jicama \n",
      "\n",
      "Products DataFrame:\n",
      "   product_id            product_name  product_price\n",
      "0           1           Widget Wonder          59.39\n",
      "1           2             Gizmo Glitz          74.37\n",
      "2           3          Doodad Delight          64.25\n",
      "3           4      Thingamajig Thrill          59.04\n",
      "4           5       Contraption Charm          48.13\n",
      "5           6             Gadget Glow          68.13\n",
      "6           7  Whatchamacallit Whimsy          49.38\n",
      "7           8        Doohickey Dazzle          90.26\n",
      "8           9            Whatsit Whiz          96.73\n",
      "9          10          Gubbins Galore          44.51 \n",
      "\n",
      "Orders DataFrame:\n",
      "    order_id  customer_id  product_id  order_quantity\n",
      "0          1            7           4               9\n",
      "1          2            8           4               5\n",
      "2          3            8           8               2\n",
      "3          4            9           1               5\n",
      "4          5            2           2               9\n",
      "5          6            6          10               2\n",
      "6          7           10          10               2\n",
      "7          8            9           1               8\n",
      "8          9           10           5               4\n",
      "9         10            5           8               7\n",
      "10        11            4           4               8\n",
      "11        12            1           3               3\n",
      "12        13            4           8               1\n",
      "13        14            6           3               4\n",
      "14        15            1           1               6\n",
      "15        16            3           1               5\n",
      "16        17            4           5               5\n",
      "17        18            9           6               7\n",
      "18        19            2           6               5\n",
      "19        20            4           7               5\n"
     ]
    }
   ],
   "source": [
    "import pandas as pd\n",
    "import numpy as np\n",
    "\n",
    "# Seed for reproducibility\n",
    "np.random.seed(0)\n",
    "\n",
    "# Customers DataFrame\n",
    "customers = pd.DataFrame({\n",
    "    'customer_id': range(1, 11),\n",
    "    'customer_name': ['Alice Apples', 'Bob Bananas', 'Charlie Cherries', 'David Dates', 'Eve Elderberries', 'Frank Figs', 'Grace Grapes', 'Hannah Honeydew', 'Ivy Iceberg', 'Jack Jicama']\n",
    "})\n",
    "\n",
    "# Products DataFrame\n",
    "products = pd.DataFrame({\n",
    "    'product_id': range(1, 11),\n",
    "    'product_name': ['Widget Wonder', 'Gizmo Glitz', 'Doodad Delight', 'Thingamajig Thrill', 'Contraption Charm', 'Gadget Glow', 'Whatchamacallit Whimsy', 'Doohickey Dazzle', 'Whatsit Whiz', 'Gubbins Galore'],\n",
    "    'product_price': np.random.uniform(10, 100, size=10).round(2)\n",
    "})\n",
    "\n",
    "# Orders DataFrame\n",
    "orders = pd.DataFrame({\n",
    "    'order_id': range(1, 21),\n",
    "    'customer_id': np.random.choice(customers['customer_id'], size=20),\n",
    "    'product_id': np.random.choice(products['product_id'], size=20),\n",
    "    'order_quantity': np.random.randint(1, 10, size=20)\n",
    "})\n",
    "\n",
    "# Display the datasets\n",
    "print(\"Customers DataFrame:\")\n",
    "print(customers, \"\\n\")\n",
    "print(\"Products DataFrame:\")\n",
    "print(products, \"\\n\")\n",
    "print(\"Orders DataFrame:\")\n",
    "print(orders)\n"
   ]
  },
  {
   "cell_type": "markdown",
   "id": "1d8df471",
   "metadata": {
    "papermill": {
     "duration": 0.0115,
     "end_time": "2024-05-28T07:36:09.482362",
     "exception": false,
     "start_time": "2024-05-28T07:36:09.470862",
     "status": "completed"
    },
    "tags": []
   },
   "source": [
    "## Solution Explanation\n",
    "\n",
    "The steps to solve this problem are:\n",
    "1. Merge the `orders` and `customers` DataFrames on `customer_id` to get customer information with their orders.\n",
    "2. Merge the resulting DataFrame with the `products` DataFrame on `product_id` to get the product prices along with the customer orders.\n",
    "3. Calculate the total amount spent by each customer.\n",
    "4. Identify the top 2 customers who spent the most.\n",
    "5. Determine which products were never ordered.\n",
    "6. Find the customer who ordered the highest quantity of a single product.\n",
    "\n",
    "Let's implement these steps in the following code.\n"
   ]
  },
  {
   "cell_type": "code",
   "execution_count": 2,
   "id": "eb2079bb",
   "metadata": {
    "execution": {
     "iopub.execute_input": "2024-05-28T07:36:09.504912Z",
     "iopub.status.busy": "2024-05-28T07:36:09.504116Z",
     "iopub.status.idle": "2024-05-28T07:36:09.533303Z",
     "shell.execute_reply": "2024-05-28T07:36:09.531509Z"
    },
    "papermill": {
     "duration": 0.042315,
     "end_time": "2024-05-28T07:36:09.536097",
     "exception": false,
     "start_time": "2024-05-28T07:36:09.493782",
     "status": "completed"
    },
    "tags": []
   },
   "outputs": [
    {
     "name": "stdout",
     "output_type": "stream",
     "text": [
      "Step 1: Orders merged with Customers\n",
      "    order_id  customer_id  product_id  order_quantity     customer_name\n",
      "0          1            7           4               9      Grace Grapes\n",
      "1          2            8           4               5   Hannah Honeydew\n",
      "2          3            8           8               2   Hannah Honeydew\n",
      "3          4            9           1               5       Ivy Iceberg\n",
      "4          5            2           2               9       Bob Bananas\n",
      "5          6            6          10               2        Frank Figs\n",
      "6          7           10          10               2       Jack Jicama\n",
      "7          8            9           1               8       Ivy Iceberg\n",
      "8          9           10           5               4       Jack Jicama\n",
      "9         10            5           8               7  Eve Elderberries\n",
      "10        11            4           4               8       David Dates\n",
      "11        12            1           3               3      Alice Apples\n",
      "12        13            4           8               1       David Dates\n",
      "13        14            6           3               4        Frank Figs\n",
      "14        15            1           1               6      Alice Apples\n",
      "15        16            3           1               5  Charlie Cherries\n",
      "16        17            4           5               5       David Dates\n",
      "17        18            9           6               7       Ivy Iceberg\n",
      "18        19            2           6               5       Bob Bananas\n",
      "19        20            4           7               5       David Dates \n",
      "\n"
     ]
    }
   ],
   "source": [
    "# Step 1: Merge orders with customers to get customer information in orders\n",
    "# This merge operation will give us a DataFrame that includes each order with the corresponding customer information.\n",
    "orders_customers = pd.merge(orders, customers, on='customer_id', how='inner')\n",
    "print(\"Step 1: Orders merged with Customers\")\n",
    "print(orders_customers, \"\\n\")"
   ]
  },
  {
   "cell_type": "code",
   "execution_count": 3,
   "id": "9e6491b4",
   "metadata": {
    "execution": {
     "iopub.execute_input": "2024-05-28T07:36:09.557690Z",
     "iopub.status.busy": "2024-05-28T07:36:09.556553Z",
     "iopub.status.idle": "2024-05-28T07:36:09.577226Z",
     "shell.execute_reply": "2024-05-28T07:36:09.574643Z"
    },
    "papermill": {
     "duration": 0.034444,
     "end_time": "2024-05-28T07:36:09.580180",
     "exception": false,
     "start_time": "2024-05-28T07:36:09.545736",
     "status": "completed"
    },
    "tags": []
   },
   "outputs": [
    {
     "name": "stdout",
     "output_type": "stream",
     "text": [
      "Step 2: Orders merged with Customers and Products\n",
      "    order_id  customer_id  product_id  order_quantity     customer_name  \\\n",
      "0          1            7           4               9      Grace Grapes   \n",
      "1          2            8           4               5   Hannah Honeydew   \n",
      "2          3            8           8               2   Hannah Honeydew   \n",
      "3          4            9           1               5       Ivy Iceberg   \n",
      "4          5            2           2               9       Bob Bananas   \n",
      "5          6            6          10               2        Frank Figs   \n",
      "6          7           10          10               2       Jack Jicama   \n",
      "7          8            9           1               8       Ivy Iceberg   \n",
      "8          9           10           5               4       Jack Jicama   \n",
      "9         10            5           8               7  Eve Elderberries   \n",
      "10        11            4           4               8       David Dates   \n",
      "11        12            1           3               3      Alice Apples   \n",
      "12        13            4           8               1       David Dates   \n",
      "13        14            6           3               4        Frank Figs   \n",
      "14        15            1           1               6      Alice Apples   \n",
      "15        16            3           1               5  Charlie Cherries   \n",
      "16        17            4           5               5       David Dates   \n",
      "17        18            9           6               7       Ivy Iceberg   \n",
      "18        19            2           6               5       Bob Bananas   \n",
      "19        20            4           7               5       David Dates   \n",
      "\n",
      "              product_name  product_price  \n",
      "0       Thingamajig Thrill          59.04  \n",
      "1       Thingamajig Thrill          59.04  \n",
      "2         Doohickey Dazzle          90.26  \n",
      "3            Widget Wonder          59.39  \n",
      "4              Gizmo Glitz          74.37  \n",
      "5           Gubbins Galore          44.51  \n",
      "6           Gubbins Galore          44.51  \n",
      "7            Widget Wonder          59.39  \n",
      "8        Contraption Charm          48.13  \n",
      "9         Doohickey Dazzle          90.26  \n",
      "10      Thingamajig Thrill          59.04  \n",
      "11          Doodad Delight          64.25  \n",
      "12        Doohickey Dazzle          90.26  \n",
      "13          Doodad Delight          64.25  \n",
      "14           Widget Wonder          59.39  \n",
      "15           Widget Wonder          59.39  \n",
      "16       Contraption Charm          48.13  \n",
      "17             Gadget Glow          68.13  \n",
      "18             Gadget Glow          68.13  \n",
      "19  Whatchamacallit Whimsy          49.38   \n",
      "\n"
     ]
    }
   ],
   "source": [
    "# Step 2: Merge the resulting DataFrame with products to get product prices\n",
    "# This merge operation will add the product details (name and price) to each order.\n",
    "orders_customers_products = pd.merge(orders_customers, products, on='product_id', how='inner')\n",
    "print(\"Step 2: Orders merged with Customers and Products\")\n",
    "print(orders_customers_products, \"\\n\")"
   ]
  },
  {
   "cell_type": "code",
   "execution_count": 4,
   "id": "62dc4f65",
   "metadata": {
    "execution": {
     "iopub.execute_input": "2024-05-28T07:36:09.611499Z",
     "iopub.status.busy": "2024-05-28T07:36:09.610236Z",
     "iopub.status.idle": "2024-05-28T07:36:09.625892Z",
     "shell.execute_reply": "2024-05-28T07:36:09.624638Z"
    },
    "papermill": {
     "duration": 0.03856,
     "end_time": "2024-05-28T07:36:09.628525",
     "exception": false,
     "start_time": "2024-05-28T07:36:09.589965",
     "status": "completed"
    },
    "tags": []
   },
   "outputs": [
    {
     "name": "stdout",
     "output_type": "stream",
     "text": [
      "Step 3: Final Merged DataFrame\n",
      "       customer_name            product_name  product_price  order_quantity\n",
      "0       Grace Grapes      Thingamajig Thrill          59.04               9\n",
      "1    Hannah Honeydew      Thingamajig Thrill          59.04               5\n",
      "2    Hannah Honeydew        Doohickey Dazzle          90.26               2\n",
      "3        Ivy Iceberg           Widget Wonder          59.39               5\n",
      "4        Bob Bananas             Gizmo Glitz          74.37               9\n",
      "5         Frank Figs          Gubbins Galore          44.51               2\n",
      "6        Jack Jicama          Gubbins Galore          44.51               2\n",
      "7        Ivy Iceberg           Widget Wonder          59.39               8\n",
      "8        Jack Jicama       Contraption Charm          48.13               4\n",
      "9   Eve Elderberries        Doohickey Dazzle          90.26               7\n",
      "10       David Dates      Thingamajig Thrill          59.04               8\n",
      "11      Alice Apples          Doodad Delight          64.25               3\n",
      "12       David Dates        Doohickey Dazzle          90.26               1\n",
      "13        Frank Figs          Doodad Delight          64.25               4\n",
      "14      Alice Apples           Widget Wonder          59.39               6\n",
      "15  Charlie Cherries           Widget Wonder          59.39               5\n",
      "16       David Dates       Contraption Charm          48.13               5\n",
      "17       Ivy Iceberg             Gadget Glow          68.13               7\n",
      "18       Bob Bananas             Gadget Glow          68.13               5\n",
      "19       David Dates  Whatchamacallit Whimsy          49.38               5 \n",
      "\n"
     ]
    }
   ],
   "source": [
    "# Step 3: Select relevant columns and display the final merged DataFrame\n",
    "# We are interested in customer names, product names, product prices, and order quantities.\n",
    "final_result = orders_customers_products[['customer_name', 'product_name', 'product_price', 'order_quantity']]\n",
    "print(\"Step 3: Final Merged DataFrame\")\n",
    "print(final_result, \"\\n\")"
   ]
  },
  {
   "cell_type": "code",
   "execution_count": 5,
   "id": "ca89ce32",
   "metadata": {
    "execution": {
     "iopub.execute_input": "2024-05-28T07:36:09.650227Z",
     "iopub.status.busy": "2024-05-28T07:36:09.649746Z",
     "iopub.status.idle": "2024-05-28T07:36:09.671014Z",
     "shell.execute_reply": "2024-05-28T07:36:09.668863Z"
    },
    "papermill": {
     "duration": 0.035491,
     "end_time": "2024-05-28T07:36:09.673682",
     "exception": false,
     "start_time": "2024-05-28T07:36:09.638191",
     "status": "completed"
    },
    "tags": []
   },
   "outputs": [
    {
     "name": "stdout",
     "output_type": "stream",
     "text": [
      "Step 4: Total Amount Spent by Each Customer\n",
      "      customer_name  total_spent\n",
      "0      Alice Apples       549.09\n",
      "1       Bob Bananas      1009.98\n",
      "2  Charlie Cherries       296.95\n",
      "3       David Dates      1050.13\n",
      "4  Eve Elderberries       631.82\n",
      "5        Frank Figs       346.02\n",
      "6      Grace Grapes       531.36\n",
      "7   Hannah Honeydew       475.72\n",
      "8       Ivy Iceberg      1248.98\n",
      "9       Jack Jicama       281.54 \n",
      "\n"
     ]
    }
   ],
   "source": [
    "# Step 4: Calculate the total amount spent by each customer\n",
    "# We need to multiply the product price by the order quantity for each row and then sum it up per customer.\n",
    "orders_customers_products['total_price'] = orders_customers_products['product_price'] * orders_customers_products['order_quantity']\n",
    "customer_spending = orders_customers_products.groupby('customer_name')['total_price'].sum().reset_index()\n",
    "customer_spending = customer_spending.rename(columns={'total_price': 'total_spent'})\n",
    "print(\"Step 4: Total Amount Spent by Each Customer\")\n",
    "print(customer_spending, \"\\n\")"
   ]
  },
  {
   "cell_type": "code",
   "execution_count": 6,
   "id": "475223ce",
   "metadata": {
    "execution": {
     "iopub.execute_input": "2024-05-28T07:36:09.696533Z",
     "iopub.status.busy": "2024-05-28T07:36:09.696043Z",
     "iopub.status.idle": "2024-05-28T07:36:09.708532Z",
     "shell.execute_reply": "2024-05-28T07:36:09.706960Z"
    },
    "papermill": {
     "duration": 0.027179,
     "end_time": "2024-05-28T07:36:09.711190",
     "exception": false,
     "start_time": "2024-05-28T07:36:09.684011",
     "status": "completed"
    },
    "tags": []
   },
   "outputs": [
    {
     "name": "stdout",
     "output_type": "stream",
     "text": [
      "Step 5: Top 2 Customers Who Spent the Most\n",
      "  customer_name  total_spent\n",
      "8   Ivy Iceberg      1248.98\n",
      "3   David Dates      1050.13 \n",
      "\n"
     ]
    }
   ],
   "source": [
    "# Step 5: Identify the top 2 customers who spent the most\n",
    "# Sort the customers by the total amount spent in descending order and take the top 2.\n",
    "top_customers = customer_spending.sort_values(by='total_spent', ascending=False).head(2)\n",
    "print(\"Step 5: Top 2 Customers Who Spent the Most\")\n",
    "print(top_customers, \"\\n\")"
   ]
  },
  {
   "cell_type": "code",
   "execution_count": 7,
   "id": "96b0675b",
   "metadata": {
    "execution": {
     "iopub.execute_input": "2024-05-28T07:36:09.733142Z",
     "iopub.status.busy": "2024-05-28T07:36:09.732705Z",
     "iopub.status.idle": "2024-05-28T07:36:09.747830Z",
     "shell.execute_reply": "2024-05-28T07:36:09.746227Z"
    },
    "papermill": {
     "duration": 0.029243,
     "end_time": "2024-05-28T07:36:09.750441",
     "exception": false,
     "start_time": "2024-05-28T07:36:09.721198",
     "status": "completed"
    },
    "tags": []
   },
   "outputs": [
    {
     "name": "stdout",
     "output_type": "stream",
     "text": [
      "Step 6: Products Never Ordered\n",
      "   product_id  product_name  product_price\n",
      "8           9  Whatsit Whiz          96.73 \n",
      "\n"
     ]
    }
   ],
   "source": [
    "# Step 6: Determine which products were never ordered\n",
    "# Find the products that are not present in the orders DataFrame.\n",
    "ordered_products = orders['product_id'].unique()\n",
    "all_products = products['product_id'].unique()\n",
    "never_ordered_products = products[~products['product_id'].isin(ordered_products)]\n",
    "print(\"Step 6: Products Never Ordered\")\n",
    "print(never_ordered_products, \"\\n\")"
   ]
  },
  {
   "cell_type": "code",
   "execution_count": 8,
   "id": "6ed2485e",
   "metadata": {
    "execution": {
     "iopub.execute_input": "2024-05-28T07:36:09.777522Z",
     "iopub.status.busy": "2024-05-28T07:36:09.776426Z",
     "iopub.status.idle": "2024-05-28T07:36:09.788618Z",
     "shell.execute_reply": "2024-05-28T07:36:09.787035Z"
    },
    "papermill": {
     "duration": 0.028679,
     "end_time": "2024-05-28T07:36:09.791373",
     "exception": false,
     "start_time": "2024-05-28T07:36:09.762694",
     "status": "completed"
    },
    "tags": []
   },
   "outputs": [
    {
     "name": "stdout",
     "output_type": "stream",
     "text": [
      "Step 7: Customer Who Ordered the Highest Quantity of a Single Product\n",
      "customer_name           Grace Grapes\n",
      "product_name      Thingamajig Thrill\n",
      "order_quantity                     9\n",
      "Name: 0, dtype: object\n"
     ]
    }
   ],
   "source": [
    "# Step 7: Find the customer who ordered the highest quantity of a single product\n",
    "# Identify the maximum order quantity and the corresponding customer and product.\n",
    "max_order = orders_customers_products.loc[orders_customers_products['order_quantity'].idxmax()]\n",
    "print(\"Step 7: Customer Who Ordered the Highest Quantity of a Single Product\")\n",
    "print(max_order[['customer_name', 'product_name', 'order_quantity']])"
   ]
  },
  {
   "cell_type": "markdown",
   "id": "010b0ef5",
   "metadata": {
    "papermill": {
     "duration": 0.01001,
     "end_time": "2024-05-28T07:36:09.812725",
     "exception": false,
     "start_time": "2024-05-28T07:36:09.802715",
     "status": "completed"
    },
    "tags": []
   },
   "source": [
    "# Q2 - Time Travel with Multi-Index\n",
    "<a id=\"q2\"></a>\n",
    "\n",
    "**Question:**\n",
    "Welcome to Time Travel with Multi-Index! You are given a multi-index time series dataset of sales data for different regions and product categories. Your task is to perform advanced time series analysis and manipulation to answer the following questions:\n",
    "1. What is the total sales for each region and product category over time?\n",
    "2. Calculate the moving average of sales for each region and product category.\n",
    "3. Identify the region with the highest sales growth rate.\n",
    "4. Determine the top-selling product category for each region.\n",
    "5. Find the month with the highest overall sales.\n",
    "\n",
    "**Datasets:**\n",
    "- `sales_data`: Contains multi-index (region, product_category) and columns (date, sales).\n",
    "\n"
   ]
  },
  {
   "cell_type": "code",
   "execution_count": 9,
   "id": "dec47274",
   "metadata": {
    "execution": {
     "iopub.execute_input": "2024-05-28T07:36:09.836998Z",
     "iopub.status.busy": "2024-05-28T07:36:09.836510Z",
     "iopub.status.idle": "2024-05-28T07:36:09.868931Z",
     "shell.execute_reply": "2024-05-28T07:36:09.867573Z"
    },
    "papermill": {
     "duration": 0.0491,
     "end_time": "2024-05-28T07:36:09.872007",
     "exception": false,
     "start_time": "2024-05-28T07:36:09.822907",
     "status": "completed"
    },
    "tags": []
   },
   "outputs": [
    {
     "name": "stdout",
     "output_type": "stream",
     "text": [
      "Sales Data DataFrame:\n",
      "                                        Sales\n",
      "Region     Product_Category Date             \n",
      "North Pole Gizmos           2023-01-31   2061\n",
      "                            2023-02-28   1235\n",
      "                            2023-03-31   4980\n",
      "                            2023-04-30   2096\n",
      "                            2023-05-31   4839\n",
      "...                                       ...\n",
      "Westworld  Thingamajigs     2023-08-31   3224\n",
      "                            2023-09-30   2590\n",
      "                            2023-10-31   4087\n",
      "                            2023-11-30   3949\n",
      "                            2023-12-31   2425\n",
      "\n",
      "[192 rows x 1 columns]\n"
     ]
    }
   ],
   "source": [
    "import pandas as pd\n",
    "import numpy as np\n",
    "\n",
    "# Seed for reproducibility\n",
    "np.random.seed(1)\n",
    "\n",
    "# Generate date range\n",
    "date_range = pd.date_range(start='2023-01-01', end='2023-12-31', freq='ME')\n",
    "\n",
    "# Regions and product categories\n",
    "regions = ['North Pole', 'South Pole', 'East Egg', 'Westworld']\n",
    "product_categories = ['Gizmos', 'Widgets', 'Doodads', 'Thingamajigs']\n",
    "\n",
    "# Generate synthetic sales data\n",
    "data = []\n",
    "for region in regions:\n",
    "    for category in product_categories:\n",
    "        sales = np.random.randint(1000, 5000, size=len(date_range))\n",
    "        for date, sale in zip(date_range, sales):\n",
    "            data.append([region, category, date, sale])\n",
    "\n",
    "# Create DataFrame\n",
    "sales_data = pd.DataFrame(data, columns=['Region', 'Product_Category', 'Date', 'Sales'])\n",
    "\n",
    "# Set multi-index\n",
    "sales_data.set_index(['Region', 'Product_Category', 'Date'], inplace=True)\n",
    "\n",
    "# Display the dataset\n",
    "print(\"Sales Data DataFrame:\")\n",
    "print(sales_data)\n"
   ]
  },
  {
   "cell_type": "markdown",
   "id": "c0dc77ea",
   "metadata": {
    "papermill": {
     "duration": 0.009854,
     "end_time": "2024-05-28T07:36:09.892537",
     "exception": false,
     "start_time": "2024-05-28T07:36:09.882683",
     "status": "completed"
    },
    "tags": []
   },
   "source": [
    "## Solution Explanation\n",
    "\n",
    "The steps to solve this problem are:\n",
    "1. Calculate the total sales for each region and product category over time.\n",
    "2. Calculate the moving average of sales for each region and product category.\n",
    "3. Identify the region with the highest sales growth rate.\n",
    "4. Determine the top-selling product category for each region.\n",
    "5. Find the month with the highest overall sales.\n",
    "\n",
    "Let's implement these steps in the following code.\n"
   ]
  },
  {
   "cell_type": "code",
   "execution_count": 10,
   "id": "9fc1fc6a",
   "metadata": {
    "execution": {
     "iopub.execute_input": "2024-05-28T07:36:09.915604Z",
     "iopub.status.busy": "2024-05-28T07:36:09.914731Z",
     "iopub.status.idle": "2024-05-28T07:36:09.981223Z",
     "shell.execute_reply": "2024-05-28T07:36:09.980408Z"
    },
    "papermill": {
     "duration": 0.082022,
     "end_time": "2024-05-28T07:36:09.984922",
     "exception": false,
     "start_time": "2024-05-28T07:36:09.902900",
     "status": "completed"
    },
    "tags": []
   },
   "outputs": [
    {
     "name": "stdout",
     "output_type": "stream",
     "text": [
      "Step 1: Total Sales for Each Region and Product Category Over Time\n",
      "                                       Sales\n",
      "Region    Product_Category Date             \n",
      "East Egg  Doodads          2023-01-31   2393\n",
      "                           2023-02-28   2869\n",
      "                           2023-03-31   2795\n",
      "                           2023-04-30   3944\n",
      "                           2023-05-31   2277\n",
      "...                                      ...\n",
      "Westworld Widgets          2023-08-31   3464\n",
      "                           2023-09-30   4212\n",
      "                           2023-10-31   4265\n",
      "                           2023-11-30   1606\n",
      "                           2023-12-31   4644\n",
      "\n",
      "[192 rows x 1 columns] \n",
      "\n"
     ]
    }
   ],
   "source": [
    "# Step 1: Calculate the total sales for each region and product category over time\n",
    "# First, we'll group the data by Region and Product Category, then resample it to monthly frequency and sum the sales.\n",
    "total_sales = sales_data.groupby(['Region', 'Product_Category']).resample('ME', level='Date').sum()\n",
    "print(\"Step 1: Total Sales for Each Region and Product Category Over Time\")\n",
    "print(total_sales, \"\\n\")"
   ]
  },
  {
   "cell_type": "code",
   "execution_count": 11,
   "id": "53ea1f4d",
   "metadata": {
    "execution": {
     "iopub.execute_input": "2024-05-28T07:36:10.012754Z",
     "iopub.status.busy": "2024-05-28T07:36:10.011953Z",
     "iopub.status.idle": "2024-05-28T07:36:10.031566Z",
     "shell.execute_reply": "2024-05-28T07:36:10.030416Z"
    },
    "papermill": {
     "duration": 0.035074,
     "end_time": "2024-05-28T07:36:10.034742",
     "exception": false,
     "start_time": "2024-05-28T07:36:09.999668",
     "status": "completed"
    },
    "tags": []
   },
   "outputs": [
    {
     "name": "stdout",
     "output_type": "stream",
     "text": [
      "Step 2: Moving Average of Sales for Each Region and Product Category\n",
      "                                          Region Product_Category        Sales\n",
      "Region    Product_Category Date                                               \n",
      "East Egg  Doodads          2023-01-31   East Egg          Doodads          NaN\n",
      "                           2023-02-28   East Egg          Doodads          NaN\n",
      "                           2023-03-31   East Egg          Doodads  2685.666667\n",
      "                           2023-04-30   East Egg          Doodads  3202.666667\n",
      "                           2023-05-31   East Egg          Doodads  3005.333333\n",
      "...                                          ...              ...          ...\n",
      "Westworld Widgets          2023-08-31  Westworld          Widgets  4248.000000\n",
      "                           2023-09-30  Westworld          Widgets  4136.000000\n",
      "                           2023-10-31  Westworld          Widgets  3980.333333\n",
      "                           2023-11-30  Westworld          Widgets  3361.000000\n",
      "                           2023-12-31  Westworld          Widgets  3505.000000\n",
      "\n",
      "[192 rows x 3 columns] \n",
      "\n"
     ]
    }
   ],
   "source": [
    "# Step 2: Calculate the moving average of sales for each region and product category\n",
    "# We'll calculate a rolling window average with a window size of 3 months.\n",
    "moving_avg_sales = total_sales.groupby(level=['Region', 'Product_Category']).rolling(window=3).mean()\n",
    "print(\"Step 2: Moving Average of Sales for Each Region and Product Category\")\n",
    "print(moving_avg_sales.reset_index(level=[0, 1]), \"\\n\")"
   ]
  },
  {
   "cell_type": "code",
   "execution_count": 12,
   "id": "295dbe44",
   "metadata": {
    "execution": {
     "iopub.execute_input": "2024-05-28T07:36:10.057304Z",
     "iopub.status.busy": "2024-05-28T07:36:10.056678Z",
     "iopub.status.idle": "2024-05-28T07:36:10.070946Z",
     "shell.execute_reply": "2024-05-28T07:36:10.069053Z"
    },
    "papermill": {
     "duration": 0.029031,
     "end_time": "2024-05-28T07:36:10.074008",
     "exception": false,
     "start_time": "2024-05-28T07:36:10.044977",
     "status": "completed"
    },
    "tags": []
   },
   "outputs": [
    {
     "name": "stdout",
     "output_type": "stream",
     "text": [
      "Step 3: Region with the Highest Sales Growth Rate\n",
      "Region: North Pole\n",
      "\n"
     ]
    }
   ],
   "source": [
    "# Step 3: Identify the region with the highest sales growth rate\n",
    "# We'll calculate the percentage change in total sales for each region and identify the one with the highest growth.\n",
    "sales_growth = total_sales.groupby(level='Region').sum().pct_change().fillna(0)\n",
    "highest_growth_region = sales_growth['Sales'].idxmax()\n",
    "print(\"Step 3: Region with the Highest Sales Growth Rate\")\n",
    "print(f\"Region: {highest_growth_region}\\n\")\n"
   ]
  },
  {
   "cell_type": "code",
   "execution_count": 13,
   "id": "09dfd5b3",
   "metadata": {
    "execution": {
     "iopub.execute_input": "2024-05-28T07:36:10.097550Z",
     "iopub.status.busy": "2024-05-28T07:36:10.096937Z",
     "iopub.status.idle": "2024-05-28T07:36:10.118487Z",
     "shell.execute_reply": "2024-05-28T07:36:10.116164Z"
    },
    "papermill": {
     "duration": 0.036845,
     "end_time": "2024-05-28T07:36:10.121386",
     "exception": false,
     "start_time": "2024-05-28T07:36:10.084541",
     "status": "completed"
    },
    "tags": []
   },
   "outputs": [
    {
     "name": "stdout",
     "output_type": "stream",
     "text": [
      "Step 4: Top-Selling Product Category for Each Region\n",
      "                                 Sales\n",
      "Region                                \n",
      "East Egg            (East Egg, Gizmos)\n",
      "North Pole       (North Pole, Widgets)\n",
      "South Pole  (South Pole, Thingamajigs)\n",
      "Westworld          (Westworld, Gizmos) \n",
      "\n"
     ]
    }
   ],
   "source": [
    "# Step 4: Determine the top-selling product category for each region\n",
    "# We will group by Region and Product Category, sum the sales, and find the product category with the highest sales for each region.\n",
    "top_selling_category = total_sales.groupby(['Region', 'Product_Category']).sum().groupby(level='Region').idxmax()\n",
    "print(\"Step 4: Top-Selling Product Category for Each Region\")\n",
    "print(top_selling_category, \"\\n\")"
   ]
  },
  {
   "cell_type": "code",
   "execution_count": 14,
   "id": "bd3bd835",
   "metadata": {
    "execution": {
     "iopub.execute_input": "2024-05-28T07:36:10.145920Z",
     "iopub.status.busy": "2024-05-28T07:36:10.145092Z",
     "iopub.status.idle": "2024-05-28T07:36:10.154731Z",
     "shell.execute_reply": "2024-05-28T07:36:10.153310Z"
    },
    "papermill": {
     "duration": 0.0248,
     "end_time": "2024-05-28T07:36:10.157169",
     "exception": false,
     "start_time": "2024-05-28T07:36:10.132369",
     "status": "completed"
    },
    "tags": []
   },
   "outputs": [
    {
     "name": "stdout",
     "output_type": "stream",
     "text": [
      "Step 5: Month with the Highest Overall Sales\n",
      "Month: 2023-05\n",
      "\n"
     ]
    }
   ],
   "source": [
    "# Step 5: Find the month with the highest overall sales\n",
    "# We will sum the sales for each month across all regions and product categories to find the month with the highest total sales.\n",
    "total_monthly_sales = total_sales.groupby('Date').sum()\n",
    "highest_sales_month = total_monthly_sales['Sales'].idxmax()\n",
    "print(\"Step 5: Month with the Highest Overall Sales\")\n",
    "print(f\"Month: {highest_sales_month.strftime('%Y-%m')}\\n\")"
   ]
  },
  {
   "cell_type": "markdown",
   "id": "52f94a42",
   "metadata": {
    "papermill": {
     "duration": 0.010795,
     "end_time": "2024-05-28T07:36:10.178758",
     "exception": false,
     "start_time": "2024-05-28T07:36:10.167963",
     "status": "completed"
    },
    "tags": []
   },
   "source": [
    "# Q3 - The GroupBy Gauntlet\n",
    "<a id=\"q3\"></a>\n",
    "\n",
    "**Question:**\n",
    "Welcome to the GroupBy Gauntlet! You are given a dataset of wacky wizard tournaments. Each tournament has multiple rounds, and wizards earn points in each round. Your task is to perform complex groupby operations to answer the following questions:\n",
    "1. Calculate the total points for each wizard across all tournaments.\n",
    "2. Identify the wizard with the highest average points per round.\n",
    "3. Determine the tournament with the highest total points.\n",
    "4. Find the wizard who won the most rounds (i.e., highest points in each round).\n",
    "5. Calculate the average points per round for each tournament.\n",
    "6. Determine the standard deviation of points for each wizard across all tournaments.\n",
    "7. Identify the top 3 wizards with the most consistent performance (lowest standard deviation in points).\n",
    "8. Calculate the cumulative points for each wizard across all tournaments over time.\n",
    "9. Find the round in each tournament with the highest average points scored.\n",
    "10. Determine the correlation between the number of rounds and total points scored for each wizard.\n",
    "\n",
    "**Datasets:**\n",
    "- `wizard_tournaments`: Contains columns (tournament_id, round_id, wizard_name, points).\n",
    "\n"
   ]
  },
  {
   "cell_type": "code",
   "execution_count": 15,
   "id": "551c05b7",
   "metadata": {
    "execution": {
     "iopub.execute_input": "2024-05-28T07:36:10.201561Z",
     "iopub.status.busy": "2024-05-28T07:36:10.201155Z",
     "iopub.status.idle": "2024-05-28T07:36:10.221511Z",
     "shell.execute_reply": "2024-05-28T07:36:10.220620Z"
    },
    "papermill": {
     "duration": 0.035408,
     "end_time": "2024-05-28T07:36:10.224760",
     "exception": false,
     "start_time": "2024-05-28T07:36:10.189352",
     "status": "completed"
    },
    "tags": []
   },
   "outputs": [
    {
     "name": "stdout",
     "output_type": "stream",
     "text": [
      "Wizard Tournaments DataFrame:\n",
      "   tournament_id  round_id wizard_name  points\n",
      "0              1         1      Merlin      51\n",
      "1              1         1     Gandalf      92\n",
      "2              1         1       Harry      14\n",
      "3              1         1   Voldemort      71\n",
      "4              1         1     Saruman      60\n"
     ]
    }
   ],
   "source": [
    "import pandas as pd\n",
    "import numpy as np\n",
    "\n",
    "# Seed for reproducibility\n",
    "np.random.seed(42)\n",
    "\n",
    "# Generate synthetic data\n",
    "tournament_ids = np.arange(1, 6)\n",
    "round_ids = np.arange(1, 11)\n",
    "wizard_names = ['Merlin', 'Gandalf', 'Harry', 'Voldemort', 'Saruman', 'Dumbledore', 'Hermione', 'Ron']\n",
    "\n",
    "data = []\n",
    "for tournament in tournament_ids:\n",
    "    for round_id in round_ids:\n",
    "        for wizard in wizard_names:\n",
    "            points = np.random.randint(0, 101)\n",
    "            data.append([tournament, round_id, wizard, points])\n",
    "\n",
    "# Create DataFrame\n",
    "wizard_tournaments = pd.DataFrame(data, columns=['tournament_id', 'round_id', 'wizard_name', 'points'])\n",
    "\n",
    "# Display the dataset\n",
    "print(\"Wizard Tournaments DataFrame:\")\n",
    "print(wizard_tournaments.head())\n"
   ]
  },
  {
   "cell_type": "markdown",
   "id": "971bef6f",
   "metadata": {
    "papermill": {
     "duration": 0.01035,
     "end_time": "2024-05-28T07:36:10.248288",
     "exception": false,
     "start_time": "2024-05-28T07:36:10.237938",
     "status": "completed"
    },
    "tags": []
   },
   "source": [
    "## Solution Explanation\n",
    "\n",
    "The steps to solve this problem are:\n",
    "1. Calculate the total points for each wizard across all tournaments.\n",
    "2. Identify the wizard with the highest average points per round.\n",
    "3. Determine the tournament with the highest total points.\n",
    "4. Find the wizard who won the most rounds (i.e., highest points in each round).\n",
    "5. Calculate the average points per round for each tournament.\n",
    "6. Determine the standard deviation of points for each wizard across all tournaments.\n",
    "7. Identify the top 3 wizards with the most consistent performance (lowest standard deviation in points).\n",
    "8. Calculate the cumulative points for each wizard across all tournaments over time.\n",
    "9. Find the round in each tournament with the highest average points scored.\n",
    "Let's implement these steps in the following code.\n"
   ]
  },
  {
   "cell_type": "code",
   "execution_count": 16,
   "id": "1eb08a38",
   "metadata": {
    "execution": {
     "iopub.execute_input": "2024-05-28T07:36:10.272672Z",
     "iopub.status.busy": "2024-05-28T07:36:10.272211Z",
     "iopub.status.idle": "2024-05-28T07:36:10.331943Z",
     "shell.execute_reply": "2024-05-28T07:36:10.330755Z"
    },
    "papermill": {
     "duration": 0.075819,
     "end_time": "2024-05-28T07:36:10.335302",
     "exception": false,
     "start_time": "2024-05-28T07:36:10.259483",
     "status": "completed"
    },
    "tags": []
   },
   "outputs": [
    {
     "name": "stdout",
     "output_type": "stream",
     "text": [
      "Step 1: Total Points for Each Wizard\n",
      "  wizard_name  points\n",
      "0  Dumbledore    2428\n",
      "1     Gandalf    2851\n",
      "2       Harry    2346\n",
      "3    Hermione    3091\n",
      "4      Merlin    2488\n",
      "5         Ron    2210\n",
      "6     Saruman    2432\n",
      "7   Voldemort    2152 \n",
      "\n",
      "Step 2: Wizard with the Highest Average Points per Round\n",
      "wizard_name    Hermione\n",
      "points            61.82\n",
      "Name: 3, dtype: object \n",
      "\n",
      "Step 3: Tournament with the Highest Total Points\n",
      "tournament_id       3\n",
      "points           4074\n",
      "Name: 2, dtype: int64 \n",
      "\n",
      "Step 4: Wizard Who Won the Most Rounds\n",
      "Wizard: Gandalf\n",
      "\n",
      "Step 5: Average Points per Round for Each Tournament\n",
      "   tournament_id   points\n",
      "0              1  48.9750\n",
      "1              2  49.7250\n",
      "2              3  50.9250\n",
      "3              4  50.1625\n",
      "4              5  50.1875 \n",
      "\n",
      "Step 6: Standard Deviation of Points for Each Wizard\n",
      "  wizard_name     points\n",
      "0  Dumbledore  28.790701\n",
      "1     Gandalf  31.099242\n",
      "2       Harry  27.568719\n",
      "3    Hermione  28.769095\n",
      "4      Merlin  29.651417\n",
      "5         Ron  30.809487\n",
      "6     Saruman  30.693854\n",
      "7   Voldemort  30.334839 \n",
      "\n",
      "Step 7: Top 3 Most Consistent Wizards\n",
      "  wizard_name     points\n",
      "2       Harry  27.568719\n",
      "3    Hermione  28.769095\n",
      "0  Dumbledore  28.790701 \n",
      "\n",
      "Step 8: Cumulative Points for Each Wizard Over Time\n",
      "   wizard_name  tournament_id  round_id  cumulative_points\n",
      "5   Dumbledore              1         1                 20\n",
      "13  Dumbledore              1         2                 22\n",
      "21  Dumbledore              1         3                 85\n",
      "29  Dumbledore              1         4                133\n",
      "37  Dumbledore              1         5                194 \n",
      "\n",
      "Step 9: Round with the Highest Average Points Scored in Each Tournament\n",
      "    tournament_id  round_id  points\n",
      "0               1         1  59.500\n",
      "17              2         8  68.500\n",
      "20              3         1  65.125\n",
      "39              4        10  73.000\n",
      "48              5         9  68.500 \n",
      "\n"
     ]
    }
   ],
   "source": [
    "# Step 1: Calculate the total points for each wizard across all tournaments\n",
    "total_points_per_wizard = wizard_tournaments.groupby('wizard_name')['points'].sum().reset_index()\n",
    "print(\"Step 1: Total Points for Each Wizard\")\n",
    "print(total_points_per_wizard, \"\\n\")\n",
    "\n",
    "# Step 2: Identify the wizard with the highest average points per round\n",
    "average_points_per_round = wizard_tournaments.groupby('wizard_name')['points'].mean().reset_index()\n",
    "highest_avg_points_wizard = average_points_per_round.loc[average_points_per_round['points'].idxmax()]\n",
    "print(\"Step 2: Wizard with the Highest Average Points per Round\")\n",
    "print(highest_avg_points_wizard, \"\\n\")\n",
    "\n",
    "# Step 3: Determine the tournament with the highest total points\n",
    "total_points_per_tournament = wizard_tournaments.groupby('tournament_id')['points'].sum().reset_index()\n",
    "highest_total_points_tournament = total_points_per_tournament.loc[total_points_per_tournament['points'].idxmax()]\n",
    "print(\"Step 3: Tournament with the Highest Total Points\")\n",
    "print(highest_total_points_tournament, \"\\n\")\n",
    "\n",
    "# Step 4: Find the wizard who won the most rounds (i.e., highest points in each round)\n",
    "round_winners = wizard_tournaments.loc[wizard_tournaments.groupby(['tournament_id', 'round_id'])['points'].idxmax()]\n",
    "most_round_wins = round_winners['wizard_name'].value_counts().idxmax()\n",
    "print(\"Step 4: Wizard Who Won the Most Rounds\")\n",
    "print(f\"Wizard: {most_round_wins}\\n\")\n",
    "\n",
    "# Step 5: Calculate the average points per round for each tournament\n",
    "average_points_per_tournament = wizard_tournaments.groupby('tournament_id')['points'].mean().reset_index()\n",
    "print(\"Step 5: Average Points per Round for Each Tournament\")\n",
    "print(average_points_per_tournament, \"\\n\")\n",
    "\n",
    "# Step 6: Determine the standard deviation of points for each wizard across all tournaments\n",
    "std_dev_points_per_wizard = wizard_tournaments.groupby('wizard_name')['points'].std().reset_index()\n",
    "std_dev_points_per_wizard['points'] = std_dev_points_per_wizard['points'].fillna(0)  # Handle NaN values\n",
    "print(\"Step 6: Standard Deviation of Points for Each Wizard\")\n",
    "print(std_dev_points_per_wizard, \"\\n\")\n",
    "\n",
    "# Step 7: Identify the top 3 wizards with the most consistent performance (lowest standard deviation in points)\n",
    "most_consistent_wizards = std_dev_points_per_wizard.nsmallest(3, 'points')\n",
    "print(\"Step 7: Top 3 Most Consistent Wizards\")\n",
    "print(most_consistent_wizards, \"\\n\")\n",
    "\n",
    "# Step 8: Calculate the cumulative points for each wizard across all tournaments over time\n",
    "wizard_tournaments_sorted = wizard_tournaments.sort_values(by=['wizard_name', 'tournament_id', 'round_id'])\n",
    "wizard_tournaments_sorted['cumulative_points'] = wizard_tournaments_sorted.groupby('wizard_name')['points'].cumsum()\n",
    "print(\"Step 8: Cumulative Points for Each Wizard Over Time\")\n",
    "print(wizard_tournaments_sorted[['wizard_name', 'tournament_id', 'round_id', 'cumulative_points']].head(), \"\\n\")\n",
    "\n",
    "# Step 9: Find the round in each tournament with the highest average points scored\n",
    "highest_avg_points_per_round = wizard_tournaments.groupby(['tournament_id', 'round_id'])['points'].mean().reset_index()\n",
    "round_with_highest_avg_points = highest_avg_points_per_round.loc[highest_avg_points_per_round.groupby('tournament_id')['points'].idxmax()]\n",
    "print(\"Step 9: Round with the Highest Average Points Scored in Each Tournament\")\n",
    "print(round_with_highest_avg_points, \"\\n\")"
   ]
  },
  {
   "cell_type": "markdown",
   "id": "bf57f01a",
   "metadata": {
    "papermill": {
     "duration": 0.013677,
     "end_time": "2024-05-28T07:36:10.364756",
     "exception": false,
     "start_time": "2024-05-28T07:36:10.351079",
     "status": "completed"
    },
    "tags": []
   },
   "source": [
    "# Q4 - Regex Riddles in Data Cleaning\n",
    "<a id=\"q4\"></a>\n",
    "\n",
    "**Question:**\n",
    "Welcome to Regex Riddles in Data Cleaning! You are given a dataset containing customer reviews for various fantastical products. However, the data is quite messy with inconsistent formats, typos, and random special characters. Your task is to use regular expressions and other data cleaning techniques to answer the following questions:\n",
    "1. Standardize the format of email addresses.\n",
    "2. Correct common typos in product names.\n",
    "3. Remove any special characters from the reviews.\n",
    "4. Extract and count the number of reviews mentioning the word \"magic\".\n",
    "5. Identify the top 3 most frequently mentioned products in the reviews.\n",
    "\n",
    "**Datasets:**\n",
    "- `customer_reviews`: Contains columns (review_id, email, product_name, review_text).\n"
   ]
  },
  {
   "cell_type": "code",
   "execution_count": 17,
   "id": "74296075",
   "metadata": {
    "execution": {
     "iopub.execute_input": "2024-05-28T07:36:10.388607Z",
     "iopub.status.busy": "2024-05-28T07:36:10.388172Z",
     "iopub.status.idle": "2024-05-28T07:36:10.408297Z",
     "shell.execute_reply": "2024-05-28T07:36:10.406150Z"
    },
    "papermill": {
     "duration": 0.034969,
     "end_time": "2024-05-28T07:36:10.410758",
     "exception": false,
     "start_time": "2024-05-28T07:36:10.375789",
     "status": "completed"
    },
    "tags": []
   },
   "outputs": [
    {
     "name": "stdout",
     "output_type": "stream",
     "text": [
      "Customer Reviews DataFrame:\n",
      "    review_id                email  product_name  \\\n",
      "0           1   UsEr-1@example.com  Flying Broom   \n",
      "1           2    user2@example.com  Flying Broom   \n",
      "2           3   UsEr-3@example.com    Spell Book   \n",
      "3           4    user4@example.com    Spell Book   \n",
      "4           5   UsEr-5@example.com  Crystal Ball   \n",
      "5           6    user6@example.com    Magic Wand   \n",
      "6           7   UsEr-7@example.com     Spell Bok   \n",
      "7           8    user8@example.com         Potin   \n",
      "8           9   UsEr-9@example.com    Magic Wand   \n",
      "9          10   user10@example.com    Spell Book   \n",
      "10         11  UsEr-11@example.com   Flyng Broom   \n",
      "11         12   user12@example.com   Crystal Bll   \n",
      "12         13  UsEr-13@example.com     Magic Wnd   \n",
      "13         14   user14@example.com    Magic Wand   \n",
      "14         15  UsEr-15@example.com     Magic Wnd   \n",
      "15         16   user16@example.com  Flying Broom   \n",
      "16         17  UsEr-17@example.com  Flying Broom   \n",
      "17         18   user18@example.com         Potin   \n",
      "18         19  UsEr-19@example.com     Magic Wnd   \n",
      "19         20   user20@example.com  Crystal Ball   \n",
      "\n",
      "                                          review_text  \n",
      "0    This Spell Book is awesome! It's pure magic! !@@  \n",
      "1   This Crystal Ball is awesome! It's pure magic!...  \n",
      "2    This Magic Wand is awesome! It's pure magic! @&@  \n",
      "3     This Spell Bok is awesome! It's pure magic! &)$  \n",
      "4        This Potion is awesome! It's pure magic! !@@  \n",
      "5        This Potion is awesome! It's pure magic! $%@  \n",
      "6        This Potion is awesome! It's pure magic! )(*  \n",
      "7   This Flying Broom is awesome! It's pure magic!...  \n",
      "8   This Flying Broom is awesome! It's pure magic!...  \n",
      "9   This Crystal Ball is awesome! It's pure magic!...  \n",
      "10   This Spell Book is awesome! It's pure magic! !(&  \n",
      "11  This Crystal Ball is awesome! It's pure magic!...  \n",
      "12  This Crystal Ball is awesome! It's pure magic!...  \n",
      "13    This Spell Bok is awesome! It's pure magic! ($&  \n",
      "14  This Flyng Broom is awesome! It's pure magic! )**  \n",
      "15   This Spell Book is awesome! It's pure magic! )!@  \n",
      "16    This Spell Bok is awesome! It's pure magic! &!!  \n",
      "17    This Spell Bok is awesome! It's pure magic! #!(  \n",
      "18  This Flyng Broom is awesome! It's pure magic! &^$  \n",
      "19  This Crystal Ball is awesome! It's pure magic!...  \n"
     ]
    }
   ],
   "source": [
    "import pandas as pd\n",
    "import numpy as np\n",
    "\n",
    "# Seed for reproducibility\n",
    "np.random.seed(24)\n",
    "\n",
    "# Generate synthetic data\n",
    "review_ids = np.arange(1, 21)\n",
    "emails = ['user{}@example.com'.format(i) for i in range(1, 21)]\n",
    "emails = [email.replace('user', 'UsEr-') if i % 2 == 0 else email for i, email in enumerate(emails)]\n",
    "product_names = ['Magic Wand', 'Potion', 'Spell Book', 'Crystal Ball', 'Flying Broom']\n",
    "typos = ['Magic Wnd', 'Potin', 'Spell Bok', 'Crystal Bll', 'Flyng Broom']\n",
    "\n",
    "reviews = [\n",
    "    \"This {} is awesome! It's pure magic!\".format(np.random.choice(product_names + typos))\n",
    "    for _ in review_ids\n",
    "]\n",
    "special_characters = ['!', '@', '#', '$', '%', '^', '&', '*', '(', ')']\n",
    "reviews = [\n",
    "    review + ' ' + ''.join(np.random.choice(special_characters, 3))\n",
    "    for review in reviews\n",
    "]\n",
    "\n",
    "# Create DataFrame\n",
    "customer_reviews = pd.DataFrame({\n",
    "    'review_id': review_ids,\n",
    "    'email': emails,\n",
    "    'product_name': [np.random.choice(product_names + typos) for _ in review_ids],\n",
    "    'review_text': reviews\n",
    "})\n",
    "\n",
    "# Display the dataset\n",
    "print(\"Customer Reviews DataFrame:\")\n",
    "print(customer_reviews)\n"
   ]
  },
  {
   "cell_type": "markdown",
   "id": "8668d76b",
   "metadata": {
    "papermill": {
     "duration": 0.010698,
     "end_time": "2024-05-28T07:36:10.432848",
     "exception": false,
     "start_time": "2024-05-28T07:36:10.422150",
     "status": "completed"
    },
    "tags": []
   },
   "source": [
    "## Solution Explanation\n",
    "\n",
    "The steps to solve this problem are:\n",
    "1. Standardize the format of email addresses.\n",
    "2. Correct common typos in product names.\n",
    "3. Remove any special characters from the reviews.\n",
    "4. Extract and count the number of reviews mentioning the word \"magic\".\n",
    "5. Identify the top 3 most frequently mentioned products in the reviews.\n",
    "\n",
    "Let's implement these steps in the following code.\n"
   ]
  },
  {
   "cell_type": "code",
   "execution_count": 18,
   "id": "69e878aa",
   "metadata": {
    "execution": {
     "iopub.execute_input": "2024-05-28T07:36:10.459022Z",
     "iopub.status.busy": "2024-05-28T07:36:10.458658Z",
     "iopub.status.idle": "2024-05-28T07:36:10.486668Z",
     "shell.execute_reply": "2024-05-28T07:36:10.485408Z"
    },
    "papermill": {
     "duration": 0.044696,
     "end_time": "2024-05-28T07:36:10.490525",
     "exception": false,
     "start_time": "2024-05-28T07:36:10.445829",
     "status": "completed"
    },
    "tags": []
   },
   "outputs": [
    {
     "name": "stdout",
     "output_type": "stream",
     "text": [
      "Step 1: Standardized Email Addresses\n",
      "    review_id                email\n",
      "0           1   user-1@example.com\n",
      "1           2    user2@example.com\n",
      "2           3   user-3@example.com\n",
      "3           4    user4@example.com\n",
      "4           5   user-5@example.com\n",
      "5           6    user6@example.com\n",
      "6           7   user-7@example.com\n",
      "7           8    user8@example.com\n",
      "8           9   user-9@example.com\n",
      "9          10   user10@example.com\n",
      "10         11  user-11@example.com\n",
      "11         12   user12@example.com\n",
      "12         13  user-13@example.com\n",
      "13         14   user14@example.com\n",
      "14         15  user-15@example.com\n",
      "15         16   user16@example.com\n",
      "16         17  user-17@example.com\n",
      "17         18   user18@example.com\n",
      "18         19  user-19@example.com\n",
      "19         20   user20@example.com \n",
      "\n",
      "Step 2: Corrected Product Names\n",
      "    review_id  product_name\n",
      "0           1  Flying Broom\n",
      "1           2  Flying Broom\n",
      "2           3    Spell Book\n",
      "3           4    Spell Book\n",
      "4           5  Crystal Ball\n",
      "5           6    Magic Wand\n",
      "6           7    Spell Book\n",
      "7           8        Potion\n",
      "8           9    Magic Wand\n",
      "9          10    Spell Book\n",
      "10         11  Flying Broom\n",
      "11         12  Crystal Ball\n",
      "12         13    Magic Wand\n",
      "13         14    Magic Wand\n",
      "14         15    Magic Wand\n",
      "15         16  Flying Broom\n",
      "16         17  Flying Broom\n",
      "17         18        Potion\n",
      "18         19    Magic Wand\n",
      "19         20  Crystal Ball \n",
      "\n",
      "Step 3: Cleaned Review Texts\n",
      "    review_id                                   review_text\n",
      "0           1    This Spell Book is awesome Its pure magic \n",
      "1           2  This Crystal Ball is awesome Its pure magic \n",
      "2           3    This Magic Wand is awesome Its pure magic \n",
      "3           4     This Spell Bok is awesome Its pure magic \n",
      "4           5        This Potion is awesome Its pure magic \n",
      "5           6        This Potion is awesome Its pure magic \n",
      "6           7        This Potion is awesome Its pure magic \n",
      "7           8  This Flying Broom is awesome Its pure magic \n",
      "8           9  This Flying Broom is awesome Its pure magic \n",
      "9          10  This Crystal Ball is awesome Its pure magic \n",
      "10         11    This Spell Book is awesome Its pure magic \n",
      "11         12  This Crystal Ball is awesome Its pure magic \n",
      "12         13  This Crystal Ball is awesome Its pure magic \n",
      "13         14     This Spell Bok is awesome Its pure magic \n",
      "14         15   This Flyng Broom is awesome Its pure magic \n",
      "15         16    This Spell Book is awesome Its pure magic \n",
      "16         17     This Spell Bok is awesome Its pure magic \n",
      "17         18     This Spell Bok is awesome Its pure magic \n",
      "18         19   This Flyng Broom is awesome Its pure magic \n",
      "19         20  This Crystal Ball is awesome Its pure magic  \n",
      "\n",
      "Step 4: Reviews Mentioning 'Magic'\n",
      "Number of reviews mentioning 'magic': 20\n",
      "\n",
      "Step 5: Top 3 Most Frequently Mentioned Products in Reviews\n",
      "0\n",
      "Crystal Ball    5\n",
      "Spell Book      3\n",
      "Potion          3\n",
      "Name: count, dtype: int64\n"
     ]
    }
   ],
   "source": [
    "import re\n",
    "\n",
    "# Step 1: Standardize the format of email addresses\n",
    "customer_reviews['email'] = customer_reviews['email'].str.lower()\n",
    "print(\"Step 1: Standardized Email Addresses\")\n",
    "print(customer_reviews[['review_id', 'email']], \"\\n\")\n",
    "\n",
    "# Step 2: Correct common typos in product names\n",
    "typo_corrections = {\n",
    "    'Magic Wnd': 'Magic Wand',\n",
    "    'Potin': 'Potion',\n",
    "    'Spell Bok': 'Spell Book',\n",
    "    'Crystal Bll': 'Crystal Ball',\n",
    "    'Flyng Broom': 'Flying Broom'\n",
    "}\n",
    "customer_reviews['product_name'] = customer_reviews['product_name'].replace(typo_corrections)\n",
    "print(\"Step 2: Corrected Product Names\")\n",
    "print(customer_reviews[['review_id', 'product_name']], \"\\n\")\n",
    "\n",
    "# Step 3: Remove any special characters from the reviews\n",
    "customer_reviews['review_text'] = customer_reviews['review_text'].apply(lambda x: re.sub(r'[^\\w\\s]', '', x))\n",
    "print(\"Step 3: Cleaned Review Texts\")\n",
    "print(customer_reviews[['review_id', 'review_text']], \"\\n\")\n",
    "\n",
    "# Step 4: Extract and count the number of reviews mentioning the word \"magic\"\n",
    "magic_reviews = customer_reviews[customer_reviews['review_text'].str.contains(r'\\bmagic\\b', case=False)]\n",
    "magic_reviews_count = magic_reviews.shape[0]\n",
    "print(\"Step 4: Reviews Mentioning 'Magic'\")\n",
    "print(f\"Number of reviews mentioning 'magic': {magic_reviews_count}\\n\")\n",
    "\n",
    "# Step 5: Identify the top 3 most frequently mentioned products in the reviews\n",
    "product_mentions = customer_reviews['review_text'].str.extractall(r'({})'.format('|'.join(product_names)))\n",
    "top_products = product_mentions[0].value_counts().head(3)\n",
    "print(\"Step 5: Top 3 Most Frequently Mentioned Products in Reviews\")\n",
    "print(top_products)\n"
   ]
  }
 ],
 "metadata": {
  "kaggle": {
   "accelerator": "none",
   "dataSources": [],
   "dockerImageVersionId": 30673,
   "isGpuEnabled": false,
   "isInternetEnabled": true,
   "language": "python",
   "sourceType": "notebook"
  },
  "kernelspec": {
   "display_name": "Python 3",
   "language": "python",
   "name": "python3"
  },
  "language_info": {
   "codemirror_mode": {
    "name": "ipython",
    "version": 3
   },
   "file_extension": ".py",
   "mimetype": "text/x-python",
   "name": "python",
   "nbconvert_exporter": "python",
   "pygments_lexer": "ipython3",
   "version": "3.10.13"
  },
  "papermill": {
   "default_parameters": {},
   "duration": 5.80703,
   "end_time": "2024-05-28T07:36:11.027153",
   "environment_variables": {},
   "exception": null,
   "input_path": "__notebook__.ipynb",
   "output_path": "__notebook__.ipynb",
   "parameters": {},
   "start_time": "2024-05-28T07:36:05.220123",
   "version": "2.5.0"
  }
 },
 "nbformat": 4,
 "nbformat_minor": 5
}
