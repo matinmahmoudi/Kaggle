{
 "cells": [
  {
   "cell_type": "markdown",
   "id": "abe893d8",
   "metadata": {
    "papermill": {
     "duration": 0.016658,
     "end_time": "2024-05-28T08:04:13.190544",
     "exception": false,
     "start_time": "2024-05-28T08:04:13.173886",
     "status": "completed"
    },
    "tags": []
   },
   "source": [
    "# Pandas Mastery Challenge - Ultimate Tutorial\n",
    "\n",
    "Welcome to the ultimate challenge in our Pandas series! This notebook is designed to test your data manipulation skills to the fullest. Each problem is carefully crafted to cover various aspects of Pandas and provide you with an enriching learning experience.\n",
    "\n",
    "### **Enjoy the challenges? Show your support with an upvote!**\n",
    "\n",
    "## Table of Contents\n",
    "1. [Q1 - The Great Data Merge Maze](#q1)\n",
    "2. [Q2 - Time Travel with Multi-Index](#q2)\n",
    "3. [Q3 - The GroupBy Gauntlet](#q3)\n",
    "4. [Q4 - Regex Riddles in Data Cleaning](#q4)\n",
    "5. [Q5 - Speed Demon Data Manipulation](#q5)\n",
    "6. [Q6 - Recursive Riddle](#q6)\n",
    "7. [Q7 - Statistician's Nightmare](#q7)\n",
    "8. [Q8 - Pivot Table Puzzles](#q8)\n",
    "9. [Q9 - Aggregation Aggravation](#q9)\n",
    "10. [Q10 - Visual Magic with Pandas](#q10)\n",
    "11. [Q11 - Nested Data Labyrinth](#q11)\n",
    "12. [Q12 - Async Adventures in Data](#q12)\n",
    "13. [Q13 - Geo Pandas Adventure](#q13)\n",
    "14. [Q14 - Network Nexus Analysis](#q14)\n",
    "15. [Q15 - High Dimensional Hide and Seek](#q15)\n",
    "16. [Q16 - Real-time Data Rush](#q16)\n",
    "17. [Q17 - Machine Learning Preprocess Pandemonium](#q17)\n",
    "18. [Q18 - Text Tango with Pandas](#q18)\n",
    "19. [Q19 - Anomaly Detection Drama](#q19)\n",
    "20. [Q20 - Imputation Imbroglio](#q20)\n"
   ]
  },
  {
   "cell_type": "markdown",
   "id": "bacebcd3",
   "metadata": {
    "papermill": {
     "duration": 0.015659,
     "end_time": "2024-05-28T08:04:13.223246",
     "exception": false,
     "start_time": "2024-05-28T08:04:13.207587",
     "status": "completed"
    },
    "tags": []
   },
   "source": [
    "# Q1 - The Great Data Merge Maze\n",
    "<a id=\"q1\"></a>\n",
    "\n",
    "\n",
    "**Question:**\n",
    "Welcome to the Great Data Merge Maze! You are given three datasets: `customers`, `orders`, and `products`. Your task is to merge these datasets to answer the following questions:\n",
    "1. Which customers ordered which products and at what price?\n",
    "2. Calculate the total amount spent by each customer.\n",
    "3. Identify the top 2 customers who spent the most.\n",
    "4. Determine which products were never ordered.\n",
    "5. Find the customer who ordered the highest quantity of a single product.\n",
    "\n",
    "**Datasets:**\n",
    "- `customers`: Contains customer IDs and names.\n",
    "- `orders`: Contains order IDs, customer IDs, product IDs, and order quantities.\n",
    "- `products`: Contains product IDs, names, and prices.\n",
    "\n",
    "Generate synthetic data for the datasets and merge them to find the answers.\n"
   ]
  },
  {
   "cell_type": "code",
   "execution_count": 1,
   "id": "29370d4e",
   "metadata": {
    "execution": {
     "iopub.execute_input": "2024-05-28T08:04:13.257096Z",
     "iopub.status.busy": "2024-05-28T08:04:13.256628Z",
     "iopub.status.idle": "2024-05-28T08:04:14.263043Z",
     "shell.execute_reply": "2024-05-28T08:04:14.261812Z"
    },
    "papermill": {
     "duration": 1.027026,
     "end_time": "2024-05-28T08:04:14.266136",
     "exception": false,
     "start_time": "2024-05-28T08:04:13.239110",
     "status": "completed"
    },
    "tags": []
   },
   "outputs": [
    {
     "name": "stdout",
     "output_type": "stream",
     "text": [
      "Customers DataFrame:\n",
      "   customer_id     customer_name\n",
      "0            1      Alice Apples\n",
      "1            2       Bob Bananas\n",
      "2            3  Charlie Cherries\n",
      "3            4       David Dates\n",
      "4            5  Eve Elderberries\n",
      "5            6        Frank Figs\n",
      "6            7      Grace Grapes\n",
      "7            8   Hannah Honeydew\n",
      "8            9       Ivy Iceberg\n",
      "9           10       Jack Jicama \n",
      "\n",
      "Products DataFrame:\n",
      "   product_id            product_name  product_price\n",
      "0           1           Widget Wonder          59.39\n",
      "1           2             Gizmo Glitz          74.37\n",
      "2           3          Doodad Delight          64.25\n",
      "3           4      Thingamajig Thrill          59.04\n",
      "4           5       Contraption Charm          48.13\n",
      "5           6             Gadget Glow          68.13\n",
      "6           7  Whatchamacallit Whimsy          49.38\n",
      "7           8        Doohickey Dazzle          90.26\n",
      "8           9            Whatsit Whiz          96.73\n",
      "9          10          Gubbins Galore          44.51 \n",
      "\n",
      "Orders DataFrame:\n",
      "    order_id  customer_id  product_id  order_quantity\n",
      "0          1            7           4               9\n",
      "1          2            8           4               5\n",
      "2          3            8           8               2\n",
      "3          4            9           1               5\n",
      "4          5            2           2               9\n",
      "5          6            6          10               2\n",
      "6          7           10          10               2\n",
      "7          8            9           1               8\n",
      "8          9           10           5               4\n",
      "9         10            5           8               7\n",
      "10        11            4           4               8\n",
      "11        12            1           3               3\n",
      "12        13            4           8               1\n",
      "13        14            6           3               4\n",
      "14        15            1           1               6\n",
      "15        16            3           1               5\n",
      "16        17            4           5               5\n",
      "17        18            9           6               7\n",
      "18        19            2           6               5\n",
      "19        20            4           7               5\n"
     ]
    }
   ],
   "source": [
    "import pandas as pd\n",
    "import numpy as np\n",
    "\n",
    "# Seed for reproducibility\n",
    "np.random.seed(0)\n",
    "\n",
    "# Customers DataFrame\n",
    "customers = pd.DataFrame({\n",
    "    'customer_id': range(1, 11),\n",
    "    'customer_name': ['Alice Apples', 'Bob Bananas', 'Charlie Cherries', 'David Dates', 'Eve Elderberries', 'Frank Figs', 'Grace Grapes', 'Hannah Honeydew', 'Ivy Iceberg', 'Jack Jicama']\n",
    "})\n",
    "\n",
    "# Products DataFrame\n",
    "products = pd.DataFrame({\n",
    "    'product_id': range(1, 11),\n",
    "    'product_name': ['Widget Wonder', 'Gizmo Glitz', 'Doodad Delight', 'Thingamajig Thrill', 'Contraption Charm', 'Gadget Glow', 'Whatchamacallit Whimsy', 'Doohickey Dazzle', 'Whatsit Whiz', 'Gubbins Galore'],\n",
    "    'product_price': np.random.uniform(10, 100, size=10).round(2)\n",
    "})\n",
    "\n",
    "# Orders DataFrame\n",
    "orders = pd.DataFrame({\n",
    "    'order_id': range(1, 21),\n",
    "    'customer_id': np.random.choice(customers['customer_id'], size=20),\n",
    "    'product_id': np.random.choice(products['product_id'], size=20),\n",
    "    'order_quantity': np.random.randint(1, 10, size=20)\n",
    "})\n",
    "\n",
    "# Display the datasets\n",
    "print(\"Customers DataFrame:\")\n",
    "print(customers, \"\\n\")\n",
    "print(\"Products DataFrame:\")\n",
    "print(products, \"\\n\")\n",
    "print(\"Orders DataFrame:\")\n",
    "print(orders)\n"
   ]
  },
  {
   "cell_type": "markdown",
   "id": "b39b53eb",
   "metadata": {
    "papermill": {
     "duration": 0.016922,
     "end_time": "2024-05-28T08:04:14.299271",
     "exception": false,
     "start_time": "2024-05-28T08:04:14.282349",
     "status": "completed"
    },
    "tags": []
   },
   "source": [
    "## Solution Explanation\n",
    "\n",
    "The steps to solve this problem are:\n",
    "1. Merge the `orders` and `customers` DataFrames on `customer_id` to get customer information with their orders.\n",
    "2. Merge the resulting DataFrame with the `products` DataFrame on `product_id` to get the product prices along with the customer orders.\n",
    "3. Calculate the total amount spent by each customer.\n",
    "4. Identify the top 2 customers who spent the most.\n",
    "5. Determine which products were never ordered.\n",
    "6. Find the customer who ordered the highest quantity of a single product.\n",
    "\n",
    "Let's implement these steps in the following code.\n"
   ]
  },
  {
   "cell_type": "code",
   "execution_count": 2,
   "id": "d03639b0",
   "metadata": {
    "execution": {
     "iopub.execute_input": "2024-05-28T08:04:14.334172Z",
     "iopub.status.busy": "2024-05-28T08:04:14.333675Z",
     "iopub.status.idle": "2024-05-28T08:04:14.360553Z",
     "shell.execute_reply": "2024-05-28T08:04:14.359439Z"
    },
    "papermill": {
     "duration": 0.047221,
     "end_time": "2024-05-28T08:04:14.363453",
     "exception": false,
     "start_time": "2024-05-28T08:04:14.316232",
     "status": "completed"
    },
    "tags": []
   },
   "outputs": [
    {
     "name": "stdout",
     "output_type": "stream",
     "text": [
      "Step 1: Orders merged with Customers\n",
      "    order_id  customer_id  product_id  order_quantity     customer_name\n",
      "0          1            7           4               9      Grace Grapes\n",
      "1          2            8           4               5   Hannah Honeydew\n",
      "2          3            8           8               2   Hannah Honeydew\n",
      "3          4            9           1               5       Ivy Iceberg\n",
      "4          5            2           2               9       Bob Bananas\n",
      "5          6            6          10               2        Frank Figs\n",
      "6          7           10          10               2       Jack Jicama\n",
      "7          8            9           1               8       Ivy Iceberg\n",
      "8          9           10           5               4       Jack Jicama\n",
      "9         10            5           8               7  Eve Elderberries\n",
      "10        11            4           4               8       David Dates\n",
      "11        12            1           3               3      Alice Apples\n",
      "12        13            4           8               1       David Dates\n",
      "13        14            6           3               4        Frank Figs\n",
      "14        15            1           1               6      Alice Apples\n",
      "15        16            3           1               5  Charlie Cherries\n",
      "16        17            4           5               5       David Dates\n",
      "17        18            9           6               7       Ivy Iceberg\n",
      "18        19            2           6               5       Bob Bananas\n",
      "19        20            4           7               5       David Dates \n",
      "\n"
     ]
    }
   ],
   "source": [
    "# Step 1: Merge orders with customers to get customer information in orders\n",
    "# This merge operation will give us a DataFrame that includes each order with the corresponding customer information.\n",
    "orders_customers = pd.merge(orders, customers, on='customer_id', how='inner')\n",
    "print(\"Step 1: Orders merged with Customers\")\n",
    "print(orders_customers, \"\\n\")"
   ]
  },
  {
   "cell_type": "code",
   "execution_count": 3,
   "id": "65c79f7f",
   "metadata": {
    "execution": {
     "iopub.execute_input": "2024-05-28T08:04:14.398917Z",
     "iopub.status.busy": "2024-05-28T08:04:14.397665Z",
     "iopub.status.idle": "2024-05-28T08:04:14.411891Z",
     "shell.execute_reply": "2024-05-28T08:04:14.410624Z"
    },
    "papermill": {
     "duration": 0.034283,
     "end_time": "2024-05-28T08:04:14.414255",
     "exception": false,
     "start_time": "2024-05-28T08:04:14.379972",
     "status": "completed"
    },
    "tags": []
   },
   "outputs": [
    {
     "name": "stdout",
     "output_type": "stream",
     "text": [
      "Step 2: Orders merged with Customers and Products\n",
      "    order_id  customer_id  product_id  order_quantity     customer_name  \\\n",
      "0          1            7           4               9      Grace Grapes   \n",
      "1          2            8           4               5   Hannah Honeydew   \n",
      "2          3            8           8               2   Hannah Honeydew   \n",
      "3          4            9           1               5       Ivy Iceberg   \n",
      "4          5            2           2               9       Bob Bananas   \n",
      "5          6            6          10               2        Frank Figs   \n",
      "6          7           10          10               2       Jack Jicama   \n",
      "7          8            9           1               8       Ivy Iceberg   \n",
      "8          9           10           5               4       Jack Jicama   \n",
      "9         10            5           8               7  Eve Elderberries   \n",
      "10        11            4           4               8       David Dates   \n",
      "11        12            1           3               3      Alice Apples   \n",
      "12        13            4           8               1       David Dates   \n",
      "13        14            6           3               4        Frank Figs   \n",
      "14        15            1           1               6      Alice Apples   \n",
      "15        16            3           1               5  Charlie Cherries   \n",
      "16        17            4           5               5       David Dates   \n",
      "17        18            9           6               7       Ivy Iceberg   \n",
      "18        19            2           6               5       Bob Bananas   \n",
      "19        20            4           7               5       David Dates   \n",
      "\n",
      "              product_name  product_price  \n",
      "0       Thingamajig Thrill          59.04  \n",
      "1       Thingamajig Thrill          59.04  \n",
      "2         Doohickey Dazzle          90.26  \n",
      "3            Widget Wonder          59.39  \n",
      "4              Gizmo Glitz          74.37  \n",
      "5           Gubbins Galore          44.51  \n",
      "6           Gubbins Galore          44.51  \n",
      "7            Widget Wonder          59.39  \n",
      "8        Contraption Charm          48.13  \n",
      "9         Doohickey Dazzle          90.26  \n",
      "10      Thingamajig Thrill          59.04  \n",
      "11          Doodad Delight          64.25  \n",
      "12        Doohickey Dazzle          90.26  \n",
      "13          Doodad Delight          64.25  \n",
      "14           Widget Wonder          59.39  \n",
      "15           Widget Wonder          59.39  \n",
      "16       Contraption Charm          48.13  \n",
      "17             Gadget Glow          68.13  \n",
      "18             Gadget Glow          68.13  \n",
      "19  Whatchamacallit Whimsy          49.38   \n",
      "\n"
     ]
    }
   ],
   "source": [
    "# Step 2: Merge the resulting DataFrame with products to get product prices\n",
    "# This merge operation will add the product details (name and price) to each order.\n",
    "orders_customers_products = pd.merge(orders_customers, products, on='product_id', how='inner')\n",
    "print(\"Step 2: Orders merged with Customers and Products\")\n",
    "print(orders_customers_products, \"\\n\")"
   ]
  },
  {
   "cell_type": "code",
   "execution_count": 4,
   "id": "728e1e66",
   "metadata": {
    "execution": {
     "iopub.execute_input": "2024-05-28T08:04:14.449146Z",
     "iopub.status.busy": "2024-05-28T08:04:14.448785Z",
     "iopub.status.idle": "2024-05-28T08:04:14.459721Z",
     "shell.execute_reply": "2024-05-28T08:04:14.458590Z"
    },
    "papermill": {
     "duration": 0.031624,
     "end_time": "2024-05-28T08:04:14.462448",
     "exception": false,
     "start_time": "2024-05-28T08:04:14.430824",
     "status": "completed"
    },
    "tags": []
   },
   "outputs": [
    {
     "name": "stdout",
     "output_type": "stream",
     "text": [
      "Step 3: Final Merged DataFrame\n",
      "       customer_name            product_name  product_price  order_quantity\n",
      "0       Grace Grapes      Thingamajig Thrill          59.04               9\n",
      "1    Hannah Honeydew      Thingamajig Thrill          59.04               5\n",
      "2    Hannah Honeydew        Doohickey Dazzle          90.26               2\n",
      "3        Ivy Iceberg           Widget Wonder          59.39               5\n",
      "4        Bob Bananas             Gizmo Glitz          74.37               9\n",
      "5         Frank Figs          Gubbins Galore          44.51               2\n",
      "6        Jack Jicama          Gubbins Galore          44.51               2\n",
      "7        Ivy Iceberg           Widget Wonder          59.39               8\n",
      "8        Jack Jicama       Contraption Charm          48.13               4\n",
      "9   Eve Elderberries        Doohickey Dazzle          90.26               7\n",
      "10       David Dates      Thingamajig Thrill          59.04               8\n",
      "11      Alice Apples          Doodad Delight          64.25               3\n",
      "12       David Dates        Doohickey Dazzle          90.26               1\n",
      "13        Frank Figs          Doodad Delight          64.25               4\n",
      "14      Alice Apples           Widget Wonder          59.39               6\n",
      "15  Charlie Cherries           Widget Wonder          59.39               5\n",
      "16       David Dates       Contraption Charm          48.13               5\n",
      "17       Ivy Iceberg             Gadget Glow          68.13               7\n",
      "18       Bob Bananas             Gadget Glow          68.13               5\n",
      "19       David Dates  Whatchamacallit Whimsy          49.38               5 \n",
      "\n"
     ]
    }
   ],
   "source": [
    "# Step 3: Select relevant columns and display the final merged DataFrame\n",
    "# We are interested in customer names, product names, product prices, and order quantities.\n",
    "final_result = orders_customers_products[['customer_name', 'product_name', 'product_price', 'order_quantity']]\n",
    "print(\"Step 3: Final Merged DataFrame\")\n",
    "print(final_result, \"\\n\")"
   ]
  },
  {
   "cell_type": "code",
   "execution_count": 5,
   "id": "c9e34159",
   "metadata": {
    "execution": {
     "iopub.execute_input": "2024-05-28T08:04:14.497407Z",
     "iopub.status.busy": "2024-05-28T08:04:14.497057Z",
     "iopub.status.idle": "2024-05-28T08:04:14.515432Z",
     "shell.execute_reply": "2024-05-28T08:04:14.514171Z"
    },
    "papermill": {
     "duration": 0.039115,
     "end_time": "2024-05-28T08:04:14.518162",
     "exception": false,
     "start_time": "2024-05-28T08:04:14.479047",
     "status": "completed"
    },
    "tags": []
   },
   "outputs": [
    {
     "name": "stdout",
     "output_type": "stream",
     "text": [
      "Step 4: Total Amount Spent by Each Customer\n",
      "      customer_name  total_spent\n",
      "0      Alice Apples       549.09\n",
      "1       Bob Bananas      1009.98\n",
      "2  Charlie Cherries       296.95\n",
      "3       David Dates      1050.13\n",
      "4  Eve Elderberries       631.82\n",
      "5        Frank Figs       346.02\n",
      "6      Grace Grapes       531.36\n",
      "7   Hannah Honeydew       475.72\n",
      "8       Ivy Iceberg      1248.98\n",
      "9       Jack Jicama       281.54 \n",
      "\n"
     ]
    }
   ],
   "source": [
    "# Step 4: Calculate the total amount spent by each customer\n",
    "# We need to multiply the product price by the order quantity for each row and then sum it up per customer.\n",
    "orders_customers_products['total_price'] = orders_customers_products['product_price'] * orders_customers_products['order_quantity']\n",
    "customer_spending = orders_customers_products.groupby('customer_name')['total_price'].sum().reset_index()\n",
    "customer_spending = customer_spending.rename(columns={'total_price': 'total_spent'})\n",
    "print(\"Step 4: Total Amount Spent by Each Customer\")\n",
    "print(customer_spending, \"\\n\")"
   ]
  },
  {
   "cell_type": "code",
   "execution_count": 6,
   "id": "96555725",
   "metadata": {
    "execution": {
     "iopub.execute_input": "2024-05-28T08:04:14.553314Z",
     "iopub.status.busy": "2024-05-28T08:04:14.552923Z",
     "iopub.status.idle": "2024-05-28T08:04:14.563475Z",
     "shell.execute_reply": "2024-05-28T08:04:14.562399Z"
    },
    "papermill": {
     "duration": 0.031027,
     "end_time": "2024-05-28T08:04:14.565939",
     "exception": false,
     "start_time": "2024-05-28T08:04:14.534912",
     "status": "completed"
    },
    "tags": []
   },
   "outputs": [
    {
     "name": "stdout",
     "output_type": "stream",
     "text": [
      "Step 5: Top 2 Customers Who Spent the Most\n",
      "  customer_name  total_spent\n",
      "8   Ivy Iceberg      1248.98\n",
      "3   David Dates      1050.13 \n",
      "\n"
     ]
    }
   ],
   "source": [
    "# Step 5: Identify the top 2 customers who spent the most\n",
    "# Sort the customers by the total amount spent in descending order and take the top 2.\n",
    "top_customers = customer_spending.sort_values(by='total_spent', ascending=False).head(2)\n",
    "print(\"Step 5: Top 2 Customers Who Spent the Most\")\n",
    "print(top_customers, \"\\n\")"
   ]
  },
  {
   "cell_type": "code",
   "execution_count": 7,
   "id": "c5f45391",
   "metadata": {
    "execution": {
     "iopub.execute_input": "2024-05-28T08:04:14.601420Z",
     "iopub.status.busy": "2024-05-28T08:04:14.601010Z",
     "iopub.status.idle": "2024-05-28T08:04:14.613600Z",
     "shell.execute_reply": "2024-05-28T08:04:14.612447Z"
    },
    "papermill": {
     "duration": 0.033269,
     "end_time": "2024-05-28T08:04:14.616140",
     "exception": false,
     "start_time": "2024-05-28T08:04:14.582871",
     "status": "completed"
    },
    "tags": []
   },
   "outputs": [
    {
     "name": "stdout",
     "output_type": "stream",
     "text": [
      "Step 6: Products Never Ordered\n",
      "   product_id  product_name  product_price\n",
      "8           9  Whatsit Whiz          96.73 \n",
      "\n"
     ]
    }
   ],
   "source": [
    "# Step 6: Determine which products were never ordered\n",
    "# Find the products that are not present in the orders DataFrame.\n",
    "ordered_products = orders['product_id'].unique()\n",
    "all_products = products['product_id'].unique()\n",
    "never_ordered_products = products[~products['product_id'].isin(ordered_products)]\n",
    "print(\"Step 6: Products Never Ordered\")\n",
    "print(never_ordered_products, \"\\n\")"
   ]
  },
  {
   "cell_type": "code",
   "execution_count": 8,
   "id": "91dcc38d",
   "metadata": {
    "execution": {
     "iopub.execute_input": "2024-05-28T08:04:14.652389Z",
     "iopub.status.busy": "2024-05-28T08:04:14.651460Z",
     "iopub.status.idle": "2024-05-28T08:04:14.660342Z",
     "shell.execute_reply": "2024-05-28T08:04:14.659175Z"
    },
    "papermill": {
     "duration": 0.02944,
     "end_time": "2024-05-28T08:04:14.662794",
     "exception": false,
     "start_time": "2024-05-28T08:04:14.633354",
     "status": "completed"
    },
    "tags": []
   },
   "outputs": [
    {
     "name": "stdout",
     "output_type": "stream",
     "text": [
      "Step 7: Customer Who Ordered the Highest Quantity of a Single Product\n",
      "customer_name           Grace Grapes\n",
      "product_name      Thingamajig Thrill\n",
      "order_quantity                     9\n",
      "Name: 0, dtype: object\n"
     ]
    }
   ],
   "source": [
    "# Step 7: Find the customer who ordered the highest quantity of a single product\n",
    "# Identify the maximum order quantity and the corresponding customer and product.\n",
    "max_order = orders_customers_products.loc[orders_customers_products['order_quantity'].idxmax()]\n",
    "print(\"Step 7: Customer Who Ordered the Highest Quantity of a Single Product\")\n",
    "print(max_order[['customer_name', 'product_name', 'order_quantity']])"
   ]
  },
  {
   "cell_type": "markdown",
   "id": "318fbd89",
   "metadata": {
    "papermill": {
     "duration": 0.016738,
     "end_time": "2024-05-28T08:04:14.696454",
     "exception": false,
     "start_time": "2024-05-28T08:04:14.679716",
     "status": "completed"
    },
    "tags": []
   },
   "source": [
    "# Q2 - Time Travel with Multi-Index\n",
    "<a id=\"q2\"></a>\n",
    "\n",
    "**Question:**\n",
    "Welcome to Time Travel with Multi-Index! You are given a multi-index time series dataset of sales data for different regions and product categories. Your task is to perform advanced time series analysis and manipulation to answer the following questions:\n",
    "1. What is the total sales for each region and product category over time?\n",
    "2. Calculate the moving average of sales for each region and product category.\n",
    "3. Identify the region with the highest sales growth rate.\n",
    "4. Determine the top-selling product category for each region.\n",
    "5. Find the month with the highest overall sales.\n",
    "\n",
    "**Datasets:**\n",
    "- `sales_data`: Contains multi-index (region, product_category) and columns (date, sales).\n",
    "\n"
   ]
  },
  {
   "cell_type": "code",
   "execution_count": 9,
   "id": "453425fd",
   "metadata": {
    "execution": {
     "iopub.execute_input": "2024-05-28T08:04:14.732923Z",
     "iopub.status.busy": "2024-05-28T08:04:14.732327Z",
     "iopub.status.idle": "2024-05-28T08:04:14.760855Z",
     "shell.execute_reply": "2024-05-28T08:04:14.759623Z"
    },
    "papermill": {
     "duration": 0.049891,
     "end_time": "2024-05-28T08:04:14.763394",
     "exception": false,
     "start_time": "2024-05-28T08:04:14.713503",
     "status": "completed"
    },
    "tags": []
   },
   "outputs": [
    {
     "name": "stdout",
     "output_type": "stream",
     "text": [
      "Sales Data DataFrame:\n",
      "                                        Sales\n",
      "Region     Product_Category Date             \n",
      "North Pole Gizmos           2023-01-31   2061\n",
      "                            2023-02-28   1235\n",
      "                            2023-03-31   4980\n",
      "                            2023-04-30   2096\n",
      "                            2023-05-31   4839\n",
      "...                                       ...\n",
      "Westworld  Thingamajigs     2023-08-31   3224\n",
      "                            2023-09-30   2590\n",
      "                            2023-10-31   4087\n",
      "                            2023-11-30   3949\n",
      "                            2023-12-31   2425\n",
      "\n",
      "[192 rows x 1 columns]\n"
     ]
    }
   ],
   "source": [
    "import pandas as pd\n",
    "import numpy as np\n",
    "\n",
    "# Seed for reproducibility\n",
    "np.random.seed(1)\n",
    "\n",
    "# Generate date range\n",
    "date_range = pd.date_range(start='2023-01-01', end='2023-12-31', freq='ME')\n",
    "\n",
    "# Regions and product categories\n",
    "regions = ['North Pole', 'South Pole', 'East Egg', 'Westworld']\n",
    "product_categories = ['Gizmos', 'Widgets', 'Doodads', 'Thingamajigs']\n",
    "\n",
    "# Generate synthetic sales data\n",
    "data = []\n",
    "for region in regions:\n",
    "    for category in product_categories:\n",
    "        sales = np.random.randint(1000, 5000, size=len(date_range))\n",
    "        for date, sale in zip(date_range, sales):\n",
    "            data.append([region, category, date, sale])\n",
    "\n",
    "# Create DataFrame\n",
    "sales_data = pd.DataFrame(data, columns=['Region', 'Product_Category', 'Date', 'Sales'])\n",
    "\n",
    "# Set multi-index\n",
    "sales_data.set_index(['Region', 'Product_Category', 'Date'], inplace=True)\n",
    "\n",
    "# Display the dataset\n",
    "print(\"Sales Data DataFrame:\")\n",
    "print(sales_data)\n"
   ]
  },
  {
   "cell_type": "markdown",
   "id": "e593e813",
   "metadata": {
    "papermill": {
     "duration": 0.016721,
     "end_time": "2024-05-28T08:04:14.797183",
     "exception": false,
     "start_time": "2024-05-28T08:04:14.780462",
     "status": "completed"
    },
    "tags": []
   },
   "source": [
    "## Solution Explanation\n",
    "\n",
    "The steps to solve this problem are:\n",
    "1. Calculate the total sales for each region and product category over time.\n",
    "2. Calculate the moving average of sales for each region and product category.\n",
    "3. Identify the region with the highest sales growth rate.\n",
    "4. Determine the top-selling product category for each region.\n",
    "5. Find the month with the highest overall sales.\n",
    "\n",
    "Let's implement these steps in the following code.\n"
   ]
  },
  {
   "cell_type": "code",
   "execution_count": 10,
   "id": "4bda2735",
   "metadata": {
    "execution": {
     "iopub.execute_input": "2024-05-28T08:04:14.834523Z",
     "iopub.status.busy": "2024-05-28T08:04:14.834151Z",
     "iopub.status.idle": "2024-05-28T08:04:14.889411Z",
     "shell.execute_reply": "2024-05-28T08:04:14.888261Z"
    },
    "papermill": {
     "duration": 0.076619,
     "end_time": "2024-05-28T08:04:14.892394",
     "exception": false,
     "start_time": "2024-05-28T08:04:14.815775",
     "status": "completed"
    },
    "tags": []
   },
   "outputs": [
    {
     "name": "stdout",
     "output_type": "stream",
     "text": [
      "Step 1: Total Sales for Each Region and Product Category Over Time\n",
      "                                       Sales\n",
      "Region    Product_Category Date             \n",
      "East Egg  Doodads          2023-01-31   2393\n",
      "                           2023-02-28   2869\n",
      "                           2023-03-31   2795\n",
      "                           2023-04-30   3944\n",
      "                           2023-05-31   2277\n",
      "...                                      ...\n",
      "Westworld Widgets          2023-08-31   3464\n",
      "                           2023-09-30   4212\n",
      "                           2023-10-31   4265\n",
      "                           2023-11-30   1606\n",
      "                           2023-12-31   4644\n",
      "\n",
      "[192 rows x 1 columns] \n",
      "\n"
     ]
    }
   ],
   "source": [
    "# Step 1: Calculate the total sales for each region and product category over time\n",
    "# First, we'll group the data by Region and Product Category, then resample it to monthly frequency and sum the sales.\n",
    "total_sales = sales_data.groupby(['Region', 'Product_Category']).resample('ME', level='Date').sum()\n",
    "print(\"Step 1: Total Sales for Each Region and Product Category Over Time\")\n",
    "print(total_sales, \"\\n\")"
   ]
  },
  {
   "cell_type": "code",
   "execution_count": 11,
   "id": "76167ace",
   "metadata": {
    "execution": {
     "iopub.execute_input": "2024-05-28T08:04:14.928781Z",
     "iopub.status.busy": "2024-05-28T08:04:14.928385Z",
     "iopub.status.idle": "2024-05-28T08:04:14.946823Z",
     "shell.execute_reply": "2024-05-28T08:04:14.945621Z"
    },
    "papermill": {
     "duration": 0.039705,
     "end_time": "2024-05-28T08:04:14.949484",
     "exception": false,
     "start_time": "2024-05-28T08:04:14.909779",
     "status": "completed"
    },
    "tags": []
   },
   "outputs": [
    {
     "name": "stdout",
     "output_type": "stream",
     "text": [
      "Step 2: Moving Average of Sales for Each Region and Product Category\n",
      "                                          Region Product_Category        Sales\n",
      "Region    Product_Category Date                                               \n",
      "East Egg  Doodads          2023-01-31   East Egg          Doodads          NaN\n",
      "                           2023-02-28   East Egg          Doodads          NaN\n",
      "                           2023-03-31   East Egg          Doodads  2685.666667\n",
      "                           2023-04-30   East Egg          Doodads  3202.666667\n",
      "                           2023-05-31   East Egg          Doodads  3005.333333\n",
      "...                                          ...              ...          ...\n",
      "Westworld Widgets          2023-08-31  Westworld          Widgets  4248.000000\n",
      "                           2023-09-30  Westworld          Widgets  4136.000000\n",
      "                           2023-10-31  Westworld          Widgets  3980.333333\n",
      "                           2023-11-30  Westworld          Widgets  3361.000000\n",
      "                           2023-12-31  Westworld          Widgets  3505.000000\n",
      "\n",
      "[192 rows x 3 columns] \n",
      "\n"
     ]
    }
   ],
   "source": [
    "# Step 2: Calculate the moving average of sales for each region and product category\n",
    "# We'll calculate a rolling window average with a window size of 3 months.\n",
    "moving_avg_sales = total_sales.groupby(level=['Region', 'Product_Category']).rolling(window=3).mean()\n",
    "print(\"Step 2: Moving Average of Sales for Each Region and Product Category\")\n",
    "print(moving_avg_sales.reset_index(level=[0, 1]), \"\\n\")"
   ]
  },
  {
   "cell_type": "code",
   "execution_count": 12,
   "id": "befbb7b4",
   "metadata": {
    "execution": {
     "iopub.execute_input": "2024-05-28T08:04:14.986799Z",
     "iopub.status.busy": "2024-05-28T08:04:14.986380Z",
     "iopub.status.idle": "2024-05-28T08:04:14.998345Z",
     "shell.execute_reply": "2024-05-28T08:04:14.997059Z"
    },
    "papermill": {
     "duration": 0.033953,
     "end_time": "2024-05-28T08:04:15.001294",
     "exception": false,
     "start_time": "2024-05-28T08:04:14.967341",
     "status": "completed"
    },
    "tags": []
   },
   "outputs": [
    {
     "name": "stdout",
     "output_type": "stream",
     "text": [
      "Step 3: Region with the Highest Sales Growth Rate\n",
      "Region: North Pole\n",
      "\n"
     ]
    }
   ],
   "source": [
    "# Step 3: Identify the region with the highest sales growth rate\n",
    "# We'll calculate the percentage change in total sales for each region and identify the one with the highest growth.\n",
    "sales_growth = total_sales.groupby(level='Region').sum().pct_change().fillna(0)\n",
    "highest_growth_region = sales_growth['Sales'].idxmax()\n",
    "print(\"Step 3: Region with the Highest Sales Growth Rate\")\n",
    "print(f\"Region: {highest_growth_region}\\n\")\n"
   ]
  },
  {
   "cell_type": "code",
   "execution_count": 13,
   "id": "6e81f38f",
   "metadata": {
    "execution": {
     "iopub.execute_input": "2024-05-28T08:04:15.038983Z",
     "iopub.status.busy": "2024-05-28T08:04:15.038582Z",
     "iopub.status.idle": "2024-05-28T08:04:15.053483Z",
     "shell.execute_reply": "2024-05-28T08:04:15.052411Z"
    },
    "papermill": {
     "duration": 0.036863,
     "end_time": "2024-05-28T08:04:15.056389",
     "exception": false,
     "start_time": "2024-05-28T08:04:15.019526",
     "status": "completed"
    },
    "tags": []
   },
   "outputs": [
    {
     "name": "stdout",
     "output_type": "stream",
     "text": [
      "Step 4: Top-Selling Product Category for Each Region\n",
      "                                 Sales\n",
      "Region                                \n",
      "East Egg            (East Egg, Gizmos)\n",
      "North Pole       (North Pole, Widgets)\n",
      "South Pole  (South Pole, Thingamajigs)\n",
      "Westworld          (Westworld, Gizmos) \n",
      "\n"
     ]
    }
   ],
   "source": [
    "# Step 4: Determine the top-selling product category for each region\n",
    "# We will group by Region and Product Category, sum the sales, and find the product category with the highest sales for each region.\n",
    "top_selling_category = total_sales.groupby(['Region', 'Product_Category']).sum().groupby(level='Region').idxmax()\n",
    "print(\"Step 4: Top-Selling Product Category for Each Region\")\n",
    "print(top_selling_category, \"\\n\")"
   ]
  },
  {
   "cell_type": "code",
   "execution_count": 14,
   "id": "bed8141d",
   "metadata": {
    "execution": {
     "iopub.execute_input": "2024-05-28T08:04:15.094287Z",
     "iopub.status.busy": "2024-05-28T08:04:15.093897Z",
     "iopub.status.idle": "2024-05-28T08:04:15.102524Z",
     "shell.execute_reply": "2024-05-28T08:04:15.101442Z"
    },
    "papermill": {
     "duration": 0.030668,
     "end_time": "2024-05-28T08:04:15.105158",
     "exception": false,
     "start_time": "2024-05-28T08:04:15.074490",
     "status": "completed"
    },
    "tags": []
   },
   "outputs": [
    {
     "name": "stdout",
     "output_type": "stream",
     "text": [
      "Step 5: Month with the Highest Overall Sales\n",
      "Month: 2023-05\n",
      "\n"
     ]
    }
   ],
   "source": [
    "# Step 5: Find the month with the highest overall sales\n",
    "# We will sum the sales for each month across all regions and product categories to find the month with the highest total sales.\n",
    "total_monthly_sales = total_sales.groupby('Date').sum()\n",
    "highest_sales_month = total_monthly_sales['Sales'].idxmax()\n",
    "print(\"Step 5: Month with the Highest Overall Sales\")\n",
    "print(f\"Month: {highest_sales_month.strftime('%Y-%m')}\\n\")"
   ]
  },
  {
   "cell_type": "markdown",
   "id": "d9c30cf6",
   "metadata": {
    "papermill": {
     "duration": 0.018331,
     "end_time": "2024-05-28T08:04:15.141610",
     "exception": false,
     "start_time": "2024-05-28T08:04:15.123279",
     "status": "completed"
    },
    "tags": []
   },
   "source": [
    "# Q3 - The GroupBy Gauntlet\n",
    "<a id=\"q3\"></a>\n",
    "\n",
    "**Question:**\n",
    "Welcome to the GroupBy Gauntlet! You are given a dataset of wacky wizard tournaments. Each tournament has multiple rounds, and wizards earn points in each round. Your task is to perform complex groupby operations to answer the following questions:\n",
    "1. Calculate the total points for each wizard across all tournaments.\n",
    "2. Identify the wizard with the highest average points per round.\n",
    "3. Determine the tournament with the highest total points.\n",
    "4. Find the wizard who won the most rounds (i.e., highest points in each round).\n",
    "5. Calculate the average points per round for each tournament.\n",
    "6. Determine the standard deviation of points for each wizard across all tournaments.\n",
    "7. Identify the top 3 wizards with the most consistent performance (lowest standard deviation in points).\n",
    "8. Calculate the cumulative points for each wizard across all tournaments over time.\n",
    "9. Find the round in each tournament with the highest average points scored.\n",
    "10. Determine the correlation between the number of rounds and total points scored for each wizard.\n",
    "\n",
    "**Datasets:**\n",
    "- `wizard_tournaments`: Contains columns (tournament_id, round_id, wizard_name, points).\n",
    "\n"
   ]
  },
  {
   "cell_type": "code",
   "execution_count": 15,
   "id": "1016bb4b",
   "metadata": {
    "execution": {
     "iopub.execute_input": "2024-05-28T08:04:15.180524Z",
     "iopub.status.busy": "2024-05-28T08:04:15.180090Z",
     "iopub.status.idle": "2024-05-28T08:04:15.199722Z",
     "shell.execute_reply": "2024-05-28T08:04:15.198646Z"
    },
    "papermill": {
     "duration": 0.041972,
     "end_time": "2024-05-28T08:04:15.202282",
     "exception": false,
     "start_time": "2024-05-28T08:04:15.160310",
     "status": "completed"
    },
    "tags": []
   },
   "outputs": [
    {
     "name": "stdout",
     "output_type": "stream",
     "text": [
      "Wizard Tournaments DataFrame:\n",
      "   tournament_id  round_id wizard_name  points\n",
      "0              1         1      Merlin      51\n",
      "1              1         1     Gandalf      92\n",
      "2              1         1       Harry      14\n",
      "3              1         1   Voldemort      71\n",
      "4              1         1     Saruman      60\n"
     ]
    }
   ],
   "source": [
    "import pandas as pd\n",
    "import numpy as np\n",
    "\n",
    "# Seed for reproducibility\n",
    "np.random.seed(42)\n",
    "\n",
    "# Generate synthetic data\n",
    "tournament_ids = np.arange(1, 6)\n",
    "round_ids = np.arange(1, 11)\n",
    "wizard_names = ['Merlin', 'Gandalf', 'Harry', 'Voldemort', 'Saruman', 'Dumbledore', 'Hermione', 'Ron']\n",
    "\n",
    "data = []\n",
    "for tournament in tournament_ids:\n",
    "    for round_id in round_ids:\n",
    "        for wizard in wizard_names:\n",
    "            points = np.random.randint(0, 101)\n",
    "            data.append([tournament, round_id, wizard, points])\n",
    "\n",
    "# Create DataFrame\n",
    "wizard_tournaments = pd.DataFrame(data, columns=['tournament_id', 'round_id', 'wizard_name', 'points'])\n",
    "\n",
    "# Display the dataset\n",
    "print(\"Wizard Tournaments DataFrame:\")\n",
    "print(wizard_tournaments.head())\n"
   ]
  },
  {
   "cell_type": "markdown",
   "id": "566cc4fe",
   "metadata": {
    "papermill": {
     "duration": 0.01812,
     "end_time": "2024-05-28T08:04:15.239167",
     "exception": false,
     "start_time": "2024-05-28T08:04:15.221047",
     "status": "completed"
    },
    "tags": []
   },
   "source": [
    "## Solution Explanation\n",
    "\n",
    "The steps to solve this problem are:\n",
    "1. Calculate the total points for each wizard across all tournaments.\n",
    "2. Identify the wizard with the highest average points per round.\n",
    "3. Determine the tournament with the highest total points.\n",
    "4. Find the wizard who won the most rounds (i.e., highest points in each round).\n",
    "5. Calculate the average points per round for each tournament.\n",
    "6. Determine the standard deviation of points for each wizard across all tournaments.\n",
    "7. Identify the top 3 wizards with the most consistent performance (lowest standard deviation in points).\n",
    "8. Calculate the cumulative points for each wizard across all tournaments over time.\n",
    "9. Find the round in each tournament with the highest average points scored.\n",
    "Let's implement these steps in the following code.\n"
   ]
  },
  {
   "cell_type": "code",
   "execution_count": 16,
   "id": "cc1d9cc3",
   "metadata": {
    "execution": {
     "iopub.execute_input": "2024-05-28T08:04:15.338725Z",
     "iopub.status.busy": "2024-05-28T08:04:15.338221Z",
     "iopub.status.idle": "2024-05-28T08:04:15.392765Z",
     "shell.execute_reply": "2024-05-28T08:04:15.391625Z"
    },
    "papermill": {
     "duration": 0.077199,
     "end_time": "2024-05-28T08:04:15.395407",
     "exception": false,
     "start_time": "2024-05-28T08:04:15.318208",
     "status": "completed"
    },
    "tags": []
   },
   "outputs": [
    {
     "name": "stdout",
     "output_type": "stream",
     "text": [
      "Step 1: Total Points for Each Wizard\n",
      "  wizard_name  points\n",
      "0  Dumbledore    2428\n",
      "1     Gandalf    2851\n",
      "2       Harry    2346\n",
      "3    Hermione    3091\n",
      "4      Merlin    2488\n",
      "5         Ron    2210\n",
      "6     Saruman    2432\n",
      "7   Voldemort    2152 \n",
      "\n",
      "Step 2: Wizard with the Highest Average Points per Round\n",
      "wizard_name    Hermione\n",
      "points            61.82\n",
      "Name: 3, dtype: object \n",
      "\n",
      "Step 3: Tournament with the Highest Total Points\n",
      "tournament_id       3\n",
      "points           4074\n",
      "Name: 2, dtype: int64 \n",
      "\n",
      "Step 4: Wizard Who Won the Most Rounds\n",
      "Wizard: Gandalf\n",
      "\n",
      "Step 5: Average Points per Round for Each Tournament\n",
      "   tournament_id   points\n",
      "0              1  48.9750\n",
      "1              2  49.7250\n",
      "2              3  50.9250\n",
      "3              4  50.1625\n",
      "4              5  50.1875 \n",
      "\n",
      "Step 6: Standard Deviation of Points for Each Wizard\n",
      "  wizard_name     points\n",
      "0  Dumbledore  28.790701\n",
      "1     Gandalf  31.099242\n",
      "2       Harry  27.568719\n",
      "3    Hermione  28.769095\n",
      "4      Merlin  29.651417\n",
      "5         Ron  30.809487\n",
      "6     Saruman  30.693854\n",
      "7   Voldemort  30.334839 \n",
      "\n",
      "Step 7: Top 3 Most Consistent Wizards\n",
      "  wizard_name     points\n",
      "2       Harry  27.568719\n",
      "3    Hermione  28.769095\n",
      "0  Dumbledore  28.790701 \n",
      "\n",
      "Step 8: Cumulative Points for Each Wizard Over Time\n",
      "   wizard_name  tournament_id  round_id  cumulative_points\n",
      "5   Dumbledore              1         1                 20\n",
      "13  Dumbledore              1         2                 22\n",
      "21  Dumbledore              1         3                 85\n",
      "29  Dumbledore              1         4                133\n",
      "37  Dumbledore              1         5                194 \n",
      "\n",
      "Step 9: Round with the Highest Average Points Scored in Each Tournament\n",
      "    tournament_id  round_id  points\n",
      "0               1         1  59.500\n",
      "17              2         8  68.500\n",
      "20              3         1  65.125\n",
      "39              4        10  73.000\n",
      "48              5         9  68.500 \n",
      "\n"
     ]
    }
   ],
   "source": [
    "# Step 1: Calculate the total points for each wizard across all tournaments\n",
    "total_points_per_wizard = wizard_tournaments.groupby('wizard_name')['points'].sum().reset_index()\n",
    "print(\"Step 1: Total Points for Each Wizard\")\n",
    "print(total_points_per_wizard, \"\\n\")\n",
    "\n",
    "# Step 2: Identify the wizard with the highest average points per round\n",
    "average_points_per_round = wizard_tournaments.groupby('wizard_name')['points'].mean().reset_index()\n",
    "highest_avg_points_wizard = average_points_per_round.loc[average_points_per_round['points'].idxmax()]\n",
    "print(\"Step 2: Wizard with the Highest Average Points per Round\")\n",
    "print(highest_avg_points_wizard, \"\\n\")\n",
    "\n",
    "# Step 3: Determine the tournament with the highest total points\n",
    "total_points_per_tournament = wizard_tournaments.groupby('tournament_id')['points'].sum().reset_index()\n",
    "highest_total_points_tournament = total_points_per_tournament.loc[total_points_per_tournament['points'].idxmax()]\n",
    "print(\"Step 3: Tournament with the Highest Total Points\")\n",
    "print(highest_total_points_tournament, \"\\n\")\n",
    "\n",
    "# Step 4: Find the wizard who won the most rounds (i.e., highest points in each round)\n",
    "round_winners = wizard_tournaments.loc[wizard_tournaments.groupby(['tournament_id', 'round_id'])['points'].idxmax()]\n",
    "most_round_wins = round_winners['wizard_name'].value_counts().idxmax()\n",
    "print(\"Step 4: Wizard Who Won the Most Rounds\")\n",
    "print(f\"Wizard: {most_round_wins}\\n\")\n",
    "\n",
    "# Step 5: Calculate the average points per round for each tournament\n",
    "average_points_per_tournament = wizard_tournaments.groupby('tournament_id')['points'].mean().reset_index()\n",
    "print(\"Step 5: Average Points per Round for Each Tournament\")\n",
    "print(average_points_per_tournament, \"\\n\")\n",
    "\n",
    "# Step 6: Determine the standard deviation of points for each wizard across all tournaments\n",
    "std_dev_points_per_wizard = wizard_tournaments.groupby('wizard_name')['points'].std().reset_index()\n",
    "std_dev_points_per_wizard['points'] = std_dev_points_per_wizard['points'].fillna(0)  # Handle NaN values\n",
    "print(\"Step 6: Standard Deviation of Points for Each Wizard\")\n",
    "print(std_dev_points_per_wizard, \"\\n\")\n",
    "\n",
    "# Step 7: Identify the top 3 wizards with the most consistent performance (lowest standard deviation in points)\n",
    "most_consistent_wizards = std_dev_points_per_wizard.nsmallest(3, 'points')\n",
    "print(\"Step 7: Top 3 Most Consistent Wizards\")\n",
    "print(most_consistent_wizards, \"\\n\")\n",
    "\n",
    "# Step 8: Calculate the cumulative points for each wizard across all tournaments over time\n",
    "wizard_tournaments_sorted = wizard_tournaments.sort_values(by=['wizard_name', 'tournament_id', 'round_id'])\n",
    "wizard_tournaments_sorted['cumulative_points'] = wizard_tournaments_sorted.groupby('wizard_name')['points'].cumsum()\n",
    "print(\"Step 8: Cumulative Points for Each Wizard Over Time\")\n",
    "print(wizard_tournaments_sorted[['wizard_name', 'tournament_id', 'round_id', 'cumulative_points']].head(), \"\\n\")\n",
    "\n",
    "# Step 9: Find the round in each tournament with the highest average points scored\n",
    "highest_avg_points_per_round = wizard_tournaments.groupby(['tournament_id', 'round_id'])['points'].mean().reset_index()\n",
    "round_with_highest_avg_points = highest_avg_points_per_round.loc[highest_avg_points_per_round.groupby('tournament_id')['points'].idxmax()]\n",
    "print(\"Step 9: Round with the Highest Average Points Scored in Each Tournament\")\n",
    "print(round_with_highest_avg_points, \"\\n\")"
   ]
  },
  {
   "cell_type": "markdown",
   "id": "3628a269",
   "metadata": {
    "papermill": {
     "duration": 0.018245,
     "end_time": "2024-05-28T08:04:15.431918",
     "exception": false,
     "start_time": "2024-05-28T08:04:15.413673",
     "status": "completed"
    },
    "tags": []
   },
   "source": [
    "# Q4 - Regex Riddles in Data Cleaning\n",
    "<a id=\"q4\"></a>\n",
    "\n",
    "**Question:**\n",
    "Welcome to Regex Riddles in Data Cleaning! You are given a dataset containing customer reviews for various fantastical products. However, the data is quite messy with inconsistent formats, typos, and random special characters. Your task is to use regular expressions and other data cleaning techniques to answer the following questions:\n",
    "1. Standardize the format of email addresses.\n",
    "2. Correct common typos in product names.\n",
    "3. Remove any special characters from the reviews.\n",
    "4. Extract and count the number of reviews mentioning the word \"magic\".\n",
    "5. Identify the top 3 most frequently mentioned products in the reviews.\n",
    "\n",
    "**Datasets:**\n",
    "- `customer_reviews`: Contains columns (review_id, email, product_name, review_text).\n"
   ]
  },
  {
   "cell_type": "code",
   "execution_count": 17,
   "id": "32d96db7",
   "metadata": {
    "execution": {
     "iopub.execute_input": "2024-05-28T08:04:15.470392Z",
     "iopub.status.busy": "2024-05-28T08:04:15.470031Z",
     "iopub.status.idle": "2024-05-28T08:04:15.487730Z",
     "shell.execute_reply": "2024-05-28T08:04:15.486626Z"
    },
    "papermill": {
     "duration": 0.04068,
     "end_time": "2024-05-28T08:04:15.490944",
     "exception": false,
     "start_time": "2024-05-28T08:04:15.450264",
     "status": "completed"
    },
    "tags": []
   },
   "outputs": [
    {
     "name": "stdout",
     "output_type": "stream",
     "text": [
      "Customer Reviews DataFrame:\n",
      "    review_id                email  product_name  \\\n",
      "0           1   UsEr-1@example.com  Flying Broom   \n",
      "1           2    user2@example.com  Flying Broom   \n",
      "2           3   UsEr-3@example.com    Spell Book   \n",
      "3           4    user4@example.com    Spell Book   \n",
      "4           5   UsEr-5@example.com  Crystal Ball   \n",
      "5           6    user6@example.com    Magic Wand   \n",
      "6           7   UsEr-7@example.com     Spell Bok   \n",
      "7           8    user8@example.com         Potin   \n",
      "8           9   UsEr-9@example.com    Magic Wand   \n",
      "9          10   user10@example.com    Spell Book   \n",
      "10         11  UsEr-11@example.com   Flyng Broom   \n",
      "11         12   user12@example.com   Crystal Bll   \n",
      "12         13  UsEr-13@example.com     Magic Wnd   \n",
      "13         14   user14@example.com    Magic Wand   \n",
      "14         15  UsEr-15@example.com     Magic Wnd   \n",
      "15         16   user16@example.com  Flying Broom   \n",
      "16         17  UsEr-17@example.com  Flying Broom   \n",
      "17         18   user18@example.com         Potin   \n",
      "18         19  UsEr-19@example.com     Magic Wnd   \n",
      "19         20   user20@example.com  Crystal Ball   \n",
      "\n",
      "                                          review_text  \n",
      "0    This Spell Book is awesome! It's pure magic! !@@  \n",
      "1   This Crystal Ball is awesome! It's pure magic!...  \n",
      "2    This Magic Wand is awesome! It's pure magic! @&@  \n",
      "3     This Spell Bok is awesome! It's pure magic! &)$  \n",
      "4        This Potion is awesome! It's pure magic! !@@  \n",
      "5        This Potion is awesome! It's pure magic! $%@  \n",
      "6        This Potion is awesome! It's pure magic! )(*  \n",
      "7   This Flying Broom is awesome! It's pure magic!...  \n",
      "8   This Flying Broom is awesome! It's pure magic!...  \n",
      "9   This Crystal Ball is awesome! It's pure magic!...  \n",
      "10   This Spell Book is awesome! It's pure magic! !(&  \n",
      "11  This Crystal Ball is awesome! It's pure magic!...  \n",
      "12  This Crystal Ball is awesome! It's pure magic!...  \n",
      "13    This Spell Bok is awesome! It's pure magic! ($&  \n",
      "14  This Flyng Broom is awesome! It's pure magic! )**  \n",
      "15   This Spell Book is awesome! It's pure magic! )!@  \n",
      "16    This Spell Bok is awesome! It's pure magic! &!!  \n",
      "17    This Spell Bok is awesome! It's pure magic! #!(  \n",
      "18  This Flyng Broom is awesome! It's pure magic! &^$  \n",
      "19  This Crystal Ball is awesome! It's pure magic!...  \n"
     ]
    }
   ],
   "source": [
    "import pandas as pd\n",
    "import numpy as np\n",
    "\n",
    "# Seed for reproducibility\n",
    "np.random.seed(24)\n",
    "\n",
    "# Generate synthetic data\n",
    "review_ids = np.arange(1, 21)\n",
    "emails = ['user{}@example.com'.format(i) for i in range(1, 21)]\n",
    "emails = [email.replace('user', 'UsEr-') if i % 2 == 0 else email for i, email in enumerate(emails)]\n",
    "product_names = ['Magic Wand', 'Potion', 'Spell Book', 'Crystal Ball', 'Flying Broom']\n",
    "typos = ['Magic Wnd', 'Potin', 'Spell Bok', 'Crystal Bll', 'Flyng Broom']\n",
    "\n",
    "reviews = [\n",
    "    \"This {} is awesome! It's pure magic!\".format(np.random.choice(product_names + typos))\n",
    "    for _ in review_ids\n",
    "]\n",
    "special_characters = ['!', '@', '#', '$', '%', '^', '&', '*', '(', ')']\n",
    "reviews = [\n",
    "    review + ' ' + ''.join(np.random.choice(special_characters, 3))\n",
    "    for review in reviews\n",
    "]\n",
    "\n",
    "# Create DataFrame\n",
    "customer_reviews = pd.DataFrame({\n",
    "    'review_id': review_ids,\n",
    "    'email': emails,\n",
    "    'product_name': [np.random.choice(product_names + typos) for _ in review_ids],\n",
    "    'review_text': reviews\n",
    "})\n",
    "\n",
    "# Display the dataset\n",
    "print(\"Customer Reviews DataFrame:\")\n",
    "print(customer_reviews)\n"
   ]
  },
  {
   "cell_type": "markdown",
   "id": "12123d89",
   "metadata": {
    "papermill": {
     "duration": 0.018005,
     "end_time": "2024-05-28T08:04:15.527452",
     "exception": false,
     "start_time": "2024-05-28T08:04:15.509447",
     "status": "completed"
    },
    "tags": []
   },
   "source": [
    "## Solution Explanation\n",
    "\n",
    "The steps to solve this problem are:\n",
    "1. Standardize the format of email addresses.\n",
    "2. Correct common typos in product names.\n",
    "3. Remove any special characters from the reviews.\n",
    "4. Extract and count the number of reviews mentioning the word \"magic\".\n",
    "5. Identify the top 3 most frequently mentioned products in the reviews.\n",
    "\n",
    "Let's implement these steps in the following code.\n"
   ]
  },
  {
   "cell_type": "code",
   "execution_count": 18,
   "id": "0959ae6b",
   "metadata": {
    "execution": {
     "iopub.execute_input": "2024-05-28T08:04:15.566024Z",
     "iopub.status.busy": "2024-05-28T08:04:15.565654Z",
     "iopub.status.idle": "2024-05-28T08:04:15.593241Z",
     "shell.execute_reply": "2024-05-28T08:04:15.591400Z"
    },
    "papermill": {
     "duration": 0.050038,
     "end_time": "2024-05-28T08:04:15.595814",
     "exception": false,
     "start_time": "2024-05-28T08:04:15.545776",
     "status": "completed"
    },
    "tags": []
   },
   "outputs": [
    {
     "name": "stdout",
     "output_type": "stream",
     "text": [
      "Step 1: Standardized Email Addresses\n",
      "    review_id                email\n",
      "0           1   user-1@example.com\n",
      "1           2    user2@example.com\n",
      "2           3   user-3@example.com\n",
      "3           4    user4@example.com\n",
      "4           5   user-5@example.com\n",
      "5           6    user6@example.com\n",
      "6           7   user-7@example.com\n",
      "7           8    user8@example.com\n",
      "8           9   user-9@example.com\n",
      "9          10   user10@example.com\n",
      "10         11  user-11@example.com\n",
      "11         12   user12@example.com\n",
      "12         13  user-13@example.com\n",
      "13         14   user14@example.com\n",
      "14         15  user-15@example.com\n",
      "15         16   user16@example.com\n",
      "16         17  user-17@example.com\n",
      "17         18   user18@example.com\n",
      "18         19  user-19@example.com\n",
      "19         20   user20@example.com \n",
      "\n",
      "Step 2: Corrected Product Names\n",
      "    review_id  product_name\n",
      "0           1  Flying Broom\n",
      "1           2  Flying Broom\n",
      "2           3    Spell Book\n",
      "3           4    Spell Book\n",
      "4           5  Crystal Ball\n",
      "5           6    Magic Wand\n",
      "6           7    Spell Book\n",
      "7           8        Potion\n",
      "8           9    Magic Wand\n",
      "9          10    Spell Book\n",
      "10         11  Flying Broom\n",
      "11         12  Crystal Ball\n",
      "12         13    Magic Wand\n",
      "13         14    Magic Wand\n",
      "14         15    Magic Wand\n",
      "15         16  Flying Broom\n",
      "16         17  Flying Broom\n",
      "17         18        Potion\n",
      "18         19    Magic Wand\n",
      "19         20  Crystal Ball \n",
      "\n",
      "Step 3: Cleaned Review Texts\n",
      "    review_id                                   review_text\n",
      "0           1    This Spell Book is awesome Its pure magic \n",
      "1           2  This Crystal Ball is awesome Its pure magic \n",
      "2           3    This Magic Wand is awesome Its pure magic \n",
      "3           4     This Spell Bok is awesome Its pure magic \n",
      "4           5        This Potion is awesome Its pure magic \n",
      "5           6        This Potion is awesome Its pure magic \n",
      "6           7        This Potion is awesome Its pure magic \n",
      "7           8  This Flying Broom is awesome Its pure magic \n",
      "8           9  This Flying Broom is awesome Its pure magic \n",
      "9          10  This Crystal Ball is awesome Its pure magic \n",
      "10         11    This Spell Book is awesome Its pure magic \n",
      "11         12  This Crystal Ball is awesome Its pure magic \n",
      "12         13  This Crystal Ball is awesome Its pure magic \n",
      "13         14     This Spell Bok is awesome Its pure magic \n",
      "14         15   This Flyng Broom is awesome Its pure magic \n",
      "15         16    This Spell Book is awesome Its pure magic \n",
      "16         17     This Spell Bok is awesome Its pure magic \n",
      "17         18     This Spell Bok is awesome Its pure magic \n",
      "18         19   This Flyng Broom is awesome Its pure magic \n",
      "19         20  This Crystal Ball is awesome Its pure magic  \n",
      "\n",
      "Step 4: Reviews Mentioning 'Magic'\n",
      "Number of reviews mentioning 'magic': 20\n",
      "\n",
      "Step 5: Top 3 Most Frequently Mentioned Products in Reviews\n",
      "0\n",
      "Crystal Ball    5\n",
      "Spell Book      3\n",
      "Potion          3\n",
      "Name: count, dtype: int64\n"
     ]
    }
   ],
   "source": [
    "import re\n",
    "\n",
    "# Step 1: Standardize the format of email addresses\n",
    "customer_reviews['email'] = customer_reviews['email'].str.lower()\n",
    "print(\"Step 1: Standardized Email Addresses\")\n",
    "print(customer_reviews[['review_id', 'email']], \"\\n\")\n",
    "\n",
    "# Step 2: Correct common typos in product names\n",
    "typo_corrections = {\n",
    "    'Magic Wnd': 'Magic Wand',\n",
    "    'Potin': 'Potion',\n",
    "    'Spell Bok': 'Spell Book',\n",
    "    'Crystal Bll': 'Crystal Ball',\n",
    "    'Flyng Broom': 'Flying Broom'\n",
    "}\n",
    "customer_reviews['product_name'] = customer_reviews['product_name'].replace(typo_corrections)\n",
    "print(\"Step 2: Corrected Product Names\")\n",
    "print(customer_reviews[['review_id', 'product_name']], \"\\n\")\n",
    "\n",
    "# Step 3: Remove any special characters from the reviews\n",
    "customer_reviews['review_text'] = customer_reviews['review_text'].apply(lambda x: re.sub(r'[^\\w\\s]', '', x))\n",
    "print(\"Step 3: Cleaned Review Texts\")\n",
    "print(customer_reviews[['review_id', 'review_text']], \"\\n\")\n",
    "\n",
    "# Step 4: Extract and count the number of reviews mentioning the word \"magic\"\n",
    "magic_reviews = customer_reviews[customer_reviews['review_text'].str.contains(r'\\bmagic\\b', case=False)]\n",
    "magic_reviews_count = magic_reviews.shape[0]\n",
    "print(\"Step 4: Reviews Mentioning 'Magic'\")\n",
    "print(f\"Number of reviews mentioning 'magic': {magic_reviews_count}\\n\")\n",
    "\n",
    "# Step 5: Identify the top 3 most frequently mentioned products in the reviews\n",
    "product_mentions = customer_reviews['review_text'].str.extractall(r'({})'.format('|'.join(product_names)))\n",
    "top_products = product_mentions[0].value_counts().head(3)\n",
    "print(\"Step 5: Top 3 Most Frequently Mentioned Products in Reviews\")\n",
    "print(top_products)\n"
   ]
  },
  {
   "cell_type": "markdown",
   "id": "148086d7",
   "metadata": {
    "papermill": {
     "duration": 0.018627,
     "end_time": "2024-05-28T08:04:15.633354",
     "exception": false,
     "start_time": "2024-05-28T08:04:15.614727",
     "status": "completed"
    },
    "tags": []
   },
   "source": [
    "# Q5 - Speed Demon Data Manipulation\n",
    "<a id=\"q5\"></a>\n",
    "\n",
    "**Question:**\n",
    "Welcome to Speed Demon Data Manipulation! You are given a dataset of various fantastical creatures and their race times in different races. The data is enormous, and you need to optimize your data manipulation techniques to answer the following questions:\n",
    "1. Calculate the average race time for each creature.\n",
    "2. Identify the top 3 fastest creatures based on their average race time.\n",
    "3. Determine the race with the highest average race time.\n",
    "4. Find the creature with the most race wins (i.e., shortest time in each race).\n",
    "5. Calculate the total number of races each creature has participated in.\n",
    "\n",
    "**Datasets:**\n",
    "- `race_times`: Contains columns (race_id, creature_name, race_time).\n",
    "\n"
   ]
  },
  {
   "cell_type": "code",
   "execution_count": 19,
   "id": "a1cc6d25",
   "metadata": {
    "execution": {
     "iopub.execute_input": "2024-05-28T08:04:15.672502Z",
     "iopub.status.busy": "2024-05-28T08:04:15.672107Z",
     "iopub.status.idle": "2024-05-28T08:04:15.691617Z",
     "shell.execute_reply": "2024-05-28T08:04:15.690336Z"
    },
    "papermill": {
     "duration": 0.042474,
     "end_time": "2024-05-28T08:04:15.694521",
     "exception": false,
     "start_time": "2024-05-28T08:04:15.652047",
     "status": "completed"
    },
    "tags": []
   },
   "outputs": [
    {
     "name": "stdout",
     "output_type": "stream",
     "text": [
      "Race Times DataFrame:\n",
      "   race_id       creature_name  race_time\n",
      "0        1        Speedy Snail  66.803849\n",
      "1        1        Dashy Dragon  72.773435\n",
      "2        1        Rapid Rabbit  13.132165\n",
      "3        1  Fleet-Footed Fairy  28.867382\n",
      "4        1        Quick Quokka  85.380468\n"
     ]
    }
   ],
   "source": [
    "import pandas as pd\n",
    "import numpy as np\n",
    "\n",
    "# Seed for reproducibility\n",
    "np.random.seed(101)\n",
    "\n",
    "# Generate synthetic data\n",
    "race_ids = np.arange(1, 101)\n",
    "creature_names = ['Speedy Snail', 'Dashy Dragon', 'Rapid Rabbit', 'Fleet-Footed Fairy', 'Quick Quokka', 'Swift Sphinx', 'Nimble Niffler', 'Brisk Banshee']\n",
    "\n",
    "data = []\n",
    "for race in race_ids:\n",
    "    for creature in creature_names:\n",
    "        race_time = np.random.uniform(10, 120)  # Race times in seconds\n",
    "        data.append([race, creature, race_time])\n",
    "\n",
    "# Create DataFrame\n",
    "race_times = pd.DataFrame(data, columns=['race_id', 'creature_name', 'race_time'])\n",
    "\n",
    "# Display the dataset\n",
    "print(\"Race Times DataFrame:\")\n",
    "print(race_times.head())\n"
   ]
  },
  {
   "cell_type": "markdown",
   "id": "c7313a27",
   "metadata": {
    "papermill": {
     "duration": 0.018465,
     "end_time": "2024-05-28T08:04:15.731710",
     "exception": false,
     "start_time": "2024-05-28T08:04:15.713245",
     "status": "completed"
    },
    "tags": []
   },
   "source": [
    "## Solution Explanation\n",
    "\n",
    "The steps to solve this problem are:\n",
    "1. Calculate the average race time for each creature.\n",
    "2. Identify the top 3 fastest creatures based on their average race time.\n",
    "3. Determine the race with the highest average race time.\n",
    "4. Find the creature with the most race wins (i.e., shortest time in each race).\n",
    "5. Calculate the total number of races each creature has participated in.\n",
    "\n",
    "Let's implement these steps in the following code.\n"
   ]
  },
  {
   "cell_type": "code",
   "execution_count": 20,
   "id": "8882fa6d",
   "metadata": {
    "execution": {
     "iopub.execute_input": "2024-05-28T08:04:15.770985Z",
     "iopub.status.busy": "2024-05-28T08:04:15.770583Z",
     "iopub.status.idle": "2024-05-28T08:04:15.795741Z",
     "shell.execute_reply": "2024-05-28T08:04:15.794511Z"
    },
    "papermill": {
     "duration": 0.047509,
     "end_time": "2024-05-28T08:04:15.798133",
     "exception": false,
     "start_time": "2024-05-28T08:04:15.750624",
     "status": "completed"
    },
    "tags": []
   },
   "outputs": [
    {
     "name": "stdout",
     "output_type": "stream",
     "text": [
      "Step 1: Average Race Time for Each Creature\n",
      "        creature_name  race_time\n",
      "0       Brisk Banshee  66.305692\n",
      "1        Dashy Dragon  65.141639\n",
      "2  Fleet-Footed Fairy  67.195204\n",
      "3      Nimble Niffler  63.375094\n",
      "4        Quick Quokka  66.981233\n",
      "5        Rapid Rabbit  68.910263\n",
      "6        Speedy Snail  64.065256\n",
      "7        Swift Sphinx  62.625939 \n",
      "\n",
      "Step 2: Top 3 Fastest Creatures\n",
      "    creature_name  race_time\n",
      "7    Swift Sphinx  62.625939\n",
      "3  Nimble Niffler  63.375094\n",
      "6    Speedy Snail  64.065256 \n",
      "\n",
      "Step 3: Race with the Highest Average Race Time\n",
      "race_id      55.000000\n",
      "race_time    86.088825\n",
      "Name: 54, dtype: float64 \n",
      "\n",
      "Step 4: Creature with the Most Race Wins\n",
      "Creature: Fleet-Footed Fairy\n",
      "\n",
      "Step 5: Total Number of Races Each Creature Has Participated In\n",
      "        creature_name  num_races\n",
      "0        Speedy Snail        100\n",
      "1        Dashy Dragon        100\n",
      "2        Rapid Rabbit        100\n",
      "3  Fleet-Footed Fairy        100\n",
      "4        Quick Quokka        100\n",
      "5        Swift Sphinx        100\n",
      "6      Nimble Niffler        100\n",
      "7       Brisk Banshee        100 \n",
      "\n"
     ]
    }
   ],
   "source": [
    "# Step 1: Calculate the average race time for each creature\n",
    "average_race_time = race_times.groupby('creature_name')['race_time'].mean().reset_index()\n",
    "print(\"Step 1: Average Race Time for Each Creature\")\n",
    "print(average_race_time, \"\\n\")\n",
    "\n",
    "# Step 2: Identify the top 3 fastest creatures based on their average race time\n",
    "top_3_fastest = average_race_time.nsmallest(3, 'race_time')\n",
    "print(\"Step 2: Top 3 Fastest Creatures\")\n",
    "print(top_3_fastest, \"\\n\")\n",
    "\n",
    "# Step 3: Determine the race with the highest average race time\n",
    "average_time_per_race = race_times.groupby('race_id')['race_time'].mean().reset_index()\n",
    "race_with_highest_avg_time = average_time_per_race.loc[average_time_per_race['race_time'].idxmax()]\n",
    "print(\"Step 3: Race with the Highest Average Race Time\")\n",
    "print(race_with_highest_avg_time, \"\\n\")\n",
    "\n",
    "# Step 4: Find the creature with the most race wins (i.e., shortest time in each race)\n",
    "race_winners = race_times.loc[race_times.groupby('race_id')['race_time'].idxmin()]\n",
    "most_wins = race_winners['creature_name'].value_counts().idxmax()\n",
    "print(\"Step 4: Creature with the Most Race Wins\")\n",
    "print(f\"Creature: {most_wins}\\n\")\n",
    "\n",
    "# Step 5: Calculate the total number of races each creature has participated in\n",
    "races_per_creature = race_times['creature_name'].value_counts().reset_index()\n",
    "races_per_creature.columns = ['creature_name', 'num_races']\n",
    "print(\"Step 5: Total Number of Races Each Creature Has Participated In\")\n",
    "print(races_per_creature, \"\\n\")\n"
   ]
  },
  {
   "cell_type": "markdown",
   "id": "4f1d7964",
   "metadata": {
    "papermill": {
     "duration": 0.018837,
     "end_time": "2024-05-28T08:04:15.837549",
     "exception": false,
     "start_time": "2024-05-28T08:04:15.818712",
     "status": "completed"
    },
    "tags": []
   },
   "source": [
    "# Q6 - Recursive Riddle\n",
    "<a id=\"q6\"></a>\n",
    "\n",
    "**Question:**\n",
    "Welcome to the Recursive Riddle! You are given a dataset containing information about a series of magical quests and the hierarchical structure of tasks within each quest. Each task may depend on the completion of other tasks. Your task is to use recursive techniques to answer the following questions:\n",
    "1. Determine the total number of tasks in each quest.\n",
    "2. Identify the task that has the most dependencies in each quest.\n",
    "3. Calculate the total time required to complete each quest.\n",
    "4. Find the deepest level of task dependency in each quest.\n",
    "5. List the tasks in each quest in the order they should be completed.\n",
    "\n",
    "**Datasets:**\n",
    "- `magical_quests`: Contains columns (quest_id, task_id, task_name, depends_on, time_required).\n"
   ]
  },
  {
   "cell_type": "code",
   "execution_count": 21,
   "id": "da404dfc",
   "metadata": {
    "execution": {
     "iopub.execute_input": "2024-05-28T08:04:15.877294Z",
     "iopub.status.busy": "2024-05-28T08:04:15.876898Z",
     "iopub.status.idle": "2024-05-28T08:04:15.897540Z",
     "shell.execute_reply": "2024-05-28T08:04:15.896500Z"
    },
    "papermill": {
     "duration": 0.04376,
     "end_time": "2024-05-28T08:04:15.900417",
     "exception": false,
     "start_time": "2024-05-28T08:04:15.856657",
     "status": "completed"
    },
    "tags": []
   },
   "outputs": [
    {
     "name": "stdout",
     "output_type": "stream",
     "text": [
      "Magical Quests DataFrame:\n",
      "   quest_id  task_id         task_name depends_on  time_required\n",
      "0         1       11    Enchant Object       None             40\n",
      "1         1       14  Find Hidden Path       [20]             10\n",
      "2         1        3        Tame Beast       None             10\n",
      "3         1       12        Tame Beast       None             10\n",
      "4         1       15        Tame Beast    [5, 16]             10\n"
     ]
    }
   ],
   "source": [
    "import pandas as pd\n",
    "import numpy as np\n",
    "\n",
    "# Seed for reproducibility\n",
    "np.random.seed(202)\n",
    "\n",
    "# Generate synthetic data\n",
    "quest_ids = np.arange(1, 6)\n",
    "task_ids = np.arange(1, 21)\n",
    "task_names = ['Gather Ingredients', 'Cast Spell', 'Brew Potion', 'Enchant Object', 'Defeat Monster', 'Rescue Ally', 'Find Hidden Path', 'Solve Puzzle', 'Forge Weapon', 'Tame Beast']\n",
    "depends_on_options = [None] + list(task_ids)\n",
    "\n",
    "data = []\n",
    "for quest in quest_ids:\n",
    "    num_tasks = np.random.randint(5, 10)\n",
    "    tasks = np.random.choice(task_ids, num_tasks, replace=False)\n",
    "    for task in tasks:\n",
    "        depends_on = np.random.choice(depends_on_options, np.random.randint(0, 3)).tolist() if np.random.rand() > 0.3 else None\n",
    "        time_required = np.random.randint(1, 5) * 10  # Time required in minutes\n",
    "        data.append([quest, task, np.random.choice(task_names), depends_on, time_required])\n",
    "\n",
    "# Create DataFrame\n",
    "magical_quests = pd.DataFrame(data, columns=['quest_id', 'task_id', 'task_name', 'depends_on', 'time_required'])\n",
    "\n",
    "# Convert lists of single elements to integers and empty lists to None\n",
    "magical_quests['depends_on'] = magical_quests['depends_on'].apply(lambda x: x if isinstance(x, list) and x else None)\n",
    "\n",
    "# Display the dataset\n",
    "print(\"Magical Quests DataFrame:\")\n",
    "print(magical_quests.head())\n"
   ]
  },
  {
   "cell_type": "markdown",
   "id": "47cd08c8",
   "metadata": {
    "papermill": {
     "duration": 0.01909,
     "end_time": "2024-05-28T08:04:15.938689",
     "exception": false,
     "start_time": "2024-05-28T08:04:15.919599",
     "status": "completed"
    },
    "tags": []
   },
   "source": [
    "## Solution Explanation\n",
    "\n",
    "The steps to solve this problem are:\n",
    "1. Determine the total number of tasks in each quest.\n",
    "2. Identify the task that has the most dependencies in each quest.\n",
    "3. Calculate the total time required to complete each quest.\n",
    "4. Find the deepest level of task dependency in each quest.\n",
    "5. List the tasks in each quest in the order they should be completed.\n",
    "\n",
    "Let's implement these steps in the following code.\n"
   ]
  },
  {
   "cell_type": "code",
   "execution_count": 22,
   "id": "2b3a2758",
   "metadata": {
    "execution": {
     "iopub.execute_input": "2024-05-28T08:04:15.978876Z",
     "iopub.status.busy": "2024-05-28T08:04:15.978457Z",
     "iopub.status.idle": "2024-05-28T08:04:16.048509Z",
     "shell.execute_reply": "2024-05-28T08:04:16.047411Z"
    },
    "papermill": {
     "duration": 0.093296,
     "end_time": "2024-05-28T08:04:16.051064",
     "exception": false,
     "start_time": "2024-05-28T08:04:15.957768",
     "status": "completed"
    },
    "tags": []
   },
   "outputs": [
    {
     "name": "stdout",
     "output_type": "stream",
     "text": [
      "Step 1: Total Number of Tasks in Each Quest\n",
      "   quest_id  total_tasks\n",
      "0         1            8\n",
      "1         2            8\n",
      "2         3            9\n",
      "3         4            8\n",
      "4         5            8 \n",
      "\n",
      "Step 2: Task with the Most Dependencies in Each Quest\n",
      "    quest_id  task_id  dependency_count\n",
      "1          1       14                 2\n",
      "8          2       12                 1\n",
      "16         3        8                 3\n",
      "30         4        2                 2\n",
      "33         5        7                 1 \n",
      "\n",
      "Step 3: Total Time Required to Complete Each Quest\n",
      "   quest_id  total_time\n",
      "0         1         170\n",
      "1         2         250\n",
      "2         3         330\n",
      "3         4         320\n",
      "4         5         210 \n",
      "\n",
      "Step 4: Deepest Level of Task Dependency in Each Quest\n",
      "   quest_id  max_depth\n",
      "0         1          2\n",
      "1         2          2\n",
      "2         3          3\n",
      "3         4          2\n",
      "4         5          2 \n",
      "\n",
      "Step 5: Tasks in Each Quest in the Order They Should Be Completed\n",
      "    quest_id           task_name  order\n",
      "0          1      Enchant Object      0\n",
      "1          1      Enchant Object      1\n",
      "2          1    Find Hidden Path      2\n",
      "3          1          Tame Beast      3\n",
      "4          1          Tame Beast      4\n",
      "5          1          Tame Beast      5\n",
      "6          1  Gather Ingredients      6\n",
      "7          1          Cast Spell      7\n",
      "8          2        Solve Puzzle      0\n",
      "9          2    Find Hidden Path      1\n",
      "10         2        Solve Puzzle      2\n",
      "11         2          Cast Spell      3\n",
      "12         2  Gather Ingredients      4\n",
      "13         2         Rescue Ally      5\n",
      "14         2        Solve Puzzle      6\n",
      "15         2         Rescue Ally      7\n",
      "16         3          Cast Spell      0\n",
      "17         3         Rescue Ally      1\n",
      "18         3         Rescue Ally      2\n",
      "19         3          Cast Spell      3\n",
      "20         3      Enchant Object      4\n",
      "21         3          Cast Spell      5\n",
      "22         3      Defeat Monster      6\n",
      "23         3    Find Hidden Path      7\n",
      "24         3          Tame Beast      8\n",
      "25         4      Defeat Monster      0\n",
      "26         4        Forge Weapon      1\n",
      "27         4      Defeat Monster      2\n",
      "28         4         Brew Potion      3\n",
      "29         4  Gather Ingredients      4\n",
      "30         4      Enchant Object      5\n",
      "31         4  Gather Ingredients      6\n",
      "32         4         Brew Potion      7\n",
      "33         5        Forge Weapon      0\n",
      "34         5  Gather Ingredients      1\n",
      "35         5        Solve Puzzle      2\n",
      "36         5      Enchant Object      3\n",
      "37         5          Tame Beast      4\n",
      "38         5         Brew Potion      5\n",
      "39         5         Brew Potion      6\n",
      "40         5  Gather Ingredients      7\n"
     ]
    }
   ],
   "source": [
    "from collections import defaultdict\n",
    "\n",
    "# Helper function to build dependency graph\n",
    "def build_dependency_graph(df):\n",
    "    graph = defaultdict(list)\n",
    "    time_required = {}\n",
    "    for _, row in df.iterrows():\n",
    "        graph[row['task_id']] = row['depends_on'] if row['depends_on'] is not None else []\n",
    "        time_required[row['task_id']] = row['time_required']\n",
    "    return graph, time_required\n",
    "\n",
    "# Step 1: Determine the total number of tasks in each quest\n",
    "total_tasks_per_quest = magical_quests.groupby('quest_id')['task_id'].count().reset_index()\n",
    "total_tasks_per_quest.columns = ['quest_id', 'total_tasks']\n",
    "print(\"Step 1: Total Number of Tasks in Each Quest\")\n",
    "print(total_tasks_per_quest, \"\\n\")\n",
    "\n",
    "# Step 2: Identify the task that has the most dependencies in each quest\n",
    "def count_dependencies(task_id, graph, visited=None):\n",
    "    if visited is None:\n",
    "        visited = set()\n",
    "    if task_id in visited:\n",
    "        return 0\n",
    "    visited.add(task_id)\n",
    "    if not graph[task_id]:\n",
    "        return 0\n",
    "    dependencies = [count_dependencies(dep, graph, visited) for dep in graph[task_id] if dep in graph]\n",
    "    return 1 + (max(dependencies) if dependencies else 0)\n",
    "\n",
    "dependencies_count = []\n",
    "for quest, group in magical_quests.groupby('quest_id'):\n",
    "    graph, _ = build_dependency_graph(group)\n",
    "    for task_id in group['task_id']:\n",
    "        dependencies_count.append([quest, task_id, count_dependencies(task_id, graph)])\n",
    "\n",
    "dependencies_df = pd.DataFrame(dependencies_count, columns=['quest_id', 'task_id', 'dependency_count'])\n",
    "most_dependencies_task = dependencies_df.loc[dependencies_df.groupby('quest_id')['dependency_count'].idxmax()]\n",
    "print(\"Step 2: Task with the Most Dependencies in Each Quest\")\n",
    "print(most_dependencies_task, \"\\n\")\n",
    "\n",
    "# Step 3: Calculate the total time required to complete each quest\n",
    "def calculate_total_time(task_id, graph, time_required, visited=None):\n",
    "    if visited is None:\n",
    "        visited = set()\n",
    "    if task_id in visited:\n",
    "        return 0\n",
    "    visited.add(task_id)\n",
    "    if not graph[task_id]:\n",
    "        return time_required[task_id]\n",
    "    total_time = time_required[task_id] + sum(calculate_total_time(dep, graph, time_required, visited) for dep in graph[task_id] if dep in graph)\n",
    "    return total_time\n",
    "\n",
    "total_time = []\n",
    "for quest, group in magical_quests.groupby('quest_id'):\n",
    "    graph, time_required = build_dependency_graph(group)\n",
    "    quest_total_time = sum(calculate_total_time(task_id, graph, time_required) for task_id in group['task_id'])\n",
    "    total_time.append([quest, quest_total_time])\n",
    "\n",
    "total_time_df = pd.DataFrame(total_time, columns=['quest_id', 'total_time'])\n",
    "print(\"Step 3: Total Time Required to Complete Each Quest\")\n",
    "print(total_time_df, \"\\n\")\n",
    "\n",
    "# Step 4: Find the deepest level of task dependency in each quest\n",
    "def find_depth(task_id, graph, visited=None):\n",
    "    if visited is None:\n",
    "        visited = set()\n",
    "    if task_id in visited:\n",
    "        return 0\n",
    "    visited.add(task_id)\n",
    "    if not graph[task_id]:\n",
    "        return 1\n",
    "    depths = [find_depth(dep, graph, visited) for dep in graph[task_id] if dep in graph]\n",
    "    return 1 + (max(depths) if depths else 0)\n",
    "\n",
    "depths = []\n",
    "for quest, group in magical_quests.groupby('quest_id'):\n",
    "    graph, _ = build_dependency_graph(group)\n",
    "    max_depth = max(find_depth(task_id, graph) for task_id in group['task_id'])\n",
    "    depths.append([quest, max_depth])\n",
    "\n",
    "depths_df = pd.DataFrame(depths, columns=['quest_id', 'max_depth'])\n",
    "print(\"Step 4: Deepest Level of Task Dependency in Each Quest\")\n",
    "print(depths_df, \"\\n\")\n",
    "\n",
    "# Step 5: List the tasks in each quest in the order they should be completed\n",
    "def find_order(task_id, graph, visited=None):\n",
    "    if visited is None:\n",
    "        visited = set()\n",
    "    if task_id in visited:\n",
    "        return []\n",
    "    visited.add(task_id)\n",
    "    order = []\n",
    "    for dep in graph[task_id]:\n",
    "        if dep in graph:\n",
    "            order.extend(find_order(dep, graph, visited))\n",
    "    return order + [task_id]\n",
    "\n",
    "task_orders = []\n",
    "for quest, group in magical_quests.groupby('quest_id'):\n",
    "    graph, _ = build_dependency_graph(group)\n",
    "    all_orders = []\n",
    "    for task_id in group['task_id']:\n",
    "        all_orders.extend(find_order(task_id, graph))\n",
    "    unique_orders = list(dict.fromkeys(all_orders))  # Remove duplicates while preserving order\n",
    "    for i, t in enumerate(unique_orders):\n",
    "        task_orders.append([quest, t, i])\n",
    "\n",
    "task_orders_df = pd.DataFrame(task_orders, columns=['quest_id', 'task_id', 'order']).sort_values(by=['quest_id', 'order'])\n",
    "ordered_tasks = pd.merge(task_orders_df, magical_quests[['quest_id', 'task_id', 'task_name']], on=['quest_id', 'task_id'])\n",
    "print(\"Step 5: Tasks in Each Quest in the Order They Should Be Completed\")\n",
    "print(ordered_tasks[['quest_id', 'task_name', 'order']])\n"
   ]
  },
  {
   "cell_type": "markdown",
   "id": "0dd6a2e9",
   "metadata": {
    "papermill": {
     "duration": 0.018859,
     "end_time": "2024-05-28T08:04:16.089203",
     "exception": false,
     "start_time": "2024-05-28T08:04:16.070344",
     "status": "completed"
    },
    "tags": []
   },
   "source": [
    "# Q7 - Statistician's Nightmare\n",
    "<a id=\"q7\"></a>\n",
    "\n",
    "**Question:**\n",
    "Welcome to the Statistician's Nightmare! You are given a dataset of various magical creatures and their bizarre daily activities. The data is filled with quirky statistics and unusual measures. Your task is to perform statistical analysis to answer the following questions:\n",
    "1. Calculate the mean, median, and mode of the hours each creature spends on different activities.\n",
    "2. Identify the creature with the highest variance in activity hours.\n",
    "3. Determine the correlation between the number of magical spells cast and the hours spent on activities.\n",
    "4. Find outliers in the dataset based on activity hours.\n",
    "5. Perform a hypothesis test to determine if the average hours spent by creatures on \"Flying\" is different from \"Potion Making.\"\n",
    "\n",
    "**Datasets:**\n",
    "- `creature_activities`: Contains columns (creature_id, creature_name, activity, hours, spells_cast).\n"
   ]
  },
  {
   "cell_type": "code",
   "execution_count": 23,
   "id": "22cb4ef8",
   "metadata": {
    "execution": {
     "iopub.execute_input": "2024-05-28T08:04:16.130735Z",
     "iopub.status.busy": "2024-05-28T08:04:16.130280Z",
     "iopub.status.idle": "2024-05-28T08:04:17.293793Z",
     "shell.execute_reply": "2024-05-28T08:04:17.292356Z"
    },
    "papermill": {
     "duration": 1.187702,
     "end_time": "2024-05-28T08:04:17.296657",
     "exception": false,
     "start_time": "2024-05-28T08:04:16.108955",
     "status": "completed"
    },
    "tags": []
   },
   "outputs": [
    {
     "name": "stdout",
     "output_type": "stream",
     "text": [
      "Creature Activities DataFrame:\n",
      "   creature_id creature_name          activity  hours  spells_cast\n",
      "0            1   Percy Pixie            Flying     18            1\n",
      "1            1   Percy Pixie     Potion Making      4           21\n",
      "2            1   Percy Pixie     Spell Casting     12           38\n",
      "3            1   Percy Pixie    Herb Gathering     10           72\n",
      "4            1   Percy Pixie  Treasure Hunting     18           30\n"
     ]
    }
   ],
   "source": [
    "import pandas as pd\n",
    "import numpy as np\n",
    "from scipy import stats\n",
    "\n",
    "# Seed for reproducibility\n",
    "np.random.seed(303)\n",
    "\n",
    "# Generate synthetic data\n",
    "creature_ids = np.arange(1, 21)\n",
    "creature_names = ['Frodo Frog', 'Gimli Gnome', 'Luna Leprechaun', 'Percy Pixie', 'Trevor Troll']\n",
    "activities = ['Flying', 'Potion Making', 'Spell Casting', 'Herb Gathering', 'Treasure Hunting']\n",
    "hours_options = np.arange(0, 25)\n",
    "spells_cast_options = np.arange(0, 101)\n",
    "\n",
    "data = []\n",
    "for creature in creature_ids:\n",
    "    creature_name = np.random.choice(creature_names)\n",
    "    for activity in activities:\n",
    "        hours = np.random.choice(hours_options)\n",
    "        spells_cast = np.random.choice(spells_cast_options)\n",
    "        data.append([creature, creature_name, activity, hours, spells_cast])\n",
    "\n",
    "# Create DataFrame\n",
    "creature_activities = pd.DataFrame(data, columns=['creature_id', 'creature_name', 'activity', 'hours', 'spells_cast'])\n",
    "\n",
    "# Display the dataset\n",
    "print(\"Creature Activities DataFrame:\")\n",
    "print(creature_activities.head())\n"
   ]
  },
  {
   "cell_type": "markdown",
   "id": "b0363e54",
   "metadata": {
    "papermill": {
     "duration": 0.019358,
     "end_time": "2024-05-28T08:04:17.336717",
     "exception": false,
     "start_time": "2024-05-28T08:04:17.317359",
     "status": "completed"
    },
    "tags": []
   },
   "source": [
    "## Solution Explanation\n",
    "\n",
    "The steps to solve this problem are:\n",
    "1. Calculate the mean, median, and mode of the hours each creature spends on different activities.\n",
    "2. Identify the creature with the highest variance in activity hours.\n",
    "3. Determine the correlation between the number of magical spells cast and the hours spent on activities.\n",
    "4. Find outliers in the dataset based on activity hours.\n",
    "5. Perform a hypothesis test to determine if the average hours spent by creatures on \"Flying\" is different from \"Potion Making.\"\n",
    "\n",
    "Let's implement these steps in the following code.\n"
   ]
  },
  {
   "cell_type": "code",
   "execution_count": 24,
   "id": "5e03a14c",
   "metadata": {
    "execution": {
     "iopub.execute_input": "2024-05-28T08:04:17.378436Z",
     "iopub.status.busy": "2024-05-28T08:04:17.378025Z",
     "iopub.status.idle": "2024-05-28T08:04:17.421045Z",
     "shell.execute_reply": "2024-05-28T08:04:17.419804Z"
    },
    "papermill": {
     "duration": 0.066982,
     "end_time": "2024-05-28T08:04:17.423864",
     "exception": false,
     "start_time": "2024-05-28T08:04:17.356882",
     "status": "completed"
    },
    "tags": []
   },
   "outputs": [
    {
     "name": "stdout",
     "output_type": "stream",
     "text": [
      "Step 1: Mean, Median, and Mode of Hours Spent on Activities\n",
      "Mean Hours:\n",
      "     creature_name      hours\n",
      "0       Frodo Frog  11.950000\n",
      "1      Gimli Gnome  12.400000\n",
      "2  Luna Leprechaun  11.966667\n",
      "3      Percy Pixie  12.085714\n",
      "4     Trevor Troll  14.600000 \n",
      "\n",
      "Median Hours:\n",
      "     creature_name  hours\n",
      "0       Frodo Frog   13.5\n",
      "1      Gimli Gnome   10.0\n",
      "2  Luna Leprechaun   12.0\n",
      "3      Percy Pixie   12.0\n",
      "4     Trevor Troll   18.0 \n",
      "\n",
      "Mode Hours:\n",
      "     creature_name  hours\n",
      "0       Frodo Frog     14\n",
      "1      Gimli Gnome      9\n",
      "2  Luna Leprechaun     18\n",
      "3      Percy Pixie      6\n",
      "4     Trevor Troll     18 \n",
      "\n",
      "Step 2: Creature with the Highest Variance in Activity Hours\n",
      "creature_name    Luna Leprechaun\n",
      "hours                  55.826437\n",
      "Name: 2, dtype: object \n",
      "\n",
      "Step 3: Correlation Between Spells Cast and Hours Spent on Activities\n",
      "Correlation: 0.10821370480526503\n",
      "\n",
      "Step 4: Outliers Based on Activity Hours\n",
      "Empty DataFrame\n",
      "Columns: [creature_id, creature_name, activity, hours, spells_cast]\n",
      "Index: [] \n",
      "\n",
      "Step 5: Hypothesis Test for Flying vs Potion Making Hours\n",
      "T-Statistic: -1.3312628510898283, P-Value: 0.19103450767103325\n"
     ]
    }
   ],
   "source": [
    "# Step 1: Calculate the mean, median, and mode of the hours each creature spends on different activities\n",
    "mean_hours = creature_activities.groupby('creature_name')['hours'].mean().reset_index()\n",
    "median_hours = creature_activities.groupby('creature_name')['hours'].median().reset_index()\n",
    "mode_hours = creature_activities.groupby('creature_name')['hours'].agg(lambda x: stats.mode(x)[0]).reset_index()\n",
    "\n",
    "print(\"Step 1: Mean, Median, and Mode of Hours Spent on Activities\")\n",
    "print(\"Mean Hours:\")\n",
    "print(mean_hours, \"\\n\")\n",
    "print(\"Median Hours:\")\n",
    "print(median_hours, \"\\n\")\n",
    "print(\"Mode Hours:\")\n",
    "print(mode_hours, \"\\n\")\n",
    "\n",
    "# Step 2: Identify the creature with the highest variance in activity hours\n",
    "variance_hours = creature_activities.groupby('creature_name')['hours'].var().reset_index()\n",
    "highest_variance_creature = variance_hours.loc[variance_hours['hours'].idxmax()]\n",
    "\n",
    "print(\"Step 2: Creature with the Highest Variance in Activity Hours\")\n",
    "print(highest_variance_creature, \"\\n\")\n",
    "\n",
    "# Step 3: Determine the correlation between the number of magical spells cast and the hours spent on activities\n",
    "correlation = creature_activities[['hours', 'spells_cast']].corr().iloc[0, 1]\n",
    "\n",
    "print(\"Step 3: Correlation Between Spells Cast and Hours Spent on Activities\")\n",
    "print(f\"Correlation: {correlation}\\n\")\n",
    "\n",
    "# Step 4: Find outliers in the dataset based on activity hours using the IQR method\n",
    "Q1 = creature_activities['hours'].quantile(0.25)\n",
    "Q3 = creature_activities['hours'].quantile(0.75)\n",
    "IQR = Q3 - Q1\n",
    "outliers = creature_activities[(creature_activities['hours'] < (Q1 - 1.5 * IQR)) | (creature_activities['hours'] > (Q3 + 1.5 * IQR))]\n",
    "\n",
    "print(\"Step 4: Outliers Based on Activity Hours\")\n",
    "print(outliers, \"\\n\")\n",
    "\n",
    "# Step 5: Perform a hypothesis test to determine if the average hours spent by creatures on \"Flying\" is different from \"Potion Making\"\n",
    "flying_hours = creature_activities[creature_activities['activity'] == 'Flying']['hours']\n",
    "potion_hours = creature_activities[creature_activities['activity'] == 'Potion Making']['hours']\n",
    "t_stat, p_val = stats.ttest_ind(flying_hours, potion_hours)\n",
    "\n",
    "print(\"Step 5: Hypothesis Test for Flying vs Potion Making Hours\")\n",
    "print(f\"T-Statistic: {t_stat}, P-Value: {p_val}\")\n"
   ]
  },
  {
   "cell_type": "markdown",
   "id": "d43ca8c5",
   "metadata": {
    "papermill": {
     "duration": 0.019335,
     "end_time": "2024-05-28T08:04:17.462931",
     "exception": false,
     "start_time": "2024-05-28T08:04:17.443596",
     "status": "completed"
    },
    "tags": []
   },
   "source": [
    "# Q8 - Pivot Table Puzzles\n",
    "<a id=\"q8\"></a>\n",
    "\n",
    "**Question:**\n",
    "Welcome to Pivot Table Puzzles! You are given a dataset of whimsical workshops attended by various mythical creatures. Each creature attends multiple workshops, and you need to analyze their attendance and performance. Your task is to use pivot tables to answer the following questions:\n",
    "1. Create a pivot table showing the total hours attended by each creature for each workshop.\n",
    "2. Calculate the average score of each creature for each workshop.\n",
    "3. Identify the workshop with the highest average score.\n",
    "4. Determine the total number of workshops attended by each creature.\n",
    "5. Find the creature with the highest total score across all workshops.\n",
    "\n",
    "**Datasets:**\n",
    "- `workshop_attendance`: Contains columns (creature_id, creature_name, workshop_name, hours_attended, score).\n"
   ]
  },
  {
   "cell_type": "code",
   "execution_count": 25,
   "id": "21455fc9",
   "metadata": {
    "execution": {
     "iopub.execute_input": "2024-05-28T08:04:17.504516Z",
     "iopub.status.busy": "2024-05-28T08:04:17.504125Z",
     "iopub.status.idle": "2024-05-28T08:04:17.524666Z",
     "shell.execute_reply": "2024-05-28T08:04:17.523398Z"
    },
    "papermill": {
     "duration": 0.04431,
     "end_time": "2024-05-28T08:04:17.527096",
     "exception": false,
     "start_time": "2024-05-28T08:04:17.482786",
     "status": "completed"
    },
    "tags": []
   },
   "outputs": [
    {
     "name": "stdout",
     "output_type": "stream",
     "text": [
      "Workshop Attendance DataFrame:\n",
      "   creature_id   creature_name   workshop_name  hours_attended  score\n",
      "0            1      Elf Elrond     Wand Making               2     57\n",
      "1            1      Elf Elrond  Potion Brewing               3     54\n",
      "2            1      Elf Elrond   Spell Weaving               8     61\n",
      "3            2  Phoenix Phoebe  Potion Brewing               4     60\n",
      "4            3    Dragon Draco  Crystal Gazing               3     85\n"
     ]
    }
   ],
   "source": [
    "import pandas as pd\n",
    "import numpy as np\n",
    "\n",
    "# Seed for reproducibility\n",
    "np.random.seed(404)\n",
    "\n",
    "# Generate synthetic data\n",
    "creature_ids = np.arange(1, 21)\n",
    "creature_names = ['Unicorn Ulysses', 'Phoenix Phoebe', 'Dragon Draco', 'Goblin Greta', 'Elf Elrond']\n",
    "workshops = ['Wand Making', 'Spell Weaving', 'Potion Brewing', 'Crystal Gazing', 'Herbology']\n",
    "hours_options = np.arange(1, 11)\n",
    "score_options = np.arange(50, 101)\n",
    "\n",
    "data = []\n",
    "for creature in creature_ids:\n",
    "    creature_name = np.random.choice(creature_names)\n",
    "    num_workshops = np.random.randint(1, len(workshops) + 1)\n",
    "    attended_workshops = np.random.choice(workshops, num_workshops, replace=False)\n",
    "    for workshop in attended_workshops:\n",
    "        hours_attended = np.random.choice(hours_options)\n",
    "        score = np.random.choice(score_options)\n",
    "        data.append([creature, creature_name, workshop, hours_attended, score])\n",
    "\n",
    "# Create DataFrame\n",
    "workshop_attendance = pd.DataFrame(data, columns=['creature_id', 'creature_name', 'workshop_name', 'hours_attended', 'score'])\n",
    "\n",
    "# Display the dataset\n",
    "print(\"Workshop Attendance DataFrame:\")\n",
    "print(workshop_attendance.head())\n"
   ]
  },
  {
   "cell_type": "markdown",
   "id": "9535cfa2",
   "metadata": {
    "papermill": {
     "duration": 0.019257,
     "end_time": "2024-05-28T08:04:17.566227",
     "exception": false,
     "start_time": "2024-05-28T08:04:17.546970",
     "status": "completed"
    },
    "tags": []
   },
   "source": [
    "## Solution Explanation\n",
    "\n",
    "The steps to solve this problem are:\n",
    "1. Create a pivot table showing the total hours attended by each creature for each workshop.\n",
    "2. Calculate the average score of each creature for each workshop.\n",
    "3. Identify the workshop with the highest average score.\n",
    "4. Determine the total number of workshops attended by each creature.\n",
    "5. Find the creature with the highest total score across all workshops.\n",
    "\n",
    "Let's implement these steps in the following code.\n"
   ]
  },
  {
   "cell_type": "code",
   "execution_count": 26,
   "id": "43aad482",
   "metadata": {
    "execution": {
     "iopub.execute_input": "2024-05-28T08:04:17.608938Z",
     "iopub.status.busy": "2024-05-28T08:04:17.607826Z",
     "iopub.status.idle": "2024-05-28T08:04:17.647595Z",
     "shell.execute_reply": "2024-05-28T08:04:17.646477Z"
    },
    "papermill": {
     "duration": 0.064478,
     "end_time": "2024-05-28T08:04:17.650357",
     "exception": false,
     "start_time": "2024-05-28T08:04:17.585879",
     "status": "completed"
    },
    "tags": []
   },
   "outputs": [
    {
     "name": "stdout",
     "output_type": "stream",
     "text": [
      "Step 1: Pivot Table - Total Hours Attended by Each Creature for Each Workshop\n",
      "workshop_name    Crystal Gazing  Herbology  Potion Brewing  Spell Weaving  \\\n",
      "creature_name                                                               \n",
      "Dragon Draco                 14         10              11             18   \n",
      "Elf Elrond                    8         14              14             18   \n",
      "Goblin Greta                 13         25               4             16   \n",
      "Phoenix Phoebe                0         16              14              9   \n",
      "Unicorn Ulysses               0         20              10              8   \n",
      "\n",
      "workshop_name    Wand Making  \n",
      "creature_name                 \n",
      "Dragon Draco              12  \n",
      "Elf Elrond                12  \n",
      "Goblin Greta              11  \n",
      "Phoenix Phoebe             0  \n",
      "Unicorn Ulysses            5   \n",
      "\n",
      "Step 2: Pivot Table - Average Score of Each Creature for Each Workshop\n",
      "workshop_name    Crystal Gazing  Herbology  Potion Brewing  Spell Weaving  \\\n",
      "creature_name                                                               \n",
      "Dragon Draco          70.333333  51.000000            85.0      77.000000   \n",
      "Elf Elrond            62.000000  91.000000            57.0      71.333333   \n",
      "Goblin Greta          67.666667  79.500000            77.0      82.000000   \n",
      "Phoenix Phoebe         0.000000  69.333333            68.5      81.000000   \n",
      "Unicorn Ulysses        0.000000  57.333333            61.0      91.500000   \n",
      "\n",
      "workshop_name    Wand Making  \n",
      "creature_name                 \n",
      "Dragon Draco       61.666667  \n",
      "Elf Elrond         70.333333  \n",
      "Goblin Greta       80.000000  \n",
      "Phoenix Phoebe      0.000000  \n",
      "Unicorn Ulysses    55.000000   \n",
      "\n",
      "Step 3: Workshop with the Highest Average Score\n",
      "workshop_name    Spell Weaving\n",
      "score                79.363636\n",
      "Name: 3, dtype: object \n",
      "\n",
      "Step 4: Total Number of Workshops Attended by Each Creature\n",
      "     creature_name  total_workshops\n",
      "0     Dragon Draco               12\n",
      "1       Elf Elrond               12\n",
      "2     Goblin Greta               13\n",
      "3   Phoenix Phoebe                6\n",
      "4  Unicorn Ulysses                7 \n",
      "\n",
      "Step 5: Creature with the Highest Total Score Across All Workshops\n",
      "creature_name    Goblin Greta\n",
      "score                     999\n",
      "Name: 2, dtype: object \n",
      "\n"
     ]
    }
   ],
   "source": [
    "# Step 1: Create a pivot table showing the total hours attended by each creature for each workshop\n",
    "pivot_hours = workshop_attendance.pivot_table(index='creature_name', columns='workshop_name', values='hours_attended', aggfunc='sum', fill_value=0)\n",
    "print(\"Step 1: Pivot Table - Total Hours Attended by Each Creature for Each Workshop\")\n",
    "print(pivot_hours, \"\\n\")\n",
    "\n",
    "# Step 2: Calculate the average score of each creature for each workshop\n",
    "pivot_scores = workshop_attendance.pivot_table(index='creature_name', columns='workshop_name', values='score', aggfunc='mean', fill_value=0)\n",
    "print(\"Step 2: Pivot Table - Average Score of Each Creature for Each Workshop\")\n",
    "print(pivot_scores, \"\\n\")\n",
    "\n",
    "# Step 3: Identify the workshop with the highest average score\n",
    "average_score_per_workshop = workshop_attendance.groupby('workshop_name')['score'].mean().reset_index()\n",
    "highest_avg_score_workshop = average_score_per_workshop.loc[average_score_per_workshop['score'].idxmax()]\n",
    "print(\"Step 3: Workshop with the Highest Average Score\")\n",
    "print(highest_avg_score_workshop, \"\\n\")\n",
    "\n",
    "# Step 4: Determine the total number of workshops attended by each creature\n",
    "total_workshops_per_creature = workshop_attendance.groupby('creature_name')['workshop_name'].count().reset_index()\n",
    "total_workshops_per_creature.columns = ['creature_name', 'total_workshops']\n",
    "print(\"Step 4: Total Number of Workshops Attended by Each Creature\")\n",
    "print(total_workshops_per_creature, \"\\n\")\n",
    "\n",
    "# Step 5: Find the creature with the highest total score across all workshops\n",
    "total_score_per_creature = workshop_attendance.groupby('creature_name')['score'].sum().reset_index()\n",
    "highest_total_score_creature = total_score_per_creature.loc[total_score_per_creature['score'].idxmax()]\n",
    "print(\"Step 5: Creature with the Highest Total Score Across All Workshops\")\n",
    "print(highest_total_score_creature, \"\\n\")\n"
   ]
  },
  {
   "cell_type": "markdown",
   "id": "3f2259d0",
   "metadata": {
    "papermill": {
     "duration": 0.019321,
     "end_time": "2024-05-28T08:04:17.689720",
     "exception": false,
     "start_time": "2024-05-28T08:04:17.670399",
     "status": "completed"
    },
    "tags": []
   },
   "source": [
    "# Q9 - Aggregation Aggravation\n",
    "<a id=\"q9\"></a>\n",
    "\n",
    "**Question:**\n",
    "Welcome to Aggregation Aggravation! You are given a dataset of enchanted items and their properties. Each item has multiple properties, and you need to perform various aggregations to answer the following questions:\n",
    "1. Calculate the total weight and total value of items for each item type.\n",
    "2. Identify the item type with the highest average value.\n",
    "3. Determine the item with the highest weight in each item type.\n",
    "4. Calculate the sum, mean, and standard deviation of the value of items for each item type.\n",
    "5. Find the top 3 most common properties across all items.\n",
    "\n",
    "**Datasets:**\n",
    "- `enchanted_items`: Contains columns (item_id, item_type, item_name, weight, value, properties).\n"
   ]
  },
  {
   "cell_type": "code",
   "execution_count": 27,
   "id": "d1927773",
   "metadata": {
    "execution": {
     "iopub.execute_input": "2024-05-28T08:04:17.731823Z",
     "iopub.status.busy": "2024-05-28T08:04:17.731278Z",
     "iopub.status.idle": "2024-05-28T08:04:17.769830Z",
     "shell.execute_reply": "2024-05-28T08:04:17.768359Z"
    },
    "papermill": {
     "duration": 0.063192,
     "end_time": "2024-05-28T08:04:17.772889",
     "exception": false,
     "start_time": "2024-05-28T08:04:17.709697",
     "status": "completed"
    },
    "tags": []
   },
   "outputs": [
    {
     "name": "stdout",
     "output_type": "stream",
     "text": [
      "Enchanted Items DataFrame:\n",
      "   item_id           item_type             item_name  weight  value  \\\n",
      "0        1       Potion Bottle  Cloak of Concealment       6    328   \n",
      "1        2  Invisibility Cloak       Bottle of Bliss       9    761   \n",
      "2        3  Invisibility Cloak  Cloak of Concealment      10    861   \n",
      "3        4       Flying Carpet     Amulet of Agility       5    171   \n",
      "4        5          Magic Wand     Carpet of Comfort       4    543   \n",
      "\n",
      "                                        properties  \n",
      "0  Glows in the Dark, Sings Softly, Indestructible  \n",
      "1                                   Indestructible  \n",
      "2                    Sings Softly, Floats on Water  \n",
      "3  Indestructible, Glows in the Dark, Sings Softly  \n",
      "4  Sings Softly, Indestructible, Glows in the Dark  \n"
     ]
    }
   ],
   "source": [
    "import pandas as pd\n",
    "import numpy as np\n",
    "\n",
    "# Seed for reproducibility\n",
    "np.random.seed(505)\n",
    "\n",
    "# Generate synthetic data\n",
    "item_ids = np.arange(1, 101)\n",
    "item_types = ['Magic Wand', 'Potion Bottle', 'Enchanted Amulet', 'Flying Carpet', 'Invisibility Cloak']\n",
    "item_names = ['Wand of Wonders', 'Bottle of Bliss', 'Amulet of Agility', 'Carpet of Comfort', 'Cloak of Concealment']\n",
    "weight_options = np.arange(1, 11)\n",
    "value_options = np.arange(100, 1001)\n",
    "properties_options = ['Glows in the Dark', 'Indestructible', 'Floats on Water', 'Grants Invisibility', 'Sings Softly']\n",
    "\n",
    "data = []\n",
    "for item_id in item_ids:\n",
    "    item_type = np.random.choice(item_types)\n",
    "    item_name = np.random.choice(item_names)\n",
    "    weight = np.random.choice(weight_options)\n",
    "    value = np.random.choice(value_options)\n",
    "    properties = ', '.join(np.random.choice(properties_options, np.random.randint(1, 4), replace=False))\n",
    "    data.append([item_id, item_type, item_name, weight, value, properties])\n",
    "\n",
    "# Create DataFrame\n",
    "enchanted_items = pd.DataFrame(data, columns=['item_id', 'item_type', 'item_name', 'weight', 'value', 'properties'])\n",
    "\n",
    "# Display the dataset\n",
    "print(\"Enchanted Items DataFrame:\")\n",
    "print(enchanted_items.head())\n"
   ]
  },
  {
   "cell_type": "markdown",
   "id": "48cc9571",
   "metadata": {
    "papermill": {
     "duration": 0.028577,
     "end_time": "2024-05-28T08:04:17.829098",
     "exception": false,
     "start_time": "2024-05-28T08:04:17.800521",
     "status": "completed"
    },
    "tags": []
   },
   "source": [
    "## Solution Explanation\n",
    "\n",
    "The steps to solve this problem are:\n",
    "1. Calculate the total weight and total value of items for each item type.\n",
    "2. Identify the item type with the highest average value.\n",
    "3. Determine the item with the highest weight in each item type.\n",
    "4. Calculate the sum, mean, and standard deviation of the value of items for each item type.\n",
    "5. Find the top 3 most common properties across all items.\n",
    "\n",
    "Let's implement these steps in the following code.\n"
   ]
  },
  {
   "cell_type": "code",
   "execution_count": 28,
   "id": "576889df",
   "metadata": {
    "execution": {
     "iopub.execute_input": "2024-05-28T08:04:17.874636Z",
     "iopub.status.busy": "2024-05-28T08:04:17.874204Z",
     "iopub.status.idle": "2024-05-28T08:04:17.911070Z",
     "shell.execute_reply": "2024-05-28T08:04:17.910007Z"
    },
    "papermill": {
     "duration": 0.061145,
     "end_time": "2024-05-28T08:04:17.913851",
     "exception": false,
     "start_time": "2024-05-28T08:04:17.852706",
     "status": "completed"
    },
    "tags": []
   },
   "outputs": [
    {
     "name": "stdout",
     "output_type": "stream",
     "text": [
      "Step 1: Total Weight and Total Value of Items for Each Item Type\n",
      "            item_type  weight  value\n",
      "0    Enchanted Amulet      80   6669\n",
      "1       Flying Carpet      66   9459\n",
      "2  Invisibility Cloak     155  16046\n",
      "3          Magic Wand     121  13033\n",
      "4       Potion Bottle     111  14215 \n",
      "\n",
      "Step 2: Item Type with the Highest Average Value\n",
      "item_type    Flying Carpet\n",
      "value           727.615385\n",
      "Name: 1, dtype: object \n",
      "\n",
      "Step 3: Item with the Highest Weight in Each Item Type\n",
      "            item_type             item_name  weight\n",
      "0    Enchanted Amulet       Wand of Wonders      10\n",
      "1       Flying Carpet       Wand of Wonders      10\n",
      "2  Invisibility Cloak  Cloak of Concealment      10\n",
      "3          Magic Wand       Bottle of Bliss      10\n",
      "4       Potion Bottle       Bottle of Bliss      10 \n",
      "\n",
      "Step 4: Sum, Mean, and Standard Deviation of the Value of Items for Each Item Type\n",
      "            item_type    sum        mean         std\n",
      "0    Enchanted Amulet   6669  513.000000  278.674242\n",
      "1       Flying Carpet   9459  727.615385  251.927416\n",
      "2  Invisibility Cloak  16046  573.071429  240.990076\n",
      "3          Magic Wand  13033  566.652174  261.488851\n",
      "4       Potion Bottle  14215  618.043478  254.151973 \n",
      "\n",
      "Step 5: Top 3 Most Common Properties Across All Items\n",
      "Sings Softly         51\n",
      "Indestructible       40\n",
      "Glows in the Dark    38\n",
      "Name: count, dtype: int64\n"
     ]
    }
   ],
   "source": [
    "# Step 1: Calculate the total weight and total value of items for each item type\n",
    "total_weight_value = enchanted_items.groupby('item_type').agg({'weight': 'sum', 'value': 'sum'}).reset_index()\n",
    "print(\"Step 1: Total Weight and Total Value of Items for Each Item Type\")\n",
    "print(total_weight_value, \"\\n\")\n",
    "\n",
    "# Step 2: Identify the item type with the highest average value\n",
    "average_value_per_type = enchanted_items.groupby('item_type')['value'].mean().reset_index()\n",
    "highest_avg_value_type = average_value_per_type.loc[average_value_per_type['value'].idxmax()]\n",
    "print(\"Step 2: Item Type with the Highest Average Value\")\n",
    "print(highest_avg_value_type, \"\\n\")\n",
    "\n",
    "# Step 3: Determine the item with the highest weight in each item type\n",
    "max_weight_per_type = enchanted_items.loc[enchanted_items.groupby('item_type')['weight'].idxmax()].reset_index(drop=True)\n",
    "print(\"Step 3: Item with the Highest Weight in Each Item Type\")\n",
    "print(max_weight_per_type[['item_type', 'item_name', 'weight']], \"\\n\")\n",
    "\n",
    "# Step 4: Calculate the sum, mean, and standard deviation of the value of items for each item type\n",
    "value_stats_per_type = enchanted_items.groupby('item_type')['value'].agg(['sum', 'mean', 'std']).reset_index()\n",
    "print(\"Step 4: Sum, Mean, and Standard Deviation of the Value of Items for Each Item Type\")\n",
    "print(value_stats_per_type, \"\\n\")\n",
    "\n",
    "# Step 5: Find the top 3 most common properties across all items\n",
    "properties_split = enchanted_items['properties'].str.split(', ', expand=True).stack()\n",
    "properties_count = properties_split.value_counts().head(3)\n",
    "print(\"Step 5: Top 3 Most Common Properties Across All Items\")\n",
    "print(properties_count)\n"
   ]
  },
  {
   "cell_type": "markdown",
   "id": "3c28210f",
   "metadata": {
    "papermill": {
     "duration": 0.026953,
     "end_time": "2024-05-28T08:04:17.968449",
     "exception": false,
     "start_time": "2024-05-28T08:04:17.941496",
     "status": "completed"
    },
    "tags": []
   },
   "source": [
    "# Q10 - Visual Magic with Pandas\n",
    "<a id=\"q10\"></a>\n",
    "\n",
    "**Question:**\n",
    "Welcome to Visual Magic with Pandas! You are given a dataset of mystical creatures and their magical powers. Each creature has different abilities, and you need to create visualizations to answer the following questions:\n",
    "1. Create a bar chart showing the total power levels for each creature type.\n",
    "2. Generate a pie chart representing the distribution of creatures by their habitat.\n",
    "3. Plot a scatter plot to show the relationship between power level and age of the creatures.\n",
    "4. Create a box plot to compare the power levels across different creature types.\n",
    "5. Generate a line chart to show the change in power levels over different ages for each creature type.\n",
    "\n",
    "**Datasets:**\n",
    "- `mystical_creatures`: Contains columns (creature_id, creature_type, creature_name, age, power_level, habitat).\n",
    "\n"
   ]
  },
  {
   "cell_type": "code",
   "execution_count": 29,
   "id": "a048a80a",
   "metadata": {
    "execution": {
     "iopub.execute_input": "2024-05-28T08:04:18.011228Z",
     "iopub.status.busy": "2024-05-28T08:04:18.010828Z",
     "iopub.status.idle": "2024-05-28T08:04:18.047856Z",
     "shell.execute_reply": "2024-05-28T08:04:18.046628Z"
    },
    "papermill": {
     "duration": 0.061231,
     "end_time": "2024-05-28T08:04:18.050473",
     "exception": false,
     "start_time": "2024-05-28T08:04:17.989242",
     "status": "completed"
    },
    "tags": []
   },
   "outputs": [
    {
     "name": "stdout",
     "output_type": "stream",
     "text": [
      "Mystical Creatures DataFrame:\n",
      "   creature_id creature_type creature_name  age  power_level   habitat\n",
      "0            1       Unicorn         Draco   29          371  Mountain\n",
      "1            2       Mermaid         Griff   44          182       Sea\n",
      "2            3       Unicorn       Sparkle    1          142       Sky\n",
      "3            4       Unicorn         Ariel   13          260       Sky\n",
      "4            5       Unicorn         Flare   67          248       Sea\n"
     ]
    }
   ],
   "source": [
    "import pandas as pd\n",
    "import numpy as np\n",
    "import matplotlib.pyplot as plt\n",
    "\n",
    "# Seed for reproducibility\n",
    "np.random.seed(606)\n",
    "\n",
    "# Generate synthetic data\n",
    "creature_ids = np.arange(1, 101)\n",
    "creature_types = ['Dragon', 'Unicorn', 'Phoenix', 'Griffin', 'Mermaid']\n",
    "creature_names = ['Draco', 'Sparkle', 'Flare', 'Griff', 'Ariel']\n",
    "habitats = ['Forest', 'Mountain', 'Sea', 'Sky', 'Cave']\n",
    "ages = np.arange(1, 101)\n",
    "power_levels = np.arange(50, 501)\n",
    "\n",
    "data = []\n",
    "for creature_id in creature_ids:\n",
    "    creature_type = np.random.choice(creature_types)\n",
    "    creature_name = np.random.choice(creature_names)\n",
    "    age = np.random.choice(ages)\n",
    "    power_level = np.random.choice(power_levels)\n",
    "    habitat = np.random.choice(habitats)\n",
    "    data.append([creature_id, creature_type, creature_name, age, power_level, habitat])\n",
    "\n",
    "# Create DataFrame\n",
    "mystical_creatures = pd.DataFrame(data, columns=['creature_id', 'creature_type', 'creature_name', 'age', 'power_level', 'habitat'])\n",
    "\n",
    "# Display the dataset\n",
    "print(\"Mystical Creatures DataFrame:\")\n",
    "print(mystical_creatures.head())\n"
   ]
  },
  {
   "cell_type": "markdown",
   "id": "1f902b9b",
   "metadata": {
    "papermill": {
     "duration": 0.019948,
     "end_time": "2024-05-28T08:04:18.090768",
     "exception": false,
     "start_time": "2024-05-28T08:04:18.070820",
     "status": "completed"
    },
    "tags": []
   },
   "source": [
    "## Solution Explanation\n",
    "\n",
    "The steps to solve this problem are:\n",
    "1. Create a bar chart showing the total power levels for each creature type.\n",
    "2. Generate a pie chart representing the distribution of creatures by their habitat.\n",
    "3. Plot a scatter plot to show the relationship between power level and age of the creatures.\n",
    "4. Create a box plot to compare the power levels across different creature types.\n",
    "Let's implement these steps in the following code.\n"
   ]
  },
  {
   "cell_type": "code",
   "execution_count": 30,
   "id": "62ccc8c8",
   "metadata": {
    "execution": {
     "iopub.execute_input": "2024-05-28T08:04:18.133201Z",
     "iopub.status.busy": "2024-05-28T08:04:18.132822Z",
     "iopub.status.idle": "2024-05-28T08:04:19.935075Z",
     "shell.execute_reply": "2024-05-28T08:04:19.933867Z"
    },
    "papermill": {
     "duration": 1.82672,
     "end_time": "2024-05-28T08:04:19.937825",
     "exception": false,
     "start_time": "2024-05-28T08:04:18.111105",
     "status": "completed"
    },
    "tags": []
   },
   "outputs": [
    {
     "data": {
      "image/png": "[encoded data removed]",
      "text/plain": [
       "<Figure size 1000x600 with 1 Axes>"
      ]
     },
     "metadata": {},
     "output_type": "display_data"
    },
    {
     "data": {
      "image/png": "[encoded data removed]",
      "text/plain": [
       "<Figure size 800x800 with 1 Axes>"
      ]
     },
     "metadata": {},
     "output_type": "display_data"
    },
    {
     "data": {
      "image/png": "[encoded data removed]",
      "text/plain": [
       "<Figure size 1000x600 with 1 Axes>"
      ]
     },
     "metadata": {},
     "output_type": "display_data"
    },
    {
     "data": {
      "image/png": "[encoded data removed]",
      "text/plain": [
       "<Figure size 1000x600 with 1 Axes>"
      ]
     },
     "metadata": {},
     "output_type": "display_data"
    }
   ],
   "source": [
    "import seaborn as sns\n",
    "\n",
    "# Step 1: Create a bar chart showing the total power levels for each creature type\n",
    "plt.figure(figsize=(10, 6))\n",
    "total_power_levels = mystical_creatures.groupby('creature_type')['power_level'].sum().reset_index()\n",
    "sns.barplot(x='creature_type', y='power_level', data=total_power_levels, palette='viridis')\n",
    "plt.title('Total Power Levels for Each Creature Type')\n",
    "plt.xlabel('Creature Type')\n",
    "plt.ylabel('Total Power Level')\n",
    "plt.show()\n",
    "\n",
    "# Step 2: Generate a pie chart representing the distribution of creatures by their habitat\n",
    "plt.figure(figsize=(8, 8))\n",
    "habitat_distribution = mystical_creatures['habitat'].value_counts()\n",
    "plt.pie(habitat_distribution, labels=habitat_distribution.index, autopct='%1.1f%%', colors=sns.color_palette('pastel'))\n",
    "plt.title('Distribution of Creatures by Habitat')\n",
    "plt.show()\n",
    "\n",
    "# Step 3: Plot a scatter plot to show the relationship between power level and age of the creatures\n",
    "plt.figure(figsize=(10, 6))\n",
    "sns.scatterplot(x='age', y='power_level', data=mystical_creatures, hue='creature_type', palette='viridis', alpha=0.7)\n",
    "plt.title('Relationship Between Power Level and Age of the Creatures')\n",
    "plt.xlabel('Age')\n",
    "plt.ylabel('Power Level')\n",
    "plt.show()\n",
    "\n",
    "# Step 4: Create a box plot to compare the power levels across different creature types\n",
    "plt.figure(figsize=(10, 6))\n",
    "sns.boxplot(x='creature_type', y='power_level', data=mystical_creatures, palette='viridis')\n",
    "plt.title('Power Levels Across Different Creature Types')\n",
    "plt.xlabel('Creature Type')\n",
    "plt.ylabel('Power Level')\n",
    "plt.show()\n",
    "\n"
   ]
  },
  {
   "cell_type": "markdown",
   "id": "ef71d199",
   "metadata": {
    "papermill": {
     "duration": 0.022923,
     "end_time": "2024-05-28T08:04:19.984696",
     "exception": false,
     "start_time": "2024-05-28T08:04:19.961773",
     "status": "completed"
    },
    "tags": []
   },
   "source": [
    "# Q11 - Nested Data Labyrinth\n",
    "<a id=\"q11\"></a>\n",
    "\n",
    "**Question:**\n",
    "Welcome to the Nested Data Labyrinth! You are given a dataset of enchanted forests and the magical creatures that inhabit them. Each forest contains multiple creatures, and each creature has various attributes. Your task is to navigate through this nested data to answer the following questions:\n",
    "1. Count the total number of creatures in each forest.\n",
    "2. Calculate the average power level of creatures in each forest.\n",
    "3. Identify the forest with the highest average age of creatures.\n",
    "4. Determine the most common creature type in each forest.\n",
    "5. Find the top 2 creatures with the highest power levels in each forest.\n",
    "\n",
    "**Datasets:**\n",
    "- `enchanted_forests`: Contains columns (forest_id, forest_name, creatures), where `creatures` is a list of dictionaries with keys (creature_id, creature_name, creature_type, age, power_level).\n",
    "\n",
    "Generate synthetic data for the dataset and perform the required analysis to find the answers.\n"
   ]
  },
  {
   "cell_type": "code",
   "execution_count": 31,
   "id": "128a4146",
   "metadata": {
    "execution": {
     "iopub.execute_input": "2024-05-28T08:04:20.032793Z",
     "iopub.status.busy": "2024-05-28T08:04:20.032358Z",
     "iopub.status.idle": "2024-05-28T08:04:20.052883Z",
     "shell.execute_reply": "2024-05-28T08:04:20.051808Z"
    },
    "papermill": {
     "duration": 0.047333,
     "end_time": "2024-05-28T08:04:20.055314",
     "exception": false,
     "start_time": "2024-05-28T08:04:20.007981",
     "status": "completed"
    },
    "tags": []
   },
   "outputs": [
    {
     "name": "stdout",
     "output_type": "stream",
     "text": [
      "Enchanted Forests DataFrame:\n",
      "   forest_id      forest_name  \\\n",
      "0          1     Mystic Grove   \n",
      "1          2  Enchanted Woods   \n",
      "2          3    Faerie Forest   \n",
      "3          4     Dragon’s Den   \n",
      "4          5   Unicorn Utopia   \n",
      "\n",
      "                                           creatures  \n",
      "0  [{\"creature_id\": 250, \"creature_name\": \"Sparkl...  \n",
      "1  [{\"creature_id\": 866, \"creature_name\": \"Draco\"...  \n",
      "2  [{\"creature_id\": 714, \"creature_name\": \"Draco\"...  \n",
      "3  [{\"creature_id\": 245, \"creature_name\": \"Ariel\"...  \n",
      "4  [{\"creature_id\": 173, \"creature_name\": \"Ariel\"...  \n"
     ]
    }
   ],
   "source": [
    "import pandas as pd\n",
    "import numpy as np\n",
    "import json\n",
    "\n",
    "# Seed for reproducibility\n",
    "np.random.seed(707)\n",
    "\n",
    "# Generate synthetic data\n",
    "forest_ids = np.arange(1, 6)\n",
    "forest_names = ['Mystic Grove', 'Enchanted Woods', 'Faerie Forest', 'Dragon’s Den', 'Unicorn Utopia']\n",
    "creature_types = ['Dragon', 'Unicorn', 'Phoenix', 'Griffin', 'Mermaid']\n",
    "creature_names = ['Draco', 'Sparkle', 'Flare', 'Griff', 'Ariel']\n",
    "\n",
    "data = []\n",
    "for forest_id, forest_name in zip(forest_ids, forest_names):\n",
    "    num_creatures = np.random.randint(5, 11)\n",
    "    creatures = []\n",
    "    for _ in range(num_creatures):\n",
    "        creature_id = np.random.randint(1, 1001)\n",
    "        creature_type = np.random.choice(creature_types)\n",
    "        creature_name = np.random.choice(creature_names)\n",
    "        age = np.random.randint(1, 101)\n",
    "        power_level = np.random.randint(50, 501)\n",
    "        creatures.append({\n",
    "            'creature_id': creature_id,\n",
    "            'creature_name': creature_name,\n",
    "            'creature_type': creature_type,\n",
    "            'age': age,\n",
    "            'power_level': power_level\n",
    "        })\n",
    "    data.append([forest_id, forest_name, json.dumps(creatures)])\n",
    "\n",
    "# Create DataFrame\n",
    "enchanted_forests = pd.DataFrame(data, columns=['forest_id', 'forest_name', 'creatures'])\n",
    "\n",
    "# Display the dataset\n",
    "print(\"Enchanted Forests DataFrame:\")\n",
    "print(enchanted_forests.head())\n"
   ]
  },
  {
   "cell_type": "markdown",
   "id": "26045d7e",
   "metadata": {
    "papermill": {
     "duration": 0.022975,
     "end_time": "2024-05-28T08:04:20.101529",
     "exception": false,
     "start_time": "2024-05-28T08:04:20.078554",
     "status": "completed"
    },
    "tags": []
   },
   "source": [
    "## Solution Explanation\n",
    "\n",
    "The steps to solve this problem are:\n",
    "1. Count the total number of creatures in each forest.\n",
    "2. Calculate the average power level of creatures in each forest.\n",
    "3. Identify the forest with the highest average age of creatures.\n",
    "4. Determine the most common creature type in each forest.\n",
    "5. Find the top 2 creatures with the highest power levels in each forest.\n",
    "\n",
    "Let's implement these steps in the following code.\n"
   ]
  },
  {
   "cell_type": "code",
   "execution_count": 32,
   "id": "85f6eabf",
   "metadata": {
    "execution": {
     "iopub.execute_input": "2024-05-28T08:04:20.150085Z",
     "iopub.status.busy": "2024-05-28T08:04:20.149668Z",
     "iopub.status.idle": "2024-05-28T08:04:20.214173Z",
     "shell.execute_reply": "2024-05-28T08:04:20.212351Z"
    },
    "papermill": {
     "duration": 0.092609,
     "end_time": "2024-05-28T08:04:20.217267",
     "exception": false,
     "start_time": "2024-05-28T08:04:20.124658",
     "status": "completed"
    },
    "tags": []
   },
   "outputs": [
    {
     "name": "stdout",
     "output_type": "stream",
     "text": [
      "Step 1: Total Number of Creatures in Each Forest\n",
      "       forest_name  num_creatures\n",
      "0     Mystic Grove              8\n",
      "1  Enchanted Woods              7\n",
      "2    Faerie Forest              7\n",
      "3     Dragon’s Den              5\n",
      "4   Unicorn Utopia             10 \n",
      "\n",
      "Step 2: Average Power Level of Creatures in Each Forest\n",
      "       forest_name  avg_power_level\n",
      "0     Mystic Grove       274.250000\n",
      "1  Enchanted Woods       238.285714\n",
      "2    Faerie Forest       293.571429\n",
      "3     Dragon’s Den       226.600000\n",
      "4   Unicorn Utopia       225.900000 \n",
      "\n",
      "Step 3: Forest with the Highest Average Age of Creatures\n",
      "forest_name    Unicorn Utopia\n",
      "avg_age                  65.0\n",
      "Name: 4, dtype: object \n",
      "\n",
      "Step 4: Most Common Creature Type in Each Forest\n",
      "       forest_name most_common_creature_type\n",
      "0     Mystic Grove                   Mermaid\n",
      "1  Enchanted Woods                   Griffin\n",
      "2    Faerie Forest                   Mermaid\n",
      "3     Dragon’s Den                   Mermaid\n",
      "4   Unicorn Utopia                   Griffin \n",
      "\n",
      "Step 5: Top 2 Creatures with the Highest Power Levels in Each Forest\n",
      "Forest: Mystic Grove\n",
      "  creature_name  power_level\n",
      "5         Griff          450\n",
      "6       Sparkle          413 \n",
      "\n",
      "Forest: Enchanted Woods\n",
      "  creature_name  power_level\n",
      "4       Sparkle          470\n",
      "2         Griff          404 \n",
      "\n",
      "Forest: Faerie Forest\n",
      "  creature_name  power_level\n",
      "2         Ariel          478\n",
      "0         Draco          383 \n",
      "\n",
      "Forest: Dragon’s Den\n",
      "  creature_name  power_level\n",
      "3       Sparkle          383\n",
      "4         Flare          382 \n",
      "\n",
      "Forest: Unicorn Utopia\n",
      "  creature_name  power_level\n",
      "0         Ariel          430\n",
      "5       Sparkle          410 \n",
      "\n"
     ]
    }
   ],
   "source": [
    "import json\n",
    "\n",
    "# Helper function to extract creatures from JSON\n",
    "def extract_creatures(row):\n",
    "    return pd.DataFrame(json.loads(row['creatures']))\n",
    "\n",
    "# Step 1: Count the total number of creatures in each forest\n",
    "enchanted_forests['num_creatures'] = enchanted_forests['creatures'].apply(lambda x: len(json.loads(x)))\n",
    "print(\"Step 1: Total Number of Creatures in Each Forest\")\n",
    "print(enchanted_forests[['forest_name', 'num_creatures']], \"\\n\")\n",
    "\n",
    "# Step 2: Calculate the average power level of creatures in each forest\n",
    "enchanted_forests['avg_power_level'] = enchanted_forests['creatures'].apply(lambda x: pd.DataFrame(json.loads(x))['power_level'].mean())\n",
    "print(\"Step 2: Average Power Level of Creatures in Each Forest\")\n",
    "print(enchanted_forests[['forest_name', 'avg_power_level']], \"\\n\")\n",
    "\n",
    "# Step 3: Identify the forest with the highest average age of creatures\n",
    "enchanted_forests['avg_age'] = enchanted_forests['creatures'].apply(lambda x: pd.DataFrame(json.loads(x))['age'].mean())\n",
    "forest_highest_avg_age = enchanted_forests.loc[enchanted_forests['avg_age'].idxmax()]\n",
    "print(\"Step 3: Forest with the Highest Average Age of Creatures\")\n",
    "print(forest_highest_avg_age[['forest_name', 'avg_age']], \"\\n\")\n",
    "\n",
    "# Step 4: Determine the most common creature type in each forest\n",
    "def most_common_creature_type(creatures_json):\n",
    "    creatures_df = pd.DataFrame(json.loads(creatures_json))\n",
    "    return creatures_df['creature_type'].mode().iloc[0]\n",
    "\n",
    "enchanted_forests['most_common_creature_type'] = enchanted_forests['creatures'].apply(most_common_creature_type)\n",
    "print(\"Step 4: Most Common Creature Type in Each Forest\")\n",
    "print(enchanted_forests[['forest_name', 'most_common_creature_type']], \"\\n\")\n",
    "\n",
    "# Step 5: Find the top 2 creatures with the highest power levels in each forest\n",
    "def top_2_creatures(creatures_json):\n",
    "    creatures_df = pd.DataFrame(json.loads(creatures_json))\n",
    "    return creatures_df.nlargest(2, 'power_level')[['creature_name', 'power_level']]\n",
    "\n",
    "enchanted_forests['top_2_creatures'] = enchanted_forests['creatures'].apply(top_2_creatures)\n",
    "print(\"Step 5: Top 2 Creatures with the Highest Power Levels in Each Forest\")\n",
    "for index, row in enchanted_forests.iterrows():\n",
    "    print(f\"Forest: {row['forest_name']}\")\n",
    "    print(row['top_2_creatures'], \"\\n\")\n"
   ]
  }
 ],
 "metadata": {
  "kaggle": {
   "accelerator": "none",
   "dataSources": [],
   "dockerImageVersionId": 30673,
   "isGpuEnabled": false,
   "isInternetEnabled": true,
   "language": "python",
   "sourceType": "notebook"
  },
  "kernelspec": {
   "display_name": "Python 3",
   "language": "python",
   "name": "python3"
  },
  "language_info": {
   "codemirror_mode": {
    "name": "ipython",
    "version": 3
   },
   "file_extension": ".py",
   "mimetype": "text/x-python",
   "name": "python",
   "nbconvert_exporter": "python",
   "pygments_lexer": "ipython3",
   "version": "3.10.13"
  },
  "papermill": {
   "default_parameters": {},
   "duration": 10.79933,
   "end_time": "2024-05-28T08:04:20.862874",
   "environment_variables": {},
   "exception": null,
   "input_path": "__notebook__.ipynb",
   "output_path": "__notebook__.ipynb",
   "parameters": {},
   "start_time": "2024-05-28T08:04:10.063544",
   "version": "2.5.0"
  }
 },
 "nbformat": 4,
 "nbformat_minor": 5
}
