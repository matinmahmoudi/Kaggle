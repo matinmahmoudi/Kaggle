{
 "cells": [
  {
   "cell_type": "markdown",
   "id": "c9eb87f8",
   "metadata": {
    "papermill": {
     "duration": 0.002167,
     "end_time": "2024-06-13T14:33:14.902961",
     "exception": false,
     "start_time": "2024-06-13T14:33:14.900794",
     "status": "completed"
    },
    "tags": []
   },
   "source": [
    "# 🏔️ 🧪 Complete Guide to A/B Test A to Z\n",
    "\n",
    "Welcome to this comprehensive guide on A/B testing! This notebook is designed to equip you with everything you need to know, from basic concepts to advanced applications in data science. Whether you're just starting out or you're a seasoned professional looking to sharpen your skills, this guide is for you!\n",
    "\n",
    "## What Will You Learn?\n",
    "\n",
    "We'll dive into a variety of A/B testing techniques, each with a unique purpose in data analysis. By the end, you'll have a toolkit ready to tackle any data-driven challenge. Here's a peek at what we'll cover:\n",
    "\n",
    "- **Binary A/B Testing:** Learn how to compare two versions of a binary outcome to determine which one performs better.\n",
    "- **Continuous A/B Testing:** Discover how to compare means from continuous data and understand the statistical significance of their differences.\n",
    "\n",
    "## Why This Guide?\n",
    "\n",
    "- **Step-by-Step Tutorials:** Each section includes clear explanations followed by practical examples, ensuring you not only learn but also apply your knowledge.\n",
    "- **Interactive Learning:** Engage with interactive code cells that allow you to see the effects of A/B tests in real-time.\n",
    "\n",
    "### Preliminaries\n",
    "\n",
    "Before diving into A/B testing, it might be helpful to review some foundational concepts. Check out these guides for a solid grounding in descriptive statistics and statistical testing:\n",
    "\n",
    "- 🌿 🧮 [Complete Guide to Descriptive Stats A to Z](https://www.kaggle.com/code/matinmahmoudi/complete-guide-to-descriptive-stats-a-to-z)\n",
    "- 🏔️ 🧩 [Complete Guide to Statistical Testing A to Z](https://www.kaggle.com/code/matinmahmoudi/complete-guide-to-statistical-testing-a-to-z)\n",
    "\n",
    "### How to Use This Notebook\n",
    "\n",
    "- **Run the Cells:** Follow along with the code examples by running the cells yourself. Play around with the parameters to see how the results change.\n",
    "- **Explore Further:** After completing the guided sections, try applying the tests to your own datasets to reinforce your learning.\n",
    "\n",
    "Get ready to unlock the full potential of A/B testing in data science. Let's dive in and turn data into decisions!\n"
   ]
  },
  {
   "cell_type": "markdown",
   "id": "8c9d1b14",
   "metadata": {
    "papermill": {
     "duration": 0.001511,
     "end_time": "2024-06-13T14:33:14.906438",
     "exception": false,
     "start_time": "2024-06-13T14:33:14.904927",
     "status": "completed"
    },
    "tags": []
   },
   "source": [
    "# Dataset Description\n",
    "\n",
    "The dataset used in this notebook is `Cookie_Cats_cleaned_v01.csv`. It contains information on user behavior and retention in the mobile game Cookie Cats, before and after an intervention. Below is a detailed description of each column, including the data types and a brief explanation.\n",
    "\n",
    "### Columns:\n",
    "\n",
    "1. **userid** (int64)\n",
    "   - Unique identifier for each user.\n",
    "\n",
    "2. **version** (object)\n",
    "   - Indicates whether the user experienced the control or treatment version of the game.\n",
    "   - Example values: `gate_30` (control), `gate_40` (treatment)\n",
    "   \n",
    "\n",
    "3. **sum_gamerounds** (int64)\n",
    "   - Total number of game rounds played by the user.\n",
    "\n",
    "4. **retention_1** (bool)\n",
    "   - Indicates whether the user returned to play the game one day after installation.\n",
    "\n",
    "5. **retention_7** (bool)\n",
    "   - Indicates whether the user returned to play the game seven days after installation.\n",
    "\n",
    "### Dataset Overview:\n",
    "\n",
    "- **Total Entries:** 90,189\n",
    "\n"
   ]
  },
  {
   "cell_type": "code",
   "execution_count": null,
   "id": "3092d6b2",
   "metadata": {
    "papermill": {
     "duration": 0.001417,
     "end_time": "2024-06-13T14:33:14.909467",
     "exception": false,
     "start_time": "2024-06-13T14:33:14.908050",
     "status": "completed"
    },
    "tags": []
   },
   "outputs": [],
   "source": []
  }
 ],
 "metadata": {
  "kaggle": {
   "accelerator": "none",
   "dataSources": [],
   "dockerImageVersionId": 30732,
   "isGpuEnabled": false,
   "isInternetEnabled": true,
   "language": "python",
   "sourceType": "notebook"
  },
  "kernelspec": {
   "display_name": "Python 3",
   "language": "python",
   "name": "python3"
  },
  "language_info": {
   "codemirror_mode": {
    "name": "ipython",
    "version": 3
   },
   "file_extension": ".py",
   "mimetype": "text/x-python",
   "name": "python",
   "nbconvert_exporter": "python",
   "pygments_lexer": "ipython3",
   "version": "3.10.13"
  },
  "papermill": {
   "default_parameters": {},
   "duration": 2.880074,
   "end_time": "2024-06-13T14:33:15.230100",
   "environment_variables": {},
   "exception": null,
   "input_path": "__notebook__.ipynb",
   "output_path": "__notebook__.ipynb",
   "parameters": {},
   "start_time": "2024-06-13T14:33:12.350026",
   "version": "2.5.0"
  }
 },
 "nbformat": 4,
 "nbformat_minor": 5
}
