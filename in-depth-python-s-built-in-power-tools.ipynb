{
 "cells": [
  {
   "cell_type": "markdown",
   "id": "efe8ad4f",
   "metadata": {
    "papermill": {
     "duration": 0.022204,
     "end_time": "2024-09-06T13:17:48.057576",
     "exception": false,
     "start_time": "2024-09-06T13:17:48.035372",
     "status": "completed"
    },
    "tags": []
   },
   "source": [
    "# 🌱 🛠️ **In Depth: Python's Built-in Power Tools**\n",
    "\n",
    "Welcome to the ultimate guide on Python's built-in functions. These functions are the backbone of Python programming, providing the essential tools needed for everything from simple scripts to complex applications. In this notebook, we'll explore an extensive list of these functions, diving deep into their use cases, nuances, and potential pitfalls.\n",
    "\n",
    "## What You'll Learn\n",
    "\n",
    "- **Information Retrieval**: Functions to explore and understand data types, objects, and code.\n",
    "- **Mathematical Operations**: Functions that handle everything from basic arithmetic to complex calculations.\n",
    "- **Data Manipulation**: Tools for sorting, filtering, and organizing your data.\n",
    "- **Iterators and Generators**: Mastering Python's powerful iteration mechanisms.\n",
    "- **Type Conversion**: Techniques for converting data between different formats.\n",
    "- **File I/O**: How to efficiently read from and write to files.\n",
    "- **Advanced Operations**: Exploring some of Python's more specialized built-in functions.\n",
    "- **Practice Exercises**: Challenging tasks to test and hone your skills.\n"
   ]
  },
  {
   "cell_type": "markdown",
   "id": "ac19c8a2",
   "metadata": {
    "papermill": {
     "duration": 0.020851,
     "end_time": "2024-09-06T13:17:48.100109",
     "exception": false,
     "start_time": "2024-09-06T13:17:48.079258",
     "status": "completed"
    },
    "tags": []
   },
   "source": [
    "## 🔍 **Information Retrieval Functions**\n",
    "\n",
    "Understanding the objects and data you're working with is crucial in Python. These functions allow you to introspect and gather information, helping you debug, explore, and document your code effectively.\n",
    "\n",
    "### 1. `help()` - Your Personal Python Guide\n",
    "\n",
    "`help()` provides a quick reference to Python documentation. Use it whenever you're unsure about a function, class, or module.\n",
    "\n",
    "#### Example:\n"
   ]
  },
  {
   "cell_type": "code",
   "execution_count": 1,
   "id": "f6ac81cf",
   "metadata": {
    "execution": {
     "iopub.execute_input": "2024-09-06T13:17:48.144661Z",
     "iopub.status.busy": "2024-09-06T13:17:48.144077Z",
     "iopub.status.idle": "2024-09-06T13:17:48.160580Z",
     "shell.execute_reply": "2024-09-06T13:17:48.159237Z"
    },
    "papermill": {
     "duration": 0.042307,
     "end_time": "2024-09-06T13:17:48.163536",
     "exception": false,
     "start_time": "2024-09-06T13:17:48.121229",
     "status": "completed"
    },
    "tags": []
   },
   "outputs": [
    {
     "name": "stdout",
     "output_type": "stream",
     "text": [
      "Help on class map in module builtins:\n",
      "\n",
      "class map(object)\n",
      " |  map(func, *iterables) --> map object\n",
      " |  \n",
      " |  Make an iterator that computes the function using arguments from\n",
      " |  each of the iterables.  Stops when the shortest iterable is exhausted.\n",
      " |  \n",
      " |  Methods defined here:\n",
      " |  \n",
      " |  __getattribute__(self, name, /)\n",
      " |      Return getattr(self, name).\n",
      " |  \n",
      " |  __iter__(self, /)\n",
      " |      Implement iter(self).\n",
      " |  \n",
      " |  __next__(self, /)\n",
      " |      Implement next(self).\n",
      " |  \n",
      " |  __reduce__(...)\n",
      " |      Return state information for pickling.\n",
      " |  \n",
      " |  ----------------------------------------------------------------------\n",
      " |  Static methods defined here:\n",
      " |  \n",
      " |  __new__(*args, **kwargs) from builtins.type\n",
      " |      Create and return a new object.  See help(type) for accurate signature.\n",
      "\n"
     ]
    }
   ],
   "source": [
    "# Using help to get documentation for the built-in map function\n",
    "help(map)"
   ]
  },
  {
   "cell_type": "markdown",
   "id": "7d76effb",
   "metadata": {
    "papermill": {
     "duration": 0.021323,
     "end_time": "2024-09-06T13:17:48.206262",
     "exception": false,
     "start_time": "2024-09-06T13:17:48.184939",
     "status": "completed"
    },
    "tags": []
   },
   "source": [
    "### 2. `dir()` - Exploring Object Attributes\n",
    "\n",
    "`dir()` lists the attributes and methods of any object. It's a great tool for discovering what operations can be performed on an object.\n",
    "\n",
    "#### Example:\n"
   ]
  },
  {
   "cell_type": "code",
   "execution_count": 2,
   "id": "c10b338a",
   "metadata": {
    "execution": {
     "iopub.execute_input": "2024-09-06T13:17:48.251182Z",
     "iopub.status.busy": "2024-09-06T13:17:48.250083Z",
     "iopub.status.idle": "2024-09-06T13:17:48.256412Z",
     "shell.execute_reply": "2024-09-06T13:17:48.254948Z"
    },
    "papermill": {
     "duration": 0.031392,
     "end_time": "2024-09-06T13:17:48.258923",
     "exception": false,
     "start_time": "2024-09-06T13:17:48.227531",
     "status": "completed"
    },
    "tags": []
   },
   "outputs": [
    {
     "name": "stdout",
     "output_type": "stream",
     "text": [
      "['__add__', '__class__', '__class_getitem__', '__contains__', '__delattr__', '__delitem__', '__dir__', '__doc__', '__eq__', '__format__', '__ge__', '__getattribute__', '__getitem__', '__gt__', '__hash__', '__iadd__', '__imul__', '__init__', '__init_subclass__', '__iter__', '__le__', '__len__', '__lt__', '__mul__', '__ne__', '__new__', '__reduce__', '__reduce_ex__', '__repr__', '__reversed__', '__rmul__', '__setattr__', '__setitem__', '__sizeof__', '__str__', '__subclasshook__', 'append', 'clear', 'copy', 'count', 'extend', 'index', 'insert', 'pop', 'remove', 'reverse', 'sort']\n"
     ]
    }
   ],
   "source": [
    "# Discovering the methods available for a list object\n",
    "print(dir([]))\n"
   ]
  },
  {
   "cell_type": "markdown",
   "id": "343d1e16",
   "metadata": {
    "papermill": {
     "duration": 0.02084,
     "end_time": "2024-09-06T13:17:48.301186",
     "exception": false,
     "start_time": "2024-09-06T13:17:48.280346",
     "status": "completed"
    },
    "tags": []
   },
   "source": [
    "### 3. `type()` and `id()` - Understanding Data Types and Identity\n",
    "\n",
    "- **`type()`**: Returns the type of an object. This is particularly useful for checking whether a variable is of a specific type.\n",
    "- **`id()`**: Returns the unique identifier for an object, which is its memory address. Understanding this helps in comprehending how Python manages object references.\n",
    "\n",
    "#### Example:\n"
   ]
  },
  {
   "cell_type": "code",
   "execution_count": 3,
   "id": "df79dd08",
   "metadata": {
    "execution": {
     "iopub.execute_input": "2024-09-06T13:17:48.346602Z",
     "iopub.status.busy": "2024-09-06T13:17:48.346156Z",
     "iopub.status.idle": "2024-09-06T13:17:48.352624Z",
     "shell.execute_reply": "2024-09-06T13:17:48.351416Z"
    },
    "papermill": {
     "duration": 0.032789,
     "end_time": "2024-09-06T13:17:48.355493",
     "exception": false,
     "start_time": "2024-09-06T13:17:48.322704",
     "status": "completed"
    },
    "tags": []
   },
   "outputs": [
    {
     "name": "stdout",
     "output_type": "stream",
     "text": [
      "Type: <class 'dict'>\n",
      "ID: 137840266420160\n"
     ]
    }
   ],
   "source": [
    "# Checking the type and memory address of a variable\n",
    "example_var = {\"key\": \"value\"}\n",
    "print(\"Type:\", type(example_var))\n",
    "print(\"ID:\", id(example_var))\n"
   ]
  },
  {
   "cell_type": "markdown",
   "id": "7fc7bd6a",
   "metadata": {
    "papermill": {
     "duration": 0.021134,
     "end_time": "2024-09-06T13:17:48.398557",
     "exception": false,
     "start_time": "2024-09-06T13:17:48.377423",
     "status": "completed"
    },
    "tags": []
   },
   "source": [
    "### 4. `callable()` - Checking if an Object is Callable\n",
    "\n",
    "`callable()` checks if an object appears callable, like a function or method. This is useful for dynamic code where you need to verify that an object can be executed.\n",
    "\n",
    "#### Example:\n"
   ]
  },
  {
   "cell_type": "code",
   "execution_count": 4,
   "id": "fa4c953b",
   "metadata": {
    "execution": {
     "iopub.execute_input": "2024-09-06T13:17:48.444751Z",
     "iopub.status.busy": "2024-09-06T13:17:48.444287Z",
     "iopub.status.idle": "2024-09-06T13:17:48.450652Z",
     "shell.execute_reply": "2024-09-06T13:17:48.449643Z"
    },
    "papermill": {
     "duration": 0.033009,
     "end_time": "2024-09-06T13:17:48.453452",
     "exception": false,
     "start_time": "2024-09-06T13:17:48.420443",
     "status": "completed"
    },
    "tags": []
   },
   "outputs": [
    {
     "name": "stdout",
     "output_type": "stream",
     "text": [
      "Is example_function callable? True\n",
      "Is 42 callable? False\n"
     ]
    }
   ],
   "source": [
    "# Checking if an object is callable\n",
    "def example_function():\n",
    "    pass\n",
    "\n",
    "print(\"Is example_function callable?\", callable(example_function))\n",
    "print(\"Is 42 callable?\", callable(42))\n"
   ]
  },
  {
   "cell_type": "markdown",
   "id": "4f2db256",
   "metadata": {
    "papermill": {
     "duration": 0.021268,
     "end_time": "2024-09-06T13:17:48.496412",
     "exception": false,
     "start_time": "2024-09-06T13:17:48.475144",
     "status": "completed"
    },
    "tags": []
   },
   "source": [
    "### 5. `isinstance()` and `issubclass()` - Type Checking and Inheritance\n",
    "\n",
    "- **`isinstance()`**: Verifies if an object is an instance of a particular class or a tuple of classes.\n",
    "- **`issubclass()`**: Determines if a class is a subclass of another class.\n",
    "\n",
    "#### Example:\n"
   ]
  },
  {
   "cell_type": "code",
   "execution_count": 5,
   "id": "623cc26f",
   "metadata": {
    "execution": {
     "iopub.execute_input": "2024-09-06T13:17:48.541862Z",
     "iopub.status.busy": "2024-09-06T13:17:48.540858Z",
     "iopub.status.idle": "2024-09-06T13:17:48.547998Z",
     "shell.execute_reply": "2024-09-06T13:17:48.546926Z"
    },
    "papermill": {
     "duration": 0.033476,
     "end_time": "2024-09-06T13:17:48.551344",
     "exception": false,
     "start_time": "2024-09-06T13:17:48.517868",
     "status": "completed"
    },
    "tags": []
   },
   "outputs": [
    {
     "name": "stdout",
     "output_type": "stream",
     "text": [
      "Is 42 an int? True\n",
      "Is 42 a float? False\n",
      "Is Dog a subclass of Animal? True\n"
     ]
    }
   ],
   "source": [
    "# Checking instances and subclass relationships\n",
    "print(\"Is 42 an int?\", isinstance(42, int))\n",
    "print(\"Is 42 a float?\", isinstance(42, float))\n",
    "\n",
    "class Animal:\n",
    "    pass\n",
    "\n",
    "class Dog(Animal):\n",
    "    pass\n",
    "\n",
    "print(\"Is Dog a subclass of Animal?\", issubclass(Dog, Animal))\n"
   ]
  },
  {
   "cell_type": "markdown",
   "id": "70ded038",
   "metadata": {
    "papermill": {
     "duration": 0.022293,
     "end_time": "2024-09-06T13:17:48.597200",
     "exception": false,
     "start_time": "2024-09-06T13:17:48.574907",
     "status": "completed"
    },
    "tags": []
   },
   "source": [
    "## **Mathematical Operations**\n",
    "\n",
    "Python offers a rich set of built-in functions to perform a variety of mathematical operations, from simple arithmetic to complex calculations."
   ]
  },
  {
   "cell_type": "markdown",
   "id": "e200db0a",
   "metadata": {
    "papermill": {
     "duration": 0.021812,
     "end_time": "2024-09-06T13:17:48.641404",
     "exception": false,
     "start_time": "2024-09-06T13:17:48.619592",
     "status": "completed"
    },
    "tags": []
   },
   "source": [
    "\n",
    "\n",
    "### 1. `abs()` - Absolute Value\n",
    "\n",
    "`abs()` returns the absolute value of a number, which is useful in scenarios where only the magnitude matters.\n",
    "\n",
    "#### Example:\n"
   ]
  },
  {
   "cell_type": "code",
   "execution_count": 6,
   "id": "b11ad5cf",
   "metadata": {
    "execution": {
     "iopub.execute_input": "2024-09-06T13:17:48.686888Z",
     "iopub.status.busy": "2024-09-06T13:17:48.685856Z",
     "iopub.status.idle": "2024-09-06T13:17:48.692166Z",
     "shell.execute_reply": "2024-09-06T13:17:48.691088Z"
    },
    "papermill": {
     "duration": 0.031603,
     "end_time": "2024-09-06T13:17:48.694703",
     "exception": false,
     "start_time": "2024-09-06T13:17:48.663100",
     "status": "completed"
    },
    "tags": []
   },
   "outputs": [
    {
     "name": "stdout",
     "output_type": "stream",
     "text": [
      "Absolute temperature difference: 15\n"
     ]
    }
   ],
   "source": [
    "# Calculating the absolute difference in temperatures\n",
    "temperature_morning = -5\n",
    "temperature_noon = 10\n",
    "print(\"Absolute temperature difference:\", abs(temperature_morning - temperature_noon))\n"
   ]
  },
  {
   "cell_type": "markdown",
   "id": "57bc9544",
   "metadata": {
    "papermill": {
     "duration": 0.021745,
     "end_time": "2024-09-06T13:17:48.738220",
     "exception": false,
     "start_time": "2024-09-06T13:17:48.716475",
     "status": "completed"
    },
    "tags": []
   },
   "source": [
    "### 2. `round()` - Rounding Numbers\n",
    "\n",
    "`round()` rounds a floating-point number to a specified number of decimal places, which is commonly used in financial applications and when displaying results.\n",
    "\n",
    "#### Example:\n"
   ]
  },
  {
   "cell_type": "code",
   "execution_count": 7,
   "id": "bdcc555c",
   "metadata": {
    "execution": {
     "iopub.execute_input": "2024-09-06T13:17:48.783748Z",
     "iopub.status.busy": "2024-09-06T13:17:48.783274Z",
     "iopub.status.idle": "2024-09-06T13:17:48.789621Z",
     "shell.execute_reply": "2024-09-06T13:17:48.788432Z"
    },
    "papermill": {
     "duration": 0.032317,
     "end_time": "2024-09-06T13:17:48.792360",
     "exception": false,
     "start_time": "2024-09-06T13:17:48.760043",
     "status": "completed"
    },
    "tags": []
   },
   "outputs": [
    {
     "name": "stdout",
     "output_type": "stream",
     "text": [
      "Rounded tax amount: 12.68\n"
     ]
    }
   ],
   "source": [
    "# Rounding off a calculated tax amount\n",
    "tax_amount = 12.6789\n",
    "print(\"Rounded tax amount:\", round(tax_amount, 2))\n"
   ]
  },
  {
   "cell_type": "markdown",
   "id": "bd9270cd",
   "metadata": {
    "papermill": {
     "duration": 0.021587,
     "end_time": "2024-09-06T13:17:48.835823",
     "exception": false,
     "start_time": "2024-09-06T13:17:48.814236",
     "status": "completed"
    },
    "tags": []
   },
   "source": [
    "### 3. `pow()` - Power Calculations\n",
    "\n",
    "`pow()` raises a number to a power. It also supports a third argument for modulus, making it essential in cryptography.\n",
    "\n",
    "#### Example:\n"
   ]
  },
  {
   "cell_type": "code",
   "execution_count": 8,
   "id": "a5f22b09",
   "metadata": {
    "execution": {
     "iopub.execute_input": "2024-09-06T13:17:48.881479Z",
     "iopub.status.busy": "2024-09-06T13:17:48.880654Z",
     "iopub.status.idle": "2024-09-06T13:17:48.887544Z",
     "shell.execute_reply": "2024-09-06T13:17:48.886419Z"
    },
    "papermill": {
     "duration": 0.032665,
     "end_time": "2024-09-06T13:17:48.890193",
     "exception": false,
     "start_time": "2024-09-06T13:17:48.857528",
     "status": "completed"
    },
    "tags": []
   },
   "outputs": [
    {
     "name": "stdout",
     "output_type": "stream",
     "text": [
      "Population after 5 years: 16105100000\n"
     ]
    }
   ],
   "source": [
    "# Calculating exponential growth in a simulation\n",
    "initial_population = 100\n",
    "growth_factor = 1.1\n",
    "years = 5\n",
    "print(\"Population after 5 years:\", round(pow(initial_population * growth_factor, years)))\n"
   ]
  },
  {
   "cell_type": "markdown",
   "id": "6d9abb65",
   "metadata": {
    "papermill": {
     "duration": 0.021638,
     "end_time": "2024-09-06T13:17:48.933886",
     "exception": false,
     "start_time": "2024-09-06T13:17:48.912248",
     "status": "completed"
    },
    "tags": []
   },
   "source": [
    "### 4. `min()` and `max()` - Finding Extremes\n",
    "\n",
    "These functions return the smallest and largest item in an iterable or from multiple arguments.\n",
    "\n",
    "#### Example:\n"
   ]
  },
  {
   "cell_type": "code",
   "execution_count": 9,
   "id": "8723c4ea",
   "metadata": {
    "execution": {
     "iopub.execute_input": "2024-09-06T13:17:48.980248Z",
     "iopub.status.busy": "2024-09-06T13:17:48.979807Z",
     "iopub.status.idle": "2024-09-06T13:17:48.986625Z",
     "shell.execute_reply": "2024-09-06T13:17:48.985351Z"
    },
    "papermill": {
     "duration": 0.033649,
     "end_time": "2024-09-06T13:17:48.989714",
     "exception": false,
     "start_time": "2024-09-06T13:17:48.956065",
     "status": "completed"
    },
    "tags": []
   },
   "outputs": [
    {
     "name": "stdout",
     "output_type": "stream",
     "text": [
      "Maximum stock price: 145.0\n",
      "Minimum stock price: 110.0\n"
     ]
    }
   ],
   "source": [
    "# Finding the maximum and minimum stock prices\n",
    "stock_prices = [120.25, 130.75, 112.50, 145.00, 110.00]\n",
    "print(\"Maximum stock price:\", max(stock_prices))\n",
    "print(\"Minimum stock price:\", min(stock_prices))\n"
   ]
  },
  {
   "cell_type": "markdown",
   "id": "baf817c1",
   "metadata": {
    "papermill": {
     "duration": 0.022497,
     "end_time": "2024-09-06T13:17:49.034736",
     "exception": false,
     "start_time": "2024-09-06T13:17:49.012239",
     "status": "completed"
    },
    "tags": []
   },
   "source": [
    "### 5. `sum()` - Adding Up\n",
    "\n",
    "`sum()` returns the total sum of items in an iterable, optionally adding a start value.\n",
    "\n",
    "#### Example:\n"
   ]
  },
  {
   "cell_type": "code",
   "execution_count": 10,
   "id": "15680558",
   "metadata": {
    "execution": {
     "iopub.execute_input": "2024-09-06T13:17:49.081211Z",
     "iopub.status.busy": "2024-09-06T13:17:49.080746Z",
     "iopub.status.idle": "2024-09-06T13:17:49.087358Z",
     "shell.execute_reply": "2024-09-06T13:17:49.086133Z"
    },
    "papermill": {
     "duration": 0.033453,
     "end_time": "2024-09-06T13:17:49.090287",
     "exception": false,
     "start_time": "2024-09-06T13:17:49.056834",
     "status": "completed"
    },
    "tags": []
   },
   "outputs": [
    {
     "name": "stdout",
     "output_type": "stream",
     "text": [
      "Total cost: 67.42\n"
     ]
    }
   ],
   "source": [
    "# Calculating the total cost of items in a cart\n",
    "item_prices = [19.99, 29.95, 4.99, 12.49]\n",
    "print(\"Total cost:\", sum(item_prices))\n"
   ]
  },
  {
   "cell_type": "markdown",
   "id": "84531f42",
   "metadata": {
    "papermill": {
     "duration": 0.021803,
     "end_time": "2024-09-06T13:17:49.134350",
     "exception": false,
     "start_time": "2024-09-06T13:17:49.112547",
     "status": "completed"
    },
    "tags": []
   },
   "source": [
    "### 6. `divmod()` - Quotient and Remainder\n",
    "\n",
    "`divmod()` returns a tuple containing the quotient and remainder when dividing two numbers. It's handy in scenarios where you need both results, such as in time calculations or pagination.\n",
    "\n",
    "#### Example:\n"
   ]
  },
  {
   "cell_type": "code",
   "execution_count": 11,
   "id": "e03941a6",
   "metadata": {
    "execution": {
     "iopub.execute_input": "2024-09-06T13:17:49.182854Z",
     "iopub.status.busy": "2024-09-06T13:17:49.181603Z",
     "iopub.status.idle": "2024-09-06T13:17:49.188977Z",
     "shell.execute_reply": "2024-09-06T13:17:49.187693Z"
    },
    "papermill": {
     "duration": 0.034122,
     "end_time": "2024-09-06T13:17:49.191554",
     "exception": false,
     "start_time": "2024-09-06T13:17:49.157432",
     "status": "completed"
    },
    "tags": []
   },
   "outputs": [
    {
     "name": "stdout",
     "output_type": "stream",
     "text": [
      "2 hours and 10 minutes\n"
     ]
    }
   ],
   "source": [
    "# Calculating how many full hours and minutes are in a given time span\n",
    "total_minutes = 130\n",
    "hours, minutes = divmod(total_minutes, 60)\n",
    "print(f\"{hours} hours and {minutes} minutes\")\n"
   ]
  },
  {
   "cell_type": "markdown",
   "id": "b92e26be",
   "metadata": {
    "papermill": {
     "duration": 0.022002,
     "end_time": "2024-09-06T13:17:49.236050",
     "exception": false,
     "start_time": "2024-09-06T13:17:49.214048",
     "status": "completed"
    },
    "tags": []
   },
   "source": [
    "### 7. `complex()` - Working with Complex Numbers\n",
    "\n",
    "`complex()` creates a complex number, useful in scientific computing and simulations.\n",
    "\n",
    "#### Example:\n"
   ]
  },
  {
   "cell_type": "code",
   "execution_count": 12,
   "id": "af8a696d",
   "metadata": {
    "execution": {
     "iopub.execute_input": "2024-09-06T13:17:49.282449Z",
     "iopub.status.busy": "2024-09-06T13:17:49.282022Z",
     "iopub.status.idle": "2024-09-06T13:17:49.288567Z",
     "shell.execute_reply": "2024-09-06T13:17:49.287340Z"
    },
    "papermill": {
     "duration": 0.033108,
     "end_time": "2024-09-06T13:17:49.291394",
     "exception": false,
     "start_time": "2024-09-06T13:17:49.258286",
     "status": "completed"
    },
    "tags": []
   },
   "outputs": [
    {
     "name": "stdout",
     "output_type": "stream",
     "text": [
      "Complex wave: (3+0.5j)\n"
     ]
    }
   ],
   "source": [
    "# Representing a wave as a complex number\n",
    "wave_amplitude = 3\n",
    "wave_phase = 0.5\n",
    "complex_wave = complex(wave_amplitude, wave_phase)\n",
    "print(\"Complex wave:\", complex_wave)\n"
   ]
  },
  {
   "cell_type": "markdown",
   "id": "cfbeb876",
   "metadata": {
    "papermill": {
     "duration": 0.022731,
     "end_time": "2024-09-06T13:17:49.336395",
     "exception": false,
     "start_time": "2024-09-06T13:17:49.313664",
     "status": "completed"
    },
    "tags": []
   },
   "source": [
    "## 🔄 **Data Manipulation**\n",
    "\n",
    "These functions help you efficiently manipulate data structures like lists, tuples, and dictionaries. They allow you to sort, filter, and transform your data with ease."
   ]
  },
  {
   "cell_type": "markdown",
   "id": "0451e78c",
   "metadata": {
    "papermill": {
     "duration": 0.022458,
     "end_time": "2024-09-06T13:17:49.382184",
     "exception": false,
     "start_time": "2024-09-06T13:17:49.359726",
     "status": "completed"
    },
    "tags": []
   },
   "source": [
    "### 1. `len()` - Counting Elements\n",
    "\n",
    "`len()` returns the number of items in an object, such as a list, tuple, or string.\n",
    "\n",
    "#### Example:\n"
   ]
  },
  {
   "cell_type": "code",
   "execution_count": 13,
   "id": "f636cfea",
   "metadata": {
    "execution": {
     "iopub.execute_input": "2024-09-06T13:17:49.429407Z",
     "iopub.status.busy": "2024-09-06T13:17:49.428983Z",
     "iopub.status.idle": "2024-09-06T13:17:49.435694Z",
     "shell.execute_reply": "2024-09-06T13:17:49.434482Z"
    },
    "papermill": {
     "duration": 0.033761,
     "end_time": "2024-09-06T13:17:49.438341",
     "exception": false,
     "start_time": "2024-09-06T13:17:49.404580",
     "status": "completed"
    },
    "tags": []
   },
   "outputs": [
    {
     "name": "stdout",
     "output_type": "stream",
     "text": [
      "Number of books: 4\n"
     ]
    }
   ],
   "source": [
    "# Counting the number of books in a reading list\n",
    "reading_list = [\"1984\", \"To Kill a Mockingbird\", \"Moby Dick\", \"Pride and Prejudice\"]\n",
    "print(\"Number of books:\", len(reading_list))\n"
   ]
  },
  {
   "cell_type": "markdown",
   "id": "bf550b81",
   "metadata": {
    "papermill": {
     "duration": 0.022081,
     "end_time": "2024-09-06T13:17:49.484370",
     "exception": false,
     "start_time": "2024-09-06T13:17:49.462289",
     "status": "completed"
    },
    "tags": []
   },
   "source": [
    "### 2. `sorted()` - Sorting Data\n",
    "\n",
    "`sorted()` returns a new sorted list from the items in an iterable. You can also sort in reverse order.\n",
    "\n",
    "#### Example:\n"
   ]
  },
  {
   "cell_type": "code",
   "execution_count": 14,
   "id": "19c4189f",
   "metadata": {
    "execution": {
     "iopub.execute_input": "2024-09-06T13:17:49.531151Z",
     "iopub.status.busy": "2024-09-06T13:17:49.530725Z",
     "iopub.status.idle": "2024-09-06T13:17:49.537605Z",
     "shell.execute_reply": "2024-09-06T13:17:49.536408Z"
    },
    "papermill": {
     "duration": 0.033169,
     "end_time": "2024-09-06T13:17:49.540020",
     "exception": false,
     "start_time": "2024-09-06T13:17:49.506851",
     "status": "completed"
    },
    "tags": []
   },
   "outputs": [
    {
     "name": "stdout",
     "output_type": "stream",
     "text": [
      "Sorted grades: [92, 91, 88, 85, 79]\n"
     ]
    }
   ],
   "source": [
    "# Sorting student grades in descending order\n",
    "student_grades = [88, 92, 79, 85, 91]\n",
    "sorted_grades = sorted(student_grades, reverse=True)\n",
    "print(\"Sorted grades:\", sorted_grades)\n"
   ]
  },
  {
   "cell_type": "markdown",
   "id": "b76830b7",
   "metadata": {
    "papermill": {
     "duration": 0.022086,
     "end_time": "2024-09-06T13:17:49.584949",
     "exception": false,
     "start_time": "2024-09-06T13:17:49.562863",
     "status": "completed"
    },
    "tags": []
   },
   "source": [
    "### 3. `reversed()` - Reversing Sequences\n",
    "\n",
    "`reversed()` returns an iterator that accesses the given sequence in the reverse order.\n",
    "\n",
    "#### Example:\n"
   ]
  },
  {
   "cell_type": "code",
   "execution_count": 15,
   "id": "1c9f579d",
   "metadata": {
    "execution": {
     "iopub.execute_input": "2024-09-06T13:17:49.631776Z",
     "iopub.status.busy": "2024-09-06T13:17:49.631308Z",
     "iopub.status.idle": "2024-09-06T13:17:49.637520Z",
     "shell.execute_reply": "2024-09-06T13:17:49.636228Z"
    },
    "papermill": {
     "duration": 0.032931,
     "end_time": "2024-09-06T13:17:49.640252",
     "exception": false,
     "start_time": "2024-09-06T13:17:49.607321",
     "status": "completed"
    },
    "tags": []
   },
   "outputs": [
    {
     "name": "stdout",
     "output_type": "stream",
     "text": [
      "Reversed actions: ['shoot', 'duck', 'run', 'jump']\n"
     ]
    }
   ],
   "source": [
    "# Reversing a list of player actions\n",
    "actions = [\"jump\", \"run\", \"duck\", \"shoot\"]\n",
    "print(\"Reversed actions:\", list(reversed(actions)))\n"
   ]
  },
  {
   "cell_type": "markdown",
   "id": "cd43b99b",
   "metadata": {
    "papermill": {
     "duration": 0.022249,
     "end_time": "2024-09-06T13:17:49.685281",
     "exception": false,
     "start_time": "2024-09-06T13:17:49.663032",
     "status": "completed"
    },
    "tags": []
   },
   "source": [
    "### 4. `enumerate()` - Counting with Enumeration\n",
    "\n",
    "`enumerate()` adds a counter to an iterable, returning it as an\n"
   ]
  },
  {
   "cell_type": "code",
   "execution_count": 16,
   "id": "3d7e4622",
   "metadata": {
    "execution": {
     "iopub.execute_input": "2024-09-06T13:17:49.788474Z",
     "iopub.status.busy": "2024-09-06T13:17:49.787630Z",
     "iopub.status.idle": "2024-09-06T13:17:49.794301Z",
     "shell.execute_reply": "2024-09-06T13:17:49.793079Z"
    },
    "papermill": {
     "duration": 0.033654,
     "end_time": "2024-09-06T13:17:49.797282",
     "exception": false,
     "start_time": "2024-09-06T13:17:49.763628",
     "status": "completed"
    },
    "tags": []
   },
   "outputs": [
    {
     "name": "stdout",
     "output_type": "stream",
     "text": [
      "1: apples\n",
      "2: bananas\n",
      "3: carrots\n",
      "4: dates\n"
     ]
    }
   ],
   "source": [
    "# Enumerating items in a grocery list\n",
    "groceries = [\"apples\", \"bananas\", \"carrots\", \"dates\"]\n",
    "for index, item in enumerate(groceries, start=1):\n",
    "    print(f\"{index}: {item}\")"
   ]
  },
  {
   "cell_type": "markdown",
   "id": "c6bc1a0d",
   "metadata": {
    "papermill": {
     "duration": 0.022607,
     "end_time": "2024-09-06T13:17:49.842770",
     "exception": false,
     "start_time": "2024-09-06T13:17:49.820163",
     "status": "completed"
    },
    "tags": []
   },
   "source": [
    "### 5. `zip()` - Combining Iterables\n",
    "\n",
    "`zip()` combines two or more iterables, producing tuples of their corresponding elements. This is particularly useful for pairing related data together.\n",
    "\n",
    "#### Example:\n"
   ]
  },
  {
   "cell_type": "code",
   "execution_count": 17,
   "id": "d6a091a4",
   "metadata": {
    "execution": {
     "iopub.execute_input": "2024-09-06T13:17:49.890736Z",
     "iopub.status.busy": "2024-09-06T13:17:49.889617Z",
     "iopub.status.idle": "2024-09-06T13:17:49.896213Z",
     "shell.execute_reply": "2024-09-06T13:17:49.895095Z"
    },
    "papermill": {
     "duration": 0.033808,
     "end_time": "2024-09-06T13:17:49.899227",
     "exception": false,
     "start_time": "2024-09-06T13:17:49.865419",
     "status": "completed"
    },
    "tags": []
   },
   "outputs": [
    {
     "name": "stdout",
     "output_type": "stream",
     "text": [
      "Friend-Color pairs: [('Alice', 'Blue'), ('Bob', 'Green'), ('Charlie', 'Red')]\n"
     ]
    }
   ],
   "source": [
    "# Pairing friends with their favorite colors\n",
    "friends = [\"Alice\", \"Bob\", \"Charlie\"]\n",
    "colors = [\"Blue\", \"Green\", \"Red\"]\n",
    "print(\"Friend-Color pairs:\", list(zip(friends, colors)))\n"
   ]
  },
  {
   "cell_type": "markdown",
   "id": "3c9a06a0",
   "metadata": {
    "papermill": {
     "duration": 0.022676,
     "end_time": "2024-09-06T13:17:49.944668",
     "exception": false,
     "start_time": "2024-09-06T13:17:49.921992",
     "status": "completed"
    },
    "tags": []
   },
   "source": [
    "### 6. `map()` - Applying Functions to Iterables\n",
    "\n",
    "`map()` applies a function to all items in an iterable. It's a concise way to transform data, like converting temperatures or applying discounts.\n",
    "\n",
    "#### Example:\n"
   ]
  },
  {
   "cell_type": "code",
   "execution_count": 18,
   "id": "bb150de1",
   "metadata": {
    "execution": {
     "iopub.execute_input": "2024-09-06T13:17:49.992035Z",
     "iopub.status.busy": "2024-09-06T13:17:49.991578Z",
     "iopub.status.idle": "2024-09-06T13:17:49.998201Z",
     "shell.execute_reply": "2024-09-06T13:17:49.997120Z"
    },
    "papermill": {
     "duration": 0.033916,
     "end_time": "2024-09-06T13:17:50.001341",
     "exception": false,
     "start_time": "2024-09-06T13:17:49.967425",
     "status": "completed"
    },
    "tags": []
   },
   "outputs": [
    {
     "name": "stdout",
     "output_type": "stream",
     "text": [
      "Discounted prices: [90.0, 135.0, 180.0, 45.0]\n"
     ]
    }
   ],
   "source": [
    "# Applying a discount to a list of prices\n",
    "prices = [100, 150, 200, 50]\n",
    "discount = 0.1\n",
    "\n",
    "discounted_prices = list(map(lambda price: price * (1 - discount), prices))\n",
    "print(\"Discounted prices:\", discounted_prices)\n"
   ]
  },
  {
   "cell_type": "markdown",
   "id": "32df910b",
   "metadata": {
    "papermill": {
     "duration": 0.023263,
     "end_time": "2024-09-06T13:17:50.047562",
     "exception": false,
     "start_time": "2024-09-06T13:17:50.024299",
     "status": "completed"
    },
    "tags": []
   },
   "source": [
    "### 7. `filter()` - Filtering Data\n",
    "\n",
    "`filter()` constructs an iterator from elements of an iterable for which a function returns `True`. It's useful for selecting items that meet certain criteria.\n",
    "\n",
    "#### Example:\n"
   ]
  },
  {
   "cell_type": "code",
   "execution_count": 19,
   "id": "25eb4314",
   "metadata": {
    "execution": {
     "iopub.execute_input": "2024-09-06T13:17:50.096987Z",
     "iopub.status.busy": "2024-09-06T13:17:50.095857Z",
     "iopub.status.idle": "2024-09-06T13:17:50.102897Z",
     "shell.execute_reply": "2024-09-06T13:17:50.101728Z"
    },
    "papermill": {
     "duration": 0.035227,
     "end_time": "2024-09-06T13:17:50.105971",
     "exception": false,
     "start_time": "2024-09-06T13:17:50.070744",
     "status": "completed"
    },
    "tags": []
   },
   "outputs": [
    {
     "name": "stdout",
     "output_type": "stream",
     "text": [
      "Students who passed: [72, 88, 67]\n"
     ]
    }
   ],
   "source": [
    "# Filtering out students who passed the exam\n",
    "grades = [55, 72, 88, 40, 67]\n",
    "passing_grade = 60\n",
    "\n",
    "passed_students = list(filter(lambda grade: grade >= passing_grade, grades))\n",
    "print(\"Students who passed:\", passed_students)\n"
   ]
  },
  {
   "cell_type": "markdown",
   "id": "f39ad79b",
   "metadata": {
    "papermill": {
     "duration": 0.023096,
     "end_time": "2024-09-06T13:17:50.152260",
     "exception": false,
     "start_time": "2024-09-06T13:17:50.129164",
     "status": "completed"
    },
    "tags": []
   },
   "source": [
    "### 8. `reduce()` - Reducing Data (from `functools`)\n",
    "\n",
    "`reduce()` applies a rolling computation to sequential pairs of values in a list. It's commonly used for aggregating data.\n",
    "\n",
    "#### Example:\n"
   ]
  },
  {
   "cell_type": "code",
   "execution_count": 20,
   "id": "fd8dcb2c",
   "metadata": {
    "execution": {
     "iopub.execute_input": "2024-09-06T13:17:50.200937Z",
     "iopub.status.busy": "2024-09-06T13:17:50.199868Z",
     "iopub.status.idle": "2024-09-06T13:17:50.206929Z",
     "shell.execute_reply": "2024-09-06T13:17:50.205610Z"
    },
    "papermill": {
     "duration": 0.034291,
     "end_time": "2024-09-06T13:17:50.209585",
     "exception": false,
     "start_time": "2024-09-06T13:17:50.175294",
     "status": "completed"
    },
    "tags": []
   },
   "outputs": [
    {
     "name": "stdout",
     "output_type": "stream",
     "text": [
      "Product of numbers: 120\n"
     ]
    }
   ],
   "source": [
    "from functools import reduce\n",
    "\n",
    "# Calculating the product of all numbers in a list\n",
    "numbers = [1, 2, 3, 4, 5]\n",
    "product = reduce(lambda x, y: x * y, numbers)\n",
    "print(\"Product of numbers:\", product)\n"
   ]
  },
  {
   "cell_type": "markdown",
   "id": "a929c6f9",
   "metadata": {
    "papermill": {
     "duration": 0.023005,
     "end_time": "2024-09-06T13:17:50.255942",
     "exception": false,
     "start_time": "2024-09-06T13:17:50.232937",
     "status": "completed"
    },
    "tags": []
   },
   "source": [
    "### 9. `all()` and `any()` - Checking Conditions\n",
    "\n",
    "- **`all()`** returns `True` if all elements of the iterable are true (or if the iterable is empty).\n",
    "- **`any()`** returns `True` if any element of the iterable is true. These functions are handy for validation checks.\n",
    "\n",
    "#### Example:\n"
   ]
  },
  {
   "cell_type": "code",
   "execution_count": 21,
   "id": "5de0845a",
   "metadata": {
    "execution": {
     "iopub.execute_input": "2024-09-06T13:17:50.303971Z",
     "iopub.status.busy": "2024-09-06T13:17:50.303410Z",
     "iopub.status.idle": "2024-09-06T13:17:50.310861Z",
     "shell.execute_reply": "2024-09-06T13:17:50.309613Z"
    },
    "papermill": {
     "duration": 0.034979,
     "end_time": "2024-09-06T13:17:50.313958",
     "exception": false,
     "start_time": "2024-09-06T13:17:50.278979",
     "status": "completed"
    },
    "tags": []
   },
   "outputs": [
    {
     "name": "stdout",
     "output_type": "stream",
     "text": [
      "Did all students pass? False\n",
      "Did any student score a perfect 100? False\n"
     ]
    }
   ],
   "source": [
    "# Checking if all students passed the exam\n",
    "grades = [55, 72, 88, 40, 67]\n",
    "\n",
    "print(\"Did all students pass?\", all(grade >= passing_grade for grade in grades))\n",
    "print(\"Did any student score a perfect 100?\", any(grade == 100 for grade in grades))\n"
   ]
  },
  {
   "cell_type": "markdown",
   "id": "f9785961",
   "metadata": {
    "papermill": {
     "duration": 0.023524,
     "end_time": "2024-09-06T13:17:50.360787",
     "exception": false,
     "start_time": "2024-09-06T13:17:50.337263",
     "status": "completed"
    },
    "tags": []
   },
   "source": [
    "## **Iterators and Generators**\n",
    "\n",
    "Iterators and generators provide a powerful way to handle large datasets and create custom iteration behavior. They enable you to process data efficiently by generating items one at a time."
   ]
  },
  {
   "cell_type": "markdown",
   "id": "d048d153",
   "metadata": {
    "papermill": {
     "duration": 0.023286,
     "end_time": "2024-09-06T13:17:50.407856",
     "exception": false,
     "start_time": "2024-09-06T13:17:50.384570",
     "status": "completed"
    },
    "tags": []
   },
   "source": [
    "### 1. `iter()` and `next()` - Manual Iteration\n",
    "\n",
    "- **`iter()`** converts an iterable into an iterator.\n",
    "- **`next()`** retrieves the next item from an iterator, and can also specify a default value to return if the iterator is exhausted.\n",
    "\n",
    "#### Example:\n"
   ]
  },
  {
   "cell_type": "code",
   "execution_count": 22,
   "id": "f9813e97",
   "metadata": {
    "execution": {
     "iopub.execute_input": "2024-09-06T13:17:50.458632Z",
     "iopub.status.busy": "2024-09-06T13:17:50.458200Z",
     "iopub.status.idle": "2024-09-06T13:17:50.465264Z",
     "shell.execute_reply": "2024-09-06T13:17:50.464119Z"
    },
    "papermill": {
     "duration": 0.036401,
     "end_time": "2024-09-06T13:17:50.467861",
     "exception": false,
     "start_time": "2024-09-06T13:17:50.431460",
     "status": "completed"
    },
    "tags": []
   },
   "outputs": [
    {
     "name": "stdout",
     "output_type": "stream",
     "text": [
      "Next task: clean\n",
      "Next task: cook\n",
      "Next task: code\n"
     ]
    }
   ],
   "source": [
    "# Manually iterating over a list of tasks\n",
    "tasks = [\"clean\", \"cook\", \"code\"]\n",
    "task_iter = iter(tasks)\n",
    "\n",
    "print(\"Next task:\", next(task_iter))\n",
    "print(\"Next task:\", next(task_iter))\n",
    "print(\"Next task:\", next(task_iter))\n"
   ]
  },
  {
   "cell_type": "markdown",
   "id": "8ed3eecc",
   "metadata": {
    "papermill": {
     "duration": 0.023394,
     "end_time": "2024-09-06T13:17:50.514450",
     "exception": false,
     "start_time": "2024-09-06T13:17:50.491056",
     "status": "completed"
    },
    "tags": []
   },
   "source": [
    "### 2. `yield` - Creating Generators\n",
    "\n",
    "`yield` is used in a function to create a generator. Generators allow you to iterate over a sequence of values, producing them one at a time and only when required.\n",
    "\n",
    "#### Example:\n"
   ]
  },
  {
   "cell_type": "code",
   "execution_count": 23,
   "id": "486969e4",
   "metadata": {
    "execution": {
     "iopub.execute_input": "2024-09-06T13:17:50.563287Z",
     "iopub.status.busy": "2024-09-06T13:17:50.562845Z",
     "iopub.status.idle": "2024-09-06T13:17:50.569917Z",
     "shell.execute_reply": "2024-09-06T13:17:50.568737Z"
    },
    "papermill": {
     "duration": 0.035533,
     "end_time": "2024-09-06T13:17:50.573249",
     "exception": false,
     "start_time": "2024-09-06T13:17:50.537716",
     "status": "completed"
    },
    "tags": []
   },
   "outputs": [
    {
     "name": "stdout",
     "output_type": "stream",
     "text": [
      "Even number: 0\n",
      "Even number: 2\n",
      "Even number: 4\n",
      "Even number: 6\n",
      "Even number: 8\n",
      "Even number: 10\n"
     ]
    }
   ],
   "source": [
    "# Generator to yield even numbers up to a limit\n",
    "def even_numbers(limit):\n",
    "    num = 0\n",
    "    while num <= limit:\n",
    "        yield num\n",
    "        num += 2\n",
    "\n",
    "for even in even_numbers(10):\n",
    "    print(\"Even number:\", even)\n"
   ]
  },
  {
   "cell_type": "markdown",
   "id": "01ac90de",
   "metadata": {
    "papermill": {
     "duration": 0.023206,
     "end_time": "2024-09-06T13:17:50.620056",
     "exception": false,
     "start_time": "2024-09-06T13:17:50.596850",
     "status": "completed"
    },
    "tags": []
   },
   "source": [
    "## **Type Conversion**\n",
    "\n",
    "These functions allow you to convert data from one type to another. This is crucial for tasks like handling user input, formatting output, or performing calculations."
   ]
  },
  {
   "cell_type": "markdown",
   "id": "66569d7a",
   "metadata": {
    "papermill": {
     "duration": 0.02315,
     "end_time": "2024-09-06T13:17:50.666523",
     "exception": false,
     "start_time": "2024-09-06T13:17:50.643373",
     "status": "completed"
    },
    "tags": []
   },
   "source": [
    "### 1. `int()` and `float()` - Converting to Numbers\n",
    "\n",
    "- **`int()`** converts a number or string to an integer.\n",
    "- **`float()`** converts a number or string to a floating-point number.\n",
    "\n",
    "#### Example:\n"
   ]
  },
  {
   "cell_type": "code",
   "execution_count": 24,
   "id": "9d6f9be5",
   "metadata": {
    "execution": {
     "iopub.execute_input": "2024-09-06T13:17:50.715441Z",
     "iopub.status.busy": "2024-09-06T13:17:50.715015Z",
     "iopub.status.idle": "2024-09-06T13:17:50.721742Z",
     "shell.execute_reply": "2024-09-06T13:17:50.720512Z"
    },
    "papermill": {
     "duration": 0.034337,
     "end_time": "2024-09-06T13:17:50.724534",
     "exception": false,
     "start_time": "2024-09-06T13:17:50.690197",
     "status": "completed"
    },
    "tags": []
   },
   "outputs": [
    {
     "name": "stdout",
     "output_type": "stream",
     "text": [
      "As float: 3.14\n",
      "As integer: 3\n"
     ]
    }
   ],
   "source": [
    "# Converting a string input to numbers\n",
    "input_str = \"3.14\"\n",
    "converted_float = float(input_str)\n",
    "converted_int = int(float(input_str))  # Converting via float for decimal strings\n",
    "\n",
    "print(\"As float:\", converted_float)\n",
    "print(\"As integer:\", converted_int)\n"
   ]
  },
  {
   "cell_type": "markdown",
   "id": "678f5bce",
   "metadata": {
    "papermill": {
     "duration": 0.023499,
     "end_time": "2024-09-06T13:17:50.771962",
     "exception": false,
     "start_time": "2024-09-06T13:17:50.748463",
     "status": "completed"
    },
    "tags": []
   },
   "source": [
    "### 2. `str()` - Converting to String\n",
    "\n",
    "`str()` converts an object to its string representation, which is essential for output formatting.\n",
    "\n",
    "#### Example:\n"
   ]
  },
  {
   "cell_type": "code",
   "execution_count": 25,
   "id": "aea8da95",
   "metadata": {
    "execution": {
     "iopub.execute_input": "2024-09-06T13:17:50.821976Z",
     "iopub.status.busy": "2024-09-06T13:17:50.820946Z",
     "iopub.status.idle": "2024-09-06T13:17:50.827261Z",
     "shell.execute_reply": "2024-09-06T13:17:50.826201Z"
    },
    "papermill": {
     "duration": 0.034531,
     "end_time": "2024-09-06T13:17:50.830410",
     "exception": false,
     "start_time": "2024-09-06T13:17:50.795879",
     "status": "completed"
    },
    "tags": []
   },
   "outputs": [
    {
     "name": "stdout",
     "output_type": "stream",
     "text": [
      "The current temperature is 23.5 degrees.\n"
     ]
    }
   ],
   "source": [
    "# Formatting a message for the user\n",
    "temperature = 23.5\n",
    "message = \"The current temperature is \" + str(temperature) + \" degrees.\"\n",
    "print(message)\n"
   ]
  },
  {
   "cell_type": "markdown",
   "id": "4890186a",
   "metadata": {
    "papermill": {
     "duration": 0.023688,
     "end_time": "2024-09-06T13:17:50.878474",
     "exception": false,
     "start_time": "2024-09-06T13:17:50.854786",
     "status": "completed"
    },
    "tags": []
   },
   "source": [
    "### 3. `bool()` - Converting to Boolean\n",
    "\n",
    "`bool()` converts a value to a Boolean (`True` or `False`). This is useful when you need to check conditions or validate data.\n",
    "\n",
    "#### Example:\n"
   ]
  },
  {
   "cell_type": "code",
   "execution_count": 26,
   "id": "67a97144",
   "metadata": {
    "execution": {
     "iopub.execute_input": "2024-09-06T13:17:50.928568Z",
     "iopub.status.busy": "2024-09-06T13:17:50.928165Z",
     "iopub.status.idle": "2024-09-06T13:17:50.934316Z",
     "shell.execute_reply": "2024-09-06T13:17:50.933160Z"
    },
    "papermill": {
     "duration": 0.033848,
     "end_time": "2024-09-06T13:17:50.936976",
     "exception": false,
     "start_time": "2024-09-06T13:17:50.903128",
     "status": "completed"
    },
    "tags": []
   },
   "outputs": [
    {
     "name": "stdout",
     "output_type": "stream",
     "text": [
      "Is the list empty? False\n"
     ]
    }
   ],
   "source": [
    "# Checking if a list of items is empty\n",
    "items = []\n",
    "print(\"Is the list empty?\", bool(items))\n"
   ]
  },
  {
   "cell_type": "markdown",
   "id": "66659141",
   "metadata": {
    "papermill": {
     "duration": 0.023265,
     "end_time": "2024-09-06T13:17:50.983860",
     "exception": false,
     "start_time": "2024-09-06T13:17:50.960595",
     "status": "completed"
    },
    "tags": []
   },
   "source": [
    "### 4. `bin()`, `hex()`, and `oct()` - Base Conversion\n",
    "\n",
    "- **`bin()`** converts an integer to a binary string.\n",
    "- **`hex()`** converts an integer to a hexadecimal string.\n",
    "- **`oct()`** converts an integer to an octal string.\n",
    "\n",
    "#### Example:\n"
   ]
  },
  {
   "cell_type": "code",
   "execution_count": 27,
   "id": "a91275d9",
   "metadata": {
    "execution": {
     "iopub.execute_input": "2024-09-06T13:17:51.034228Z",
     "iopub.status.busy": "2024-09-06T13:17:51.033246Z",
     "iopub.status.idle": "2024-09-06T13:17:51.040910Z",
     "shell.execute_reply": "2024-09-06T13:17:51.039475Z"
    },
    "papermill": {
     "duration": 0.035913,
     "end_time": "2024-09-06T13:17:51.043771",
     "exception": false,
     "start_time": "2024-09-06T13:17:51.007858",
     "status": "completed"
    },
    "tags": []
   },
   "outputs": [
    {
     "name": "stdout",
     "output_type": "stream",
     "text": [
      "Binary: 0b11111111\n",
      "Hexadecimal: 0xff\n",
      "Octal: 0o377\n"
     ]
    }
   ],
   "source": [
    "# Displaying a number in different bases\n",
    "number = 255\n",
    "print(\"Binary:\", bin(number))\n",
    "print(\"Hexadecimal:\", hex(number))\n",
    "print(\"Octal:\", oct(number))\n"
   ]
  },
  {
   "cell_type": "markdown",
   "id": "5f2a4efe",
   "metadata": {
    "papermill": {
     "duration": 0.024973,
     "end_time": "2024-09-06T13:17:51.093428",
     "exception": false,
     "start_time": "2024-09-06T13:17:51.068455",
     "status": "completed"
    },
    "tags": []
   },
   "source": [
    "### 5. `chr()` and `ord()` - Character and Unicode Conversion\n",
    "\n",
    "- **`chr()`** converts an integer to its corresponding Unicode character.\n",
    "- **`ord()`** converts a character to its corresponding Unicode code point.\n",
    "\n",
    "#### Example:\n"
   ]
  },
  {
   "cell_type": "code",
   "execution_count": 28,
   "id": "142da955",
   "metadata": {
    "execution": {
     "iopub.execute_input": "2024-09-06T13:17:51.143112Z",
     "iopub.status.busy": "2024-09-06T13:17:51.142666Z",
     "iopub.status.idle": "2024-09-06T13:17:51.149989Z",
     "shell.execute_reply": "2024-09-06T13:17:51.148662Z"
    },
    "papermill": {
     "duration": 0.035554,
     "end_time": "2024-09-06T13:17:51.152873",
     "exception": false,
     "start_time": "2024-09-06T13:17:51.117319",
     "status": "completed"
    },
    "tags": []
   },
   "outputs": [
    {
     "name": "stdout",
     "output_type": "stream",
     "text": [
      "Encrypted message: KHOOR\n"
     ]
    }
   ],
   "source": [
    "# Encrypting a message using basic character shifts\n",
    "message = \"HELLO\"\n",
    "encrypted_message = \"\".join([chr(ord(char) + 3) for char in message])\n",
    "print(\"Encrypted message:\", encrypted_message)\n"
   ]
  },
  {
   "cell_type": "markdown",
   "id": "f8289e53",
   "metadata": {
    "papermill": {
     "duration": 0.02375,
     "end_time": "2024-09-06T13:17:51.201739",
     "exception": false,
     "start_time": "2024-09-06T13:17:51.177989",
     "status": "completed"
    },
    "tags": []
   },
   "source": [
    "## **File I/O**\n",
    "\n",
    "Reading from and writing to files is a common task in Python. These built-in functions allow you to handle file operations efficiently.\n"
   ]
  },
  {
   "cell_type": "markdown",
   "id": "aca54951",
   "metadata": {
    "papermill": {
     "duration": 0.026087,
     "end_time": "2024-09-06T13:17:51.253619",
     "exception": false,
     "start_time": "2024-09-06T13:17:51.227532",
     "status": "completed"
    },
    "tags": []
   },
   "source": [
    "### 1. `open()` - Opening Files\n",
    "\n",
    "The `open()` function is used to open a file in a specified mode (read, write, append, etc.). It returns a file object, which provides methods to read from or write to the file.\n",
    "\n",
    "#### Example:\n"
   ]
  },
  {
   "cell_type": "code",
   "execution_count": 29,
   "id": "2594bceb",
   "metadata": {
    "execution": {
     "iopub.execute_input": "2024-09-06T13:17:51.306244Z",
     "iopub.status.busy": "2024-09-06T13:17:51.305821Z",
     "iopub.status.idle": "2024-09-06T13:17:51.314018Z",
     "shell.execute_reply": "2024-09-06T13:17:51.312940Z"
    },
    "papermill": {
     "duration": 0.036233,
     "end_time": "2024-09-06T13:17:51.316501",
     "exception": false,
     "start_time": "2024-09-06T13:17:51.280268",
     "status": "completed"
    },
    "tags": []
   },
   "outputs": [
    {
     "name": "stdout",
     "output_type": "stream",
     "text": [
      "File content:\n",
      " Hello, world!\n",
      "This is a test file.\n"
     ]
    }
   ],
   "source": [
    "# Writing to a text file\n",
    "with open('example.txt', 'w') as file:\n",
    "    file.write(\"Hello, world!\\n\")\n",
    "    file.write(\"This is a test file.\")\n",
    "\n",
    "# Reading from a text file\n",
    "with open('example.txt', 'r') as file:\n",
    "    content = file.read()\n",
    "    print(\"File content:\\n\", content)\n"
   ]
  },
  {
   "cell_type": "markdown",
   "id": "89fdc1ab",
   "metadata": {
    "papermill": {
     "duration": 0.024251,
     "end_time": "2024-09-06T13:17:51.365345",
     "exception": false,
     "start_time": "2024-09-06T13:17:51.341094",
     "status": "completed"
    },
    "tags": []
   },
   "source": [
    "### 2. `os` and `shutil` Modules - File Operations\n",
    "\n",
    "Beyond basic file reading and writing, Python's `os` and `shutil` modules provide more advanced file operations, such as copying, moving, and deleting files.\n",
    "\n",
    "#### Example:\n"
   ]
  },
  {
   "cell_type": "code",
   "execution_count": 30,
   "id": "44999a71",
   "metadata": {
    "execution": {
     "iopub.execute_input": "2024-09-06T13:17:51.418077Z",
     "iopub.status.busy": "2024-09-06T13:17:51.417437Z",
     "iopub.status.idle": "2024-09-06T13:17:51.428219Z",
     "shell.execute_reply": "2024-09-06T13:17:51.426840Z"
    },
    "papermill": {
     "duration": 0.042141,
     "end_time": "2024-09-06T13:17:51.431360",
     "exception": false,
     "start_time": "2024-09-06T13:17:51.389219",
     "status": "completed"
    },
    "tags": []
   },
   "outputs": [
    {
     "name": "stdout",
     "output_type": "stream",
     "text": [
      "Does the file exist? True\n",
      "File deleted.\n"
     ]
    }
   ],
   "source": [
    "import os\n",
    "import shutil\n",
    "\n",
    "# Copying a file\n",
    "shutil.copy('example.txt', 'example_copy.txt')\n",
    "\n",
    "# Renaming a file\n",
    "os.rename('example_copy.txt', 'renamed_example.txt')\n",
    "\n",
    "# Checking if the file exists\n",
    "print(\"Does the file exist?\", os.path.exists('renamed_example.txt'))\n",
    "\n",
    "# Deleting the file\n",
    "os.remove('renamed_example.txt')\n",
    "print(\"File deleted.\")\n"
   ]
  },
  {
   "cell_type": "markdown",
   "id": "b7b8e690",
   "metadata": {
    "papermill": {
     "duration": 0.030012,
     "end_time": "2024-09-06T13:17:51.494252",
     "exception": false,
     "start_time": "2024-09-06T13:17:51.464240",
     "status": "completed"
    },
    "tags": []
   },
   "source": [
    "## **Advanced Operations**\n",
    "\n",
    "Python also offers some advanced built-in functions that allow you to execute code dynamically, evaluate expressions, and work with more complex data structures."
   ]
  },
  {
   "cell_type": "markdown",
   "id": "ff169585",
   "metadata": {
    "papermill": {
     "duration": 0.023874,
     "end_time": "2024-09-06T13:17:51.542357",
     "exception": false,
     "start_time": "2024-09-06T13:17:51.518483",
     "status": "completed"
    },
    "tags": []
   },
   "source": [
    "### 1. `eval()` and `exec()` - Dynamic Code Execution\n",
    "\n",
    "- **`eval()`** evaluates a string as a Python expression and returns the result.\n",
    "- **`exec()`** executes dynamic Python code but does not return a value.\n",
    "\n",
    "#### Example:\n"
   ]
  },
  {
   "cell_type": "code",
   "execution_count": 31,
   "id": "e5c4d5e8",
   "metadata": {
    "execution": {
     "iopub.execute_input": "2024-09-06T13:17:51.602663Z",
     "iopub.status.busy": "2024-09-06T13:17:51.601519Z",
     "iopub.status.idle": "2024-09-06T13:17:51.614592Z",
     "shell.execute_reply": "2024-09-06T13:17:51.612949Z"
    },
    "papermill": {
     "duration": 0.045758,
     "end_time": "2024-09-06T13:17:51.619076",
     "exception": false,
     "start_time": "2024-09-06T13:17:51.573318",
     "status": "completed"
    },
    "tags": []
   },
   "outputs": [
    {
     "name": "stdout",
     "output_type": "stream",
     "text": [
      "Result of eval: 8\n",
      "Iteration 0\n",
      "Iteration 1\n",
      "Iteration 2\n"
     ]
    }
   ],
   "source": [
    "# Evaluating a mathematical expression from a string\n",
    "expression = \"2 + 2 * 3\"\n",
    "result = eval(expression)\n",
    "print(\"Result of eval:\", result)\n",
    "\n",
    "# Executing a code block from a string\n",
    "code_block = \"\"\"\n",
    "for i in range(3):\n",
    "    print(\"Iteration\", i)\n",
    "\"\"\"\n",
    "exec(code_block)\n"
   ]
  },
  {
   "cell_type": "markdown",
   "id": "5b7e4cbb",
   "metadata": {
    "papermill": {
     "duration": 0.033464,
     "end_time": "2024-09-06T13:17:51.684256",
     "exception": false,
     "start_time": "2024-09-06T13:17:51.650792",
     "status": "completed"
    },
    "tags": []
   },
   "source": [
    "### 2. `locals()` and `globals()` - Accessing Local and Global Variables\n",
    "\n",
    "- **`locals()`** returns a dictionary representing the current local symbol table.\n",
    "- **`globals()`** returns a dictionary representing the global symbol table.\n",
    "\n",
    "#### Example:\n"
   ]
  },
  {
   "cell_type": "code",
   "execution_count": 32,
   "id": "424e8a23",
   "metadata": {
    "execution": {
     "iopub.execute_input": "2024-09-06T13:17:51.747803Z",
     "iopub.status.busy": "2024-09-06T13:17:51.746447Z",
     "iopub.status.idle": "2024-09-06T13:17:51.753806Z",
     "shell.execute_reply": "2024-09-06T13:17:51.752484Z"
    },
    "papermill": {
     "duration": 0.040843,
     "end_time": "2024-09-06T13:17:51.757730",
     "exception": false,
     "start_time": "2024-09-06T13:17:51.716887",
     "status": "completed"
    },
    "tags": []
   },
   "outputs": [
    {
     "name": "stdout",
     "output_type": "stream",
     "text": [
      "Local variables: {'y': 5}\n",
      "Global variables: dict_keys(['__name__', '__doc__', '__package__', '__loader__', '__spec__', '__builtin__', '__builtins__', '_ih', '_oh', '_dh', 'In', 'Out', 'get_ipython', 'exit', 'quit', 'open', '_', '__', '___', '_i', '_ii', '_iii', '_i1', '_i2', '_i3', 'example_var', '_i4', 'example_function', '_i5', 'Animal', 'Dog', '_i6', 'temperature_morning', 'temperature_noon', '_i7', 'tax_amount', '_i8', 'initial_population', 'growth_factor', 'years', '_i9', 'stock_prices', '_i10', 'item_prices', '_i11', 'total_minutes', 'hours', 'minutes', '_i12', 'wave_amplitude', 'wave_phase', 'complex_wave', '_i13', 'reading_list', '_i14', 'student_grades', 'sorted_grades', '_i15', 'actions', '_i16', 'groceries', 'index', 'item', '_i17', 'friends', 'colors', '_i18', 'prices', 'discount', 'discounted_prices', '_i19', 'grades', 'passing_grade', 'passed_students', '_i20', 'reduce', 'numbers', 'product', '_i21', '_i22', 'tasks', 'task_iter', '_i23', 'even_numbers', 'even', '_i24', 'input_str', 'converted_float', 'converted_int', '_i25', 'temperature', 'message', '_i26', 'items', '_i27', 'number', '_i28', 'encrypted_message', '_i29', 'file', 'content', '_i30', 'os', 'shutil', '_i31', 'expression', 'result', 'code_block', 'i', '_i32', 'x'])\n"
     ]
    }
   ],
   "source": [
    "# Accessing local and global variables\n",
    "x = 10\n",
    "\n",
    "def example_function():\n",
    "    y = 5\n",
    "    print(\"Local variables:\", locals())\n",
    "\n",
    "example_function()\n",
    "print(\"Global variables:\", globals().keys())\n"
   ]
  },
  {
   "cell_type": "markdown",
   "id": "4a697a89",
   "metadata": {
    "papermill": {
     "duration": 0.025025,
     "end_time": "2024-09-06T13:17:51.810232",
     "exception": false,
     "start_time": "2024-09-06T13:17:51.785207",
     "status": "completed"
    },
    "tags": []
   },
   "source": [
    "## **Practice Exercises**\n",
    "\n",
    "Now that you've explored the built-in functions, it's time to put your knowledge to the test with some fun and challenging exercises. These tasks will help solidify your understanding and give you practical experience.\n"
   ]
  },
  {
   "cell_type": "markdown",
   "id": "0ab19ad5",
   "metadata": {
    "papermill": {
     "duration": 0.023987,
     "end_time": "2024-09-06T13:17:51.861074",
     "exception": false,
     "start_time": "2024-09-06T13:17:51.837087",
     "status": "completed"
    },
    "tags": []
   },
   "source": [
    "### Exercise 1: Sum of Digits (Easy)\n",
    "Write a function that takes a number as input and returns the sum of its digits.\n"
   ]
  },
  {
   "cell_type": "code",
   "execution_count": 33,
   "id": "27acc05b",
   "metadata": {
    "execution": {
     "iopub.execute_input": "2024-09-06T13:17:51.911668Z",
     "iopub.status.busy": "2024-09-06T13:17:51.911202Z",
     "iopub.status.idle": "2024-09-06T13:17:51.918081Z",
     "shell.execute_reply": "2024-09-06T13:17:51.916942Z"
    },
    "papermill": {
     "duration": 0.035194,
     "end_time": "2024-09-06T13:17:51.920586",
     "exception": false,
     "start_time": "2024-09-06T13:17:51.885392",
     "status": "completed"
    },
    "tags": []
   },
   "outputs": [
    {
     "name": "stdout",
     "output_type": "stream",
     "text": [
      "Sum of digits of 12345: 15\n"
     ]
    }
   ],
   "source": [
    "def sum_of_digits(number):\n",
    "    return sum(int(digit) for digit in str(number))\n",
    "\n",
    "# Test the function\n",
    "print(\"Sum of digits of 12345:\", sum_of_digits(12345))  # Output: 15\n"
   ]
  },
  {
   "cell_type": "markdown",
   "id": "254177da",
   "metadata": {
    "papermill": {
     "duration": 0.024255,
     "end_time": "2024-09-06T13:17:51.969533",
     "exception": false,
     "start_time": "2024-09-06T13:17:51.945278",
     "status": "completed"
    },
    "tags": []
   },
   "source": [
    "### Exercise 2: Filter Even Numbers (Medium)\n",
    "Given a list of integers, filter out the even numbers and return the result.\n"
   ]
  },
  {
   "cell_type": "code",
   "execution_count": 34,
   "id": "8d18eeeb",
   "metadata": {
    "execution": {
     "iopub.execute_input": "2024-09-06T13:17:52.020718Z",
     "iopub.status.busy": "2024-09-06T13:17:52.020278Z",
     "iopub.status.idle": "2024-09-06T13:17:52.027521Z",
     "shell.execute_reply": "2024-09-06T13:17:52.026230Z"
    },
    "papermill": {
     "duration": 0.036484,
     "end_time": "2024-09-06T13:17:52.030611",
     "exception": false,
     "start_time": "2024-09-06T13:17:51.994127",
     "status": "completed"
    },
    "tags": []
   },
   "outputs": [
    {
     "name": "stdout",
     "output_type": "stream",
     "text": [
      "Even numbers: [2, 4, 6]\n"
     ]
    }
   ],
   "source": [
    "def filter_even_numbers(numbers):\n",
    "    return list(filter(lambda x: x % 2 == 0, numbers))\n",
    "\n",
    "# Test the function\n",
    "print(\"Even numbers:\", filter_even_numbers([1, 2, 3, 4, 5, 6]))  # Output: [2, 4, 6]\n"
   ]
  },
  {
   "cell_type": "markdown",
   "id": "e0382cd5",
   "metadata": {
    "papermill": {
     "duration": 0.024237,
     "end_time": "2024-09-06T13:17:52.079676",
     "exception": false,
     "start_time": "2024-09-06T13:17:52.055439",
     "status": "completed"
    },
    "tags": []
   },
   "source": [
    "### Exercise 3: Find the Longest Word (Medium)\n",
    "Given a sentence, find and return the longest word.\n"
   ]
  },
  {
   "cell_type": "code",
   "execution_count": 35,
   "id": "4599fd42",
   "metadata": {
    "execution": {
     "iopub.execute_input": "2024-09-06T13:17:52.131179Z",
     "iopub.status.busy": "2024-09-06T13:17:52.130749Z",
     "iopub.status.idle": "2024-09-06T13:17:52.137583Z",
     "shell.execute_reply": "2024-09-06T13:17:52.136338Z"
    },
    "papermill": {
     "duration": 0.036421,
     "end_time": "2024-09-06T13:17:52.140723",
     "exception": false,
     "start_time": "2024-09-06T13:17:52.104302",
     "status": "completed"
    },
    "tags": []
   },
   "outputs": [
    {
     "name": "stdout",
     "output_type": "stream",
     "text": [
      "Longest word: programming\n"
     ]
    }
   ],
   "source": [
    "def find_longest_word(sentence):\n",
    "    words = sentence.split()\n",
    "    return max(words, key=len)\n",
    "\n",
    "# Test the function\n",
    "print(\"Longest word:\", find_longest_word(\"Python programming is both fun and educational\"))  # Output: \"programming\"\n"
   ]
  },
  {
   "cell_type": "markdown",
   "id": "71aa1a97",
   "metadata": {
    "papermill": {
     "duration": 0.024621,
     "end_time": "2024-09-06T13:17:52.189999",
     "exception": false,
     "start_time": "2024-09-06T13:17:52.165378",
     "status": "completed"
    },
    "tags": []
   },
   "source": [
    "### Exercise 4: Matrix Transpose (Hard)\n",
    "Write a function that takes a 2D matrix (list of lists) and returns its transpose.\n"
   ]
  },
  {
   "cell_type": "code",
   "execution_count": 36,
   "id": "1b469932",
   "metadata": {
    "execution": {
     "iopub.execute_input": "2024-09-06T13:17:52.241567Z",
     "iopub.status.busy": "2024-09-06T13:17:52.241094Z",
     "iopub.status.idle": "2024-09-06T13:17:52.249021Z",
     "shell.execute_reply": "2024-09-06T13:17:52.247728Z"
    },
    "papermill": {
     "duration": 0.036768,
     "end_time": "2024-09-06T13:17:52.251474",
     "exception": false,
     "start_time": "2024-09-06T13:17:52.214706",
     "status": "completed"
    },
    "tags": []
   },
   "outputs": [
    {
     "name": "stdout",
     "output_type": "stream",
     "text": [
      "Transposed matrix: [[1, 4, 7], [2, 5, 8], [3, 6, 9]]\n"
     ]
    }
   ],
   "source": [
    "def transpose_matrix(matrix):\n",
    "    return [list(row) for row in zip(*matrix)]\n",
    "\n",
    "# Test the function\n",
    "matrix = [\n",
    "    [1, 2, 3],\n",
    "    [4, 5, 6],\n",
    "    [7, 8, 9]\n",
    "]\n",
    "print(\"Transposed matrix:\", transpose_matrix(matrix))\n"
   ]
  },
  {
   "cell_type": "markdown",
   "id": "c18f8f46",
   "metadata": {
    "papermill": {
     "duration": 0.024498,
     "end_time": "2024-09-06T13:17:52.300786",
     "exception": false,
     "start_time": "2024-09-06T13:17:52.276288",
     "status": "completed"
    },
    "tags": []
   },
   "source": [
    "### Exercise 5: Caesar Cipher (Very Hard)\n",
    "Implement a Caesar cipher encryption. The function should take a string and a shift value and return the encrypted string.\n"
   ]
  },
  {
   "cell_type": "code",
   "execution_count": 37,
   "id": "33874c98",
   "metadata": {
    "execution": {
     "iopub.execute_input": "2024-09-06T13:17:52.352780Z",
     "iopub.status.busy": "2024-09-06T13:17:52.352327Z",
     "iopub.status.idle": "2024-09-06T13:17:52.360875Z",
     "shell.execute_reply": "2024-09-06T13:17:52.359531Z"
    },
    "papermill": {
     "duration": 0.038237,
     "end_time": "2024-09-06T13:17:52.364121",
     "exception": false,
     "start_time": "2024-09-06T13:17:52.325884",
     "status": "completed"
    },
    "tags": []
   },
   "outputs": [
    {
     "name": "stdout",
     "output_type": "stream",
     "text": [
      "Encrypted message: Khoor, Zruog!\n"
     ]
    }
   ],
   "source": [
    "def caesar_cipher(text, shift):\n",
    "    def shift_char(c):\n",
    "        if c.isalpha():\n",
    "            start = ord('A') if c.isupper() else ord('a')\n",
    "            return chr((ord(c) - start + shift) % 26 + start)\n",
    "        return c\n",
    "\n",
    "    return ''.join(shift_char(c) for c in text)\n",
    "\n",
    "# Test the function\n",
    "encrypted = caesar_cipher(\"Hello, World!\", 3)\n",
    "print(\"Encrypted message:\", encrypted)  # Output: \"Khoor, Zruog!\"\n"
   ]
  },
  {
   "cell_type": "markdown",
   "id": "f906a856",
   "metadata": {
    "papermill": {
     "duration": 0.024787,
     "end_time": "2024-09-06T13:17:52.413736",
     "exception": false,
     "start_time": "2024-09-06T13:17:52.388949",
     "status": "completed"
    },
    "tags": []
   },
   "source": [
    "## 🎉 **Conclusion**\n",
    "\n",
    "Congratulations on completing this in-depth journey through Python's built-in functions!\n",
    "\n",
    "Keep practicing and exploring, and remember that the best way to master these functions is to use them in real projects. Happy coding!\n"
   ]
  }
 ],
 "metadata": {
  "kaggle": {
   "accelerator": "none",
   "dataSources": [],
   "dockerImageVersionId": 30761,
   "isGpuEnabled": false,
   "isInternetEnabled": true,
   "language": "python",
   "sourceType": "notebook"
  },
  "kernelspec": {
   "display_name": "Python 3",
   "language": "python",
   "name": "python3"
  },
  "language_info": {
   "codemirror_mode": {
    "name": "ipython",
    "version": 3
   },
   "file_extension": ".py",
   "mimetype": "text/x-python",
   "name": "python",
   "nbconvert_exporter": "python",
   "pygments_lexer": "ipython3",
   "version": "3.10.14"
  },
  "papermill": {
   "default_parameters": {},
   "duration": 8.331687,
   "end_time": "2024-09-06T13:17:52.860428",
   "environment_variables": {},
   "exception": null,
   "input_path": "__notebook__.ipynb",
   "output_path": "__notebook__.ipynb",
   "parameters": {},
   "start_time": "2024-09-06T13:17:44.528741",
   "version": "2.6.0"
  }
 },
 "nbformat": 4,
 "nbformat_minor": 5
}
