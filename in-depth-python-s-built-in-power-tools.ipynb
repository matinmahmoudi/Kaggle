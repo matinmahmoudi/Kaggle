{
 "cells": [
  {
   "cell_type": "markdown",
   "id": "5e3bd24b",
   "metadata": {
    "papermill": {
     "duration": 0.022061,
     "end_time": "2024-09-02T07:56:19.691690",
     "exception": false,
     "start_time": "2024-09-02T07:56:19.669629",
     "status": "completed"
    },
    "tags": []
   },
   "source": [
    "# 🌱 🛠️ **In Depth: Python's Built-in Power Tools**\n",
    "\n",
    "Welcome to the ultimate guide on Python's built-in functions. These functions are the backbone of Python programming, providing the essential tools needed for everything from simple scripts to complex applications. In this notebook, we'll explore an extensive list of these functions, diving deep into their use cases, nuances, and potential pitfalls.\n",
    "\n",
    "## What You'll Learn\n",
    "\n",
    "- **Information Retrieval**: Functions to explore and understand data types, objects, and code.\n",
    "- **Mathematical Operations**: Functions that handle everything from basic arithmetic to complex calculations.\n",
    "- **Data Manipulation**: Tools for sorting, filtering, and organizing your data.\n",
    "- **Iterators and Generators**: Mastering Python's powerful iteration mechanisms.\n",
    "- **Type Conversion**: Techniques for converting data between different formats.\n",
    "- **File I/O**: How to efficiently read from and write to files.\n",
    "- **Advanced Operations**: Exploring some of Python's more specialized built-in functions.\n",
    "- **Practice Exercises**: Challenging tasks to test and hone your skills.\n"
   ]
  },
  {
   "cell_type": "markdown",
   "id": "42447c76",
   "metadata": {
    "papermill": {
     "duration": 0.021209,
     "end_time": "2024-09-02T07:56:19.734193",
     "exception": false,
     "start_time": "2024-09-02T07:56:19.712984",
     "status": "completed"
    },
    "tags": []
   },
   "source": [
    "## 🔍 **Information Retrieval Functions**\n",
    "\n",
    "Understanding the objects and data you're working with is crucial in Python. These functions allow you to introspect and gather information, helping you debug, explore, and document your code effectively.\n",
    "\n",
    "### 1. `help()` - Your Personal Python Guide\n",
    "\n",
    "`help()` provides a quick reference to Python documentation. Use it whenever you're unsure about a function, class, or module.\n",
    "\n",
    "#### Example:\n"
   ]
  },
  {
   "cell_type": "code",
   "execution_count": 1,
   "id": "fc48d9da",
   "metadata": {
    "execution": {
     "iopub.execute_input": "2024-09-02T07:56:19.781217Z",
     "iopub.status.busy": "2024-09-02T07:56:19.780734Z",
     "iopub.status.idle": "2024-09-02T07:56:19.796664Z",
     "shell.execute_reply": "2024-09-02T07:56:19.795227Z"
    },
    "papermill": {
     "duration": 0.041564,
     "end_time": "2024-09-02T07:56:19.799451",
     "exception": false,
     "start_time": "2024-09-02T07:56:19.757887",
     "status": "completed"
    },
    "tags": []
   },
   "outputs": [
    {
     "name": "stdout",
     "output_type": "stream",
     "text": [
      "Help on class map in module builtins:\n",
      "\n",
      "class map(object)\n",
      " |  map(func, *iterables) --> map object\n",
      " |  \n",
      " |  Make an iterator that computes the function using arguments from\n",
      " |  each of the iterables.  Stops when the shortest iterable is exhausted.\n",
      " |  \n",
      " |  Methods defined here:\n",
      " |  \n",
      " |  __getattribute__(self, name, /)\n",
      " |      Return getattr(self, name).\n",
      " |  \n",
      " |  __iter__(self, /)\n",
      " |      Implement iter(self).\n",
      " |  \n",
      " |  __next__(self, /)\n",
      " |      Implement next(self).\n",
      " |  \n",
      " |  __reduce__(...)\n",
      " |      Return state information for pickling.\n",
      " |  \n",
      " |  ----------------------------------------------------------------------\n",
      " |  Static methods defined here:\n",
      " |  \n",
      " |  __new__(*args, **kwargs) from builtins.type\n",
      " |      Create and return a new object.  See help(type) for accurate signature.\n",
      "\n"
     ]
    }
   ],
   "source": [
    "# Using help to get documentation for the built-in map function\n",
    "help(map)"
   ]
  },
  {
   "cell_type": "markdown",
   "id": "ad63c882",
   "metadata": {
    "papermill": {
     "duration": 0.02192,
     "end_time": "2024-09-02T07:56:19.843003",
     "exception": false,
     "start_time": "2024-09-02T07:56:19.821083",
     "status": "completed"
    },
    "tags": []
   },
   "source": [
    "### 2. `dir()` - Exploring Object Attributes\n",
    "\n",
    "`dir()` lists the attributes and methods of any object. It's a great tool for discovering what operations can be performed on an object.\n",
    "\n",
    "#### Example:\n"
   ]
  },
  {
   "cell_type": "code",
   "execution_count": 2,
   "id": "43249dd5",
   "metadata": {
    "execution": {
     "iopub.execute_input": "2024-09-02T07:56:19.888224Z",
     "iopub.status.busy": "2024-09-02T07:56:19.887300Z",
     "iopub.status.idle": "2024-09-02T07:56:19.893977Z",
     "shell.execute_reply": "2024-09-02T07:56:19.892414Z"
    },
    "papermill": {
     "duration": 0.032136,
     "end_time": "2024-09-02T07:56:19.896566",
     "exception": false,
     "start_time": "2024-09-02T07:56:19.864430",
     "status": "completed"
    },
    "tags": []
   },
   "outputs": [
    {
     "name": "stdout",
     "output_type": "stream",
     "text": [
      "['__add__', '__class__', '__class_getitem__', '__contains__', '__delattr__', '__delitem__', '__dir__', '__doc__', '__eq__', '__format__', '__ge__', '__getattribute__', '__getitem__', '__gt__', '__hash__', '__iadd__', '__imul__', '__init__', '__init_subclass__', '__iter__', '__le__', '__len__', '__lt__', '__mul__', '__ne__', '__new__', '__reduce__', '__reduce_ex__', '__repr__', '__reversed__', '__rmul__', '__setattr__', '__setitem__', '__sizeof__', '__str__', '__subclasshook__', 'append', 'clear', 'copy', 'count', 'extend', 'index', 'insert', 'pop', 'remove', 'reverse', 'sort']\n"
     ]
    }
   ],
   "source": [
    "# Discovering the methods available for a list object\n",
    "print(dir([]))\n"
   ]
  },
  {
   "cell_type": "markdown",
   "id": "38388440",
   "metadata": {
    "papermill": {
     "duration": 0.02119,
     "end_time": "2024-09-02T07:56:19.939197",
     "exception": false,
     "start_time": "2024-09-02T07:56:19.918007",
     "status": "completed"
    },
    "tags": []
   },
   "source": [
    "### 3. `type()` and `id()` - Understanding Data Types and Identity\n",
    "\n",
    "- **`type()`**: Returns the type of an object. This is particularly useful for checking whether a variable is of a specific type.\n",
    "- **`id()`**: Returns the unique identifier for an object, which is its memory address. Understanding this helps in comprehending how Python manages object references.\n",
    "\n",
    "#### Example:\n"
   ]
  },
  {
   "cell_type": "code",
   "execution_count": 3,
   "id": "5cd555b0",
   "metadata": {
    "execution": {
     "iopub.execute_input": "2024-09-02T07:56:19.985982Z",
     "iopub.status.busy": "2024-09-02T07:56:19.984988Z",
     "iopub.status.idle": "2024-09-02T07:56:19.992431Z",
     "shell.execute_reply": "2024-09-02T07:56:19.990632Z"
    },
    "papermill": {
     "duration": 0.034527,
     "end_time": "2024-09-02T07:56:19.994979",
     "exception": false,
     "start_time": "2024-09-02T07:56:19.960452",
     "status": "completed"
    },
    "tags": []
   },
   "outputs": [
    {
     "name": "stdout",
     "output_type": "stream",
     "text": [
      "Type: <class 'dict'>\n",
      "ID: 133051473799232\n"
     ]
    }
   ],
   "source": [
    "# Checking the type and memory address of a variable\n",
    "example_var = {\"key\": \"value\"}\n",
    "print(\"Type:\", type(example_var))\n",
    "print(\"ID:\", id(example_var))\n"
   ]
  },
  {
   "cell_type": "markdown",
   "id": "8a9774f2",
   "metadata": {
    "papermill": {
     "duration": 0.021074,
     "end_time": "2024-09-02T07:56:20.037933",
     "exception": false,
     "start_time": "2024-09-02T07:56:20.016859",
     "status": "completed"
    },
    "tags": []
   },
   "source": [
    "### 4. `callable()` - Checking if an Object is Callable\n",
    "\n",
    "`callable()` checks if an object appears callable, like a function or method. This is useful for dynamic code where you need to verify that an object can be executed.\n",
    "\n",
    "#### Example:\n"
   ]
  },
  {
   "cell_type": "code",
   "execution_count": 4,
   "id": "f379ddf0",
   "metadata": {
    "execution": {
     "iopub.execute_input": "2024-09-02T07:56:20.083649Z",
     "iopub.status.busy": "2024-09-02T07:56:20.083163Z",
     "iopub.status.idle": "2024-09-02T07:56:20.090558Z",
     "shell.execute_reply": "2024-09-02T07:56:20.089053Z"
    },
    "papermill": {
     "duration": 0.034816,
     "end_time": "2024-09-02T07:56:20.093961",
     "exception": false,
     "start_time": "2024-09-02T07:56:20.059145",
     "status": "completed"
    },
    "tags": []
   },
   "outputs": [
    {
     "name": "stdout",
     "output_type": "stream",
     "text": [
      "Is example_function callable? True\n",
      "Is 42 callable? False\n"
     ]
    }
   ],
   "source": [
    "# Checking if an object is callable\n",
    "def example_function():\n",
    "    pass\n",
    "\n",
    "print(\"Is example_function callable?\", callable(example_function))\n",
    "print(\"Is 42 callable?\", callable(42))\n"
   ]
  },
  {
   "cell_type": "markdown",
   "id": "8eec9ed7",
   "metadata": {
    "papermill": {
     "duration": 0.020987,
     "end_time": "2024-09-02T07:56:20.136801",
     "exception": false,
     "start_time": "2024-09-02T07:56:20.115814",
     "status": "completed"
    },
    "tags": []
   },
   "source": [
    "### 5. `isinstance()` and `issubclass()` - Type Checking and Inheritance\n",
    "\n",
    "- **`isinstance()`**: Verifies if an object is an instance of a particular class or a tuple of classes.\n",
    "- **`issubclass()`**: Determines if a class is a subclass of another class.\n",
    "\n",
    "#### Example:\n"
   ]
  },
  {
   "cell_type": "code",
   "execution_count": 5,
   "id": "0c80457d",
   "metadata": {
    "execution": {
     "iopub.execute_input": "2024-09-02T07:56:20.181582Z",
     "iopub.status.busy": "2024-09-02T07:56:20.181128Z",
     "iopub.status.idle": "2024-09-02T07:56:20.188871Z",
     "shell.execute_reply": "2024-09-02T07:56:20.187454Z"
    },
    "papermill": {
     "duration": 0.03338,
     "end_time": "2024-09-02T07:56:20.191653",
     "exception": false,
     "start_time": "2024-09-02T07:56:20.158273",
     "status": "completed"
    },
    "tags": []
   },
   "outputs": [
    {
     "name": "stdout",
     "output_type": "stream",
     "text": [
      "Is 42 an int? True\n",
      "Is 42 a float? False\n",
      "Is Dog a subclass of Animal? True\n"
     ]
    }
   ],
   "source": [
    "# Checking instances and subclass relationships\n",
    "print(\"Is 42 an int?\", isinstance(42, int))\n",
    "print(\"Is 42 a float?\", isinstance(42, float))\n",
    "\n",
    "class Animal:\n",
    "    pass\n",
    "\n",
    "class Dog(Animal):\n",
    "    pass\n",
    "\n",
    "print(\"Is Dog a subclass of Animal?\", issubclass(Dog, Animal))\n"
   ]
  },
  {
   "cell_type": "markdown",
   "id": "4104ba92",
   "metadata": {
    "papermill": {
     "duration": 0.022488,
     "end_time": "2024-09-02T07:56:20.236419",
     "exception": false,
     "start_time": "2024-09-02T07:56:20.213931",
     "status": "completed"
    },
    "tags": []
   },
   "source": [
    "## 🔢 **Mathematical Operations**\n",
    "\n",
    "Python offers a rich set of built-in functions to perform a variety of mathematical operations, from simple arithmetic to complex calculations."
   ]
  },
  {
   "cell_type": "markdown",
   "id": "8693c6de",
   "metadata": {
    "papermill": {
     "duration": 0.021337,
     "end_time": "2024-09-02T07:56:20.279334",
     "exception": false,
     "start_time": "2024-09-02T07:56:20.257997",
     "status": "completed"
    },
    "tags": []
   },
   "source": [
    "\n",
    "\n",
    "### 1. `abs()` - Absolute Value\n",
    "\n",
    "`abs()` returns the absolute value of a number, which is useful in scenarios where only the magnitude matters.\n",
    "\n",
    "#### Example:\n"
   ]
  },
  {
   "cell_type": "code",
   "execution_count": 6,
   "id": "3a748605",
   "metadata": {
    "execution": {
     "iopub.execute_input": "2024-09-02T07:56:20.324887Z",
     "iopub.status.busy": "2024-09-02T07:56:20.324423Z",
     "iopub.status.idle": "2024-09-02T07:56:20.331571Z",
     "shell.execute_reply": "2024-09-02T07:56:20.330409Z"
    },
    "papermill": {
     "duration": 0.0336,
     "end_time": "2024-09-02T07:56:20.334591",
     "exception": false,
     "start_time": "2024-09-02T07:56:20.300991",
     "status": "completed"
    },
    "tags": []
   },
   "outputs": [
    {
     "name": "stdout",
     "output_type": "stream",
     "text": [
      "Absolute temperature difference: 15\n"
     ]
    }
   ],
   "source": [
    "# Calculating the absolute difference in temperatures\n",
    "temperature_morning = -5\n",
    "temperature_noon = 10\n",
    "print(\"Absolute temperature difference:\", abs(temperature_morning - temperature_noon))\n"
   ]
  },
  {
   "cell_type": "markdown",
   "id": "33482ffd",
   "metadata": {
    "papermill": {
     "duration": 0.02197,
     "end_time": "2024-09-02T07:56:20.379674",
     "exception": false,
     "start_time": "2024-09-02T07:56:20.357704",
     "status": "completed"
    },
    "tags": []
   },
   "source": [
    "### 2. `round()` - Rounding Numbers\n",
    "\n",
    "`round()` rounds a floating-point number to a specified number of decimal places, which is commonly used in financial applications and when displaying results.\n",
    "\n",
    "#### Example:\n"
   ]
  },
  {
   "cell_type": "code",
   "execution_count": 7,
   "id": "dacaf484",
   "metadata": {
    "execution": {
     "iopub.execute_input": "2024-09-02T07:56:20.426019Z",
     "iopub.status.busy": "2024-09-02T07:56:20.425578Z",
     "iopub.status.idle": "2024-09-02T07:56:20.432228Z",
     "shell.execute_reply": "2024-09-02T07:56:20.430896Z"
    },
    "papermill": {
     "duration": 0.032754,
     "end_time": "2024-09-02T07:56:20.434935",
     "exception": false,
     "start_time": "2024-09-02T07:56:20.402181",
     "status": "completed"
    },
    "tags": []
   },
   "outputs": [
    {
     "name": "stdout",
     "output_type": "stream",
     "text": [
      "Rounded tax amount: 12.68\n"
     ]
    }
   ],
   "source": [
    "# Rounding off a calculated tax amount\n",
    "tax_amount = 12.6789\n",
    "print(\"Rounded tax amount:\", round(tax_amount, 2))\n"
   ]
  },
  {
   "cell_type": "markdown",
   "id": "3eef3fcc",
   "metadata": {
    "papermill": {
     "duration": 0.021497,
     "end_time": "2024-09-02T07:56:20.478293",
     "exception": false,
     "start_time": "2024-09-02T07:56:20.456796",
     "status": "completed"
    },
    "tags": []
   },
   "source": [
    "### 3. `pow()` - Power Calculations\n",
    "\n",
    "`pow()` raises a number to a power. It also supports a third argument for modulus, making it essential in cryptography.\n",
    "\n",
    "#### Example:\n"
   ]
  },
  {
   "cell_type": "code",
   "execution_count": 8,
   "id": "2ec19538",
   "metadata": {
    "execution": {
     "iopub.execute_input": "2024-09-02T07:56:20.523769Z",
     "iopub.status.busy": "2024-09-02T07:56:20.523271Z",
     "iopub.status.idle": "2024-09-02T07:56:20.529983Z",
     "shell.execute_reply": "2024-09-02T07:56:20.528802Z"
    },
    "papermill": {
     "duration": 0.034072,
     "end_time": "2024-09-02T07:56:20.534158",
     "exception": false,
     "start_time": "2024-09-02T07:56:20.500086",
     "status": "completed"
    },
    "tags": []
   },
   "outputs": [
    {
     "name": "stdout",
     "output_type": "stream",
     "text": [
      "Population after 5 years: 16105100000\n"
     ]
    }
   ],
   "source": [
    "# Calculating exponential growth in a simulation\n",
    "initial_population = 100\n",
    "growth_factor = 1.1\n",
    "years = 5\n",
    "print(\"Population after 5 years:\", round(pow(initial_population * growth_factor, years)))\n"
   ]
  },
  {
   "cell_type": "markdown",
   "id": "8a1d9839",
   "metadata": {
    "papermill": {
     "duration": 0.021682,
     "end_time": "2024-09-02T07:56:20.578277",
     "exception": false,
     "start_time": "2024-09-02T07:56:20.556595",
     "status": "completed"
    },
    "tags": []
   },
   "source": [
    "### 4. `min()` and `max()` - Finding Extremes\n",
    "\n",
    "These functions return the smallest and largest item in an iterable or from multiple arguments.\n",
    "\n",
    "#### Example:\n"
   ]
  },
  {
   "cell_type": "code",
   "execution_count": 9,
   "id": "d94200c7",
   "metadata": {
    "execution": {
     "iopub.execute_input": "2024-09-02T07:56:20.624683Z",
     "iopub.status.busy": "2024-09-02T07:56:20.624240Z",
     "iopub.status.idle": "2024-09-02T07:56:20.631152Z",
     "shell.execute_reply": "2024-09-02T07:56:20.630033Z"
    },
    "papermill": {
     "duration": 0.033292,
     "end_time": "2024-09-02T07:56:20.633783",
     "exception": false,
     "start_time": "2024-09-02T07:56:20.600491",
     "status": "completed"
    },
    "tags": []
   },
   "outputs": [
    {
     "name": "stdout",
     "output_type": "stream",
     "text": [
      "Maximum stock price: 145.0\n",
      "Minimum stock price: 110.0\n"
     ]
    }
   ],
   "source": [
    "# Finding the maximum and minimum stock prices\n",
    "stock_prices = [120.25, 130.75, 112.50, 145.00, 110.00]\n",
    "print(\"Maximum stock price:\", max(stock_prices))\n",
    "print(\"Minimum stock price:\", min(stock_prices))\n"
   ]
  },
  {
   "cell_type": "markdown",
   "id": "de4a901d",
   "metadata": {
    "papermill": {
     "duration": 0.021494,
     "end_time": "2024-09-02T07:56:20.678977",
     "exception": false,
     "start_time": "2024-09-02T07:56:20.657483",
     "status": "completed"
    },
    "tags": []
   },
   "source": [
    "### 5. `sum()` - Adding Up\n",
    "\n",
    "`sum()` returns the total sum of items in an iterable, optionally adding a start value.\n",
    "\n",
    "#### Example:\n"
   ]
  },
  {
   "cell_type": "code",
   "execution_count": 10,
   "id": "8ff90eaf",
   "metadata": {
    "execution": {
     "iopub.execute_input": "2024-09-02T07:56:20.725291Z",
     "iopub.status.busy": "2024-09-02T07:56:20.724889Z",
     "iopub.status.idle": "2024-09-02T07:56:20.731111Z",
     "shell.execute_reply": "2024-09-02T07:56:20.729928Z"
    },
    "papermill": {
     "duration": 0.032321,
     "end_time": "2024-09-02T07:56:20.733903",
     "exception": false,
     "start_time": "2024-09-02T07:56:20.701582",
     "status": "completed"
    },
    "tags": []
   },
   "outputs": [
    {
     "name": "stdout",
     "output_type": "stream",
     "text": [
      "Total cost: 67.42\n"
     ]
    }
   ],
   "source": [
    "# Calculating the total cost of items in a cart\n",
    "item_prices = [19.99, 29.95, 4.99, 12.49]\n",
    "print(\"Total cost:\", sum(item_prices))\n"
   ]
  },
  {
   "cell_type": "markdown",
   "id": "d067cb59",
   "metadata": {
    "papermill": {
     "duration": 0.021561,
     "end_time": "2024-09-02T07:56:20.777444",
     "exception": false,
     "start_time": "2024-09-02T07:56:20.755883",
     "status": "completed"
    },
    "tags": []
   },
   "source": [
    "### 6. `divmod()` - Quotient and Remainder\n",
    "\n",
    "`divmod()` returns a tuple containing the quotient and remainder when dividing two numbers. It's handy in scenarios where you need both results, such as in time calculations or pagination.\n",
    "\n",
    "#### Example:\n"
   ]
  },
  {
   "cell_type": "code",
   "execution_count": 11,
   "id": "da6700b9",
   "metadata": {
    "execution": {
     "iopub.execute_input": "2024-09-02T07:56:20.822947Z",
     "iopub.status.busy": "2024-09-02T07:56:20.822538Z",
     "iopub.status.idle": "2024-09-02T07:56:20.829134Z",
     "shell.execute_reply": "2024-09-02T07:56:20.827931Z"
    },
    "papermill": {
     "duration": 0.032533,
     "end_time": "2024-09-02T07:56:20.831837",
     "exception": false,
     "start_time": "2024-09-02T07:56:20.799304",
     "status": "completed"
    },
    "tags": []
   },
   "outputs": [
    {
     "name": "stdout",
     "output_type": "stream",
     "text": [
      "2 hours and 10 minutes\n"
     ]
    }
   ],
   "source": [
    "# Calculating how many full hours and minutes are in a given time span\n",
    "total_minutes = 130\n",
    "hours, minutes = divmod(total_minutes, 60)\n",
    "print(f\"{hours} hours and {minutes} minutes\")\n"
   ]
  },
  {
   "cell_type": "markdown",
   "id": "5b93f79e",
   "metadata": {
    "papermill": {
     "duration": 0.021901,
     "end_time": "2024-09-02T07:56:20.876251",
     "exception": false,
     "start_time": "2024-09-02T07:56:20.854350",
     "status": "completed"
    },
    "tags": []
   },
   "source": [
    "### 7. `complex()` - Working with Complex Numbers\n",
    "\n",
    "`complex()` creates a complex number, useful in scientific computing and simulations.\n",
    "\n",
    "#### Example:\n"
   ]
  },
  {
   "cell_type": "code",
   "execution_count": 12,
   "id": "0234ac2d",
   "metadata": {
    "execution": {
     "iopub.execute_input": "2024-09-02T07:56:20.922345Z",
     "iopub.status.busy": "2024-09-02T07:56:20.921932Z",
     "iopub.status.idle": "2024-09-02T07:56:20.928149Z",
     "shell.execute_reply": "2024-09-02T07:56:20.926938Z"
    },
    "papermill": {
     "duration": 0.032994,
     "end_time": "2024-09-02T07:56:20.931387",
     "exception": false,
     "start_time": "2024-09-02T07:56:20.898393",
     "status": "completed"
    },
    "tags": []
   },
   "outputs": [
    {
     "name": "stdout",
     "output_type": "stream",
     "text": [
      "Complex wave: (3+0.5j)\n"
     ]
    }
   ],
   "source": [
    "# Representing a wave as a complex number\n",
    "wave_amplitude = 3\n",
    "wave_phase = 0.5\n",
    "complex_wave = complex(wave_amplitude, wave_phase)\n",
    "print(\"Complex wave:\", complex_wave)\n"
   ]
  },
  {
   "cell_type": "markdown",
   "id": "3af588cd",
   "metadata": {
    "papermill": {
     "duration": 0.022667,
     "end_time": "2024-09-02T07:56:20.976195",
     "exception": false,
     "start_time": "2024-09-02T07:56:20.953528",
     "status": "completed"
    },
    "tags": []
   },
   "source": [
    "## 🔄 **Data Manipulation**\n",
    "\n",
    "These functions help you efficiently manipulate data structures like lists, tuples, and dictionaries. They allow you to sort, filter, and transform your data with ease."
   ]
  },
  {
   "cell_type": "markdown",
   "id": "767d753d",
   "metadata": {
    "papermill": {
     "duration": 0.02221,
     "end_time": "2024-09-02T07:56:21.023452",
     "exception": false,
     "start_time": "2024-09-02T07:56:21.001242",
     "status": "completed"
    },
    "tags": []
   },
   "source": [
    "### 1. `len()` - Counting Elements\n",
    "\n",
    "`len()` returns the number of items in an object, such as a list, tuple, or string.\n",
    "\n",
    "#### Example:\n"
   ]
  },
  {
   "cell_type": "code",
   "execution_count": 13,
   "id": "a9c1cc79",
   "metadata": {
    "execution": {
     "iopub.execute_input": "2024-09-02T07:56:21.071472Z",
     "iopub.status.busy": "2024-09-02T07:56:21.071028Z",
     "iopub.status.idle": "2024-09-02T07:56:21.077849Z",
     "shell.execute_reply": "2024-09-02T07:56:21.076381Z"
    },
    "papermill": {
     "duration": 0.033265,
     "end_time": "2024-09-02T07:56:21.080505",
     "exception": false,
     "start_time": "2024-09-02T07:56:21.047240",
     "status": "completed"
    },
    "tags": []
   },
   "outputs": [
    {
     "name": "stdout",
     "output_type": "stream",
     "text": [
      "Number of books: 4\n"
     ]
    }
   ],
   "source": [
    "# Counting the number of books in a reading list\n",
    "reading_list = [\"1984\", \"To Kill a Mockingbird\", \"Moby Dick\", \"Pride and Prejudice\"]\n",
    "print(\"Number of books:\", len(reading_list))\n"
   ]
  },
  {
   "cell_type": "markdown",
   "id": "f90f4573",
   "metadata": {
    "papermill": {
     "duration": 0.022277,
     "end_time": "2024-09-02T07:56:21.126050",
     "exception": false,
     "start_time": "2024-09-02T07:56:21.103773",
     "status": "completed"
    },
    "tags": []
   },
   "source": [
    "### 2. `sorted()` - Sorting Data\n",
    "\n",
    "`sorted()` returns a new sorted list from the items in an iterable. You can also sort in reverse order.\n",
    "\n",
    "#### Example:\n"
   ]
  },
  {
   "cell_type": "code",
   "execution_count": 14,
   "id": "e4d89211",
   "metadata": {
    "execution": {
     "iopub.execute_input": "2024-09-02T07:56:21.173559Z",
     "iopub.status.busy": "2024-09-02T07:56:21.173084Z",
     "iopub.status.idle": "2024-09-02T07:56:21.179970Z",
     "shell.execute_reply": "2024-09-02T07:56:21.178723Z"
    },
    "papermill": {
     "duration": 0.033582,
     "end_time": "2024-09-02T07:56:21.182474",
     "exception": false,
     "start_time": "2024-09-02T07:56:21.148892",
     "status": "completed"
    },
    "tags": []
   },
   "outputs": [
    {
     "name": "stdout",
     "output_type": "stream",
     "text": [
      "Sorted grades: [92, 91, 88, 85, 79]\n"
     ]
    }
   ],
   "source": [
    "# Sorting student grades in descending order\n",
    "student_grades = [88, 92, 79, 85, 91]\n",
    "sorted_grades = sorted(student_grades, reverse=True)\n",
    "print(\"Sorted grades:\", sorted_grades)\n"
   ]
  },
  {
   "cell_type": "markdown",
   "id": "79a286f6",
   "metadata": {
    "papermill": {
     "duration": 0.02257,
     "end_time": "2024-09-02T07:56:21.227822",
     "exception": false,
     "start_time": "2024-09-02T07:56:21.205252",
     "status": "completed"
    },
    "tags": []
   },
   "source": [
    "### 3. `reversed()` - Reversing Sequences\n",
    "\n",
    "`reversed()` returns an iterator that accesses the given sequence in the reverse order.\n",
    "\n",
    "#### Example:\n"
   ]
  },
  {
   "cell_type": "code",
   "execution_count": 15,
   "id": "d072d157",
   "metadata": {
    "execution": {
     "iopub.execute_input": "2024-09-02T07:56:21.275103Z",
     "iopub.status.busy": "2024-09-02T07:56:21.274239Z",
     "iopub.status.idle": "2024-09-02T07:56:21.280699Z",
     "shell.execute_reply": "2024-09-02T07:56:21.279594Z"
    },
    "papermill": {
     "duration": 0.03285,
     "end_time": "2024-09-02T07:56:21.283160",
     "exception": false,
     "start_time": "2024-09-02T07:56:21.250310",
     "status": "completed"
    },
    "tags": []
   },
   "outputs": [
    {
     "name": "stdout",
     "output_type": "stream",
     "text": [
      "Reversed actions: ['shoot', 'duck', 'run', 'jump']\n"
     ]
    }
   ],
   "source": [
    "# Reversing a list of player actions\n",
    "actions = [\"jump\", \"run\", \"duck\", \"shoot\"]\n",
    "print(\"Reversed actions:\", list(reversed(actions)))\n"
   ]
  },
  {
   "cell_type": "markdown",
   "id": "6e350748",
   "metadata": {
    "papermill": {
     "duration": 0.023533,
     "end_time": "2024-09-02T07:56:21.329339",
     "exception": false,
     "start_time": "2024-09-02T07:56:21.305806",
     "status": "completed"
    },
    "tags": []
   },
   "source": [
    "### 4. `enumerate()` - Counting with Enumeration\n",
    "\n",
    "`enumerate()` adds a counter to an iterable, returning it as an\n"
   ]
  },
  {
   "cell_type": "code",
   "execution_count": 16,
   "id": "38fba034",
   "metadata": {
    "execution": {
     "iopub.execute_input": "2024-09-02T07:56:21.433636Z",
     "iopub.status.busy": "2024-09-02T07:56:21.433168Z",
     "iopub.status.idle": "2024-09-02T07:56:21.439856Z",
     "shell.execute_reply": "2024-09-02T07:56:21.438686Z"
    },
    "papermill": {
     "duration": 0.033782,
     "end_time": "2024-09-02T07:56:21.442905",
     "exception": false,
     "start_time": "2024-09-02T07:56:21.409123",
     "status": "completed"
    },
    "tags": []
   },
   "outputs": [
    {
     "name": "stdout",
     "output_type": "stream",
     "text": [
      "1: apples\n",
      "2: bananas\n",
      "3: carrots\n",
      "4: dates\n"
     ]
    }
   ],
   "source": [
    "# Enumerating items in a grocery list\n",
    "groceries = [\"apples\", \"bananas\", \"carrots\", \"dates\"]\n",
    "for index, item in enumerate(groceries, start=1):\n",
    "    print(f\"{index}: {item}\")"
   ]
  },
  {
   "cell_type": "markdown",
   "id": "94ab4f45",
   "metadata": {
    "papermill": {
     "duration": 0.022634,
     "end_time": "2024-09-02T07:56:21.488578",
     "exception": false,
     "start_time": "2024-09-02T07:56:21.465944",
     "status": "completed"
    },
    "tags": []
   },
   "source": [
    "### 5. `zip()` - Combining Iterables\n",
    "\n",
    "`zip()` combines two or more iterables, producing tuples of their corresponding elements. This is particularly useful for pairing related data together.\n",
    "\n",
    "#### Example:\n"
   ]
  },
  {
   "cell_type": "code",
   "execution_count": 17,
   "id": "48bd3f61",
   "metadata": {
    "execution": {
     "iopub.execute_input": "2024-09-02T07:56:21.535990Z",
     "iopub.status.busy": "2024-09-02T07:56:21.535457Z",
     "iopub.status.idle": "2024-09-02T07:56:21.542205Z",
     "shell.execute_reply": "2024-09-02T07:56:21.540854Z"
    },
    "papermill": {
     "duration": 0.034127,
     "end_time": "2024-09-02T07:56:21.545375",
     "exception": false,
     "start_time": "2024-09-02T07:56:21.511248",
     "status": "completed"
    },
    "tags": []
   },
   "outputs": [
    {
     "name": "stdout",
     "output_type": "stream",
     "text": [
      "Friend-Color pairs: [('Alice', 'Blue'), ('Bob', 'Green'), ('Charlie', 'Red')]\n"
     ]
    }
   ],
   "source": [
    "# Pairing friends with their favorite colors\n",
    "friends = [\"Alice\", \"Bob\", \"Charlie\"]\n",
    "colors = [\"Blue\", \"Green\", \"Red\"]\n",
    "print(\"Friend-Color pairs:\", list(zip(friends, colors)))\n"
   ]
  },
  {
   "cell_type": "markdown",
   "id": "6bab0c2a",
   "metadata": {
    "papermill": {
     "duration": 0.022436,
     "end_time": "2024-09-02T07:56:21.591092",
     "exception": false,
     "start_time": "2024-09-02T07:56:21.568656",
     "status": "completed"
    },
    "tags": []
   },
   "source": [
    "### 6. `map()` - Applying Functions to Iterables\n",
    "\n",
    "`map()` applies a function to all items in an iterable. It's a concise way to transform data, like converting temperatures or applying discounts.\n",
    "\n",
    "#### Example:\n"
   ]
  },
  {
   "cell_type": "code",
   "execution_count": 18,
   "id": "9e0b17e1",
   "metadata": {
    "execution": {
     "iopub.execute_input": "2024-09-02T07:56:21.639153Z",
     "iopub.status.busy": "2024-09-02T07:56:21.638688Z",
     "iopub.status.idle": "2024-09-02T07:56:21.646490Z",
     "shell.execute_reply": "2024-09-02T07:56:21.645222Z"
    },
    "papermill": {
     "duration": 0.035219,
     "end_time": "2024-09-02T07:56:21.648920",
     "exception": false,
     "start_time": "2024-09-02T07:56:21.613701",
     "status": "completed"
    },
    "tags": []
   },
   "outputs": [
    {
     "name": "stdout",
     "output_type": "stream",
     "text": [
      "Discounted prices: [90.0, 135.0, 180.0, 45.0]\n"
     ]
    }
   ],
   "source": [
    "# Applying a discount to a list of prices\n",
    "prices = [100, 150, 200, 50]\n",
    "discount = 0.1\n",
    "\n",
    "discounted_prices = list(map(lambda price: price * (1 - discount), prices))\n",
    "print(\"Discounted prices:\", discounted_prices)\n"
   ]
  },
  {
   "cell_type": "markdown",
   "id": "c093d370",
   "metadata": {
    "papermill": {
     "duration": 0.023135,
     "end_time": "2024-09-02T07:56:21.695128",
     "exception": false,
     "start_time": "2024-09-02T07:56:21.671993",
     "status": "completed"
    },
    "tags": []
   },
   "source": [
    "### 7. `filter()` - Filtering Data\n",
    "\n",
    "`filter()` constructs an iterator from elements of an iterable for which a function returns `True`. It's useful for selecting items that meet certain criteria.\n",
    "\n",
    "#### Example:\n"
   ]
  },
  {
   "cell_type": "code",
   "execution_count": 19,
   "id": "98ab2ce4",
   "metadata": {
    "execution": {
     "iopub.execute_input": "2024-09-02T07:56:21.743254Z",
     "iopub.status.busy": "2024-09-02T07:56:21.742807Z",
     "iopub.status.idle": "2024-09-02T07:56:21.749616Z",
     "shell.execute_reply": "2024-09-02T07:56:21.748380Z"
    },
    "papermill": {
     "duration": 0.03466,
     "end_time": "2024-09-02T07:56:21.752700",
     "exception": false,
     "start_time": "2024-09-02T07:56:21.718040",
     "status": "completed"
    },
    "tags": []
   },
   "outputs": [
    {
     "name": "stdout",
     "output_type": "stream",
     "text": [
      "Students who passed: [72, 88, 67]\n"
     ]
    }
   ],
   "source": [
    "# Filtering out students who passed the exam\n",
    "grades = [55, 72, 88, 40, 67]\n",
    "passing_grade = 60\n",
    "\n",
    "passed_students = list(filter(lambda grade: grade >= passing_grade, grades))\n",
    "print(\"Students who passed:\", passed_students)\n"
   ]
  },
  {
   "cell_type": "markdown",
   "id": "5b610ba2",
   "metadata": {
    "papermill": {
     "duration": 0.022902,
     "end_time": "2024-09-02T07:56:21.798571",
     "exception": false,
     "start_time": "2024-09-02T07:56:21.775669",
     "status": "completed"
    },
    "tags": []
   },
   "source": [
    "### 8. `reduce()` - Reducing Data (from `functools`)\n",
    "\n",
    "`reduce()` applies a rolling computation to sequential pairs of values in a list. It's commonly used for aggregating data.\n",
    "\n",
    "#### Example:\n"
   ]
  },
  {
   "cell_type": "code",
   "execution_count": 20,
   "id": "043cb387",
   "metadata": {
    "execution": {
     "iopub.execute_input": "2024-09-02T07:56:21.846527Z",
     "iopub.status.busy": "2024-09-02T07:56:21.846082Z",
     "iopub.status.idle": "2024-09-02T07:56:21.852907Z",
     "shell.execute_reply": "2024-09-02T07:56:21.851535Z"
    },
    "papermill": {
     "duration": 0.034431,
     "end_time": "2024-09-02T07:56:21.856120",
     "exception": false,
     "start_time": "2024-09-02T07:56:21.821689",
     "status": "completed"
    },
    "tags": []
   },
   "outputs": [
    {
     "name": "stdout",
     "output_type": "stream",
     "text": [
      "Product of numbers: 120\n"
     ]
    }
   ],
   "source": [
    "from functools import reduce\n",
    "\n",
    "# Calculating the product of all numbers in a list\n",
    "numbers = [1, 2, 3, 4, 5]\n",
    "product = reduce(lambda x, y: x * y, numbers)\n",
    "print(\"Product of numbers:\", product)\n"
   ]
  },
  {
   "cell_type": "markdown",
   "id": "50d01826",
   "metadata": {
    "papermill": {
     "duration": 0.022849,
     "end_time": "2024-09-02T07:56:21.902548",
     "exception": false,
     "start_time": "2024-09-02T07:56:21.879699",
     "status": "completed"
    },
    "tags": []
   },
   "source": [
    "### 9. `all()` and `any()` - Checking Conditions\n",
    "\n",
    "- **`all()`** returns `True` if all elements of the iterable are true (or if the iterable is empty).\n",
    "- **`any()`** returns `True` if any element of the iterable is true. These functions are handy for validation checks.\n",
    "\n",
    "#### Example:\n"
   ]
  },
  {
   "cell_type": "code",
   "execution_count": 21,
   "id": "8ca44762",
   "metadata": {
    "execution": {
     "iopub.execute_input": "2024-09-02T07:56:21.950273Z",
     "iopub.status.busy": "2024-09-02T07:56:21.949841Z",
     "iopub.status.idle": "2024-09-02T07:56:21.957029Z",
     "shell.execute_reply": "2024-09-02T07:56:21.955792Z"
    },
    "papermill": {
     "duration": 0.034253,
     "end_time": "2024-09-02T07:56:21.959764",
     "exception": false,
     "start_time": "2024-09-02T07:56:21.925511",
     "status": "completed"
    },
    "tags": []
   },
   "outputs": [
    {
     "name": "stdout",
     "output_type": "stream",
     "text": [
      "Did all students pass? False\n",
      "Did any student score a perfect 100? False\n"
     ]
    }
   ],
   "source": [
    "# Checking if all students passed the exam\n",
    "grades = [55, 72, 88, 40, 67]\n",
    "\n",
    "print(\"Did all students pass?\", all(grade >= passing_grade for grade in grades))\n",
    "print(\"Did any student score a perfect 100?\", any(grade == 100 for grade in grades))\n"
   ]
  },
  {
   "cell_type": "markdown",
   "id": "cfa66a98",
   "metadata": {
    "papermill": {
     "duration": 0.02604,
     "end_time": "2024-09-02T07:56:22.009012",
     "exception": false,
     "start_time": "2024-09-02T07:56:21.982972",
     "status": "completed"
    },
    "tags": []
   },
   "source": [
    "## 🔄 **Iterators and Generators**\n",
    "\n",
    "Iterators and generators provide a powerful way to handle large datasets and create custom iteration behavior. They enable you to process data efficiently by generating items one at a time."
   ]
  },
  {
   "cell_type": "markdown",
   "id": "66c3fe5d",
   "metadata": {
    "papermill": {
     "duration": 0.022927,
     "end_time": "2024-09-02T07:56:22.055253",
     "exception": false,
     "start_time": "2024-09-02T07:56:22.032326",
     "status": "completed"
    },
    "tags": []
   },
   "source": [
    "### 1. `iter()` and `next()` - Manual Iteration\n",
    "\n",
    "- **`iter()`** converts an iterable into an iterator.\n",
    "- **`next()`** retrieves the next item from an iterator, and can also specify a default value to return if the iterator is exhausted.\n",
    "\n",
    "#### Example:\n"
   ]
  },
  {
   "cell_type": "code",
   "execution_count": 22,
   "id": "c02f8258",
   "metadata": {
    "execution": {
     "iopub.execute_input": "2024-09-02T07:56:22.103456Z",
     "iopub.status.busy": "2024-09-02T07:56:22.102997Z",
     "iopub.status.idle": "2024-09-02T07:56:22.110079Z",
     "shell.execute_reply": "2024-09-02T07:56:22.108982Z"
    },
    "papermill": {
     "duration": 0.034016,
     "end_time": "2024-09-02T07:56:22.112573",
     "exception": false,
     "start_time": "2024-09-02T07:56:22.078557",
     "status": "completed"
    },
    "tags": []
   },
   "outputs": [
    {
     "name": "stdout",
     "output_type": "stream",
     "text": [
      "Next task: clean\n",
      "Next task: cook\n",
      "Next task: code\n"
     ]
    }
   ],
   "source": [
    "# Manually iterating over a list of tasks\n",
    "tasks = [\"clean\", \"cook\", \"code\"]\n",
    "task_iter = iter(tasks)\n",
    "\n",
    "print(\"Next task:\", next(task_iter))\n",
    "print(\"Next task:\", next(task_iter))\n",
    "print(\"Next task:\", next(task_iter))\n"
   ]
  },
  {
   "cell_type": "markdown",
   "id": "be32dc5a",
   "metadata": {
    "papermill": {
     "duration": 0.02294,
     "end_time": "2024-09-02T07:56:22.159333",
     "exception": false,
     "start_time": "2024-09-02T07:56:22.136393",
     "status": "completed"
    },
    "tags": []
   },
   "source": [
    "### 2. `yield` - Creating Generators\n",
    "\n",
    "`yield` is used in a function to create a generator. Generators allow you to iterate over a sequence of values, producing them one at a time and only when required.\n",
    "\n",
    "#### Example:\n"
   ]
  },
  {
   "cell_type": "code",
   "execution_count": 23,
   "id": "e33b14cd",
   "metadata": {
    "execution": {
     "iopub.execute_input": "2024-09-02T07:56:22.207566Z",
     "iopub.status.busy": "2024-09-02T07:56:22.207074Z",
     "iopub.status.idle": "2024-09-02T07:56:22.214641Z",
     "shell.execute_reply": "2024-09-02T07:56:22.213375Z"
    },
    "papermill": {
     "duration": 0.03493,
     "end_time": "2024-09-02T07:56:22.217480",
     "exception": false,
     "start_time": "2024-09-02T07:56:22.182550",
     "status": "completed"
    },
    "tags": []
   },
   "outputs": [
    {
     "name": "stdout",
     "output_type": "stream",
     "text": [
      "Even number: 0\n",
      "Even number: 2\n",
      "Even number: 4\n",
      "Even number: 6\n",
      "Even number: 8\n",
      "Even number: 10\n"
     ]
    }
   ],
   "source": [
    "# Generator to yield even numbers up to a limit\n",
    "def even_numbers(limit):\n",
    "    num = 0\n",
    "    while num <= limit:\n",
    "        yield num\n",
    "        num += 2\n",
    "\n",
    "for even in even_numbers(10):\n",
    "    print(\"Even number:\", even)\n"
   ]
  },
  {
   "cell_type": "markdown",
   "id": "528257b1",
   "metadata": {
    "papermill": {
     "duration": 0.023192,
     "end_time": "2024-09-02T07:56:22.264124",
     "exception": false,
     "start_time": "2024-09-02T07:56:22.240932",
     "status": "completed"
    },
    "tags": []
   },
   "source": [
    "## 🔄 **Type Conversion**\n",
    "\n",
    "These functions allow you to convert data from one type to another. This is crucial for tasks like handling user input, formatting output, or performing calculations."
   ]
  },
  {
   "cell_type": "markdown",
   "id": "687a05f7",
   "metadata": {
    "papermill": {
     "duration": 0.024316,
     "end_time": "2024-09-02T07:56:22.311854",
     "exception": false,
     "start_time": "2024-09-02T07:56:22.287538",
     "status": "completed"
    },
    "tags": []
   },
   "source": [
    "### 1. `int()` and `float()` - Converting to Numbers\n",
    "\n",
    "- **`int()`** converts a number or string to an integer.\n",
    "- **`float()`** converts a number or string to a floating-point number.\n",
    "\n",
    "#### Example:\n"
   ]
  },
  {
   "cell_type": "code",
   "execution_count": 24,
   "id": "7d05676c",
   "metadata": {
    "execution": {
     "iopub.execute_input": "2024-09-02T07:56:22.361246Z",
     "iopub.status.busy": "2024-09-02T07:56:22.360791Z",
     "iopub.status.idle": "2024-09-02T07:56:22.367659Z",
     "shell.execute_reply": "2024-09-02T07:56:22.366445Z"
    },
    "papermill": {
     "duration": 0.034694,
     "end_time": "2024-09-02T07:56:22.370502",
     "exception": false,
     "start_time": "2024-09-02T07:56:22.335808",
     "status": "completed"
    },
    "tags": []
   },
   "outputs": [
    {
     "name": "stdout",
     "output_type": "stream",
     "text": [
      "As float: 3.14\n",
      "As integer: 3\n"
     ]
    }
   ],
   "source": [
    "# Converting a string input to numbers\n",
    "input_str = \"3.14\"\n",
    "converted_float = float(input_str)\n",
    "converted_int = int(float(input_str))  # Converting via float for decimal strings\n",
    "\n",
    "print(\"As float:\", converted_float)\n",
    "print(\"As integer:\", converted_int)\n"
   ]
  },
  {
   "cell_type": "markdown",
   "id": "5c39f037",
   "metadata": {
    "papermill": {
     "duration": 0.023117,
     "end_time": "2024-09-02T07:56:22.417141",
     "exception": false,
     "start_time": "2024-09-02T07:56:22.394024",
     "status": "completed"
    },
    "tags": []
   },
   "source": [
    "### 2. `str()` - Converting to String\n",
    "\n",
    "`str()` converts an object to its string representation, which is essential for output formatting.\n",
    "\n",
    "#### Example:\n"
   ]
  },
  {
   "cell_type": "code",
   "execution_count": 25,
   "id": "f4eb291b",
   "metadata": {
    "execution": {
     "iopub.execute_input": "2024-09-02T07:56:22.467519Z",
     "iopub.status.busy": "2024-09-02T07:56:22.466272Z",
     "iopub.status.idle": "2024-09-02T07:56:22.472977Z",
     "shell.execute_reply": "2024-09-02T07:56:22.471705Z"
    },
    "papermill": {
     "duration": 0.035002,
     "end_time": "2024-09-02T07:56:22.476158",
     "exception": false,
     "start_time": "2024-09-02T07:56:22.441156",
     "status": "completed"
    },
    "tags": []
   },
   "outputs": [
    {
     "name": "stdout",
     "output_type": "stream",
     "text": [
      "The current temperature is 23.5 degrees.\n"
     ]
    }
   ],
   "source": [
    "# Formatting a message for the user\n",
    "temperature = 23.5\n",
    "message = \"The current temperature is \" + str(temperature) + \" degrees.\"\n",
    "print(message)\n"
   ]
  },
  {
   "cell_type": "markdown",
   "id": "33930145",
   "metadata": {
    "papermill": {
     "duration": 0.024396,
     "end_time": "2024-09-02T07:56:22.524957",
     "exception": false,
     "start_time": "2024-09-02T07:56:22.500561",
     "status": "completed"
    },
    "tags": []
   },
   "source": [
    "### 3. `bool()` - Converting to Boolean\n",
    "\n",
    "`bool()` converts a value to a Boolean (`True` or `False`). This is useful when you need to check conditions or validate data.\n",
    "\n",
    "#### Example:\n"
   ]
  },
  {
   "cell_type": "code",
   "execution_count": 26,
   "id": "0e6798a0",
   "metadata": {
    "execution": {
     "iopub.execute_input": "2024-09-02T07:56:22.575553Z",
     "iopub.status.busy": "2024-09-02T07:56:22.575086Z",
     "iopub.status.idle": "2024-09-02T07:56:22.581054Z",
     "shell.execute_reply": "2024-09-02T07:56:22.579853Z"
    },
    "papermill": {
     "duration": 0.034088,
     "end_time": "2024-09-02T07:56:22.583860",
     "exception": false,
     "start_time": "2024-09-02T07:56:22.549772",
     "status": "completed"
    },
    "tags": []
   },
   "outputs": [
    {
     "name": "stdout",
     "output_type": "stream",
     "text": [
      "Is the list empty? False\n"
     ]
    }
   ],
   "source": [
    "# Checking if a list of items is empty\n",
    "items = []\n",
    "print(\"Is the list empty?\", bool(items))\n"
   ]
  },
  {
   "cell_type": "markdown",
   "id": "782ec305",
   "metadata": {
    "papermill": {
     "duration": 0.023393,
     "end_time": "2024-09-02T07:56:22.630848",
     "exception": false,
     "start_time": "2024-09-02T07:56:22.607455",
     "status": "completed"
    },
    "tags": []
   },
   "source": [
    "### 4. `bin()`, `hex()`, and `oct()` - Base Conversion\n",
    "\n",
    "- **`bin()`** converts an integer to a binary string.\n",
    "- **`hex()`** converts an integer to a hexadecimal string.\n",
    "- **`oct()`** converts an integer to an octal string.\n",
    "\n",
    "#### Example:\n"
   ]
  },
  {
   "cell_type": "code",
   "execution_count": 27,
   "id": "f43cbec6",
   "metadata": {
    "execution": {
     "iopub.execute_input": "2024-09-02T07:56:22.680925Z",
     "iopub.status.busy": "2024-09-02T07:56:22.680465Z",
     "iopub.status.idle": "2024-09-02T07:56:22.686953Z",
     "shell.execute_reply": "2024-09-02T07:56:22.685704Z"
    },
    "papermill": {
     "duration": 0.034889,
     "end_time": "2024-09-02T07:56:22.690186",
     "exception": false,
     "start_time": "2024-09-02T07:56:22.655297",
     "status": "completed"
    },
    "tags": []
   },
   "outputs": [
    {
     "name": "stdout",
     "output_type": "stream",
     "text": [
      "Binary: 0b11111111\n",
      "Hexadecimal: 0xff\n",
      "Octal: 0o377\n"
     ]
    }
   ],
   "source": [
    "# Displaying a number in different bases\n",
    "number = 255\n",
    "print(\"Binary:\", bin(number))\n",
    "print(\"Hexadecimal:\", hex(number))\n",
    "print(\"Octal:\", oct(number))\n"
   ]
  },
  {
   "cell_type": "markdown",
   "id": "bd1dd50e",
   "metadata": {
    "papermill": {
     "duration": 0.023313,
     "end_time": "2024-09-02T07:56:22.737233",
     "exception": false,
     "start_time": "2024-09-02T07:56:22.713920",
     "status": "completed"
    },
    "tags": []
   },
   "source": [
    "### 5. `chr()` and `ord()` - Character and Unicode Conversion\n",
    "\n",
    "- **`chr()`** converts an integer to its corresponding Unicode character.\n",
    "- **`ord()`** converts a character to its corresponding Unicode code point.\n",
    "\n",
    "#### Example:\n"
   ]
  },
  {
   "cell_type": "code",
   "execution_count": 28,
   "id": "325c4a9b",
   "metadata": {
    "execution": {
     "iopub.execute_input": "2024-09-02T07:56:22.787747Z",
     "iopub.status.busy": "2024-09-02T07:56:22.786708Z",
     "iopub.status.idle": "2024-09-02T07:56:22.793766Z",
     "shell.execute_reply": "2024-09-02T07:56:22.792444Z"
    },
    "papermill": {
     "duration": 0.035447,
     "end_time": "2024-09-02T07:56:22.796503",
     "exception": false,
     "start_time": "2024-09-02T07:56:22.761056",
     "status": "completed"
    },
    "tags": []
   },
   "outputs": [
    {
     "name": "stdout",
     "output_type": "stream",
     "text": [
      "Encrypted message: KHOOR\n"
     ]
    }
   ],
   "source": [
    "# Encrypting a message using basic character shifts\n",
    "message = \"HELLO\"\n",
    "encrypted_message = \"\".join([chr(ord(char) + 3) for char in message])\n",
    "print(\"Encrypted message:\", encrypted_message)\n"
   ]
  },
  {
   "cell_type": "markdown",
   "id": "03c4fcea",
   "metadata": {
    "papermill": {
     "duration": 0.023473,
     "end_time": "2024-09-02T07:56:22.844220",
     "exception": false,
     "start_time": "2024-09-02T07:56:22.820747",
     "status": "completed"
    },
    "tags": []
   },
   "source": [
    "## 📂 **File I/O**\n",
    "\n",
    "Reading from and writing to files is a common task in Python. These built-in functions allow you to handle file operations efficiently.\n"
   ]
  },
  {
   "cell_type": "markdown",
   "id": "f4b16509",
   "metadata": {
    "papermill": {
     "duration": 0.024024,
     "end_time": "2024-09-02T07:56:22.891975",
     "exception": false,
     "start_time": "2024-09-02T07:56:22.867951",
     "status": "completed"
    },
    "tags": []
   },
   "source": [
    "### 1. `open()` - Opening Files\n",
    "\n",
    "The `open()` function is used to open a file in a specified mode (read, write, append, etc.). It returns a file object, which provides methods to read from or write to the file.\n",
    "\n",
    "#### Example:\n"
   ]
  },
  {
   "cell_type": "code",
   "execution_count": 29,
   "id": "93fd8325",
   "metadata": {
    "execution": {
     "iopub.execute_input": "2024-09-02T07:56:22.943276Z",
     "iopub.status.busy": "2024-09-02T07:56:22.942240Z",
     "iopub.status.idle": "2024-09-02T07:56:22.950101Z",
     "shell.execute_reply": "2024-09-02T07:56:22.948948Z"
    },
    "papermill": {
     "duration": 0.036422,
     "end_time": "2024-09-02T07:56:22.952772",
     "exception": false,
     "start_time": "2024-09-02T07:56:22.916350",
     "status": "completed"
    },
    "tags": []
   },
   "outputs": [
    {
     "name": "stdout",
     "output_type": "stream",
     "text": [
      "File content:\n",
      " Hello, world!\n",
      "This is a test file.\n"
     ]
    }
   ],
   "source": [
    "# Writing to a text file\n",
    "with open('example.txt', 'w') as file:\n",
    "    file.write(\"Hello, world!\\n\")\n",
    "    file.write(\"This is a test file.\")\n",
    "\n",
    "# Reading from a text file\n",
    "with open('example.txt', 'r') as file:\n",
    "    content = file.read()\n",
    "    print(\"File content:\\n\", content)\n"
   ]
  },
  {
   "cell_type": "markdown",
   "id": "191982c6",
   "metadata": {
    "papermill": {
     "duration": 0.02533,
     "end_time": "2024-09-02T07:56:23.001930",
     "exception": false,
     "start_time": "2024-09-02T07:56:22.976600",
     "status": "completed"
    },
    "tags": []
   },
   "source": [
    "### 2. `os` and `shutil` Modules - File Operations\n",
    "\n",
    "Beyond basic file reading and writing, Python's `os` and `shutil` modules provide more advanced file operations, such as copying, moving, and deleting files.\n",
    "\n",
    "#### Example:\n"
   ]
  },
  {
   "cell_type": "code",
   "execution_count": 30,
   "id": "1c5284ae",
   "metadata": {
    "execution": {
     "iopub.execute_input": "2024-09-02T07:56:23.054498Z",
     "iopub.status.busy": "2024-09-02T07:56:23.054036Z",
     "iopub.status.idle": "2024-09-02T07:56:23.062241Z",
     "shell.execute_reply": "2024-09-02T07:56:23.060928Z"
    },
    "papermill": {
     "duration": 0.037188,
     "end_time": "2024-09-02T07:56:23.065010",
     "exception": false,
     "start_time": "2024-09-02T07:56:23.027822",
     "status": "completed"
    },
    "tags": []
   },
   "outputs": [
    {
     "name": "stdout",
     "output_type": "stream",
     "text": [
      "Does the file exist? True\n",
      "File deleted.\n"
     ]
    }
   ],
   "source": [
    "import os\n",
    "import shutil\n",
    "\n",
    "# Copying a file\n",
    "shutil.copy('example.txt', 'example_copy.txt')\n",
    "\n",
    "# Renaming a file\n",
    "os.rename('example_copy.txt', 'renamed_example.txt')\n",
    "\n",
    "# Checking if the file exists\n",
    "print(\"Does the file exist?\", os.path.exists('renamed_example.txt'))\n",
    "\n",
    "# Deleting the file\n",
    "os.remove('renamed_example.txt')\n",
    "print(\"File deleted.\")\n"
   ]
  },
  {
   "cell_type": "markdown",
   "id": "3b4858ec",
   "metadata": {
    "papermill": {
     "duration": 0.024197,
     "end_time": "2024-09-02T07:56:23.113801",
     "exception": false,
     "start_time": "2024-09-02T07:56:23.089604",
     "status": "completed"
    },
    "tags": []
   },
   "source": [
    "## 🧠 **Advanced Operations**\n",
    "\n",
    "Python also offers some advanced built-in functions that allow you to execute code dynamically, evaluate expressions, and work with more complex data structures."
   ]
  },
  {
   "cell_type": "markdown",
   "id": "24fb8e03",
   "metadata": {
    "papermill": {
     "duration": 0.024351,
     "end_time": "2024-09-02T07:56:23.162473",
     "exception": false,
     "start_time": "2024-09-02T07:56:23.138122",
     "status": "completed"
    },
    "tags": []
   },
   "source": [
    "### 1. `eval()` and `exec()` - Dynamic Code Execution\n",
    "\n",
    "- **`eval()`** evaluates a string as a Python expression and returns the result.\n",
    "- **`exec()`** executes dynamic Python code but does not return a value.\n",
    "\n",
    "#### Example:\n"
   ]
  },
  {
   "cell_type": "code",
   "execution_count": 31,
   "id": "ebabf01a",
   "metadata": {
    "execution": {
     "iopub.execute_input": "2024-09-02T07:56:23.212625Z",
     "iopub.status.busy": "2024-09-02T07:56:23.212161Z",
     "iopub.status.idle": "2024-09-02T07:56:23.219880Z",
     "shell.execute_reply": "2024-09-02T07:56:23.218657Z"
    },
    "papermill": {
     "duration": 0.036068,
     "end_time": "2024-09-02T07:56:23.222573",
     "exception": false,
     "start_time": "2024-09-02T07:56:23.186505",
     "status": "completed"
    },
    "tags": []
   },
   "outputs": [
    {
     "name": "stdout",
     "output_type": "stream",
     "text": [
      "Result of eval: 8\n",
      "Iteration 0\n",
      "Iteration 1\n",
      "Iteration 2\n"
     ]
    }
   ],
   "source": [
    "# Evaluating a mathematical expression from a string\n",
    "expression = \"2 + 2 * 3\"\n",
    "result = eval(expression)\n",
    "print(\"Result of eval:\", result)\n",
    "\n",
    "# Executing a code block from a string\n",
    "code_block = \"\"\"\n",
    "for i in range(3):\n",
    "    print(\"Iteration\", i)\n",
    "\"\"\"\n",
    "exec(code_block)\n"
   ]
  },
  {
   "cell_type": "markdown",
   "id": "505a4172",
   "metadata": {
    "papermill": {
     "duration": 0.024237,
     "end_time": "2024-09-02T07:56:23.270968",
     "exception": false,
     "start_time": "2024-09-02T07:56:23.246731",
     "status": "completed"
    },
    "tags": []
   },
   "source": [
    "### 2. `locals()` and `globals()` - Accessing Local and Global Variables\n",
    "\n",
    "- **`locals()`** returns a dictionary representing the current local symbol table.\n",
    "- **`globals()`** returns a dictionary representing the global symbol table.\n",
    "\n",
    "#### Example:\n"
   ]
  },
  {
   "cell_type": "code",
   "execution_count": 32,
   "id": "3520de13",
   "metadata": {
    "execution": {
     "iopub.execute_input": "2024-09-02T07:56:23.321032Z",
     "iopub.status.busy": "2024-09-02T07:56:23.320565Z",
     "iopub.status.idle": "2024-09-02T07:56:23.327710Z",
     "shell.execute_reply": "2024-09-02T07:56:23.326524Z"
    },
    "papermill": {
     "duration": 0.035136,
     "end_time": "2024-09-02T07:56:23.330267",
     "exception": false,
     "start_time": "2024-09-02T07:56:23.295131",
     "status": "completed"
    },
    "tags": []
   },
   "outputs": [
    {
     "name": "stdout",
     "output_type": "stream",
     "text": [
      "Local variables: {'y': 5}\n",
      "Global variables: dict_keys(['__name__', '__doc__', '__package__', '__loader__', '__spec__', '__builtin__', '__builtins__', '_ih', '_oh', '_dh', 'In', 'Out', 'get_ipython', 'exit', 'quit', 'open', '_', '__', '___', '_i', '_ii', '_iii', '_i1', '_i2', '_i3', 'example_var', '_i4', 'example_function', '_i5', 'Animal', 'Dog', '_i6', 'temperature_morning', 'temperature_noon', '_i7', 'tax_amount', '_i8', 'initial_population', 'growth_factor', 'years', '_i9', 'stock_prices', '_i10', 'item_prices', '_i11', 'total_minutes', 'hours', 'minutes', '_i12', 'wave_amplitude', 'wave_phase', 'complex_wave', '_i13', 'reading_list', '_i14', 'student_grades', 'sorted_grades', '_i15', 'actions', '_i16', 'groceries', 'index', 'item', '_i17', 'friends', 'colors', '_i18', 'prices', 'discount', 'discounted_prices', '_i19', 'grades', 'passing_grade', 'passed_students', '_i20', 'reduce', 'numbers', 'product', '_i21', '_i22', 'tasks', 'task_iter', '_i23', 'even_numbers', 'even', '_i24', 'input_str', 'converted_float', 'converted_int', '_i25', 'temperature', 'message', '_i26', 'items', '_i27', 'number', '_i28', 'encrypted_message', '_i29', 'file', 'content', '_i30', 'os', 'shutil', '_i31', 'expression', 'result', 'code_block', 'i', '_i32', 'x'])\n"
     ]
    }
   ],
   "source": [
    "# Accessing local and global variables\n",
    "x = 10\n",
    "\n",
    "def example_function():\n",
    "    y = 5\n",
    "    print(\"Local variables:\", locals())\n",
    "\n",
    "example_function()\n",
    "print(\"Global variables:\", globals().keys())\n"
   ]
  },
  {
   "cell_type": "markdown",
   "id": "4873187c",
   "metadata": {
    "papermill": {
     "duration": 0.024026,
     "end_time": "2024-09-02T07:56:23.379338",
     "exception": false,
     "start_time": "2024-09-02T07:56:23.355312",
     "status": "completed"
    },
    "tags": []
   },
   "source": [
    "## 📝 **Practice Exercises**\n",
    "\n",
    "Now that you've explored the built-in functions, it's time to put your knowledge to the test with some fun and challenging exercises. These tasks will help solidify your understanding and give you practical experience.\n"
   ]
  },
  {
   "cell_type": "markdown",
   "id": "c3bdb94d",
   "metadata": {
    "papermill": {
     "duration": 0.024013,
     "end_time": "2024-09-02T07:56:23.427620",
     "exception": false,
     "start_time": "2024-09-02T07:56:23.403607",
     "status": "completed"
    },
    "tags": []
   },
   "source": [
    "### Exercise 1: Sum of Digits (Easy)\n",
    "Write a function that takes a number as input and returns the sum of its digits.\n"
   ]
  },
  {
   "cell_type": "code",
   "execution_count": 33,
   "id": "9cc15874",
   "metadata": {
    "execution": {
     "iopub.execute_input": "2024-09-02T07:56:23.477969Z",
     "iopub.status.busy": "2024-09-02T07:56:23.477535Z",
     "iopub.status.idle": "2024-09-02T07:56:23.484129Z",
     "shell.execute_reply": "2024-09-02T07:56:23.482859Z"
    },
    "papermill": {
     "duration": 0.035264,
     "end_time": "2024-09-02T07:56:23.487172",
     "exception": false,
     "start_time": "2024-09-02T07:56:23.451908",
     "status": "completed"
    },
    "tags": []
   },
   "outputs": [
    {
     "name": "stdout",
     "output_type": "stream",
     "text": [
      "Sum of digits of 12345: 15\n"
     ]
    }
   ],
   "source": [
    "def sum_of_digits(number):\n",
    "    return sum(int(digit) for digit in str(number))\n",
    "\n",
    "# Test the function\n",
    "print(\"Sum of digits of 12345:\", sum_of_digits(12345))  # Output: 15\n"
   ]
  },
  {
   "cell_type": "markdown",
   "id": "deb75def",
   "metadata": {
    "papermill": {
     "duration": 0.024029,
     "end_time": "2024-09-02T07:56:23.535901",
     "exception": false,
     "start_time": "2024-09-02T07:56:23.511872",
     "status": "completed"
    },
    "tags": []
   },
   "source": [
    "### Exercise 2: Filter Even Numbers (Medium)\n",
    "Given a list of integers, filter out the even numbers and return the result.\n"
   ]
  },
  {
   "cell_type": "code",
   "execution_count": 34,
   "id": "1176c8d7",
   "metadata": {
    "execution": {
     "iopub.execute_input": "2024-09-02T07:56:23.588655Z",
     "iopub.status.busy": "2024-09-02T07:56:23.588204Z",
     "iopub.status.idle": "2024-09-02T07:56:23.595419Z",
     "shell.execute_reply": "2024-09-02T07:56:23.594223Z"
    },
    "papermill": {
     "duration": 0.036581,
     "end_time": "2024-09-02T07:56:23.598171",
     "exception": false,
     "start_time": "2024-09-02T07:56:23.561590",
     "status": "completed"
    },
    "tags": []
   },
   "outputs": [
    {
     "name": "stdout",
     "output_type": "stream",
     "text": [
      "Even numbers: [2, 4, 6]\n"
     ]
    }
   ],
   "source": [
    "def filter_even_numbers(numbers):\n",
    "    return list(filter(lambda x: x % 2 == 0, numbers))\n",
    "\n",
    "# Test the function\n",
    "print(\"Even numbers:\", filter_even_numbers([1, 2, 3, 4, 5, 6]))  # Output: [2, 4, 6]\n"
   ]
  },
  {
   "cell_type": "markdown",
   "id": "fc8aebae",
   "metadata": {
    "papermill": {
     "duration": 0.025373,
     "end_time": "2024-09-02T07:56:23.648035",
     "exception": false,
     "start_time": "2024-09-02T07:56:23.622662",
     "status": "completed"
    },
    "tags": []
   },
   "source": [
    "### Exercise 3: Find the Longest Word (Medium)\n",
    "Given a sentence, find and return the longest word.\n"
   ]
  },
  {
   "cell_type": "code",
   "execution_count": 35,
   "id": "f206a875",
   "metadata": {
    "execution": {
     "iopub.execute_input": "2024-09-02T07:56:23.698771Z",
     "iopub.status.busy": "2024-09-02T07:56:23.698301Z",
     "iopub.status.idle": "2024-09-02T07:56:23.704977Z",
     "shell.execute_reply": "2024-09-02T07:56:23.703747Z"
    },
    "papermill": {
     "duration": 0.03515,
     "end_time": "2024-09-02T07:56:23.707648",
     "exception": false,
     "start_time": "2024-09-02T07:56:23.672498",
     "status": "completed"
    },
    "tags": []
   },
   "outputs": [
    {
     "name": "stdout",
     "output_type": "stream",
     "text": [
      "Longest word: programming\n"
     ]
    }
   ],
   "source": [
    "def find_longest_word(sentence):\n",
    "    words = sentence.split()\n",
    "    return max(words, key=len)\n",
    "\n",
    "# Test the function\n",
    "print(\"Longest word:\", find_longest_word(\"Python programming is both fun and educational\"))  # Output: \"programming\"\n"
   ]
  },
  {
   "cell_type": "markdown",
   "id": "ec8639d0",
   "metadata": {
    "papermill": {
     "duration": 0.024083,
     "end_time": "2024-09-02T07:56:23.756035",
     "exception": false,
     "start_time": "2024-09-02T07:56:23.731952",
     "status": "completed"
    },
    "tags": []
   },
   "source": [
    "### Exercise 4: Matrix Transpose (Hard)\n",
    "Write a function that takes a 2D matrix (list of lists) and returns its transpose.\n"
   ]
  },
  {
   "cell_type": "code",
   "execution_count": 36,
   "id": "f58db4ac",
   "metadata": {
    "execution": {
     "iopub.execute_input": "2024-09-02T07:56:23.808156Z",
     "iopub.status.busy": "2024-09-02T07:56:23.807704Z",
     "iopub.status.idle": "2024-09-02T07:56:23.816227Z",
     "shell.execute_reply": "2024-09-02T07:56:23.814899Z"
    },
    "papermill": {
     "duration": 0.037383,
     "end_time": "2024-09-02T07:56:23.818943",
     "exception": false,
     "start_time": "2024-09-02T07:56:23.781560",
     "status": "completed"
    },
    "tags": []
   },
   "outputs": [
    {
     "name": "stdout",
     "output_type": "stream",
     "text": [
      "Transposed matrix: [[1, 4, 7], [2, 5, 8], [3, 6, 9]]\n"
     ]
    }
   ],
   "source": [
    "def transpose_matrix(matrix):\n",
    "    return [list(row) for row in zip(*matrix)]\n",
    "\n",
    "# Test the function\n",
    "matrix = [\n",
    "    [1, 2, 3],\n",
    "    [4, 5, 6],\n",
    "    [7, 8, 9]\n",
    "]\n",
    "print(\"Transposed matrix:\", transpose_matrix(matrix))\n"
   ]
  },
  {
   "cell_type": "markdown",
   "id": "aa11e470",
   "metadata": {
    "papermill": {
     "duration": 0.024235,
     "end_time": "2024-09-02T07:56:23.867709",
     "exception": false,
     "start_time": "2024-09-02T07:56:23.843474",
     "status": "completed"
    },
    "tags": []
   },
   "source": [
    "### Exercise 5: Caesar Cipher (Very Hard)\n",
    "Implement a Caesar cipher encryption. The function should take a string and a shift value and return the encrypted string.\n"
   ]
  },
  {
   "cell_type": "code",
   "execution_count": 37,
   "id": "f5da6a22",
   "metadata": {
    "execution": {
     "iopub.execute_input": "2024-09-02T07:56:23.918782Z",
     "iopub.status.busy": "2024-09-02T07:56:23.918302Z",
     "iopub.status.idle": "2024-09-02T07:56:23.926869Z",
     "shell.execute_reply": "2024-09-02T07:56:23.925700Z"
    },
    "papermill": {
     "duration": 0.037256,
     "end_time": "2024-09-02T07:56:23.929497",
     "exception": false,
     "start_time": "2024-09-02T07:56:23.892241",
     "status": "completed"
    },
    "tags": []
   },
   "outputs": [
    {
     "name": "stdout",
     "output_type": "stream",
     "text": [
      "Encrypted message: Khoor, Zruog!\n"
     ]
    }
   ],
   "source": [
    "def caesar_cipher(text, shift):\n",
    "    def shift_char(c):\n",
    "        if c.isalpha():\n",
    "            start = ord('A') if c.isupper() else ord('a')\n",
    "            return chr((ord(c) - start + shift) % 26 + start)\n",
    "        return c\n",
    "\n",
    "    return ''.join(shift_char(c) for c in text)\n",
    "\n",
    "# Test the function\n",
    "encrypted = caesar_cipher(\"Hello, World!\", 3)\n",
    "print(\"Encrypted message:\", encrypted)  # Output: \"Khoor, Zruog!\"\n"
   ]
  },
  {
   "cell_type": "markdown",
   "id": "c2701a0e",
   "metadata": {
    "papermill": {
     "duration": 0.024395,
     "end_time": "2024-09-02T07:56:23.978537",
     "exception": false,
     "start_time": "2024-09-02T07:56:23.954142",
     "status": "completed"
    },
    "tags": []
   },
   "source": [
    "## 🎉 **Conclusion**\n",
    "\n",
    "Congratulations on completing this in-depth journey through Python's built-in functions!\n",
    "\n",
    "Keep practicing and exploring, and remember that the best way to master these functions is to use them in real projects. Happy coding!\n"
   ]
  }
 ],
 "metadata": {
  "kaggle": {
   "accelerator": "none",
   "dataSources": [],
   "dockerImageVersionId": 30761,
   "isGpuEnabled": false,
   "isInternetEnabled": true,
   "language": "python",
   "sourceType": "notebook"
  },
  "kernelspec": {
   "display_name": "Python 3",
   "language": "python",
   "name": "python3"
  },
  "language_info": {
   "codemirror_mode": {
    "name": "ipython",
    "version": 3
   },
   "file_extension": ".py",
   "mimetype": "text/x-python",
   "name": "python",
   "nbconvert_exporter": "python",
   "pygments_lexer": "ipython3",
   "version": "3.10.14"
  },
  "papermill": {
   "default_parameters": {},
   "duration": 7.995113,
   "end_time": "2024-09-02T07:56:24.427953",
   "environment_variables": {},
   "exception": null,
   "input_path": "__notebook__.ipynb",
   "output_path": "__notebook__.ipynb",
   "parameters": {},
   "start_time": "2024-09-02T07:56:16.432840",
   "version": "2.6.0"
  }
 },
 "nbformat": 4,
 "nbformat_minor": 5
}
