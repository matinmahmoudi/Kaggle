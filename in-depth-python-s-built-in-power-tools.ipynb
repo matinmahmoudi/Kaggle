{
 "cells": [
  {
   "cell_type": "markdown",
   "id": "a4654865",
   "metadata": {
    "papermill": {
     "duration": 0.013585,
     "end_time": "2025-03-21T20:07:28.909559",
     "exception": false,
     "start_time": "2025-03-21T20:07:28.895974",
     "status": "completed"
    },
    "tags": []
   },
   "source": [
    "# 🌱 🛠️ **In Depth: Python's Built-in Power Tools**\n",
    "\n",
    "Welcome to the ultimate guide on Python's built-in functions. These functions are the backbone of Python programming, providing the essential tools needed for everything from simple scripts to complex applications. In this notebook, we'll explore an extensive list of these functions, diving deep into their use cases, nuances, and potential pitfalls.\n",
    "\n",
    "## What You'll Learn\n",
    "\n",
    "- **Information Retrieval**: Functions to explore and understand data types, objects, and code.\n",
    "- **Mathematical Operations**: Functions that handle everything from basic arithmetic to complex calculations.\n",
    "- **Data Manipulation**: Tools for sorting, filtering, and organizing your data.\n",
    "- **Iterators and Generators**: Mastering Python's powerful iteration mechanisms.\n",
    "- **Type Conversion**: Techniques for converting data between different formats.\n",
    "- **File I/O**: How to efficiently read from and write to files.\n",
    "- **Advanced Operations**: Exploring some of Python's more specialized built-in functions.\n",
    "- **Practice Exercises**: Challenging tasks to test and hone your skills.\n"
   ]
  },
  {
   "cell_type": "markdown",
   "id": "ad449649",
   "metadata": {
    "papermill": {
     "duration": 0.011485,
     "end_time": "2025-03-21T20:07:28.933438",
     "exception": false,
     "start_time": "2025-03-21T20:07:28.921953",
     "status": "completed"
    },
    "tags": []
   },
   "source": [
    "## 🔍 **Information Retrieval Functions**\n",
    "\n",
    "Understanding the objects and data you're working with is crucial in Python. These functions allow you to introspect and gather information, helping you debug, explore, and document your code effectively.\n",
    "\n",
    "### 1. `help()` - Your Personal Python Guide\n",
    "\n",
    "`help()` provides a quick reference to Python documentation. Use it whenever you're unsure about a function, class, or module.\n",
    "\n",
    "#### Example:\n"
   ]
  },
  {
   "cell_type": "code",
   "execution_count": 1,
   "id": "72202f40",
   "metadata": {
    "execution": {
     "iopub.execute_input": "2025-03-21T20:07:28.958954Z",
     "iopub.status.busy": "2025-03-21T20:07:28.958424Z",
     "iopub.status.idle": "2025-03-21T20:07:28.970390Z",
     "shell.execute_reply": "2025-03-21T20:07:28.969253Z"
    },
    "papermill": {
     "duration": 0.027751,
     "end_time": "2025-03-21T20:07:28.972955",
     "exception": false,
     "start_time": "2025-03-21T20:07:28.945204",
     "status": "completed"
    },
    "tags": []
   },
   "outputs": [
    {
     "name": "stdout",
     "output_type": "stream",
     "text": [
      "Help on class map in module builtins:\n",
      "\n",
      "class map(object)\n",
      " |  map(func, *iterables) --> map object\n",
      " |  \n",
      " |  Make an iterator that computes the function using arguments from\n",
      " |  each of the iterables.  Stops when the shortest iterable is exhausted.\n",
      " |  \n",
      " |  Methods defined here:\n",
      " |  \n",
      " |  __getattribute__(self, name, /)\n",
      " |      Return getattr(self, name).\n",
      " |  \n",
      " |  __iter__(self, /)\n",
      " |      Implement iter(self).\n",
      " |  \n",
      " |  __next__(self, /)\n",
      " |      Implement next(self).\n",
      " |  \n",
      " |  __reduce__(...)\n",
      " |      Return state information for pickling.\n",
      " |  \n",
      " |  ----------------------------------------------------------------------\n",
      " |  Static methods defined here:\n",
      " |  \n",
      " |  __new__(*args, **kwargs) from builtins.type\n",
      " |      Create and return a new object.  See help(type) for accurate signature.\n",
      "\n"
     ]
    }
   ],
   "source": [
    "# Using help to get documentation for the built-in map function\n",
    "help(map)"
   ]
  },
  {
   "cell_type": "markdown",
   "id": "420ea9f6",
   "metadata": {
    "papermill": {
     "duration": 0.012183,
     "end_time": "2025-03-21T20:07:28.997404",
     "exception": false,
     "start_time": "2025-03-21T20:07:28.985221",
     "status": "completed"
    },
    "tags": []
   },
   "source": [
    "### 2. `dir()` - Exploring Object Attributes\n",
    "\n",
    "`dir()` lists the attributes and methods of any object. It's a great tool for discovering what operations can be performed on an object.\n",
    "\n",
    "#### Example:\n"
   ]
  },
  {
   "cell_type": "code",
   "execution_count": 2,
   "id": "075e2368",
   "metadata": {
    "execution": {
     "iopub.execute_input": "2025-03-21T20:07:29.024336Z",
     "iopub.status.busy": "2025-03-21T20:07:29.023947Z",
     "iopub.status.idle": "2025-03-21T20:07:29.029446Z",
     "shell.execute_reply": "2025-03-21T20:07:29.028380Z"
    },
    "papermill": {
     "duration": 0.021416,
     "end_time": "2025-03-21T20:07:29.031564",
     "exception": false,
     "start_time": "2025-03-21T20:07:29.010148",
     "status": "completed"
    },
    "tags": []
   },
   "outputs": [
    {
     "name": "stdout",
     "output_type": "stream",
     "text": [
      "['__add__', '__class__', '__class_getitem__', '__contains__', '__delattr__', '__delitem__', '__dir__', '__doc__', '__eq__', '__format__', '__ge__', '__getattribute__', '__getitem__', '__gt__', '__hash__', '__iadd__', '__imul__', '__init__', '__init_subclass__', '__iter__', '__le__', '__len__', '__lt__', '__mul__', '__ne__', '__new__', '__reduce__', '__reduce_ex__', '__repr__', '__reversed__', '__rmul__', '__setattr__', '__setitem__', '__sizeof__', '__str__', '__subclasshook__', 'append', 'clear', 'copy', 'count', 'extend', 'index', 'insert', 'pop', 'remove', 'reverse', 'sort']\n"
     ]
    }
   ],
   "source": [
    "# Discovering the methods available for a list object\n",
    "print(dir([]))\n"
   ]
  },
  {
   "cell_type": "markdown",
   "id": "946e06eb",
   "metadata": {
    "papermill": {
     "duration": 0.011923,
     "end_time": "2025-03-21T20:07:29.056058",
     "exception": false,
     "start_time": "2025-03-21T20:07:29.044135",
     "status": "completed"
    },
    "tags": []
   },
   "source": [
    "### 3. `type()` and `id()` - Understanding Data Types and Identity\n",
    "\n",
    "- **`type()`**: Returns the type of an object. This is particularly useful for checking whether a variable is of a specific type.\n",
    "- **`id()`**: Returns the unique identifier for an object, which is its memory address. Understanding this helps in comprehending how Python manages object references.\n",
    "\n",
    "#### Example:\n"
   ]
  },
  {
   "cell_type": "code",
   "execution_count": 3,
   "id": "fc648dec",
   "metadata": {
    "execution": {
     "iopub.execute_input": "2025-03-21T20:07:29.082669Z",
     "iopub.status.busy": "2025-03-21T20:07:29.082334Z",
     "iopub.status.idle": "2025-03-21T20:07:29.088136Z",
     "shell.execute_reply": "2025-03-21T20:07:29.086978Z"
    },
    "papermill": {
     "duration": 0.021382,
     "end_time": "2025-03-21T20:07:29.090223",
     "exception": false,
     "start_time": "2025-03-21T20:07:29.068841",
     "status": "completed"
    },
    "tags": []
   },
   "outputs": [
    {
     "name": "stdout",
     "output_type": "stream",
     "text": [
      "Type: <class 'dict'>\n",
      "ID: 139056361511104\n"
     ]
    }
   ],
   "source": [
    "# Checking the type and memory address of a variable\n",
    "example_var = {\"key\": \"value\"}\n",
    "print(\"Type:\", type(example_var))\n",
    "print(\"ID:\", id(example_var))\n"
   ]
  },
  {
   "cell_type": "markdown",
   "id": "a5a47c1f",
   "metadata": {
    "papermill": {
     "duration": 0.011931,
     "end_time": "2025-03-21T20:07:29.115461",
     "exception": false,
     "start_time": "2025-03-21T20:07:29.103530",
     "status": "completed"
    },
    "tags": []
   },
   "source": [
    "### 4. `callable()` - Checking if an Object is Callable\n",
    "\n",
    "`callable()` checks if an object appears callable, like a function or method. This is useful for dynamic code where you need to verify that an object can be executed.\n",
    "\n",
    "#### Example:\n"
   ]
  },
  {
   "cell_type": "code",
   "execution_count": 4,
   "id": "27c41485",
   "metadata": {
    "execution": {
     "iopub.execute_input": "2025-03-21T20:07:29.141753Z",
     "iopub.status.busy": "2025-03-21T20:07:29.141401Z",
     "iopub.status.idle": "2025-03-21T20:07:29.146984Z",
     "shell.execute_reply": "2025-03-21T20:07:29.145876Z"
    },
    "papermill": {
     "duration": 0.021397,
     "end_time": "2025-03-21T20:07:29.149448",
     "exception": false,
     "start_time": "2025-03-21T20:07:29.128051",
     "status": "completed"
    },
    "tags": []
   },
   "outputs": [
    {
     "name": "stdout",
     "output_type": "stream",
     "text": [
      "Is example_function callable? True\n",
      "Is 42 callable? False\n"
     ]
    }
   ],
   "source": [
    "# Checking if an object is callable\n",
    "def example_function():\n",
    "    pass\n",
    "\n",
    "print(\"Is example_function callable?\", callable(example_function))\n",
    "print(\"Is 42 callable?\", callable(42))\n"
   ]
  },
  {
   "cell_type": "markdown",
   "id": "331b9da7",
   "metadata": {
    "papermill": {
     "duration": 0.012832,
     "end_time": "2025-03-21T20:07:29.175002",
     "exception": false,
     "start_time": "2025-03-21T20:07:29.162170",
     "status": "completed"
    },
    "tags": []
   },
   "source": [
    "### 5. `isinstance()` and `issubclass()` - Type Checking and Inheritance\n",
    "\n",
    "- **`isinstance()`**: Verifies if an object is an instance of a particular class or a tuple of classes.\n",
    "- **`issubclass()`**: Determines if a class is a subclass of another class.\n",
    "\n",
    "#### Example:\n"
   ]
  },
  {
   "cell_type": "code",
   "execution_count": 5,
   "id": "527906d1",
   "metadata": {
    "execution": {
     "iopub.execute_input": "2025-03-21T20:07:29.200717Z",
     "iopub.status.busy": "2025-03-21T20:07:29.200329Z",
     "iopub.status.idle": "2025-03-21T20:07:29.207095Z",
     "shell.execute_reply": "2025-03-21T20:07:29.205898Z"
    },
    "papermill": {
     "duration": 0.022253,
     "end_time": "2025-03-21T20:07:29.209374",
     "exception": false,
     "start_time": "2025-03-21T20:07:29.187121",
     "status": "completed"
    },
    "tags": []
   },
   "outputs": [
    {
     "name": "stdout",
     "output_type": "stream",
     "text": [
      "Is 42 an int? True\n",
      "Is 42 a float? False\n",
      "Is Dog a subclass of Animal? True\n"
     ]
    }
   ],
   "source": [
    "# Checking instances and subclass relationships\n",
    "print(\"Is 42 an int?\", isinstance(42, int))\n",
    "print(\"Is 42 a float?\", isinstance(42, float))\n",
    "\n",
    "class Animal:\n",
    "    pass\n",
    "\n",
    "class Dog(Animal):\n",
    "    pass\n",
    "\n",
    "print(\"Is Dog a subclass of Animal?\", issubclass(Dog, Animal))\n"
   ]
  },
  {
   "cell_type": "markdown",
   "id": "a4b2688d",
   "metadata": {
    "papermill": {
     "duration": 0.012504,
     "end_time": "2025-03-21T20:07:29.234440",
     "exception": false,
     "start_time": "2025-03-21T20:07:29.221936",
     "status": "completed"
    },
    "tags": []
   },
   "source": [
    "## **Mathematical Operations**\n",
    "\n",
    "Python offers a rich set of built-in functions to perform a variety of mathematical operations, from simple arithmetic to complex calculations."
   ]
  },
  {
   "cell_type": "markdown",
   "id": "b0177948",
   "metadata": {
    "papermill": {
     "duration": 0.012272,
     "end_time": "2025-03-21T20:07:29.259298",
     "exception": false,
     "start_time": "2025-03-21T20:07:29.247026",
     "status": "completed"
    },
    "tags": []
   },
   "source": [
    "\n",
    "\n",
    "### 1. `abs()` - Absolute Value\n",
    "\n",
    "`abs()` returns the absolute value of a number, which is useful in scenarios where only the magnitude matters.\n",
    "\n",
    "#### Example:\n"
   ]
  },
  {
   "cell_type": "code",
   "execution_count": 6,
   "id": "bc4db36e",
   "metadata": {
    "execution": {
     "iopub.execute_input": "2025-03-21T20:07:29.286888Z",
     "iopub.status.busy": "2025-03-21T20:07:29.286505Z",
     "iopub.status.idle": "2025-03-21T20:07:29.292218Z",
     "shell.execute_reply": "2025-03-21T20:07:29.291138Z"
    },
    "papermill": {
     "duration": 0.022904,
     "end_time": "2025-03-21T20:07:29.294659",
     "exception": false,
     "start_time": "2025-03-21T20:07:29.271755",
     "status": "completed"
    },
    "tags": []
   },
   "outputs": [
    {
     "name": "stdout",
     "output_type": "stream",
     "text": [
      "Absolute temperature difference: 15\n"
     ]
    }
   ],
   "source": [
    "# Calculating the absolute difference in temperatures\n",
    "temperature_morning = -5\n",
    "temperature_noon = 10\n",
    "print(\"Absolute temperature difference:\", abs(temperature_morning - temperature_noon))\n"
   ]
  },
  {
   "cell_type": "markdown",
   "id": "87543b12",
   "metadata": {
    "papermill": {
     "duration": 0.012441,
     "end_time": "2025-03-21T20:07:29.319582",
     "exception": false,
     "start_time": "2025-03-21T20:07:29.307141",
     "status": "completed"
    },
    "tags": []
   },
   "source": [
    "### 2. `round()` - Rounding Numbers\n",
    "\n",
    "`round()` rounds a floating-point number to a specified number of decimal places, which is commonly used in financial applications and when displaying results.\n",
    "\n",
    "#### Example:\n"
   ]
  },
  {
   "cell_type": "code",
   "execution_count": 7,
   "id": "e30433d7",
   "metadata": {
    "execution": {
     "iopub.execute_input": "2025-03-21T20:07:29.346494Z",
     "iopub.status.busy": "2025-03-21T20:07:29.346159Z",
     "iopub.status.idle": "2025-03-21T20:07:29.351709Z",
     "shell.execute_reply": "2025-03-21T20:07:29.350576Z"
    },
    "papermill": {
     "duration": 0.021339,
     "end_time": "2025-03-21T20:07:29.353923",
     "exception": false,
     "start_time": "2025-03-21T20:07:29.332584",
     "status": "completed"
    },
    "tags": []
   },
   "outputs": [
    {
     "name": "stdout",
     "output_type": "stream",
     "text": [
      "Rounded tax amount: 12.68\n"
     ]
    }
   ],
   "source": [
    "# Rounding off a calculated tax amount\n",
    "tax_amount = 12.6789\n",
    "print(\"Rounded tax amount:\", round(tax_amount, 2))\n"
   ]
  },
  {
   "cell_type": "markdown",
   "id": "4b3a6dd0",
   "metadata": {
    "papermill": {
     "duration": 0.011851,
     "end_time": "2025-03-21T20:07:29.378145",
     "exception": false,
     "start_time": "2025-03-21T20:07:29.366294",
     "status": "completed"
    },
    "tags": []
   },
   "source": [
    "### 3. `pow()` - Power Calculations\n",
    "\n",
    "`pow()` raises a number to a power. It also supports a third argument for modulus, making it essential in cryptography.\n",
    "\n",
    "#### Example:\n"
   ]
  },
  {
   "cell_type": "code",
   "execution_count": 8,
   "id": "78c36ada",
   "metadata": {
    "execution": {
     "iopub.execute_input": "2025-03-21T20:07:29.405126Z",
     "iopub.status.busy": "2025-03-21T20:07:29.404671Z",
     "iopub.status.idle": "2025-03-21T20:07:29.410519Z",
     "shell.execute_reply": "2025-03-21T20:07:29.409380Z"
    },
    "papermill": {
     "duration": 0.022639,
     "end_time": "2025-03-21T20:07:29.413009",
     "exception": false,
     "start_time": "2025-03-21T20:07:29.390370",
     "status": "completed"
    },
    "tags": []
   },
   "outputs": [
    {
     "name": "stdout",
     "output_type": "stream",
     "text": [
      "Population after 5 years: 16105100000\n"
     ]
    }
   ],
   "source": [
    "# Calculating exponential growth in a simulation\n",
    "initial_population = 100\n",
    "growth_factor = 1.1\n",
    "years = 5\n",
    "print(\"Population after 5 years:\", round(pow(initial_population * growth_factor, years)))\n"
   ]
  },
  {
   "cell_type": "markdown",
   "id": "93bcc6fb",
   "metadata": {
    "papermill": {
     "duration": 0.012185,
     "end_time": "2025-03-21T20:07:29.437604",
     "exception": false,
     "start_time": "2025-03-21T20:07:29.425419",
     "status": "completed"
    },
    "tags": []
   },
   "source": [
    "### 4. `min()` and `max()` - Finding Extremes\n",
    "\n",
    "These functions return the smallest and largest item in an iterable or from multiple arguments.\n",
    "\n",
    "#### Example:\n"
   ]
  },
  {
   "cell_type": "code",
   "execution_count": 9,
   "id": "0e09547e",
   "metadata": {
    "execution": {
     "iopub.execute_input": "2025-03-21T20:07:29.465873Z",
     "iopub.status.busy": "2025-03-21T20:07:29.465449Z",
     "iopub.status.idle": "2025-03-21T20:07:29.471277Z",
     "shell.execute_reply": "2025-03-21T20:07:29.470108Z"
    },
    "papermill": {
     "duration": 0.022412,
     "end_time": "2025-03-21T20:07:29.473425",
     "exception": false,
     "start_time": "2025-03-21T20:07:29.451013",
     "status": "completed"
    },
    "tags": []
   },
   "outputs": [
    {
     "name": "stdout",
     "output_type": "stream",
     "text": [
      "Maximum stock price: 145.0\n",
      "Minimum stock price: 110.0\n"
     ]
    }
   ],
   "source": [
    "# Finding the maximum and minimum stock prices\n",
    "stock_prices = [120.25, 130.75, 112.50, 145.00, 110.00]\n",
    "print(\"Maximum stock price:\", max(stock_prices))\n",
    "print(\"Minimum stock price:\", min(stock_prices))\n"
   ]
  },
  {
   "cell_type": "markdown",
   "id": "d1e209ed",
   "metadata": {
    "papermill": {
     "duration": 0.013181,
     "end_time": "2025-03-21T20:07:29.499246",
     "exception": false,
     "start_time": "2025-03-21T20:07:29.486065",
     "status": "completed"
    },
    "tags": []
   },
   "source": [
    "### 5. `sum()` - Adding Up\n",
    "\n",
    "`sum()` returns the total sum of items in an iterable, optionally adding a start value.\n",
    "\n",
    "#### Example:\n"
   ]
  },
  {
   "cell_type": "code",
   "execution_count": 10,
   "id": "ce2939ee",
   "metadata": {
    "execution": {
     "iopub.execute_input": "2025-03-21T20:07:29.526497Z",
     "iopub.status.busy": "2025-03-21T20:07:29.525826Z",
     "iopub.status.idle": "2025-03-21T20:07:29.531012Z",
     "shell.execute_reply": "2025-03-21T20:07:29.530050Z"
    },
    "papermill": {
     "duration": 0.021518,
     "end_time": "2025-03-21T20:07:29.533369",
     "exception": false,
     "start_time": "2025-03-21T20:07:29.511851",
     "status": "completed"
    },
    "tags": []
   },
   "outputs": [
    {
     "name": "stdout",
     "output_type": "stream",
     "text": [
      "Total cost: 67.42\n"
     ]
    }
   ],
   "source": [
    "# Calculating the total cost of items in a cart\n",
    "item_prices = [19.99, 29.95, 4.99, 12.49]\n",
    "print(\"Total cost:\", sum(item_prices))\n"
   ]
  },
  {
   "cell_type": "markdown",
   "id": "e418b3de",
   "metadata": {
    "papermill": {
     "duration": 0.014047,
     "end_time": "2025-03-21T20:07:29.559952",
     "exception": false,
     "start_time": "2025-03-21T20:07:29.545905",
     "status": "completed"
    },
    "tags": []
   },
   "source": [
    "### 6. `divmod()` - Quotient and Remainder\n",
    "\n",
    "`divmod()` returns a tuple containing the quotient and remainder when dividing two numbers. It's handy in scenarios where you need both results, such as in time calculations or pagination.\n",
    "\n",
    "#### Example:\n"
   ]
  },
  {
   "cell_type": "code",
   "execution_count": 11,
   "id": "d72aea2e",
   "metadata": {
    "execution": {
     "iopub.execute_input": "2025-03-21T20:07:29.587489Z",
     "iopub.status.busy": "2025-03-21T20:07:29.587114Z",
     "iopub.status.idle": "2025-03-21T20:07:29.592772Z",
     "shell.execute_reply": "2025-03-21T20:07:29.591793Z"
    },
    "papermill": {
     "duration": 0.021886,
     "end_time": "2025-03-21T20:07:29.595071",
     "exception": false,
     "start_time": "2025-03-21T20:07:29.573185",
     "status": "completed"
    },
    "tags": []
   },
   "outputs": [
    {
     "name": "stdout",
     "output_type": "stream",
     "text": [
      "2 hours and 10 minutes\n"
     ]
    }
   ],
   "source": [
    "# Calculating how many full hours and minutes are in a given time span\n",
    "total_minutes = 130\n",
    "hours, minutes = divmod(total_minutes, 60)\n",
    "print(f\"{hours} hours and {minutes} minutes\")\n"
   ]
  },
  {
   "cell_type": "markdown",
   "id": "1e29d077",
   "metadata": {
    "papermill": {
     "duration": 0.012738,
     "end_time": "2025-03-21T20:07:29.620629",
     "exception": false,
     "start_time": "2025-03-21T20:07:29.607891",
     "status": "completed"
    },
    "tags": []
   },
   "source": [
    "### 7. `complex()` - Working with Complex Numbers\n",
    "\n",
    "`complex()` creates a complex number, useful in scientific computing and simulations.\n",
    "\n",
    "#### Example:\n"
   ]
  },
  {
   "cell_type": "code",
   "execution_count": 12,
   "id": "afee5f87",
   "metadata": {
    "execution": {
     "iopub.execute_input": "2025-03-21T20:07:29.649141Z",
     "iopub.status.busy": "2025-03-21T20:07:29.648715Z",
     "iopub.status.idle": "2025-03-21T20:07:29.655094Z",
     "shell.execute_reply": "2025-03-21T20:07:29.653579Z"
    },
    "papermill": {
     "duration": 0.023324,
     "end_time": "2025-03-21T20:07:29.657434",
     "exception": false,
     "start_time": "2025-03-21T20:07:29.634110",
     "status": "completed"
    },
    "tags": []
   },
   "outputs": [
    {
     "name": "stdout",
     "output_type": "stream",
     "text": [
      "Complex wave: (3+0.5j)\n"
     ]
    }
   ],
   "source": [
    "# Representing a wave as a complex number\n",
    "wave_amplitude = 3\n",
    "wave_phase = 0.5\n",
    "complex_wave = complex(wave_amplitude, wave_phase)\n",
    "print(\"Complex wave:\", complex_wave)\n"
   ]
  },
  {
   "cell_type": "markdown",
   "id": "d12fea78",
   "metadata": {
    "papermill": {
     "duration": 0.012589,
     "end_time": "2025-03-21T20:07:29.682979",
     "exception": false,
     "start_time": "2025-03-21T20:07:29.670390",
     "status": "completed"
    },
    "tags": []
   },
   "source": [
    "## 🔄 **Data Manipulation**\n",
    "\n",
    "These functions help you efficiently manipulate data structures like lists, tuples, and dictionaries. They allow you to sort, filter, and transform your data with ease."
   ]
  },
  {
   "cell_type": "markdown",
   "id": "bc4f0b2f",
   "metadata": {
    "papermill": {
     "duration": 0.012221,
     "end_time": "2025-03-21T20:07:29.709339",
     "exception": false,
     "start_time": "2025-03-21T20:07:29.697118",
     "status": "completed"
    },
    "tags": []
   },
   "source": [
    "### 1. `len()` - Counting Elements\n",
    "\n",
    "`len()` returns the number of items in an object, such as a list, tuple, or string.\n",
    "\n",
    "#### Example:\n"
   ]
  },
  {
   "cell_type": "code",
   "execution_count": 13,
   "id": "3edb853c",
   "metadata": {
    "execution": {
     "iopub.execute_input": "2025-03-21T20:07:29.736154Z",
     "iopub.status.busy": "2025-03-21T20:07:29.735765Z",
     "iopub.status.idle": "2025-03-21T20:07:29.741265Z",
     "shell.execute_reply": "2025-03-21T20:07:29.740100Z"
    },
    "papermill": {
     "duration": 0.021881,
     "end_time": "2025-03-21T20:07:29.743782",
     "exception": false,
     "start_time": "2025-03-21T20:07:29.721901",
     "status": "completed"
    },
    "tags": []
   },
   "outputs": [
    {
     "name": "stdout",
     "output_type": "stream",
     "text": [
      "Number of books: 4\n"
     ]
    }
   ],
   "source": [
    "# Counting the number of books in a reading list\n",
    "reading_list = [\"1984\", \"To Kill a Mockingbird\", \"Moby Dick\", \"Pride and Prejudice\"]\n",
    "print(\"Number of books:\", len(reading_list))\n"
   ]
  },
  {
   "cell_type": "markdown",
   "id": "d82d1551",
   "metadata": {
    "papermill": {
     "duration": 0.012899,
     "end_time": "2025-03-21T20:07:29.770200",
     "exception": false,
     "start_time": "2025-03-21T20:07:29.757301",
     "status": "completed"
    },
    "tags": []
   },
   "source": [
    "### 2. `sorted()` - Sorting Data\n",
    "\n",
    "`sorted()` returns a new sorted list from the items in an iterable. You can also sort in reverse order.\n",
    "\n",
    "#### Example:\n"
   ]
  },
  {
   "cell_type": "code",
   "execution_count": 14,
   "id": "e38ac433",
   "metadata": {
    "execution": {
     "iopub.execute_input": "2025-03-21T20:07:29.797597Z",
     "iopub.status.busy": "2025-03-21T20:07:29.797221Z",
     "iopub.status.idle": "2025-03-21T20:07:29.803213Z",
     "shell.execute_reply": "2025-03-21T20:07:29.802149Z"
    },
    "papermill": {
     "duration": 0.022354,
     "end_time": "2025-03-21T20:07:29.805395",
     "exception": false,
     "start_time": "2025-03-21T20:07:29.783041",
     "status": "completed"
    },
    "tags": []
   },
   "outputs": [
    {
     "name": "stdout",
     "output_type": "stream",
     "text": [
      "Sorted grades: [92, 91, 88, 85, 79]\n"
     ]
    }
   ],
   "source": [
    "# Sorting student grades in descending order\n",
    "student_grades = [88, 92, 79, 85, 91]\n",
    "sorted_grades = sorted(student_grades, reverse=True)\n",
    "print(\"Sorted grades:\", sorted_grades)\n"
   ]
  },
  {
   "cell_type": "markdown",
   "id": "b25106b2",
   "metadata": {
    "papermill": {
     "duration": 0.012442,
     "end_time": "2025-03-21T20:07:29.830793",
     "exception": false,
     "start_time": "2025-03-21T20:07:29.818351",
     "status": "completed"
    },
    "tags": []
   },
   "source": [
    "### 3. `reversed()` - Reversing Sequences\n",
    "\n",
    "`reversed()` returns an iterator that accesses the given sequence in the reverse order.\n",
    "\n",
    "#### Example:\n"
   ]
  },
  {
   "cell_type": "code",
   "execution_count": 15,
   "id": "7057aef3",
   "metadata": {
    "execution": {
     "iopub.execute_input": "2025-03-21T20:07:29.857934Z",
     "iopub.status.busy": "2025-03-21T20:07:29.857516Z",
     "iopub.status.idle": "2025-03-21T20:07:29.863333Z",
     "shell.execute_reply": "2025-03-21T20:07:29.862157Z"
    },
    "papermill": {
     "duration": 0.021766,
     "end_time": "2025-03-21T20:07:29.865303",
     "exception": false,
     "start_time": "2025-03-21T20:07:29.843537",
     "status": "completed"
    },
    "tags": []
   },
   "outputs": [
    {
     "name": "stdout",
     "output_type": "stream",
     "text": [
      "Reversed actions: ['shoot', 'duck', 'run', 'jump']\n"
     ]
    }
   ],
   "source": [
    "# Reversing a list of player actions\n",
    "actions = [\"jump\", \"run\", \"duck\", \"shoot\"]\n",
    "print(\"Reversed actions:\", list(reversed(actions)))\n"
   ]
  },
  {
   "cell_type": "markdown",
   "id": "db31c2e4",
   "metadata": {
    "papermill": {
     "duration": 0.012537,
     "end_time": "2025-03-21T20:07:29.890767",
     "exception": false,
     "start_time": "2025-03-21T20:07:29.878230",
     "status": "completed"
    },
    "tags": []
   },
   "source": [
    "### 4. `enumerate()` - Counting with Enumeration\n",
    "\n",
    "`enumerate()` adds a counter to an iterable, returning it as an\n"
   ]
  },
  {
   "cell_type": "code",
   "execution_count": 16,
   "id": "1a8be585",
   "metadata": {
    "execution": {
     "iopub.execute_input": "2025-03-21T20:07:29.975902Z",
     "iopub.status.busy": "2025-03-21T20:07:29.975383Z",
     "iopub.status.idle": "2025-03-21T20:07:29.984256Z",
     "shell.execute_reply": "2025-03-21T20:07:29.981630Z"
    },
    "papermill": {
     "duration": 0.030625,
     "end_time": "2025-03-21T20:07:29.987159",
     "exception": false,
     "start_time": "2025-03-21T20:07:29.956534",
     "status": "completed"
    },
    "tags": []
   },
   "outputs": [
    {
     "name": "stdout",
     "output_type": "stream",
     "text": [
      "1: apples\n",
      "2: bananas\n",
      "3: carrots\n",
      "4: dates\n"
     ]
    }
   ],
   "source": [
    "# Enumerating items in a grocery list\n",
    "groceries = [\"apples\", \"bananas\", \"carrots\", \"dates\"]\n",
    "for index, item in enumerate(groceries, start=1):\n",
    "    print(f\"{index}: {item}\")"
   ]
  },
  {
   "cell_type": "markdown",
   "id": "b6f16755",
   "metadata": {
    "papermill": {
     "duration": 0.014303,
     "end_time": "2025-03-21T20:07:30.017145",
     "exception": false,
     "start_time": "2025-03-21T20:07:30.002842",
     "status": "completed"
    },
    "tags": []
   },
   "source": [
    "### 5. `zip()` - Combining Iterables\n",
    "\n",
    "`zip()` combines two or more iterables, producing tuples of their corresponding elements. This is particularly useful for pairing related data together.\n",
    "\n",
    "#### Example:\n"
   ]
  },
  {
   "cell_type": "code",
   "execution_count": 17,
   "id": "b744ca1d",
   "metadata": {
    "execution": {
     "iopub.execute_input": "2025-03-21T20:07:30.044419Z",
     "iopub.status.busy": "2025-03-21T20:07:30.044040Z",
     "iopub.status.idle": "2025-03-21T20:07:30.049645Z",
     "shell.execute_reply": "2025-03-21T20:07:30.048624Z"
    },
    "papermill": {
     "duration": 0.021736,
     "end_time": "2025-03-21T20:07:30.051665",
     "exception": false,
     "start_time": "2025-03-21T20:07:30.029929",
     "status": "completed"
    },
    "tags": []
   },
   "outputs": [
    {
     "name": "stdout",
     "output_type": "stream",
     "text": [
      "Friend-Color pairs: [('Alice', 'Blue'), ('Bob', 'Green'), ('Charlie', 'Red')]\n"
     ]
    }
   ],
   "source": [
    "# Pairing friends with their favorite colors\n",
    "friends = [\"Alice\", \"Bob\", \"Charlie\"]\n",
    "colors = [\"Blue\", \"Green\", \"Red\"]\n",
    "print(\"Friend-Color pairs:\", list(zip(friends, colors)))\n"
   ]
  },
  {
   "cell_type": "markdown",
   "id": "03bbd522",
   "metadata": {
    "papermill": {
     "duration": 0.013778,
     "end_time": "2025-03-21T20:07:30.078743",
     "exception": false,
     "start_time": "2025-03-21T20:07:30.064965",
     "status": "completed"
    },
    "tags": []
   },
   "source": [
    "### 6. `map()` - Applying Functions to Iterables\n",
    "\n",
    "`map()` applies a function to all items in an iterable. It's a concise way to transform data, like converting temperatures or applying discounts.\n",
    "\n",
    "#### Example:\n"
   ]
  },
  {
   "cell_type": "code",
   "execution_count": 18,
   "id": "54a0465c",
   "metadata": {
    "execution": {
     "iopub.execute_input": "2025-03-21T20:07:30.120409Z",
     "iopub.status.busy": "2025-03-21T20:07:30.119897Z",
     "iopub.status.idle": "2025-03-21T20:07:30.130206Z",
     "shell.execute_reply": "2025-03-21T20:07:30.129027Z"
    },
    "papermill": {
     "duration": 0.030308,
     "end_time": "2025-03-21T20:07:30.133508",
     "exception": false,
     "start_time": "2025-03-21T20:07:30.103200",
     "status": "completed"
    },
    "tags": []
   },
   "outputs": [
    {
     "name": "stdout",
     "output_type": "stream",
     "text": [
      "Discounted prices: [90.0, 135.0, 180.0, 45.0]\n"
     ]
    }
   ],
   "source": [
    "# Applying a discount to a list of prices\n",
    "prices = [100, 150, 200, 50]\n",
    "discount = 0.1\n",
    "\n",
    "discounted_prices = list(map(lambda price: price * (1 - discount), prices))\n",
    "print(\"Discounted prices:\", discounted_prices)\n"
   ]
  },
  {
   "cell_type": "markdown",
   "id": "3728f273",
   "metadata": {
    "papermill": {
     "duration": 0.019009,
     "end_time": "2025-03-21T20:07:30.172453",
     "exception": false,
     "start_time": "2025-03-21T20:07:30.153444",
     "status": "completed"
    },
    "tags": []
   },
   "source": [
    "### 7. `filter()` - Filtering Data\n",
    "\n",
    "`filter()` constructs an iterator from elements of an iterable for which a function returns `True`. It's useful for selecting items that meet certain criteria.\n",
    "\n",
    "#### Example:\n"
   ]
  },
  {
   "cell_type": "code",
   "execution_count": 19,
   "id": "b931f7de",
   "metadata": {
    "execution": {
     "iopub.execute_input": "2025-03-21T20:07:30.216334Z",
     "iopub.status.busy": "2025-03-21T20:07:30.214650Z",
     "iopub.status.idle": "2025-03-21T20:07:30.222962Z",
     "shell.execute_reply": "2025-03-21T20:07:30.221571Z"
    },
    "papermill": {
     "duration": 0.038321,
     "end_time": "2025-03-21T20:07:30.226589",
     "exception": false,
     "start_time": "2025-03-21T20:07:30.188268",
     "status": "completed"
    },
    "tags": []
   },
   "outputs": [
    {
     "name": "stdout",
     "output_type": "stream",
     "text": [
      "Students who passed: [72, 88, 67]\n"
     ]
    }
   ],
   "source": [
    "# Filtering out students who passed the exam\n",
    "grades = [55, 72, 88, 40, 67]\n",
    "passing_grade = 60\n",
    "\n",
    "passed_students = list(filter(lambda grade: grade >= passing_grade, grades))\n",
    "print(\"Students who passed:\", passed_students)\n"
   ]
  },
  {
   "cell_type": "markdown",
   "id": "26d33d1f",
   "metadata": {
    "papermill": {
     "duration": 0.014277,
     "end_time": "2025-03-21T20:07:30.254887",
     "exception": false,
     "start_time": "2025-03-21T20:07:30.240610",
     "status": "completed"
    },
    "tags": []
   },
   "source": [
    "### 8. `reduce()` - Reducing Data (from `functools`)\n",
    "\n",
    "`reduce()` applies a rolling computation to sequential pairs of values in a list. It's commonly used for aggregating data.\n",
    "\n",
    "#### Example:\n"
   ]
  },
  {
   "cell_type": "code",
   "execution_count": 20,
   "id": "5d71ce26",
   "metadata": {
    "execution": {
     "iopub.execute_input": "2025-03-21T20:07:30.283763Z",
     "iopub.status.busy": "2025-03-21T20:07:30.283394Z",
     "iopub.status.idle": "2025-03-21T20:07:30.289110Z",
     "shell.execute_reply": "2025-03-21T20:07:30.288069Z"
    },
    "papermill": {
     "duration": 0.023034,
     "end_time": "2025-03-21T20:07:30.291393",
     "exception": false,
     "start_time": "2025-03-21T20:07:30.268359",
     "status": "completed"
    },
    "tags": []
   },
   "outputs": [
    {
     "name": "stdout",
     "output_type": "stream",
     "text": [
      "Product of numbers: 120\n"
     ]
    }
   ],
   "source": [
    "from functools import reduce\n",
    "\n",
    "# Calculating the product of all numbers in a list\n",
    "numbers = [1, 2, 3, 4, 5]\n",
    "product = reduce(lambda x, y: x * y, numbers)\n",
    "print(\"Product of numbers:\", product)\n"
   ]
  },
  {
   "cell_type": "markdown",
   "id": "fe023398",
   "metadata": {
    "papermill": {
     "duration": 0.013226,
     "end_time": "2025-03-21T20:07:30.319839",
     "exception": false,
     "start_time": "2025-03-21T20:07:30.306613",
     "status": "completed"
    },
    "tags": []
   },
   "source": [
    "### 9. `all()` and `any()` - Checking Conditions\n",
    "\n",
    "- **`all()`** returns `True` if all elements of the iterable are true (or if the iterable is empty).\n",
    "- **`any()`** returns `True` if any element of the iterable is true. These functions are handy for validation checks.\n",
    "\n",
    "#### Example:\n"
   ]
  },
  {
   "cell_type": "code",
   "execution_count": 21,
   "id": "005adcd6",
   "metadata": {
    "execution": {
     "iopub.execute_input": "2025-03-21T20:07:30.348479Z",
     "iopub.status.busy": "2025-03-21T20:07:30.348086Z",
     "iopub.status.idle": "2025-03-21T20:07:30.354437Z",
     "shell.execute_reply": "2025-03-21T20:07:30.353199Z"
    },
    "papermill": {
     "duration": 0.023313,
     "end_time": "2025-03-21T20:07:30.356661",
     "exception": false,
     "start_time": "2025-03-21T20:07:30.333348",
     "status": "completed"
    },
    "tags": []
   },
   "outputs": [
    {
     "name": "stdout",
     "output_type": "stream",
     "text": [
      "Did all students pass? False\n",
      "Did any student score a perfect 100? False\n"
     ]
    }
   ],
   "source": [
    "# Checking if all students passed the exam\n",
    "grades = [55, 72, 88, 40, 67]\n",
    "\n",
    "print(\"Did all students pass?\", all(grade >= passing_grade for grade in grades))\n",
    "print(\"Did any student score a perfect 100?\", any(grade == 100 for grade in grades))\n"
   ]
  },
  {
   "cell_type": "markdown",
   "id": "30c148ad",
   "metadata": {
    "papermill": {
     "duration": 0.013059,
     "end_time": "2025-03-21T20:07:30.383202",
     "exception": false,
     "start_time": "2025-03-21T20:07:30.370143",
     "status": "completed"
    },
    "tags": []
   },
   "source": [
    "## **Iterators and Generators**\n",
    "\n",
    "Iterators and generators provide a powerful way to handle large datasets and create custom iteration behavior. They enable you to process data efficiently by generating items one at a time."
   ]
  },
  {
   "cell_type": "markdown",
   "id": "08654ed3",
   "metadata": {
    "papermill": {
     "duration": 0.015728,
     "end_time": "2025-03-21T20:07:30.417213",
     "exception": false,
     "start_time": "2025-03-21T20:07:30.401485",
     "status": "completed"
    },
    "tags": []
   },
   "source": [
    "### 1. `iter()` and `next()` - Manual Iteration\n",
    "\n",
    "- **`iter()`** converts an iterable into an iterator.\n",
    "- **`next()`** retrieves the next item from an iterator, and can also specify a default value to return if the iterator is exhausted.\n",
    "\n",
    "#### Example:\n"
   ]
  },
  {
   "cell_type": "code",
   "execution_count": 22,
   "id": "1398554c",
   "metadata": {
    "execution": {
     "iopub.execute_input": "2025-03-21T20:07:30.448459Z",
     "iopub.status.busy": "2025-03-21T20:07:30.447907Z",
     "iopub.status.idle": "2025-03-21T20:07:30.456131Z",
     "shell.execute_reply": "2025-03-21T20:07:30.454580Z"
    },
    "papermill": {
     "duration": 0.026631,
     "end_time": "2025-03-21T20:07:30.458827",
     "exception": false,
     "start_time": "2025-03-21T20:07:30.432196",
     "status": "completed"
    },
    "tags": []
   },
   "outputs": [
    {
     "name": "stdout",
     "output_type": "stream",
     "text": [
      "Next task: clean\n",
      "Next task: cook\n",
      "Next task: code\n"
     ]
    }
   ],
   "source": [
    "# Manually iterating over a list of tasks\n",
    "tasks = [\"clean\", \"cook\", \"code\"]\n",
    "task_iter = iter(tasks)\n",
    "\n",
    "print(\"Next task:\", next(task_iter))\n",
    "print(\"Next task:\", next(task_iter))\n",
    "print(\"Next task:\", next(task_iter))\n"
   ]
  },
  {
   "cell_type": "markdown",
   "id": "2dbf9b4e",
   "metadata": {
    "papermill": {
     "duration": 0.013325,
     "end_time": "2025-03-21T20:07:30.487407",
     "exception": false,
     "start_time": "2025-03-21T20:07:30.474082",
     "status": "completed"
    },
    "tags": []
   },
   "source": [
    "### 2. `yield` - Creating Generators\n",
    "\n",
    "`yield` is used in a function to create a generator. Generators allow you to iterate over a sequence of values, producing them one at a time and only when required.\n",
    "\n",
    "#### Example:\n"
   ]
  },
  {
   "cell_type": "code",
   "execution_count": 23,
   "id": "9f75ee68",
   "metadata": {
    "execution": {
     "iopub.execute_input": "2025-03-21T20:07:30.516985Z",
     "iopub.status.busy": "2025-03-21T20:07:30.516060Z",
     "iopub.status.idle": "2025-03-21T20:07:30.521950Z",
     "shell.execute_reply": "2025-03-21T20:07:30.520897Z"
    },
    "papermill": {
     "duration": 0.023939,
     "end_time": "2025-03-21T20:07:30.524885",
     "exception": false,
     "start_time": "2025-03-21T20:07:30.500946",
     "status": "completed"
    },
    "tags": []
   },
   "outputs": [
    {
     "name": "stdout",
     "output_type": "stream",
     "text": [
      "Even number: 0\n",
      "Even number: 2\n",
      "Even number: 4\n",
      "Even number: 6\n",
      "Even number: 8\n",
      "Even number: 10\n"
     ]
    }
   ],
   "source": [
    "# Generator to yield even numbers up to a limit\n",
    "def even_numbers(limit):\n",
    "    num = 0\n",
    "    while num <= limit:\n",
    "        yield num\n",
    "        num += 2\n",
    "\n",
    "for even in even_numbers(10):\n",
    "    print(\"Even number:\", even)\n"
   ]
  },
  {
   "cell_type": "markdown",
   "id": "de83e8df",
   "metadata": {
    "papermill": {
     "duration": 0.013287,
     "end_time": "2025-03-21T20:07:30.551697",
     "exception": false,
     "start_time": "2025-03-21T20:07:30.538410",
     "status": "completed"
    },
    "tags": []
   },
   "source": [
    "## **Type Conversion**\n",
    "\n",
    "These functions allow you to convert data from one type to another. This is crucial for tasks like handling user input, formatting output, or performing calculations."
   ]
  },
  {
   "cell_type": "markdown",
   "id": "235c8806",
   "metadata": {
    "papermill": {
     "duration": 0.013392,
     "end_time": "2025-03-21T20:07:30.579041",
     "exception": false,
     "start_time": "2025-03-21T20:07:30.565649",
     "status": "completed"
    },
    "tags": []
   },
   "source": [
    "### 1. `int()` and `float()` - Converting to Numbers\n",
    "\n",
    "- **`int()`** converts a number or string to an integer.\n",
    "- **`float()`** converts a number or string to a floating-point number.\n",
    "\n",
    "#### Example:\n"
   ]
  },
  {
   "cell_type": "code",
   "execution_count": 24,
   "id": "18c8252e",
   "metadata": {
    "execution": {
     "iopub.execute_input": "2025-03-21T20:07:30.608389Z",
     "iopub.status.busy": "2025-03-21T20:07:30.608006Z",
     "iopub.status.idle": "2025-03-21T20:07:30.614235Z",
     "shell.execute_reply": "2025-03-21T20:07:30.613124Z"
    },
    "papermill": {
     "duration": 0.022961,
     "end_time": "2025-03-21T20:07:30.616258",
     "exception": false,
     "start_time": "2025-03-21T20:07:30.593297",
     "status": "completed"
    },
    "tags": []
   },
   "outputs": [
    {
     "name": "stdout",
     "output_type": "stream",
     "text": [
      "As float: 3.14\n",
      "As integer: 3\n"
     ]
    }
   ],
   "source": [
    "# Converting a string input to numbers\n",
    "input_str = \"3.14\"\n",
    "converted_float = float(input_str)\n",
    "converted_int = int(float(input_str))  # Converting via float for decimal strings\n",
    "\n",
    "print(\"As float:\", converted_float)\n",
    "print(\"As integer:\", converted_int)\n"
   ]
  },
  {
   "cell_type": "markdown",
   "id": "c9f30946",
   "metadata": {
    "papermill": {
     "duration": 0.013201,
     "end_time": "2025-03-21T20:07:30.642915",
     "exception": false,
     "start_time": "2025-03-21T20:07:30.629714",
     "status": "completed"
    },
    "tags": []
   },
   "source": [
    "### 2. `str()` - Converting to String\n",
    "\n",
    "`str()` converts an object to its string representation, which is essential for output formatting.\n",
    "\n",
    "#### Example:\n"
   ]
  },
  {
   "cell_type": "code",
   "execution_count": 25,
   "id": "379b537c",
   "metadata": {
    "execution": {
     "iopub.execute_input": "2025-03-21T20:07:30.672116Z",
     "iopub.status.busy": "2025-03-21T20:07:30.671659Z",
     "iopub.status.idle": "2025-03-21T20:07:30.678023Z",
     "shell.execute_reply": "2025-03-21T20:07:30.676885Z"
    },
    "papermill": {
     "duration": 0.023216,
     "end_time": "2025-03-21T20:07:30.680344",
     "exception": false,
     "start_time": "2025-03-21T20:07:30.657128",
     "status": "completed"
    },
    "tags": []
   },
   "outputs": [
    {
     "name": "stdout",
     "output_type": "stream",
     "text": [
      "The current temperature is 23.5 degrees.\n"
     ]
    }
   ],
   "source": [
    "# Formatting a message for the user\n",
    "temperature = 23.5\n",
    "message = \"The current temperature is \" + str(temperature) + \" degrees.\"\n",
    "print(message)\n"
   ]
  },
  {
   "cell_type": "markdown",
   "id": "73b89dc7",
   "metadata": {
    "papermill": {
     "duration": 0.013072,
     "end_time": "2025-03-21T20:07:30.707193",
     "exception": false,
     "start_time": "2025-03-21T20:07:30.694121",
     "status": "completed"
    },
    "tags": []
   },
   "source": [
    "### 3. `bool()` - Converting to Boolean\n",
    "\n",
    "`bool()` converts a value to a Boolean (`True` or `False`). This is useful when you need to check conditions or validate data.\n",
    "\n",
    "#### Example:\n"
   ]
  },
  {
   "cell_type": "code",
   "execution_count": 26,
   "id": "acc8dd73",
   "metadata": {
    "execution": {
     "iopub.execute_input": "2025-03-21T20:07:30.736077Z",
     "iopub.status.busy": "2025-03-21T20:07:30.735656Z",
     "iopub.status.idle": "2025-03-21T20:07:30.741551Z",
     "shell.execute_reply": "2025-03-21T20:07:30.740291Z"
    },
    "papermill": {
     "duration": 0.023128,
     "end_time": "2025-03-21T20:07:30.743915",
     "exception": false,
     "start_time": "2025-03-21T20:07:30.720787",
     "status": "completed"
    },
    "tags": []
   },
   "outputs": [
    {
     "name": "stdout",
     "output_type": "stream",
     "text": [
      "Is the list empty? False\n"
     ]
    }
   ],
   "source": [
    "# Checking if a list of items is empty\n",
    "items = []\n",
    "print(\"Is the list empty?\", bool(items))\n"
   ]
  },
  {
   "cell_type": "markdown",
   "id": "90b3e0bf",
   "metadata": {
    "papermill": {
     "duration": 0.013968,
     "end_time": "2025-03-21T20:07:30.772417",
     "exception": false,
     "start_time": "2025-03-21T20:07:30.758449",
     "status": "completed"
    },
    "tags": []
   },
   "source": [
    "### 4. `bin()`, `hex()`, and `oct()` - Base Conversion\n",
    "\n",
    "- **`bin()`** converts an integer to a binary string.\n",
    "- **`hex()`** converts an integer to a hexadecimal string.\n",
    "- **`oct()`** converts an integer to an octal string.\n",
    "\n",
    "#### Example:\n"
   ]
  },
  {
   "cell_type": "code",
   "execution_count": 27,
   "id": "99179235",
   "metadata": {
    "execution": {
     "iopub.execute_input": "2025-03-21T20:07:30.801652Z",
     "iopub.status.busy": "2025-03-21T20:07:30.801290Z",
     "iopub.status.idle": "2025-03-21T20:07:30.807398Z",
     "shell.execute_reply": "2025-03-21T20:07:30.806176Z"
    },
    "papermill": {
     "duration": 0.023432,
     "end_time": "2025-03-21T20:07:30.809576",
     "exception": false,
     "start_time": "2025-03-21T20:07:30.786144",
     "status": "completed"
    },
    "tags": []
   },
   "outputs": [
    {
     "name": "stdout",
     "output_type": "stream",
     "text": [
      "Binary: 0b11111111\n",
      "Hexadecimal: 0xff\n",
      "Octal: 0o377\n"
     ]
    }
   ],
   "source": [
    "# Displaying a number in different bases\n",
    "number = 255\n",
    "print(\"Binary:\", bin(number))\n",
    "print(\"Hexadecimal:\", hex(number))\n",
    "print(\"Octal:\", oct(number))\n"
   ]
  },
  {
   "cell_type": "markdown",
   "id": "84e681d6",
   "metadata": {
    "papermill": {
     "duration": 0.013483,
     "end_time": "2025-03-21T20:07:30.837202",
     "exception": false,
     "start_time": "2025-03-21T20:07:30.823719",
     "status": "completed"
    },
    "tags": []
   },
   "source": [
    "### 5. `chr()` and `ord()` - Character and Unicode Conversion\n",
    "\n",
    "- **`chr()`** converts an integer to its corresponding Unicode character.\n",
    "- **`ord()`** converts a character to its corresponding Unicode code point.\n",
    "\n",
    "#### Example:\n"
   ]
  },
  {
   "cell_type": "code",
   "execution_count": 28,
   "id": "e6007e77",
   "metadata": {
    "execution": {
     "iopub.execute_input": "2025-03-21T20:07:30.866481Z",
     "iopub.status.busy": "2025-03-21T20:07:30.865675Z",
     "iopub.status.idle": "2025-03-21T20:07:30.871863Z",
     "shell.execute_reply": "2025-03-21T20:07:30.870758Z"
    },
    "papermill": {
     "duration": 0.023572,
     "end_time": "2025-03-21T20:07:30.874435",
     "exception": false,
     "start_time": "2025-03-21T20:07:30.850863",
     "status": "completed"
    },
    "tags": []
   },
   "outputs": [
    {
     "name": "stdout",
     "output_type": "stream",
     "text": [
      "Encrypted message: KHOOR\n"
     ]
    }
   ],
   "source": [
    "# Encrypting a message using basic character shifts\n",
    "message = \"HELLO\"\n",
    "encrypted_message = \"\".join([chr(ord(char) + 3) for char in message])\n",
    "print(\"Encrypted message:\", encrypted_message)\n"
   ]
  },
  {
   "cell_type": "markdown",
   "id": "d979ca14",
   "metadata": {
    "papermill": {
     "duration": 0.013206,
     "end_time": "2025-03-21T20:07:30.901376",
     "exception": false,
     "start_time": "2025-03-21T20:07:30.888170",
     "status": "completed"
    },
    "tags": []
   },
   "source": [
    "## **File I/O**\n",
    "\n",
    "Reading from and writing to files is a common task in Python. These built-in functions allow you to handle file operations efficiently.\n"
   ]
  },
  {
   "cell_type": "markdown",
   "id": "75edd2d3",
   "metadata": {
    "papermill": {
     "duration": 0.013384,
     "end_time": "2025-03-21T20:07:30.928417",
     "exception": false,
     "start_time": "2025-03-21T20:07:30.915033",
     "status": "completed"
    },
    "tags": []
   },
   "source": [
    "### 1. `open()` - Opening Files\n",
    "\n",
    "The `open()` function is used to open a file in a specified mode (read, write, append, etc.). It returns a file object, which provides methods to read from or write to the file.\n",
    "\n",
    "#### Example:\n"
   ]
  },
  {
   "cell_type": "code",
   "execution_count": 29,
   "id": "e8344efb",
   "metadata": {
    "execution": {
     "iopub.execute_input": "2025-03-21T20:07:30.957836Z",
     "iopub.status.busy": "2025-03-21T20:07:30.957423Z",
     "iopub.status.idle": "2025-03-21T20:07:30.964569Z",
     "shell.execute_reply": "2025-03-21T20:07:30.963147Z"
    },
    "papermill": {
     "duration": 0.024518,
     "end_time": "2025-03-21T20:07:30.967033",
     "exception": false,
     "start_time": "2025-03-21T20:07:30.942515",
     "status": "completed"
    },
    "tags": []
   },
   "outputs": [
    {
     "name": "stdout",
     "output_type": "stream",
     "text": [
      "File content:\n",
      " Hello, world!\n",
      "This is a test file.\n"
     ]
    }
   ],
   "source": [
    "# Writing to a text file\n",
    "with open('example.txt', 'w') as file:\n",
    "    file.write(\"Hello, world!\\n\")\n",
    "    file.write(\"This is a test file.\")\n",
    "\n",
    "# Reading from a text file\n",
    "with open('example.txt', 'r') as file:\n",
    "    content = file.read()\n",
    "    print(\"File content:\\n\", content)\n"
   ]
  },
  {
   "cell_type": "markdown",
   "id": "c729e69c",
   "metadata": {
    "papermill": {
     "duration": 0.014852,
     "end_time": "2025-03-21T20:07:30.996035",
     "exception": false,
     "start_time": "2025-03-21T20:07:30.981183",
     "status": "completed"
    },
    "tags": []
   },
   "source": [
    "### 2. `os` and `shutil` Modules - File Operations\n",
    "\n",
    "Beyond basic file reading and writing, Python's `os` and `shutil` modules provide more advanced file operations, such as copying, moving, and deleting files.\n",
    "\n",
    "#### Example:\n"
   ]
  },
  {
   "cell_type": "code",
   "execution_count": 30,
   "id": "83548d26",
   "metadata": {
    "execution": {
     "iopub.execute_input": "2025-03-21T20:07:31.026638Z",
     "iopub.status.busy": "2025-03-21T20:07:31.026282Z",
     "iopub.status.idle": "2025-03-21T20:07:31.033933Z",
     "shell.execute_reply": "2025-03-21T20:07:31.032509Z"
    },
    "papermill": {
     "duration": 0.025023,
     "end_time": "2025-03-21T20:07:31.036236",
     "exception": false,
     "start_time": "2025-03-21T20:07:31.011213",
     "status": "completed"
    },
    "tags": []
   },
   "outputs": [
    {
     "name": "stdout",
     "output_type": "stream",
     "text": [
      "Does the file exist? True\n",
      "File deleted.\n"
     ]
    }
   ],
   "source": [
    "import os\n",
    "import shutil\n",
    "\n",
    "# Copying a file\n",
    "shutil.copy('example.txt', 'example_copy.txt')\n",
    "\n",
    "# Renaming a file\n",
    "os.rename('example_copy.txt', 'renamed_example.txt')\n",
    "\n",
    "# Checking if the file exists\n",
    "print(\"Does the file exist?\", os.path.exists('renamed_example.txt'))\n",
    "\n",
    "# Deleting the file\n",
    "os.remove('renamed_example.txt')\n",
    "print(\"File deleted.\")\n"
   ]
  },
  {
   "cell_type": "markdown",
   "id": "e2a9c79b",
   "metadata": {
    "papermill": {
     "duration": 0.01394,
     "end_time": "2025-03-21T20:07:31.064061",
     "exception": false,
     "start_time": "2025-03-21T20:07:31.050121",
     "status": "completed"
    },
    "tags": []
   },
   "source": [
    "## **Advanced Operations**\n",
    "\n",
    "Python also offers some advanced built-in functions that allow you to execute code dynamically, evaluate expressions, and work with more complex data structures."
   ]
  },
  {
   "cell_type": "markdown",
   "id": "9713c6d2",
   "metadata": {
    "papermill": {
     "duration": 0.013875,
     "end_time": "2025-03-21T20:07:31.092228",
     "exception": false,
     "start_time": "2025-03-21T20:07:31.078353",
     "status": "completed"
    },
    "tags": []
   },
   "source": [
    "### 1. `eval()` and `exec()` - Dynamic Code Execution\n",
    "\n",
    "- **`eval()`** evaluates a string as a Python expression and returns the result.\n",
    "- **`exec()`** executes dynamic Python code but does not return a value.\n",
    "\n",
    "#### Example:\n"
   ]
  },
  {
   "cell_type": "code",
   "execution_count": 31,
   "id": "5b5a1f11",
   "metadata": {
    "execution": {
     "iopub.execute_input": "2025-03-21T20:07:31.121307Z",
     "iopub.status.busy": "2025-03-21T20:07:31.120963Z",
     "iopub.status.idle": "2025-03-21T20:07:31.126880Z",
     "shell.execute_reply": "2025-03-21T20:07:31.125888Z"
    },
    "papermill": {
     "duration": 0.023344,
     "end_time": "2025-03-21T20:07:31.129206",
     "exception": false,
     "start_time": "2025-03-21T20:07:31.105862",
     "status": "completed"
    },
    "tags": []
   },
   "outputs": [
    {
     "name": "stdout",
     "output_type": "stream",
     "text": [
      "Result of eval: 8\n",
      "Iteration 0\n",
      "Iteration 1\n",
      "Iteration 2\n"
     ]
    }
   ],
   "source": [
    "# Evaluating a mathematical expression from a string\n",
    "expression = \"2 + 2 * 3\"\n",
    "result = eval(expression)\n",
    "print(\"Result of eval:\", result)\n",
    "\n",
    "# Executing a code block from a string\n",
    "code_block = \"\"\"\n",
    "for i in range(3):\n",
    "    print(\"Iteration\", i)\n",
    "\"\"\"\n",
    "exec(code_block)\n"
   ]
  },
  {
   "cell_type": "markdown",
   "id": "18d78ebb",
   "metadata": {
    "papermill": {
     "duration": 0.013383,
     "end_time": "2025-03-21T20:07:31.156969",
     "exception": false,
     "start_time": "2025-03-21T20:07:31.143586",
     "status": "completed"
    },
    "tags": []
   },
   "source": [
    "### 2. `locals()` and `globals()` - Accessing Local and Global Variables\n",
    "\n",
    "- **`locals()`** returns a dictionary representing the current local symbol table.\n",
    "- **`globals()`** returns a dictionary representing the global symbol table.\n",
    "\n",
    "#### Example:\n"
   ]
  },
  {
   "cell_type": "code",
   "execution_count": 32,
   "id": "2ec2de97",
   "metadata": {
    "execution": {
     "iopub.execute_input": "2025-03-21T20:07:31.187488Z",
     "iopub.status.busy": "2025-03-21T20:07:31.187123Z",
     "iopub.status.idle": "2025-03-21T20:07:31.193907Z",
     "shell.execute_reply": "2025-03-21T20:07:31.192472Z"
    },
    "papermill": {
     "duration": 0.025254,
     "end_time": "2025-03-21T20:07:31.196361",
     "exception": false,
     "start_time": "2025-03-21T20:07:31.171107",
     "status": "completed"
    },
    "tags": []
   },
   "outputs": [
    {
     "name": "stdout",
     "output_type": "stream",
     "text": [
      "Local variables: {'y': 5}\n",
      "Global variables: dict_keys(['__name__', '__doc__', '__package__', '__loader__', '__spec__', '__builtin__', '__builtins__', '_ih', '_oh', '_dh', 'In', 'Out', 'get_ipython', 'exit', 'quit', 'open', '_', '__', '___', '_i', '_ii', '_iii', '_i1', '_i2', '_i3', 'example_var', '_i4', 'example_function', '_i5', 'Animal', 'Dog', '_i6', 'temperature_morning', 'temperature_noon', '_i7', 'tax_amount', '_i8', 'initial_population', 'growth_factor', 'years', '_i9', 'stock_prices', '_i10', 'item_prices', '_i11', 'total_minutes', 'hours', 'minutes', '_i12', 'wave_amplitude', 'wave_phase', 'complex_wave', '_i13', 'reading_list', '_i14', 'student_grades', 'sorted_grades', '_i15', 'actions', '_i16', 'groceries', 'index', 'item', '_i17', 'friends', 'colors', '_i18', 'prices', 'discount', 'discounted_prices', '_i19', 'grades', 'passing_grade', 'passed_students', '_i20', 'reduce', 'numbers', 'product', '_i21', '_i22', 'tasks', 'task_iter', '_i23', 'even_numbers', 'even', '_i24', 'input_str', 'converted_float', 'converted_int', '_i25', 'temperature', 'message', '_i26', 'items', '_i27', 'number', '_i28', 'encrypted_message', '_i29', 'file', 'content', '_i30', 'os', 'shutil', '_i31', 'expression', 'result', 'code_block', 'i', '_i32', 'x'])\n"
     ]
    }
   ],
   "source": [
    "# Accessing local and global variables\n",
    "x = 10\n",
    "\n",
    "def example_function():\n",
    "    y = 5\n",
    "    print(\"Local variables:\", locals())\n",
    "\n",
    "example_function()\n",
    "print(\"Global variables:\", globals().keys())\n"
   ]
  },
  {
   "cell_type": "markdown",
   "id": "58829917",
   "metadata": {
    "papermill": {
     "duration": 0.013676,
     "end_time": "2025-03-21T20:07:31.224170",
     "exception": false,
     "start_time": "2025-03-21T20:07:31.210494",
     "status": "completed"
    },
    "tags": []
   },
   "source": [
    "## **Practice Exercises**\n",
    "\n",
    "Now that you've explored the built-in functions, it's time to put your knowledge to the test with some fun and challenging exercises. These tasks will help solidify your understanding and give you practical experience.\n"
   ]
  },
  {
   "cell_type": "markdown",
   "id": "55a256e9",
   "metadata": {
    "papermill": {
     "duration": 0.014181,
     "end_time": "2025-03-21T20:07:31.252395",
     "exception": false,
     "start_time": "2025-03-21T20:07:31.238214",
     "status": "completed"
    },
    "tags": []
   },
   "source": [
    "### Exercise 1: Sum of Digits (Easy)\n",
    "Write a function that takes a number as input and returns the sum of its digits.\n"
   ]
  },
  {
   "cell_type": "code",
   "execution_count": 33,
   "id": "22b5e93b",
   "metadata": {
    "execution": {
     "iopub.execute_input": "2025-03-21T20:07:31.281746Z",
     "iopub.status.busy": "2025-03-21T20:07:31.281411Z",
     "iopub.status.idle": "2025-03-21T20:07:31.287615Z",
     "shell.execute_reply": "2025-03-21T20:07:31.286430Z"
    },
    "papermill": {
     "duration": 0.023457,
     "end_time": "2025-03-21T20:07:31.289651",
     "exception": false,
     "start_time": "2025-03-21T20:07:31.266194",
     "status": "completed"
    },
    "tags": []
   },
   "outputs": [
    {
     "name": "stdout",
     "output_type": "stream",
     "text": [
      "Sum of digits of 12345: 15\n"
     ]
    }
   ],
   "source": [
    "def sum_of_digits(number):\n",
    "    return sum(int(digit) for digit in str(number))\n",
    "\n",
    "# Test the function\n",
    "print(\"Sum of digits of 12345:\", sum_of_digits(12345))  # Output: 15\n"
   ]
  },
  {
   "cell_type": "markdown",
   "id": "19d7abbb",
   "metadata": {
    "papermill": {
     "duration": 0.013557,
     "end_time": "2025-03-21T20:07:31.317727",
     "exception": false,
     "start_time": "2025-03-21T20:07:31.304170",
     "status": "completed"
    },
    "tags": []
   },
   "source": [
    "### Exercise 2: Filter Even Numbers (Medium)\n",
    "Given a list of integers, filter out the even numbers and return the result.\n"
   ]
  },
  {
   "cell_type": "code",
   "execution_count": 34,
   "id": "423babe9",
   "metadata": {
    "execution": {
     "iopub.execute_input": "2025-03-21T20:07:31.347568Z",
     "iopub.status.busy": "2025-03-21T20:07:31.347171Z",
     "iopub.status.idle": "2025-03-21T20:07:31.353249Z",
     "shell.execute_reply": "2025-03-21T20:07:31.352233Z"
    },
    "papermill": {
     "duration": 0.023474,
     "end_time": "2025-03-21T20:07:31.355367",
     "exception": false,
     "start_time": "2025-03-21T20:07:31.331893",
     "status": "completed"
    },
    "tags": []
   },
   "outputs": [
    {
     "name": "stdout",
     "output_type": "stream",
     "text": [
      "Even numbers: [2, 4, 6]\n"
     ]
    }
   ],
   "source": [
    "def filter_even_numbers(numbers):\n",
    "    return list(filter(lambda x: x % 2 == 0, numbers))\n",
    "\n",
    "# Test the function\n",
    "print(\"Even numbers:\", filter_even_numbers([1, 2, 3, 4, 5, 6]))  # Output: [2, 4, 6]\n"
   ]
  },
  {
   "cell_type": "markdown",
   "id": "dd00e951",
   "metadata": {
    "papermill": {
     "duration": 0.013796,
     "end_time": "2025-03-21T20:07:31.383250",
     "exception": false,
     "start_time": "2025-03-21T20:07:31.369454",
     "status": "completed"
    },
    "tags": []
   },
   "source": [
    "### Exercise 3: Find the Longest Word (Medium)\n",
    "Given a sentence, find and return the longest word.\n"
   ]
  },
  {
   "cell_type": "code",
   "execution_count": 35,
   "id": "f2771e05",
   "metadata": {
    "execution": {
     "iopub.execute_input": "2025-03-21T20:07:31.413090Z",
     "iopub.status.busy": "2025-03-21T20:07:31.412581Z",
     "iopub.status.idle": "2025-03-21T20:07:31.419007Z",
     "shell.execute_reply": "2025-03-21T20:07:31.417663Z"
    },
    "papermill": {
     "duration": 0.024161,
     "end_time": "2025-03-21T20:07:31.421521",
     "exception": false,
     "start_time": "2025-03-21T20:07:31.397360",
     "status": "completed"
    },
    "tags": []
   },
   "outputs": [
    {
     "name": "stdout",
     "output_type": "stream",
     "text": [
      "Longest word: programming\n"
     ]
    }
   ],
   "source": [
    "def find_longest_word(sentence):\n",
    "    words = sentence.split()\n",
    "    return max(words, key=len)\n",
    "\n",
    "# Test the function\n",
    "print(\"Longest word:\", find_longest_word(\"Python programming is both fun and educational\"))  # Output: \"programming\"\n"
   ]
  },
  {
   "cell_type": "markdown",
   "id": "96896acd",
   "metadata": {
    "papermill": {
     "duration": 0.013903,
     "end_time": "2025-03-21T20:07:31.450009",
     "exception": false,
     "start_time": "2025-03-21T20:07:31.436106",
     "status": "completed"
    },
    "tags": []
   },
   "source": [
    "### Exercise 4: Matrix Transpose (Hard)\n",
    "Write a function that takes a 2D matrix (list of lists) and returns its transpose.\n"
   ]
  },
  {
   "cell_type": "code",
   "execution_count": 36,
   "id": "747348ab",
   "metadata": {
    "execution": {
     "iopub.execute_input": "2025-03-21T20:07:31.480182Z",
     "iopub.status.busy": "2025-03-21T20:07:31.479674Z",
     "iopub.status.idle": "2025-03-21T20:07:31.486463Z",
     "shell.execute_reply": "2025-03-21T20:07:31.485268Z"
    },
    "papermill": {
     "duration": 0.024663,
     "end_time": "2025-03-21T20:07:31.489153",
     "exception": false,
     "start_time": "2025-03-21T20:07:31.464490",
     "status": "completed"
    },
    "tags": []
   },
   "outputs": [
    {
     "name": "stdout",
     "output_type": "stream",
     "text": [
      "Transposed matrix: [[1, 4, 7], [2, 5, 8], [3, 6, 9]]\n"
     ]
    }
   ],
   "source": [
    "def transpose_matrix(matrix):\n",
    "    return [list(row) for row in zip(*matrix)]\n",
    "\n",
    "# Test the function\n",
    "matrix = [\n",
    "    [1, 2, 3],\n",
    "    [4, 5, 6],\n",
    "    [7, 8, 9]\n",
    "]\n",
    "print(\"Transposed matrix:\", transpose_matrix(matrix))\n"
   ]
  },
  {
   "cell_type": "markdown",
   "id": "232f28b4",
   "metadata": {
    "papermill": {
     "duration": 0.013845,
     "end_time": "2025-03-21T20:07:31.518059",
     "exception": false,
     "start_time": "2025-03-21T20:07:31.504214",
     "status": "completed"
    },
    "tags": []
   },
   "source": [
    "### Exercise 5: Caesar Cipher (Very Hard)\n",
    "Implement a Caesar cipher encryption. The function should take a string and a shift value and return the encrypted string.\n"
   ]
  },
  {
   "cell_type": "code",
   "execution_count": 37,
   "id": "65d0bab7",
   "metadata": {
    "execution": {
     "iopub.execute_input": "2025-03-21T20:07:31.548636Z",
     "iopub.status.busy": "2025-03-21T20:07:31.547781Z",
     "iopub.status.idle": "2025-03-21T20:07:31.554300Z",
     "shell.execute_reply": "2025-03-21T20:07:31.553236Z"
    },
    "papermill": {
     "duration": 0.0243,
     "end_time": "2025-03-21T20:07:31.556768",
     "exception": false,
     "start_time": "2025-03-21T20:07:31.532468",
     "status": "completed"
    },
    "tags": []
   },
   "outputs": [
    {
     "name": "stdout",
     "output_type": "stream",
     "text": [
      "Encrypted message: Khoor, Zruog!\n"
     ]
    }
   ],
   "source": [
    "def caesar_cipher(text, shift):\n",
    "    def shift_char(c):\n",
    "        if c.isalpha():\n",
    "            start = ord('A') if c.isupper() else ord('a')\n",
    "            return chr((ord(c) - start + shift) % 26 + start)\n",
    "        return c\n",
    "\n",
    "    return ''.join(shift_char(c) for c in text)\n",
    "\n",
    "# Test the function\n",
    "encrypted = caesar_cipher(\"Hello, World!\", 3)\n",
    "print(\"Encrypted message:\", encrypted)  # Output: \"Khoor, Zruog!\"\n"
   ]
  },
  {
   "cell_type": "markdown",
   "id": "97783f73",
   "metadata": {
    "papermill": {
     "duration": 0.014222,
     "end_time": "2025-03-21T20:07:31.585621",
     "exception": false,
     "start_time": "2025-03-21T20:07:31.571399",
     "status": "completed"
    },
    "tags": []
   },
   "source": [
    "## 🎉 **Conclusion**\n",
    "\n",
    "Congratulations on completing this in-depth journey through Python's built-in functions!\n",
    "\n",
    "Keep practicing and exploring, and remember that the best way to master these functions is to use them in real projects. Happy coding!\n"
   ]
  }
 ],
 "metadata": {
  "kaggle": {
   "accelerator": "none",
   "dataSources": [],
   "dockerImageVersionId": 30761,
   "isGpuEnabled": false,
   "isInternetEnabled": true,
   "language": "python",
   "sourceType": "notebook"
  },
  "kernelspec": {
   "display_name": "Python 3",
   "language": "python",
   "name": "python3"
  },
  "language_info": {
   "codemirror_mode": {
    "name": "ipython",
    "version": 3
   },
   "file_extension": ".py",
   "mimetype": "text/x-python",
   "name": "python",
   "nbconvert_exporter": "python",
   "pygments_lexer": "ipython3",
   "version": "3.10.14"
  },
  "papermill": {
   "default_parameters": {},
   "duration": 6.464433,
   "end_time": "2025-03-21T20:07:32.021658",
   "environment_variables": {},
   "exception": null,
   "input_path": "__notebook__.ipynb",
   "output_path": "__notebook__.ipynb",
   "parameters": {},
   "start_time": "2025-03-21T20:07:25.557225",
   "version": "2.6.0"
  }
 },
 "nbformat": 4,
 "nbformat_minor": 5
}
